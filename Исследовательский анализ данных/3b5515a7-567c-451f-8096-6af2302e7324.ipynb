{
 "cells": [
  {
   "cell_type": "markdown",
   "metadata": {
    "toc": true
   },
   "source": [
    "<h1>Содержание<span class=\"tocSkip\"></span></h1>\n",
    "<div class=\"toc\"><ul class=\"toc-item\"><li><ul class=\"toc-item\"><li><span><a href=\"#Обратная-связь\" data-toc-modified-id=\"Обратная-связь-0.1\"><span class=\"toc-item-num\">0.1&nbsp;&nbsp;</span><span style=\"color: orange\">Обратная связь</span></a></span></li></ul></li><li><span><a href=\"#Изучение-данных-из-файла\" data-toc-modified-id=\"Изучение-данных-из-файла-1\"><span class=\"toc-item-num\">1&nbsp;&nbsp;</span>Изучение данных из файла</a></span><ul class=\"toc-item\"><li><span><a href=\"#Вывод\" data-toc-modified-id=\"Вывод-1.1\"><span class=\"toc-item-num\">1.1&nbsp;&nbsp;</span>Вывод</a></span></li></ul></li><li><span><a href=\"#Предобработка-данных\" data-toc-modified-id=\"Предобработка-данных-2\"><span class=\"toc-item-num\">2&nbsp;&nbsp;</span>Предобработка данных</a></span><ul class=\"toc-item\"><li><span><a href=\"#kitchen-area\" data-toc-modified-id=\"kitchen-area-2.1\"><span class=\"toc-item-num\">2.1&nbsp;&nbsp;</span>kitchen area</a></span></li><li><span><a href=\"#cityCenters-nearest\" data-toc-modified-id=\"cityCenters-nearest-2.2\"><span class=\"toc-item-num\">2.2&nbsp;&nbsp;</span>cityCenters nearest</a></span></li><li><span><a href=\"#first-day-exposition\" data-toc-modified-id=\"first-day-exposition-2.3\"><span class=\"toc-item-num\">2.3&nbsp;&nbsp;</span>first day exposition</a></span></li><li><span><a href=\"#floors-total\" data-toc-modified-id=\"floors-total-2.4\"><span class=\"toc-item-num\">2.4&nbsp;&nbsp;</span>floors total</a></span></li><li><span><a href=\"#locality-name\" data-toc-modified-id=\"locality-name-2.5\"><span class=\"toc-item-num\">2.5&nbsp;&nbsp;</span>locality name</a></span></li><li><span><a href=\"#balcony\" data-toc-modified-id=\"balcony-2.6\"><span class=\"toc-item-num\">2.6&nbsp;&nbsp;</span>balcony</a></span></li><li><span><a href=\"#is-apartment\" data-toc-modified-id=\"is-apartment-2.7\"><span class=\"toc-item-num\">2.7&nbsp;&nbsp;</span>is apartment</a></span></li><li><span><a href=\"#parks-around3000\" data-toc-modified-id=\"parks-around3000-2.8\"><span class=\"toc-item-num\">2.8&nbsp;&nbsp;</span>parks around3000</a></span></li><li><span><a href=\"#ponds-around3000\" data-toc-modified-id=\"ponds-around3000-2.9\"><span class=\"toc-item-num\">2.9&nbsp;&nbsp;</span>ponds around3000</a></span></li><li><span><a href=\"#days-exposition\" data-toc-modified-id=\"days-exposition-2.10\"><span class=\"toc-item-num\">2.10&nbsp;&nbsp;</span>days exposition</a></span></li></ul></li><li><span><a href=\"#Расчёты-и-добавление-результатов-в-таблицу\" data-toc-modified-id=\"Расчёты-и-добавление-результатов-в-таблицу-3\"><span class=\"toc-item-num\">3&nbsp;&nbsp;</span>Расчёты и добавление результатов в таблицу</a></span><ul class=\"toc-item\"><li><span><a href=\"#square-meter-area\" data-toc-modified-id=\"square-meter-area-3.1\"><span class=\"toc-item-num\">3.1&nbsp;&nbsp;</span>square meter area</a></span></li><li><span><a href=\"#date\" data-toc-modified-id=\"date-3.2\"><span class=\"toc-item-num\">3.2&nbsp;&nbsp;</span>date</a></span></li><li><span><a href=\"#floor-category\" data-toc-modified-id=\"floor-category-3.3\"><span class=\"toc-item-num\">3.3&nbsp;&nbsp;</span>floor category</a></span></li><li><span><a href=\"#living-area-ratio\" data-toc-modified-id=\"living-area-ratio-3.4\"><span class=\"toc-item-num\">3.4&nbsp;&nbsp;</span>living area ratio</a></span></li></ul></li><li><span><a href=\"#Исследовательский-анализ-данных\" data-toc-modified-id=\"Исследовательский-анализ-данных-4\"><span class=\"toc-item-num\">4&nbsp;&nbsp;</span>Исследовательский анализ данных</a></span><ul class=\"toc-item\"><li><span><a href=\"#\" data-toc-modified-id=\"-4.1\"><span class=\"toc-item-num\">4.1&nbsp;&nbsp;</span></a></span></li><li><span><a href=\"#\" data-toc-modified-id=\"-4.2\"><span class=\"toc-item-num\">4.2&nbsp;&nbsp;</span></a></span></li><li><span><a href=\"#\" data-toc-modified-id=\"-4.3\"><span class=\"toc-item-num\">4.3&nbsp;&nbsp;</span></a></span></li><li><span><a href=\"#\" data-toc-modified-id=\"-4.4\"><span class=\"toc-item-num\">4.4&nbsp;&nbsp;</span></a></span></li><li><span><a href=\"#\" data-toc-modified-id=\"-4.5\"><span class=\"toc-item-num\">4.5&nbsp;&nbsp;</span></a></span></li><li><span><a href=\"#\" data-toc-modified-id=\"-4.6\"><span class=\"toc-item-num\">4.6&nbsp;&nbsp;</span></a></span></li><li><span><a href=\"#\" data-toc-modified-id=\"-4.7\"><span class=\"toc-item-num\">4.7&nbsp;&nbsp;</span></a></span></li></ul></li><li><span><a href=\"#Общий-вывод\" data-toc-modified-id=\"Общий-вывод-5\"><span class=\"toc-item-num\">5&nbsp;&nbsp;</span>Общий вывод</a></span></li><li><span><a href=\"#Чек-лист-готовности-проекта\" data-toc-modified-id=\"Чек-лист-готовности-проекта-6\"><span class=\"toc-item-num\">6&nbsp;&nbsp;</span>Чек-лист готовности проекта</a></span></li></ul></div>"
   ]
  },
  {
   "cell_type": "markdown",
   "metadata": {},
   "source": [
    "# Исследование объявлений о продаже квартир\n",
    "\n",
    "В вашем распоряжении данные сервиса Яндекс.Недвижимость — архив объявлений о продаже квартир в Санкт-Петербурге и соседних населённых пунктах за несколько лет. Нужно научиться определять рыночную стоимость объектов недвижимости. Ваша задача — установить параметры. Это позволит построить автоматизированную систему: она отследит аномалии и мошенническую деятельность. \n",
    "\n",
    "По каждой квартире на продажу доступны два вида данных. Первые вписаны пользователем, вторые получены автоматически на основе картографических данных. Например, расстояние до центра, аэропорта, ближайшего парка и водоёма. \n",
    "\n",
    "<b>Описание данных:</b>\n",
    "<li>airports_nearest — расстояние до ближайшего аэропорта в метрах (м)</li>\n",
    "<li>balcony — число балконов</li>\n",
    "<li>ceiling_height — высота потолков (м)</li>\n",
    "<li>cityCenters_nearest — расстояние до центра города (м)</li>\n",
    "<li>days_exposition — сколько дней было размещено объявление (от публикации до снятия)</li>\n",
    "<li>first_day_exposition — дата публикации</li>\n",
    "<li>floor — этаж</li>\n",
    "<li>floors_total — всего этажей в доме</li>\n",
    "<li>is_apartment — апартаменты (булев тип)</li>\n",
    "<li>kitchen_area — площадь кухни в квадратных метрах (м²)</li>\n",
    "<li>last_price — цена на момент снятия с публикации</li>\n",
    "<li>living_area — жилая площадь в квадратных метрах (м²)</li>\n",
    "<li>locality_name — название населённого пункта</li>\n",
    "<li>open_plan — свободная планировка (булев тип)</li>\n",
    "<li>parks_around3000 — число парков в радиусе 3 км</li>\n",
    "<li>parks_nearest — расстояние до ближайшего парка (м)</li>\n",
    "<li>ponds_around3000 — число водоёмов в радиусе 3 км</li>\n",
    "<li>ponds_nearest — расстояние до ближайшего водоёма (м)</li>\n",
    "<li>rooms — число комнат</li>\n",
    "<li>studio — квартира-студия (булев тип)</li>\n",
    "<li>total_area — площадь квартиры в квадратных метрах (м²)</li>\n",
    "<li>total_images — число фотографий квартиры в объявлении</li>"
   ]
  },
  {
   "cell_type": "markdown",
   "metadata": {},
   "source": [
    "## Изучение данных из файла"
   ]
  },
  {
   "cell_type": "code",
   "execution_count": 1,
   "metadata": {
    "scrolled": true
   },
   "outputs": [
    {
     "data": {
      "text/html": [
       "<div>\n",
       "<style scoped>\n",
       "    .dataframe tbody tr th:only-of-type {\n",
       "        vertical-align: middle;\n",
       "    }\n",
       "\n",
       "    .dataframe tbody tr th {\n",
       "        vertical-align: top;\n",
       "    }\n",
       "\n",
       "    .dataframe thead th {\n",
       "        text-align: right;\n",
       "    }\n",
       "</style>\n",
       "<table border=\"1\" class=\"dataframe\">\n",
       "  <thead>\n",
       "    <tr style=\"text-align: right;\">\n",
       "      <th></th>\n",
       "      <th>total_images</th>\n",
       "      <th>last_price</th>\n",
       "      <th>total_area</th>\n",
       "      <th>first_day_exposition</th>\n",
       "      <th>rooms</th>\n",
       "      <th>ceiling_height</th>\n",
       "      <th>floors_total</th>\n",
       "      <th>living_area</th>\n",
       "      <th>floor</th>\n",
       "      <th>is_apartment</th>\n",
       "      <th>studio</th>\n",
       "      <th>open_plan</th>\n",
       "      <th>kitchen_area</th>\n",
       "      <th>balcony</th>\n",
       "      <th>locality_name</th>\n",
       "      <th>airports_nearest</th>\n",
       "      <th>cityCenters_nearest</th>\n",
       "      <th>parks_around3000</th>\n",
       "      <th>parks_nearest</th>\n",
       "      <th>ponds_around3000</th>\n",
       "      <th>ponds_nearest</th>\n",
       "      <th>days_exposition</th>\n",
       "    </tr>\n",
       "  </thead>\n",
       "  <tbody>\n",
       "    <tr>\n",
       "      <td>0</td>\n",
       "      <td>20</td>\n",
       "      <td>13000000.0</td>\n",
       "      <td>108.00</td>\n",
       "      <td>2019-03-07T00:00:00</td>\n",
       "      <td>3</td>\n",
       "      <td>2.70</td>\n",
       "      <td>16.0</td>\n",
       "      <td>51.0</td>\n",
       "      <td>8</td>\n",
       "      <td>NaN</td>\n",
       "      <td>False</td>\n",
       "      <td>False</td>\n",
       "      <td>25.00</td>\n",
       "      <td>NaN</td>\n",
       "      <td>Санкт-Петербург</td>\n",
       "      <td>18863.0</td>\n",
       "      <td>16028.0</td>\n",
       "      <td>1.0</td>\n",
       "      <td>482.0</td>\n",
       "      <td>2.0</td>\n",
       "      <td>755.0</td>\n",
       "      <td>NaN</td>\n",
       "    </tr>\n",
       "    <tr>\n",
       "      <td>1</td>\n",
       "      <td>7</td>\n",
       "      <td>3350000.0</td>\n",
       "      <td>40.40</td>\n",
       "      <td>2018-12-04T00:00:00</td>\n",
       "      <td>1</td>\n",
       "      <td>NaN</td>\n",
       "      <td>11.0</td>\n",
       "      <td>18.6</td>\n",
       "      <td>1</td>\n",
       "      <td>NaN</td>\n",
       "      <td>False</td>\n",
       "      <td>False</td>\n",
       "      <td>11.00</td>\n",
       "      <td>2.0</td>\n",
       "      <td>посёлок Шушары</td>\n",
       "      <td>12817.0</td>\n",
       "      <td>18603.0</td>\n",
       "      <td>0.0</td>\n",
       "      <td>NaN</td>\n",
       "      <td>0.0</td>\n",
       "      <td>NaN</td>\n",
       "      <td>81.0</td>\n",
       "    </tr>\n",
       "    <tr>\n",
       "      <td>2</td>\n",
       "      <td>10</td>\n",
       "      <td>5196000.0</td>\n",
       "      <td>56.00</td>\n",
       "      <td>2015-08-20T00:00:00</td>\n",
       "      <td>2</td>\n",
       "      <td>NaN</td>\n",
       "      <td>5.0</td>\n",
       "      <td>34.3</td>\n",
       "      <td>4</td>\n",
       "      <td>NaN</td>\n",
       "      <td>False</td>\n",
       "      <td>False</td>\n",
       "      <td>8.30</td>\n",
       "      <td>0.0</td>\n",
       "      <td>Санкт-Петербург</td>\n",
       "      <td>21741.0</td>\n",
       "      <td>13933.0</td>\n",
       "      <td>1.0</td>\n",
       "      <td>90.0</td>\n",
       "      <td>2.0</td>\n",
       "      <td>574.0</td>\n",
       "      <td>558.0</td>\n",
       "    </tr>\n",
       "    <tr>\n",
       "      <td>3</td>\n",
       "      <td>0</td>\n",
       "      <td>64900000.0</td>\n",
       "      <td>159.00</td>\n",
       "      <td>2015-07-24T00:00:00</td>\n",
       "      <td>3</td>\n",
       "      <td>NaN</td>\n",
       "      <td>14.0</td>\n",
       "      <td>NaN</td>\n",
       "      <td>9</td>\n",
       "      <td>NaN</td>\n",
       "      <td>False</td>\n",
       "      <td>False</td>\n",
       "      <td>NaN</td>\n",
       "      <td>0.0</td>\n",
       "      <td>Санкт-Петербург</td>\n",
       "      <td>28098.0</td>\n",
       "      <td>6800.0</td>\n",
       "      <td>2.0</td>\n",
       "      <td>84.0</td>\n",
       "      <td>3.0</td>\n",
       "      <td>234.0</td>\n",
       "      <td>424.0</td>\n",
       "    </tr>\n",
       "    <tr>\n",
       "      <td>4</td>\n",
       "      <td>2</td>\n",
       "      <td>10000000.0</td>\n",
       "      <td>100.00</td>\n",
       "      <td>2018-06-19T00:00:00</td>\n",
       "      <td>2</td>\n",
       "      <td>3.03</td>\n",
       "      <td>14.0</td>\n",
       "      <td>32.0</td>\n",
       "      <td>13</td>\n",
       "      <td>NaN</td>\n",
       "      <td>False</td>\n",
       "      <td>False</td>\n",
       "      <td>41.00</td>\n",
       "      <td>NaN</td>\n",
       "      <td>Санкт-Петербург</td>\n",
       "      <td>31856.0</td>\n",
       "      <td>8098.0</td>\n",
       "      <td>2.0</td>\n",
       "      <td>112.0</td>\n",
       "      <td>1.0</td>\n",
       "      <td>48.0</td>\n",
       "      <td>121.0</td>\n",
       "    </tr>\n",
       "    <tr>\n",
       "      <td>...</td>\n",
       "      <td>...</td>\n",
       "      <td>...</td>\n",
       "      <td>...</td>\n",
       "      <td>...</td>\n",
       "      <td>...</td>\n",
       "      <td>...</td>\n",
       "      <td>...</td>\n",
       "      <td>...</td>\n",
       "      <td>...</td>\n",
       "      <td>...</td>\n",
       "      <td>...</td>\n",
       "      <td>...</td>\n",
       "      <td>...</td>\n",
       "      <td>...</td>\n",
       "      <td>...</td>\n",
       "      <td>...</td>\n",
       "      <td>...</td>\n",
       "      <td>...</td>\n",
       "      <td>...</td>\n",
       "      <td>...</td>\n",
       "      <td>...</td>\n",
       "      <td>...</td>\n",
       "    </tr>\n",
       "    <tr>\n",
       "      <td>23694</td>\n",
       "      <td>9</td>\n",
       "      <td>9700000.0</td>\n",
       "      <td>133.81</td>\n",
       "      <td>2017-03-21T00:00:00</td>\n",
       "      <td>3</td>\n",
       "      <td>3.70</td>\n",
       "      <td>5.0</td>\n",
       "      <td>73.3</td>\n",
       "      <td>3</td>\n",
       "      <td>NaN</td>\n",
       "      <td>False</td>\n",
       "      <td>False</td>\n",
       "      <td>13.83</td>\n",
       "      <td>NaN</td>\n",
       "      <td>Санкт-Петербург</td>\n",
       "      <td>24665.0</td>\n",
       "      <td>4232.0</td>\n",
       "      <td>1.0</td>\n",
       "      <td>796.0</td>\n",
       "      <td>3.0</td>\n",
       "      <td>381.0</td>\n",
       "      <td>NaN</td>\n",
       "    </tr>\n",
       "    <tr>\n",
       "      <td>23695</td>\n",
       "      <td>14</td>\n",
       "      <td>3100000.0</td>\n",
       "      <td>59.00</td>\n",
       "      <td>2018-01-15T00:00:00</td>\n",
       "      <td>3</td>\n",
       "      <td>NaN</td>\n",
       "      <td>5.0</td>\n",
       "      <td>38.0</td>\n",
       "      <td>4</td>\n",
       "      <td>NaN</td>\n",
       "      <td>False</td>\n",
       "      <td>False</td>\n",
       "      <td>8.50</td>\n",
       "      <td>NaN</td>\n",
       "      <td>Тосно</td>\n",
       "      <td>NaN</td>\n",
       "      <td>NaN</td>\n",
       "      <td>NaN</td>\n",
       "      <td>NaN</td>\n",
       "      <td>NaN</td>\n",
       "      <td>NaN</td>\n",
       "      <td>45.0</td>\n",
       "    </tr>\n",
       "    <tr>\n",
       "      <td>23696</td>\n",
       "      <td>18</td>\n",
       "      <td>2500000.0</td>\n",
       "      <td>56.70</td>\n",
       "      <td>2018-02-11T00:00:00</td>\n",
       "      <td>2</td>\n",
       "      <td>NaN</td>\n",
       "      <td>3.0</td>\n",
       "      <td>29.7</td>\n",
       "      <td>1</td>\n",
       "      <td>NaN</td>\n",
       "      <td>False</td>\n",
       "      <td>False</td>\n",
       "      <td>NaN</td>\n",
       "      <td>NaN</td>\n",
       "      <td>село Рождествено</td>\n",
       "      <td>NaN</td>\n",
       "      <td>NaN</td>\n",
       "      <td>NaN</td>\n",
       "      <td>NaN</td>\n",
       "      <td>NaN</td>\n",
       "      <td>NaN</td>\n",
       "      <td>NaN</td>\n",
       "    </tr>\n",
       "    <tr>\n",
       "      <td>23697</td>\n",
       "      <td>13</td>\n",
       "      <td>11475000.0</td>\n",
       "      <td>76.75</td>\n",
       "      <td>2017-03-28T00:00:00</td>\n",
       "      <td>2</td>\n",
       "      <td>3.00</td>\n",
       "      <td>17.0</td>\n",
       "      <td>NaN</td>\n",
       "      <td>12</td>\n",
       "      <td>NaN</td>\n",
       "      <td>False</td>\n",
       "      <td>False</td>\n",
       "      <td>23.30</td>\n",
       "      <td>2.0</td>\n",
       "      <td>Санкт-Петербург</td>\n",
       "      <td>39140.0</td>\n",
       "      <td>10364.0</td>\n",
       "      <td>2.0</td>\n",
       "      <td>173.0</td>\n",
       "      <td>3.0</td>\n",
       "      <td>196.0</td>\n",
       "      <td>602.0</td>\n",
       "    </tr>\n",
       "    <tr>\n",
       "      <td>23698</td>\n",
       "      <td>4</td>\n",
       "      <td>1350000.0</td>\n",
       "      <td>32.30</td>\n",
       "      <td>2017-07-21T00:00:00</td>\n",
       "      <td>1</td>\n",
       "      <td>2.50</td>\n",
       "      <td>5.0</td>\n",
       "      <td>12.3</td>\n",
       "      <td>1</td>\n",
       "      <td>NaN</td>\n",
       "      <td>False</td>\n",
       "      <td>False</td>\n",
       "      <td>9.00</td>\n",
       "      <td>NaN</td>\n",
       "      <td>поселок Новый Учхоз</td>\n",
       "      <td>NaN</td>\n",
       "      <td>NaN</td>\n",
       "      <td>NaN</td>\n",
       "      <td>NaN</td>\n",
       "      <td>NaN</td>\n",
       "      <td>NaN</td>\n",
       "      <td>NaN</td>\n",
       "    </tr>\n",
       "  </tbody>\n",
       "</table>\n",
       "<p>23699 rows × 22 columns</p>\n",
       "</div>"
      ],
      "text/plain": [
       "       total_images  last_price  total_area first_day_exposition  rooms  \\\n",
       "0                20  13000000.0      108.00  2019-03-07T00:00:00      3   \n",
       "1                 7   3350000.0       40.40  2018-12-04T00:00:00      1   \n",
       "2                10   5196000.0       56.00  2015-08-20T00:00:00      2   \n",
       "3                 0  64900000.0      159.00  2015-07-24T00:00:00      3   \n",
       "4                 2  10000000.0      100.00  2018-06-19T00:00:00      2   \n",
       "...             ...         ...         ...                  ...    ...   \n",
       "23694             9   9700000.0      133.81  2017-03-21T00:00:00      3   \n",
       "23695            14   3100000.0       59.00  2018-01-15T00:00:00      3   \n",
       "23696            18   2500000.0       56.70  2018-02-11T00:00:00      2   \n",
       "23697            13  11475000.0       76.75  2017-03-28T00:00:00      2   \n",
       "23698             4   1350000.0       32.30  2017-07-21T00:00:00      1   \n",
       "\n",
       "       ceiling_height  floors_total  living_area  floor is_apartment  studio  \\\n",
       "0                2.70          16.0         51.0      8          NaN   False   \n",
       "1                 NaN          11.0         18.6      1          NaN   False   \n",
       "2                 NaN           5.0         34.3      4          NaN   False   \n",
       "3                 NaN          14.0          NaN      9          NaN   False   \n",
       "4                3.03          14.0         32.0     13          NaN   False   \n",
       "...               ...           ...          ...    ...          ...     ...   \n",
       "23694            3.70           5.0         73.3      3          NaN   False   \n",
       "23695             NaN           5.0         38.0      4          NaN   False   \n",
       "23696             NaN           3.0         29.7      1          NaN   False   \n",
       "23697            3.00          17.0          NaN     12          NaN   False   \n",
       "23698            2.50           5.0         12.3      1          NaN   False   \n",
       "\n",
       "       open_plan  kitchen_area  balcony        locality_name  \\\n",
       "0          False         25.00      NaN      Санкт-Петербург   \n",
       "1          False         11.00      2.0       посёлок Шушары   \n",
       "2          False          8.30      0.0      Санкт-Петербург   \n",
       "3          False           NaN      0.0      Санкт-Петербург   \n",
       "4          False         41.00      NaN      Санкт-Петербург   \n",
       "...          ...           ...      ...                  ...   \n",
       "23694      False         13.83      NaN      Санкт-Петербург   \n",
       "23695      False          8.50      NaN                Тосно   \n",
       "23696      False           NaN      NaN     село Рождествено   \n",
       "23697      False         23.30      2.0      Санкт-Петербург   \n",
       "23698      False          9.00      NaN  поселок Новый Учхоз   \n",
       "\n",
       "       airports_nearest  cityCenters_nearest  parks_around3000  parks_nearest  \\\n",
       "0               18863.0              16028.0               1.0          482.0   \n",
       "1               12817.0              18603.0               0.0            NaN   \n",
       "2               21741.0              13933.0               1.0           90.0   \n",
       "3               28098.0               6800.0               2.0           84.0   \n",
       "4               31856.0               8098.0               2.0          112.0   \n",
       "...                 ...                  ...               ...            ...   \n",
       "23694           24665.0               4232.0               1.0          796.0   \n",
       "23695               NaN                  NaN               NaN            NaN   \n",
       "23696               NaN                  NaN               NaN            NaN   \n",
       "23697           39140.0              10364.0               2.0          173.0   \n",
       "23698               NaN                  NaN               NaN            NaN   \n",
       "\n",
       "       ponds_around3000  ponds_nearest  days_exposition  \n",
       "0                   2.0          755.0              NaN  \n",
       "1                   0.0            NaN             81.0  \n",
       "2                   2.0          574.0            558.0  \n",
       "3                   3.0          234.0            424.0  \n",
       "4                   1.0           48.0            121.0  \n",
       "...                 ...            ...              ...  \n",
       "23694               3.0          381.0              NaN  \n",
       "23695               NaN            NaN             45.0  \n",
       "23696               NaN            NaN              NaN  \n",
       "23697               3.0          196.0            602.0  \n",
       "23698               NaN            NaN              NaN  \n",
       "\n",
       "[23699 rows x 22 columns]"
      ]
     },
     "metadata": {},
     "output_type": "display_data"
    },
    {
     "data": {
      "text/html": [
       "<div>\n",
       "<style scoped>\n",
       "    .dataframe tbody tr th:only-of-type {\n",
       "        vertical-align: middle;\n",
       "    }\n",
       "\n",
       "    .dataframe tbody tr th {\n",
       "        vertical-align: top;\n",
       "    }\n",
       "\n",
       "    .dataframe thead th {\n",
       "        text-align: right;\n",
       "    }\n",
       "</style>\n",
       "<table border=\"1\" class=\"dataframe\">\n",
       "  <thead>\n",
       "    <tr style=\"text-align: right;\">\n",
       "      <th></th>\n",
       "      <th>total_images</th>\n",
       "      <th>last_price</th>\n",
       "      <th>total_area</th>\n",
       "      <th>first_day_exposition</th>\n",
       "      <th>rooms</th>\n",
       "      <th>ceiling_height</th>\n",
       "      <th>floors_total</th>\n",
       "      <th>living_area</th>\n",
       "      <th>floor</th>\n",
       "      <th>is_apartment</th>\n",
       "      <th>studio</th>\n",
       "      <th>open_plan</th>\n",
       "      <th>kitchen_area</th>\n",
       "      <th>balcony</th>\n",
       "      <th>locality_name</th>\n",
       "      <th>airports_nearest</th>\n",
       "      <th>cityCenters_nearest</th>\n",
       "      <th>parks_around3000</th>\n",
       "      <th>parks_nearest</th>\n",
       "      <th>ponds_around3000</th>\n",
       "      <th>ponds_nearest</th>\n",
       "      <th>days_exposition</th>\n",
       "    </tr>\n",
       "  </thead>\n",
       "  <tbody>\n",
       "    <tr>\n",
       "      <td>0</td>\n",
       "      <td>20</td>\n",
       "      <td>13000000.0</td>\n",
       "      <td>108.00</td>\n",
       "      <td>2019-03-07T00:00:00</td>\n",
       "      <td>3</td>\n",
       "      <td>2.70</td>\n",
       "      <td>16.0</td>\n",
       "      <td>51.00</td>\n",
       "      <td>8</td>\n",
       "      <td>NaN</td>\n",
       "      <td>False</td>\n",
       "      <td>False</td>\n",
       "      <td>25.00</td>\n",
       "      <td>NaN</td>\n",
       "      <td>Санкт-Петербург</td>\n",
       "      <td>18863.0</td>\n",
       "      <td>16028.0</td>\n",
       "      <td>1.0</td>\n",
       "      <td>482.0</td>\n",
       "      <td>2.0</td>\n",
       "      <td>755.0</td>\n",
       "      <td>NaN</td>\n",
       "    </tr>\n",
       "    <tr>\n",
       "      <td>1</td>\n",
       "      <td>7</td>\n",
       "      <td>3350000.0</td>\n",
       "      <td>40.40</td>\n",
       "      <td>2018-12-04T00:00:00</td>\n",
       "      <td>1</td>\n",
       "      <td>NaN</td>\n",
       "      <td>11.0</td>\n",
       "      <td>18.60</td>\n",
       "      <td>1</td>\n",
       "      <td>NaN</td>\n",
       "      <td>False</td>\n",
       "      <td>False</td>\n",
       "      <td>11.00</td>\n",
       "      <td>2.0</td>\n",
       "      <td>посёлок Шушары</td>\n",
       "      <td>12817.0</td>\n",
       "      <td>18603.0</td>\n",
       "      <td>0.0</td>\n",
       "      <td>NaN</td>\n",
       "      <td>0.0</td>\n",
       "      <td>NaN</td>\n",
       "      <td>81.0</td>\n",
       "    </tr>\n",
       "    <tr>\n",
       "      <td>2</td>\n",
       "      <td>10</td>\n",
       "      <td>5196000.0</td>\n",
       "      <td>56.00</td>\n",
       "      <td>2015-08-20T00:00:00</td>\n",
       "      <td>2</td>\n",
       "      <td>NaN</td>\n",
       "      <td>5.0</td>\n",
       "      <td>34.30</td>\n",
       "      <td>4</td>\n",
       "      <td>NaN</td>\n",
       "      <td>False</td>\n",
       "      <td>False</td>\n",
       "      <td>8.30</td>\n",
       "      <td>0.0</td>\n",
       "      <td>Санкт-Петербург</td>\n",
       "      <td>21741.0</td>\n",
       "      <td>13933.0</td>\n",
       "      <td>1.0</td>\n",
       "      <td>90.0</td>\n",
       "      <td>2.0</td>\n",
       "      <td>574.0</td>\n",
       "      <td>558.0</td>\n",
       "    </tr>\n",
       "    <tr>\n",
       "      <td>3</td>\n",
       "      <td>0</td>\n",
       "      <td>64900000.0</td>\n",
       "      <td>159.00</td>\n",
       "      <td>2015-07-24T00:00:00</td>\n",
       "      <td>3</td>\n",
       "      <td>NaN</td>\n",
       "      <td>14.0</td>\n",
       "      <td>NaN</td>\n",
       "      <td>9</td>\n",
       "      <td>NaN</td>\n",
       "      <td>False</td>\n",
       "      <td>False</td>\n",
       "      <td>NaN</td>\n",
       "      <td>0.0</td>\n",
       "      <td>Санкт-Петербург</td>\n",
       "      <td>28098.0</td>\n",
       "      <td>6800.0</td>\n",
       "      <td>2.0</td>\n",
       "      <td>84.0</td>\n",
       "      <td>3.0</td>\n",
       "      <td>234.0</td>\n",
       "      <td>424.0</td>\n",
       "    </tr>\n",
       "    <tr>\n",
       "      <td>4</td>\n",
       "      <td>2</td>\n",
       "      <td>10000000.0</td>\n",
       "      <td>100.00</td>\n",
       "      <td>2018-06-19T00:00:00</td>\n",
       "      <td>2</td>\n",
       "      <td>3.03</td>\n",
       "      <td>14.0</td>\n",
       "      <td>32.00</td>\n",
       "      <td>13</td>\n",
       "      <td>NaN</td>\n",
       "      <td>False</td>\n",
       "      <td>False</td>\n",
       "      <td>41.00</td>\n",
       "      <td>NaN</td>\n",
       "      <td>Санкт-Петербург</td>\n",
       "      <td>31856.0</td>\n",
       "      <td>8098.0</td>\n",
       "      <td>2.0</td>\n",
       "      <td>112.0</td>\n",
       "      <td>1.0</td>\n",
       "      <td>48.0</td>\n",
       "      <td>121.0</td>\n",
       "    </tr>\n",
       "    <tr>\n",
       "      <td>5</td>\n",
       "      <td>10</td>\n",
       "      <td>2890000.0</td>\n",
       "      <td>30.40</td>\n",
       "      <td>2018-09-10T00:00:00</td>\n",
       "      <td>1</td>\n",
       "      <td>NaN</td>\n",
       "      <td>12.0</td>\n",
       "      <td>14.40</td>\n",
       "      <td>5</td>\n",
       "      <td>NaN</td>\n",
       "      <td>False</td>\n",
       "      <td>False</td>\n",
       "      <td>9.10</td>\n",
       "      <td>NaN</td>\n",
       "      <td>городской посёлок Янино-1</td>\n",
       "      <td>NaN</td>\n",
       "      <td>NaN</td>\n",
       "      <td>NaN</td>\n",
       "      <td>NaN</td>\n",
       "      <td>NaN</td>\n",
       "      <td>NaN</td>\n",
       "      <td>55.0</td>\n",
       "    </tr>\n",
       "    <tr>\n",
       "      <td>6</td>\n",
       "      <td>6</td>\n",
       "      <td>3700000.0</td>\n",
       "      <td>37.30</td>\n",
       "      <td>2017-11-02T00:00:00</td>\n",
       "      <td>1</td>\n",
       "      <td>NaN</td>\n",
       "      <td>26.0</td>\n",
       "      <td>10.60</td>\n",
       "      <td>6</td>\n",
       "      <td>NaN</td>\n",
       "      <td>False</td>\n",
       "      <td>False</td>\n",
       "      <td>14.40</td>\n",
       "      <td>1.0</td>\n",
       "      <td>посёлок Парголово</td>\n",
       "      <td>52996.0</td>\n",
       "      <td>19143.0</td>\n",
       "      <td>0.0</td>\n",
       "      <td>NaN</td>\n",
       "      <td>0.0</td>\n",
       "      <td>NaN</td>\n",
       "      <td>155.0</td>\n",
       "    </tr>\n",
       "    <tr>\n",
       "      <td>7</td>\n",
       "      <td>5</td>\n",
       "      <td>7915000.0</td>\n",
       "      <td>71.60</td>\n",
       "      <td>2019-04-18T00:00:00</td>\n",
       "      <td>2</td>\n",
       "      <td>NaN</td>\n",
       "      <td>24.0</td>\n",
       "      <td>NaN</td>\n",
       "      <td>22</td>\n",
       "      <td>NaN</td>\n",
       "      <td>False</td>\n",
       "      <td>False</td>\n",
       "      <td>18.90</td>\n",
       "      <td>2.0</td>\n",
       "      <td>Санкт-Петербург</td>\n",
       "      <td>23982.0</td>\n",
       "      <td>11634.0</td>\n",
       "      <td>0.0</td>\n",
       "      <td>NaN</td>\n",
       "      <td>0.0</td>\n",
       "      <td>NaN</td>\n",
       "      <td>NaN</td>\n",
       "    </tr>\n",
       "    <tr>\n",
       "      <td>8</td>\n",
       "      <td>20</td>\n",
       "      <td>2900000.0</td>\n",
       "      <td>33.16</td>\n",
       "      <td>2018-05-23T00:00:00</td>\n",
       "      <td>1</td>\n",
       "      <td>NaN</td>\n",
       "      <td>27.0</td>\n",
       "      <td>15.43</td>\n",
       "      <td>26</td>\n",
       "      <td>NaN</td>\n",
       "      <td>False</td>\n",
       "      <td>False</td>\n",
       "      <td>8.81</td>\n",
       "      <td>NaN</td>\n",
       "      <td>посёлок Мурино</td>\n",
       "      <td>NaN</td>\n",
       "      <td>NaN</td>\n",
       "      <td>NaN</td>\n",
       "      <td>NaN</td>\n",
       "      <td>NaN</td>\n",
       "      <td>NaN</td>\n",
       "      <td>189.0</td>\n",
       "    </tr>\n",
       "    <tr>\n",
       "      <td>9</td>\n",
       "      <td>18</td>\n",
       "      <td>5400000.0</td>\n",
       "      <td>61.00</td>\n",
       "      <td>2017-02-26T00:00:00</td>\n",
       "      <td>3</td>\n",
       "      <td>2.50</td>\n",
       "      <td>9.0</td>\n",
       "      <td>43.60</td>\n",
       "      <td>7</td>\n",
       "      <td>NaN</td>\n",
       "      <td>False</td>\n",
       "      <td>False</td>\n",
       "      <td>6.50</td>\n",
       "      <td>2.0</td>\n",
       "      <td>Санкт-Петербург</td>\n",
       "      <td>50898.0</td>\n",
       "      <td>15008.0</td>\n",
       "      <td>0.0</td>\n",
       "      <td>NaN</td>\n",
       "      <td>0.0</td>\n",
       "      <td>NaN</td>\n",
       "      <td>289.0</td>\n",
       "    </tr>\n",
       "    <tr>\n",
       "      <td>10</td>\n",
       "      <td>5</td>\n",
       "      <td>5050000.0</td>\n",
       "      <td>39.60</td>\n",
       "      <td>2017-11-16T00:00:00</td>\n",
       "      <td>1</td>\n",
       "      <td>2.67</td>\n",
       "      <td>12.0</td>\n",
       "      <td>20.30</td>\n",
       "      <td>3</td>\n",
       "      <td>NaN</td>\n",
       "      <td>False</td>\n",
       "      <td>False</td>\n",
       "      <td>8.50</td>\n",
       "      <td>NaN</td>\n",
       "      <td>Санкт-Петербург</td>\n",
       "      <td>38357.0</td>\n",
       "      <td>13878.0</td>\n",
       "      <td>1.0</td>\n",
       "      <td>310.0</td>\n",
       "      <td>2.0</td>\n",
       "      <td>553.0</td>\n",
       "      <td>137.0</td>\n",
       "    </tr>\n",
       "    <tr>\n",
       "      <td>11</td>\n",
       "      <td>9</td>\n",
       "      <td>3300000.0</td>\n",
       "      <td>44.00</td>\n",
       "      <td>2018-08-27T00:00:00</td>\n",
       "      <td>2</td>\n",
       "      <td>NaN</td>\n",
       "      <td>5.0</td>\n",
       "      <td>31.00</td>\n",
       "      <td>4</td>\n",
       "      <td>False</td>\n",
       "      <td>False</td>\n",
       "      <td>False</td>\n",
       "      <td>6.00</td>\n",
       "      <td>1.0</td>\n",
       "      <td>Ломоносов</td>\n",
       "      <td>48252.0</td>\n",
       "      <td>51677.0</td>\n",
       "      <td>0.0</td>\n",
       "      <td>NaN</td>\n",
       "      <td>0.0</td>\n",
       "      <td>NaN</td>\n",
       "      <td>7.0</td>\n",
       "    </tr>\n",
       "    <tr>\n",
       "      <td>12</td>\n",
       "      <td>10</td>\n",
       "      <td>3890000.0</td>\n",
       "      <td>54.00</td>\n",
       "      <td>2016-06-30T00:00:00</td>\n",
       "      <td>2</td>\n",
       "      <td>NaN</td>\n",
       "      <td>5.0</td>\n",
       "      <td>30.00</td>\n",
       "      <td>5</td>\n",
       "      <td>NaN</td>\n",
       "      <td>False</td>\n",
       "      <td>False</td>\n",
       "      <td>9.00</td>\n",
       "      <td>0.0</td>\n",
       "      <td>Сертолово</td>\n",
       "      <td>NaN</td>\n",
       "      <td>NaN</td>\n",
       "      <td>NaN</td>\n",
       "      <td>NaN</td>\n",
       "      <td>NaN</td>\n",
       "      <td>NaN</td>\n",
       "      <td>90.0</td>\n",
       "    </tr>\n",
       "    <tr>\n",
       "      <td>13</td>\n",
       "      <td>20</td>\n",
       "      <td>3550000.0</td>\n",
       "      <td>42.80</td>\n",
       "      <td>2017-07-01T00:00:00</td>\n",
       "      <td>2</td>\n",
       "      <td>2.56</td>\n",
       "      <td>5.0</td>\n",
       "      <td>27.00</td>\n",
       "      <td>5</td>\n",
       "      <td>NaN</td>\n",
       "      <td>False</td>\n",
       "      <td>False</td>\n",
       "      <td>5.20</td>\n",
       "      <td>1.0</td>\n",
       "      <td>Петергоф</td>\n",
       "      <td>37868.0</td>\n",
       "      <td>33058.0</td>\n",
       "      <td>1.0</td>\n",
       "      <td>294.0</td>\n",
       "      <td>3.0</td>\n",
       "      <td>298.0</td>\n",
       "      <td>366.0</td>\n",
       "    </tr>\n",
       "    <tr>\n",
       "      <td>14</td>\n",
       "      <td>1</td>\n",
       "      <td>4400000.0</td>\n",
       "      <td>36.00</td>\n",
       "      <td>2016-06-23T00:00:00</td>\n",
       "      <td>1</td>\n",
       "      <td>NaN</td>\n",
       "      <td>6.0</td>\n",
       "      <td>17.00</td>\n",
       "      <td>1</td>\n",
       "      <td>NaN</td>\n",
       "      <td>False</td>\n",
       "      <td>False</td>\n",
       "      <td>8.00</td>\n",
       "      <td>0.0</td>\n",
       "      <td>Пушкин</td>\n",
       "      <td>20782.0</td>\n",
       "      <td>30759.0</td>\n",
       "      <td>0.0</td>\n",
       "      <td>NaN</td>\n",
       "      <td>1.0</td>\n",
       "      <td>96.0</td>\n",
       "      <td>203.0</td>\n",
       "    </tr>\n",
       "  </tbody>\n",
       "</table>\n",
       "</div>"
      ],
      "text/plain": [
       "    total_images  last_price  total_area first_day_exposition  rooms  \\\n",
       "0             20  13000000.0      108.00  2019-03-07T00:00:00      3   \n",
       "1              7   3350000.0       40.40  2018-12-04T00:00:00      1   \n",
       "2             10   5196000.0       56.00  2015-08-20T00:00:00      2   \n",
       "3              0  64900000.0      159.00  2015-07-24T00:00:00      3   \n",
       "4              2  10000000.0      100.00  2018-06-19T00:00:00      2   \n",
       "5             10   2890000.0       30.40  2018-09-10T00:00:00      1   \n",
       "6              6   3700000.0       37.30  2017-11-02T00:00:00      1   \n",
       "7              5   7915000.0       71.60  2019-04-18T00:00:00      2   \n",
       "8             20   2900000.0       33.16  2018-05-23T00:00:00      1   \n",
       "9             18   5400000.0       61.00  2017-02-26T00:00:00      3   \n",
       "10             5   5050000.0       39.60  2017-11-16T00:00:00      1   \n",
       "11             9   3300000.0       44.00  2018-08-27T00:00:00      2   \n",
       "12            10   3890000.0       54.00  2016-06-30T00:00:00      2   \n",
       "13            20   3550000.0       42.80  2017-07-01T00:00:00      2   \n",
       "14             1   4400000.0       36.00  2016-06-23T00:00:00      1   \n",
       "\n",
       "    ceiling_height  floors_total  living_area  floor is_apartment  studio  \\\n",
       "0             2.70          16.0        51.00      8          NaN   False   \n",
       "1              NaN          11.0        18.60      1          NaN   False   \n",
       "2              NaN           5.0        34.30      4          NaN   False   \n",
       "3              NaN          14.0          NaN      9          NaN   False   \n",
       "4             3.03          14.0        32.00     13          NaN   False   \n",
       "5              NaN          12.0        14.40      5          NaN   False   \n",
       "6              NaN          26.0        10.60      6          NaN   False   \n",
       "7              NaN          24.0          NaN     22          NaN   False   \n",
       "8              NaN          27.0        15.43     26          NaN   False   \n",
       "9             2.50           9.0        43.60      7          NaN   False   \n",
       "10            2.67          12.0        20.30      3          NaN   False   \n",
       "11             NaN           5.0        31.00      4        False   False   \n",
       "12             NaN           5.0        30.00      5          NaN   False   \n",
       "13            2.56           5.0        27.00      5          NaN   False   \n",
       "14             NaN           6.0        17.00      1          NaN   False   \n",
       "\n",
       "    open_plan  kitchen_area  balcony              locality_name  \\\n",
       "0       False         25.00      NaN            Санкт-Петербург   \n",
       "1       False         11.00      2.0             посёлок Шушары   \n",
       "2       False          8.30      0.0            Санкт-Петербург   \n",
       "3       False           NaN      0.0            Санкт-Петербург   \n",
       "4       False         41.00      NaN            Санкт-Петербург   \n",
       "5       False          9.10      NaN  городской посёлок Янино-1   \n",
       "6       False         14.40      1.0          посёлок Парголово   \n",
       "7       False         18.90      2.0            Санкт-Петербург   \n",
       "8       False          8.81      NaN             посёлок Мурино   \n",
       "9       False          6.50      2.0            Санкт-Петербург   \n",
       "10      False          8.50      NaN            Санкт-Петербург   \n",
       "11      False          6.00      1.0                  Ломоносов   \n",
       "12      False          9.00      0.0                  Сертолово   \n",
       "13      False          5.20      1.0                   Петергоф   \n",
       "14      False          8.00      0.0                     Пушкин   \n",
       "\n",
       "    airports_nearest  cityCenters_nearest  parks_around3000  parks_nearest  \\\n",
       "0            18863.0              16028.0               1.0          482.0   \n",
       "1            12817.0              18603.0               0.0            NaN   \n",
       "2            21741.0              13933.0               1.0           90.0   \n",
       "3            28098.0               6800.0               2.0           84.0   \n",
       "4            31856.0               8098.0               2.0          112.0   \n",
       "5                NaN                  NaN               NaN            NaN   \n",
       "6            52996.0              19143.0               0.0            NaN   \n",
       "7            23982.0              11634.0               0.0            NaN   \n",
       "8                NaN                  NaN               NaN            NaN   \n",
       "9            50898.0              15008.0               0.0            NaN   \n",
       "10           38357.0              13878.0               1.0          310.0   \n",
       "11           48252.0              51677.0               0.0            NaN   \n",
       "12               NaN                  NaN               NaN            NaN   \n",
       "13           37868.0              33058.0               1.0          294.0   \n",
       "14           20782.0              30759.0               0.0            NaN   \n",
       "\n",
       "    ponds_around3000  ponds_nearest  days_exposition  \n",
       "0                2.0          755.0              NaN  \n",
       "1                0.0            NaN             81.0  \n",
       "2                2.0          574.0            558.0  \n",
       "3                3.0          234.0            424.0  \n",
       "4                1.0           48.0            121.0  \n",
       "5                NaN            NaN             55.0  \n",
       "6                0.0            NaN            155.0  \n",
       "7                0.0            NaN              NaN  \n",
       "8                NaN            NaN            189.0  \n",
       "9                0.0            NaN            289.0  \n",
       "10               2.0          553.0            137.0  \n",
       "11               0.0            NaN              7.0  \n",
       "12               NaN            NaN             90.0  \n",
       "13               3.0          298.0            366.0  \n",
       "14               1.0           96.0            203.0  "
      ]
     },
     "metadata": {},
     "output_type": "display_data"
    },
    {
     "name": "stdout",
     "output_type": "stream",
     "text": [
      "<class 'pandas.core.frame.DataFrame'>\n",
      "RangeIndex: 23699 entries, 0 to 23698\n",
      "Data columns (total 22 columns):\n",
      "total_images            23699 non-null int64\n",
      "last_price              23699 non-null float64\n",
      "total_area              23699 non-null float64\n",
      "first_day_exposition    23699 non-null object\n",
      "rooms                   23699 non-null int64\n",
      "ceiling_height          14504 non-null float64\n",
      "floors_total            23613 non-null float64\n",
      "living_area             21796 non-null float64\n",
      "floor                   23699 non-null int64\n",
      "is_apartment            2775 non-null object\n",
      "studio                  23699 non-null bool\n",
      "open_plan               23699 non-null bool\n",
      "kitchen_area            21421 non-null float64\n",
      "balcony                 12180 non-null float64\n",
      "locality_name           23650 non-null object\n",
      "airports_nearest        18157 non-null float64\n",
      "cityCenters_nearest     18180 non-null float64\n",
      "parks_around3000        18181 non-null float64\n",
      "parks_nearest           8079 non-null float64\n",
      "ponds_around3000        18181 non-null float64\n",
      "ponds_nearest           9110 non-null float64\n",
      "days_exposition         20518 non-null float64\n",
      "dtypes: bool(2), float64(14), int64(3), object(3)\n",
      "memory usage: 3.7+ MB\n"
     ]
    }
   ],
   "source": [
    "import pandas as pd\n",
    "data = pd.read_csv('/datasets/real_estate_data.csv', sep='\\t')\n",
    "pd.set_option('display.max_columns', None)\n",
    "pd.set_option('display.max_rows', 20)\n",
    "display(data)\n",
    "display(data.head(15))\n",
    "data.info()"
   ]
  },
  {
   "cell_type": "markdown",
   "metadata": {},
   "source": [
    "### Вывод"
   ]
  },
  {
   "cell_type": "markdown",
   "metadata": {},
   "source": [
    "Данные подлежат предобработке, много пропущенных значений и неверных типов данных."
   ]
  },
  {
   "cell_type": "markdown",
   "metadata": {},
   "source": [
    "## Предобработка данных"
   ]
  },
  {
   "cell_type": "code",
   "execution_count": 2,
   "metadata": {},
   "outputs": [
    {
     "data": {
      "text/plain": [
       "0"
      ]
     },
     "execution_count": 2,
     "metadata": {},
     "output_type": "execute_result"
    }
   ],
   "source": [
    "data.duplicated().sum()"
   ]
  },
  {
   "cell_type": "code",
   "execution_count": 3,
   "metadata": {},
   "outputs": [
    {
     "data": {
      "text/plain": [
       "0        2.700000\n",
       "1        2.771499\n",
       "2        2.771499\n",
       "3        2.771499\n",
       "4        3.030000\n",
       "           ...   \n",
       "23694    3.700000\n",
       "23695    2.771499\n",
       "23696    2.771499\n",
       "23697    3.000000\n",
       "23698    2.500000\n",
       "Name: ceiling_height, Length: 23699, dtype: float64"
      ]
     },
     "execution_count": 3,
     "metadata": {},
     "output_type": "execute_result"
    }
   ],
   "source": [
    "#ceiling_height\n",
    "data['ceiling_height'] = data['ceiling_height'].fillna(data['ceiling_height'].mean())\n",
    "data['ceiling_height']"
   ]
  },
  {
   "cell_type": "markdown",
   "metadata": {},
   "source": [
    "### kitchen area"
   ]
  },
  {
   "cell_type": "code",
   "execution_count": 4,
   "metadata": {},
   "outputs": [
    {
     "name": "stdout",
     "output_type": "stream",
     "text": [
      "2278\n"
     ]
    },
    {
     "data": {
      "text/plain": [
       "1464"
      ]
     },
     "execution_count": 4,
     "metadata": {},
     "output_type": "execute_result"
    }
   ],
   "source": [
    "print(data['kitchen_area'].isna().sum())\n",
    "data['kitchen_area'] = data['kitchen_area'].fillna(data['total_area']-data['living_area'])\n",
    "data['kitchen_area'].isna().sum()"
   ]
  },
  {
   "cell_type": "code",
   "execution_count": 5,
   "metadata": {},
   "outputs": [
    {
     "data": {
      "text/html": [
       "<div>\n",
       "<style scoped>\n",
       "    .dataframe tbody tr th:only-of-type {\n",
       "        vertical-align: middle;\n",
       "    }\n",
       "\n",
       "    .dataframe tbody tr th {\n",
       "        vertical-align: top;\n",
       "    }\n",
       "\n",
       "    .dataframe thead th {\n",
       "        text-align: right;\n",
       "    }\n",
       "</style>\n",
       "<table border=\"1\" class=\"dataframe\">\n",
       "  <thead>\n",
       "    <tr style=\"text-align: right;\">\n",
       "      <th></th>\n",
       "      <th>total_images</th>\n",
       "      <th>last_price</th>\n",
       "      <th>total_area</th>\n",
       "      <th>rooms</th>\n",
       "      <th>ceiling_height</th>\n",
       "      <th>floors_total</th>\n",
       "      <th>living_area</th>\n",
       "      <th>floor</th>\n",
       "      <th>studio</th>\n",
       "      <th>open_plan</th>\n",
       "      <th>kitchen_area</th>\n",
       "      <th>balcony</th>\n",
       "      <th>airports_nearest</th>\n",
       "      <th>cityCenters_nearest</th>\n",
       "      <th>parks_around3000</th>\n",
       "      <th>parks_nearest</th>\n",
       "      <th>ponds_around3000</th>\n",
       "      <th>ponds_nearest</th>\n",
       "      <th>days_exposition</th>\n",
       "    </tr>\n",
       "  </thead>\n",
       "  <tbody>\n",
       "    <tr>\n",
       "      <td>total_images</td>\n",
       "      <td>1.000000</td>\n",
       "      <td>0.104473</td>\n",
       "      <td>0.115352</td>\n",
       "      <td>0.099288</td>\n",
       "      <td>-0.001541</td>\n",
       "      <td>0.010427</td>\n",
       "      <td>0.104780</td>\n",
       "      <td>0.031340</td>\n",
       "      <td>-0.029303</td>\n",
       "      <td>-0.024407</td>\n",
       "      <td>0.086025</td>\n",
       "      <td>0.121693</td>\n",
       "      <td>-0.002298</td>\n",
       "      <td>-0.047666</td>\n",
       "      <td>0.021120</td>\n",
       "      <td>-0.008347</td>\n",
       "      <td>-0.011553</td>\n",
       "      <td>-0.003034</td>\n",
       "      <td>-0.026657</td>\n",
       "    </tr>\n",
       "    <tr>\n",
       "      <td>last_price</td>\n",
       "      <td>0.104473</td>\n",
       "      <td>1.000000</td>\n",
       "      <td>0.653675</td>\n",
       "      <td>0.363343</td>\n",
       "      <td>0.062504</td>\n",
       "      <td>-0.006984</td>\n",
       "      <td>0.566492</td>\n",
       "      <td>0.026576</td>\n",
       "      <td>-0.025362</td>\n",
       "      <td>-0.008802</td>\n",
       "      <td>0.491798</td>\n",
       "      <td>0.029646</td>\n",
       "      <td>-0.026239</td>\n",
       "      <td>-0.206747</td>\n",
       "      <td>0.151058</td>\n",
       "      <td>-0.016414</td>\n",
       "      <td>0.159996</td>\n",
       "      <td>-0.084809</td>\n",
       "      <td>0.081146</td>\n",
       "    </tr>\n",
       "    <tr>\n",
       "      <td>total_area</td>\n",
       "      <td>0.115352</td>\n",
       "      <td>0.653675</td>\n",
       "      <td>1.000000</td>\n",
       "      <td>0.758344</td>\n",
       "      <td>0.077497</td>\n",
       "      <td>-0.075774</td>\n",
       "      <td>0.939537</td>\n",
       "      <td>-0.024754</td>\n",
       "      <td>-0.072653</td>\n",
       "      <td>-0.034885</td>\n",
       "      <td>0.577092</td>\n",
       "      <td>0.047937</td>\n",
       "      <td>-0.030753</td>\n",
       "      <td>-0.231446</td>\n",
       "      <td>0.164689</td>\n",
       "      <td>-0.021497</td>\n",
       "      <td>0.162346</td>\n",
       "      <td>-0.097969</td>\n",
       "      <td>0.149675</td>\n",
       "    </tr>\n",
       "    <tr>\n",
       "      <td>rooms</td>\n",
       "      <td>0.099288</td>\n",
       "      <td>0.363343</td>\n",
       "      <td>0.758344</td>\n",
       "      <td>1.000000</td>\n",
       "      <td>0.043415</td>\n",
       "      <td>-0.228215</td>\n",
       "      <td>0.845977</td>\n",
       "      <td>-0.150862</td>\n",
       "      <td>-0.147286</td>\n",
       "      <td>-0.087500</td>\n",
       "      <td>0.263661</td>\n",
       "      <td>0.017991</td>\n",
       "      <td>-0.061199</td>\n",
       "      <td>-0.184864</td>\n",
       "      <td>0.137257</td>\n",
       "      <td>-0.054549</td>\n",
       "      <td>0.092693</td>\n",
       "      <td>-0.057689</td>\n",
       "      <td>0.126961</td>\n",
       "    </tr>\n",
       "    <tr>\n",
       "      <td>ceiling_height</td>\n",
       "      <td>-0.001541</td>\n",
       "      <td>0.062504</td>\n",
       "      <td>0.077497</td>\n",
       "      <td>0.043415</td>\n",
       "      <td>1.000000</td>\n",
       "      <td>-0.021163</td>\n",
       "      <td>0.074628</td>\n",
       "      <td>-0.008726</td>\n",
       "      <td>0.001204</td>\n",
       "      <td>0.020259</td>\n",
       "      <td>0.067031</td>\n",
       "      <td>0.031892</td>\n",
       "      <td>-0.019063</td>\n",
       "      <td>-0.074527</td>\n",
       "      <td>0.054119</td>\n",
       "      <td>-0.016399</td>\n",
       "      <td>0.063285</td>\n",
       "      <td>-0.047209</td>\n",
       "      <td>0.014972</td>\n",
       "    </tr>\n",
       "    <tr>\n",
       "      <td>floors_total</td>\n",
       "      <td>0.010427</td>\n",
       "      <td>-0.006984</td>\n",
       "      <td>-0.075774</td>\n",
       "      <td>-0.228215</td>\n",
       "      <td>-0.021163</td>\n",
       "      <td>1.000000</td>\n",
       "      <td>-0.169311</td>\n",
       "      <td>0.678059</td>\n",
       "      <td>0.070151</td>\n",
       "      <td>0.050791</td>\n",
       "      <td>0.126996</td>\n",
       "      <td>0.194065</td>\n",
       "      <td>0.108288</td>\n",
       "      <td>0.019774</td>\n",
       "      <td>-0.252833</td>\n",
       "      <td>0.097527</td>\n",
       "      <td>-0.122735</td>\n",
       "      <td>0.038864</td>\n",
       "      <td>-0.052234</td>\n",
       "    </tr>\n",
       "    <tr>\n",
       "      <td>living_area</td>\n",
       "      <td>0.104780</td>\n",
       "      <td>0.566492</td>\n",
       "      <td>0.939537</td>\n",
       "      <td>0.845977</td>\n",
       "      <td>0.074628</td>\n",
       "      <td>-0.169311</td>\n",
       "      <td>1.000000</td>\n",
       "      <td>-0.097210</td>\n",
       "      <td>-0.056231</td>\n",
       "      <td>-0.033711</td>\n",
       "      <td>0.412861</td>\n",
       "      <td>0.018849</td>\n",
       "      <td>-0.057912</td>\n",
       "      <td>-0.231368</td>\n",
       "      <td>0.184453</td>\n",
       "      <td>-0.050167</td>\n",
       "      <td>0.148933</td>\n",
       "      <td>-0.081674</td>\n",
       "      <td>0.142454</td>\n",
       "    </tr>\n",
       "    <tr>\n",
       "      <td>floor</td>\n",
       "      <td>0.031340</td>\n",
       "      <td>0.026576</td>\n",
       "      <td>-0.024754</td>\n",
       "      <td>-0.150862</td>\n",
       "      <td>-0.008726</td>\n",
       "      <td>0.678059</td>\n",
       "      <td>-0.097210</td>\n",
       "      <td>1.000000</td>\n",
       "      <td>0.036940</td>\n",
       "      <td>0.035824</td>\n",
       "      <td>0.109770</td>\n",
       "      <td>0.168773</td>\n",
       "      <td>0.071597</td>\n",
       "      <td>0.009084</td>\n",
       "      <td>-0.163784</td>\n",
       "      <td>0.073045</td>\n",
       "      <td>-0.076312</td>\n",
       "      <td>0.024850</td>\n",
       "      <td>-0.039463</td>\n",
       "    </tr>\n",
       "    <tr>\n",
       "      <td>studio</td>\n",
       "      <td>-0.029303</td>\n",
       "      <td>-0.025362</td>\n",
       "      <td>-0.072653</td>\n",
       "      <td>-0.147286</td>\n",
       "      <td>0.001204</td>\n",
       "      <td>0.070151</td>\n",
       "      <td>-0.056231</td>\n",
       "      <td>0.036940</td>\n",
       "      <td>1.000000</td>\n",
       "      <td>-0.004235</td>\n",
       "      <td>-0.022727</td>\n",
       "      <td>0.031455</td>\n",
       "      <td>-0.021876</td>\n",
       "      <td>-0.007029</td>\n",
       "      <td>-0.030202</td>\n",
       "      <td>0.009134</td>\n",
       "      <td>0.000939</td>\n",
       "      <td>0.002606</td>\n",
       "      <td>-0.022476</td>\n",
       "    </tr>\n",
       "    <tr>\n",
       "      <td>open_plan</td>\n",
       "      <td>-0.024407</td>\n",
       "      <td>-0.008802</td>\n",
       "      <td>-0.034885</td>\n",
       "      <td>-0.087500</td>\n",
       "      <td>0.020259</td>\n",
       "      <td>0.050791</td>\n",
       "      <td>-0.033711</td>\n",
       "      <td>0.035824</td>\n",
       "      <td>-0.004235</td>\n",
       "      <td>1.000000</td>\n",
       "      <td>-0.009527</td>\n",
       "      <td>0.019491</td>\n",
       "      <td>-0.013583</td>\n",
       "      <td>-0.004204</td>\n",
       "      <td>-0.010077</td>\n",
       "      <td>0.010612</td>\n",
       "      <td>0.008455</td>\n",
       "      <td>-0.003328</td>\n",
       "      <td>-0.024112</td>\n",
       "    </tr>\n",
       "    <tr>\n",
       "      <td>kitchen_area</td>\n",
       "      <td>0.086025</td>\n",
       "      <td>0.491798</td>\n",
       "      <td>0.577092</td>\n",
       "      <td>0.263661</td>\n",
       "      <td>0.067031</td>\n",
       "      <td>0.126996</td>\n",
       "      <td>0.412861</td>\n",
       "      <td>0.109770</td>\n",
       "      <td>-0.022727</td>\n",
       "      <td>-0.009527</td>\n",
       "      <td>1.000000</td>\n",
       "      <td>0.059359</td>\n",
       "      <td>0.008588</td>\n",
       "      <td>-0.172516</td>\n",
       "      <td>0.087134</td>\n",
       "      <td>0.020830</td>\n",
       "      <td>0.137387</td>\n",
       "      <td>-0.084107</td>\n",
       "      <td>0.100908</td>\n",
       "    </tr>\n",
       "    <tr>\n",
       "      <td>balcony</td>\n",
       "      <td>0.121693</td>\n",
       "      <td>0.029646</td>\n",
       "      <td>0.047937</td>\n",
       "      <td>0.017991</td>\n",
       "      <td>0.031892</td>\n",
       "      <td>0.194065</td>\n",
       "      <td>0.018849</td>\n",
       "      <td>0.168773</td>\n",
       "      <td>0.031455</td>\n",
       "      <td>0.019491</td>\n",
       "      <td>0.059359</td>\n",
       "      <td>1.000000</td>\n",
       "      <td>0.066834</td>\n",
       "      <td>0.051051</td>\n",
       "      <td>-0.082850</td>\n",
       "      <td>0.052328</td>\n",
       "      <td>-0.032709</td>\n",
       "      <td>0.010847</td>\n",
       "      <td>-0.032909</td>\n",
       "    </tr>\n",
       "    <tr>\n",
       "      <td>airports_nearest</td>\n",
       "      <td>-0.002298</td>\n",
       "      <td>-0.026239</td>\n",
       "      <td>-0.030753</td>\n",
       "      <td>-0.061199</td>\n",
       "      <td>-0.019063</td>\n",
       "      <td>0.108288</td>\n",
       "      <td>-0.057912</td>\n",
       "      <td>0.071597</td>\n",
       "      <td>-0.021876</td>\n",
       "      <td>-0.013583</td>\n",
       "      <td>0.008588</td>\n",
       "      <td>0.066834</td>\n",
       "      <td>1.000000</td>\n",
       "      <td>0.272184</td>\n",
       "      <td>0.000759</td>\n",
       "      <td>-0.070058</td>\n",
       "      <td>-0.049583</td>\n",
       "      <td>0.014049</td>\n",
       "      <td>-0.018271</td>\n",
       "    </tr>\n",
       "    <tr>\n",
       "      <td>cityCenters_nearest</td>\n",
       "      <td>-0.047666</td>\n",
       "      <td>-0.206747</td>\n",
       "      <td>-0.231446</td>\n",
       "      <td>-0.184864</td>\n",
       "      <td>-0.074527</td>\n",
       "      <td>0.019774</td>\n",
       "      <td>-0.231368</td>\n",
       "      <td>0.009084</td>\n",
       "      <td>-0.007029</td>\n",
       "      <td>-0.004204</td>\n",
       "      <td>-0.172516</td>\n",
       "      <td>0.051051</td>\n",
       "      <td>0.272184</td>\n",
       "      <td>1.000000</td>\n",
       "      <td>-0.161738</td>\n",
       "      <td>-0.040650</td>\n",
       "      <td>-0.074577</td>\n",
       "      <td>0.028903</td>\n",
       "      <td>-0.060714</td>\n",
       "    </tr>\n",
       "    <tr>\n",
       "      <td>parks_around3000</td>\n",
       "      <td>0.021120</td>\n",
       "      <td>0.151058</td>\n",
       "      <td>0.164689</td>\n",
       "      <td>0.137257</td>\n",
       "      <td>0.054119</td>\n",
       "      <td>-0.252833</td>\n",
       "      <td>0.184453</td>\n",
       "      <td>-0.163784</td>\n",
       "      <td>-0.030202</td>\n",
       "      <td>-0.010077</td>\n",
       "      <td>0.087134</td>\n",
       "      <td>-0.082850</td>\n",
       "      <td>0.000759</td>\n",
       "      <td>-0.161738</td>\n",
       "      <td>1.000000</td>\n",
       "      <td>-0.259514</td>\n",
       "      <td>0.304316</td>\n",
       "      <td>-0.167103</td>\n",
       "      <td>0.060491</td>\n",
       "    </tr>\n",
       "    <tr>\n",
       "      <td>parks_nearest</td>\n",
       "      <td>-0.008347</td>\n",
       "      <td>-0.016414</td>\n",
       "      <td>-0.021497</td>\n",
       "      <td>-0.054549</td>\n",
       "      <td>-0.016399</td>\n",
       "      <td>0.097527</td>\n",
       "      <td>-0.050167</td>\n",
       "      <td>0.073045</td>\n",
       "      <td>0.009134</td>\n",
       "      <td>0.010612</td>\n",
       "      <td>0.020830</td>\n",
       "      <td>0.052328</td>\n",
       "      <td>-0.070058</td>\n",
       "      <td>-0.040650</td>\n",
       "      <td>-0.259514</td>\n",
       "      <td>1.000000</td>\n",
       "      <td>0.077280</td>\n",
       "      <td>0.000692</td>\n",
       "      <td>0.023254</td>\n",
       "    </tr>\n",
       "    <tr>\n",
       "      <td>ponds_around3000</td>\n",
       "      <td>-0.011553</td>\n",
       "      <td>0.159996</td>\n",
       "      <td>0.162346</td>\n",
       "      <td>0.092693</td>\n",
       "      <td>0.063285</td>\n",
       "      <td>-0.122735</td>\n",
       "      <td>0.148933</td>\n",
       "      <td>-0.076312</td>\n",
       "      <td>0.000939</td>\n",
       "      <td>0.008455</td>\n",
       "      <td>0.137387</td>\n",
       "      <td>-0.032709</td>\n",
       "      <td>-0.049583</td>\n",
       "      <td>-0.074577</td>\n",
       "      <td>0.304316</td>\n",
       "      <td>0.077280</td>\n",
       "      <td>1.000000</td>\n",
       "      <td>-0.341840</td>\n",
       "      <td>0.073162</td>\n",
       "    </tr>\n",
       "    <tr>\n",
       "      <td>ponds_nearest</td>\n",
       "      <td>-0.003034</td>\n",
       "      <td>-0.084809</td>\n",
       "      <td>-0.097969</td>\n",
       "      <td>-0.057689</td>\n",
       "      <td>-0.047209</td>\n",
       "      <td>0.038864</td>\n",
       "      <td>-0.081674</td>\n",
       "      <td>0.024850</td>\n",
       "      <td>0.002606</td>\n",
       "      <td>-0.003328</td>\n",
       "      <td>-0.084107</td>\n",
       "      <td>0.010847</td>\n",
       "      <td>0.014049</td>\n",
       "      <td>0.028903</td>\n",
       "      <td>-0.167103</td>\n",
       "      <td>0.000692</td>\n",
       "      <td>-0.341840</td>\n",
       "      <td>1.000000</td>\n",
       "      <td>-0.077879</td>\n",
       "    </tr>\n",
       "    <tr>\n",
       "      <td>days_exposition</td>\n",
       "      <td>-0.026657</td>\n",
       "      <td>0.081146</td>\n",
       "      <td>0.149675</td>\n",
       "      <td>0.126961</td>\n",
       "      <td>0.014972</td>\n",
       "      <td>-0.052234</td>\n",
       "      <td>0.142454</td>\n",
       "      <td>-0.039463</td>\n",
       "      <td>-0.022476</td>\n",
       "      <td>-0.024112</td>\n",
       "      <td>0.100908</td>\n",
       "      <td>-0.032909</td>\n",
       "      <td>-0.018271</td>\n",
       "      <td>-0.060714</td>\n",
       "      <td>0.060491</td>\n",
       "      <td>0.023254</td>\n",
       "      <td>0.073162</td>\n",
       "      <td>-0.077879</td>\n",
       "      <td>1.000000</td>\n",
       "    </tr>\n",
       "  </tbody>\n",
       "</table>\n",
       "</div>"
      ],
      "text/plain": [
       "                     total_images  last_price  total_area     rooms  \\\n",
       "total_images             1.000000    0.104473    0.115352  0.099288   \n",
       "last_price               0.104473    1.000000    0.653675  0.363343   \n",
       "total_area               0.115352    0.653675    1.000000  0.758344   \n",
       "rooms                    0.099288    0.363343    0.758344  1.000000   \n",
       "ceiling_height          -0.001541    0.062504    0.077497  0.043415   \n",
       "floors_total             0.010427   -0.006984   -0.075774 -0.228215   \n",
       "living_area              0.104780    0.566492    0.939537  0.845977   \n",
       "floor                    0.031340    0.026576   -0.024754 -0.150862   \n",
       "studio                  -0.029303   -0.025362   -0.072653 -0.147286   \n",
       "open_plan               -0.024407   -0.008802   -0.034885 -0.087500   \n",
       "kitchen_area             0.086025    0.491798    0.577092  0.263661   \n",
       "balcony                  0.121693    0.029646    0.047937  0.017991   \n",
       "airports_nearest        -0.002298   -0.026239   -0.030753 -0.061199   \n",
       "cityCenters_nearest     -0.047666   -0.206747   -0.231446 -0.184864   \n",
       "parks_around3000         0.021120    0.151058    0.164689  0.137257   \n",
       "parks_nearest           -0.008347   -0.016414   -0.021497 -0.054549   \n",
       "ponds_around3000        -0.011553    0.159996    0.162346  0.092693   \n",
       "ponds_nearest           -0.003034   -0.084809   -0.097969 -0.057689   \n",
       "days_exposition         -0.026657    0.081146    0.149675  0.126961   \n",
       "\n",
       "                     ceiling_height  floors_total  living_area     floor  \\\n",
       "total_images              -0.001541      0.010427     0.104780  0.031340   \n",
       "last_price                 0.062504     -0.006984     0.566492  0.026576   \n",
       "total_area                 0.077497     -0.075774     0.939537 -0.024754   \n",
       "rooms                      0.043415     -0.228215     0.845977 -0.150862   \n",
       "ceiling_height             1.000000     -0.021163     0.074628 -0.008726   \n",
       "floors_total              -0.021163      1.000000    -0.169311  0.678059   \n",
       "living_area                0.074628     -0.169311     1.000000 -0.097210   \n",
       "floor                     -0.008726      0.678059    -0.097210  1.000000   \n",
       "studio                     0.001204      0.070151    -0.056231  0.036940   \n",
       "open_plan                  0.020259      0.050791    -0.033711  0.035824   \n",
       "kitchen_area               0.067031      0.126996     0.412861  0.109770   \n",
       "balcony                    0.031892      0.194065     0.018849  0.168773   \n",
       "airports_nearest          -0.019063      0.108288    -0.057912  0.071597   \n",
       "cityCenters_nearest       -0.074527      0.019774    -0.231368  0.009084   \n",
       "parks_around3000           0.054119     -0.252833     0.184453 -0.163784   \n",
       "parks_nearest             -0.016399      0.097527    -0.050167  0.073045   \n",
       "ponds_around3000           0.063285     -0.122735     0.148933 -0.076312   \n",
       "ponds_nearest             -0.047209      0.038864    -0.081674  0.024850   \n",
       "days_exposition            0.014972     -0.052234     0.142454 -0.039463   \n",
       "\n",
       "                       studio  open_plan  kitchen_area   balcony  \\\n",
       "total_images        -0.029303  -0.024407      0.086025  0.121693   \n",
       "last_price          -0.025362  -0.008802      0.491798  0.029646   \n",
       "total_area          -0.072653  -0.034885      0.577092  0.047937   \n",
       "rooms               -0.147286  -0.087500      0.263661  0.017991   \n",
       "ceiling_height       0.001204   0.020259      0.067031  0.031892   \n",
       "floors_total         0.070151   0.050791      0.126996  0.194065   \n",
       "living_area         -0.056231  -0.033711      0.412861  0.018849   \n",
       "floor                0.036940   0.035824      0.109770  0.168773   \n",
       "studio               1.000000  -0.004235     -0.022727  0.031455   \n",
       "open_plan           -0.004235   1.000000     -0.009527  0.019491   \n",
       "kitchen_area        -0.022727  -0.009527      1.000000  0.059359   \n",
       "balcony              0.031455   0.019491      0.059359  1.000000   \n",
       "airports_nearest    -0.021876  -0.013583      0.008588  0.066834   \n",
       "cityCenters_nearest -0.007029  -0.004204     -0.172516  0.051051   \n",
       "parks_around3000    -0.030202  -0.010077      0.087134 -0.082850   \n",
       "parks_nearest        0.009134   0.010612      0.020830  0.052328   \n",
       "ponds_around3000     0.000939   0.008455      0.137387 -0.032709   \n",
       "ponds_nearest        0.002606  -0.003328     -0.084107  0.010847   \n",
       "days_exposition     -0.022476  -0.024112      0.100908 -0.032909   \n",
       "\n",
       "                     airports_nearest  cityCenters_nearest  parks_around3000  \\\n",
       "total_images                -0.002298            -0.047666          0.021120   \n",
       "last_price                  -0.026239            -0.206747          0.151058   \n",
       "total_area                  -0.030753            -0.231446          0.164689   \n",
       "rooms                       -0.061199            -0.184864          0.137257   \n",
       "ceiling_height              -0.019063            -0.074527          0.054119   \n",
       "floors_total                 0.108288             0.019774         -0.252833   \n",
       "living_area                 -0.057912            -0.231368          0.184453   \n",
       "floor                        0.071597             0.009084         -0.163784   \n",
       "studio                      -0.021876            -0.007029         -0.030202   \n",
       "open_plan                   -0.013583            -0.004204         -0.010077   \n",
       "kitchen_area                 0.008588            -0.172516          0.087134   \n",
       "balcony                      0.066834             0.051051         -0.082850   \n",
       "airports_nearest             1.000000             0.272184          0.000759   \n",
       "cityCenters_nearest          0.272184             1.000000         -0.161738   \n",
       "parks_around3000             0.000759            -0.161738          1.000000   \n",
       "parks_nearest               -0.070058            -0.040650         -0.259514   \n",
       "ponds_around3000            -0.049583            -0.074577          0.304316   \n",
       "ponds_nearest                0.014049             0.028903         -0.167103   \n",
       "days_exposition             -0.018271            -0.060714          0.060491   \n",
       "\n",
       "                     parks_nearest  ponds_around3000  ponds_nearest  \\\n",
       "total_images             -0.008347         -0.011553      -0.003034   \n",
       "last_price               -0.016414          0.159996      -0.084809   \n",
       "total_area               -0.021497          0.162346      -0.097969   \n",
       "rooms                    -0.054549          0.092693      -0.057689   \n",
       "ceiling_height           -0.016399          0.063285      -0.047209   \n",
       "floors_total              0.097527         -0.122735       0.038864   \n",
       "living_area              -0.050167          0.148933      -0.081674   \n",
       "floor                     0.073045         -0.076312       0.024850   \n",
       "studio                    0.009134          0.000939       0.002606   \n",
       "open_plan                 0.010612          0.008455      -0.003328   \n",
       "kitchen_area              0.020830          0.137387      -0.084107   \n",
       "balcony                   0.052328         -0.032709       0.010847   \n",
       "airports_nearest         -0.070058         -0.049583       0.014049   \n",
       "cityCenters_nearest      -0.040650         -0.074577       0.028903   \n",
       "parks_around3000         -0.259514          0.304316      -0.167103   \n",
       "parks_nearest             1.000000          0.077280       0.000692   \n",
       "ponds_around3000          0.077280          1.000000      -0.341840   \n",
       "ponds_nearest             0.000692         -0.341840       1.000000   \n",
       "days_exposition           0.023254          0.073162      -0.077879   \n",
       "\n",
       "                     days_exposition  \n",
       "total_images               -0.026657  \n",
       "last_price                  0.081146  \n",
       "total_area                  0.149675  \n",
       "rooms                       0.126961  \n",
       "ceiling_height              0.014972  \n",
       "floors_total               -0.052234  \n",
       "living_area                 0.142454  \n",
       "floor                      -0.039463  \n",
       "studio                     -0.022476  \n",
       "open_plan                  -0.024112  \n",
       "kitchen_area                0.100908  \n",
       "balcony                    -0.032909  \n",
       "airports_nearest           -0.018271  \n",
       "cityCenters_nearest        -0.060714  \n",
       "parks_around3000            0.060491  \n",
       "parks_nearest               0.023254  \n",
       "ponds_around3000            0.073162  \n",
       "ponds_nearest              -0.077879  \n",
       "days_exposition             1.000000  "
      ]
     },
     "execution_count": 5,
     "metadata": {},
     "output_type": "execute_result"
    }
   ],
   "source": [
    "data.corr()"
   ]
  },
  {
   "cell_type": "markdown",
   "metadata": {},
   "source": [
    "### cityCenters nearest"
   ]
  },
  {
   "cell_type": "code",
   "execution_count": 6,
   "metadata": {},
   "outputs": [],
   "source": [
    "data['cityCenters_nearest'] = data['cityCenters_nearest'].fillna(data['cityCenters_nearest'].median())"
   ]
  },
  {
   "cell_type": "markdown",
   "metadata": {},
   "source": [
    "### first day exposition"
   ]
  },
  {
   "cell_type": "code",
   "execution_count": 7,
   "metadata": {
    "scrolled": true
   },
   "outputs": [
    {
     "data": {
      "text/plain": [
       "0       2019-03-07\n",
       "1       2018-12-04\n",
       "2       2015-08-20\n",
       "3       2015-07-24\n",
       "4       2018-06-19\n",
       "           ...    \n",
       "23694   2017-03-21\n",
       "23695   2018-01-15\n",
       "23696   2018-02-11\n",
       "23697   2017-03-28\n",
       "23698   2017-07-21\n",
       "Name: first_day_exposition, Length: 23699, dtype: datetime64[ns]"
      ]
     },
     "execution_count": 7,
     "metadata": {},
     "output_type": "execute_result"
    }
   ],
   "source": [
    "data['first_day_exposition'] = pd.to_datetime(data['first_day_exposition'], format='%Y.%m.%dT%H:%M:%S')\n",
    "data['first_day_exposition']"
   ]
  },
  {
   "cell_type": "markdown",
   "metadata": {},
   "source": [
    "### floors total"
   ]
  },
  {
   "cell_type": "code",
   "execution_count": 8,
   "metadata": {
    "scrolled": true
   },
   "outputs": [
    {
     "data": {
      "text/plain": [
       "86"
      ]
     },
     "metadata": {},
     "output_type": "display_data"
    },
    {
     "data": {
      "text/plain": [
       "0        16\n",
       "1        11\n",
       "2         5\n",
       "3        14\n",
       "4        14\n",
       "         ..\n",
       "23694     5\n",
       "23695     5\n",
       "23696     3\n",
       "23697    17\n",
       "23698     5\n",
       "Name: floors_total, Length: 23613, dtype: int64"
      ]
     },
     "execution_count": 8,
     "metadata": {},
     "output_type": "execute_result"
    }
   ],
   "source": [
    "display(data['floors_total'].isna().sum())\n",
    "data = data.dropna(subset=['floors_total'])\n",
    "data['floors_total'] = data['floors_total'].astype('int')\n",
    "data['floors_total']"
   ]
  },
  {
   "cell_type": "markdown",
   "metadata": {},
   "source": [
    "### locality name"
   ]
  },
  {
   "cell_type": "code",
   "execution_count": 9,
   "metadata": {},
   "outputs": [
    {
     "data": {
      "text/plain": [
       "48"
      ]
     },
     "metadata": {},
     "output_type": "display_data"
    },
    {
     "data": {
      "text/plain": [
       "0            Санкт-Петербург\n",
       "1             посёлок Шушары\n",
       "2            Санкт-Петербург\n",
       "3            Санкт-Петербург\n",
       "4            Санкт-Петербург\n",
       "                ...         \n",
       "23694        Санкт-Петербург\n",
       "23695                  Тосно\n",
       "23696       село Рождествено\n",
       "23697        Санкт-Петербург\n",
       "23698    поселок Новый Учхоз\n",
       "Name: locality_name, Length: 23565, dtype: object"
      ]
     },
     "execution_count": 9,
     "metadata": {},
     "output_type": "execute_result"
    }
   ],
   "source": [
    "display(data['locality_name'].isna().sum())\n",
    "data = data.dropna(subset=['locality_name'])\n",
    "data['locality_name']"
   ]
  },
  {
   "cell_type": "markdown",
   "metadata": {},
   "source": [
    "### balcony"
   ]
  },
  {
   "cell_type": "code",
   "execution_count": 10,
   "metadata": {
    "scrolled": false
   },
   "outputs": [
    {
     "name": "stdout",
     "output_type": "stream",
     "text": [
      "11475\n",
      "0\n"
     ]
    },
    {
     "data": {
      "text/plain": [
       "0        0\n",
       "1        2\n",
       "2        0\n",
       "3        0\n",
       "4        0\n",
       "        ..\n",
       "23694    0\n",
       "23695    0\n",
       "23696    0\n",
       "23697    2\n",
       "23698    0\n",
       "Name: balcony, Length: 23565, dtype: int64"
      ]
     },
     "execution_count": 10,
     "metadata": {},
     "output_type": "execute_result"
    }
   ],
   "source": [
    "print(data['balcony'].isna().sum())\n",
    "data['balcony'] = data['balcony'].fillna(0)\n",
    "print(data['balcony'].isna().sum())\n",
    "data['balcony'] = data['balcony'].astype('int')\n",
    "data['balcony']"
   ]
  },
  {
   "cell_type": "markdown",
   "metadata": {},
   "source": [
    "### is apartment"
   ]
  },
  {
   "cell_type": "code",
   "execution_count": 11,
   "metadata": {
    "scrolled": true
   },
   "outputs": [
    {
     "data": {
      "text/plain": [
       "0        False\n",
       "1        False\n",
       "2        False\n",
       "3        False\n",
       "4        False\n",
       "         ...  \n",
       "23694    False\n",
       "23695    False\n",
       "23696    False\n",
       "23697    False\n",
       "23698    False\n",
       "Name: is_apartment, Length: 23565, dtype: bool"
      ]
     },
     "execution_count": 11,
     "metadata": {},
     "output_type": "execute_result"
    }
   ],
   "source": [
    "data['is_apartment'].isna().sum()\n",
    "data['is_apartment'] = data['is_apartment'].fillna(False)\n",
    "data['is_apartment']"
   ]
  },
  {
   "cell_type": "markdown",
   "metadata": {},
   "source": [
    "### parks around3000"
   ]
  },
  {
   "cell_type": "code",
   "execution_count": 12,
   "metadata": {},
   "outputs": [
    {
     "data": {
      "text/plain": [
       "0        1\n",
       "1        0\n",
       "2        1\n",
       "3        2\n",
       "4        2\n",
       "        ..\n",
       "23694    1\n",
       "23695    0\n",
       "23696    0\n",
       "23697    2\n",
       "23698    0\n",
       "Name: parks_around3000, Length: 23565, dtype: int64"
      ]
     },
     "execution_count": 12,
     "metadata": {},
     "output_type": "execute_result"
    }
   ],
   "source": [
    "data['parks_around3000'].isna().sum()\n",
    "data['parks_around3000'] = data['parks_around3000'].fillna(0)\n",
    "data['parks_around3000'] = data['parks_around3000'].astype('int')\n",
    "data['parks_around3000']"
   ]
  },
  {
   "cell_type": "markdown",
   "metadata": {},
   "source": [
    "### ponds around3000"
   ]
  },
  {
   "cell_type": "code",
   "execution_count": 13,
   "metadata": {
    "scrolled": true
   },
   "outputs": [
    {
     "data": {
      "text/plain": [
       "0        2\n",
       "1        0\n",
       "2        2\n",
       "3        3\n",
       "4        1\n",
       "        ..\n",
       "23694    3\n",
       "23695    0\n",
       "23696    0\n",
       "23697    3\n",
       "23698    0\n",
       "Name: ponds_around3000, Length: 23565, dtype: int64"
      ]
     },
     "execution_count": 13,
     "metadata": {},
     "output_type": "execute_result"
    }
   ],
   "source": [
    "data['ponds_around3000'].isna().sum()\n",
    "data['ponds_around3000'] = data['ponds_around3000'].fillna(0)\n",
    "data['ponds_around3000'] = data['ponds_around3000'].astype('int')\n",
    "data['ponds_around3000']"
   ]
  },
  {
   "cell_type": "markdown",
   "metadata": {},
   "source": [
    "### days exposition"
   ]
  },
  {
   "cell_type": "code",
   "execution_count": 14,
   "metadata": {},
   "outputs": [
    {
     "data": {
      "text/plain": [
       "0        NaN\n",
       "1         81\n",
       "2        558\n",
       "3        424\n",
       "4        121\n",
       "        ... \n",
       "23694    NaN\n",
       "23695     45\n",
       "23696    NaN\n",
       "23697    602\n",
       "23698    NaN\n",
       "Name: days_exposition, Length: 23565, dtype: Int64"
      ]
     },
     "execution_count": 14,
     "metadata": {},
     "output_type": "execute_result"
    }
   ],
   "source": [
    "data['days_exposition'] = data['days_exposition'].astype('float32').astype('Int64')\n",
    "data['days_exposition']"
   ]
  },
  {
   "cell_type": "markdown",
   "metadata": {},
   "source": [
    "<b>Вывод</b><br>\n",
    "- Мы поменяли дату на более читаемый формат. Так же заполнили пропуски нулевыми значениями там, где скорее всего данные не заполнены по причине их отсутсвия. Например, пропущенные данные в колонке balcony скорее всего обусловлены тем, что балконов там нет. По этой же аналогии с is_apartment, parks_around3000, ponds_around3000.<br>\n",
    "- Так же изменяем тип данных там, где это требуется. Например, балконы. Их не может быть два с половиной, поэтому меняем на целочисленный тип. По аналогии меняем floors_total, parks_around3000, ponds_around3000.<br>\n",
    "- Удалили строки с пропущенными значениями для столбца locality_name, floors_total, т.к. пропущенных значений там менее 100, что является менее 1% и это не помешает нам в раследованиях.<br>\n",
    "- Заполнили пропуски в столбце ceiling_height на среднее, т.к. потолки в квартирах всегда варируются в этом диапазоне и редкие исключения не сильно скажутся на результате."
   ]
  },
  {
   "cell_type": "markdown",
   "metadata": {},
   "source": [
    "## Расчёты и добавление результатов в таблицу"
   ]
  },
  {
   "cell_type": "markdown",
   "metadata": {},
   "source": [
    "### square meter area"
   ]
  },
  {
   "cell_type": "code",
   "execution_count": 15,
   "metadata": {},
   "outputs": [
    {
     "data": {
      "text/plain": [
       "0        120370.370370\n",
       "1         82920.792079\n",
       "2         92785.714286\n",
       "3        408176.100629\n",
       "4        100000.000000\n",
       "             ...      \n",
       "23694     72490.845228\n",
       "23695     52542.372881\n",
       "23696     44091.710758\n",
       "23697    149511.400651\n",
       "23698     41795.665635\n",
       "Name: square_meter_area, Length: 23565, dtype: float64"
      ]
     },
     "execution_count": 15,
     "metadata": {},
     "output_type": "execute_result"
    }
   ],
   "source": [
    "data['square_meter_area'] = data['last_price'] / data['total_area']\n",
    "data['square_meter_area']"
   ]
  },
  {
   "cell_type": "markdown",
   "metadata": {},
   "source": [
    "### date"
   ]
  },
  {
   "cell_type": "code",
   "execution_count": 16,
   "metadata": {},
   "outputs": [
    {
     "data": {
      "text/plain": [
       "0            четверг 3-2019\n",
       "1           вторник 12-2018\n",
       "2            четверг 8-2015\n",
       "3            пятница 7-2015\n",
       "4            вторник 6-2018\n",
       "                ...        \n",
       "23694        вторник 3-2017\n",
       "23695    понедельник 1-2018\n",
       "23696    воскресенье 2-2018\n",
       "23697        вторник 3-2017\n",
       "23698        пятница 7-2017\n",
       "Name: date, Length: 23565, dtype: object"
      ]
     },
     "execution_count": 16,
     "metadata": {},
     "output_type": "execute_result"
    }
   ],
   "source": [
    "days = ['понедельник', 'вторник', 'среда', 'четверг', 'пятница', 'суббота', 'воскресенье']\n",
    "weekday = data['first_day_exposition'].dt.dayofweek.apply(lambda x: days[x])\n",
    "years = data['first_day_exposition'].dt.year.astype(str)\n",
    "months = data['first_day_exposition'].dt.month.astype(str)\n",
    "data['date'] = weekday + ' ' + months + '-' + years\n",
    "data['date']"
   ]
  },
  {
   "cell_type": "markdown",
   "metadata": {},
   "source": [
    "### floor category"
   ]
  },
  {
   "cell_type": "code",
   "execution_count": 17,
   "metadata": {},
   "outputs": [
    {
     "data": {
      "text/plain": [
       "0        другой\n",
       "1        первый\n",
       "2        другой\n",
       "3        другой\n",
       "4        другой\n",
       "          ...  \n",
       "23694    другой\n",
       "23695    другой\n",
       "23696    первый\n",
       "23697    другой\n",
       "23698    первый\n",
       "Name: floor_category, Length: 23565, dtype: object"
      ]
     },
     "execution_count": 17,
     "metadata": {},
     "output_type": "execute_result"
    }
   ],
   "source": [
    "def fl_category(row):\n",
    "    floor = row['floor']\n",
    "    floors_total = row['floors_total']\n",
    "    if floor == 1:\n",
    "        return 'первый'\n",
    "    elif floor == floors_total:\n",
    "        return 'последний'\n",
    "    else:\n",
    "        return 'другой'\n",
    "data['floor_category'] = data.apply(fl_category, axis=1)\n",
    "data['floor_category']"
   ]
  },
  {
   "cell_type": "markdown",
   "metadata": {},
   "source": [
    "### living area ratio"
   ]
  },
  {
   "cell_type": "code",
   "execution_count": 18,
   "metadata": {},
   "outputs": [
    {
     "data": {
      "text/html": [
       "<div>\n",
       "<style scoped>\n",
       "    .dataframe tbody tr th:only-of-type {\n",
       "        vertical-align: middle;\n",
       "    }\n",
       "\n",
       "    .dataframe tbody tr th {\n",
       "        vertical-align: top;\n",
       "    }\n",
       "\n",
       "    .dataframe thead th {\n",
       "        text-align: right;\n",
       "    }\n",
       "</style>\n",
       "<table border=\"1\" class=\"dataframe\">\n",
       "  <thead>\n",
       "    <tr style=\"text-align: right;\">\n",
       "      <th></th>\n",
       "      <th>living_area_ratio</th>\n",
       "      <th>kitchen_area_ratio</th>\n",
       "      <th>total_area</th>\n",
       "    </tr>\n",
       "  </thead>\n",
       "  <tbody>\n",
       "    <tr>\n",
       "      <td>0</td>\n",
       "      <td>0.472222</td>\n",
       "      <td>0.231481</td>\n",
       "      <td>108.00</td>\n",
       "    </tr>\n",
       "    <tr>\n",
       "      <td>1</td>\n",
       "      <td>0.460396</td>\n",
       "      <td>0.272277</td>\n",
       "      <td>40.40</td>\n",
       "    </tr>\n",
       "    <tr>\n",
       "      <td>2</td>\n",
       "      <td>0.612500</td>\n",
       "      <td>0.148214</td>\n",
       "      <td>56.00</td>\n",
       "    </tr>\n",
       "    <tr>\n",
       "      <td>3</td>\n",
       "      <td>NaN</td>\n",
       "      <td>NaN</td>\n",
       "      <td>159.00</td>\n",
       "    </tr>\n",
       "    <tr>\n",
       "      <td>4</td>\n",
       "      <td>0.320000</td>\n",
       "      <td>0.410000</td>\n",
       "      <td>100.00</td>\n",
       "    </tr>\n",
       "    <tr>\n",
       "      <td>...</td>\n",
       "      <td>...</td>\n",
       "      <td>...</td>\n",
       "      <td>...</td>\n",
       "    </tr>\n",
       "    <tr>\n",
       "      <td>23694</td>\n",
       "      <td>0.547792</td>\n",
       "      <td>0.103356</td>\n",
       "      <td>133.81</td>\n",
       "    </tr>\n",
       "    <tr>\n",
       "      <td>23695</td>\n",
       "      <td>0.644068</td>\n",
       "      <td>0.144068</td>\n",
       "      <td>59.00</td>\n",
       "    </tr>\n",
       "    <tr>\n",
       "      <td>23696</td>\n",
       "      <td>0.523810</td>\n",
       "      <td>0.476190</td>\n",
       "      <td>56.70</td>\n",
       "    </tr>\n",
       "    <tr>\n",
       "      <td>23697</td>\n",
       "      <td>NaN</td>\n",
       "      <td>0.303583</td>\n",
       "      <td>76.75</td>\n",
       "    </tr>\n",
       "    <tr>\n",
       "      <td>23698</td>\n",
       "      <td>0.380805</td>\n",
       "      <td>0.278638</td>\n",
       "      <td>32.30</td>\n",
       "    </tr>\n",
       "  </tbody>\n",
       "</table>\n",
       "<p>23565 rows × 3 columns</p>\n",
       "</div>"
      ],
      "text/plain": [
       "       living_area_ratio  kitchen_area_ratio  total_area\n",
       "0               0.472222            0.231481      108.00\n",
       "1               0.460396            0.272277       40.40\n",
       "2               0.612500            0.148214       56.00\n",
       "3                    NaN                 NaN      159.00\n",
       "4               0.320000            0.410000      100.00\n",
       "...                  ...                 ...         ...\n",
       "23694           0.547792            0.103356      133.81\n",
       "23695           0.644068            0.144068       59.00\n",
       "23696           0.523810            0.476190       56.70\n",
       "23697                NaN            0.303583       76.75\n",
       "23698           0.380805            0.278638       32.30\n",
       "\n",
       "[23565 rows x 3 columns]"
      ]
     },
     "metadata": {},
     "output_type": "display_data"
    }
   ],
   "source": [
    "data['living_area_ratio'] = data['living_area'] / data['total_area']\n",
    "data['kitchen_area_ratio'] = data['kitchen_area'] / data['total_area']\n",
    "display(data[['living_area_ratio', 'kitchen_area_ratio', 'total_area']])"
   ]
  },
  {
   "cell_type": "markdown",
   "metadata": {},
   "source": [
    "## Исследовательский анализ данных"
   ]
  },
  {
   "cell_type": "markdown",
   "metadata": {},
   "source": [
    "### "
   ]
  },
  {
   "cell_type": "markdown",
   "metadata": {},
   "source": [
    "Изучите следующие параметры: площадь, цена, число комнат, высота потолков. Постройте гистограммы для каждого параметра."
   ]
  },
  {
   "cell_type": "code",
   "execution_count": 19,
   "metadata": {
    "scrolled": true
   },
   "outputs": [
    {
     "data": {
      "text/html": [
       "<div>\n",
       "<style scoped>\n",
       "    .dataframe tbody tr th:only-of-type {\n",
       "        vertical-align: middle;\n",
       "    }\n",
       "\n",
       "    .dataframe tbody tr th {\n",
       "        vertical-align: top;\n",
       "    }\n",
       "\n",
       "    .dataframe thead th {\n",
       "        text-align: right;\n",
       "    }\n",
       "</style>\n",
       "<table border=\"1\" class=\"dataframe\">\n",
       "  <thead>\n",
       "    <tr style=\"text-align: right;\">\n",
       "      <th></th>\n",
       "      <th>total_area</th>\n",
       "      <th>last_price</th>\n",
       "      <th>rooms</th>\n",
       "      <th>ceiling_height</th>\n",
       "    </tr>\n",
       "  </thead>\n",
       "  <tbody>\n",
       "    <tr>\n",
       "      <td>count</td>\n",
       "      <td>23565.000000</td>\n",
       "      <td>2.356500e+04</td>\n",
       "      <td>23565.000000</td>\n",
       "      <td>23565.000000</td>\n",
       "    </tr>\n",
       "    <tr>\n",
       "      <td>mean</td>\n",
       "      <td>60.322824</td>\n",
       "      <td>6.540058e+06</td>\n",
       "      <td>2.070656</td>\n",
       "      <td>2.771366</td>\n",
       "    </tr>\n",
       "    <tr>\n",
       "      <td>std</td>\n",
       "      <td>35.657060</td>\n",
       "      <td>1.091093e+07</td>\n",
       "      <td>1.078591</td>\n",
       "      <td>0.989266</td>\n",
       "    </tr>\n",
       "    <tr>\n",
       "      <td>min</td>\n",
       "      <td>12.000000</td>\n",
       "      <td>1.219000e+04</td>\n",
       "      <td>0.000000</td>\n",
       "      <td>1.000000</td>\n",
       "    </tr>\n",
       "    <tr>\n",
       "      <td>25%</td>\n",
       "      <td>40.000000</td>\n",
       "      <td>3.400000e+06</td>\n",
       "      <td>1.000000</td>\n",
       "      <td>2.600000</td>\n",
       "    </tr>\n",
       "    <tr>\n",
       "      <td>50%</td>\n",
       "      <td>52.000000</td>\n",
       "      <td>4.646000e+06</td>\n",
       "      <td>2.000000</td>\n",
       "      <td>2.771499</td>\n",
       "    </tr>\n",
       "    <tr>\n",
       "      <td>75%</td>\n",
       "      <td>69.700000</td>\n",
       "      <td>6.790000e+06</td>\n",
       "      <td>3.000000</td>\n",
       "      <td>2.771499</td>\n",
       "    </tr>\n",
       "    <tr>\n",
       "      <td>max</td>\n",
       "      <td>900.000000</td>\n",
       "      <td>7.630000e+08</td>\n",
       "      <td>19.000000</td>\n",
       "      <td>100.000000</td>\n",
       "    </tr>\n",
       "  </tbody>\n",
       "</table>\n",
       "</div>"
      ],
      "text/plain": [
       "         total_area    last_price         rooms  ceiling_height\n",
       "count  23565.000000  2.356500e+04  23565.000000    23565.000000\n",
       "mean      60.322824  6.540058e+06      2.070656        2.771366\n",
       "std       35.657060  1.091093e+07      1.078591        0.989266\n",
       "min       12.000000  1.219000e+04      0.000000        1.000000\n",
       "25%       40.000000  3.400000e+06      1.000000        2.600000\n",
       "50%       52.000000  4.646000e+06      2.000000        2.771499\n",
       "75%       69.700000  6.790000e+06      3.000000        2.771499\n",
       "max      900.000000  7.630000e+08     19.000000      100.000000"
      ]
     },
     "execution_count": 19,
     "metadata": {},
     "output_type": "execute_result"
    }
   ],
   "source": [
    "data[['total_area', 'last_price', 'rooms', 'ceiling_height']].describe()"
   ]
  },
  {
   "cell_type": "code",
   "execution_count": 20,
   "metadata": {
    "scrolled": true
   },
   "outputs": [
    {
     "data": {
      "image/png": "[encoded data removed]",
      "text/plain": [
       "<Figure size 432x288 with 1 Axes>"
      ]
     },
     "metadata": {
      "needs_background": "light"
     },
     "output_type": "display_data"
    }
   ],
   "source": [
    "data.hist('last_price', bins=70, range=(0, 15000000));"
   ]
  },
  {
   "cell_type": "code",
   "execution_count": 21,
   "metadata": {
    "scrolled": true
   },
   "outputs": [
    {
     "data": {
      "image/png": "[encoded data removed]",
      "text/plain": [
       "<Figure size 432x288 with 1 Axes>"
      ]
     },
     "metadata": {
      "needs_background": "light"
     },
     "output_type": "display_data"
    }
   ],
   "source": [
    "data.hist('total_area', bins=40, range=(0, 200));"
   ]
  },
  {
   "cell_type": "code",
   "execution_count": 22,
   "metadata": {
    "scrolled": true
   },
   "outputs": [
    {
     "data": {
      "image/png": "[encoded data removed]",
      "text/plain": [
       "<Figure size 432x288 with 1 Axes>"
      ]
     },
     "metadata": {
      "needs_background": "light"
     },
     "output_type": "display_data"
    }
   ],
   "source": [
    "    data.hist('rooms', bins=10, range=(0, 8));"
   ]
  },
  {
   "cell_type": "code",
   "execution_count": 23,
   "metadata": {
    "scrolled": true
   },
   "outputs": [
    {
     "data": {
      "image/png": "[encoded data removed]",
      "text/plain": [
       "<Figure size 432x288 with 1 Axes>"
      ]
     },
     "metadata": {
      "needs_background": "light"
     },
     "output_type": "display_data"
    }
   ],
   "source": [
    "data.hist('ceiling_height', bins=40, range=(2, 5));"
   ]
  },
  {
   "cell_type": "markdown",
   "metadata": {},
   "source": [
    "### "
   ]
  },
  {
   "cell_type": "markdown",
   "metadata": {},
   "source": [
    "- Изучите время продажи квартиры.\n",
    "- Постройте гистограмму. Посчитайте среднее и медиану.\n",
    "- Опишите, сколько обычно занимает продажа.\n",
    "- Когда можно считать, что продажи прошли очень быстро, а когда необычно долго?"
   ]
  },
  {
   "cell_type": "code",
   "execution_count": 24,
   "metadata": {
    "scrolled": true
   },
   "outputs": [
    {
     "data": {
      "text/plain": [
       "count    20394.000000\n",
       "mean       180.741395\n",
       "std        219.732782\n",
       "min          1.000000\n",
       "25%         45.000000\n",
       "50%         95.000000\n",
       "75%        231.000000\n",
       "max       1580.000000\n",
       "Name: days_exposition, dtype: float64"
      ]
     },
     "execution_count": 24,
     "metadata": {},
     "output_type": "execute_result"
    }
   ],
   "source": [
    "data['days_exposition'].describe()"
   ]
  },
  {
   "cell_type": "code",
   "execution_count": 25,
   "metadata": {
    "scrolled": false
   },
   "outputs": [
    {
     "data": {
      "image/png": "[encoded data removed]",
      "text/plain": [
       "<Figure size 432x288 with 1 Axes>"
      ]
     },
     "metadata": {
      "needs_background": "light"
     },
     "output_type": "display_data"
    }
   ],
   "source": [
    "data.hist('days_exposition', bins=20, range=(0, 365*3));"
   ]
  },
  {
   "cell_type": "code",
   "execution_count": 26,
   "metadata": {},
   "outputs": [
    {
     "data": {
      "image/png": "[encoded data removed]",
      "text/plain": [
       "<Figure size 432x288 with 1 Axes>"
      ]
     },
     "metadata": {
      "needs_background": "light"
     },
     "output_type": "display_data"
    }
   ],
   "source": [
    "data.boxplot('days_exposition');"
   ]
  },
  {
   "cell_type": "code",
   "execution_count": 27,
   "metadata": {
    "scrolled": true
   },
   "outputs": [
    {
     "name": "stdout",
     "output_type": "stream",
     "text": [
      "180.7413945278023\n",
      "95.0\n"
     ]
    }
   ],
   "source": [
    "print(data['days_exposition'].mean())\n",
    "print(data['days_exposition'].median())"
   ]
  },
  {
   "cell_type": "markdown",
   "metadata": {},
   "source": [
    "<b>Вывод</b>"
   ]
  },
  {
   "cell_type": "markdown",
   "metadata": {},
   "source": [
    "Обычно продажа занимает от 95 до 180 дней.\n",
    "Сверхбыстрыми можно считать квартиры, проданные менее чем за 50 дней. Сверхдолгими же, квартиры, проданные более чем за 500 дней с момента объявления."
   ]
  },
  {
   "cell_type": "markdown",
   "metadata": {},
   "source": [
    "### "
   ]
  },
  {
   "cell_type": "markdown",
   "metadata": {},
   "source": [
    "- Уберите редкие и выбивающиеся значения.\n",
    "- Опишите, какие особенности обнаружили."
   ]
  },
  {
   "cell_type": "code",
   "execution_count": 28,
   "metadata": {
    "scrolled": false
   },
   "outputs": [
    {
     "data": {
      "text/html": [
       "<div>\n",
       "<style scoped>\n",
       "    .dataframe tbody tr th:only-of-type {\n",
       "        vertical-align: middle;\n",
       "    }\n",
       "\n",
       "    .dataframe tbody tr th {\n",
       "        vertical-align: top;\n",
       "    }\n",
       "\n",
       "    .dataframe thead th {\n",
       "        text-align: right;\n",
       "    }\n",
       "</style>\n",
       "<table border=\"1\" class=\"dataframe\">\n",
       "  <thead>\n",
       "    <tr style=\"text-align: right;\">\n",
       "      <th></th>\n",
       "      <th>total_images</th>\n",
       "      <th>last_price</th>\n",
       "      <th>total_area</th>\n",
       "      <th>rooms</th>\n",
       "      <th>ceiling_height</th>\n",
       "      <th>floors_total</th>\n",
       "      <th>living_area</th>\n",
       "      <th>floor</th>\n",
       "      <th>kitchen_area</th>\n",
       "      <th>balcony</th>\n",
       "      <th>airports_nearest</th>\n",
       "      <th>cityCenters_nearest</th>\n",
       "      <th>parks_around3000</th>\n",
       "      <th>parks_nearest</th>\n",
       "      <th>ponds_around3000</th>\n",
       "      <th>ponds_nearest</th>\n",
       "      <th>days_exposition</th>\n",
       "      <th>square_meter_area</th>\n",
       "      <th>living_area_ratio</th>\n",
       "      <th>kitchen_area_ratio</th>\n",
       "    </tr>\n",
       "  </thead>\n",
       "  <tbody>\n",
       "    <tr>\n",
       "      <td>count</td>\n",
       "      <td>23565.000000</td>\n",
       "      <td>2.356500e+04</td>\n",
       "      <td>23565.000000</td>\n",
       "      <td>23565.000000</td>\n",
       "      <td>23565.000000</td>\n",
       "      <td>23565.000000</td>\n",
       "      <td>21700.000000</td>\n",
       "      <td>23565.000000</td>\n",
       "      <td>22138.000000</td>\n",
       "      <td>23565.000000</td>\n",
       "      <td>18041.000000</td>\n",
       "      <td>23565.000000</td>\n",
       "      <td>23565.000000</td>\n",
       "      <td>8030.000000</td>\n",
       "      <td>23565.000000</td>\n",
       "      <td>9036.000000</td>\n",
       "      <td>20394.000000</td>\n",
       "      <td>2.356500e+04</td>\n",
       "      <td>21700.000000</td>\n",
       "      <td>22138.000000</td>\n",
       "    </tr>\n",
       "    <tr>\n",
       "      <td>mean</td>\n",
       "      <td>9.878421</td>\n",
       "      <td>6.540058e+06</td>\n",
       "      <td>60.322824</td>\n",
       "      <td>2.070656</td>\n",
       "      <td>2.771366</td>\n",
       "      <td>10.675875</td>\n",
       "      <td>34.454822</td>\n",
       "      <td>5.878124</td>\n",
       "      <td>10.847306</td>\n",
       "      <td>0.593677</td>\n",
       "      <td>28797.082701</td>\n",
       "      <td>13937.236898</td>\n",
       "      <td>0.468831</td>\n",
       "      <td>490.580448</td>\n",
       "      <td>0.589900</td>\n",
       "      <td>518.289509</td>\n",
       "      <td>180.741395</td>\n",
       "      <td>9.940584e+04</td>\n",
       "      <td>0.564937</td>\n",
       "      <td>0.194069</td>\n",
       "    </tr>\n",
       "    <tr>\n",
       "      <td>std</td>\n",
       "      <td>5.681156</td>\n",
       "      <td>1.091093e+07</td>\n",
       "      <td>35.657060</td>\n",
       "      <td>1.078591</td>\n",
       "      <td>0.989266</td>\n",
       "      <td>6.594823</td>\n",
       "      <td>22.045359</td>\n",
       "      <td>4.871485</td>\n",
       "      <td>6.791595</td>\n",
       "      <td>0.960660</td>\n",
       "      <td>12632.499735</td>\n",
       "      <td>7555.425451</td>\n",
       "      <td>0.748403</td>\n",
       "      <td>341.572956</td>\n",
       "      <td>0.883966</td>\n",
       "      <td>278.009558</td>\n",
       "      <td>219.732782</td>\n",
       "      <td>5.038943e+04</td>\n",
       "      <td>0.105310</td>\n",
       "      <td>0.083352</td>\n",
       "    </tr>\n",
       "    <tr>\n",
       "      <td>min</td>\n",
       "      <td>0.000000</td>\n",
       "      <td>1.219000e+04</td>\n",
       "      <td>12.000000</td>\n",
       "      <td>0.000000</td>\n",
       "      <td>1.000000</td>\n",
       "      <td>1.000000</td>\n",
       "      <td>2.000000</td>\n",
       "      <td>1.000000</td>\n",
       "      <td>0.000000</td>\n",
       "      <td>0.000000</td>\n",
       "      <td>0.000000</td>\n",
       "      <td>181.000000</td>\n",
       "      <td>0.000000</td>\n",
       "      <td>1.000000</td>\n",
       "      <td>0.000000</td>\n",
       "      <td>13.000000</td>\n",
       "      <td>1.000000</td>\n",
       "      <td>1.118349e+02</td>\n",
       "      <td>0.021583</td>\n",
       "      <td>0.000000</td>\n",
       "    </tr>\n",
       "    <tr>\n",
       "      <td>25%</td>\n",
       "      <td>6.000000</td>\n",
       "      <td>3.400000e+06</td>\n",
       "      <td>40.000000</td>\n",
       "      <td>1.000000</td>\n",
       "      <td>2.600000</td>\n",
       "      <td>5.000000</td>\n",
       "      <td>18.600000</td>\n",
       "      <td>2.000000</td>\n",
       "      <td>7.000000</td>\n",
       "      <td>0.000000</td>\n",
       "      <td>18565.000000</td>\n",
       "      <td>10935.000000</td>\n",
       "      <td>0.000000</td>\n",
       "      <td>288.000000</td>\n",
       "      <td>0.000000</td>\n",
       "      <td>293.000000</td>\n",
       "      <td>45.000000</td>\n",
       "      <td>7.656613e+04</td>\n",
       "      <td>0.495444</td>\n",
       "      <td>0.134545</td>\n",
       "    </tr>\n",
       "    <tr>\n",
       "      <td>50%</td>\n",
       "      <td>9.000000</td>\n",
       "      <td>4.646000e+06</td>\n",
       "      <td>52.000000</td>\n",
       "      <td>2.000000</td>\n",
       "      <td>2.771499</td>\n",
       "      <td>9.000000</td>\n",
       "      <td>30.000000</td>\n",
       "      <td>4.000000</td>\n",
       "      <td>9.270000</td>\n",
       "      <td>0.000000</td>\n",
       "      <td>26757.000000</td>\n",
       "      <td>13098.500000</td>\n",
       "      <td>0.000000</td>\n",
       "      <td>455.000000</td>\n",
       "      <td>0.000000</td>\n",
       "      <td>503.000000</td>\n",
       "      <td>95.000000</td>\n",
       "      <td>9.500000e+04</td>\n",
       "      <td>0.568210</td>\n",
       "      <td>0.175396</td>\n",
       "    </tr>\n",
       "    <tr>\n",
       "      <td>75%</td>\n",
       "      <td>14.000000</td>\n",
       "      <td>6.790000e+06</td>\n",
       "      <td>69.700000</td>\n",
       "      <td>3.000000</td>\n",
       "      <td>2.771499</td>\n",
       "      <td>16.000000</td>\n",
       "      <td>42.300000</td>\n",
       "      <td>8.000000</td>\n",
       "      <td>12.000000</td>\n",
       "      <td>1.000000</td>\n",
       "      <td>37273.000000</td>\n",
       "      <td>15237.000000</td>\n",
       "      <td>1.000000</td>\n",
       "      <td>612.000000</td>\n",
       "      <td>1.000000</td>\n",
       "      <td>730.000000</td>\n",
       "      <td>231.000000</td>\n",
       "      <td>1.142132e+05</td>\n",
       "      <td>0.637913</td>\n",
       "      <td>0.239130</td>\n",
       "    </tr>\n",
       "    <tr>\n",
       "      <td>max</td>\n",
       "      <td>50.000000</td>\n",
       "      <td>7.630000e+08</td>\n",
       "      <td>900.000000</td>\n",
       "      <td>19.000000</td>\n",
       "      <td>100.000000</td>\n",
       "      <td>60.000000</td>\n",
       "      <td>409.700000</td>\n",
       "      <td>33.000000</td>\n",
       "      <td>230.000000</td>\n",
       "      <td>5.000000</td>\n",
       "      <td>84869.000000</td>\n",
       "      <td>65968.000000</td>\n",
       "      <td>3.000000</td>\n",
       "      <td>3190.000000</td>\n",
       "      <td>3.000000</td>\n",
       "      <td>1344.000000</td>\n",
       "      <td>1580.000000</td>\n",
       "      <td>1.907500e+06</td>\n",
       "      <td>1.000000</td>\n",
       "      <td>0.913043</td>\n",
       "    </tr>\n",
       "  </tbody>\n",
       "</table>\n",
       "</div>"
      ],
      "text/plain": [
       "       total_images    last_price    total_area         rooms  ceiling_height  \\\n",
       "count  23565.000000  2.356500e+04  23565.000000  23565.000000    23565.000000   \n",
       "mean       9.878421  6.540058e+06     60.322824      2.070656        2.771366   \n",
       "std        5.681156  1.091093e+07     35.657060      1.078591        0.989266   \n",
       "min        0.000000  1.219000e+04     12.000000      0.000000        1.000000   \n",
       "25%        6.000000  3.400000e+06     40.000000      1.000000        2.600000   \n",
       "50%        9.000000  4.646000e+06     52.000000      2.000000        2.771499   \n",
       "75%       14.000000  6.790000e+06     69.700000      3.000000        2.771499   \n",
       "max       50.000000  7.630000e+08    900.000000     19.000000      100.000000   \n",
       "\n",
       "       floors_total   living_area         floor  kitchen_area       balcony  \\\n",
       "count  23565.000000  21700.000000  23565.000000  22138.000000  23565.000000   \n",
       "mean      10.675875     34.454822      5.878124     10.847306      0.593677   \n",
       "std        6.594823     22.045359      4.871485      6.791595      0.960660   \n",
       "min        1.000000      2.000000      1.000000      0.000000      0.000000   \n",
       "25%        5.000000     18.600000      2.000000      7.000000      0.000000   \n",
       "50%        9.000000     30.000000      4.000000      9.270000      0.000000   \n",
       "75%       16.000000     42.300000      8.000000     12.000000      1.000000   \n",
       "max       60.000000    409.700000     33.000000    230.000000      5.000000   \n",
       "\n",
       "       airports_nearest  cityCenters_nearest  parks_around3000  parks_nearest  \\\n",
       "count      18041.000000         23565.000000      23565.000000    8030.000000   \n",
       "mean       28797.082701         13937.236898          0.468831     490.580448   \n",
       "std        12632.499735          7555.425451          0.748403     341.572956   \n",
       "min            0.000000           181.000000          0.000000       1.000000   \n",
       "25%        18565.000000         10935.000000          0.000000     288.000000   \n",
       "50%        26757.000000         13098.500000          0.000000     455.000000   \n",
       "75%        37273.000000         15237.000000          1.000000     612.000000   \n",
       "max        84869.000000         65968.000000          3.000000    3190.000000   \n",
       "\n",
       "       ponds_around3000  ponds_nearest  days_exposition  square_meter_area  \\\n",
       "count      23565.000000    9036.000000     20394.000000       2.356500e+04   \n",
       "mean           0.589900     518.289509       180.741395       9.940584e+04   \n",
       "std            0.883966     278.009558       219.732782       5.038943e+04   \n",
       "min            0.000000      13.000000         1.000000       1.118349e+02   \n",
       "25%            0.000000     293.000000        45.000000       7.656613e+04   \n",
       "50%            0.000000     503.000000        95.000000       9.500000e+04   \n",
       "75%            1.000000     730.000000       231.000000       1.142132e+05   \n",
       "max            3.000000    1344.000000      1580.000000       1.907500e+06   \n",
       "\n",
       "       living_area_ratio  kitchen_area_ratio  \n",
       "count       21700.000000        22138.000000  \n",
       "mean            0.564937            0.194069  \n",
       "std             0.105310            0.083352  \n",
       "min             0.021583            0.000000  \n",
       "25%             0.495444            0.134545  \n",
       "50%             0.568210            0.175396  \n",
       "75%             0.637913            0.239130  \n",
       "max             1.000000            0.913043  "
      ]
     },
     "execution_count": 28,
     "metadata": {},
     "output_type": "execute_result"
    }
   ],
   "source": [
    "data.describe()"
   ]
  },
  {
   "cell_type": "code",
   "execution_count": 29,
   "metadata": {
    "scrolled": true
   },
   "outputs": [
    {
     "data": {
      "image/png": "[encoded data removed]",
      "text/plain": [
       "<Figure size 432x288 with 1 Axes>"
      ]
     },
     "metadata": {
      "needs_background": "light"
     },
     "output_type": "display_data"
    }
   ],
   "source": [
    "data.hist('total_area', bins=70);"
   ]
  },
  {
   "cell_type": "code",
   "execution_count": 30,
   "metadata": {},
   "outputs": [
    {
     "data": {
      "text/plain": [
       "0.009590494377254403"
      ]
     },
     "execution_count": 30,
     "metadata": {},
     "output_type": "execute_result"
    }
   ],
   "source": [
    "len(data.query('total_area > 200')) / len(data)"
   ]
  },
  {
   "cell_type": "code",
   "execution_count": 31,
   "metadata": {},
   "outputs": [],
   "source": [
    "data.drop(data[(data['total_area'] > 200)].index, inplace=True)"
   ]
  },
  {
   "cell_type": "markdown",
   "metadata": {},
   "source": [
    "<b>Коментарий</b>"
   ]
  },
  {
   "cell_type": "markdown",
   "metadata": {},
   "source": [
    "Убираем значения более 200 м. кв. т.к. этих значений менее 1% и они маловостребованны."
   ]
  },
  {
   "cell_type": "code",
   "execution_count": 32,
   "metadata": {},
   "outputs": [
    {
     "name": "stdout",
     "output_type": "stream",
     "text": [
      "0.01096876472856592\n"
     ]
    },
    {
     "data": {
      "image/png": "[encoded data removed]",
      "text/plain": [
       "<Figure size 432x288 with 1 Axes>"
      ]
     },
     "metadata": {
      "needs_background": "light"
     },
     "output_type": "display_data"
    }
   ],
   "source": [
    "data.hist('ceiling_height', bins=10, range=(0, 5))\n",
    "print(len(data.query('ceiling_height > 3.5')) / len(data))\n",
    "data.drop(data[(data['ceiling_height'] > 3.5)].index, inplace=True)"
   ]
  },
  {
   "cell_type": "markdown",
   "metadata": {},
   "source": [
    "<b>Коментарий</b>"
   ]
  },
  {
   "cell_type": "markdown",
   "metadata": {},
   "source": [
    "Убираем значения от 3.5 м. т.к. это редкие значения и маловостребованные квартиры."
   ]
  },
  {
   "cell_type": "code",
   "execution_count": 33,
   "metadata": {
    "scrolled": false
   },
   "outputs": [
    {
     "name": "stdout",
     "output_type": "stream",
     "text": [
      "0.01399298184811333\n"
     ]
    },
    {
     "data": {
      "image/png": "[encoded data removed]",
      "text/plain": [
       "<Figure size 432x288 with 1 Axes>"
      ]
     },
     "metadata": {
      "needs_background": "light"
     },
     "output_type": "display_data"
    }
   ],
   "source": [
    "data.hist('rooms', bins=10)\n",
    "print(len(data.query('rooms > 4')) / len(data))\n",
    "data.drop(data[(data['rooms'] > 4)].index, inplace=True)"
   ]
  },
  {
   "cell_type": "markdown",
   "metadata": {},
   "source": [
    "<b>Коментарий</b>"
   ]
  },
  {
   "cell_type": "markdown",
   "metadata": {},
   "source": [
    "Убираем значения от 4 комнат т.к. это редкие значения и маловостребованные квартиры."
   ]
  },
  {
   "cell_type": "code",
   "execution_count": 34,
   "metadata": {},
   "outputs": [
    {
     "name": "stdout",
     "output_type": "stream",
     "text": [
      "0.010896309314586995\n"
     ]
    },
    {
     "data": {
      "image/png": "[encoded data removed]",
      "text/plain": [
       "<Figure size 432x288 with 1 Axes>"
      ]
     },
     "metadata": {
      "needs_background": "light"
     },
     "output_type": "display_data"
    }
   ],
   "source": [
    "data.hist('living_area', bins=50)\n",
    "print(len(data.query('living_area > 80')) / len(data))\n",
    "data.drop(data[(data['living_area'] > 80)].index, inplace=True)"
   ]
  },
  {
   "cell_type": "markdown",
   "metadata": {},
   "source": [
    "<b>Коментарий</b>"
   ]
  },
  {
   "cell_type": "markdown",
   "metadata": {},
   "source": [
    "Убираем значения от 3.5 м. т.к. это редкие значения."
   ]
  },
  {
   "cell_type": "code",
   "execution_count": 35,
   "metadata": {
    "scrolled": true
   },
   "outputs": [
    {
     "name": "stdout",
     "output_type": "stream",
     "text": [
      "0.030028429282160627\n"
     ]
    },
    {
     "data": {
      "image/png": "[encoded data removed]",
      "text/plain": [
       "<Figure size 432x288 with 1 Axes>"
      ]
     },
     "metadata": {
      "needs_background": "light"
     },
     "output_type": "display_data"
    }
   ],
   "source": [
    "data.hist('days_exposition', bins=50)\n",
    "print(len(data.query('days_exposition > 365*2')) / len(data))\n",
    "data.drop(data[(data['days_exposition'] > 365*2)].index, inplace=True)"
   ]
  },
  {
   "cell_type": "markdown",
   "metadata": {},
   "source": [
    "<b>Коментарий</b>"
   ]
  },
  {
   "cell_type": "markdown",
   "metadata": {},
   "source": [
    "Убираем значения от 2-х лет т.к. это редкие значения."
   ]
  },
  {
   "cell_type": "markdown",
   "metadata": {},
   "source": [
    "### "
   ]
  },
  {
   "cell_type": "markdown",
   "metadata": {},
   "source": [
    "- Какие факторы больше всего влияют на стоимость квартиры?\n",
    "- Изучите, зависит ли цена от площади, числа комнат, удалённости от центра.\n",
    "- Изучите зависимость цены от того, на каком этаже расположена квартира: первом, последнем или другом.\n",
    "- Также изучите зависимость от даты размещения: дня недели, месяца и года."
   ]
  },
  {
   "cell_type": "markdown",
   "metadata": {},
   "source": [
    "<div class=\"alert alert-danger\">\n",
    "<b>Комментарий ревьюера:</b>☁️\n",
    "    \n",
    "    \n",
    "Я бы хотел, чтобы ты проработал оформление, визуальная составляющая очень важна для заказчика, давай добавим больше промежуточных заголовков, то, что ты выносишь в комментарии как в блоке выше оформим в `markdown` ячейку, если где-то возможно, например в выводах используй списки  </div>\n"
   ]
  },
  {
   "cell_type": "code",
   "execution_count": 36,
   "metadata": {
    "scrolled": false
   },
   "outputs": [
    {
     "data": {
      "image/png": "[encoded data removed]",
      "text/plain": [
       "<Figure size 864x360 with 1 Axes>"
      ]
     },
     "metadata": {
      "needs_background": "light"
     },
     "output_type": "display_data"
    }
   ],
   "source": [
    "(\n",
    "    data\n",
    "    .pivot_table(index='rooms', values='last_price')\n",
    "    .plot(grid=True, figsize=(12, 5))\n",
    ");"
   ]
  },
  {
   "cell_type": "code",
   "execution_count": 37,
   "metadata": {},
   "outputs": [
    {
     "data": {
      "image/png": "[encoded data removed]",
      "text/plain": [
       "<Figure size 864x360 with 1 Axes>"
      ]
     },
     "metadata": {
      "needs_background": "light"
     },
     "output_type": "display_data"
    }
   ],
   "source": [
    "(\n",
    "    data\n",
    "    .pivot_table(index='total_area', values='last_price')\n",
    "    .plot(grid=True, figsize=(12, 5))\n",
    ");"
   ]
  },
  {
   "cell_type": "code",
   "execution_count": 38,
   "metadata": {
    "scrolled": true
   },
   "outputs": [
    {
     "data": {
      "image/png": "[encoded data removed]",
      "text/plain": [
       "<Figure size 864x360 with 1 Axes>"
      ]
     },
     "metadata": {
      "needs_background": "light"
     },
     "output_type": "display_data"
    }
   ],
   "source": [
    "(\n",
    "    data\n",
    "    .pivot_table(index='cityCenters_nearest', values='last_price')\n",
    "    .plot(grid=True, figsize=(12, 5))\n",
    ");"
   ]
  },
  {
   "cell_type": "markdown",
   "metadata": {},
   "source": [
    "<b>Коментарий</b>"
   ]
  },
  {
   "cell_type": "markdown",
   "metadata": {},
   "source": [
    "Цена зависит от всех этих параметров.<br>\n",
    "- Чем больше количество комнат, тем квартира дороже. <br>\n",
    "- Так же и с площадью, чем она больше, тем дороже квартира, но с некоторыми исключениями.<br>\n",
    "- Чем дальше квартира от центра, тем она дешевле."
   ]
  },
  {
   "cell_type": "code",
   "execution_count": 39,
   "metadata": {
    "scrolled": true
   },
   "outputs": [
    {
     "data": {
      "text/html": [
       "<div>\n",
       "<style scoped>\n",
       "    .dataframe tbody tr th:only-of-type {\n",
       "        vertical-align: middle;\n",
       "    }\n",
       "\n",
       "    .dataframe tbody tr th {\n",
       "        vertical-align: top;\n",
       "    }\n",
       "\n",
       "    .dataframe thead th {\n",
       "        text-align: right;\n",
       "    }\n",
       "</style>\n",
       "<table border=\"1\" class=\"dataframe\">\n",
       "  <thead>\n",
       "    <tr style=\"text-align: right;\">\n",
       "      <th></th>\n",
       "      <th>mean</th>\n",
       "      <th>count</th>\n",
       "    </tr>\n",
       "    <tr>\n",
       "      <th>floor_category</th>\n",
       "      <th></th>\n",
       "      <th></th>\n",
       "    </tr>\n",
       "  </thead>\n",
       "  <tbody>\n",
       "    <tr>\n",
       "      <td>другой</td>\n",
       "      <td>5830373.79</td>\n",
       "      <td>16130</td>\n",
       "    </tr>\n",
       "    <tr>\n",
       "      <td>последний</td>\n",
       "      <td>5220603.02</td>\n",
       "      <td>2995</td>\n",
       "    </tr>\n",
       "    <tr>\n",
       "      <td>первый</td>\n",
       "      <td>4375540.20</td>\n",
       "      <td>2711</td>\n",
       "    </tr>\n",
       "  </tbody>\n",
       "</table>\n",
       "</div>"
      ],
      "text/plain": [
       "                      mean  count\n",
       "floor_category                   \n",
       "другой          5830373.79  16130\n",
       "последний       5220603.02   2995\n",
       "первый          4375540.20   2711"
      ]
     },
     "execution_count": 39,
     "metadata": {},
     "output_type": "execute_result"
    }
   ],
   "source": [
    "floors_category = data.groupby(['floor_category'])['last_price'].agg(['mean', 'count']).round(decimals=2)\n",
    "floors_category.sort_values(by='mean', ascending=False)"
   ]
  },
  {
   "cell_type": "markdown",
   "metadata": {},
   "source": [
    "<b>Коментарий</b>"
   ]
  },
  {
   "cell_type": "markdown",
   "metadata": {},
   "source": [
    "В таблице выше видна зависимость цены от этажа. Мы можем сравнить первый и последний этажи, т.к. их количество почти равно. На первом этаже средняя цена за квартиру дешевле, чем на последнем. Другие же этажи составляют большую часть по понятным причинам и стоят дороже."
   ]
  },
  {
   "cell_type": "code",
   "execution_count": 40,
   "metadata": {
    "scrolled": true
   },
   "outputs": [
    {
     "data": {
      "image/png": "[encoded data removed]",
      "text/plain": [
       "<Figure size 864x360 with 1 Axes>"
      ]
     },
     "metadata": {
      "needs_background": "light"
     },
     "output_type": "display_data"
    }
   ],
   "source": [
    "(\n",
    "    data\n",
    "    .pivot_table(index='date', values='last_price')\n",
    "    .plot(grid=True, figsize=(12, 5))\n",
    ");"
   ]
  },
  {
   "cell_type": "markdown",
   "metadata": {},
   "source": [
    "### "
   ]
  },
  {
   "cell_type": "markdown",
   "metadata": {},
   "source": [
    "- Выберите 10 населённых пунктов с наибольшим числом объявлений.\n",
    "- Посчитайте среднюю цену квадратного метра в этих населённых пунктах.\n",
    "- Выделите населённые пункты с самой высокой и низкой стоимостью жилья. Эти данные можно найти по имени в столбце locality_name."
   ]
  },
  {
   "cell_type": "code",
   "execution_count": 41,
   "metadata": {},
   "outputs": [],
   "source": [
    "cities = data['locality_name'].value_counts().head(10).index"
   ]
  },
  {
   "cell_type": "markdown",
   "metadata": {},
   "source": [
    "<b>Коментарий</b>"
   ]
  },
  {
   "cell_type": "markdown",
   "metadata": {},
   "source": [
    "Судя по таблице выше, самым дорогим городом является Санкт-Петербург, т.к. цена за 1м. кв. самая высокая. Самым же дешевым является Выборг."
   ]
  },
  {
   "cell_type": "code",
   "execution_count": 53,
   "metadata": {},
   "outputs": [
    {
     "data": {
      "text/plain": [
       "locality_name\n",
       "Санкт-Петербург      112025.377943\n",
       "Пушкин               102284.360915\n",
       "деревня Кудрово       92614.779090\n",
       "посёлок Парголово     90179.108382\n",
       "посёлок Мурино        85828.378504\n",
       "посёлок Шушары        78521.050101\n",
       "Колпино               75351.462534\n",
       "Гатчина               68978.458795\n",
       "Всеволожск            68668.265738\n",
       "Выборг                58136.921452\n",
       "Name: square_meter_area, dtype: float64"
      ]
     },
     "execution_count": 53,
     "metadata": {},
     "output_type": "execute_result"
    }
   ],
   "source": [
    "top_10_most_popular = data.groupby('locality_name')['square_meter_area'].count().sort_values(ascending=False).head(10).index\n",
    "data.query('locality_name in @top_10_most_popular').groupby('locality_name')['square_meter_area'].mean().sort_values(ascending=False)\n"
   ]
  },
  {
   "cell_type": "markdown",
   "metadata": {},
   "source": [
    "### "
   ]
  },
  {
   "cell_type": "markdown",
   "metadata": {},
   "source": [
    "- Изучите предложения квартир: для каждой квартиры есть информация о расстоянии до центра.\n",
    "- Выделите квартиры в Санкт-Петербурге (locality_name). Ваша задача — выяснить, какая область входит в центр.\n",
    "- Создайте столбец с расстоянием до центра в километрах: округлите до целых значений.\n",
    "- После этого посчитайте среднюю цену для каждого километра. Постройте график: он должен показывать,\n",
    "- как цена зависит от удалённости от центра. Определите границу, где график сильно меняется, — это и будет центральная зона."
   ]
  },
  {
   "cell_type": "code",
   "execution_count": 43,
   "metadata": {},
   "outputs": [
    {
     "data": {
      "text/plain": [
       "0        16.0\n",
       "1        19.0\n",
       "2        14.0\n",
       "3         7.0\n",
       "4         8.0\n",
       "         ... \n",
       "23693    34.0\n",
       "23695    13.0\n",
       "23696    13.0\n",
       "23697    10.0\n",
       "23698    13.0\n",
       "Name: city_center_kilometers, Length: 21836, dtype: float64"
      ]
     },
     "execution_count": 43,
     "metadata": {},
     "output_type": "execute_result"
    }
   ],
   "source": [
    "data['city_center_kilometers'] = round(data['cityCenters_nearest'] / 1000)\n",
    "data['city_center_kilometers']"
   ]
  },
  {
   "cell_type": "code",
   "execution_count": 44,
   "metadata": {
    "scrolled": false
   },
   "outputs": [
    {
     "data": {
      "text/html": [
       "<div>\n",
       "<style scoped>\n",
       "    .dataframe tbody tr th:only-of-type {\n",
       "        vertical-align: middle;\n",
       "    }\n",
       "\n",
       "    .dataframe tbody tr th {\n",
       "        vertical-align: top;\n",
       "    }\n",
       "\n",
       "    .dataframe thead th {\n",
       "        text-align: right;\n",
       "    }\n",
       "</style>\n",
       "<table border=\"1\" class=\"dataframe\">\n",
       "  <thead>\n",
       "    <tr style=\"text-align: right;\">\n",
       "      <th></th>\n",
       "      <th>total_images</th>\n",
       "      <th>last_price</th>\n",
       "      <th>total_area</th>\n",
       "      <th>first_day_exposition</th>\n",
       "      <th>rooms</th>\n",
       "      <th>ceiling_height</th>\n",
       "      <th>floors_total</th>\n",
       "      <th>living_area</th>\n",
       "      <th>floor</th>\n",
       "      <th>is_apartment</th>\n",
       "      <th>studio</th>\n",
       "      <th>open_plan</th>\n",
       "      <th>kitchen_area</th>\n",
       "      <th>balcony</th>\n",
       "      <th>locality_name</th>\n",
       "      <th>airports_nearest</th>\n",
       "      <th>cityCenters_nearest</th>\n",
       "      <th>parks_around3000</th>\n",
       "      <th>parks_nearest</th>\n",
       "      <th>ponds_around3000</th>\n",
       "      <th>ponds_nearest</th>\n",
       "      <th>days_exposition</th>\n",
       "      <th>square_meter_area</th>\n",
       "      <th>date</th>\n",
       "      <th>floor_category</th>\n",
       "      <th>living_area_ratio</th>\n",
       "      <th>kitchen_area_ratio</th>\n",
       "      <th>city_center_kilometers</th>\n",
       "    </tr>\n",
       "  </thead>\n",
       "  <tbody>\n",
       "    <tr>\n",
       "      <td>0</td>\n",
       "      <td>20</td>\n",
       "      <td>13000000.0</td>\n",
       "      <td>108.00</td>\n",
       "      <td>2019-03-07</td>\n",
       "      <td>3</td>\n",
       "      <td>2.700000</td>\n",
       "      <td>16</td>\n",
       "      <td>51.0</td>\n",
       "      <td>8</td>\n",
       "      <td>False</td>\n",
       "      <td>False</td>\n",
       "      <td>False</td>\n",
       "      <td>25.0</td>\n",
       "      <td>0</td>\n",
       "      <td>Санкт-Петербург</td>\n",
       "      <td>18863.0</td>\n",
       "      <td>16028.0</td>\n",
       "      <td>1</td>\n",
       "      <td>482.0</td>\n",
       "      <td>2</td>\n",
       "      <td>755.0</td>\n",
       "      <td>NaN</td>\n",
       "      <td>120370.370370</td>\n",
       "      <td>четверг 3-2019</td>\n",
       "      <td>другой</td>\n",
       "      <td>0.472222</td>\n",
       "      <td>0.231481</td>\n",
       "      <td>16.0</td>\n",
       "    </tr>\n",
       "    <tr>\n",
       "      <td>2</td>\n",
       "      <td>10</td>\n",
       "      <td>5196000.0</td>\n",
       "      <td>56.00</td>\n",
       "      <td>2015-08-20</td>\n",
       "      <td>2</td>\n",
       "      <td>2.771499</td>\n",
       "      <td>5</td>\n",
       "      <td>34.3</td>\n",
       "      <td>4</td>\n",
       "      <td>False</td>\n",
       "      <td>False</td>\n",
       "      <td>False</td>\n",
       "      <td>8.3</td>\n",
       "      <td>0</td>\n",
       "      <td>Санкт-Петербург</td>\n",
       "      <td>21741.0</td>\n",
       "      <td>13933.0</td>\n",
       "      <td>1</td>\n",
       "      <td>90.0</td>\n",
       "      <td>2</td>\n",
       "      <td>574.0</td>\n",
       "      <td>558</td>\n",
       "      <td>92785.714286</td>\n",
       "      <td>четверг 8-2015</td>\n",
       "      <td>другой</td>\n",
       "      <td>0.612500</td>\n",
       "      <td>0.148214</td>\n",
       "      <td>14.0</td>\n",
       "    </tr>\n",
       "    <tr>\n",
       "      <td>3</td>\n",
       "      <td>0</td>\n",
       "      <td>64900000.0</td>\n",
       "      <td>159.00</td>\n",
       "      <td>2015-07-24</td>\n",
       "      <td>3</td>\n",
       "      <td>2.771499</td>\n",
       "      <td>14</td>\n",
       "      <td>NaN</td>\n",
       "      <td>9</td>\n",
       "      <td>False</td>\n",
       "      <td>False</td>\n",
       "      <td>False</td>\n",
       "      <td>NaN</td>\n",
       "      <td>0</td>\n",
       "      <td>Санкт-Петербург</td>\n",
       "      <td>28098.0</td>\n",
       "      <td>6800.0</td>\n",
       "      <td>2</td>\n",
       "      <td>84.0</td>\n",
       "      <td>3</td>\n",
       "      <td>234.0</td>\n",
       "      <td>424</td>\n",
       "      <td>408176.100629</td>\n",
       "      <td>пятница 7-2015</td>\n",
       "      <td>другой</td>\n",
       "      <td>NaN</td>\n",
       "      <td>NaN</td>\n",
       "      <td>7.0</td>\n",
       "    </tr>\n",
       "    <tr>\n",
       "      <td>4</td>\n",
       "      <td>2</td>\n",
       "      <td>10000000.0</td>\n",
       "      <td>100.00</td>\n",
       "      <td>2018-06-19</td>\n",
       "      <td>2</td>\n",
       "      <td>3.030000</td>\n",
       "      <td>14</td>\n",
       "      <td>32.0</td>\n",
       "      <td>13</td>\n",
       "      <td>False</td>\n",
       "      <td>False</td>\n",
       "      <td>False</td>\n",
       "      <td>41.0</td>\n",
       "      <td>0</td>\n",
       "      <td>Санкт-Петербург</td>\n",
       "      <td>31856.0</td>\n",
       "      <td>8098.0</td>\n",
       "      <td>2</td>\n",
       "      <td>112.0</td>\n",
       "      <td>1</td>\n",
       "      <td>48.0</td>\n",
       "      <td>121</td>\n",
       "      <td>100000.000000</td>\n",
       "      <td>вторник 6-2018</td>\n",
       "      <td>другой</td>\n",
       "      <td>0.320000</td>\n",
       "      <td>0.410000</td>\n",
       "      <td>8.0</td>\n",
       "    </tr>\n",
       "    <tr>\n",
       "      <td>7</td>\n",
       "      <td>5</td>\n",
       "      <td>7915000.0</td>\n",
       "      <td>71.60</td>\n",
       "      <td>2019-04-18</td>\n",
       "      <td>2</td>\n",
       "      <td>2.771499</td>\n",
       "      <td>24</td>\n",
       "      <td>NaN</td>\n",
       "      <td>22</td>\n",
       "      <td>False</td>\n",
       "      <td>False</td>\n",
       "      <td>False</td>\n",
       "      <td>18.9</td>\n",
       "      <td>2</td>\n",
       "      <td>Санкт-Петербург</td>\n",
       "      <td>23982.0</td>\n",
       "      <td>11634.0</td>\n",
       "      <td>0</td>\n",
       "      <td>NaN</td>\n",
       "      <td>0</td>\n",
       "      <td>NaN</td>\n",
       "      <td>NaN</td>\n",
       "      <td>110544.692737</td>\n",
       "      <td>четверг 4-2019</td>\n",
       "      <td>другой</td>\n",
       "      <td>NaN</td>\n",
       "      <td>0.263966</td>\n",
       "      <td>12.0</td>\n",
       "    </tr>\n",
       "    <tr>\n",
       "      <td>...</td>\n",
       "      <td>...</td>\n",
       "      <td>...</td>\n",
       "      <td>...</td>\n",
       "      <td>...</td>\n",
       "      <td>...</td>\n",
       "      <td>...</td>\n",
       "      <td>...</td>\n",
       "      <td>...</td>\n",
       "      <td>...</td>\n",
       "      <td>...</td>\n",
       "      <td>...</td>\n",
       "      <td>...</td>\n",
       "      <td>...</td>\n",
       "      <td>...</td>\n",
       "      <td>...</td>\n",
       "      <td>...</td>\n",
       "      <td>...</td>\n",
       "      <td>...</td>\n",
       "      <td>...</td>\n",
       "      <td>...</td>\n",
       "      <td>...</td>\n",
       "      <td>...</td>\n",
       "      <td>...</td>\n",
       "      <td>...</td>\n",
       "      <td>...</td>\n",
       "      <td>...</td>\n",
       "      <td>...</td>\n",
       "      <td>...</td>\n",
       "    </tr>\n",
       "    <tr>\n",
       "      <td>23688</td>\n",
       "      <td>19</td>\n",
       "      <td>9200000.0</td>\n",
       "      <td>101.00</td>\n",
       "      <td>2019-04-01</td>\n",
       "      <td>3</td>\n",
       "      <td>3.050000</td>\n",
       "      <td>15</td>\n",
       "      <td>63.0</td>\n",
       "      <td>12</td>\n",
       "      <td>False</td>\n",
       "      <td>False</td>\n",
       "      <td>False</td>\n",
       "      <td>15.0</td>\n",
       "      <td>0</td>\n",
       "      <td>Санкт-Петербург</td>\n",
       "      <td>15632.0</td>\n",
       "      <td>14428.0</td>\n",
       "      <td>0</td>\n",
       "      <td>NaN</td>\n",
       "      <td>0</td>\n",
       "      <td>NaN</td>\n",
       "      <td>23</td>\n",
       "      <td>91089.108911</td>\n",
       "      <td>понедельник 4-2019</td>\n",
       "      <td>другой</td>\n",
       "      <td>0.623762</td>\n",
       "      <td>0.148515</td>\n",
       "      <td>14.0</td>\n",
       "    </tr>\n",
       "    <tr>\n",
       "      <td>23689</td>\n",
       "      <td>13</td>\n",
       "      <td>3550000.0</td>\n",
       "      <td>35.30</td>\n",
       "      <td>2018-02-28</td>\n",
       "      <td>1</td>\n",
       "      <td>2.860000</td>\n",
       "      <td>15</td>\n",
       "      <td>16.3</td>\n",
       "      <td>4</td>\n",
       "      <td>False</td>\n",
       "      <td>False</td>\n",
       "      <td>False</td>\n",
       "      <td>9.1</td>\n",
       "      <td>2</td>\n",
       "      <td>Санкт-Петербург</td>\n",
       "      <td>17284.0</td>\n",
       "      <td>16081.0</td>\n",
       "      <td>1</td>\n",
       "      <td>353.0</td>\n",
       "      <td>2</td>\n",
       "      <td>652.0</td>\n",
       "      <td>29</td>\n",
       "      <td>100566.572238</td>\n",
       "      <td>среда 2-2018</td>\n",
       "      <td>другой</td>\n",
       "      <td>0.461756</td>\n",
       "      <td>0.257790</td>\n",
       "      <td>16.0</td>\n",
       "    </tr>\n",
       "    <tr>\n",
       "      <td>23690</td>\n",
       "      <td>3</td>\n",
       "      <td>5500000.0</td>\n",
       "      <td>52.00</td>\n",
       "      <td>2018-07-19</td>\n",
       "      <td>2</td>\n",
       "      <td>2.771499</td>\n",
       "      <td>5</td>\n",
       "      <td>31.0</td>\n",
       "      <td>2</td>\n",
       "      <td>False</td>\n",
       "      <td>False</td>\n",
       "      <td>False</td>\n",
       "      <td>6.0</td>\n",
       "      <td>0</td>\n",
       "      <td>Санкт-Петербург</td>\n",
       "      <td>20151.0</td>\n",
       "      <td>6263.0</td>\n",
       "      <td>1</td>\n",
       "      <td>300.0</td>\n",
       "      <td>0</td>\n",
       "      <td>NaN</td>\n",
       "      <td>15</td>\n",
       "      <td>105769.230769</td>\n",
       "      <td>четверг 7-2018</td>\n",
       "      <td>другой</td>\n",
       "      <td>0.596154</td>\n",
       "      <td>0.115385</td>\n",
       "      <td>6.0</td>\n",
       "    </tr>\n",
       "    <tr>\n",
       "      <td>23691</td>\n",
       "      <td>11</td>\n",
       "      <td>9470000.0</td>\n",
       "      <td>72.90</td>\n",
       "      <td>2016-10-13</td>\n",
       "      <td>2</td>\n",
       "      <td>2.750000</td>\n",
       "      <td>25</td>\n",
       "      <td>40.3</td>\n",
       "      <td>7</td>\n",
       "      <td>False</td>\n",
       "      <td>False</td>\n",
       "      <td>False</td>\n",
       "      <td>10.6</td>\n",
       "      <td>1</td>\n",
       "      <td>Санкт-Петербург</td>\n",
       "      <td>19424.0</td>\n",
       "      <td>4489.0</td>\n",
       "      <td>0</td>\n",
       "      <td>NaN</td>\n",
       "      <td>1</td>\n",
       "      <td>806.0</td>\n",
       "      <td>519</td>\n",
       "      <td>129903.978052</td>\n",
       "      <td>четверг 10-2016</td>\n",
       "      <td>другой</td>\n",
       "      <td>0.552812</td>\n",
       "      <td>0.145405</td>\n",
       "      <td>4.0</td>\n",
       "    </tr>\n",
       "    <tr>\n",
       "      <td>23697</td>\n",
       "      <td>13</td>\n",
       "      <td>11475000.0</td>\n",
       "      <td>76.75</td>\n",
       "      <td>2017-03-28</td>\n",
       "      <td>2</td>\n",
       "      <td>3.000000</td>\n",
       "      <td>17</td>\n",
       "      <td>NaN</td>\n",
       "      <td>12</td>\n",
       "      <td>False</td>\n",
       "      <td>False</td>\n",
       "      <td>False</td>\n",
       "      <td>23.3</td>\n",
       "      <td>2</td>\n",
       "      <td>Санкт-Петербург</td>\n",
       "      <td>39140.0</td>\n",
       "      <td>10364.0</td>\n",
       "      <td>2</td>\n",
       "      <td>173.0</td>\n",
       "      <td>3</td>\n",
       "      <td>196.0</td>\n",
       "      <td>602</td>\n",
       "      <td>149511.400651</td>\n",
       "      <td>вторник 3-2017</td>\n",
       "      <td>другой</td>\n",
       "      <td>NaN</td>\n",
       "      <td>0.303583</td>\n",
       "      <td>10.0</td>\n",
       "    </tr>\n",
       "  </tbody>\n",
       "</table>\n",
       "<p>14254 rows × 28 columns</p>\n",
       "</div>"
      ],
      "text/plain": [
       "       total_images  last_price  total_area first_day_exposition  rooms  \\\n",
       "0                20  13000000.0      108.00           2019-03-07      3   \n",
       "2                10   5196000.0       56.00           2015-08-20      2   \n",
       "3                 0  64900000.0      159.00           2015-07-24      3   \n",
       "4                 2  10000000.0      100.00           2018-06-19      2   \n",
       "7                 5   7915000.0       71.60           2019-04-18      2   \n",
       "...             ...         ...         ...                  ...    ...   \n",
       "23688            19   9200000.0      101.00           2019-04-01      3   \n",
       "23689            13   3550000.0       35.30           2018-02-28      1   \n",
       "23690             3   5500000.0       52.00           2018-07-19      2   \n",
       "23691            11   9470000.0       72.90           2016-10-13      2   \n",
       "23697            13  11475000.0       76.75           2017-03-28      2   \n",
       "\n",
       "       ceiling_height  floors_total  living_area  floor  is_apartment  studio  \\\n",
       "0            2.700000            16         51.0      8         False   False   \n",
       "2            2.771499             5         34.3      4         False   False   \n",
       "3            2.771499            14          NaN      9         False   False   \n",
       "4            3.030000            14         32.0     13         False   False   \n",
       "7            2.771499            24          NaN     22         False   False   \n",
       "...               ...           ...          ...    ...           ...     ...   \n",
       "23688        3.050000            15         63.0     12         False   False   \n",
       "23689        2.860000            15         16.3      4         False   False   \n",
       "23690        2.771499             5         31.0      2         False   False   \n",
       "23691        2.750000            25         40.3      7         False   False   \n",
       "23697        3.000000            17          NaN     12         False   False   \n",
       "\n",
       "       open_plan  kitchen_area  balcony    locality_name  airports_nearest  \\\n",
       "0          False          25.0        0  Санкт-Петербург           18863.0   \n",
       "2          False           8.3        0  Санкт-Петербург           21741.0   \n",
       "3          False           NaN        0  Санкт-Петербург           28098.0   \n",
       "4          False          41.0        0  Санкт-Петербург           31856.0   \n",
       "7          False          18.9        2  Санкт-Петербург           23982.0   \n",
       "...          ...           ...      ...              ...               ...   \n",
       "23688      False          15.0        0  Санкт-Петербург           15632.0   \n",
       "23689      False           9.1        2  Санкт-Петербург           17284.0   \n",
       "23690      False           6.0        0  Санкт-Петербург           20151.0   \n",
       "23691      False          10.6        1  Санкт-Петербург           19424.0   \n",
       "23697      False          23.3        2  Санкт-Петербург           39140.0   \n",
       "\n",
       "       cityCenters_nearest  parks_around3000  parks_nearest  ponds_around3000  \\\n",
       "0                  16028.0                 1          482.0                 2   \n",
       "2                  13933.0                 1           90.0                 2   \n",
       "3                   6800.0                 2           84.0                 3   \n",
       "4                   8098.0                 2          112.0                 1   \n",
       "7                  11634.0                 0            NaN                 0   \n",
       "...                    ...               ...            ...               ...   \n",
       "23688              14428.0                 0            NaN                 0   \n",
       "23689              16081.0                 1          353.0                 2   \n",
       "23690               6263.0                 1          300.0                 0   \n",
       "23691               4489.0                 0            NaN                 1   \n",
       "23697              10364.0                 2          173.0                 3   \n",
       "\n",
       "       ponds_nearest  days_exposition  square_meter_area                date  \\\n",
       "0              755.0              NaN      120370.370370      четверг 3-2019   \n",
       "2              574.0              558       92785.714286      четверг 8-2015   \n",
       "3              234.0              424      408176.100629      пятница 7-2015   \n",
       "4               48.0              121      100000.000000      вторник 6-2018   \n",
       "7                NaN              NaN      110544.692737      четверг 4-2019   \n",
       "...              ...              ...                ...                 ...   \n",
       "23688            NaN               23       91089.108911  понедельник 4-2019   \n",
       "23689          652.0               29      100566.572238        среда 2-2018   \n",
       "23690            NaN               15      105769.230769      четверг 7-2018   \n",
       "23691          806.0              519      129903.978052     четверг 10-2016   \n",
       "23697          196.0              602      149511.400651      вторник 3-2017   \n",
       "\n",
       "      floor_category  living_area_ratio  kitchen_area_ratio  \\\n",
       "0             другой           0.472222            0.231481   \n",
       "2             другой           0.612500            0.148214   \n",
       "3             другой                NaN                 NaN   \n",
       "4             другой           0.320000            0.410000   \n",
       "7             другой                NaN            0.263966   \n",
       "...              ...                ...                 ...   \n",
       "23688         другой           0.623762            0.148515   \n",
       "23689         другой           0.461756            0.257790   \n",
       "23690         другой           0.596154            0.115385   \n",
       "23691         другой           0.552812            0.145405   \n",
       "23697         другой                NaN            0.303583   \n",
       "\n",
       "       city_center_kilometers  \n",
       "0                        16.0  \n",
       "2                        14.0  \n",
       "3                         7.0  \n",
       "4                         8.0  \n",
       "7                        12.0  \n",
       "...                       ...  \n",
       "23688                    14.0  \n",
       "23689                    16.0  \n",
       "23690                     6.0  \n",
       "23691                     4.0  \n",
       "23697                    10.0  \n",
       "\n",
       "[14254 rows x 28 columns]"
      ]
     },
     "execution_count": 44,
     "metadata": {},
     "output_type": "execute_result"
    }
   ],
   "source": [
    "data_spb = data.loc[data.loc[:,\"locality_name\"] == 'Санкт-Петербург']\n",
    "data_spb"
   ]
  },
  {
   "cell_type": "code",
   "execution_count": 45,
   "metadata": {},
   "outputs": [
    {
     "name": "stderr",
     "output_type": "stream",
     "text": [
      "/opt/conda/lib/python3.7/site-packages/ipykernel_launcher.py:2: SettingWithCopyWarning: \n",
      "A value is trying to be set on a copy of a slice from a DataFrame.\n",
      "Try using .loc[row_indexer,col_indexer] = value instead\n",
      "\n",
      "See the caveats in the documentation: http://pandas.pydata.org/pandas-docs/stable/user_guide/indexing.html#returning-a-view-versus-a-copy\n",
      "  \n"
     ]
    },
    {
     "data": {
      "image/png": "[encoded data removed]",
      "text/plain": [
       "<Figure size 864x360 with 1 Axes>"
      ]
     },
     "metadata": {
      "needs_background": "light"
     },
     "output_type": "display_data"
    }
   ],
   "source": [
    "avg_kilometrs = data_spb['cityCenters_nearest'] / data_spb['city_center_kilometers']\n",
    "data_spb['city_сenters_mean_price'] = data_spb.groupby('city_center_kilometers')['last_price'].mean().plot(grid=True, figsize=(12, 5))"
   ]
  },
  {
   "cell_type": "markdown",
   "metadata": {},
   "source": [
    "Я решил взять 10км от центра, как центр города т.к. после 10км график стабилизируется."
   ]
  },
  {
   "cell_type": "markdown",
   "metadata": {},
   "source": [
    "### "
   ]
  },
  {
   "cell_type": "markdown",
   "metadata": {},
   "source": [
    "- Выделите сегмент квартир в центре. Проанализируйте эту территорию и изучите следующие параметры:\n",
    "- площадь, цена, число комнат, высота потолков.\n",
    "- Также выделите факторы, которые влияют на стоимость квартиры\n",
    "- (число комнат, этаж, удалённость от центра, дата размещения объявления).\n",
    "- Сделайте выводы. Отличаются ли они от общих выводов по всему городу?"
   ]
  },
  {
   "cell_type": "code",
   "execution_count": 46,
   "metadata": {},
   "outputs": [
    {
     "data": {
      "text/html": [
       "<div>\n",
       "<style scoped>\n",
       "    .dataframe tbody tr th:only-of-type {\n",
       "        vertical-align: middle;\n",
       "    }\n",
       "\n",
       "    .dataframe tbody tr th {\n",
       "        vertical-align: top;\n",
       "    }\n",
       "\n",
       "    .dataframe thead th {\n",
       "        text-align: right;\n",
       "    }\n",
       "</style>\n",
       "<table border=\"1\" class=\"dataframe\">\n",
       "  <thead>\n",
       "    <tr style=\"text-align: right;\">\n",
       "      <th></th>\n",
       "      <th>total_area</th>\n",
       "      <th>last_price</th>\n",
       "      <th>rooms</th>\n",
       "      <th>ceiling_height</th>\n",
       "    </tr>\n",
       "  </thead>\n",
       "  <tbody>\n",
       "    <tr>\n",
       "      <td>22831</td>\n",
       "      <td>187.5</td>\n",
       "      <td>289238400.0</td>\n",
       "      <td>2</td>\n",
       "      <td>3.370000</td>\n",
       "    </tr>\n",
       "    <tr>\n",
       "      <td>17912</td>\n",
       "      <td>166.0</td>\n",
       "      <td>135000000.0</td>\n",
       "      <td>3</td>\n",
       "      <td>3.300000</td>\n",
       "    </tr>\n",
       "    <tr>\n",
       "      <td>4996</td>\n",
       "      <td>124.5</td>\n",
       "      <td>124000000.0</td>\n",
       "      <td>4</td>\n",
       "      <td>3.000000</td>\n",
       "    </tr>\n",
       "    <tr>\n",
       "      <td>16647</td>\n",
       "      <td>145.0</td>\n",
       "      <td>122000000.0</td>\n",
       "      <td>3</td>\n",
       "      <td>3.300000</td>\n",
       "    </tr>\n",
       "    <tr>\n",
       "      <td>16590</td>\n",
       "      <td>155.0</td>\n",
       "      <td>98000000.0</td>\n",
       "      <td>3</td>\n",
       "      <td>2.771499</td>\n",
       "    </tr>\n",
       "    <tr>\n",
       "      <td>6462</td>\n",
       "      <td>114.0</td>\n",
       "      <td>82000000.0</td>\n",
       "      <td>3</td>\n",
       "      <td>2.771499</td>\n",
       "    </tr>\n",
       "    <tr>\n",
       "      <td>15726</td>\n",
       "      <td>135.7</td>\n",
       "      <td>77349000.0</td>\n",
       "      <td>3</td>\n",
       "      <td>2.771499</td>\n",
       "    </tr>\n",
       "    <tr>\n",
       "      <td>16797</td>\n",
       "      <td>146.0</td>\n",
       "      <td>65850000.0</td>\n",
       "      <td>2</td>\n",
       "      <td>2.771499</td>\n",
       "    </tr>\n",
       "    <tr>\n",
       "      <td>7663</td>\n",
       "      <td>180.0</td>\n",
       "      <td>65000000.0</td>\n",
       "      <td>4</td>\n",
       "      <td>3.100000</td>\n",
       "    </tr>\n",
       "    <tr>\n",
       "      <td>13919</td>\n",
       "      <td>129.0</td>\n",
       "      <td>65000000.0</td>\n",
       "      <td>3</td>\n",
       "      <td>2.771499</td>\n",
       "    </tr>\n",
       "    <tr>\n",
       "      <td>23574</td>\n",
       "      <td>139.0</td>\n",
       "      <td>64990000.0</td>\n",
       "      <td>3</td>\n",
       "      <td>3.000000</td>\n",
       "    </tr>\n",
       "    <tr>\n",
       "      <td>3</td>\n",
       "      <td>159.0</td>\n",
       "      <td>64900000.0</td>\n",
       "      <td>3</td>\n",
       "      <td>2.771499</td>\n",
       "    </tr>\n",
       "    <tr>\n",
       "      <td>19151</td>\n",
       "      <td>140.8</td>\n",
       "      <td>63900000.0</td>\n",
       "      <td>3</td>\n",
       "      <td>3.300000</td>\n",
       "    </tr>\n",
       "    <tr>\n",
       "      <td>15502</td>\n",
       "      <td>173.1</td>\n",
       "      <td>62316000.0</td>\n",
       "      <td>4</td>\n",
       "      <td>2.771499</td>\n",
       "    </tr>\n",
       "    <tr>\n",
       "      <td>18873</td>\n",
       "      <td>187.5</td>\n",
       "      <td>58500000.0</td>\n",
       "      <td>3</td>\n",
       "      <td>2.771499</td>\n",
       "    </tr>\n",
       "    <tr>\n",
       "      <td>13685</td>\n",
       "      <td>124.1</td>\n",
       "      <td>55845000.0</td>\n",
       "      <td>2</td>\n",
       "      <td>2.771499</td>\n",
       "    </tr>\n",
       "    <tr>\n",
       "      <td>1944</td>\n",
       "      <td>125.0</td>\n",
       "      <td>55800000.0</td>\n",
       "      <td>2</td>\n",
       "      <td>3.200000</td>\n",
       "    </tr>\n",
       "    <tr>\n",
       "      <td>10011</td>\n",
       "      <td>90.0</td>\n",
       "      <td>53000000.0</td>\n",
       "      <td>3</td>\n",
       "      <td>3.150000</td>\n",
       "    </tr>\n",
       "    <tr>\n",
       "      <td>17213</td>\n",
       "      <td>134.0</td>\n",
       "      <td>52000000.0</td>\n",
       "      <td>3</td>\n",
       "      <td>3.400000</td>\n",
       "    </tr>\n",
       "    <tr>\n",
       "      <td>7557</td>\n",
       "      <td>131.1</td>\n",
       "      <td>52000000.0</td>\n",
       "      <td>3</td>\n",
       "      <td>3.000000</td>\n",
       "    </tr>\n",
       "  </tbody>\n",
       "</table>\n",
       "</div>"
      ],
      "text/plain": [
       "       total_area   last_price  rooms  ceiling_height\n",
       "22831       187.5  289238400.0      2        3.370000\n",
       "17912       166.0  135000000.0      3        3.300000\n",
       "4996        124.5  124000000.0      4        3.000000\n",
       "16647       145.0  122000000.0      3        3.300000\n",
       "16590       155.0   98000000.0      3        2.771499\n",
       "6462        114.0   82000000.0      3        2.771499\n",
       "15726       135.7   77349000.0      3        2.771499\n",
       "16797       146.0   65850000.0      2        2.771499\n",
       "7663        180.0   65000000.0      4        3.100000\n",
       "13919       129.0   65000000.0      3        2.771499\n",
       "23574       139.0   64990000.0      3        3.000000\n",
       "3           159.0   64900000.0      3        2.771499\n",
       "19151       140.8   63900000.0      3        3.300000\n",
       "15502       173.1   62316000.0      4        2.771499\n",
       "18873       187.5   58500000.0      3        2.771499\n",
       "13685       124.1   55845000.0      2        2.771499\n",
       "1944        125.0   55800000.0      2        3.200000\n",
       "10011        90.0   53000000.0      3        3.150000\n",
       "17213       134.0   52000000.0      3        3.400000\n",
       "7557        131.1   52000000.0      3        3.000000"
      ]
     },
     "execution_count": 46,
     "metadata": {},
     "output_type": "execute_result"
    }
   ],
   "source": [
    "data_center = data_spb[data_spb['city_center_kilometers'] <= 10]\n",
    "data_center[['total_area', 'last_price', 'rooms', 'ceiling_height']].sort_values(by='last_price', ascending=False).head(20)"
   ]
  },
  {
   "cell_type": "code",
   "execution_count": 47,
   "metadata": {
    "scrolled": false
   },
   "outputs": [
    {
     "data": {
      "image/png": "[encoded data removed]",
      "text/plain": [
       "<Figure size 864x360 with 1 Axes>"
      ]
     },
     "metadata": {
      "needs_background": "light"
     },
     "output_type": "display_data"
    },
    {
     "data": {
      "image/png": "[encoded data removed]",
      "text/plain": [
       "<Figure size 864x360 with 1 Axes>"
      ]
     },
     "metadata": {
      "needs_background": "light"
     },
     "output_type": "display_data"
    }
   ],
   "source": [
    "def calc_price(data_x):\n",
    "    (\n",
    "        data_x\n",
    "        .pivot_table(index='rooms', values='last_price')\n",
    "        .plot(grid=True, figsize=(12, 5))\n",
    "    )\n",
    "calc_price(data_spb)\n",
    "calc_price(data_center)"
   ]
  },
  {
   "cell_type": "markdown",
   "metadata": {},
   "source": [
    "<b>Коментарий</b>"
   ]
  },
  {
   "cell_type": "markdown",
   "metadata": {},
   "source": [
    "В центре есть значительное отличие в цене по количеству комнат в отличие от всего города. В центре условная цена за комнату является примерно 0,55, когда по городу 0,45"
   ]
  },
  {
   "cell_type": "markdown",
   "metadata": {},
   "source": []
  },
  {
   "cell_type": "code",
   "execution_count": 48,
   "metadata": {},
   "outputs": [
    {
     "data": {
      "image/png": "[encoded data removed]",
      "text/plain": [
       "<Figure size 864x360 with 1 Axes>"
      ]
     },
     "metadata": {
      "needs_background": "light"
     },
     "output_type": "display_data"
    },
    {
     "data": {
      "image/png": "[encoded data removed]",
      "text/plain": [
       "<Figure size 864x360 with 1 Axes>"
      ]
     },
     "metadata": {
      "needs_background": "light"
     },
     "output_type": "display_data"
    }
   ],
   "source": [
    "def calc_price(data_x):\n",
    "    (\n",
    "        data_x\n",
    "        .pivot_table(index='floor', values='last_price')\n",
    "        .plot(grid=True, figsize=(12, 5))\n",
    "    )\n",
    "calc_price(data_spb)\n",
    "calc_price(data_center)"
   ]
  },
  {
   "cell_type": "markdown",
   "metadata": {},
   "source": [
    "<b>Коментарий</b>"
   ]
  },
  {
   "cell_type": "markdown",
   "metadata": {},
   "source": [
    "Зависимость здесь тоже прослеживается. Но что интересно, в центре квартиры от 20-го этажа очень сильно теряют в цене, когда в городе, наоборот, цена \"взлетает\"."
   ]
  },
  {
   "cell_type": "code",
   "execution_count": 49,
   "metadata": {},
   "outputs": [
    {
     "data": {
      "text/plain": [
       "369"
      ]
     },
     "metadata": {},
     "output_type": "display_data"
    },
    {
     "data": {
      "text/plain": [
       "40"
      ]
     },
     "execution_count": 49,
     "metadata": {},
     "output_type": "execute_result"
    }
   ],
   "source": [
    "display(data_spb[data_spb['floor'] >= 20]['floor'].count())\n",
    "data_center[data_center['floor'] >= 20]['floor'].count()"
   ]
  },
  {
   "cell_type": "code",
   "execution_count": 50,
   "metadata": {},
   "outputs": [
    {
     "data": {
      "image/png": "[encoded data removed]",
      "text/plain": [
       "<Figure size 864x360 with 1 Axes>"
      ]
     },
     "metadata": {
      "needs_background": "light"
     },
     "output_type": "display_data"
    },
    {
     "data": {
      "image/png": "[encoded data removed]",
      "text/plain": [
       "<Figure size 864x360 with 1 Axes>"
      ]
     },
     "metadata": {
      "needs_background": "light"
     },
     "output_type": "display_data"
    }
   ],
   "source": [
    "def calc_price(data_x):\n",
    "    (\n",
    "        data_x\n",
    "        .pivot_table(index='cityCenters_nearest', values='last_price')\n",
    "        .plot(grid=True, figsize=(12, 5))\n",
    "    )\n",
    "calc_price(data_spb)\n",
    "calc_price(data_center)"
   ]
  },
  {
   "cell_type": "markdown",
   "metadata": {},
   "source": [
    "<b>Коментарий</b>"
   ]
  },
  {
   "cell_type": "markdown",
   "metadata": {},
   "source": [
    "Здесь же два одинаковых графика, с разницой лишь в том, что второй ограничен 10000м."
   ]
  },
  {
   "cell_type": "code",
   "execution_count": 51,
   "metadata": {},
   "outputs": [
    {
     "data": {
      "image/png": "[encoded data removed]",
      "text/plain": [
       "<Figure size 864x360 with 1 Axes>"
      ]
     },
     "metadata": {
      "needs_background": "light"
     },
     "output_type": "display_data"
    },
    {
     "data": {
      "image/png": "[encoded data removed]",
      "text/plain": [
       "<Figure size 864x360 with 1 Axes>"
      ]
     },
     "metadata": {
      "needs_background": "light"
     },
     "output_type": "display_data"
    }
   ],
   "source": [
    "def calc_price(data_x):\n",
    "    (\n",
    "        data_x\n",
    "        .pivot_table(index='first_day_exposition', values='last_price')\n",
    "        .plot(grid=True, figsize=(12, 5))\n",
    "    )\n",
    "calc_price(data_spb)\n",
    "calc_price(data_center)"
   ]
  },
  {
   "cell_type": "markdown",
   "metadata": {},
   "source": [
    "<b>Коментарий</b>"
   ]
  },
  {
   "cell_type": "markdown",
   "metadata": {},
   "source": [
    "Здесь графики приблизительно равны. Дата не влияет на цену квартиры."
   ]
  },
  {
   "cell_type": "markdown",
   "metadata": {},
   "source": [
    "## Общий вывод"
   ]
  },
  {
   "cell_type": "markdown",
   "metadata": {},
   "source": [
    "1) В проекте были изменены некоторые данные. Как незначительные, так и важные для исследования.<br>\n",
    "\n",
    "В первую очередь были заменены типы данных там, где это было нужно. Так же заполнены пропуски данных там, где это можно было сделать. Некоторые данные были удалены, т.к. не влияли на исследование.<br>\n",
    "\n",
    "2) Были добавлены новые данные. <br>\n",
    "Более подробно расписано в пункте 3.\n",
    "- Добавлен столбец цены за м.кв.\n",
    "- Добавлен столбец с датой формата \"День недели-месяц-год\"\n",
    "- Добавлен столбец, разбивающий на категории этажи формата \"первый, другой, последний\"\n",
    "- Добавлен стоблец, показывающий долю жилой площади относительно площади квартиры.\n",
    "\n",
    "3) Исследование. <br>\n",
    "Более подробно в пункте 4.\n",
    "\n",
    "- Были более подробно проанализированны данные по квартирам.\n",
    "- Изучена скорость прдажи квартир. Обычная продажа занимает 95-180 дней. Сверхбыстрая - менее 50. Сверхдолгая - Более 500.\n",
    "- Были убраны редкие и выбивающиеся значения.\n",
    "- Проанализированны параметры, влияющие на стоимость квартиры. Чем больше площадь, тем дороже. Чем ближе к центру, тем дороже. Чем больше комнат, тем дороже. Так же первый этаж самый дешевый относительно других. А дата выкладки объявления никак не сказывается на цене.\n",
    "- Найдены самый дорогой и дешевый города среди десяти с самым большим количеством объявлений. Из них Санкт-Петербург самый дорогой, Выборг самый дешевый.\n",
    "- Был добавлен новый столбец с растоянием до центра в километрах и выделена центральная область в городе Санкт-Петербург. Она оказалась 10км. \n",
    "- Были изучены параметры по квартирам в центре и сравнена стоимость по всему городу. Цена за комнату в центре больше, чем по городу в целом. Тоже самое касается этажа. До 20 этажа квартиры в центре дороже, но после слишком мало данных, чтобы анализировать. Дата выкладки объявления по прежднему никак не влияет на цену.\n",
    "\n",
    "<b>Итого</b>\n",
    "\n",
    "На цену квартиры влияет множество разных факторов. Некоторые не сильно влияют на цену, а некоторые довольно сильно. Но все они имеют зависимость и можно примерно оценить стоимость квартиры по ее параметрам и отсеять подозрительные варианты."
   ]
  }
 ],
 "metadata": {
  "ExecuteTimeLog": [
   {
    "duration": 637,
    "start_time": "2021-12-01T13:38:02.912Z"
   },
   {
    "duration": 65,
    "start_time": "2021-12-01T13:38:20.016Z"
   },
   {
    "duration": 60,
    "start_time": "2021-12-01T13:39:00.198Z"
   },
   {
    "duration": 59,
    "start_time": "2021-12-01T13:41:16.306Z"
   },
   {
    "duration": 57,
    "start_time": "2021-12-01T13:41:52.304Z"
   },
   {
    "duration": 77,
    "start_time": "2021-12-01T13:42:22.604Z"
   },
   {
    "duration": 105,
    "start_time": "2021-12-01T13:44:33.940Z"
   },
   {
    "duration": 122,
    "start_time": "2021-12-01T13:44:58.082Z"
   },
   {
    "duration": 126,
    "start_time": "2021-12-01T13:46:01.268Z"
   },
   {
    "duration": 162,
    "start_time": "2021-12-01T13:46:25.480Z"
   },
   {
    "duration": 4,
    "start_time": "2021-12-01T13:52:57.954Z"
   },
   {
    "duration": 36,
    "start_time": "2021-12-01T13:53:34.053Z"
   },
   {
    "duration": 5,
    "start_time": "2021-12-01T13:53:47.218Z"
   },
   {
    "duration": 274,
    "start_time": "2021-12-01T13:53:57.799Z"
   },
   {
    "duration": 5,
    "start_time": "2021-12-01T13:54:02.010Z"
   },
   {
    "duration": 6,
    "start_time": "2021-12-01T14:56:32.916Z"
   },
   {
    "duration": 4,
    "start_time": "2021-12-01T14:56:37.337Z"
   },
   {
    "duration": 758,
    "start_time": "2021-12-01T14:56:45.019Z"
   },
   {
    "duration": 4,
    "start_time": "2021-12-01T14:56:47.932Z"
   },
   {
    "duration": 6,
    "start_time": "2021-12-01T14:58:01.848Z"
   },
   {
    "duration": 5,
    "start_time": "2021-12-01T14:58:04.772Z"
   },
   {
    "duration": 1286,
    "start_time": "2021-12-01T14:58:17.100Z"
   },
   {
    "duration": 4,
    "start_time": "2021-12-01T14:58:25.895Z"
   },
   {
    "duration": 4,
    "start_time": "2021-12-01T14:59:30.925Z"
   },
   {
    "duration": 4,
    "start_time": "2021-12-01T14:59:38.739Z"
   },
   {
    "duration": 173,
    "start_time": "2021-12-23T11:13:49.194Z"
   },
   {
    "duration": 674,
    "start_time": "2021-12-23T11:14:07.927Z"
   },
   {
    "duration": 5,
    "start_time": "2021-12-23T11:14:08.604Z"
   },
   {
    "duration": 4,
    "start_time": "2021-12-23T11:15:43.630Z"
   },
   {
    "duration": 6,
    "start_time": "2021-12-23T11:16:16.893Z"
   },
   {
    "duration": 6,
    "start_time": "2021-12-23T11:16:28.741Z"
   },
   {
    "duration": 7,
    "start_time": "2021-12-23T11:18:11.687Z"
   },
   {
    "duration": 7,
    "start_time": "2021-12-23T11:18:22.333Z"
   },
   {
    "duration": 130,
    "start_time": "2021-12-23T11:18:35.829Z"
   },
   {
    "duration": 6,
    "start_time": "2021-12-23T11:18:35.961Z"
   },
   {
    "duration": 1840,
    "start_time": "2021-12-23T11:18:59.802Z"
   },
   {
    "duration": 1624,
    "start_time": "2021-12-23T11:19:39.262Z"
   },
   {
    "duration": 2412,
    "start_time": "2021-12-23T11:20:18.681Z"
   },
   {
    "duration": 133,
    "start_time": "2021-12-23T11:30:44.709Z"
   },
   {
    "duration": 4,
    "start_time": "2021-12-23T11:30:44.843Z"
   },
   {
    "duration": 6,
    "start_time": "2021-12-23T11:31:19.577Z"
   },
   {
    "duration": 8,
    "start_time": "2021-12-23T11:31:37.797Z"
   },
   {
    "duration": 136,
    "start_time": "2021-12-23T11:31:40.458Z"
   },
   {
    "duration": 5,
    "start_time": "2021-12-23T11:31:40.596Z"
   },
   {
    "duration": 127,
    "start_time": "2021-12-23T11:31:51.025Z"
   },
   {
    "duration": 6,
    "start_time": "2021-12-23T11:31:51.154Z"
   },
   {
    "duration": 9,
    "start_time": "2021-12-23T11:32:52.889Z"
   },
   {
    "duration": 9,
    "start_time": "2021-12-23T11:33:49.443Z"
   },
   {
    "duration": 9,
    "start_time": "2021-12-23T11:33:58.678Z"
   },
   {
    "duration": 124,
    "start_time": "2021-12-23T11:34:08.155Z"
   },
   {
    "duration": 12,
    "start_time": "2021-12-23T11:34:08.280Z"
   },
   {
    "duration": 9,
    "start_time": "2021-12-23T11:34:18.492Z"
   },
   {
    "duration": 1831,
    "start_time": "2021-12-23T11:34:25.987Z"
   },
   {
    "duration": 129,
    "start_time": "2021-12-23T11:34:33.252Z"
   },
   {
    "duration": 1638,
    "start_time": "2021-12-23T11:34:33.392Z"
   },
   {
    "duration": 2032,
    "start_time": "2021-12-23T11:34:44.422Z"
   },
   {
    "duration": 133,
    "start_time": "2021-12-23T11:34:48.828Z"
   },
   {
    "duration": 11,
    "start_time": "2021-12-23T11:34:48.963Z"
   },
   {
    "duration": 55,
    "start_time": "2021-12-23T11:35:46.831Z"
   },
   {
    "duration": 5,
    "start_time": "2021-12-23T11:35:52.101Z"
   },
   {
    "duration": 9,
    "start_time": "2021-12-23T11:38:51.250Z"
   },
   {
    "duration": 6,
    "start_time": "2021-12-23T11:39:14.264Z"
   },
   {
    "duration": 6,
    "start_time": "2021-12-23T11:39:25.528Z"
   },
   {
    "duration": 6,
    "start_time": "2021-12-23T11:39:32.987Z"
   },
   {
    "duration": 143,
    "start_time": "2021-12-23T11:39:52.613Z"
   },
   {
    "duration": 140,
    "start_time": "2021-12-23T11:42:13.224Z"
   },
   {
    "duration": 11,
    "start_time": "2021-12-23T11:42:13.366Z"
   },
   {
    "duration": 137,
    "start_time": "2021-12-23T11:42:13.392Z"
   },
   {
    "duration": 49,
    "start_time": "2021-12-23T11:42:29.434Z"
   },
   {
    "duration": 166,
    "start_time": "2021-12-23T11:43:29.943Z"
   },
   {
    "duration": 8,
    "start_time": "2021-12-23T11:43:36.098Z"
   },
   {
    "duration": 5,
    "start_time": "2021-12-23T11:44:26.951Z"
   },
   {
    "duration": 5,
    "start_time": "2021-12-23T11:44:34.866Z"
   },
   {
    "duration": 152,
    "start_time": "2021-12-23T11:45:00.931Z"
   },
   {
    "duration": 137,
    "start_time": "2021-12-23T11:45:12.844Z"
   },
   {
    "duration": 11,
    "start_time": "2021-12-23T11:45:12.991Z"
   },
   {
    "duration": 165,
    "start_time": "2021-12-23T11:45:13.004Z"
   },
   {
    "duration": 18,
    "start_time": "2021-12-23T11:47:04.804Z"
   },
   {
    "duration": 15,
    "start_time": "2021-12-23T11:47:32.388Z"
   },
   {
    "duration": 6,
    "start_time": "2021-12-23T11:49:19.742Z"
   },
   {
    "duration": 7,
    "start_time": "2021-12-23T11:49:30.123Z"
   },
   {
    "duration": 136,
    "start_time": "2021-12-23T11:50:06.538Z"
   },
   {
    "duration": 20,
    "start_time": "2021-12-23T11:50:06.676Z"
   },
   {
    "duration": 6,
    "start_time": "2021-12-23T11:50:06.698Z"
   },
   {
    "duration": 9,
    "start_time": "2021-12-23T11:51:35.756Z"
   },
   {
    "duration": 14,
    "start_time": "2021-12-23T11:51:51.995Z"
   },
   {
    "duration": 9,
    "start_time": "2021-12-23T11:52:48.879Z"
   },
   {
    "duration": 15,
    "start_time": "2021-12-23T11:52:58.244Z"
   },
   {
    "duration": 17,
    "start_time": "2021-12-23T11:53:22.790Z"
   },
   {
    "duration": 136,
    "start_time": "2021-12-23T11:53:38.183Z"
   },
   {
    "duration": 141,
    "start_time": "2021-12-23T11:53:43.852Z"
   },
   {
    "duration": 16,
    "start_time": "2021-12-23T11:53:46.740Z"
   },
   {
    "duration": 17,
    "start_time": "2021-12-23T11:54:09.478Z"
   },
   {
    "duration": 16,
    "start_time": "2021-12-23T11:54:13.522Z"
   },
   {
    "duration": 8,
    "start_time": "2021-12-23T11:54:29.860Z"
   },
   {
    "duration": 135,
    "start_time": "2021-12-23T11:55:10.425Z"
   },
   {
    "duration": 145,
    "start_time": "2021-12-23T11:55:22.357Z"
   },
   {
    "duration": 38,
    "start_time": "2021-12-23T11:55:52.824Z"
   },
   {
    "duration": 35,
    "start_time": "2021-12-23T11:56:12.606Z"
   },
   {
    "duration": 48,
    "start_time": "2021-12-23T11:58:24.311Z"
   },
   {
    "duration": 69,
    "start_time": "2021-12-23T11:58:32.747Z"
   },
   {
    "duration": 69,
    "start_time": "2021-12-23T11:58:54.258Z"
   },
   {
    "duration": 71,
    "start_time": "2021-12-23T11:59:06.287Z"
   },
   {
    "duration": 52,
    "start_time": "2021-12-23T11:59:31.593Z"
   },
   {
    "duration": 70,
    "start_time": "2021-12-23T11:59:38.118Z"
   },
   {
    "duration": 133,
    "start_time": "2021-12-23T12:00:06.497Z"
   },
   {
    "duration": 8,
    "start_time": "2021-12-23T12:00:06.632Z"
   },
   {
    "duration": 95,
    "start_time": "2021-12-23T12:00:06.643Z"
   },
   {
    "duration": 72,
    "start_time": "2021-12-23T12:03:19.507Z"
   },
   {
    "duration": 70,
    "start_time": "2021-12-23T12:03:27.295Z"
   },
   {
    "duration": 74,
    "start_time": "2021-12-23T12:16:14.069Z"
   },
   {
    "duration": 5,
    "start_time": "2021-12-23T12:16:47.013Z"
   },
   {
    "duration": 5,
    "start_time": "2021-12-23T12:16:54.322Z"
   },
   {
    "duration": 5,
    "start_time": "2021-12-23T12:18:04.093Z"
   },
   {
    "duration": 5,
    "start_time": "2021-12-23T12:19:59.353Z"
   },
   {
    "duration": 6,
    "start_time": "2021-12-23T12:20:17.049Z"
   },
   {
    "duration": 8,
    "start_time": "2021-12-23T12:20:55.024Z"
   },
   {
    "duration": 7,
    "start_time": "2021-12-23T12:21:02.347Z"
   },
   {
    "duration": 40,
    "start_time": "2021-12-23T12:21:18.877Z"
   },
   {
    "duration": 4,
    "start_time": "2021-12-23T12:21:25.891Z"
   },
   {
    "duration": 7,
    "start_time": "2021-12-23T12:21:32.558Z"
   },
   {
    "duration": 4,
    "start_time": "2021-12-23T12:22:11.973Z"
   },
   {
    "duration": 5,
    "start_time": "2021-12-23T12:22:51.767Z"
   },
   {
    "duration": 9,
    "start_time": "2021-12-23T12:23:00.068Z"
   },
   {
    "duration": 46,
    "start_time": "2021-12-23T12:23:09.960Z"
   },
   {
    "duration": 9,
    "start_time": "2021-12-23T12:23:13.488Z"
   },
   {
    "duration": 130,
    "start_time": "2021-12-23T12:23:24.609Z"
   },
   {
    "duration": 8,
    "start_time": "2021-12-23T12:23:31.584Z"
   },
   {
    "duration": 17,
    "start_time": "2021-12-23T12:23:50.349Z"
   },
   {
    "duration": 11,
    "start_time": "2021-12-23T12:24:07.447Z"
   },
   {
    "duration": 18,
    "start_time": "2021-12-23T12:24:20.063Z"
   },
   {
    "duration": 7,
    "start_time": "2021-12-23T12:26:10.058Z"
   },
   {
    "duration": 19,
    "start_time": "2021-12-23T12:26:21.841Z"
   },
   {
    "duration": 9,
    "start_time": "2021-12-23T12:26:36.598Z"
   },
   {
    "duration": 13,
    "start_time": "2021-12-23T12:26:47.446Z"
   },
   {
    "duration": 127,
    "start_time": "2021-12-23T12:27:06.725Z"
   },
   {
    "duration": 10,
    "start_time": "2021-12-23T12:27:06.854Z"
   },
   {
    "duration": 29,
    "start_time": "2021-12-23T12:27:06.866Z"
   },
   {
    "duration": 4,
    "start_time": "2021-12-23T12:27:06.897Z"
   },
   {
    "duration": 14,
    "start_time": "2021-12-23T12:27:06.903Z"
   },
   {
    "duration": 8,
    "start_time": "2021-12-23T12:29:09.919Z"
   },
   {
    "duration": 5,
    "start_time": "2021-12-23T12:29:35.846Z"
   },
   {
    "duration": 6,
    "start_time": "2021-12-23T12:29:43.055Z"
   },
   {
    "duration": 7,
    "start_time": "2021-12-23T12:30:31.330Z"
   },
   {
    "duration": 4,
    "start_time": "2021-12-23T12:34:33.053Z"
   },
   {
    "duration": 5,
    "start_time": "2021-12-23T12:34:58.673Z"
   },
   {
    "duration": 7,
    "start_time": "2021-12-23T12:35:18.680Z"
   },
   {
    "duration": 143,
    "start_time": "2021-12-23T12:35:29.155Z"
   },
   {
    "duration": 167,
    "start_time": "2021-12-23T12:35:36.730Z"
   },
   {
    "duration": 139,
    "start_time": "2021-12-23T12:35:39.590Z"
   },
   {
    "duration": 9,
    "start_time": "2021-12-23T12:35:39.731Z"
   },
   {
    "duration": 24,
    "start_time": "2021-12-23T12:35:39.742Z"
   },
   {
    "duration": 8,
    "start_time": "2021-12-23T12:35:39.768Z"
   },
   {
    "duration": 24,
    "start_time": "2021-12-23T12:35:39.777Z"
   },
   {
    "duration": 24,
    "start_time": "2021-12-23T12:35:39.803Z"
   },
   {
    "duration": 25,
    "start_time": "2021-12-23T12:35:39.829Z"
   },
   {
    "duration": 262,
    "start_time": "2021-12-23T12:35:39.855Z"
   },
   {
    "duration": 6,
    "start_time": "2021-12-23T12:36:04.435Z"
   },
   {
    "duration": 140,
    "start_time": "2021-12-23T13:36:51.670Z"
   },
   {
    "duration": 401,
    "start_time": "2021-12-26T17:49:09.110Z"
   },
   {
    "duration": 983,
    "start_time": "2021-12-26T17:49:13.913Z"
   },
   {
    "duration": 22,
    "start_time": "2021-12-26T17:49:14.899Z"
   },
   {
    "duration": 12,
    "start_time": "2021-12-26T17:49:14.924Z"
   },
   {
    "duration": 8,
    "start_time": "2021-12-26T17:49:14.939Z"
   },
   {
    "duration": 11,
    "start_time": "2021-12-26T17:49:14.949Z"
   },
   {
    "duration": 9,
    "start_time": "2021-12-26T17:49:14.962Z"
   },
   {
    "duration": 6,
    "start_time": "2021-12-26T17:49:15.017Z"
   },
   {
    "duration": 372,
    "start_time": "2021-12-26T17:49:15.026Z"
   },
   {
    "duration": -957,
    "start_time": "2021-12-26T17:49:16.358Z"
   },
   {
    "duration": 6,
    "start_time": "2021-12-26T17:49:26.033Z"
   },
   {
    "duration": 7,
    "start_time": "2021-12-26T17:49:41.920Z"
   },
   {
    "duration": 6,
    "start_time": "2021-12-26T17:50:36.734Z"
   },
   {
    "duration": 6,
    "start_time": "2021-12-26T17:51:07.363Z"
   },
   {
    "duration": 6,
    "start_time": "2021-12-26T17:51:34.691Z"
   },
   {
    "duration": 7,
    "start_time": "2021-12-26T17:52:55.566Z"
   },
   {
    "duration": 7,
    "start_time": "2021-12-26T17:56:21.328Z"
   },
   {
    "duration": 5,
    "start_time": "2021-12-26T17:56:44.697Z"
   },
   {
    "duration": 8,
    "start_time": "2021-12-26T17:56:51.789Z"
   },
   {
    "duration": 9,
    "start_time": "2021-12-26T17:57:11.407Z"
   },
   {
    "duration": 13,
    "start_time": "2021-12-26T17:57:26.796Z"
   },
   {
    "duration": 10,
    "start_time": "2021-12-26T17:57:36.566Z"
   },
   {
    "duration": 12,
    "start_time": "2021-12-26T17:57:52.011Z"
   },
   {
    "duration": 7,
    "start_time": "2021-12-26T17:58:54.548Z"
   },
   {
    "duration": 6,
    "start_time": "2021-12-26T17:59:14.209Z"
   },
   {
    "duration": 2298,
    "start_time": "2021-12-26T18:04:11.191Z"
   },
   {
    "duration": 2195,
    "start_time": "2021-12-26T18:04:49.446Z"
   },
   {
    "duration": 2541,
    "start_time": "2021-12-26T18:05:20.262Z"
   },
   {
    "duration": 2157,
    "start_time": "2021-12-26T18:05:50.891Z"
   },
   {
    "duration": 79,
    "start_time": "2021-12-26T18:06:14.493Z"
   },
   {
    "duration": 81,
    "start_time": "2021-12-26T18:06:29.205Z"
   },
   {
    "duration": 10,
    "start_time": "2021-12-26T18:07:10.449Z"
   },
   {
    "duration": 7,
    "start_time": "2021-12-26T18:07:49.639Z"
   },
   {
    "duration": 327,
    "start_time": "2021-12-26T18:07:56.555Z"
   },
   {
    "duration": 104,
    "start_time": "2021-12-26T18:08:29.910Z"
   },
   {
    "duration": 6,
    "start_time": "2021-12-26T18:08:33.637Z"
   },
   {
    "duration": 7,
    "start_time": "2021-12-26T18:09:09.904Z"
   },
   {
    "duration": 9,
    "start_time": "2021-12-26T18:09:48.513Z"
   },
   {
    "duration": 8,
    "start_time": "2021-12-26T18:21:10.075Z"
   },
   {
    "duration": 6,
    "start_time": "2021-12-26T18:22:44.354Z"
   },
   {
    "duration": 6,
    "start_time": "2021-12-26T18:22:51.553Z"
   },
   {
    "duration": 109,
    "start_time": "2021-12-26T18:26:34.267Z"
   },
   {
    "duration": 804,
    "start_time": "2021-12-26T18:28:07.186Z"
   },
   {
    "duration": 634,
    "start_time": "2021-12-26T18:28:12.288Z"
   },
   {
    "duration": 23,
    "start_time": "2021-12-26T18:30:05.490Z"
   },
   {
    "duration": 26,
    "start_time": "2021-12-26T18:30:14.271Z"
   },
   {
    "duration": 26,
    "start_time": "2021-12-26T18:30:25.400Z"
   },
   {
    "duration": 2730,
    "start_time": "2021-12-26T18:30:38.602Z"
   },
   {
    "duration": 2736,
    "start_time": "2021-12-26T18:30:53.949Z"
   },
   {
    "duration": 19,
    "start_time": "2021-12-26T18:31:07.587Z"
   },
   {
    "duration": 27,
    "start_time": "2021-12-26T18:31:48.338Z"
   },
   {
    "duration": 26,
    "start_time": "2021-12-26T18:32:02.195Z"
   },
   {
    "duration": 2746,
    "start_time": "2021-12-26T18:32:51.434Z"
   },
   {
    "duration": 195,
    "start_time": "2021-12-26T18:32:59.105Z"
   },
   {
    "duration": 24,
    "start_time": "2021-12-26T18:32:59.302Z"
   },
   {
    "duration": 3154,
    "start_time": "2021-12-26T18:32:59.330Z"
   },
   {
    "duration": 12,
    "start_time": "2021-12-26T18:33:02.486Z"
   },
   {
    "duration": 25,
    "start_time": "2021-12-26T18:33:02.501Z"
   },
   {
    "duration": 13,
    "start_time": "2021-12-26T18:33:02.528Z"
   },
   {
    "duration": 10,
    "start_time": "2021-12-26T18:33:02.544Z"
   },
   {
    "duration": 18,
    "start_time": "2021-12-26T18:34:23.232Z"
   },
   {
    "duration": 9,
    "start_time": "2021-12-26T18:34:44.468Z"
   },
   {
    "duration": 8,
    "start_time": "2021-12-26T18:34:51.671Z"
   },
   {
    "duration": 18,
    "start_time": "2021-12-26T18:35:13.285Z"
   },
   {
    "duration": 306,
    "start_time": "2021-12-26T18:36:37.401Z"
   },
   {
    "duration": 218,
    "start_time": "2021-12-26T18:37:25.285Z"
   },
   {
    "duration": 112,
    "start_time": "2021-12-26T18:37:45.662Z"
   },
   {
    "duration": 651,
    "start_time": "2021-12-26T18:37:51.667Z"
   },
   {
    "duration": 10,
    "start_time": "2021-12-26T18:38:06.541Z"
   },
   {
    "duration": 8,
    "start_time": "2021-12-26T18:38:23.335Z"
   },
   {
    "duration": 8,
    "start_time": "2021-12-26T18:39:12.551Z"
   },
   {
    "duration": 8,
    "start_time": "2021-12-26T18:39:38.226Z"
   },
   {
    "duration": 185,
    "start_time": "2021-12-26T18:39:42.290Z"
   },
   {
    "duration": 15,
    "start_time": "2021-12-26T18:39:42.478Z"
   },
   {
    "duration": 25,
    "start_time": "2021-12-26T18:39:42.496Z"
   },
   {
    "duration": 14,
    "start_time": "2021-12-26T18:39:42.523Z"
   },
   {
    "duration": 14,
    "start_time": "2021-12-26T18:39:42.539Z"
   },
   {
    "duration": 12,
    "start_time": "2021-12-26T18:39:42.555Z"
   },
   {
    "duration": 56,
    "start_time": "2021-12-26T18:39:42.570Z"
   },
   {
    "duration": 495,
    "start_time": "2021-12-26T18:40:05.610Z"
   },
   {
    "duration": 10,
    "start_time": "2021-12-26T18:40:19.888Z"
   },
   {
    "duration": 10,
    "start_time": "2021-12-26T18:40:30.022Z"
   },
   {
    "duration": 35,
    "start_time": "2021-12-26T18:43:25.376Z"
   },
   {
    "duration": 36,
    "start_time": "2021-12-26T18:43:30.886Z"
   },
   {
    "duration": 8,
    "start_time": "2021-12-26T18:44:03.129Z"
   },
   {
    "duration": 8,
    "start_time": "2021-12-26T18:44:10.321Z"
   },
   {
    "duration": 9,
    "start_time": "2021-12-26T18:44:19.297Z"
   },
   {
    "duration": 8,
    "start_time": "2021-12-26T18:44:29.263Z"
   },
   {
    "duration": 188,
    "start_time": "2021-12-26T18:44:35.342Z"
   },
   {
    "duration": 37,
    "start_time": "2021-12-26T18:44:35.533Z"
   },
   {
    "duration": 42,
    "start_time": "2021-12-26T18:44:35.574Z"
   },
   {
    "duration": 11,
    "start_time": "2021-12-26T18:44:35.620Z"
   },
   {
    "duration": 13,
    "start_time": "2021-12-26T18:44:35.634Z"
   },
   {
    "duration": 13,
    "start_time": "2021-12-26T18:44:35.649Z"
   },
   {
    "duration": 57,
    "start_time": "2021-12-26T18:44:35.665Z"
   },
   {
    "duration": 13,
    "start_time": "2021-12-26T18:44:35.725Z"
   },
   {
    "duration": 339,
    "start_time": "2021-12-26T18:45:22.038Z"
   },
   {
    "duration": 9,
    "start_time": "2021-12-26T18:48:05.058Z"
   },
   {
    "duration": 678,
    "start_time": "2021-12-27T11:13:44.721Z"
   },
   {
    "duration": 26,
    "start_time": "2021-12-27T11:13:45.401Z"
   },
   {
    "duration": 11,
    "start_time": "2021-12-27T11:13:45.429Z"
   },
   {
    "duration": 7,
    "start_time": "2021-12-27T11:13:45.442Z"
   },
   {
    "duration": 10,
    "start_time": "2021-12-27T11:13:45.451Z"
   },
   {
    "duration": 10,
    "start_time": "2021-12-27T11:13:45.492Z"
   },
   {
    "duration": 10,
    "start_time": "2021-12-27T11:13:45.503Z"
   },
   {
    "duration": 8,
    "start_time": "2021-12-27T11:13:45.515Z"
   },
   {
    "duration": 15,
    "start_time": "2021-12-27T11:15:52.107Z"
   },
   {
    "duration": 12,
    "start_time": "2021-12-27T11:16:14.218Z"
   },
   {
    "duration": 18,
    "start_time": "2021-12-27T11:16:22.316Z"
   },
   {
    "duration": 12,
    "start_time": "2021-12-27T11:18:01.043Z"
   },
   {
    "duration": 132,
    "start_time": "2021-12-27T11:18:04.125Z"
   },
   {
    "duration": 35,
    "start_time": "2021-12-27T11:18:04.259Z"
   },
   {
    "duration": 11,
    "start_time": "2021-12-27T11:18:04.297Z"
   },
   {
    "duration": 18,
    "start_time": "2021-12-27T11:18:04.310Z"
   },
   {
    "duration": 10,
    "start_time": "2021-12-27T11:18:04.330Z"
   },
   {
    "duration": 10,
    "start_time": "2021-12-27T11:18:04.342Z"
   },
   {
    "duration": 44,
    "start_time": "2021-12-27T11:18:04.354Z"
   },
   {
    "duration": 9,
    "start_time": "2021-12-27T11:18:04.400Z"
   },
   {
    "duration": 270,
    "start_time": "2021-12-28T12:55:29.353Z"
   },
   {
    "duration": 743,
    "start_time": "2021-12-28T12:55:34.370Z"
   },
   {
    "duration": 27,
    "start_time": "2021-12-28T12:55:35.115Z"
   },
   {
    "duration": 8,
    "start_time": "2021-12-28T12:55:35.144Z"
   },
   {
    "duration": 41,
    "start_time": "2021-12-28T12:55:35.154Z"
   },
   {
    "duration": 14,
    "start_time": "2021-12-28T12:55:35.197Z"
   },
   {
    "duration": 10,
    "start_time": "2021-12-28T12:55:35.212Z"
   },
   {
    "duration": 9,
    "start_time": "2021-12-28T12:55:35.223Z"
   },
   {
    "duration": 9,
    "start_time": "2021-12-28T12:55:35.234Z"
   },
   {
    "duration": 11,
    "start_time": "2021-12-28T12:55:35.245Z"
   },
   {
    "duration": 8,
    "start_time": "2021-12-28T12:56:01.024Z"
   },
   {
    "duration": 9,
    "start_time": "2021-12-28T12:56:29.463Z"
   },
   {
    "duration": 9,
    "start_time": "2021-12-28T12:56:38.067Z"
   },
   {
    "duration": 146,
    "start_time": "2021-12-28T12:59:48.985Z"
   },
   {
    "duration": 26,
    "start_time": "2021-12-28T12:59:49.133Z"
   },
   {
    "duration": 33,
    "start_time": "2021-12-28T12:59:49.162Z"
   },
   {
    "duration": 21,
    "start_time": "2021-12-28T12:59:49.197Z"
   },
   {
    "duration": 21,
    "start_time": "2021-12-28T12:59:49.221Z"
   },
   {
    "duration": 13,
    "start_time": "2021-12-28T12:59:49.244Z"
   },
   {
    "duration": 48,
    "start_time": "2021-12-28T12:59:49.260Z"
   },
   {
    "duration": 8,
    "start_time": "2021-12-28T12:59:49.310Z"
   },
   {
    "duration": 8,
    "start_time": "2021-12-28T12:59:49.320Z"
   },
   {
    "duration": 6,
    "start_time": "2021-12-28T13:00:25.614Z"
   },
   {
    "duration": 144,
    "start_time": "2021-12-28T13:00:42.633Z"
   },
   {
    "duration": 39,
    "start_time": "2021-12-28T13:00:42.780Z"
   },
   {
    "duration": 8,
    "start_time": "2021-12-28T13:00:42.822Z"
   },
   {
    "duration": 12,
    "start_time": "2021-12-28T13:00:42.833Z"
   },
   {
    "duration": 53,
    "start_time": "2021-12-28T13:00:42.847Z"
   },
   {
    "duration": 16,
    "start_time": "2021-12-28T13:00:42.904Z"
   },
   {
    "duration": 10,
    "start_time": "2021-12-28T13:00:42.921Z"
   },
   {
    "duration": 20,
    "start_time": "2021-12-28T13:00:42.933Z"
   },
   {
    "duration": 41,
    "start_time": "2021-12-28T13:00:42.955Z"
   },
   {
    "duration": 4,
    "start_time": "2021-12-28T13:04:44.285Z"
   },
   {
    "duration": 7,
    "start_time": "2021-12-28T13:04:48.992Z"
   },
   {
    "duration": 167,
    "start_time": "2021-12-28T13:08:04.568Z"
   },
   {
    "duration": 1982,
    "start_time": "2021-12-28T13:08:30.211Z"
   },
   {
    "duration": 1983,
    "start_time": "2021-12-28T13:08:39.659Z"
   },
   {
    "duration": 536,
    "start_time": "2021-12-28T13:09:19.727Z"
   },
   {
    "duration": 450,
    "start_time": "2021-12-28T13:09:46.468Z"
   },
   {
    "duration": 4,
    "start_time": "2021-12-28T13:11:21.189Z"
   },
   {
    "duration": 8,
    "start_time": "2021-12-28T13:11:24.702Z"
   },
   {
    "duration": 5,
    "start_time": "2021-12-28T13:12:15.574Z"
   },
   {
    "duration": 3254,
    "start_time": "2021-12-28T13:13:03.142Z"
   },
   {
    "duration": 925,
    "start_time": "2021-12-28T13:13:16.175Z"
   },
   {
    "duration": 17,
    "start_time": "2021-12-28T13:14:29.284Z"
   },
   {
    "duration": 13,
    "start_time": "2021-12-28T13:14:50.065Z"
   },
   {
    "duration": 39,
    "start_time": "2021-12-28T13:17:27.934Z"
   },
   {
    "duration": 45,
    "start_time": "2021-12-28T13:17:39.485Z"
   },
   {
    "duration": 50,
    "start_time": "2021-12-28T13:18:41.187Z"
   },
   {
    "duration": 62,
    "start_time": "2021-12-28T13:18:49.541Z"
   },
   {
    "duration": 58,
    "start_time": "2021-12-28T13:19:18.945Z"
   },
   {
    "duration": 265,
    "start_time": "2021-12-28T13:37:10.012Z"
   },
   {
    "duration": 32,
    "start_time": "2021-12-28T13:38:45.176Z"
   },
   {
    "duration": 292,
    "start_time": "2021-12-28T13:44:50.701Z"
   },
   {
    "duration": 433,
    "start_time": "2021-12-28T13:44:55.904Z"
   },
   {
    "duration": 326,
    "start_time": "2021-12-28T13:45:06.819Z"
   },
   {
    "duration": 324,
    "start_time": "2021-12-28T13:45:29.093Z"
   },
   {
    "duration": 327,
    "start_time": "2021-12-28T13:45:35.589Z"
   },
   {
    "duration": 196,
    "start_time": "2021-12-28T13:45:40.550Z"
   },
   {
    "duration": 224,
    "start_time": "2021-12-28T13:45:43.980Z"
   },
   {
    "duration": 383,
    "start_time": "2021-12-28T13:46:43.574Z"
   },
   {
    "duration": 211,
    "start_time": "2021-12-28T13:46:46.954Z"
   },
   {
    "duration": 232,
    "start_time": "2021-12-28T13:47:01.575Z"
   },
   {
    "duration": 230,
    "start_time": "2021-12-28T13:47:06.053Z"
   },
   {
    "duration": 219,
    "start_time": "2021-12-28T13:47:11.085Z"
   },
   {
    "duration": 230,
    "start_time": "2021-12-28T13:47:15.605Z"
   },
   {
    "duration": 317,
    "start_time": "2021-12-28T13:48:08.413Z"
   },
   {
    "duration": 216,
    "start_time": "2021-12-28T13:48:13.614Z"
   },
   {
    "duration": 197,
    "start_time": "2021-12-28T13:49:05.647Z"
   },
   {
    "duration": 230,
    "start_time": "2021-12-28T13:50:53.537Z"
   },
   {
    "duration": 297,
    "start_time": "2021-12-28T13:53:53.141Z"
   },
   {
    "duration": 244,
    "start_time": "2021-12-28T13:53:58.056Z"
   },
   {
    "duration": 240,
    "start_time": "2021-12-28T13:54:05.548Z"
   },
   {
    "duration": 286,
    "start_time": "2021-12-28T13:54:11.757Z"
   },
   {
    "duration": 227,
    "start_time": "2021-12-28T13:54:38.056Z"
   },
   {
    "duration": 225,
    "start_time": "2021-12-28T13:54:59.641Z"
   },
   {
    "duration": 287,
    "start_time": "2021-12-28T13:55:07.277Z"
   },
   {
    "duration": 207,
    "start_time": "2021-12-28T13:55:10.546Z"
   },
   {
    "duration": 268,
    "start_time": "2021-12-28T13:55:19.487Z"
   },
   {
    "duration": 227,
    "start_time": "2021-12-28T13:55:33.099Z"
   },
   {
    "duration": 221,
    "start_time": "2021-12-28T13:55:35.692Z"
   },
   {
    "duration": 226,
    "start_time": "2021-12-28T13:55:40.012Z"
   },
   {
    "duration": 340,
    "start_time": "2021-12-28T13:56:01.826Z"
   },
   {
    "duration": 292,
    "start_time": "2021-12-28T13:56:06.618Z"
   },
   {
    "duration": 65,
    "start_time": "2021-12-28T13:59:24.079Z"
   },
   {
    "duration": 12,
    "start_time": "2021-12-28T13:59:36.575Z"
   },
   {
    "duration": 5,
    "start_time": "2021-12-28T14:05:15.312Z"
   },
   {
    "duration": 226,
    "start_time": "2021-12-28T14:06:18.881Z"
   },
   {
    "duration": 214,
    "start_time": "2021-12-28T14:06:35.927Z"
   },
   {
    "duration": 228,
    "start_time": "2021-12-28T14:06:43.393Z"
   },
   {
    "duration": 9,
    "start_time": "2021-12-28T14:07:35.372Z"
   },
   {
    "duration": 227,
    "start_time": "2021-12-28T14:07:38.179Z"
   },
   {
    "duration": 230,
    "start_time": "2021-12-28T14:07:42.190Z"
   },
   {
    "duration": 217,
    "start_time": "2021-12-28T14:07:45.038Z"
   },
   {
    "duration": 196,
    "start_time": "2021-12-28T14:08:03.360Z"
   },
   {
    "duration": 223,
    "start_time": "2021-12-28T14:08:07.142Z"
   },
   {
    "duration": 212,
    "start_time": "2021-12-28T14:08:36.301Z"
   },
   {
    "duration": 6,
    "start_time": "2021-12-28T14:09:35.907Z"
   },
   {
    "duration": 165,
    "start_time": "2021-12-28T14:10:22.133Z"
   },
   {
    "duration": 306,
    "start_time": "2021-12-28T14:10:44.580Z"
   },
   {
    "duration": 174,
    "start_time": "2021-12-28T14:10:49.981Z"
   },
   {
    "duration": 7,
    "start_time": "2021-12-28T14:20:51.847Z"
   },
   {
    "duration": 8,
    "start_time": "2021-12-28T14:21:11.410Z"
   },
   {
    "duration": 9,
    "start_time": "2021-12-28T14:21:19.104Z"
   },
   {
    "duration": 7,
    "start_time": "2021-12-28T14:23:11.126Z"
   },
   {
    "duration": 7,
    "start_time": "2021-12-28T14:23:14.982Z"
   },
   {
    "duration": 139,
    "start_time": "2021-12-28T14:23:20.620Z"
   },
   {
    "duration": 40,
    "start_time": "2021-12-28T14:23:20.761Z"
   },
   {
    "duration": 7,
    "start_time": "2021-12-28T14:23:20.804Z"
   },
   {
    "duration": 22,
    "start_time": "2021-12-28T14:23:20.813Z"
   },
   {
    "duration": 22,
    "start_time": "2021-12-28T14:23:20.837Z"
   },
   {
    "duration": 14,
    "start_time": "2021-12-28T14:23:20.861Z"
   },
   {
    "duration": 9,
    "start_time": "2021-12-28T14:23:20.892Z"
   },
   {
    "duration": 14,
    "start_time": "2021-12-28T14:23:20.903Z"
   },
   {
    "duration": 11,
    "start_time": "2021-12-28T14:23:20.920Z"
   },
   {
    "duration": 14,
    "start_time": "2021-12-28T14:23:20.933Z"
   },
   {
    "duration": 23,
    "start_time": "2021-12-28T14:23:20.949Z"
   },
   {
    "duration": 81,
    "start_time": "2021-12-28T14:23:20.974Z"
   },
   {
    "duration": 586,
    "start_time": "2021-12-28T14:23:21.057Z"
   },
   {
    "duration": 16,
    "start_time": "2021-12-28T14:23:21.645Z"
   },
   {
    "duration": 37,
    "start_time": "2021-12-28T14:23:21.662Z"
   },
   {
    "duration": 317,
    "start_time": "2021-12-28T14:23:21.701Z"
   },
   {
    "duration": 259,
    "start_time": "2021-12-28T14:23:22.020Z"
   },
   {
    "duration": 210,
    "start_time": "2021-12-28T14:23:22.281Z"
   },
   {
    "duration": 277,
    "start_time": "2021-12-28T14:23:22.492Z"
   },
   {
    "duration": 2,
    "start_time": "2021-12-28T14:23:22.771Z"
   },
   {
    "duration": 28,
    "start_time": "2021-12-28T14:23:22.775Z"
   },
   {
    "duration": 317,
    "start_time": "2021-12-28T14:23:22.805Z"
   },
   {
    "duration": 324,
    "start_time": "2021-12-28T14:23:23.124Z"
   },
   {
    "duration": 6,
    "start_time": "2021-12-28T14:23:23.450Z"
   },
   {
    "duration": 88,
    "start_time": "2021-12-28T14:24:54.803Z"
   },
   {
    "duration": 394,
    "start_time": "2021-12-29T10:27:27.338Z"
   },
   {
    "duration": 1051,
    "start_time": "2021-12-29T10:27:30.710Z"
   },
   {
    "duration": 62,
    "start_time": "2021-12-29T10:27:31.764Z"
   },
   {
    "duration": 17,
    "start_time": "2021-12-29T10:27:31.829Z"
   },
   {
    "duration": 17,
    "start_time": "2021-12-29T10:27:31.849Z"
   },
   {
    "duration": 51,
    "start_time": "2021-12-29T10:27:31.869Z"
   },
   {
    "duration": 18,
    "start_time": "2021-12-29T10:27:31.922Z"
   },
   {
    "duration": 22,
    "start_time": "2021-12-29T10:27:31.943Z"
   },
   {
    "duration": 27,
    "start_time": "2021-12-29T10:27:31.968Z"
   },
   {
    "duration": 15,
    "start_time": "2021-12-29T10:27:32.024Z"
   },
   {
    "duration": 11,
    "start_time": "2021-12-29T10:27:32.041Z"
   },
   {
    "duration": 10,
    "start_time": "2021-12-29T10:27:32.054Z"
   },
   {
    "duration": 130,
    "start_time": "2021-12-29T10:27:32.066Z"
   },
   {
    "duration": 1323,
    "start_time": "2021-12-29T10:27:32.199Z"
   },
   {
    "duration": 31,
    "start_time": "2021-12-29T10:27:33.525Z"
   },
   {
    "duration": 78,
    "start_time": "2021-12-29T10:27:33.558Z"
   },
   {
    "duration": 663,
    "start_time": "2021-12-29T10:27:33.638Z"
   },
   {
    "duration": 420,
    "start_time": "2021-12-29T10:27:34.303Z"
   },
   {
    "duration": 340,
    "start_time": "2021-12-29T10:27:34.727Z"
   },
   {
    "duration": 421,
    "start_time": "2021-12-29T10:27:35.069Z"
   },
   {
    "duration": 3,
    "start_time": "2021-12-29T10:27:35.493Z"
   },
   {
    "duration": 47,
    "start_time": "2021-12-29T10:27:35.498Z"
   },
   {
    "duration": 360,
    "start_time": "2021-12-29T10:27:35.548Z"
   },
   {
    "duration": 268,
    "start_time": "2021-12-29T10:27:35.920Z"
   },
   {
    "duration": 8,
    "start_time": "2021-12-29T10:27:36.192Z"
   },
   {
    "duration": 4,
    "start_time": "2021-12-29T10:27:36.220Z"
   },
   {
    "duration": 160,
    "start_time": "2021-12-29T10:27:36.227Z"
   },
   {
    "duration": 521,
    "start_time": "2021-12-29T10:27:36.390Z"
   },
   {
    "duration": 66,
    "start_time": "2021-12-29T10:31:03.075Z"
   },
   {
    "duration": 10,
    "start_time": "2021-12-29T10:34:07.630Z"
   },
   {
    "duration": 16,
    "start_time": "2021-12-29T10:36:39.700Z"
   },
   {
    "duration": 22,
    "start_time": "2021-12-29T10:36:45.669Z"
   },
   {
    "duration": 74,
    "start_time": "2021-12-29T10:37:04.910Z"
   },
   {
    "duration": 479,
    "start_time": "2021-12-29T10:37:18.165Z"
   },
   {
    "duration": 347,
    "start_time": "2021-12-29T10:37:38.274Z"
   },
   {
    "duration": 314,
    "start_time": "2021-12-29T10:38:23.089Z"
   },
   {
    "duration": 202,
    "start_time": "2021-12-29T10:38:29.352Z"
   },
   {
    "duration": 37,
    "start_time": "2021-12-29T10:38:29.558Z"
   },
   {
    "duration": 11,
    "start_time": "2021-12-29T10:38:29.618Z"
   },
   {
    "duration": 16,
    "start_time": "2021-12-29T10:38:29.633Z"
   },
   {
    "duration": 22,
    "start_time": "2021-12-29T10:38:29.652Z"
   },
   {
    "duration": 60,
    "start_time": "2021-12-29T10:38:29.676Z"
   },
   {
    "duration": 15,
    "start_time": "2021-12-29T10:38:29.739Z"
   },
   {
    "duration": 12,
    "start_time": "2021-12-29T10:38:29.758Z"
   },
   {
    "duration": 44,
    "start_time": "2021-12-29T10:38:29.773Z"
   },
   {
    "duration": 18,
    "start_time": "2021-12-29T10:38:29.820Z"
   },
   {
    "duration": 8,
    "start_time": "2021-12-29T10:38:29.841Z"
   },
   {
    "duration": 121,
    "start_time": "2021-12-29T10:38:29.852Z"
   },
   {
    "duration": 899,
    "start_time": "2021-12-29T10:38:29.975Z"
   },
   {
    "duration": 25,
    "start_time": "2021-12-29T10:38:30.877Z"
   },
   {
    "duration": 40,
    "start_time": "2021-12-29T10:38:30.917Z"
   },
   {
    "duration": 696,
    "start_time": "2021-12-29T10:38:30.960Z"
   },
   {
    "duration": 628,
    "start_time": "2021-12-29T10:38:31.659Z"
   },
   {
    "duration": 501,
    "start_time": "2021-12-29T10:38:32.290Z"
   },
   {
    "duration": 623,
    "start_time": "2021-12-29T10:38:32.794Z"
   },
   {
    "duration": 7,
    "start_time": "2021-12-29T10:38:33.419Z"
   },
   {
    "duration": 27,
    "start_time": "2021-12-29T10:38:33.432Z"
   },
   {
    "duration": 369,
    "start_time": "2021-12-29T10:38:33.461Z"
   },
   {
    "duration": 271,
    "start_time": "2021-12-29T10:38:33.835Z"
   },
   {
    "duration": 16,
    "start_time": "2021-12-29T10:38:34.108Z"
   },
   {
    "duration": 4,
    "start_time": "2021-12-29T10:38:34.129Z"
   },
   {
    "duration": 159,
    "start_time": "2021-12-29T10:38:34.136Z"
   },
   {
    "duration": 474,
    "start_time": "2021-12-29T10:38:34.298Z"
   },
   {
    "duration": 12,
    "start_time": "2021-12-29T10:38:34.775Z"
   },
   {
    "duration": 41,
    "start_time": "2021-12-29T10:38:34.790Z"
   },
   {
    "duration": 307,
    "start_time": "2021-12-29T10:38:49.581Z"
   },
   {
    "duration": 336,
    "start_time": "2021-12-29T10:39:02.431Z"
   },
   {
    "duration": 326,
    "start_time": "2021-12-29T10:39:06.817Z"
   },
   {
    "duration": 335,
    "start_time": "2021-12-29T10:39:17.111Z"
   },
   {
    "duration": 280,
    "start_time": "2021-12-29T10:39:22.590Z"
   },
   {
    "duration": 62,
    "start_time": "2021-12-29T10:39:22.875Z"
   },
   {
    "duration": 11,
    "start_time": "2021-12-29T10:39:22.941Z"
   },
   {
    "duration": 18,
    "start_time": "2021-12-29T10:39:22.956Z"
   },
   {
    "duration": 61,
    "start_time": "2021-12-29T10:39:22.978Z"
   },
   {
    "duration": 15,
    "start_time": "2021-12-29T10:39:23.042Z"
   },
   {
    "duration": 57,
    "start_time": "2021-12-29T10:39:23.060Z"
   },
   {
    "duration": 13,
    "start_time": "2021-12-29T10:39:23.120Z"
   },
   {
    "duration": 12,
    "start_time": "2021-12-29T10:39:23.137Z"
   },
   {
    "duration": 11,
    "start_time": "2021-12-29T10:39:23.152Z"
   },
   {
    "duration": 57,
    "start_time": "2021-12-29T10:39:23.165Z"
   },
   {
    "duration": 102,
    "start_time": "2021-12-29T10:39:23.225Z"
   },
   {
    "duration": 929,
    "start_time": "2021-12-29T10:39:23.329Z"
   },
   {
    "duration": 27,
    "start_time": "2021-12-29T10:39:24.261Z"
   },
   {
    "duration": 75,
    "start_time": "2021-12-29T10:39:24.291Z"
   },
   {
    "duration": 540,
    "start_time": "2021-12-29T10:39:24.369Z"
   },
   {
    "duration": 450,
    "start_time": "2021-12-29T10:39:24.911Z"
   },
   {
    "duration": 360,
    "start_time": "2021-12-29T10:39:25.363Z"
   },
   {
    "duration": 443,
    "start_time": "2021-12-29T10:39:25.726Z"
   },
   {
    "duration": 4,
    "start_time": "2021-12-29T10:39:26.172Z"
   },
   {
    "duration": 58,
    "start_time": "2021-12-29T10:39:26.181Z"
   },
   {
    "duration": 411,
    "start_time": "2021-12-29T10:39:26.243Z"
   },
   {
    "duration": 326,
    "start_time": "2021-12-29T10:39:26.657Z"
   },
   {
    "duration": 8,
    "start_time": "2021-12-29T10:39:26.986Z"
   },
   {
    "duration": 9,
    "start_time": "2021-12-29T10:39:27.017Z"
   },
   {
    "duration": 186,
    "start_time": "2021-12-29T10:39:27.029Z"
   },
   {
    "duration": 523,
    "start_time": "2021-12-29T10:39:27.222Z"
   },
   {
    "duration": 11,
    "start_time": "2021-12-29T10:39:27.748Z"
   },
   {
    "duration": 14,
    "start_time": "2021-12-29T10:39:27.762Z"
   },
   {
    "duration": 50,
    "start_time": "2021-12-29T10:39:56.994Z"
   },
   {
    "duration": 28,
    "start_time": "2021-12-29T10:40:16.557Z"
   },
   {
    "duration": 626,
    "start_time": "2021-12-29T10:40:59.856Z"
   },
   {
    "duration": 313,
    "start_time": "2021-12-29T10:41:06.207Z"
   },
   {
    "duration": 319,
    "start_time": "2021-12-29T10:41:27.648Z"
   },
   {
    "duration": 326,
    "start_time": "2021-12-29T10:41:37.672Z"
   },
   {
    "duration": 317,
    "start_time": "2021-12-29T10:42:01.502Z"
   },
   {
    "duration": 490,
    "start_time": "2021-12-29T10:42:07.517Z"
   },
   {
    "duration": 413,
    "start_time": "2021-12-29T10:42:21.574Z"
   },
   {
    "duration": 345,
    "start_time": "2021-12-29T10:42:24.565Z"
   },
   {
    "duration": 335,
    "start_time": "2021-12-29T10:42:55.713Z"
   },
   {
    "duration": 313,
    "start_time": "2021-12-29T10:43:13.192Z"
   },
   {
    "duration": 316,
    "start_time": "2021-12-29T10:43:39.980Z"
   },
   {
    "duration": 432,
    "start_time": "2021-12-29T10:43:58.560Z"
   },
   {
    "duration": 335,
    "start_time": "2021-12-29T10:44:11.429Z"
   },
   {
    "duration": 209,
    "start_time": "2021-12-29T10:44:15.131Z"
   },
   {
    "duration": 38,
    "start_time": "2021-12-29T10:44:15.343Z"
   },
   {
    "duration": 39,
    "start_time": "2021-12-29T10:44:15.385Z"
   },
   {
    "duration": 15,
    "start_time": "2021-12-29T10:44:15.428Z"
   },
   {
    "duration": 31,
    "start_time": "2021-12-29T10:44:15.446Z"
   },
   {
    "duration": 45,
    "start_time": "2021-12-29T10:44:15.479Z"
   },
   {
    "duration": 14,
    "start_time": "2021-12-29T10:44:15.527Z"
   },
   {
    "duration": 51,
    "start_time": "2021-12-29T10:44:15.543Z"
   },
   {
    "duration": 11,
    "start_time": "2021-12-29T10:44:15.599Z"
   },
   {
    "duration": 10,
    "start_time": "2021-12-29T10:44:15.613Z"
   },
   {
    "duration": 10,
    "start_time": "2021-12-29T10:44:15.626Z"
   },
   {
    "duration": 118,
    "start_time": "2021-12-29T10:44:15.638Z"
   },
   {
    "duration": 800,
    "start_time": "2021-12-29T10:44:15.758Z"
   },
   {
    "duration": 24,
    "start_time": "2021-12-29T10:44:16.561Z"
   },
   {
    "duration": 58,
    "start_time": "2021-12-29T10:44:16.588Z"
   },
   {
    "duration": 505,
    "start_time": "2021-12-29T10:44:16.648Z"
   },
   {
    "duration": 412,
    "start_time": "2021-12-29T10:44:17.155Z"
   },
   {
    "duration": 362,
    "start_time": "2021-12-29T10:44:17.571Z"
   },
   {
    "duration": 591,
    "start_time": "2021-12-29T10:44:17.936Z"
   },
   {
    "duration": 3,
    "start_time": "2021-12-29T10:44:18.530Z"
   },
   {
    "duration": 26,
    "start_time": "2021-12-29T10:44:18.536Z"
   },
   {
    "duration": 355,
    "start_time": "2021-12-29T10:44:18.564Z"
   },
   {
    "duration": 264,
    "start_time": "2021-12-29T10:44:18.922Z"
   },
   {
    "duration": 7,
    "start_time": "2021-12-29T10:44:19.188Z"
   },
   {
    "duration": 19,
    "start_time": "2021-12-29T10:44:19.198Z"
   },
   {
    "duration": 147,
    "start_time": "2021-12-29T10:44:19.220Z"
   },
   {
    "duration": 607,
    "start_time": "2021-12-29T10:44:19.372Z"
   },
   {
    "duration": 11,
    "start_time": "2021-12-29T10:44:19.982Z"
   },
   {
    "duration": 30,
    "start_time": "2021-12-29T10:44:19.996Z"
   },
   {
    "duration": 333,
    "start_time": "2021-12-29T10:44:20.028Z"
   },
   {
    "duration": 305,
    "start_time": "2021-12-29T10:45:00.546Z"
   },
   {
    "duration": 323,
    "start_time": "2021-12-29T10:45:05.199Z"
   },
   {
    "duration": 301,
    "start_time": "2021-12-29T10:45:08.916Z"
   },
   {
    "duration": 480,
    "start_time": "2021-12-29T10:45:14.672Z"
   },
   {
    "duration": 719,
    "start_time": "2021-12-29T10:45:42.571Z"
   },
   {
    "duration": 696,
    "start_time": "2021-12-29T10:45:51.210Z"
   },
   {
    "duration": 544,
    "start_time": "2021-12-29T10:46:12.347Z"
   },
   {
    "duration": 364,
    "start_time": "2021-12-29T10:46:21.213Z"
   },
   {
    "duration": 221,
    "start_time": "2021-12-29T10:46:28.056Z"
   },
   {
    "duration": 58,
    "start_time": "2021-12-29T10:46:28.280Z"
   },
   {
    "duration": 11,
    "start_time": "2021-12-29T10:46:28.343Z"
   },
   {
    "duration": 18,
    "start_time": "2021-12-29T10:46:28.359Z"
   },
   {
    "duration": 69,
    "start_time": "2021-12-29T10:46:28.380Z"
   },
   {
    "duration": 18,
    "start_time": "2021-12-29T10:46:28.452Z"
   },
   {
    "duration": 13,
    "start_time": "2021-12-29T10:46:28.473Z"
   },
   {
    "duration": 52,
    "start_time": "2021-12-29T10:46:28.489Z"
   },
   {
    "duration": 15,
    "start_time": "2021-12-29T10:46:28.547Z"
   },
   {
    "duration": 11,
    "start_time": "2021-12-29T10:46:28.565Z"
   },
   {
    "duration": 44,
    "start_time": "2021-12-29T10:46:28.578Z"
   },
   {
    "duration": 114,
    "start_time": "2021-12-29T10:46:28.625Z"
   },
   {
    "duration": 1093,
    "start_time": "2021-12-29T10:46:28.742Z"
   },
   {
    "duration": 25,
    "start_time": "2021-12-29T10:46:29.838Z"
   },
   {
    "duration": 72,
    "start_time": "2021-12-29T10:46:29.865Z"
   },
   {
    "duration": 816,
    "start_time": "2021-12-29T10:46:29.941Z"
   },
   {
    "duration": 573,
    "start_time": "2021-12-29T10:46:30.760Z"
   },
   {
    "duration": 457,
    "start_time": "2021-12-29T10:46:31.337Z"
   },
   {
    "duration": 450,
    "start_time": "2021-12-29T10:46:31.796Z"
   },
   {
    "duration": 4,
    "start_time": "2021-12-29T10:46:32.248Z"
   },
   {
    "duration": 51,
    "start_time": "2021-12-29T10:46:32.255Z"
   },
   {
    "duration": 457,
    "start_time": "2021-12-29T10:46:32.309Z"
   },
   {
    "duration": 288,
    "start_time": "2021-12-29T10:46:32.769Z"
   },
   {
    "duration": 8,
    "start_time": "2021-12-29T10:46:33.061Z"
   },
   {
    "duration": 3,
    "start_time": "2021-12-29T10:46:33.073Z"
   },
   {
    "duration": 239,
    "start_time": "2021-12-29T10:46:33.079Z"
   },
   {
    "duration": 643,
    "start_time": "2021-12-29T10:46:33.325Z"
   },
   {
    "duration": 10,
    "start_time": "2021-12-29T10:46:33.971Z"
   },
   {
    "duration": 37,
    "start_time": "2021-12-29T10:46:33.984Z"
   },
   {
    "duration": 503,
    "start_time": "2021-12-29T10:46:34.025Z"
   },
   {
    "duration": 512,
    "start_time": "2021-12-29T10:46:34.532Z"
   },
   {
    "duration": 379,
    "start_time": "2021-12-29T10:47:41.082Z"
   },
   {
    "duration": 415,
    "start_time": "2021-12-29T10:50:45.332Z"
   },
   {
    "duration": 490,
    "start_time": "2021-12-29T10:56:38.805Z"
   },
   {
    "duration": 607,
    "start_time": "2021-12-29T11:08:35.214Z"
   },
   {
    "duration": 611,
    "start_time": "2021-12-29T11:08:43.797Z"
   },
   {
    "duration": 670,
    "start_time": "2021-12-29T11:09:21.010Z"
   },
   {
    "duration": 644,
    "start_time": "2021-12-29T11:09:28.429Z"
   },
   {
    "duration": 420,
    "start_time": "2021-12-29T11:11:53.779Z"
   },
   {
    "duration": 446,
    "start_time": "2021-12-29T11:14:23.442Z"
   },
   {
    "duration": 507,
    "start_time": "2021-12-29T11:14:26.564Z"
   },
   {
    "duration": 665,
    "start_time": "2021-12-29T11:15:42.941Z"
   },
   {
    "duration": 550,
    "start_time": "2021-12-29T11:16:02.017Z"
   },
   {
    "duration": 673,
    "start_time": "2021-12-29T11:16:10.831Z"
   },
   {
    "duration": 564,
    "start_time": "2021-12-29T11:16:18.243Z"
   },
   {
    "duration": 587,
    "start_time": "2021-12-29T11:16:28.848Z"
   },
   {
    "duration": 725,
    "start_time": "2021-12-29T11:16:39.931Z"
   },
   {
    "duration": 106,
    "start_time": "2021-12-29T11:21:34.484Z"
   },
   {
    "duration": 408,
    "start_time": "2021-12-29T11:21:40.455Z"
   },
   {
    "duration": 437,
    "start_time": "2021-12-29T11:22:11.501Z"
   },
   {
    "duration": 579,
    "start_time": "2021-12-29T11:22:22.354Z"
   },
   {
    "duration": 465,
    "start_time": "2021-12-29T11:25:42.399Z"
   },
   {
    "duration": 403,
    "start_time": "2021-12-29T11:26:17.563Z"
   },
   {
    "duration": 7,
    "start_time": "2021-12-29T11:28:13.148Z"
   },
   {
    "duration": 90,
    "start_time": "2021-12-29T11:28:19.454Z"
   },
   {
    "duration": 25,
    "start_time": "2021-12-29T11:28:30.251Z"
   },
   {
    "duration": 315,
    "start_time": "2021-12-29T11:29:44.449Z"
   },
   {
    "duration": 343,
    "start_time": "2021-12-29T11:29:47.802Z"
   },
   {
    "duration": 353,
    "start_time": "2021-12-29T11:29:57.302Z"
   },
   {
    "duration": 36,
    "start_time": "2021-12-29T11:29:59.242Z"
   },
   {
    "duration": 28,
    "start_time": "2021-12-29T11:30:57.197Z"
   },
   {
    "duration": 326,
    "start_time": "2021-12-29T11:31:16.339Z"
   },
   {
    "duration": 26,
    "start_time": "2021-12-29T11:31:31.149Z"
   },
   {
    "duration": 571,
    "start_time": "2021-12-29T11:35:45.703Z"
   },
   {
    "duration": 580,
    "start_time": "2021-12-29T11:36:21.328Z"
   },
   {
    "duration": 1253,
    "start_time": "2021-12-29T11:36:53.235Z"
   },
   {
    "duration": 362,
    "start_time": "2021-12-29T11:37:18.884Z"
   },
   {
    "duration": 34,
    "start_time": "2021-12-29T11:37:31.699Z"
   },
   {
    "duration": 30,
    "start_time": "2021-12-29T11:37:46.656Z"
   },
   {
    "duration": 34,
    "start_time": "2021-12-29T11:38:46.345Z"
   },
   {
    "duration": 33,
    "start_time": "2021-12-29T11:38:52.801Z"
   },
   {
    "duration": 946,
    "start_time": "2021-12-29T11:39:51.077Z"
   },
   {
    "duration": 43,
    "start_time": "2021-12-29T11:40:32.479Z"
   },
   {
    "duration": 30,
    "start_time": "2021-12-29T11:40:51.991Z"
   },
   {
    "duration": 35,
    "start_time": "2021-12-29T11:41:03.294Z"
   },
   {
    "duration": 28,
    "start_time": "2021-12-29T11:41:15.049Z"
   },
   {
    "duration": 99,
    "start_time": "2021-12-29T11:41:51.627Z"
   },
   {
    "duration": 553,
    "start_time": "2021-12-29T11:42:13.833Z"
   },
   {
    "duration": 65,
    "start_time": "2021-12-29T12:12:33.418Z"
   },
   {
    "duration": 6,
    "start_time": "2021-12-29T12:13:16.476Z"
   },
   {
    "duration": 76,
    "start_time": "2021-12-29T12:13:22.452Z"
   },
   {
    "duration": 87,
    "start_time": "2021-12-29T12:14:36.262Z"
   },
   {
    "duration": 29,
    "start_time": "2021-12-29T12:14:44.096Z"
   },
   {
    "duration": 36,
    "start_time": "2021-12-29T12:15:05.063Z"
   },
   {
    "duration": 371,
    "start_time": "2021-12-29T12:15:24.037Z"
   },
   {
    "duration": 7,
    "start_time": "2021-12-29T12:15:30.878Z"
   },
   {
    "duration": 20,
    "start_time": "2021-12-29T12:17:57.177Z"
   },
   {
    "duration": 7,
    "start_time": "2021-12-29T12:18:16.133Z"
   },
   {
    "duration": 11,
    "start_time": "2021-12-29T12:18:20.201Z"
   },
   {
    "duration": 324,
    "start_time": "2021-12-29T12:19:44.228Z"
   },
   {
    "duration": 398,
    "start_time": "2021-12-29T12:20:38.884Z"
   },
   {
    "duration": 388,
    "start_time": "2021-12-29T12:23:14.265Z"
   },
   {
    "duration": 406,
    "start_time": "2021-12-29T12:23:35.022Z"
   },
   {
    "duration": 255,
    "start_time": "2021-12-29T12:23:42.258Z"
   },
   {
    "duration": 570,
    "start_time": "2021-12-29T12:26:22.877Z"
   },
   {
    "duration": 13,
    "start_time": "2021-12-29T12:26:37.492Z"
   },
   {
    "duration": 12,
    "start_time": "2021-12-29T12:26:54.354Z"
   },
   {
    "duration": 17,
    "start_time": "2021-12-29T12:27:15.656Z"
   },
   {
    "duration": 15,
    "start_time": "2021-12-29T12:27:24.117Z"
   },
   {
    "duration": 425,
    "start_time": "2021-12-29T12:28:07.510Z"
   },
   {
    "duration": 344,
    "start_time": "2021-12-29T12:28:46.137Z"
   },
   {
    "duration": 619,
    "start_time": "2021-12-29T12:28:59.753Z"
   },
   {
    "duration": 583,
    "start_time": "2021-12-29T12:32:48.650Z"
   },
   {
    "duration": 597,
    "start_time": "2021-12-29T12:33:04.186Z"
   },
   {
    "duration": 490,
    "start_time": "2021-12-29T12:34:07.966Z"
   },
   {
    "duration": 450,
    "start_time": "2021-12-29T12:34:15.518Z"
   },
   {
    "duration": 401,
    "start_time": "2021-12-29T12:34:21.647Z"
   },
   {
    "duration": 360,
    "start_time": "2021-12-29T12:34:33.564Z"
   },
   {
    "duration": 336,
    "start_time": "2021-12-29T12:34:53.494Z"
   },
   {
    "duration": 339,
    "start_time": "2021-12-29T12:34:59.400Z"
   },
   {
    "duration": 409,
    "start_time": "2021-12-29T12:36:53.670Z"
   },
   {
    "duration": 1183,
    "start_time": "2021-12-29T12:38:10.847Z"
   },
   {
    "duration": 345,
    "start_time": "2021-12-29T12:38:19.782Z"
   },
   {
    "duration": 116,
    "start_time": "2021-12-29T12:38:22.806Z"
   },
   {
    "duration": 359,
    "start_time": "2021-12-29T12:40:31.390Z"
   },
   {
    "duration": 12,
    "start_time": "2021-12-29T12:41:28.157Z"
   },
   {
    "duration": 11,
    "start_time": "2021-12-29T12:41:31.569Z"
   },
   {
    "duration": 9,
    "start_time": "2021-12-29T12:42:50.860Z"
   },
   {
    "duration": 13,
    "start_time": "2021-12-29T12:42:54.838Z"
   },
   {
    "duration": 169,
    "start_time": "2021-12-29T12:44:09.105Z"
   },
   {
    "duration": 361,
    "start_time": "2021-12-29T12:45:21.204Z"
   },
   {
    "duration": 21116,
    "start_time": "2021-12-29T12:46:28.026Z"
   },
   {
    "duration": 9,
    "start_time": "2021-12-29T12:47:30.680Z"
   },
   {
    "duration": 15,
    "start_time": "2021-12-29T12:47:35.226Z"
   },
   {
    "duration": 554,
    "start_time": "2021-12-29T12:48:08.094Z"
   },
   {
    "duration": 129,
    "start_time": "2021-12-29T12:48:23.095Z"
   },
   {
    "duration": 102,
    "start_time": "2021-12-29T12:48:29.706Z"
   },
   {
    "duration": 380,
    "start_time": "2021-12-29T12:48:46.242Z"
   },
   {
    "duration": 14,
    "start_time": "2021-12-29T12:49:47.091Z"
   },
   {
    "duration": 13,
    "start_time": "2021-12-29T12:50:49.237Z"
   },
   {
    "duration": 74,
    "start_time": "2021-12-29T12:50:53.917Z"
   },
   {
    "duration": 8918,
    "start_time": "2021-12-29T12:52:14.196Z"
   },
   {
    "duration": 9325,
    "start_time": "2021-12-29T12:52:24.145Z"
   },
   {
    "duration": 85,
    "start_time": "2021-12-29T12:52:36.944Z"
   },
   {
    "duration": 403,
    "start_time": "2021-12-29T12:53:27.049Z"
   },
   {
    "duration": 410,
    "start_time": "2021-12-29T12:54:08.028Z"
   },
   {
    "duration": 73,
    "start_time": "2021-12-29T12:54:28.429Z"
   },
   {
    "duration": 122,
    "start_time": "2021-12-29T12:58:32.239Z"
   },
   {
    "duration": 76,
    "start_time": "2021-12-29T12:58:36.250Z"
   },
   {
    "duration": 43,
    "start_time": "2021-12-29T12:58:53.295Z"
   },
   {
    "duration": 309,
    "start_time": "2021-12-29T12:58:56.980Z"
   },
   {
    "duration": 71,
    "start_time": "2021-12-29T12:58:59.634Z"
   },
   {
    "duration": 11,
    "start_time": "2021-12-29T12:59:20.942Z"
   },
   {
    "duration": 15,
    "start_time": "2021-12-29T12:59:33.306Z"
   },
   {
    "duration": 19,
    "start_time": "2021-12-29T12:59:47.981Z"
   },
   {
    "duration": 21,
    "start_time": "2021-12-29T12:59:58.560Z"
   },
   {
    "duration": 23,
    "start_time": "2021-12-29T13:00:06.890Z"
   },
   {
    "duration": 34,
    "start_time": "2021-12-29T13:00:39.962Z"
   },
   {
    "duration": 33,
    "start_time": "2021-12-29T13:00:48.091Z"
   },
   {
    "duration": 29,
    "start_time": "2021-12-29T13:00:59.221Z"
   },
   {
    "duration": 29,
    "start_time": "2021-12-29T13:01:02.949Z"
   },
   {
    "duration": 27,
    "start_time": "2021-12-29T13:01:06.440Z"
   },
   {
    "duration": 29,
    "start_time": "2021-12-29T13:01:10.003Z"
   },
   {
    "duration": 10,
    "start_time": "2021-12-29T13:01:34.344Z"
   },
   {
    "duration": 7,
    "start_time": "2021-12-29T13:02:25.556Z"
   },
   {
    "duration": 6,
    "start_time": "2021-12-29T13:03:14.537Z"
   },
   {
    "duration": 27,
    "start_time": "2021-12-29T13:04:20.105Z"
   },
   {
    "duration": 21,
    "start_time": "2021-12-29T13:04:28.872Z"
   },
   {
    "duration": 21,
    "start_time": "2021-12-29T13:04:33.050Z"
   },
   {
    "duration": 218,
    "start_time": "2021-12-29T13:04:36.949Z"
   },
   {
    "duration": 59,
    "start_time": "2021-12-29T13:04:37.170Z"
   },
   {
    "duration": 9,
    "start_time": "2021-12-29T13:04:37.232Z"
   },
   {
    "duration": 20,
    "start_time": "2021-12-29T13:04:37.245Z"
   },
   {
    "duration": 63,
    "start_time": "2021-12-29T13:04:37.268Z"
   },
   {
    "duration": 27,
    "start_time": "2021-12-29T13:04:37.334Z"
   },
   {
    "duration": 52,
    "start_time": "2021-12-29T13:04:37.365Z"
   },
   {
    "duration": 14,
    "start_time": "2021-12-29T13:04:37.422Z"
   },
   {
    "duration": 13,
    "start_time": "2021-12-29T13:04:37.440Z"
   },
   {
    "duration": 61,
    "start_time": "2021-12-29T13:04:37.456Z"
   },
   {
    "duration": 14,
    "start_time": "2021-12-29T13:04:37.521Z"
   },
   {
    "duration": 15,
    "start_time": "2021-12-29T13:04:37.538Z"
   },
   {
    "duration": 160,
    "start_time": "2021-12-29T13:04:37.557Z"
   },
   {
    "duration": 1009,
    "start_time": "2021-12-29T13:04:37.721Z"
   },
   {
    "duration": 22,
    "start_time": "2021-12-29T13:04:38.733Z"
   },
   {
    "duration": 72,
    "start_time": "2021-12-29T13:04:38.761Z"
   },
   {
    "duration": 741,
    "start_time": "2021-12-29T13:04:38.836Z"
   },
   {
    "duration": 667,
    "start_time": "2021-12-29T13:04:39.581Z"
   },
   {
    "duration": 505,
    "start_time": "2021-12-29T13:04:40.251Z"
   },
   {
    "duration": 465,
    "start_time": "2021-12-29T13:04:40.760Z"
   },
   {
    "duration": 4,
    "start_time": "2021-12-29T13:04:41.229Z"
   },
   {
    "duration": 42,
    "start_time": "2021-12-29T13:04:41.236Z"
   },
   {
    "duration": 489,
    "start_time": "2021-12-29T13:04:41.286Z"
   },
   {
    "duration": 404,
    "start_time": "2021-12-29T13:04:41.779Z"
   },
   {
    "duration": 8,
    "start_time": "2021-12-29T13:04:42.187Z"
   },
   {
    "duration": 3,
    "start_time": "2021-12-29T13:04:42.217Z"
   },
   {
    "duration": 153,
    "start_time": "2021-12-29T13:04:42.222Z"
   },
   {
    "duration": 468,
    "start_time": "2021-12-29T13:04:42.378Z"
   },
   {
    "duration": 12,
    "start_time": "2021-12-29T13:04:42.848Z"
   },
   {
    "duration": 24,
    "start_time": "2021-12-29T13:04:42.862Z"
   },
   {
    "duration": 566,
    "start_time": "2021-12-29T13:04:42.888Z"
   },
   {
    "duration": 332,
    "start_time": "2021-12-29T13:04:43.456Z"
   },
   {
    "duration": 478,
    "start_time": "2021-12-29T13:04:43.791Z"
   },
   {
    "duration": 497,
    "start_time": "2021-12-29T13:04:44.272Z"
   },
   {
    "duration": 3,
    "start_time": "2021-12-29T13:04:44.772Z"
   },
   {
    "duration": 415,
    "start_time": "2021-12-29T13:04:44.778Z"
   },
   {
    "duration": 401,
    "start_time": "2021-12-29T13:04:45.197Z"
   },
   {
    "duration": 548,
    "start_time": "2021-12-29T13:04:45.602Z"
   },
   {
    "duration": 44,
    "start_time": "2021-12-29T13:04:46.154Z"
   },
   {
    "duration": 551,
    "start_time": "2021-12-29T13:04:46.218Z"
   },
   {
    "duration": 3,
    "start_time": "2021-12-29T13:04:46.772Z"
   },
   {
    "duration": 13,
    "start_time": "2021-12-29T13:04:46.778Z"
   },
   {
    "duration": 4,
    "start_time": "2021-12-29T13:04:46.818Z"
   },
   {
    "duration": 99,
    "start_time": "2021-12-29T13:04:46.824Z"
   },
   {
    "duration": 3,
    "start_time": "2021-12-29T13:04:46.925Z"
   },
   {
    "duration": 14,
    "start_time": "2021-12-29T13:04:46.931Z"
   },
   {
    "duration": 21546,
    "start_time": "2021-12-29T13:08:08.420Z"
   },
   {
    "duration": 80,
    "start_time": "2021-12-29T13:08:29.969Z"
   },
   {
    "duration": 9,
    "start_time": "2021-12-29T13:08:30.051Z"
   },
   {
    "duration": 803,
    "start_time": "2021-12-29T13:08:30.117Z"
   },
   {
    "duration": 508,
    "start_time": "2021-12-29T13:08:30.923Z"
   },
   {
    "duration": 900,
    "start_time": "2021-12-29T13:08:31.434Z"
   },
   {
    "duration": 330,
    "start_time": "2021-12-29T13:08:32.336Z"
   },
   {
    "duration": 421,
    "start_time": "2021-12-29T13:08:32.669Z"
   },
   {
    "duration": 286,
    "start_time": "2021-12-29T13:08:33.092Z"
   },
   {
    "duration": 274,
    "start_time": "2021-12-29T13:08:33.381Z"
   },
   {
    "duration": 365,
    "start_time": "2021-12-29T13:08:33.657Z"
   },
   {
    "duration": 442,
    "start_time": "2021-12-29T13:08:34.025Z"
   },
   {
    "duration": 519,
    "start_time": "2021-12-29T13:08:34.469Z"
   },
   {
    "duration": 1213,
    "start_time": "2021-12-29T13:08:34.991Z"
   },
   {
    "duration": 3505,
    "start_time": "2021-12-29T13:08:36.207Z"
   },
   {
    "duration": 38,
    "start_time": "2021-12-29T13:08:39.717Z"
   },
   {
    "duration": 665,
    "start_time": "2021-12-29T13:08:39.757Z"
   },
   {
    "duration": 520,
    "start_time": "2021-12-29T13:08:40.425Z"
   },
   {
    "duration": 348,
    "start_time": "2021-12-29T13:08:40.947Z"
   },
   {
    "duration": 419,
    "start_time": "2021-12-29T13:08:41.306Z"
   },
   {
    "duration": 3,
    "start_time": "2021-12-29T13:08:41.730Z"
   },
   {
    "duration": 32,
    "start_time": "2021-12-29T13:08:41.736Z"
   },
   {
    "duration": 408,
    "start_time": "2021-12-29T13:08:41.770Z"
   },
   {
    "duration": 270,
    "start_time": "2021-12-29T13:08:42.180Z"
   },
   {
    "duration": 8,
    "start_time": "2021-12-29T13:08:42.453Z"
   },
   {
    "duration": 11,
    "start_time": "2021-12-29T13:08:42.464Z"
   },
   {
    "duration": 154,
    "start_time": "2021-12-29T13:08:42.477Z"
   },
   {
    "duration": 523,
    "start_time": "2021-12-29T13:08:42.633Z"
   },
   {
    "duration": 11,
    "start_time": "2021-12-29T13:08:43.159Z"
   },
   {
    "duration": 14,
    "start_time": "2021-12-29T13:08:43.173Z"
   },
   {
    "duration": 364,
    "start_time": "2021-12-29T13:08:43.190Z"
   },
   {
    "duration": 366,
    "start_time": "2021-12-29T13:08:43.556Z"
   },
   {
    "duration": 481,
    "start_time": "2021-12-29T13:08:43.925Z"
   },
   {
    "duration": 537,
    "start_time": "2021-12-29T13:08:44.409Z"
   },
   {
    "duration": 4,
    "start_time": "2021-12-29T13:08:44.950Z"
   },
   {
    "duration": 442,
    "start_time": "2021-12-29T13:08:44.956Z"
   },
   {
    "duration": 731,
    "start_time": "2021-12-29T13:08:45.400Z"
   },
   {
    "duration": 486,
    "start_time": "2021-12-29T13:08:46.134Z"
   },
   {
    "duration": 41,
    "start_time": "2021-12-29T13:08:46.622Z"
   },
   {
    "duration": 457,
    "start_time": "2021-12-29T13:08:46.667Z"
   },
   {
    "duration": 4,
    "start_time": "2021-12-29T13:08:47.127Z"
   },
   {
    "duration": 32,
    "start_time": "2021-12-29T13:08:47.134Z"
   },
   {
    "duration": 15,
    "start_time": "2021-12-29T13:08:47.169Z"
   },
   {
    "duration": 13066,
    "start_time": "2021-12-29T13:08:47.187Z"
   },
   {
    "duration": 17,
    "start_time": "2021-12-29T13:09:00.258Z"
   },
   {
    "duration": 48,
    "start_time": "2021-12-29T13:09:00.277Z"
   },
   {
    "duration": 30757,
    "start_time": "2021-12-29T13:10:38.766Z"
   },
   {
    "duration": 104,
    "start_time": "2021-12-29T13:11:09.527Z"
   },
   {
    "duration": 11,
    "start_time": "2021-12-29T13:11:09.634Z"
   },
   {
    "duration": 1388,
    "start_time": "2021-12-29T13:11:09.648Z"
   },
   {
    "duration": 912,
    "start_time": "2021-12-29T13:11:11.039Z"
   },
   {
    "duration": 991,
    "start_time": "2021-12-29T13:11:11.954Z"
   },
   {
    "duration": 542,
    "start_time": "2021-12-29T13:11:12.949Z"
   },
   {
    "duration": 808,
    "start_time": "2021-12-29T13:11:13.497Z"
   },
   {
    "duration": 289,
    "start_time": "2021-12-29T13:11:14.317Z"
   },
   {
    "duration": 286,
    "start_time": "2021-12-29T13:11:14.609Z"
   },
   {
    "duration": 457,
    "start_time": "2021-12-29T13:11:14.898Z"
   },
   {
    "duration": 699,
    "start_time": "2021-12-29T13:11:15.358Z"
   },
   {
    "duration": 762,
    "start_time": "2021-12-29T13:11:16.060Z"
   },
   {
    "duration": 2158,
    "start_time": "2021-12-29T13:11:16.825Z"
   },
   {
    "duration": 4887,
    "start_time": "2021-12-29T13:11:18.986Z"
   },
   {
    "duration": 67,
    "start_time": "2021-12-29T13:11:23.876Z"
   },
   {
    "duration": 651,
    "start_time": "2021-12-29T13:11:23.946Z"
   },
   {
    "duration": 425,
    "start_time": "2021-12-29T13:11:24.599Z"
   },
   {
    "duration": 351,
    "start_time": "2021-12-29T13:11:25.026Z"
   },
   {
    "duration": 410,
    "start_time": "2021-12-29T13:11:25.379Z"
   },
   {
    "duration": 4,
    "start_time": "2021-12-29T13:11:25.792Z"
   },
   {
    "duration": 50,
    "start_time": "2021-12-29T13:11:25.799Z"
   },
   {
    "duration": 356,
    "start_time": "2021-12-29T13:11:25.854Z"
   },
   {
    "duration": 268,
    "start_time": "2021-12-29T13:11:26.217Z"
   },
   {
    "duration": 7,
    "start_time": "2021-12-29T13:11:26.487Z"
   },
   {
    "duration": 22,
    "start_time": "2021-12-29T13:11:26.497Z"
   },
   {
    "duration": 149,
    "start_time": "2021-12-29T13:11:26.522Z"
   },
   {
    "duration": 612,
    "start_time": "2021-12-29T13:11:26.674Z"
   },
   {
    "duration": 28,
    "start_time": "2021-12-29T13:11:27.289Z"
   },
   {
    "duration": 17,
    "start_time": "2021-12-29T13:11:27.320Z"
   },
   {
    "duration": 502,
    "start_time": "2021-12-29T13:11:27.340Z"
   },
   {
    "duration": 508,
    "start_time": "2021-12-29T13:11:27.845Z"
   },
   {
    "duration": 497,
    "start_time": "2021-12-29T13:11:28.356Z"
   },
   {
    "duration": 494,
    "start_time": "2021-12-29T13:11:28.856Z"
   },
   {
    "duration": 3,
    "start_time": "2021-12-29T13:11:29.353Z"
   },
   {
    "duration": 600,
    "start_time": "2021-12-29T13:11:29.359Z"
   },
   {
    "duration": 606,
    "start_time": "2021-12-29T13:11:29.962Z"
   },
   {
    "duration": 592,
    "start_time": "2021-12-29T13:11:30.571Z"
   },
   {
    "duration": 62,
    "start_time": "2021-12-29T13:11:31.166Z"
   },
   {
    "duration": 594,
    "start_time": "2021-12-29T13:11:31.231Z"
   },
   {
    "duration": 4,
    "start_time": "2021-12-29T13:11:31.828Z"
   },
   {
    "duration": 15,
    "start_time": "2021-12-29T13:11:31.835Z"
   },
   {
    "duration": 4,
    "start_time": "2021-12-29T13:11:31.853Z"
   },
   {
    "duration": 18779,
    "start_time": "2021-12-29T13:11:31.861Z"
   },
   {
    "duration": 4,
    "start_time": "2021-12-29T13:11:50.645Z"
   },
   {
    "duration": 7,
    "start_time": "2021-12-29T13:11:50.654Z"
   },
   {
    "duration": 168,
    "start_time": "2021-12-29T13:12:03.551Z"
   },
   {
    "duration": 173,
    "start_time": "2021-12-29T13:12:39.193Z"
   },
   {
    "duration": 79,
    "start_time": "2021-12-29T13:12:39.370Z"
   },
   {
    "duration": 13,
    "start_time": "2021-12-29T13:12:39.453Z"
   },
   {
    "duration": 56,
    "start_time": "2021-12-29T13:12:39.470Z"
   },
   {
    "duration": 28,
    "start_time": "2021-12-29T13:12:39.529Z"
   },
   {
    "duration": 56,
    "start_time": "2021-12-29T13:12:39.561Z"
   },
   {
    "duration": 17,
    "start_time": "2021-12-29T13:12:39.620Z"
   },
   {
    "duration": 16,
    "start_time": "2021-12-29T13:12:39.642Z"
   },
   {
    "duration": 60,
    "start_time": "2021-12-29T13:12:39.662Z"
   },
   {
    "duration": 13,
    "start_time": "2021-12-29T13:12:39.725Z"
   },
   {
    "duration": 11,
    "start_time": "2021-12-29T13:12:39.741Z"
   },
   {
    "duration": 12,
    "start_time": "2021-12-29T13:12:39.756Z"
   },
   {
    "duration": 152,
    "start_time": "2021-12-29T13:12:39.819Z"
   },
   {
    "duration": 1371,
    "start_time": "2021-12-29T13:12:39.974Z"
   },
   {
    "duration": 25,
    "start_time": "2021-12-29T13:12:41.348Z"
   },
   {
    "duration": 58,
    "start_time": "2021-12-29T13:12:41.377Z"
   },
   {
    "duration": 511,
    "start_time": "2021-12-29T13:12:41.439Z"
   },
   {
    "duration": 423,
    "start_time": "2021-12-29T13:12:41.953Z"
   },
   {
    "duration": 652,
    "start_time": "2021-12-29T13:12:42.378Z"
   },
   {
    "duration": 417,
    "start_time": "2021-12-29T13:12:43.032Z"
   },
   {
    "duration": 3,
    "start_time": "2021-12-29T13:12:43.452Z"
   },
   {
    "duration": 35,
    "start_time": "2021-12-29T13:12:43.459Z"
   },
   {
    "duration": 510,
    "start_time": "2021-12-29T13:12:43.518Z"
   },
   {
    "duration": 290,
    "start_time": "2021-12-29T13:12:44.030Z"
   },
   {
    "duration": 8,
    "start_time": "2021-12-29T13:12:44.324Z"
   },
   {
    "duration": 4,
    "start_time": "2021-12-29T13:12:44.335Z"
   },
   {
    "duration": 219,
    "start_time": "2021-12-29T13:12:44.342Z"
   },
   {
    "duration": 894,
    "start_time": "2021-12-29T13:12:44.564Z"
   },
   {
    "duration": 70,
    "start_time": "2021-12-29T13:12:45.461Z"
   },
   {
    "duration": 18,
    "start_time": "2021-12-29T13:12:45.534Z"
   },
   {
    "duration": 641,
    "start_time": "2021-12-29T13:12:45.555Z"
   },
   {
    "duration": 364,
    "start_time": "2021-12-29T13:12:46.199Z"
   },
   {
    "duration": 494,
    "start_time": "2021-12-29T13:12:46.566Z"
   },
   {
    "duration": 490,
    "start_time": "2021-12-29T13:12:47.063Z"
   },
   {
    "duration": 4,
    "start_time": "2021-12-29T13:12:47.555Z"
   },
   {
    "duration": 421,
    "start_time": "2021-12-29T13:12:47.561Z"
   },
   {
    "duration": 443,
    "start_time": "2021-12-29T13:12:47.985Z"
   },
   {
    "duration": 426,
    "start_time": "2021-12-29T13:12:48.434Z"
   },
   {
    "duration": 32,
    "start_time": "2021-12-29T13:12:48.862Z"
   },
   {
    "duration": 520,
    "start_time": "2021-12-29T13:12:48.917Z"
   },
   {
    "duration": 3,
    "start_time": "2021-12-29T13:12:49.439Z"
   },
   {
    "duration": 13,
    "start_time": "2021-12-29T13:12:49.445Z"
   },
   {
    "duration": 4,
    "start_time": "2021-12-29T13:12:49.461Z"
   },
   {
    "duration": 151,
    "start_time": "2021-12-29T13:12:49.469Z"
   },
   {
    "duration": 4,
    "start_time": "2021-12-29T13:12:49.622Z"
   },
   {
    "duration": 15,
    "start_time": "2021-12-29T13:12:49.628Z"
   },
   {
    "duration": 7,
    "start_time": "2021-12-29T13:13:27.442Z"
   },
   {
    "duration": 14,
    "start_time": "2021-12-29T13:13:46.843Z"
   },
   {
    "duration": 16,
    "start_time": "2021-12-29T13:13:51.213Z"
   },
   {
    "duration": 12,
    "start_time": "2021-12-29T13:14:21.692Z"
   },
   {
    "duration": 10,
    "start_time": "2021-12-29T13:14:27.918Z"
   },
   {
    "duration": 995,
    "start_time": "2021-12-30T11:55:06.761Z"
   },
   {
    "duration": 47,
    "start_time": "2021-12-30T11:55:07.759Z"
   },
   {
    "duration": 14,
    "start_time": "2021-12-30T11:55:07.809Z"
   },
   {
    "duration": 10,
    "start_time": "2021-12-30T11:55:07.826Z"
   },
   {
    "duration": 50,
    "start_time": "2021-12-30T11:55:07.838Z"
   },
   {
    "duration": 24,
    "start_time": "2021-12-30T11:55:07.891Z"
   },
   {
    "duration": 60,
    "start_time": "2021-12-30T11:55:07.918Z"
   },
   {
    "duration": 14,
    "start_time": "2021-12-30T11:55:07.984Z"
   },
   {
    "duration": 18,
    "start_time": "2021-12-30T11:55:08.001Z"
   },
   {
    "duration": 52,
    "start_time": "2021-12-30T11:55:08.022Z"
   },
   {
    "duration": 12,
    "start_time": "2021-12-30T11:55:08.076Z"
   },
   {
    "duration": 12,
    "start_time": "2021-12-30T11:55:08.091Z"
   },
   {
    "duration": 10,
    "start_time": "2021-12-30T11:55:08.105Z"
   },
   {
    "duration": 129,
    "start_time": "2021-12-30T11:55:08.117Z"
   },
   {
    "duration": 865,
    "start_time": "2021-12-30T11:55:08.248Z"
   },
   {
    "duration": 25,
    "start_time": "2021-12-30T11:55:09.116Z"
   },
   {
    "duration": 62,
    "start_time": "2021-12-30T11:55:09.144Z"
   },
   {
    "duration": 684,
    "start_time": "2021-12-30T11:55:09.208Z"
   },
   {
    "duration": 451,
    "start_time": "2021-12-30T11:55:09.894Z"
   },
   {
    "duration": 357,
    "start_time": "2021-12-30T11:55:10.347Z"
   },
   {
    "duration": 434,
    "start_time": "2021-12-30T11:55:10.707Z"
   },
   {
    "duration": 3,
    "start_time": "2021-12-30T11:55:11.144Z"
   },
   {
    "duration": 46,
    "start_time": "2021-12-30T11:55:11.152Z"
   },
   {
    "duration": 361,
    "start_time": "2021-12-30T11:55:11.202Z"
   },
   {
    "duration": 281,
    "start_time": "2021-12-30T11:55:11.568Z"
   },
   {
    "duration": 17,
    "start_time": "2021-12-30T11:55:11.852Z"
   },
   {
    "duration": 3,
    "start_time": "2021-12-30T11:55:11.872Z"
   },
   {
    "duration": 164,
    "start_time": "2021-12-30T11:55:11.878Z"
   },
   {
    "duration": 501,
    "start_time": "2021-12-30T11:55:12.044Z"
   },
   {
    "duration": 26,
    "start_time": "2021-12-30T11:55:12.548Z"
   },
   {
    "duration": 17,
    "start_time": "2021-12-30T11:55:12.577Z"
   },
   {
    "duration": 374,
    "start_time": "2021-12-30T11:55:12.597Z"
   },
   {
    "duration": 347,
    "start_time": "2021-12-30T11:55:12.974Z"
   },
   {
    "duration": 562,
    "start_time": "2021-12-30T11:55:13.324Z"
   },
   {
    "duration": 500,
    "start_time": "2021-12-30T11:55:13.889Z"
   },
   {
    "duration": 3,
    "start_time": "2021-12-30T11:55:14.392Z"
   },
   {
    "duration": 439,
    "start_time": "2021-12-30T11:55:14.398Z"
   },
   {
    "duration": 433,
    "start_time": "2021-12-30T11:55:14.840Z"
   },
   {
    "duration": 417,
    "start_time": "2021-12-30T11:55:15.276Z"
   },
   {
    "duration": 437,
    "start_time": "2021-12-30T11:55:15.696Z"
   },
   {
    "duration": -90,
    "start_time": "2021-12-30T11:55:16.225Z"
   },
   {
    "duration": -89,
    "start_time": "2021-12-30T11:55:16.226Z"
   },
   {
    "duration": -93,
    "start_time": "2021-12-30T11:55:16.231Z"
   },
   {
    "duration": -93,
    "start_time": "2021-12-30T11:55:16.232Z"
   },
   {
    "duration": -92,
    "start_time": "2021-12-30T11:55:16.233Z"
   },
   {
    "duration": -95,
    "start_time": "2021-12-30T11:55:16.237Z"
   },
   {
    "duration": -95,
    "start_time": "2021-12-30T11:55:16.238Z"
   },
   {
    "duration": 197,
    "start_time": "2021-12-30T11:56:41.617Z"
   },
   {
    "duration": 56,
    "start_time": "2021-12-30T11:56:41.817Z"
   },
   {
    "duration": 16,
    "start_time": "2021-12-30T11:56:41.876Z"
   },
   {
    "duration": 10,
    "start_time": "2021-12-30T11:56:41.895Z"
   },
   {
    "duration": 16,
    "start_time": "2021-12-30T11:56:41.907Z"
   },
   {
    "duration": 67,
    "start_time": "2021-12-30T11:56:41.926Z"
   },
   {
    "duration": 24,
    "start_time": "2021-12-30T11:56:41.995Z"
   },
   {
    "duration": 15,
    "start_time": "2021-12-30T11:56:42.022Z"
   },
   {
    "duration": 18,
    "start_time": "2021-12-30T11:56:42.067Z"
   },
   {
    "duration": 12,
    "start_time": "2021-12-30T11:56:42.088Z"
   },
   {
    "duration": 11,
    "start_time": "2021-12-30T11:56:42.102Z"
   },
   {
    "duration": 59,
    "start_time": "2021-12-30T11:56:42.116Z"
   },
   {
    "duration": 10,
    "start_time": "2021-12-30T11:56:42.178Z"
   },
   {
    "duration": 166,
    "start_time": "2021-12-30T11:56:42.191Z"
   },
   {
    "duration": 1529,
    "start_time": "2021-12-30T11:56:42.360Z"
   },
   {
    "duration": 24,
    "start_time": "2021-12-30T11:56:43.892Z"
   },
   {
    "duration": 53,
    "start_time": "2021-12-30T11:56:43.919Z"
   },
   {
    "duration": 686,
    "start_time": "2021-12-30T11:56:43.975Z"
   },
   {
    "duration": 511,
    "start_time": "2021-12-30T11:56:44.664Z"
   },
   {
    "duration": 360,
    "start_time": "2021-12-30T11:56:45.178Z"
   },
   {
    "duration": 445,
    "start_time": "2021-12-30T11:56:45.541Z"
   },
   {
    "duration": 3,
    "start_time": "2021-12-30T11:56:45.990Z"
   },
   {
    "duration": 27,
    "start_time": "2021-12-30T11:56:45.996Z"
   },
   {
    "duration": 424,
    "start_time": "2021-12-30T11:56:46.026Z"
   },
   {
    "duration": 352,
    "start_time": "2021-12-30T11:56:46.454Z"
   },
   {
    "duration": 8,
    "start_time": "2021-12-30T11:56:46.809Z"
   },
   {
    "duration": 3,
    "start_time": "2021-12-30T11:56:46.827Z"
   },
   {
    "duration": 176,
    "start_time": "2021-12-30T11:56:46.834Z"
   },
   {
    "duration": 623,
    "start_time": "2021-12-30T11:56:47.013Z"
   },
   {
    "duration": 12,
    "start_time": "2021-12-30T11:56:47.639Z"
   },
   {
    "duration": 18,
    "start_time": "2021-12-30T11:56:47.668Z"
   },
   {
    "duration": 370,
    "start_time": "2021-12-30T11:56:47.690Z"
   },
   {
    "duration": 357,
    "start_time": "2021-12-30T11:56:48.062Z"
   },
   {
    "duration": 491,
    "start_time": "2021-12-30T11:56:48.421Z"
   },
   {
    "duration": 601,
    "start_time": "2021-12-30T11:56:48.914Z"
   },
   {
    "duration": 3,
    "start_time": "2021-12-30T11:56:49.517Z"
   },
   {
    "duration": 433,
    "start_time": "2021-12-30T11:56:49.523Z"
   },
   {
    "duration": 454,
    "start_time": "2021-12-30T11:56:49.967Z"
   },
   {
    "duration": 422,
    "start_time": "2021-12-30T11:56:50.424Z"
   },
   {
    "duration": 45,
    "start_time": "2021-12-30T11:56:50.848Z"
   },
   {
    "duration": 422,
    "start_time": "2021-12-30T11:56:50.896Z"
   },
   {
    "duration": 3,
    "start_time": "2021-12-30T11:56:51.322Z"
   },
   {
    "duration": 12,
    "start_time": "2021-12-30T11:56:51.328Z"
   },
   {
    "duration": 8,
    "start_time": "2021-12-30T11:56:51.367Z"
   },
   {
    "duration": 81,
    "start_time": "2021-12-30T11:56:51.378Z"
   },
   {
    "duration": 3,
    "start_time": "2021-12-30T11:56:51.461Z"
   },
   {
    "duration": 13,
    "start_time": "2021-12-30T11:56:51.468Z"
   },
   {
    "duration": 31,
    "start_time": "2021-12-30T12:35:42.589Z"
   },
   {
    "duration": 29,
    "start_time": "2021-12-30T12:36:04.440Z"
   },
   {
    "duration": 121,
    "start_time": "2021-12-30T12:40:05.319Z"
   },
   {
    "duration": 302,
    "start_time": "2021-12-30T12:40:10.943Z"
   },
   {
    "duration": 50,
    "start_time": "2021-12-30T12:40:18.865Z"
   },
   {
    "duration": 308,
    "start_time": "2021-12-30T12:41:47.058Z"
   },
   {
    "duration": 10,
    "start_time": "2021-12-30T12:42:16.497Z"
   },
   {
    "duration": 391,
    "start_time": "2021-12-30T12:43:11.740Z"
   },
   {
    "duration": 7821,
    "start_time": "2021-12-30T12:43:55.372Z"
   },
   {
    "duration": 7,
    "start_time": "2021-12-30T12:44:42.327Z"
   },
   {
    "duration": 10,
    "start_time": "2021-12-30T12:44:46.896Z"
   },
   {
    "duration": 314,
    "start_time": "2021-12-30T12:45:25.399Z"
   },
   {
    "duration": 331,
    "start_time": "2021-12-30T12:47:39.784Z"
   },
   {
    "duration": 338,
    "start_time": "2021-12-30T12:47:43.433Z"
   },
   {
    "duration": 341,
    "start_time": "2021-12-30T12:48:08.346Z"
   },
   {
    "duration": 21,
    "start_time": "2021-12-30T12:49:12.489Z"
   },
   {
    "duration": 321,
    "start_time": "2021-12-30T12:50:05.609Z"
   },
   {
    "duration": 311,
    "start_time": "2021-12-30T12:50:32.050Z"
   },
   {
    "duration": 324,
    "start_time": "2021-12-30T12:50:38.455Z"
   },
   {
    "duration": 4022,
    "start_time": "2021-12-30T12:50:53.553Z"
   },
   {
    "duration": 8258,
    "start_time": "2021-12-30T12:51:43.778Z"
   },
   {
    "duration": 7987,
    "start_time": "2021-12-30T12:51:59.532Z"
   },
   {
    "duration": 657,
    "start_time": "2021-12-30T12:52:52.615Z"
   },
   {
    "duration": 102,
    "start_time": "2021-12-30T13:01:26.036Z"
   },
   {
    "duration": 323,
    "start_time": "2021-12-30T13:01:39.911Z"
   },
   {
    "duration": 798,
    "start_time": "2021-12-30T13:03:26.833Z"
   },
   {
    "duration": 330,
    "start_time": "2021-12-30T13:03:44.407Z"
   },
   {
    "duration": 336,
    "start_time": "2021-12-30T13:04:23.627Z"
   },
   {
    "duration": 340,
    "start_time": "2021-12-30T13:04:49.792Z"
   },
   {
    "duration": 129,
    "start_time": "2021-12-30T13:04:55.670Z"
   },
   {
    "duration": 10,
    "start_time": "2021-12-30T13:05:19.419Z"
   },
   {
    "duration": 329,
    "start_time": "2021-12-30T13:05:27.089Z"
   },
   {
    "duration": 317,
    "start_time": "2021-12-30T13:05:43.040Z"
   },
   {
    "duration": 77,
    "start_time": "2021-12-30T13:05:56.811Z"
   },
   {
    "duration": 367,
    "start_time": "2021-12-30T13:06:15.265Z"
   },
   {
    "duration": 325,
    "start_time": "2021-12-30T13:06:20.257Z"
   },
   {
    "duration": 326,
    "start_time": "2021-12-30T13:07:16.019Z"
   },
   {
    "duration": 341,
    "start_time": "2021-12-30T13:07:36.497Z"
   },
   {
    "duration": 75,
    "start_time": "2021-12-30T13:08:48.021Z"
   },
   {
    "duration": 325,
    "start_time": "2021-12-30T13:09:47.449Z"
   },
   {
    "duration": 7644,
    "start_time": "2021-12-30T13:10:02.048Z"
   },
   {
    "duration": 19,
    "start_time": "2021-12-30T13:14:46.432Z"
   },
   {
    "duration": 492,
    "start_time": "2021-12-30T13:15:24.093Z"
   },
   {
    "duration": 601,
    "start_time": "2021-12-30T13:15:31.343Z"
   },
   {
    "duration": 107,
    "start_time": "2021-12-30T13:16:25.363Z"
   },
   {
    "duration": 549,
    "start_time": "2021-12-30T13:16:30.103Z"
   },
   {
    "duration": 194,
    "start_time": "2021-12-30T13:16:48.005Z"
   },
   {
    "duration": 39,
    "start_time": "2021-12-30T13:16:48.202Z"
   },
   {
    "duration": 31,
    "start_time": "2021-12-30T13:16:48.244Z"
   },
   {
    "duration": 13,
    "start_time": "2021-12-30T13:16:48.279Z"
   },
   {
    "duration": 19,
    "start_time": "2021-12-30T13:16:48.295Z"
   },
   {
    "duration": 65,
    "start_time": "2021-12-30T13:16:48.317Z"
   },
   {
    "duration": 22,
    "start_time": "2021-12-30T13:16:48.385Z"
   },
   {
    "duration": 14,
    "start_time": "2021-12-30T13:16:48.409Z"
   },
   {
    "duration": 16,
    "start_time": "2021-12-30T13:16:48.469Z"
   },
   {
    "duration": 11,
    "start_time": "2021-12-30T13:16:48.489Z"
   },
   {
    "duration": 11,
    "start_time": "2021-12-30T13:16:48.503Z"
   },
   {
    "duration": 10,
    "start_time": "2021-12-30T13:16:48.516Z"
   },
   {
    "duration": 48,
    "start_time": "2021-12-30T13:16:48.528Z"
   },
   {
    "duration": 114,
    "start_time": "2021-12-30T13:16:48.580Z"
   },
   {
    "duration": 978,
    "start_time": "2021-12-30T13:16:48.698Z"
   },
   {
    "duration": 27,
    "start_time": "2021-12-30T13:16:49.679Z"
   },
   {
    "duration": 61,
    "start_time": "2021-12-30T13:16:49.708Z"
   },
   {
    "duration": 539,
    "start_time": "2021-12-30T13:16:49.772Z"
   },
   {
    "duration": 448,
    "start_time": "2021-12-30T13:16:50.313Z"
   },
   {
    "duration": 357,
    "start_time": "2021-12-30T13:16:50.763Z"
   },
   {
    "duration": 440,
    "start_time": "2021-12-30T13:16:51.122Z"
   },
   {
    "duration": 5,
    "start_time": "2021-12-30T13:16:51.568Z"
   },
   {
    "duration": 29,
    "start_time": "2021-12-30T13:16:51.578Z"
   },
   {
    "duration": 403,
    "start_time": "2021-12-30T13:16:51.610Z"
   },
   {
    "duration": 288,
    "start_time": "2021-12-30T13:16:52.015Z"
   },
   {
    "duration": 9,
    "start_time": "2021-12-30T13:16:52.306Z"
   },
   {
    "duration": 6,
    "start_time": "2021-12-30T13:16:52.322Z"
   },
   {
    "duration": 176,
    "start_time": "2021-12-30T13:16:52.331Z"
   },
   {
    "duration": 509,
    "start_time": "2021-12-30T13:16:52.510Z"
   },
   {
    "duration": 11,
    "start_time": "2021-12-30T13:16:53.021Z"
   },
   {
    "duration": 41,
    "start_time": "2021-12-30T13:16:53.034Z"
   },
   {
    "duration": 348,
    "start_time": "2021-12-30T13:16:53.078Z"
   },
   {
    "duration": 475,
    "start_time": "2021-12-30T13:16:53.428Z"
   },
   {
    "duration": 495,
    "start_time": "2021-12-30T13:16:53.906Z"
   },
   {
    "duration": 524,
    "start_time": "2021-12-30T13:16:54.403Z"
   },
   {
    "duration": 4,
    "start_time": "2021-12-30T13:16:54.930Z"
   },
   {
    "duration": 463,
    "start_time": "2021-12-30T13:16:54.936Z"
   },
   {
    "duration": 433,
    "start_time": "2021-12-30T13:16:55.402Z"
   },
   {
    "duration": 436,
    "start_time": "2021-12-30T13:16:55.837Z"
   },
   {
    "duration": 34,
    "start_time": "2021-12-30T13:16:56.276Z"
   },
   {
    "duration": 438,
    "start_time": "2021-12-30T13:16:56.313Z"
   },
   {
    "duration": 3,
    "start_time": "2021-12-30T13:16:56.753Z"
   },
   {
    "duration": 26,
    "start_time": "2021-12-30T13:16:56.758Z"
   },
   {
    "duration": 513,
    "start_time": "2021-12-30T13:16:56.787Z"
   },
   {
    "duration": -134,
    "start_time": "2021-12-30T13:16:57.436Z"
   },
   {
    "duration": -133,
    "start_time": "2021-12-30T13:16:57.437Z"
   },
   {
    "duration": -133,
    "start_time": "2021-12-30T13:16:57.438Z"
   },
   {
    "duration": -133,
    "start_time": "2021-12-30T13:16:57.440Z"
   },
   {
    "duration": 521,
    "start_time": "2021-12-30T13:17:32.865Z"
   },
   {
    "duration": 23,
    "start_time": "2021-12-30T13:20:52.728Z"
   },
   {
    "duration": 575,
    "start_time": "2021-12-30T13:22:36.337Z"
   },
   {
    "duration": 21,
    "start_time": "2021-12-30T15:03:53.201Z"
   },
   {
    "duration": 24,
    "start_time": "2021-12-30T15:03:59.953Z"
   },
   {
    "duration": 329,
    "start_time": "2021-12-30T15:04:23.084Z"
   },
   {
    "duration": 23,
    "start_time": "2021-12-30T15:04:52.813Z"
   },
   {
    "duration": 69,
    "start_time": "2021-12-30T15:05:14.886Z"
   },
   {
    "duration": 19,
    "start_time": "2021-12-30T15:06:02.335Z"
   },
   {
    "duration": 18,
    "start_time": "2021-12-30T15:06:12.935Z"
   },
   {
    "duration": 17,
    "start_time": "2021-12-30T15:06:30.638Z"
   },
   {
    "duration": 24,
    "start_time": "2021-12-30T15:06:41.678Z"
   },
   {
    "duration": 33,
    "start_time": "2021-12-30T15:07:22.342Z"
   },
   {
    "duration": 32,
    "start_time": "2021-12-30T15:07:38.353Z"
   },
   {
    "duration": 31,
    "start_time": "2021-12-30T15:07:47.010Z"
   },
   {
    "duration": 101,
    "start_time": "2021-12-30T15:09:52.484Z"
   },
   {
    "duration": 339,
    "start_time": "2021-12-30T15:10:21.894Z"
   },
   {
    "duration": 95,
    "start_time": "2021-12-30T15:10:46.448Z"
   },
   {
    "duration": 107,
    "start_time": "2021-12-30T15:11:47.692Z"
   },
   {
    "duration": 102,
    "start_time": "2021-12-30T15:12:11.932Z"
   },
   {
    "duration": 108,
    "start_time": "2021-12-30T15:12:28.392Z"
   },
   {
    "duration": 148,
    "start_time": "2021-12-30T15:12:47.676Z"
   },
   {
    "duration": 132,
    "start_time": "2021-12-30T15:12:50.748Z"
   },
   {
    "duration": 110,
    "start_time": "2021-12-30T15:14:39.394Z"
   },
   {
    "duration": 135,
    "start_time": "2021-12-30T15:15:10.692Z"
   },
   {
    "duration": 98,
    "start_time": "2021-12-30T15:15:19.684Z"
   },
   {
    "duration": 325,
    "start_time": "2021-12-30T15:16:20.404Z"
   },
   {
    "duration": 32,
    "start_time": "2021-12-30T15:16:58.452Z"
   },
   {
    "duration": 32,
    "start_time": "2021-12-30T15:17:07.689Z"
   },
   {
    "duration": 27,
    "start_time": "2021-12-30T15:17:44.975Z"
   },
   {
    "duration": 94,
    "start_time": "2021-12-30T15:19:25.030Z"
   },
   {
    "duration": 380,
    "start_time": "2021-12-30T15:19:40.383Z"
   },
   {
    "duration": 345,
    "start_time": "2021-12-30T15:21:40.828Z"
   },
   {
    "duration": 344,
    "start_time": "2021-12-30T15:22:33.685Z"
   },
   {
    "duration": 320,
    "start_time": "2021-12-30T15:22:40.213Z"
   },
   {
    "duration": 387,
    "start_time": "2021-12-30T15:22:46.775Z"
   },
   {
    "duration": 93,
    "start_time": "2021-12-30T15:22:58.284Z"
   },
   {
    "duration": 92,
    "start_time": "2021-12-30T15:23:45.247Z"
   },
   {
    "duration": 382,
    "start_time": "2021-12-30T15:23:59.079Z"
   },
   {
    "duration": 162,
    "start_time": "2021-12-30T15:26:05.464Z"
   },
   {
    "duration": 376,
    "start_time": "2021-12-30T15:26:11.618Z"
   },
   {
    "duration": 461,
    "start_time": "2021-12-30T15:26:46.412Z"
   },
   {
    "duration": 433,
    "start_time": "2021-12-30T15:27:34.146Z"
   },
   {
    "duration": 13,
    "start_time": "2021-12-30T15:27:58.065Z"
   },
   {
    "duration": 393,
    "start_time": "2021-12-30T15:28:12.049Z"
   },
   {
    "duration": 399,
    "start_time": "2021-12-30T15:28:57.953Z"
   },
   {
    "duration": 90,
    "start_time": "2021-12-30T15:29:08.749Z"
   },
   {
    "duration": 95,
    "start_time": "2021-12-30T15:29:19.676Z"
   },
   {
    "duration": 8,
    "start_time": "2021-12-30T15:29:29.092Z"
   },
   {
    "duration": 8,
    "start_time": "2021-12-30T15:29:30.819Z"
   },
   {
    "duration": 87,
    "start_time": "2021-12-30T15:29:37.920Z"
   },
   {
    "duration": 99,
    "start_time": "2021-12-30T15:29:42.901Z"
   },
   {
    "duration": 438,
    "start_time": "2021-12-30T15:33:12.539Z"
   },
   {
    "duration": 102,
    "start_time": "2021-12-30T15:33:25.770Z"
   },
   {
    "duration": 90,
    "start_time": "2021-12-30T15:33:35.439Z"
   },
   {
    "duration": 96,
    "start_time": "2021-12-30T15:33:39.240Z"
   },
   {
    "duration": 98,
    "start_time": "2021-12-30T15:33:43.744Z"
   },
   {
    "duration": 100,
    "start_time": "2021-12-30T15:33:46.866Z"
   },
   {
    "duration": 110,
    "start_time": "2021-12-30T15:33:59.939Z"
   },
   {
    "duration": 109,
    "start_time": "2021-12-30T15:34:14.366Z"
   },
   {
    "duration": 101,
    "start_time": "2021-12-30T15:34:17.479Z"
   },
   {
    "duration": 64,
    "start_time": "2021-12-30T16:04:52.868Z"
   },
   {
    "duration": 64,
    "start_time": "2021-12-30T16:05:08.382Z"
   },
   {
    "duration": 11,
    "start_time": "2021-12-30T16:06:00.729Z"
   },
   {
    "duration": 15,
    "start_time": "2021-12-30T16:06:07.758Z"
   },
   {
    "duration": 322,
    "start_time": "2021-12-30T16:07:05.240Z"
   },
   {
    "duration": -226,
    "start_time": "2021-12-30T16:07:32.722Z"
   },
   {
    "duration": 302,
    "start_time": "2021-12-30T16:10:46.976Z"
   },
   {
    "duration": 295,
    "start_time": "2021-12-30T16:11:07.328Z"
   },
   {
    "duration": 11,
    "start_time": "2021-12-30T16:11:20.685Z"
   },
   {
    "duration": 15,
    "start_time": "2021-12-30T16:11:56.908Z"
   },
   {
    "duration": 339,
    "start_time": "2021-12-30T16:12:13.054Z"
   },
   {
    "duration": 229,
    "start_time": "2021-12-30T16:12:31.562Z"
   },
   {
    "duration": 40,
    "start_time": "2021-12-30T16:12:31.794Z"
   },
   {
    "duration": 10,
    "start_time": "2021-12-30T16:12:31.867Z"
   },
   {
    "duration": 25,
    "start_time": "2021-12-30T16:12:31.881Z"
   },
   {
    "duration": 18,
    "start_time": "2021-12-30T16:12:31.909Z"
   },
   {
    "duration": 56,
    "start_time": "2021-12-30T16:12:31.930Z"
   },
   {
    "duration": 23,
    "start_time": "2021-12-30T16:12:31.989Z"
   },
   {
    "duration": 60,
    "start_time": "2021-12-30T16:12:32.015Z"
   },
   {
    "duration": 13,
    "start_time": "2021-12-30T16:12:32.078Z"
   },
   {
    "duration": 16,
    "start_time": "2021-12-30T16:12:32.095Z"
   },
   {
    "duration": 13,
    "start_time": "2021-12-30T16:12:32.114Z"
   },
   {
    "duration": 46,
    "start_time": "2021-12-30T16:12:32.130Z"
   },
   {
    "duration": 16,
    "start_time": "2021-12-30T16:12:32.178Z"
   },
   {
    "duration": 114,
    "start_time": "2021-12-30T16:12:32.196Z"
   },
   {
    "duration": 815,
    "start_time": "2021-12-30T16:12:32.312Z"
   },
   {
    "duration": 39,
    "start_time": "2021-12-30T16:12:33.130Z"
   },
   {
    "duration": 36,
    "start_time": "2021-12-30T16:12:33.171Z"
   },
   {
    "duration": 780,
    "start_time": "2021-12-30T16:12:33.209Z"
   },
   {
    "duration": 762,
    "start_time": "2021-12-30T16:12:33.992Z"
   },
   {
    "duration": 352,
    "start_time": "2021-12-30T16:12:34.756Z"
   },
   {
    "duration": 416,
    "start_time": "2021-12-30T16:12:35.111Z"
   },
   {
    "duration": 3,
    "start_time": "2021-12-30T16:12:35.530Z"
   },
   {
    "duration": 45,
    "start_time": "2021-12-30T16:12:35.536Z"
   },
   {
    "duration": 358,
    "start_time": "2021-12-30T16:12:35.584Z"
   },
   {
    "duration": 284,
    "start_time": "2021-12-30T16:12:35.945Z"
   },
   {
    "duration": 6,
    "start_time": "2021-12-30T16:12:36.231Z"
   },
   {
    "duration": 3,
    "start_time": "2021-12-30T16:12:36.243Z"
   },
   {
    "duration": 139,
    "start_time": "2021-12-30T16:12:36.268Z"
   },
   {
    "duration": 482,
    "start_time": "2021-12-30T16:12:36.409Z"
   },
   {
    "duration": 12,
    "start_time": "2021-12-30T16:12:36.893Z"
   },
   {
    "duration": 17,
    "start_time": "2021-12-30T16:12:36.907Z"
   },
   {
    "duration": 360,
    "start_time": "2021-12-30T16:12:36.926Z"
   },
   {
    "duration": 349,
    "start_time": "2021-12-30T16:12:37.288Z"
   },
   {
    "duration": 480,
    "start_time": "2021-12-30T16:12:37.639Z"
   },
   {
    "duration": 487,
    "start_time": "2021-12-30T16:12:38.123Z"
   },
   {
    "duration": 3,
    "start_time": "2021-12-30T16:12:38.613Z"
   },
   {
    "duration": 416,
    "start_time": "2021-12-30T16:12:38.618Z"
   },
   {
    "duration": 413,
    "start_time": "2021-12-30T16:12:39.036Z"
   },
   {
    "duration": 331,
    "start_time": "2021-12-30T16:12:39.451Z"
   },
   {
    "duration": -233,
    "start_time": "2021-12-30T16:12:40.017Z"
   },
   {
    "duration": -233,
    "start_time": "2021-12-30T16:12:40.018Z"
   },
   {
    "duration": -232,
    "start_time": "2021-12-30T16:12:40.019Z"
   },
   {
    "duration": -232,
    "start_time": "2021-12-30T16:12:40.020Z"
   },
   {
    "duration": -232,
    "start_time": "2021-12-30T16:12:40.022Z"
   },
   {
    "duration": -235,
    "start_time": "2021-12-30T16:12:40.026Z"
   },
   {
    "duration": -235,
    "start_time": "2021-12-30T16:12:40.028Z"
   },
   {
    "duration": -235,
    "start_time": "2021-12-30T16:12:40.029Z"
   },
   {
    "duration": -235,
    "start_time": "2021-12-30T16:12:40.030Z"
   },
   {
    "duration": 351,
    "start_time": "2021-12-30T16:12:54.097Z"
   },
   {
    "duration": 181,
    "start_time": "2021-12-30T16:13:14.720Z"
   },
   {
    "duration": 38,
    "start_time": "2021-12-30T16:13:14.904Z"
   },
   {
    "duration": 10,
    "start_time": "2021-12-30T16:13:14.968Z"
   },
   {
    "duration": 19,
    "start_time": "2021-12-30T16:13:14.981Z"
   },
   {
    "duration": 17,
    "start_time": "2021-12-30T16:13:15.002Z"
   },
   {
    "duration": 65,
    "start_time": "2021-12-30T16:13:15.021Z"
   },
   {
    "duration": 22,
    "start_time": "2021-12-30T16:13:15.088Z"
   },
   {
    "duration": 14,
    "start_time": "2021-12-30T16:13:15.114Z"
   },
   {
    "duration": 46,
    "start_time": "2021-12-30T16:13:15.132Z"
   },
   {
    "duration": 14,
    "start_time": "2021-12-30T16:13:15.181Z"
   },
   {
    "duration": 10,
    "start_time": "2021-12-30T16:13:15.198Z"
   },
   {
    "duration": 10,
    "start_time": "2021-12-30T16:13:15.211Z"
   },
   {
    "duration": 10,
    "start_time": "2021-12-30T16:13:15.268Z"
   },
   {
    "duration": 113,
    "start_time": "2021-12-30T16:13:15.280Z"
   },
   {
    "duration": 966,
    "start_time": "2021-12-30T16:13:15.395Z"
   },
   {
    "duration": 27,
    "start_time": "2021-12-30T16:13:16.366Z"
   },
   {
    "duration": 35,
    "start_time": "2021-12-30T16:13:16.395Z"
   },
   {
    "duration": 536,
    "start_time": "2021-12-30T16:13:16.433Z"
   },
   {
    "duration": 422,
    "start_time": "2021-12-30T16:13:16.972Z"
   },
   {
    "duration": 359,
    "start_time": "2021-12-30T16:13:17.396Z"
   },
   {
    "duration": 718,
    "start_time": "2021-12-30T16:13:17.757Z"
   },
   {
    "duration": 3,
    "start_time": "2021-12-30T16:13:18.477Z"
   },
   {
    "duration": 25,
    "start_time": "2021-12-30T16:13:18.485Z"
   },
   {
    "duration": 446,
    "start_time": "2021-12-30T16:13:18.513Z"
   },
   {
    "duration": 272,
    "start_time": "2021-12-30T16:13:18.962Z"
   },
   {
    "duration": 7,
    "start_time": "2021-12-30T16:13:19.236Z"
   },
   {
    "duration": 20,
    "start_time": "2021-12-30T16:13:19.246Z"
   },
   {
    "duration": 139,
    "start_time": "2021-12-30T16:13:19.269Z"
   },
   {
    "duration": 485,
    "start_time": "2021-12-30T16:13:19.411Z"
   },
   {
    "duration": 12,
    "start_time": "2021-12-30T16:13:19.898Z"
   },
   {
    "duration": 24,
    "start_time": "2021-12-30T16:13:19.913Z"
   },
   {
    "duration": 397,
    "start_time": "2021-12-30T16:13:19.940Z"
   },
   {
    "duration": 338,
    "start_time": "2021-12-30T16:13:20.339Z"
   },
   {
    "duration": 481,
    "start_time": "2021-12-30T16:13:20.679Z"
   },
   {
    "duration": 486,
    "start_time": "2021-12-30T16:13:21.162Z"
   },
   {
    "duration": 3,
    "start_time": "2021-12-30T16:13:21.651Z"
   },
   {
    "duration": 579,
    "start_time": "2021-12-30T16:13:21.668Z"
   },
   {
    "duration": 411,
    "start_time": "2021-12-30T16:13:22.249Z"
   },
   {
    "duration": 325,
    "start_time": "2021-12-30T16:13:22.662Z"
   },
   {
    "duration": -236,
    "start_time": "2021-12-30T16:13:23.226Z"
   },
   {
    "duration": -239,
    "start_time": "2021-12-30T16:13:23.231Z"
   },
   {
    "duration": -238,
    "start_time": "2021-12-30T16:13:23.232Z"
   },
   {
    "duration": -242,
    "start_time": "2021-12-30T16:13:23.238Z"
   },
   {
    "duration": -240,
    "start_time": "2021-12-30T16:13:23.239Z"
   },
   {
    "duration": -239,
    "start_time": "2021-12-30T16:13:23.240Z"
   },
   {
    "duration": -241,
    "start_time": "2021-12-30T16:13:23.244Z"
   },
   {
    "duration": -241,
    "start_time": "2021-12-30T16:13:23.246Z"
   },
   {
    "duration": -240,
    "start_time": "2021-12-30T16:13:23.247Z"
   },
   {
    "duration": 325,
    "start_time": "2021-12-30T16:13:42.291Z"
   },
   {
    "duration": 7,
    "start_time": "2021-12-30T16:17:10.676Z"
   },
   {
    "duration": 378,
    "start_time": "2021-12-30T16:17:31.786Z"
   },
   {
    "duration": 212,
    "start_time": "2021-12-30T16:17:37.957Z"
   },
   {
    "duration": 37,
    "start_time": "2021-12-30T16:17:38.172Z"
   },
   {
    "duration": 11,
    "start_time": "2021-12-30T16:17:38.212Z"
   },
   {
    "duration": 47,
    "start_time": "2021-12-30T16:17:38.227Z"
   },
   {
    "duration": 17,
    "start_time": "2021-12-30T16:17:38.277Z"
   },
   {
    "duration": 21,
    "start_time": "2021-12-30T16:17:38.298Z"
   },
   {
    "duration": 65,
    "start_time": "2021-12-30T16:17:38.322Z"
   },
   {
    "duration": 14,
    "start_time": "2021-12-30T16:17:38.392Z"
   },
   {
    "duration": 57,
    "start_time": "2021-12-30T16:17:38.410Z"
   },
   {
    "duration": 11,
    "start_time": "2021-12-30T16:17:38.469Z"
   },
   {
    "duration": 10,
    "start_time": "2021-12-30T16:17:38.483Z"
   },
   {
    "duration": 9,
    "start_time": "2021-12-30T16:17:38.496Z"
   },
   {
    "duration": 8,
    "start_time": "2021-12-30T16:17:38.508Z"
   },
   {
    "duration": 128,
    "start_time": "2021-12-30T16:17:38.519Z"
   },
   {
    "duration": 824,
    "start_time": "2021-12-30T16:17:38.649Z"
   },
   {
    "duration": 25,
    "start_time": "2021-12-30T16:17:39.475Z"
   },
   {
    "duration": 66,
    "start_time": "2021-12-30T16:17:39.502Z"
   },
   {
    "duration": 505,
    "start_time": "2021-12-30T16:17:39.571Z"
   },
   {
    "duration": 420,
    "start_time": "2021-12-30T16:17:40.079Z"
   },
   {
    "duration": 349,
    "start_time": "2021-12-30T16:17:40.502Z"
   },
   {
    "duration": 432,
    "start_time": "2021-12-30T16:17:40.854Z"
   },
   {
    "duration": 3,
    "start_time": "2021-12-30T16:17:41.288Z"
   },
   {
    "duration": 25,
    "start_time": "2021-12-30T16:17:41.296Z"
   },
   {
    "duration": 371,
    "start_time": "2021-12-30T16:17:41.324Z"
   },
   {
    "duration": 280,
    "start_time": "2021-12-30T16:17:41.698Z"
   },
   {
    "duration": 7,
    "start_time": "2021-12-30T16:17:41.980Z"
   },
   {
    "duration": 3,
    "start_time": "2021-12-30T16:17:41.990Z"
   },
   {
    "duration": 157,
    "start_time": "2021-12-30T16:17:41.995Z"
   },
   {
    "duration": 475,
    "start_time": "2021-12-30T16:17:42.155Z"
   },
   {
    "duration": 11,
    "start_time": "2021-12-30T16:17:42.633Z"
   },
   {
    "duration": 27,
    "start_time": "2021-12-30T16:17:42.646Z"
   },
   {
    "duration": 342,
    "start_time": "2021-12-30T16:17:42.676Z"
   },
   {
    "duration": 350,
    "start_time": "2021-12-30T16:17:43.020Z"
   },
   {
    "duration": 474,
    "start_time": "2021-12-30T16:17:43.373Z"
   },
   {
    "duration": 678,
    "start_time": "2021-12-30T16:17:43.850Z"
   },
   {
    "duration": 3,
    "start_time": "2021-12-30T16:17:44.532Z"
   },
   {
    "duration": 434,
    "start_time": "2021-12-30T16:17:44.538Z"
   },
   {
    "duration": 426,
    "start_time": "2021-12-30T16:17:44.975Z"
   },
   {
    "duration": 411,
    "start_time": "2021-12-30T16:17:45.404Z"
   },
   {
    "duration": 29,
    "start_time": "2021-12-30T16:17:45.818Z"
   },
   {
    "duration": 401,
    "start_time": "2021-12-30T16:17:45.866Z"
   },
   {
    "duration": 3,
    "start_time": "2021-12-30T16:17:46.269Z"
   },
   {
    "duration": 10,
    "start_time": "2021-12-30T16:17:46.274Z"
   },
   {
    "duration": 129,
    "start_time": "2021-12-30T16:17:46.287Z"
   },
   {
    "duration": 3,
    "start_time": "2021-12-30T16:17:46.419Z"
   },
   {
    "duration": 83,
    "start_time": "2021-12-30T16:17:46.424Z"
   },
   {
    "duration": 3,
    "start_time": "2021-12-30T16:17:46.509Z"
   },
   {
    "duration": 8,
    "start_time": "2021-12-30T16:17:46.515Z"
   },
   {
    "duration": 62,
    "start_time": "2021-12-30T16:18:02.123Z"
   },
   {
    "duration": 71,
    "start_time": "2021-12-30T16:19:59.884Z"
   },
   {
    "duration": 326,
    "start_time": "2021-12-30T16:20:43.881Z"
   },
   {
    "duration": 3,
    "start_time": "2021-12-30T16:20:51.957Z"
   },
   {
    "duration": 1011,
    "start_time": "2021-12-30T16:21:29.078Z"
   },
   {
    "duration": 39,
    "start_time": "2021-12-30T16:21:30.092Z"
   },
   {
    "duration": 45,
    "start_time": "2021-12-30T16:21:30.134Z"
   },
   {
    "duration": 3,
    "start_time": "2021-12-30T16:21:30.182Z"
   },
   {
    "duration": 33,
    "start_time": "2021-12-30T16:21:30.187Z"
   },
   {
    "duration": 55,
    "start_time": "2021-12-30T16:21:30.222Z"
   },
   {
    "duration": 25,
    "start_time": "2021-12-30T16:21:30.280Z"
   },
   {
    "duration": 16,
    "start_time": "2021-12-30T16:21:30.309Z"
   },
   {
    "duration": 47,
    "start_time": "2021-12-30T16:21:30.328Z"
   },
   {
    "duration": 15,
    "start_time": "2021-12-30T16:21:30.378Z"
   },
   {
    "duration": 12,
    "start_time": "2021-12-30T16:21:30.395Z"
   },
   {
    "duration": 14,
    "start_time": "2021-12-30T16:21:30.410Z"
   },
   {
    "duration": 42,
    "start_time": "2021-12-30T16:21:30.426Z"
   },
   {
    "duration": 106,
    "start_time": "2021-12-30T16:21:30.470Z"
   },
   {
    "duration": 831,
    "start_time": "2021-12-30T16:21:30.579Z"
   },
   {
    "duration": 24,
    "start_time": "2021-12-30T16:21:31.413Z"
   },
   {
    "duration": 59,
    "start_time": "2021-12-30T16:21:31.439Z"
   },
   {
    "duration": 1480,
    "start_time": "2021-12-30T16:21:31.500Z"
   },
   {
    "duration": 432,
    "start_time": "2021-12-30T16:21:32.982Z"
   },
   {
    "duration": 358,
    "start_time": "2021-12-30T16:21:33.417Z"
   },
   {
    "duration": 432,
    "start_time": "2021-12-30T16:21:33.777Z"
   },
   {
    "duration": 3,
    "start_time": "2021-12-30T16:21:34.212Z"
   },
   {
    "duration": 49,
    "start_time": "2021-12-30T16:21:34.220Z"
   },
   {
    "duration": 356,
    "start_time": "2021-12-30T16:21:34.272Z"
   },
   {
    "duration": 270,
    "start_time": "2021-12-30T16:21:34.631Z"
   },
   {
    "duration": 7,
    "start_time": "2021-12-30T16:21:34.903Z"
   },
   {
    "duration": 9,
    "start_time": "2021-12-30T16:21:34.912Z"
   },
   {
    "duration": 155,
    "start_time": "2021-12-30T16:21:34.923Z"
   },
   {
    "duration": 476,
    "start_time": "2021-12-30T16:21:35.080Z"
   },
   {
    "duration": 16,
    "start_time": "2021-12-30T16:21:35.558Z"
   },
   {
    "duration": 17,
    "start_time": "2021-12-30T16:21:35.577Z"
   },
   {
    "duration": 343,
    "start_time": "2021-12-30T16:21:35.596Z"
   },
   {
    "duration": 356,
    "start_time": "2021-12-30T16:21:35.941Z"
   },
   {
    "duration": 528,
    "start_time": "2021-12-30T16:21:36.299Z"
   },
   {
    "duration": 488,
    "start_time": "2021-12-30T16:21:36.829Z"
   },
   {
    "duration": 3,
    "start_time": "2021-12-30T16:21:37.319Z"
   },
   {
    "duration": 417,
    "start_time": "2021-12-30T16:21:37.325Z"
   },
   {
    "duration": 526,
    "start_time": "2021-12-30T16:21:37.744Z"
   },
   {
    "duration": 422,
    "start_time": "2021-12-30T16:21:38.273Z"
   },
   {
    "duration": 31,
    "start_time": "2021-12-30T16:21:38.698Z"
   },
   {
    "duration": 449,
    "start_time": "2021-12-30T16:21:38.732Z"
   },
   {
    "duration": 3,
    "start_time": "2021-12-30T16:21:39.183Z"
   },
   {
    "duration": 11,
    "start_time": "2021-12-30T16:21:39.188Z"
   },
   {
    "duration": 138,
    "start_time": "2021-12-30T16:21:39.202Z"
   },
   {
    "duration": 4,
    "start_time": "2021-12-30T16:21:39.343Z"
   },
   {
    "duration": 80,
    "start_time": "2021-12-30T16:21:39.350Z"
   },
   {
    "duration": 4,
    "start_time": "2021-12-30T16:21:39.433Z"
   },
   {
    "duration": 32,
    "start_time": "2021-12-30T16:21:39.440Z"
   },
   {
    "duration": 7744,
    "start_time": "2021-12-30T16:25:17.126Z"
   },
   {
    "duration": 15,
    "start_time": "2021-12-30T16:25:42.453Z"
   },
   {
    "duration": 18,
    "start_time": "2021-12-30T16:26:00.337Z"
   },
   {
    "duration": 20,
    "start_time": "2021-12-30T16:27:15.887Z"
   },
   {
    "duration": 8,
    "start_time": "2021-12-30T16:28:09.935Z"
   },
   {
    "duration": 225,
    "start_time": "2021-12-30T16:28:56.164Z"
   },
   {
    "duration": 40,
    "start_time": "2021-12-30T16:28:56.392Z"
   },
   {
    "duration": 36,
    "start_time": "2021-12-30T16:28:56.435Z"
   },
   {
    "duration": 317,
    "start_time": "2021-12-30T16:28:56.474Z"
   },
   {
    "duration": -240,
    "start_time": "2021-12-30T16:28:57.035Z"
   },
   {
    "duration": -240,
    "start_time": "2021-12-30T16:28:57.037Z"
   },
   {
    "duration": -242,
    "start_time": "2021-12-30T16:28:57.040Z"
   },
   {
    "duration": -242,
    "start_time": "2021-12-30T16:28:57.042Z"
   },
   {
    "duration": -242,
    "start_time": "2021-12-30T16:28:57.043Z"
   },
   {
    "duration": -244,
    "start_time": "2021-12-30T16:28:57.046Z"
   },
   {
    "duration": -244,
    "start_time": "2021-12-30T16:28:57.048Z"
   },
   {
    "duration": -244,
    "start_time": "2021-12-30T16:28:57.049Z"
   },
   {
    "duration": -243,
    "start_time": "2021-12-30T16:28:57.050Z"
   },
   {
    "duration": -246,
    "start_time": "2021-12-30T16:28:57.054Z"
   },
   {
    "duration": -245,
    "start_time": "2021-12-30T16:28:57.055Z"
   },
   {
    "duration": -244,
    "start_time": "2021-12-30T16:28:57.057Z"
   },
   {
    "duration": -246,
    "start_time": "2021-12-30T16:28:57.060Z"
   },
   {
    "duration": -247,
    "start_time": "2021-12-30T16:28:57.062Z"
   },
   {
    "duration": -250,
    "start_time": "2021-12-30T16:28:57.067Z"
   },
   {
    "duration": -251,
    "start_time": "2021-12-30T16:28:57.069Z"
   },
   {
    "duration": -281,
    "start_time": "2021-12-30T16:28:57.100Z"
   },
   {
    "duration": -284,
    "start_time": "2021-12-30T16:28:57.104Z"
   },
   {
    "duration": -286,
    "start_time": "2021-12-30T16:28:57.108Z"
   },
   {
    "duration": -287,
    "start_time": "2021-12-30T16:28:57.110Z"
   },
   {
    "duration": -287,
    "start_time": "2021-12-30T16:28:57.111Z"
   },
   {
    "duration": -286,
    "start_time": "2021-12-30T16:28:57.112Z"
   },
   {
    "duration": -288,
    "start_time": "2021-12-30T16:28:57.116Z"
   },
   {
    "duration": -252,
    "start_time": "2021-12-30T16:28:57.118Z"
   },
   {
    "duration": -250,
    "start_time": "2021-12-30T16:28:57.119Z"
   },
   {
    "duration": -252,
    "start_time": "2021-12-30T16:28:57.123Z"
   },
   {
    "duration": -252,
    "start_time": "2021-12-30T16:28:57.124Z"
   },
   {
    "duration": -252,
    "start_time": "2021-12-30T16:28:57.125Z"
   },
   {
    "duration": -254,
    "start_time": "2021-12-30T16:28:57.129Z"
   },
   {
    "duration": -255,
    "start_time": "2021-12-30T16:28:57.131Z"
   },
   {
    "duration": -254,
    "start_time": "2021-12-30T16:28:57.132Z"
   },
   {
    "duration": -257,
    "start_time": "2021-12-30T16:28:57.136Z"
   },
   {
    "duration": -262,
    "start_time": "2021-12-30T16:28:57.142Z"
   },
   {
    "duration": -271,
    "start_time": "2021-12-30T16:28:57.152Z"
   },
   {
    "duration": -270,
    "start_time": "2021-12-30T16:28:57.153Z"
   },
   {
    "duration": -270,
    "start_time": "2021-12-30T16:28:57.154Z"
   },
   {
    "duration": -279,
    "start_time": "2021-12-30T16:28:57.165Z"
   },
   {
    "duration": -279,
    "start_time": "2021-12-30T16:28:57.166Z"
   },
   {
    "duration": -279,
    "start_time": "2021-12-30T16:28:57.167Z"
   },
   {
    "duration": -279,
    "start_time": "2021-12-30T16:28:57.168Z"
   },
   {
    "duration": -279,
    "start_time": "2021-12-30T16:28:57.170Z"
   },
   {
    "duration": -279,
    "start_time": "2021-12-30T16:28:57.171Z"
   },
   {
    "duration": -309,
    "start_time": "2021-12-30T16:28:57.202Z"
   },
   {
    "duration": -312,
    "start_time": "2021-12-30T16:28:57.206Z"
   },
   {
    "duration": 407,
    "start_time": "2021-12-30T16:29:04.320Z"
   },
   {
    "duration": 15,
    "start_time": "2021-12-30T16:29:17.724Z"
   },
   {
    "duration": 19,
    "start_time": "2021-12-30T16:29:49.429Z"
   },
   {
    "duration": 10,
    "start_time": "2021-12-30T16:32:09.508Z"
   },
   {
    "duration": 12,
    "start_time": "2021-12-30T16:32:14.544Z"
   },
   {
    "duration": 12,
    "start_time": "2021-12-30T16:32:52.395Z"
   },
   {
    "duration": 16,
    "start_time": "2021-12-30T16:33:52.145Z"
   },
   {
    "duration": 972,
    "start_time": "2021-12-30T16:34:43.426Z"
   },
   {
    "duration": 40,
    "start_time": "2021-12-30T16:34:44.400Z"
   },
   {
    "duration": 34,
    "start_time": "2021-12-30T16:34:44.443Z"
   },
   {
    "duration": 12,
    "start_time": "2021-12-30T16:34:44.480Z"
   },
   {
    "duration": 16,
    "start_time": "2021-12-30T16:34:44.494Z"
   },
   {
    "duration": 63,
    "start_time": "2021-12-30T16:34:44.513Z"
   },
   {
    "duration": 24,
    "start_time": "2021-12-30T16:34:44.579Z"
   },
   {
    "duration": 15,
    "start_time": "2021-12-30T16:34:44.608Z"
   },
   {
    "duration": 14,
    "start_time": "2021-12-30T16:34:44.667Z"
   },
   {
    "duration": 11,
    "start_time": "2021-12-30T16:34:44.684Z"
   },
   {
    "duration": 18,
    "start_time": "2021-12-30T16:34:44.697Z"
   },
   {
    "duration": 48,
    "start_time": "2021-12-30T16:34:44.718Z"
   },
   {
    "duration": 12,
    "start_time": "2021-12-30T16:34:44.769Z"
   },
   {
    "duration": 110,
    "start_time": "2021-12-30T16:34:44.784Z"
   },
   {
    "duration": 796,
    "start_time": "2021-12-30T16:34:44.896Z"
   },
   {
    "duration": 24,
    "start_time": "2021-12-30T16:34:45.694Z"
   },
   {
    "duration": 66,
    "start_time": "2021-12-30T16:34:45.720Z"
   },
   {
    "duration": 647,
    "start_time": "2021-12-30T16:34:45.788Z"
   },
   {
    "duration": 430,
    "start_time": "2021-12-30T16:34:46.437Z"
   },
   {
    "duration": 367,
    "start_time": "2021-12-30T16:34:46.870Z"
   },
   {
    "duration": 417,
    "start_time": "2021-12-30T16:34:47.239Z"
   },
   {
    "duration": 3,
    "start_time": "2021-12-30T16:34:47.658Z"
   },
   {
    "duration": 26,
    "start_time": "2021-12-30T16:34:47.671Z"
   },
   {
    "duration": 364,
    "start_time": "2021-12-30T16:34:47.700Z"
   },
   {
    "duration": 274,
    "start_time": "2021-12-30T16:34:48.067Z"
   },
   {
    "duration": 24,
    "start_time": "2021-12-30T16:34:48.344Z"
   },
   {
    "duration": 4,
    "start_time": "2021-12-30T16:34:48.370Z"
   },
   {
    "duration": 160,
    "start_time": "2021-12-30T16:34:48.376Z"
   },
   {
    "duration": 491,
    "start_time": "2021-12-30T16:34:48.539Z"
   },
   {
    "duration": 14,
    "start_time": "2021-12-30T16:34:49.033Z"
   },
   {
    "duration": 15,
    "start_time": "2021-12-30T16:34:49.068Z"
   },
   {
    "duration": 505,
    "start_time": "2021-12-30T16:34:49.085Z"
   },
   {
    "duration": 778,
    "start_time": "2021-12-30T16:34:49.594Z"
   },
   {
    "duration": 535,
    "start_time": "2021-12-30T16:34:50.375Z"
   },
   {
    "duration": 495,
    "start_time": "2021-12-30T16:34:50.912Z"
   },
   {
    "duration": 3,
    "start_time": "2021-12-30T16:34:51.409Z"
   },
   {
    "duration": 428,
    "start_time": "2021-12-30T16:34:51.414Z"
   },
   {
    "duration": 417,
    "start_time": "2021-12-30T16:34:51.845Z"
   },
   {
    "duration": 418,
    "start_time": "2021-12-30T16:34:52.267Z"
   },
   {
    "duration": 31,
    "start_time": "2021-12-30T16:34:52.688Z"
   },
   {
    "duration": 426,
    "start_time": "2021-12-30T16:34:52.722Z"
   },
   {
    "duration": 17,
    "start_time": "2021-12-30T16:34:53.151Z"
   },
   {
    "duration": 12,
    "start_time": "2021-12-30T16:34:53.171Z"
   },
   {
    "duration": 130,
    "start_time": "2021-12-30T16:34:53.186Z"
   },
   {
    "duration": 3,
    "start_time": "2021-12-30T16:34:53.319Z"
   },
   {
    "duration": 83,
    "start_time": "2021-12-30T16:34:53.325Z"
   },
   {
    "duration": 3,
    "start_time": "2021-12-30T16:34:53.412Z"
   },
   {
    "duration": 11,
    "start_time": "2021-12-30T16:34:53.418Z"
   },
   {
    "duration": 11,
    "start_time": "2021-12-30T16:35:10.614Z"
   },
   {
    "duration": 46,
    "start_time": "2021-12-30T16:36:02.973Z"
   },
   {
    "duration": 48,
    "start_time": "2021-12-30T16:38:20.580Z"
   },
   {
    "duration": 30,
    "start_time": "2021-12-30T16:38:37.933Z"
   },
   {
    "duration": 13,
    "start_time": "2021-12-30T16:38:53.537Z"
   },
   {
    "duration": 17,
    "start_time": "2021-12-30T16:38:59.332Z"
   },
   {
    "duration": 17,
    "start_time": "2021-12-30T16:39:13.629Z"
   },
   {
    "duration": 19,
    "start_time": "2021-12-30T16:39:17.248Z"
   },
   {
    "duration": 19,
    "start_time": "2021-12-30T16:39:22.775Z"
   },
   {
    "duration": 16,
    "start_time": "2021-12-30T16:39:32.561Z"
   },
   {
    "duration": 20,
    "start_time": "2021-12-30T16:40:27.355Z"
   },
   {
    "duration": 1528,
    "start_time": "2021-12-30T16:40:40.298Z"
   },
   {
    "duration": 11,
    "start_time": "2021-12-30T16:42:19.452Z"
   },
   {
    "duration": 13,
    "start_time": "2021-12-30T16:42:33.579Z"
   },
   {
    "duration": 15,
    "start_time": "2021-12-30T16:42:36.840Z"
   },
   {
    "duration": 7756,
    "start_time": "2021-12-30T16:44:18.581Z"
   },
   {
    "duration": 5,
    "start_time": "2021-12-30T16:44:34.987Z"
   },
   {
    "duration": 9,
    "start_time": "2021-12-30T16:44:39.874Z"
   },
   {
    "duration": 27,
    "start_time": "2021-12-30T16:45:18.823Z"
   },
   {
    "duration": -246,
    "start_time": "2021-12-30T16:46:41.292Z"
   },
   {
    "duration": 316,
    "start_time": "2021-12-30T16:46:42.859Z"
   },
   {
    "duration": 308,
    "start_time": "2021-12-30T16:47:42.370Z"
   },
   {
    "duration": 1031,
    "start_time": "2021-12-30T16:47:49.973Z"
   },
   {
    "duration": 10,
    "start_time": "2021-12-30T16:48:26.236Z"
   },
   {
    "duration": 9,
    "start_time": "2021-12-30T16:48:30.287Z"
   },
   {
    "duration": 310,
    "start_time": "2021-12-30T16:49:55.740Z"
   },
   {
    "duration": 11,
    "start_time": "2021-12-30T16:49:58.796Z"
   },
   {
    "duration": 9,
    "start_time": "2021-12-30T16:50:05.453Z"
   },
   {
    "duration": 359,
    "start_time": "2021-12-30T16:51:21.819Z"
   },
   {
    "duration": 430,
    "start_time": "2021-12-30T16:51:26.503Z"
   },
   {
    "duration": 3653,
    "start_time": "2021-12-30T16:53:04.489Z"
   },
   {
    "duration": 377,
    "start_time": "2021-12-30T16:54:07.484Z"
   },
   {
    "duration": 487,
    "start_time": "2021-12-30T16:57:01.165Z"
   },
   {
    "duration": 118,
    "start_time": "2021-12-30T16:57:28.382Z"
   },
   {
    "duration": 363,
    "start_time": "2021-12-30T16:57:40.641Z"
   },
   {
    "duration": 357,
    "start_time": "2021-12-30T16:59:11.807Z"
   },
   {
    "duration": 351,
    "start_time": "2021-12-30T17:00:45.691Z"
   },
   {
    "duration": 381,
    "start_time": "2021-12-30T17:01:00.116Z"
   },
   {
    "duration": 377,
    "start_time": "2021-12-30T17:01:27.155Z"
   },
   {
    "duration": 464,
    "start_time": "2021-12-30T17:01:55.184Z"
   },
   {
    "duration": 575,
    "start_time": "2022-01-01T22:37:30.794Z"
   },
   {
    "duration": 114,
    "start_time": "2022-01-01T22:37:40.102Z"
   },
   {
    "duration": 172,
    "start_time": "2022-01-02T14:42:19.529Z"
   },
   {
    "duration": 712,
    "start_time": "2022-01-02T14:42:23.279Z"
   },
   {
    "duration": 26,
    "start_time": "2022-01-02T14:42:23.993Z"
   },
   {
    "duration": 7,
    "start_time": "2022-01-02T14:42:24.022Z"
   },
   {
    "duration": 196,
    "start_time": "2022-01-02T14:42:24.031Z"
   },
   {
    "duration": -566,
    "start_time": "2022-01-02T14:42:24.797Z"
   },
   {
    "duration": -566,
    "start_time": "2022-01-02T14:42:24.798Z"
   },
   {
    "duration": -567,
    "start_time": "2022-01-02T14:42:24.799Z"
   },
   {
    "duration": -567,
    "start_time": "2022-01-02T14:42:24.800Z"
   },
   {
    "duration": -568,
    "start_time": "2022-01-02T14:42:24.802Z"
   },
   {
    "duration": -568,
    "start_time": "2022-01-02T14:42:24.803Z"
   },
   {
    "duration": -569,
    "start_time": "2022-01-02T14:42:24.804Z"
   },
   {
    "duration": -572,
    "start_time": "2022-01-02T14:42:24.808Z"
   },
   {
    "duration": -573,
    "start_time": "2022-01-02T14:42:24.810Z"
   },
   {
    "duration": -573,
    "start_time": "2022-01-02T14:42:24.811Z"
   },
   {
    "duration": -575,
    "start_time": "2022-01-02T14:42:24.813Z"
   },
   {
    "duration": -575,
    "start_time": "2022-01-02T14:42:24.814Z"
   },
   {
    "duration": -575,
    "start_time": "2022-01-02T14:42:24.815Z"
   },
   {
    "duration": -575,
    "start_time": "2022-01-02T14:42:24.816Z"
   },
   {
    "duration": -575,
    "start_time": "2022-01-02T14:42:24.817Z"
   },
   {
    "duration": -579,
    "start_time": "2022-01-02T14:42:24.822Z"
   },
   {
    "duration": -579,
    "start_time": "2022-01-02T14:42:24.823Z"
   },
   {
    "duration": -579,
    "start_time": "2022-01-02T14:42:24.824Z"
   },
   {
    "duration": -579,
    "start_time": "2022-01-02T14:42:24.825Z"
   },
   {
    "duration": -580,
    "start_time": "2022-01-02T14:42:24.826Z"
   },
   {
    "duration": -581,
    "start_time": "2022-01-02T14:42:24.828Z"
   },
   {
    "duration": -581,
    "start_time": "2022-01-02T14:42:24.829Z"
   },
   {
    "duration": -581,
    "start_time": "2022-01-02T14:42:24.830Z"
   },
   {
    "duration": -581,
    "start_time": "2022-01-02T14:42:24.831Z"
   },
   {
    "duration": -581,
    "start_time": "2022-01-02T14:42:24.832Z"
   },
   {
    "duration": -584,
    "start_time": "2022-01-02T14:42:24.836Z"
   },
   {
    "duration": -588,
    "start_time": "2022-01-02T14:42:24.841Z"
   },
   {
    "duration": -588,
    "start_time": "2022-01-02T14:42:24.842Z"
   },
   {
    "duration": -589,
    "start_time": "2022-01-02T14:42:24.844Z"
   },
   {
    "duration": -589,
    "start_time": "2022-01-02T14:42:24.845Z"
   },
   {
    "duration": -589,
    "start_time": "2022-01-02T14:42:24.846Z"
   },
   {
    "duration": -593,
    "start_time": "2022-01-02T14:42:24.851Z"
   },
   {
    "duration": -593,
    "start_time": "2022-01-02T14:42:24.852Z"
   },
   {
    "duration": -593,
    "start_time": "2022-01-02T14:42:24.853Z"
   },
   {
    "duration": -593,
    "start_time": "2022-01-02T14:42:24.854Z"
   },
   {
    "duration": -597,
    "start_time": "2022-01-02T14:42:24.859Z"
   },
   {
    "duration": -597,
    "start_time": "2022-01-02T14:42:24.860Z"
   },
   {
    "duration": -597,
    "start_time": "2022-01-02T14:42:24.861Z"
   },
   {
    "duration": -572,
    "start_time": "2022-01-02T14:42:24.863Z"
   },
   {
    "duration": -572,
    "start_time": "2022-01-02T14:42:24.864Z"
   },
   {
    "duration": -572,
    "start_time": "2022-01-02T14:42:24.865Z"
   },
   {
    "duration": -571,
    "start_time": "2022-01-02T14:42:24.866Z"
   },
   {
    "duration": -575,
    "start_time": "2022-01-02T14:42:24.871Z"
   },
   {
    "duration": -575,
    "start_time": "2022-01-02T14:42:24.872Z"
   },
   {
    "duration": -575,
    "start_time": "2022-01-02T14:42:24.873Z"
   },
   {
    "duration": -575,
    "start_time": "2022-01-02T14:42:24.874Z"
   },
   {
    "duration": 3299,
    "start_time": "2022-01-02T14:42:47.048Z"
   },
   {
    "duration": 124,
    "start_time": "2022-01-02T14:42:57.412Z"
   },
   {
    "duration": 24,
    "start_time": "2022-01-02T14:42:57.538Z"
   },
   {
    "duration": 5,
    "start_time": "2022-01-02T14:42:57.564Z"
   },
   {
    "duration": 165,
    "start_time": "2022-01-02T14:42:57.592Z"
   },
   {
    "duration": -565,
    "start_time": "2022-01-02T14:42:58.326Z"
   },
   {
    "duration": -565,
    "start_time": "2022-01-02T14:42:58.327Z"
   },
   {
    "duration": -566,
    "start_time": "2022-01-02T14:42:58.329Z"
   },
   {
    "duration": -566,
    "start_time": "2022-01-02T14:42:58.330Z"
   },
   {
    "duration": -566,
    "start_time": "2022-01-02T14:42:58.331Z"
   },
   {
    "duration": -567,
    "start_time": "2022-01-02T14:42:58.332Z"
   },
   {
    "duration": -570,
    "start_time": "2022-01-02T14:42:58.336Z"
   },
   {
    "duration": -570,
    "start_time": "2022-01-02T14:42:58.337Z"
   },
   {
    "duration": -570,
    "start_time": "2022-01-02T14:42:58.338Z"
   },
   {
    "duration": -570,
    "start_time": "2022-01-02T14:42:58.339Z"
   },
   {
    "duration": -572,
    "start_time": "2022-01-02T14:42:58.342Z"
   },
   {
    "duration": -573,
    "start_time": "2022-01-02T14:42:58.343Z"
   },
   {
    "duration": -573,
    "start_time": "2022-01-02T14:42:58.344Z"
   },
   {
    "duration": -576,
    "start_time": "2022-01-02T14:42:58.348Z"
   },
   {
    "duration": -576,
    "start_time": "2022-01-02T14:42:58.349Z"
   },
   {
    "duration": -577,
    "start_time": "2022-01-02T14:42:58.350Z"
   },
   {
    "duration": -577,
    "start_time": "2022-01-02T14:42:58.351Z"
   },
   {
    "duration": -577,
    "start_time": "2022-01-02T14:42:58.352Z"
   },
   {
    "duration": -578,
    "start_time": "2022-01-02T14:42:58.353Z"
   },
   {
    "duration": -579,
    "start_time": "2022-01-02T14:42:58.355Z"
   },
   {
    "duration": -579,
    "start_time": "2022-01-02T14:42:58.356Z"
   },
   {
    "duration": -581,
    "start_time": "2022-01-02T14:42:58.359Z"
   },
   {
    "duration": -581,
    "start_time": "2022-01-02T14:42:58.360Z"
   },
   {
    "duration": -582,
    "start_time": "2022-01-02T14:42:58.361Z"
   },
   {
    "duration": -582,
    "start_time": "2022-01-02T14:42:58.362Z"
   },
   {
    "duration": -585,
    "start_time": "2022-01-02T14:42:58.366Z"
   },
   {
    "duration": -585,
    "start_time": "2022-01-02T14:42:58.367Z"
   },
   {
    "duration": -585,
    "start_time": "2022-01-02T14:42:58.368Z"
   },
   {
    "duration": -586,
    "start_time": "2022-01-02T14:42:58.369Z"
   },
   {
    "duration": -586,
    "start_time": "2022-01-02T14:42:58.370Z"
   },
   {
    "duration": -586,
    "start_time": "2022-01-02T14:42:58.371Z"
   },
   {
    "duration": -589,
    "start_time": "2022-01-02T14:42:58.375Z"
   },
   {
    "duration": -589,
    "start_time": "2022-01-02T14:42:58.376Z"
   },
   {
    "duration": -590,
    "start_time": "2022-01-02T14:42:58.377Z"
   },
   {
    "duration": -590,
    "start_time": "2022-01-02T14:42:58.378Z"
   },
   {
    "duration": -592,
    "start_time": "2022-01-02T14:42:58.381Z"
   },
   {
    "duration": -592,
    "start_time": "2022-01-02T14:42:58.382Z"
   },
   {
    "duration": -593,
    "start_time": "2022-01-02T14:42:58.384Z"
   },
   {
    "duration": -595,
    "start_time": "2022-01-02T14:42:58.387Z"
   },
   {
    "duration": -595,
    "start_time": "2022-01-02T14:42:58.388Z"
   },
   {
    "duration": -595,
    "start_time": "2022-01-02T14:42:58.389Z"
   },
   {
    "duration": -596,
    "start_time": "2022-01-02T14:42:58.390Z"
   },
   {
    "duration": -596,
    "start_time": "2022-01-02T14:42:58.391Z"
   },
   {
    "duration": -596,
    "start_time": "2022-01-02T14:42:58.392Z"
   },
   {
    "duration": -596,
    "start_time": "2022-01-02T14:42:58.393Z"
   },
   {
    "duration": -599,
    "start_time": "2022-01-02T14:42:58.397Z"
   },
   {
    "duration": 783,
    "start_time": "2022-01-02T14:43:07.508Z"
   },
   {
    "duration": 27,
    "start_time": "2022-01-02T14:43:08.293Z"
   },
   {
    "duration": 7,
    "start_time": "2022-01-02T14:43:08.322Z"
   },
   {
    "duration": 270,
    "start_time": "2022-01-02T14:43:08.331Z"
   },
   {
    "duration": -575,
    "start_time": "2022-01-02T14:43:09.179Z"
   },
   {
    "duration": -574,
    "start_time": "2022-01-02T14:43:09.180Z"
   },
   {
    "duration": -575,
    "start_time": "2022-01-02T14:43:09.182Z"
   },
   {
    "duration": -575,
    "start_time": "2022-01-02T14:43:09.183Z"
   },
   {
    "duration": -574,
    "start_time": "2022-01-02T14:43:09.185Z"
   },
   {
    "duration": -574,
    "start_time": "2022-01-02T14:43:09.186Z"
   },
   {
    "duration": -574,
    "start_time": "2022-01-02T14:43:09.187Z"
   },
   {
    "duration": -574,
    "start_time": "2022-01-02T14:43:09.188Z"
   },
   {
    "duration": -574,
    "start_time": "2022-01-02T14:43:09.189Z"
   },
   {
    "duration": -576,
    "start_time": "2022-01-02T14:43:09.193Z"
   },
   {
    "duration": -577,
    "start_time": "2022-01-02T14:43:09.195Z"
   },
   {
    "duration": -576,
    "start_time": "2022-01-02T14:43:09.196Z"
   },
   {
    "duration": -576,
    "start_time": "2022-01-02T14:43:09.197Z"
   },
   {
    "duration": -576,
    "start_time": "2022-01-02T14:43:09.198Z"
   },
   {
    "duration": -576,
    "start_time": "2022-01-02T14:43:09.199Z"
   },
   {
    "duration": -578,
    "start_time": "2022-01-02T14:43:09.203Z"
   },
   {
    "duration": -578,
    "start_time": "2022-01-02T14:43:09.204Z"
   },
   {
    "duration": -578,
    "start_time": "2022-01-02T14:43:09.205Z"
   },
   {
    "duration": -578,
    "start_time": "2022-01-02T14:43:09.207Z"
   },
   {
    "duration": -578,
    "start_time": "2022-01-02T14:43:09.208Z"
   },
   {
    "duration": -578,
    "start_time": "2022-01-02T14:43:09.209Z"
   },
   {
    "duration": -578,
    "start_time": "2022-01-02T14:43:09.210Z"
   },
   {
    "duration": -616,
    "start_time": "2022-01-02T14:43:09.249Z"
   },
   {
    "duration": -619,
    "start_time": "2022-01-02T14:43:09.253Z"
   },
   {
    "duration": -621,
    "start_time": "2022-01-02T14:43:09.257Z"
   },
   {
    "duration": -621,
    "start_time": "2022-01-02T14:43:09.258Z"
   },
   {
    "duration": -621,
    "start_time": "2022-01-02T14:43:09.259Z"
   },
   {
    "duration": -621,
    "start_time": "2022-01-02T14:43:09.260Z"
   },
   {
    "duration": -570,
    "start_time": "2022-01-02T14:43:09.261Z"
   },
   {
    "duration": -571,
    "start_time": "2022-01-02T14:43:09.263Z"
   },
   {
    "duration": -571,
    "start_time": "2022-01-02T14:43:09.264Z"
   },
   {
    "duration": -571,
    "start_time": "2022-01-02T14:43:09.265Z"
   },
   {
    "duration": -571,
    "start_time": "2022-01-02T14:43:09.266Z"
   },
   {
    "duration": -571,
    "start_time": "2022-01-02T14:43:09.267Z"
   },
   {
    "duration": -570,
    "start_time": "2022-01-02T14:43:09.268Z"
   },
   {
    "duration": -574,
    "start_time": "2022-01-02T14:43:09.273Z"
   },
   {
    "duration": -575,
    "start_time": "2022-01-02T14:43:09.275Z"
   },
   {
    "duration": -575,
    "start_time": "2022-01-02T14:43:09.276Z"
   },
   {
    "duration": -575,
    "start_time": "2022-01-02T14:43:09.277Z"
   },
   {
    "duration": -575,
    "start_time": "2022-01-02T14:43:09.278Z"
   },
   {
    "duration": -575,
    "start_time": "2022-01-02T14:43:09.279Z"
   },
   {
    "duration": -575,
    "start_time": "2022-01-02T14:43:09.280Z"
   },
   {
    "duration": -576,
    "start_time": "2022-01-02T14:43:09.282Z"
   },
   {
    "duration": -577,
    "start_time": "2022-01-02T14:43:09.283Z"
   },
   {
    "duration": -580,
    "start_time": "2022-01-02T14:43:09.288Z"
   },
   {
    "duration": -580,
    "start_time": "2022-01-02T14:43:09.289Z"
   },
   {
    "duration": 119,
    "start_time": "2022-01-02T14:44:04.639Z"
   },
   {
    "duration": 32,
    "start_time": "2022-01-02T14:44:04.760Z"
   },
   {
    "duration": 6,
    "start_time": "2022-01-02T14:44:04.794Z"
   },
   {
    "duration": 136,
    "start_time": "2022-01-02T14:44:04.802Z"
   },
   {
    "duration": -573,
    "start_time": "2022-01-02T14:44:05.514Z"
   },
   {
    "duration": -574,
    "start_time": "2022-01-02T14:44:05.516Z"
   },
   {
    "duration": -575,
    "start_time": "2022-01-02T14:44:05.518Z"
   },
   {
    "duration": -575,
    "start_time": "2022-01-02T14:44:05.519Z"
   },
   {
    "duration": -575,
    "start_time": "2022-01-02T14:44:05.520Z"
   },
   {
    "duration": -577,
    "start_time": "2022-01-02T14:44:05.523Z"
   },
   {
    "duration": -578,
    "start_time": "2022-01-02T14:44:05.525Z"
   },
   {
    "duration": -578,
    "start_time": "2022-01-02T14:44:05.526Z"
   },
   {
    "duration": -578,
    "start_time": "2022-01-02T14:44:05.527Z"
   },
   {
    "duration": -578,
    "start_time": "2022-01-02T14:44:05.528Z"
   },
   {
    "duration": -578,
    "start_time": "2022-01-02T14:44:05.529Z"
   },
   {
    "duration": -578,
    "start_time": "2022-01-02T14:44:05.530Z"
   },
   {
    "duration": -579,
    "start_time": "2022-01-02T14:44:05.532Z"
   },
   {
    "duration": -579,
    "start_time": "2022-01-02T14:44:05.533Z"
   },
   {
    "duration": -579,
    "start_time": "2022-01-02T14:44:05.534Z"
   },
   {
    "duration": -579,
    "start_time": "2022-01-02T14:44:05.535Z"
   },
   {
    "duration": -579,
    "start_time": "2022-01-02T14:44:05.536Z"
   },
   {
    "duration": -581,
    "start_time": "2022-01-02T14:44:05.539Z"
   },
   {
    "duration": -581,
    "start_time": "2022-01-02T14:44:05.540Z"
   },
   {
    "duration": -581,
    "start_time": "2022-01-02T14:44:05.541Z"
   },
   {
    "duration": -581,
    "start_time": "2022-01-02T14:44:05.542Z"
   },
   {
    "duration": -585,
    "start_time": "2022-01-02T14:44:05.547Z"
   },
   {
    "duration": -586,
    "start_time": "2022-01-02T14:44:05.549Z"
   },
   {
    "duration": -586,
    "start_time": "2022-01-02T14:44:05.550Z"
   },
   {
    "duration": -587,
    "start_time": "2022-01-02T14:44:05.552Z"
   },
   {
    "duration": -588,
    "start_time": "2022-01-02T14:44:05.554Z"
   },
   {
    "duration": -590,
    "start_time": "2022-01-02T14:44:05.557Z"
   },
   {
    "duration": -590,
    "start_time": "2022-01-02T14:44:05.558Z"
   },
   {
    "duration": -591,
    "start_time": "2022-01-02T14:44:05.560Z"
   },
   {
    "duration": -593,
    "start_time": "2022-01-02T14:44:05.563Z"
   },
   {
    "duration": -593,
    "start_time": "2022-01-02T14:44:05.564Z"
   },
   {
    "duration": -593,
    "start_time": "2022-01-02T14:44:05.565Z"
   },
   {
    "duration": -593,
    "start_time": "2022-01-02T14:44:05.566Z"
   },
   {
    "duration": -593,
    "start_time": "2022-01-02T14:44:05.567Z"
   },
   {
    "duration": -578,
    "start_time": "2022-01-02T14:44:05.569Z"
   },
   {
    "duration": -578,
    "start_time": "2022-01-02T14:44:05.570Z"
   },
   {
    "duration": -578,
    "start_time": "2022-01-02T14:44:05.571Z"
   },
   {
    "duration": -581,
    "start_time": "2022-01-02T14:44:05.575Z"
   },
   {
    "duration": -581,
    "start_time": "2022-01-02T14:44:05.576Z"
   },
   {
    "duration": -581,
    "start_time": "2022-01-02T14:44:05.577Z"
   },
   {
    "duration": -581,
    "start_time": "2022-01-02T14:44:05.578Z"
   },
   {
    "duration": -581,
    "start_time": "2022-01-02T14:44:05.579Z"
   },
   {
    "duration": -581,
    "start_time": "2022-01-02T14:44:05.580Z"
   },
   {
    "duration": -581,
    "start_time": "2022-01-02T14:44:05.581Z"
   },
   {
    "duration": -584,
    "start_time": "2022-01-02T14:44:05.585Z"
   },
   {
    "duration": -584,
    "start_time": "2022-01-02T14:44:05.586Z"
   },
   {
    "duration": 512,
    "start_time": "2022-01-02T14:44:13.844Z"
   },
   {
    "duration": 155,
    "start_time": "2022-01-02T14:45:36.793Z"
   },
   {
    "duration": 145,
    "start_time": "2022-01-02T14:45:38.508Z"
   },
   {
    "duration": 148,
    "start_time": "2022-01-02T14:45:39.721Z"
   },
   {
    "duration": 140,
    "start_time": "2022-01-02T14:46:31.669Z"
   },
   {
    "duration": 148,
    "start_time": "2022-01-02T14:46:40.569Z"
   },
   {
    "duration": 206,
    "start_time": "2022-01-02T14:47:00.911Z"
   },
   {
    "duration": 126,
    "start_time": "2022-01-02T14:47:05.742Z"
   },
   {
    "duration": 35,
    "start_time": "2022-01-02T14:47:05.869Z"
   },
   {
    "duration": 6,
    "start_time": "2022-01-02T14:47:05.906Z"
   },
   {
    "duration": 5,
    "start_time": "2022-01-02T14:47:05.914Z"
   },
   {
    "duration": 15,
    "start_time": "2022-01-02T14:47:05.920Z"
   },
   {
    "duration": 12,
    "start_time": "2022-01-02T14:47:05.937Z"
   },
   {
    "duration": 42,
    "start_time": "2022-01-02T14:47:05.950Z"
   },
   {
    "duration": 10,
    "start_time": "2022-01-02T14:47:05.994Z"
   },
   {
    "duration": 8,
    "start_time": "2022-01-02T14:47:06.006Z"
   },
   {
    "duration": 6,
    "start_time": "2022-01-02T14:47:06.016Z"
   },
   {
    "duration": 7,
    "start_time": "2022-01-02T14:47:06.024Z"
   },
   {
    "duration": 7,
    "start_time": "2022-01-02T14:47:06.032Z"
   },
   {
    "duration": 7,
    "start_time": "2022-01-02T14:47:06.040Z"
   },
   {
    "duration": 102,
    "start_time": "2022-01-02T14:47:06.049Z"
   },
   {
    "duration": 497,
    "start_time": "2022-01-02T14:47:06.153Z"
   },
   {
    "duration": 20,
    "start_time": "2022-01-02T14:47:06.652Z"
   },
   {
    "duration": 41,
    "start_time": "2022-01-02T14:47:06.674Z"
   },
   {
    "duration": 458,
    "start_time": "2022-01-02T14:47:06.717Z"
   },
   {
    "duration": 303,
    "start_time": "2022-01-02T14:47:07.177Z"
   },
   {
    "duration": 220,
    "start_time": "2022-01-02T14:47:07.482Z"
   },
   {
    "duration": 269,
    "start_time": "2022-01-02T14:47:07.704Z"
   },
   {
    "duration": 2,
    "start_time": "2022-01-02T14:47:07.974Z"
   },
   {
    "duration": 25,
    "start_time": "2022-01-02T14:47:07.980Z"
   },
   {
    "duration": 420,
    "start_time": "2022-01-02T14:47:08.007Z"
   },
   {
    "duration": 300,
    "start_time": "2022-01-02T14:47:08.429Z"
   },
   {
    "duration": 5,
    "start_time": "2022-01-02T14:47:08.730Z"
   },
   {
    "duration": 4,
    "start_time": "2022-01-02T14:47:08.737Z"
   },
   {
    "duration": 104,
    "start_time": "2022-01-02T14:47:08.742Z"
   },
   {
    "duration": 307,
    "start_time": "2022-01-02T14:47:08.848Z"
   },
   {
    "duration": 8,
    "start_time": "2022-01-02T14:47:09.156Z"
   },
   {
    "duration": 25,
    "start_time": "2022-01-02T14:47:09.166Z"
   },
   {
    "duration": 214,
    "start_time": "2022-01-02T14:47:09.193Z"
   },
   {
    "duration": 211,
    "start_time": "2022-01-02T14:47:09.409Z"
   },
   {
    "duration": 356,
    "start_time": "2022-01-02T14:47:09.621Z"
   },
   {
    "duration": 327,
    "start_time": "2022-01-02T14:47:09.980Z"
   },
   {
    "duration": 3,
    "start_time": "2022-01-02T14:47:10.309Z"
   },
   {
    "duration": 264,
    "start_time": "2022-01-02T14:47:10.314Z"
   },
   {
    "duration": 263,
    "start_time": "2022-01-02T14:47:10.580Z"
   },
   {
    "duration": 278,
    "start_time": "2022-01-02T14:47:10.845Z"
   },
   {
    "duration": 23,
    "start_time": "2022-01-02T14:47:11.125Z"
   },
   {
    "duration": 297,
    "start_time": "2022-01-02T14:47:11.150Z"
   },
   {
    "duration": 3,
    "start_time": "2022-01-02T14:47:11.449Z"
   },
   {
    "duration": 12,
    "start_time": "2022-01-02T14:47:11.454Z"
   },
   {
    "duration": 153,
    "start_time": "2022-01-02T14:47:11.468Z"
   },
   {
    "duration": 2,
    "start_time": "2022-01-02T14:47:11.623Z"
   },
   {
    "duration": 103,
    "start_time": "2022-01-02T14:47:11.627Z"
   },
   {
    "duration": 60,
    "start_time": "2022-01-02T14:47:11.731Z"
   },
   {
    "duration": 383,
    "start_time": "2022-01-02T14:47:11.793Z"
   },
   {
    "duration": 3,
    "start_time": "2022-01-02T14:47:12.178Z"
   },
   {
    "duration": 51,
    "start_time": "2022-01-02T14:47:12.182Z"
   },
   {
    "duration": 6,
    "start_time": "2022-01-02T14:54:56.998Z"
   },
   {
    "duration": 42,
    "start_time": "2022-01-02T14:55:02.630Z"
   },
   {
    "duration": 9,
    "start_time": "2022-01-02T14:55:22.740Z"
   },
   {
    "duration": 10,
    "start_time": "2022-01-02T14:55:33.376Z"
   },
   {
    "duration": 10,
    "start_time": "2022-01-02T14:55:42.798Z"
   },
   {
    "duration": 156,
    "start_time": "2022-01-02T14:56:50.349Z"
   },
   {
    "duration": 14,
    "start_time": "2022-01-02T14:57:01.303Z"
   },
   {
    "duration": 11,
    "start_time": "2022-01-02T14:57:35.254Z"
   },
   {
    "duration": 14,
    "start_time": "2022-01-02T14:57:39.437Z"
   },
   {
    "duration": 10,
    "start_time": "2022-01-02T14:57:49.555Z"
   },
   {
    "duration": 144,
    "start_time": "2022-01-02T14:59:54.071Z"
   },
   {
    "duration": 17,
    "start_time": "2022-01-02T14:59:57.908Z"
   },
   {
    "duration": 18,
    "start_time": "2022-01-02T15:00:40.899Z"
   },
   {
    "duration": 18,
    "start_time": "2022-01-02T15:02:03.819Z"
   },
   {
    "duration": 17,
    "start_time": "2022-01-02T15:02:52.259Z"
   },
   {
    "duration": 20,
    "start_time": "2022-01-02T15:03:33.191Z"
   },
   {
    "duration": 18,
    "start_time": "2022-01-02T15:05:21.974Z"
   },
   {
    "duration": 17,
    "start_time": "2022-01-02T15:06:00.874Z"
   },
   {
    "duration": 19,
    "start_time": "2022-01-02T15:06:43.726Z"
   },
   {
    "duration": 23,
    "start_time": "2022-01-02T15:10:06.124Z"
   },
   {
    "duration": 602,
    "start_time": "2022-01-10T16:05:22.213Z"
   },
   {
    "duration": 1653,
    "start_time": "2022-01-10T16:05:29.503Z"
   },
   {
    "duration": 58,
    "start_time": "2022-01-10T16:05:31.168Z"
   },
   {
    "duration": 159,
    "start_time": "2022-01-10T16:05:31.231Z"
   },
   {
    "duration": 169,
    "start_time": "2022-01-10T16:05:31.394Z"
   },
   {
    "duration": 318,
    "start_time": "2022-01-10T16:05:31.565Z"
   },
   {
    "duration": 252,
    "start_time": "2022-01-10T16:05:31.886Z"
   },
   {
    "duration": 216,
    "start_time": "2022-01-10T16:05:32.141Z"
   },
   {
    "duration": 228,
    "start_time": "2022-01-10T16:05:32.363Z"
   },
   {
    "duration": 266,
    "start_time": "2022-01-10T16:05:32.595Z"
   },
   {
    "duration": 192,
    "start_time": "2022-01-10T16:05:32.864Z"
   },
   {
    "duration": 215,
    "start_time": "2022-01-10T16:05:33.060Z"
   },
   {
    "duration": 270,
    "start_time": "2022-01-10T16:05:33.278Z"
   },
   {
    "duration": 229,
    "start_time": "2022-01-10T16:05:33.551Z"
   },
   {
    "duration": 277,
    "start_time": "2022-01-10T16:05:33.782Z"
   },
   {
    "duration": 1022,
    "start_time": "2022-01-10T16:05:34.061Z"
   },
   {
    "duration": 26,
    "start_time": "2022-01-10T16:05:35.086Z"
   },
   {
    "duration": 302,
    "start_time": "2022-01-10T16:05:35.115Z"
   },
   {
    "duration": 941,
    "start_time": "2022-01-10T16:05:35.420Z"
   },
   {
    "duration": 452,
    "start_time": "2022-01-10T16:05:36.363Z"
   },
   {
    "duration": 378,
    "start_time": "2022-01-10T16:05:36.818Z"
   },
   {
    "duration": 554,
    "start_time": "2022-01-10T16:05:37.198Z"
   },
   {
    "duration": 3,
    "start_time": "2022-01-10T16:05:37.755Z"
   },
   {
    "duration": 299,
    "start_time": "2022-01-10T16:05:37.773Z"
   },
   {
    "duration": 531,
    "start_time": "2022-01-10T16:05:38.075Z"
   },
   {
    "duration": 297,
    "start_time": "2022-01-10T16:05:38.608Z"
   },
   {
    "duration": 9,
    "start_time": "2022-01-10T16:05:38.908Z"
   },
   {
    "duration": 369,
    "start_time": "2022-01-10T16:05:38.920Z"
   },
   {
    "duration": 535,
    "start_time": "2022-01-10T16:05:39.291Z"
   },
   {
    "duration": 790,
    "start_time": "2022-01-10T16:05:39.829Z"
   },
   {
    "duration": 12,
    "start_time": "2022-01-10T16:05:40.622Z"
   },
   {
    "duration": 217,
    "start_time": "2022-01-10T16:05:40.636Z"
   },
   {
    "duration": 596,
    "start_time": "2022-01-10T16:05:40.856Z"
   },
   {
    "duration": 366,
    "start_time": "2022-01-10T16:05:41.454Z"
   },
   {
    "duration": 566,
    "start_time": "2022-01-10T16:05:41.822Z"
   },
   {
    "duration": 878,
    "start_time": "2022-01-10T16:05:42.391Z"
   },
   {
    "duration": 4,
    "start_time": "2022-01-10T16:05:43.272Z"
   },
   {
    "duration": 794,
    "start_time": "2022-01-10T16:05:43.279Z"
   },
   {
    "duration": 639,
    "start_time": "2022-01-10T16:05:44.076Z"
   },
   {
    "duration": 422,
    "start_time": "2022-01-10T16:05:44.718Z"
   },
   {
    "duration": 44,
    "start_time": "2022-01-10T16:05:45.143Z"
   },
   {
    "duration": 625,
    "start_time": "2022-01-10T16:05:45.190Z"
   },
   {
    "duration": 2,
    "start_time": "2022-01-10T16:05:45.818Z"
   },
   {
    "duration": 223,
    "start_time": "2022-01-10T16:05:45.823Z"
   },
   {
    "duration": 327,
    "start_time": "2022-01-10T16:05:46.049Z"
   },
   {
    "duration": 124,
    "start_time": "2022-01-10T16:05:46.379Z"
   },
   {
    "duration": 267,
    "start_time": "2022-01-10T16:05:46.505Z"
   },
   {
    "duration": 136,
    "start_time": "2022-01-10T16:05:46.775Z"
   },
   {
    "duration": 653,
    "start_time": "2022-01-10T16:05:46.914Z"
   },
   {
    "duration": 4,
    "start_time": "2022-01-10T16:05:47.569Z"
   },
   {
    "duration": 272,
    "start_time": "2022-01-10T16:05:47.576Z"
   },
   {
    "duration": 396,
    "start_time": "2022-01-10T16:05:47.851Z"
   },
   {
    "duration": 260,
    "start_time": "2022-01-10T16:05:48.249Z"
   },
   {
    "duration": 273,
    "start_time": "2022-01-10T16:05:48.513Z"
   },
   {
    "duration": 224,
    "start_time": "2022-01-10T16:05:48.788Z"
   },
   {
    "duration": 11,
    "start_time": "2022-01-10T16:11:36.585Z"
   },
   {
    "duration": 74,
    "start_time": "2022-01-10T16:11:48.598Z"
   },
   {
    "duration": 14,
    "start_time": "2022-01-10T16:12:06.378Z"
   },
   {
    "duration": 238,
    "start_time": "2022-01-10T16:12:20.351Z"
   },
   {
    "duration": 41,
    "start_time": "2022-01-10T16:12:20.593Z"
   },
   {
    "duration": 96,
    "start_time": "2022-01-10T16:12:20.637Z"
   },
   {
    "duration": 126,
    "start_time": "2022-01-10T16:12:20.737Z"
   },
   {
    "duration": 180,
    "start_time": "2022-01-10T16:12:20.865Z"
   },
   {
    "duration": 178,
    "start_time": "2022-01-10T16:12:21.048Z"
   },
   {
    "duration": 182,
    "start_time": "2022-01-10T16:12:21.229Z"
   },
   {
    "duration": 104,
    "start_time": "2022-01-10T16:12:21.415Z"
   },
   {
    "duration": 133,
    "start_time": "2022-01-10T16:12:21.522Z"
   },
   {
    "duration": 278,
    "start_time": "2022-01-10T16:12:21.658Z"
   },
   {
    "duration": 195,
    "start_time": "2022-01-10T16:12:21.939Z"
   },
   {
    "duration": 125,
    "start_time": "2022-01-10T16:12:22.136Z"
   },
   {
    "duration": 122,
    "start_time": "2022-01-10T16:12:22.263Z"
   },
   {
    "duration": 208,
    "start_time": "2022-01-10T16:12:22.388Z"
   },
   {
    "duration": 1022,
    "start_time": "2022-01-10T16:12:22.600Z"
   },
   {
    "duration": 28,
    "start_time": "2022-01-10T16:12:23.624Z"
   },
   {
    "duration": 115,
    "start_time": "2022-01-10T16:12:23.668Z"
   },
   {
    "duration": 720,
    "start_time": "2022-01-10T16:12:23.786Z"
   },
   {
    "duration": 487,
    "start_time": "2022-01-10T16:12:24.509Z"
   },
   {
    "duration": 383,
    "start_time": "2022-01-10T16:12:24.999Z"
   },
   {
    "duration": 490,
    "start_time": "2022-01-10T16:12:25.384Z"
   },
   {
    "duration": 4,
    "start_time": "2022-01-10T16:12:25.878Z"
   },
   {
    "duration": 133,
    "start_time": "2022-01-10T16:12:25.891Z"
   },
   {
    "duration": 508,
    "start_time": "2022-01-10T16:12:26.028Z"
   },
   {
    "duration": 315,
    "start_time": "2022-01-10T16:12:26.538Z"
   },
   {
    "duration": 12,
    "start_time": "2022-01-10T16:12:26.856Z"
   },
   {
    "duration": 127,
    "start_time": "2022-01-10T16:12:26.872Z"
   },
   {
    "duration": 312,
    "start_time": "2022-01-10T16:12:27.001Z"
   },
   {
    "duration": 597,
    "start_time": "2022-01-10T16:12:27.316Z"
   },
   {
    "duration": 16,
    "start_time": "2022-01-10T16:12:27.917Z"
   },
   {
    "duration": 151,
    "start_time": "2022-01-10T16:12:27.936Z"
   },
   {
    "duration": 480,
    "start_time": "2022-01-10T16:12:28.090Z"
   },
   {
    "duration": 411,
    "start_time": "2022-01-10T16:12:28.572Z"
   },
   {
    "duration": 667,
    "start_time": "2022-01-10T16:12:28.988Z"
   },
   {
    "duration": 568,
    "start_time": "2022-01-10T16:12:29.658Z"
   },
   {
    "duration": 4,
    "start_time": "2022-01-10T16:12:30.229Z"
   },
   {
    "duration": 589,
    "start_time": "2022-01-10T16:12:30.236Z"
   },
   {
    "duration": 493,
    "start_time": "2022-01-10T16:12:30.827Z"
   },
   {
    "duration": 467,
    "start_time": "2022-01-10T16:12:31.323Z"
   },
   {
    "duration": 29,
    "start_time": "2022-01-10T16:12:31.792Z"
   },
   {
    "duration": 589,
    "start_time": "2022-01-10T16:12:31.824Z"
   },
   {
    "duration": 4,
    "start_time": "2022-01-10T16:12:32.416Z"
   },
   {
    "duration": 106,
    "start_time": "2022-01-10T16:12:32.425Z"
   },
   {
    "duration": 233,
    "start_time": "2022-01-10T16:12:32.534Z"
   },
   {
    "duration": 47,
    "start_time": "2022-01-10T16:12:32.770Z"
   },
   {
    "duration": 176,
    "start_time": "2022-01-10T16:12:32.821Z"
   },
   {
    "duration": 21,
    "start_time": "2022-01-10T16:12:33.001Z"
   },
   {
    "duration": 9648,
    "start_time": "2022-01-10T16:12:33.025Z"
   },
   {
    "duration": -553,
    "start_time": "2022-01-10T16:12:43.229Z"
   },
   {
    "duration": -554,
    "start_time": "2022-01-10T16:12:43.231Z"
   },
   {
    "duration": -553,
    "start_time": "2022-01-10T16:12:43.232Z"
   },
   {
    "duration": -553,
    "start_time": "2022-01-10T16:12:43.233Z"
   },
   {
    "duration": -552,
    "start_time": "2022-01-10T16:12:43.234Z"
   },
   {
    "duration": -552,
    "start_time": "2022-01-10T16:12:43.235Z"
   },
   {
    "duration": 221,
    "start_time": "2022-01-10T16:15:17.156Z"
   },
   {
    "duration": 38,
    "start_time": "2022-01-10T16:15:17.379Z"
   },
   {
    "duration": 153,
    "start_time": "2022-01-10T16:15:17.419Z"
   },
   {
    "duration": 189,
    "start_time": "2022-01-10T16:15:17.575Z"
   },
   {
    "duration": 268,
    "start_time": "2022-01-10T16:15:17.766Z"
   },
   {
    "duration": 284,
    "start_time": "2022-01-10T16:15:18.037Z"
   },
   {
    "duration": 305,
    "start_time": "2022-01-10T16:15:18.323Z"
   },
   {
    "duration": 165,
    "start_time": "2022-01-10T16:15:18.632Z"
   },
   {
    "duration": 274,
    "start_time": "2022-01-10T16:15:18.800Z"
   },
   {
    "duration": 209,
    "start_time": "2022-01-10T16:15:19.076Z"
   },
   {
    "duration": 196,
    "start_time": "2022-01-10T16:15:19.288Z"
   },
   {
    "duration": 206,
    "start_time": "2022-01-10T16:15:19.487Z"
   },
   {
    "duration": 270,
    "start_time": "2022-01-10T16:15:19.696Z"
   },
   {
    "duration": 284,
    "start_time": "2022-01-10T16:15:19.969Z"
   },
   {
    "duration": 892,
    "start_time": "2022-01-10T16:15:20.256Z"
   },
   {
    "duration": 35,
    "start_time": "2022-01-10T16:15:21.151Z"
   },
   {
    "duration": 282,
    "start_time": "2022-01-10T16:15:21.189Z"
   },
   {
    "duration": 828,
    "start_time": "2022-01-10T16:15:21.473Z"
   },
   {
    "duration": 466,
    "start_time": "2022-01-10T16:15:22.304Z"
   },
   {
    "duration": 361,
    "start_time": "2022-01-10T16:15:22.772Z"
   },
   {
    "duration": 460,
    "start_time": "2022-01-10T16:15:23.136Z"
   },
   {
    "duration": 3,
    "start_time": "2022-01-10T16:15:23.598Z"
   },
   {
    "duration": 171,
    "start_time": "2022-01-10T16:15:23.607Z"
   },
   {
    "duration": 450,
    "start_time": "2022-01-10T16:15:23.781Z"
   },
   {
    "duration": 283,
    "start_time": "2022-01-10T16:15:24.233Z"
   },
   {
    "duration": 8,
    "start_time": "2022-01-10T16:15:24.518Z"
   },
   {
    "duration": 253,
    "start_time": "2022-01-10T16:15:24.528Z"
   },
   {
    "duration": 284,
    "start_time": "2022-01-10T16:15:24.783Z"
   },
   {
    "duration": 543,
    "start_time": "2022-01-10T16:15:25.070Z"
   },
   {
    "duration": 10,
    "start_time": "2022-01-10T16:15:25.615Z"
   },
   {
    "duration": 183,
    "start_time": "2022-01-10T16:15:25.628Z"
   },
   {
    "duration": 473,
    "start_time": "2022-01-10T16:15:25.813Z"
   },
   {
    "duration": 352,
    "start_time": "2022-01-10T16:15:26.288Z"
   },
   {
    "duration": 507,
    "start_time": "2022-01-10T16:15:26.643Z"
   },
   {
    "duration": 517,
    "start_time": "2022-01-10T16:15:27.152Z"
   },
   {
    "duration": 4,
    "start_time": "2022-01-10T16:15:27.671Z"
   },
   {
    "duration": 681,
    "start_time": "2022-01-10T16:15:27.677Z"
   },
   {
    "duration": 431,
    "start_time": "2022-01-10T16:15:28.360Z"
   },
   {
    "duration": 407,
    "start_time": "2022-01-10T16:15:28.794Z"
   },
   {
    "duration": 31,
    "start_time": "2022-01-10T16:15:29.203Z"
   },
   {
    "duration": 579,
    "start_time": "2022-01-10T16:15:29.236Z"
   },
   {
    "duration": 3,
    "start_time": "2022-01-10T16:15:29.817Z"
   },
   {
    "duration": 217,
    "start_time": "2022-01-10T16:15:29.822Z"
   },
   {
    "duration": 288,
    "start_time": "2022-01-10T16:15:30.041Z"
   },
   {
    "duration": 212,
    "start_time": "2022-01-10T16:15:30.332Z"
   },
   {
    "duration": 353,
    "start_time": "2022-01-10T16:15:30.546Z"
   },
   {
    "duration": 307,
    "start_time": "2022-01-10T16:15:30.901Z"
   },
   {
    "duration": 492,
    "start_time": "2022-01-10T16:15:31.210Z"
   },
   {
    "duration": 4,
    "start_time": "2022-01-10T16:15:31.704Z"
   },
   {
    "duration": 178,
    "start_time": "2022-01-10T16:15:31.710Z"
   },
   {
    "duration": 288,
    "start_time": "2022-01-10T16:15:31.890Z"
   },
   {
    "duration": 162,
    "start_time": "2022-01-10T16:15:32.181Z"
   },
   {
    "duration": 214,
    "start_time": "2022-01-10T16:15:32.345Z"
   },
   {
    "duration": 199,
    "start_time": "2022-01-10T16:15:32.561Z"
   },
   {
    "duration": 364,
    "start_time": "2022-01-10T16:16:52.218Z"
   },
   {
    "duration": 207,
    "start_time": "2022-01-10T16:16:58.696Z"
   },
   {
    "duration": 61,
    "start_time": "2022-01-10T16:16:58.906Z"
   },
   {
    "duration": 167,
    "start_time": "2022-01-10T16:16:58.971Z"
   },
   {
    "duration": 176,
    "start_time": "2022-01-10T16:16:59.142Z"
   },
   {
    "duration": 186,
    "start_time": "2022-01-10T16:16:59.321Z"
   },
   {
    "duration": 339,
    "start_time": "2022-01-10T16:16:59.509Z"
   },
   {
    "duration": 204,
    "start_time": "2022-01-10T16:16:59.851Z"
   },
   {
    "duration": 263,
    "start_time": "2022-01-10T16:17:00.059Z"
   },
   {
    "duration": 157,
    "start_time": "2022-01-10T16:17:00.324Z"
   },
   {
    "duration": 176,
    "start_time": "2022-01-10T16:17:00.484Z"
   },
   {
    "duration": 196,
    "start_time": "2022-01-10T16:17:00.664Z"
   },
   {
    "duration": 203,
    "start_time": "2022-01-10T16:17:00.863Z"
   },
   {
    "duration": 252,
    "start_time": "2022-01-10T16:17:01.069Z"
   },
   {
    "duration": 294,
    "start_time": "2022-01-10T16:17:01.323Z"
   },
   {
    "duration": 921,
    "start_time": "2022-01-10T16:17:01.619Z"
   },
   {
    "duration": 33,
    "start_time": "2022-01-10T16:17:02.543Z"
   },
   {
    "duration": 229,
    "start_time": "2022-01-10T16:17:02.579Z"
   },
   {
    "duration": 683,
    "start_time": "2022-01-10T16:17:02.810Z"
   },
   {
    "duration": 439,
    "start_time": "2022-01-10T16:17:03.496Z"
   },
   {
    "duration": 378,
    "start_time": "2022-01-10T16:17:03.937Z"
   },
   {
    "duration": 458,
    "start_time": "2022-01-10T16:17:04.318Z"
   },
   {
    "duration": 3,
    "start_time": "2022-01-10T16:17:04.779Z"
   },
   {
    "duration": 349,
    "start_time": "2022-01-10T16:17:04.790Z"
   },
   {
    "duration": 659,
    "start_time": "2022-01-10T16:17:05.144Z"
   },
   {
    "duration": 280,
    "start_time": "2022-01-10T16:17:05.806Z"
   },
   {
    "duration": 7,
    "start_time": "2022-01-10T16:17:06.088Z"
   },
   {
    "duration": 192,
    "start_time": "2022-01-10T16:17:06.097Z"
   },
   {
    "duration": 321,
    "start_time": "2022-01-10T16:17:06.291Z"
   },
   {
    "duration": 541,
    "start_time": "2022-01-10T16:17:06.614Z"
   },
   {
    "duration": 18,
    "start_time": "2022-01-10T16:17:07.158Z"
   },
   {
    "duration": 217,
    "start_time": "2022-01-10T16:17:07.179Z"
   },
   {
    "duration": 575,
    "start_time": "2022-01-10T16:17:07.399Z"
   },
   {
    "duration": 360,
    "start_time": "2022-01-10T16:17:07.976Z"
   },
   {
    "duration": 483,
    "start_time": "2022-01-10T16:17:08.339Z"
   },
   {
    "duration": 495,
    "start_time": "2022-01-10T16:17:08.825Z"
   },
   {
    "duration": 3,
    "start_time": "2022-01-10T16:17:09.323Z"
   },
   {
    "duration": 588,
    "start_time": "2022-01-10T16:17:09.328Z"
   },
   {
    "duration": 430,
    "start_time": "2022-01-10T16:17:09.918Z"
   },
   {
    "duration": 412,
    "start_time": "2022-01-10T16:17:10.351Z"
   },
   {
    "duration": 29,
    "start_time": "2022-01-10T16:17:10.768Z"
   },
   {
    "duration": 695,
    "start_time": "2022-01-10T16:17:10.799Z"
   },
   {
    "duration": 4,
    "start_time": "2022-01-10T16:17:11.496Z"
   },
   {
    "duration": 299,
    "start_time": "2022-01-10T16:17:11.502Z"
   },
   {
    "duration": 292,
    "start_time": "2022-01-10T16:17:11.803Z"
   },
   {
    "duration": 181,
    "start_time": "2022-01-10T16:17:12.097Z"
   },
   {
    "duration": 188,
    "start_time": "2022-01-10T16:17:12.280Z"
   },
   {
    "duration": 242,
    "start_time": "2022-01-10T16:17:12.470Z"
   },
   {
    "duration": 464,
    "start_time": "2022-01-10T16:17:12.714Z"
   },
   {
    "duration": 3,
    "start_time": "2022-01-10T16:17:13.180Z"
   },
   {
    "duration": 191,
    "start_time": "2022-01-10T16:17:13.186Z"
   },
   {
    "duration": 193,
    "start_time": "2022-01-10T16:17:13.379Z"
   },
   {
    "duration": 185,
    "start_time": "2022-01-10T16:17:13.574Z"
   },
   {
    "duration": 184,
    "start_time": "2022-01-10T16:17:13.761Z"
   },
   {
    "duration": 192,
    "start_time": "2022-01-10T16:17:13.948Z"
   },
   {
    "duration": 15,
    "start_time": "2022-01-10T16:21:08.653Z"
   },
   {
    "duration": 29,
    "start_time": "2022-01-10T16:21:18.700Z"
   },
   {
    "duration": 233,
    "start_time": "2022-01-10T16:21:31.840Z"
   },
   {
    "duration": 103,
    "start_time": "2022-01-10T16:21:32.075Z"
   },
   {
    "duration": 220,
    "start_time": "2022-01-10T16:21:32.181Z"
   },
   {
    "duration": 250,
    "start_time": "2022-01-10T16:21:32.403Z"
   },
   {
    "duration": 250,
    "start_time": "2022-01-10T16:21:32.656Z"
   },
   {
    "duration": 247,
    "start_time": "2022-01-10T16:21:32.909Z"
   },
   {
    "duration": 249,
    "start_time": "2022-01-10T16:21:33.159Z"
   },
   {
    "duration": 224,
    "start_time": "2022-01-10T16:21:33.412Z"
   },
   {
    "duration": 361,
    "start_time": "2022-01-10T16:21:33.640Z"
   },
   {
    "duration": 427,
    "start_time": "2022-01-10T16:21:34.004Z"
   },
   {
    "duration": 400,
    "start_time": "2022-01-10T16:21:34.434Z"
   },
   {
    "duration": 274,
    "start_time": "2022-01-10T16:21:34.837Z"
   },
   {
    "duration": 237,
    "start_time": "2022-01-10T16:21:35.114Z"
   },
   {
    "duration": 303,
    "start_time": "2022-01-10T16:21:35.354Z"
   },
   {
    "duration": 1224,
    "start_time": "2022-01-10T16:21:35.660Z"
   },
   {
    "duration": 27,
    "start_time": "2022-01-10T16:21:36.886Z"
   },
   {
    "duration": 270,
    "start_time": "2022-01-10T16:21:36.917Z"
   },
   {
    "duration": 715,
    "start_time": "2022-01-10T16:21:37.190Z"
   },
   {
    "duration": 483,
    "start_time": "2022-01-10T16:21:37.909Z"
   },
   {
    "duration": 375,
    "start_time": "2022-01-10T16:21:38.394Z"
   },
   {
    "duration": 465,
    "start_time": "2022-01-10T16:21:38.772Z"
   },
   {
    "duration": 3,
    "start_time": "2022-01-10T16:21:39.240Z"
   },
   {
    "duration": 253,
    "start_time": "2022-01-10T16:21:39.248Z"
   },
   {
    "duration": 572,
    "start_time": "2022-01-10T16:21:39.505Z"
   },
   {
    "duration": 304,
    "start_time": "2022-01-10T16:21:40.080Z"
   },
   {
    "duration": 7,
    "start_time": "2022-01-10T16:21:40.387Z"
   },
   {
    "duration": 295,
    "start_time": "2022-01-10T16:21:40.397Z"
   },
   {
    "duration": 372,
    "start_time": "2022-01-10T16:21:40.696Z"
   },
   {
    "duration": 634,
    "start_time": "2022-01-10T16:21:41.071Z"
   },
   {
    "duration": 14,
    "start_time": "2022-01-10T16:21:41.707Z"
   },
   {
    "duration": 352,
    "start_time": "2022-01-10T16:21:41.724Z"
   },
   {
    "duration": 734,
    "start_time": "2022-01-10T16:21:42.079Z"
   },
   {
    "duration": 396,
    "start_time": "2022-01-10T16:21:42.815Z"
   },
   {
    "duration": 531,
    "start_time": "2022-01-10T16:21:43.214Z"
   },
   {
    "duration": 536,
    "start_time": "2022-01-10T16:21:43.747Z"
   },
   {
    "duration": 3,
    "start_time": "2022-01-10T16:21:44.286Z"
   },
   {
    "duration": 846,
    "start_time": "2022-01-10T16:21:44.291Z"
   },
   {
    "duration": 430,
    "start_time": "2022-01-10T16:21:45.139Z"
   },
   {
    "duration": 420,
    "start_time": "2022-01-10T16:21:45.572Z"
   },
   {
    "duration": 29,
    "start_time": "2022-01-10T16:21:45.995Z"
   },
   {
    "duration": 572,
    "start_time": "2022-01-10T16:21:46.026Z"
   },
   {
    "duration": 3,
    "start_time": "2022-01-10T16:21:46.600Z"
   },
   {
    "duration": 278,
    "start_time": "2022-01-10T16:21:46.606Z"
   },
   {
    "duration": 395,
    "start_time": "2022-01-10T16:21:46.886Z"
   },
   {
    "duration": 181,
    "start_time": "2022-01-10T16:21:47.283Z"
   },
   {
    "duration": 217,
    "start_time": "2022-01-10T16:21:47.466Z"
   },
   {
    "duration": 322,
    "start_time": "2022-01-10T16:21:47.686Z"
   },
   {
    "duration": 638,
    "start_time": "2022-01-10T16:21:48.010Z"
   },
   {
    "duration": 68,
    "start_time": "2022-01-10T16:21:48.651Z"
   },
   {
    "duration": 430,
    "start_time": "2022-01-10T16:21:48.721Z"
   },
   {
    "duration": 306,
    "start_time": "2022-01-10T16:21:49.153Z"
   },
   {
    "duration": 333,
    "start_time": "2022-01-10T16:21:49.461Z"
   },
   {
    "duration": 401,
    "start_time": "2022-01-10T16:21:49.797Z"
   },
   {
    "duration": 357,
    "start_time": "2022-01-10T16:21:50.200Z"
   },
   {
    "duration": 467,
    "start_time": "2022-01-10T16:24:27.702Z"
   },
   {
    "duration": 398,
    "start_time": "2022-01-10T16:25:18.486Z"
   },
   {
    "duration": 5,
    "start_time": "2022-01-10T16:29:11.734Z"
   },
   {
    "duration": 580,
    "start_time": "2022-01-10T16:29:28.145Z"
   },
   {
    "duration": 675,
    "start_time": "2022-01-10T16:30:10.791Z"
   },
   {
    "duration": 542,
    "start_time": "2022-01-10T16:30:50.162Z"
   },
   {
    "duration": 543,
    "start_time": "2022-01-10T16:31:06.010Z"
   },
   {
    "duration": 531,
    "start_time": "2022-01-10T16:31:12.450Z"
   },
   {
    "duration": 556,
    "start_time": "2022-01-10T16:31:26.167Z"
   },
   {
    "duration": 654,
    "start_time": "2022-01-10T16:31:51.519Z"
   },
   {
    "duration": 107,
    "start_time": "2022-01-10T16:33:23.516Z"
   },
   {
    "duration": 704,
    "start_time": "2022-01-10T16:33:29.956Z"
   },
   {
    "duration": 415,
    "start_time": "2022-01-10T16:34:00.575Z"
   },
   {
    "duration": 445,
    "start_time": "2022-01-10T16:34:11.271Z"
   },
   {
    "duration": 391,
    "start_time": "2022-01-10T16:34:25.253Z"
   },
   {
    "duration": 651,
    "start_time": "2022-01-10T16:34:37.350Z"
   },
   {
    "duration": 566,
    "start_time": "2022-01-10T16:34:41.830Z"
   },
   {
    "duration": 592,
    "start_time": "2022-01-10T16:34:49.488Z"
   },
   {
    "duration": 8801,
    "start_time": "2022-01-10T16:35:27.577Z"
   },
   {
    "duration": 587,
    "start_time": "2022-01-10T16:35:44.998Z"
   },
   {
    "duration": 588,
    "start_time": "2022-01-10T16:36:21.771Z"
   },
   {
    "duration": 725,
    "start_time": "2022-01-10T16:36:49.710Z"
   },
   {
    "duration": 409,
    "start_time": "2022-01-10T16:36:55.887Z"
   },
   {
    "duration": 822,
    "start_time": "2022-01-10T16:37:04.714Z"
   },
   {
    "duration": 681,
    "start_time": "2022-01-10T16:38:10.749Z"
   },
   {
    "duration": 803,
    "start_time": "2022-01-10T16:38:23.312Z"
   },
   {
    "duration": 700,
    "start_time": "2022-01-10T16:38:34.782Z"
   },
   {
    "duration": 697,
    "start_time": "2022-01-10T16:39:07.413Z"
   },
   {
    "duration": 553,
    "start_time": "2022-01-10T16:39:49.597Z"
   },
   {
    "duration": 785,
    "start_time": "2022-01-10T16:39:53.996Z"
   },
   {
    "duration": 975,
    "start_time": "2022-01-10T16:40:26.723Z"
   },
   {
    "duration": 22,
    "start_time": "2022-01-10T16:44:16.253Z"
   },
   {
    "duration": 26,
    "start_time": "2022-01-10T16:45:49.809Z"
   },
   {
    "duration": 23,
    "start_time": "2022-01-10T16:45:56.182Z"
   },
   {
    "duration": 10,
    "start_time": "2022-01-10T16:47:26.700Z"
   },
   {
    "duration": 422,
    "start_time": "2022-01-10T16:47:40.845Z"
   },
   {
    "duration": 9,
    "start_time": "2022-01-10T16:48:08.246Z"
   },
   {
    "duration": 124,
    "start_time": "2022-01-10T16:48:17.436Z"
   },
   {
    "duration": 12,
    "start_time": "2022-01-10T16:48:20.264Z"
   },
   {
    "duration": 13,
    "start_time": "2022-01-10T16:48:29.681Z"
   },
   {
    "duration": 11,
    "start_time": "2022-01-10T16:48:33.712Z"
   },
   {
    "duration": 283,
    "start_time": "2022-01-10T16:48:35.657Z"
   },
   {
    "duration": 98,
    "start_time": "2022-01-10T16:48:35.943Z"
   },
   {
    "duration": 263,
    "start_time": "2022-01-10T16:48:36.044Z"
   },
   {
    "duration": 379,
    "start_time": "2022-01-10T16:48:36.309Z"
   },
   {
    "duration": 339,
    "start_time": "2022-01-10T16:48:36.692Z"
   },
   {
    "duration": 440,
    "start_time": "2022-01-10T16:48:37.034Z"
   },
   {
    "duration": 333,
    "start_time": "2022-01-10T16:48:37.477Z"
   },
   {
    "duration": 372,
    "start_time": "2022-01-10T16:48:37.813Z"
   },
   {
    "duration": 327,
    "start_time": "2022-01-10T16:48:38.189Z"
   },
   {
    "duration": 459,
    "start_time": "2022-01-10T16:48:38.519Z"
   },
   {
    "duration": 341,
    "start_time": "2022-01-10T16:48:38.980Z"
   },
   {
    "duration": 321,
    "start_time": "2022-01-10T16:48:39.324Z"
   },
   {
    "duration": 270,
    "start_time": "2022-01-10T16:48:39.648Z"
   },
   {
    "duration": 265,
    "start_time": "2022-01-10T16:48:39.922Z"
   },
   {
    "duration": 534,
    "start_time": "2022-01-10T16:48:40.190Z"
   },
   {
    "duration": 1003,
    "start_time": "2022-01-10T16:48:40.727Z"
   },
   {
    "duration": 39,
    "start_time": "2022-01-10T16:48:41.732Z"
   },
   {
    "duration": 280,
    "start_time": "2022-01-10T16:48:41.775Z"
   },
   {
    "duration": 859,
    "start_time": "2022-01-10T16:48:42.058Z"
   },
   {
    "duration": 465,
    "start_time": "2022-01-10T16:48:42.919Z"
   },
   {
    "duration": 365,
    "start_time": "2022-01-10T16:48:43.386Z"
   },
   {
    "duration": 676,
    "start_time": "2022-01-10T16:48:43.754Z"
   },
   {
    "duration": 5,
    "start_time": "2022-01-10T16:48:44.434Z"
   },
   {
    "duration": 287,
    "start_time": "2022-01-10T16:48:44.444Z"
   },
   {
    "duration": 589,
    "start_time": "2022-01-10T16:48:44.734Z"
   },
   {
    "duration": 431,
    "start_time": "2022-01-10T16:48:45.325Z"
   },
   {
    "duration": 9,
    "start_time": "2022-01-10T16:48:45.770Z"
   },
   {
    "duration": 223,
    "start_time": "2022-01-10T16:48:45.783Z"
   },
   {
    "duration": 337,
    "start_time": "2022-01-10T16:48:46.009Z"
   },
   {
    "duration": 607,
    "start_time": "2022-01-10T16:48:46.348Z"
   },
   {
    "duration": 17,
    "start_time": "2022-01-10T16:48:46.957Z"
   },
   {
    "duration": 206,
    "start_time": "2022-01-10T16:48:46.977Z"
   },
   {
    "duration": 678,
    "start_time": "2022-01-10T16:48:47.186Z"
   },
   {
    "duration": 463,
    "start_time": "2022-01-10T16:48:47.867Z"
   },
   {
    "duration": 762,
    "start_time": "2022-01-10T16:48:48.334Z"
   },
   {
    "duration": 798,
    "start_time": "2022-01-10T16:48:49.099Z"
   },
   {
    "duration": 4,
    "start_time": "2022-01-10T16:48:49.901Z"
   },
   {
    "duration": 828,
    "start_time": "2022-01-10T16:48:49.907Z"
   },
   {
    "duration": 482,
    "start_time": "2022-01-10T16:48:50.738Z"
   },
   {
    "duration": 543,
    "start_time": "2022-01-10T16:48:51.224Z"
   },
   {
    "duration": 50,
    "start_time": "2022-01-10T16:48:51.770Z"
   },
   {
    "duration": 643,
    "start_time": "2022-01-10T16:48:51.823Z"
   },
   {
    "duration": 3,
    "start_time": "2022-01-10T16:48:52.469Z"
   },
   {
    "duration": 294,
    "start_time": "2022-01-10T16:48:52.475Z"
   },
   {
    "duration": 333,
    "start_time": "2022-01-10T16:48:52.771Z"
   },
   {
    "duration": 238,
    "start_time": "2022-01-10T16:48:53.108Z"
   },
   {
    "duration": 247,
    "start_time": "2022-01-10T16:48:53.348Z"
   },
   {
    "duration": 387,
    "start_time": "2022-01-10T16:48:53.598Z"
   },
   {
    "duration": 789,
    "start_time": "2022-01-10T16:48:53.988Z"
   },
   {
    "duration": 4,
    "start_time": "2022-01-10T16:48:54.781Z"
   },
   {
    "duration": 273,
    "start_time": "2022-01-10T16:48:54.788Z"
   },
   {
    "duration": 1036,
    "start_time": "2022-01-10T16:48:55.063Z"
   },
   {
    "duration": 835,
    "start_time": "2022-01-10T16:48:56.103Z"
   },
   {
    "duration": 914,
    "start_time": "2022-01-10T16:48:56.941Z"
   },
   {
    "duration": 1126,
    "start_time": "2022-01-10T16:48:57.858Z"
   },
   {
    "duration": 15,
    "start_time": "2022-01-10T16:50:45.785Z"
   },
   {
    "duration": 88,
    "start_time": "2022-01-10T16:50:48.745Z"
   },
   {
    "duration": 327,
    "start_time": "2022-01-10T16:51:33.735Z"
   },
   {
    "duration": 16,
    "start_time": "2022-01-10T16:51:50.492Z"
   },
   {
    "duration": 12581,
    "start_time": "2022-01-10T16:53:27.618Z"
   },
   {
    "duration": 471,
    "start_time": "2022-01-10T16:53:51.203Z"
   },
   {
    "duration": 13,
    "start_time": "2022-01-10T16:54:39.533Z"
   },
   {
    "duration": 318,
    "start_time": "2022-01-10T16:54:42.713Z"
   },
   {
    "duration": 320,
    "start_time": "2022-01-10T16:54:55.775Z"
   },
   {
    "duration": 352,
    "start_time": "2022-01-10T16:55:08.211Z"
   },
   {
    "duration": 348,
    "start_time": "2022-01-10T16:55:31.584Z"
   },
   {
    "duration": 10,
    "start_time": "2022-01-10T16:55:43.765Z"
   },
   {
    "duration": 11,
    "start_time": "2022-01-10T16:59:38.093Z"
   },
   {
    "duration": 8,
    "start_time": "2022-01-10T16:59:58.913Z"
   },
   {
    "duration": 19,
    "start_time": "2022-01-10T17:00:05.077Z"
   },
   {
    "duration": 19,
    "start_time": "2022-01-10T17:00:39.903Z"
   },
   {
    "duration": 18,
    "start_time": "2022-01-10T17:01:05.702Z"
   },
   {
    "duration": 7,
    "start_time": "2022-01-10T17:02:06.353Z"
   },
   {
    "duration": 16,
    "start_time": "2022-01-10T17:02:26.834Z"
   },
   {
    "duration": 15,
    "start_time": "2022-01-10T17:02:30.887Z"
   },
   {
    "duration": 17,
    "start_time": "2022-01-10T17:02:38.934Z"
   },
   {
    "duration": 7,
    "start_time": "2022-01-10T17:02:59.591Z"
   },
   {
    "duration": 24,
    "start_time": "2022-01-10T17:03:12.843Z"
   },
   {
    "duration": 13,
    "start_time": "2022-01-10T17:04:30.277Z"
   },
   {
    "duration": 12,
    "start_time": "2022-01-10T17:05:37.342Z"
   },
   {
    "duration": 19,
    "start_time": "2022-01-10T17:05:46.648Z"
   },
   {
    "duration": 326,
    "start_time": "2022-01-10T17:06:09.808Z"
   },
   {
    "duration": 23,
    "start_time": "2022-01-10T17:06:14.453Z"
   },
   {
    "duration": 21,
    "start_time": "2022-01-10T17:06:48.496Z"
   },
   {
    "duration": 19,
    "start_time": "2022-01-10T17:06:57.233Z"
   },
   {
    "duration": 441,
    "start_time": "2022-01-11T16:59:51.391Z"
   },
   {
    "duration": 1316,
    "start_time": "2022-01-11T16:59:55.877Z"
   },
   {
    "duration": 69,
    "start_time": "2022-01-11T16:59:57.197Z"
   },
   {
    "duration": 107,
    "start_time": "2022-01-11T16:59:57.269Z"
   },
   {
    "duration": 147,
    "start_time": "2022-01-11T16:59:57.379Z"
   },
   {
    "duration": 296,
    "start_time": "2022-01-11T16:59:57.529Z"
   },
   {
    "duration": 184,
    "start_time": "2022-01-11T16:59:57.828Z"
   },
   {
    "duration": 201,
    "start_time": "2022-01-11T16:59:58.015Z"
   },
   {
    "duration": 154,
    "start_time": "2022-01-11T16:59:58.222Z"
   },
   {
    "duration": 146,
    "start_time": "2022-01-11T16:59:58.380Z"
   },
   {
    "duration": 177,
    "start_time": "2022-01-11T16:59:58.529Z"
   },
   {
    "duration": 166,
    "start_time": "2022-01-11T16:59:58.709Z"
   },
   {
    "duration": 150,
    "start_time": "2022-01-11T16:59:58.877Z"
   },
   {
    "duration": 233,
    "start_time": "2022-01-11T16:59:59.029Z"
   },
   {
    "duration": 237,
    "start_time": "2022-01-11T16:59:59.266Z"
   },
   {
    "duration": 232,
    "start_time": "2022-01-11T16:59:59.506Z"
   },
   {
    "duration": 894,
    "start_time": "2022-01-11T16:59:59.741Z"
   },
   {
    "duration": 24,
    "start_time": "2022-01-11T17:00:00.637Z"
   },
   {
    "duration": 174,
    "start_time": "2022-01-11T17:00:00.665Z"
   },
   {
    "duration": 323,
    "start_time": "2022-01-11T17:00:00.842Z"
   },
   {
    "duration": 857,
    "start_time": "2022-01-11T17:00:01.168Z"
   },
   {
    "duration": 445,
    "start_time": "2022-01-11T17:00:02.028Z"
   },
   {
    "duration": 356,
    "start_time": "2022-01-11T17:00:02.476Z"
   },
   {
    "duration": 470,
    "start_time": "2022-01-11T17:00:02.840Z"
   },
   {
    "duration": 3,
    "start_time": "2022-01-11T17:00:03.325Z"
   },
   {
    "duration": 312,
    "start_time": "2022-01-11T17:00:03.331Z"
   },
   {
    "duration": 485,
    "start_time": "2022-01-11T17:00:03.646Z"
   },
   {
    "duration": 304,
    "start_time": "2022-01-11T17:00:04.134Z"
   },
   {
    "duration": 9,
    "start_time": "2022-01-11T17:00:04.441Z"
   },
   {
    "duration": 166,
    "start_time": "2022-01-11T17:00:04.453Z"
   },
   {
    "duration": 335,
    "start_time": "2022-01-11T17:00:04.622Z"
   },
   {
    "duration": 702,
    "start_time": "2022-01-11T17:00:04.960Z"
   },
   {
    "duration": 16,
    "start_time": "2022-01-11T17:00:05.665Z"
   },
   {
    "duration": 195,
    "start_time": "2022-01-11T17:00:05.684Z"
   },
   {
    "duration": 541,
    "start_time": "2022-01-11T17:00:05.882Z"
   },
   {
    "duration": 423,
    "start_time": "2022-01-11T17:00:06.426Z"
   },
   {
    "duration": 580,
    "start_time": "2022-01-11T17:00:06.852Z"
   },
   {
    "duration": 497,
    "start_time": "2022-01-11T17:00:07.435Z"
   },
   {
    "duration": 4,
    "start_time": "2022-01-11T17:00:07.935Z"
   },
   {
    "duration": 718,
    "start_time": "2022-01-11T17:00:07.942Z"
   },
   {
    "duration": 423,
    "start_time": "2022-01-11T17:00:08.663Z"
   },
   {
    "duration": 410,
    "start_time": "2022-01-11T17:00:09.089Z"
   },
   {
    "duration": 35,
    "start_time": "2022-01-11T17:00:09.502Z"
   },
   {
    "duration": 106,
    "start_time": "2022-01-11T17:00:09.541Z"
   },
   {
    "duration": 537,
    "start_time": "2022-01-11T17:00:09.651Z"
   },
   {
    "duration": 4,
    "start_time": "2022-01-11T17:00:10.191Z"
   },
   {
    "duration": 176,
    "start_time": "2022-01-11T17:00:10.199Z"
   },
   {
    "duration": 252,
    "start_time": "2022-01-11T17:00:10.377Z"
   },
   {
    "duration": 186,
    "start_time": "2022-01-11T17:00:10.632Z"
   },
   {
    "duration": 252,
    "start_time": "2022-01-11T17:00:10.820Z"
   },
   {
    "duration": 150,
    "start_time": "2022-01-11T17:00:11.074Z"
   },
   {
    "duration": 212,
    "start_time": "2022-01-11T17:00:11.227Z"
   },
   {
    "duration": 544,
    "start_time": "2022-01-11T17:00:11.442Z"
   },
   {
    "duration": 3,
    "start_time": "2022-01-11T17:00:11.989Z"
   },
   {
    "duration": 211,
    "start_time": "2022-01-11T17:00:11.994Z"
   },
   {
    "duration": 932,
    "start_time": "2022-01-11T17:00:12.207Z"
   },
   {
    "duration": 779,
    "start_time": "2022-01-11T17:00:13.142Z"
   },
   {
    "duration": 1295,
    "start_time": "2022-01-11T17:00:13.925Z"
   },
   {
    "duration": 1117,
    "start_time": "2022-01-11T17:00:15.223Z"
   },
   {
    "duration": 121,
    "start_time": "2022-01-11T17:01:49.985Z"
   },
   {
    "duration": 128,
    "start_time": "2022-01-11T17:02:07.633Z"
   },
   {
    "duration": 1422,
    "start_time": "2022-01-13T09:05:29.800Z"
   },
   {
    "duration": 93,
    "start_time": "2022-01-13T09:05:31.224Z"
   },
   {
    "duration": 9,
    "start_time": "2022-01-13T09:05:31.320Z"
   },
   {
    "duration": 34,
    "start_time": "2022-01-13T09:05:31.332Z"
   },
   {
    "duration": 52,
    "start_time": "2022-01-13T09:05:31.369Z"
   },
   {
    "duration": 97,
    "start_time": "2022-01-13T09:05:31.423Z"
   },
   {
    "duration": 24,
    "start_time": "2022-01-13T09:05:31.523Z"
   },
   {
    "duration": 74,
    "start_time": "2022-01-13T09:05:31.550Z"
   },
   {
    "duration": 15,
    "start_time": "2022-01-13T09:05:31.627Z"
   },
   {
    "duration": 14,
    "start_time": "2022-01-13T09:05:31.644Z"
   },
   {
    "duration": 79,
    "start_time": "2022-01-13T09:05:31.661Z"
   },
   {
    "duration": 11,
    "start_time": "2022-01-13T09:05:31.743Z"
   },
   {
    "duration": 10,
    "start_time": "2022-01-13T09:05:31.757Z"
   },
   {
    "duration": 9,
    "start_time": "2022-01-13T09:05:31.818Z"
   },
   {
    "duration": 289,
    "start_time": "2022-01-13T09:05:31.830Z"
   },
   {
    "duration": 1049,
    "start_time": "2022-01-13T09:05:32.122Z"
   },
   {
    "duration": 24,
    "start_time": "2022-01-13T09:05:33.173Z"
   },
   {
    "duration": 17,
    "start_time": "2022-01-13T09:05:33.200Z"
   },
   {
    "duration": 49,
    "start_time": "2022-01-13T09:05:33.220Z"
   },
   {
    "duration": 987,
    "start_time": "2022-01-13T09:05:33.272Z"
   },
   {
    "duration": 619,
    "start_time": "2022-01-13T09:05:34.262Z"
   },
   {
    "duration": 493,
    "start_time": "2022-01-13T09:05:34.884Z"
   },
   {
    "duration": 599,
    "start_time": "2022-01-13T09:05:35.385Z"
   },
   {
    "duration": 3,
    "start_time": "2022-01-13T09:05:35.987Z"
   },
   {
    "duration": 44,
    "start_time": "2022-01-13T09:05:35.993Z"
   },
   {
    "duration": 492,
    "start_time": "2022-01-13T09:05:36.039Z"
   },
   {
    "duration": 391,
    "start_time": "2022-01-13T09:05:36.534Z"
   },
   {
    "duration": 8,
    "start_time": "2022-01-13T09:05:36.928Z"
   },
   {
    "duration": 6,
    "start_time": "2022-01-13T09:05:36.939Z"
   },
   {
    "duration": 162,
    "start_time": "2022-01-13T09:05:36.948Z"
   },
   {
    "duration": 489,
    "start_time": "2022-01-13T09:05:37.113Z"
   },
   {
    "duration": 22,
    "start_time": "2022-01-13T09:05:37.605Z"
   },
   {
    "duration": 21,
    "start_time": "2022-01-13T09:05:37.630Z"
   },
   {
    "duration": 368,
    "start_time": "2022-01-13T09:05:37.655Z"
   },
   {
    "duration": 342,
    "start_time": "2022-01-13T09:05:38.026Z"
   },
   {
    "duration": 789,
    "start_time": "2022-01-13T09:05:38.370Z"
   },
   {
    "duration": 473,
    "start_time": "2022-01-13T09:05:39.162Z"
   },
   {
    "duration": 3,
    "start_time": "2022-01-13T09:05:39.637Z"
   },
   {
    "duration": 403,
    "start_time": "2022-01-13T09:05:39.642Z"
   },
   {
    "duration": 408,
    "start_time": "2022-01-13T09:05:40.047Z"
   },
   {
    "duration": 409,
    "start_time": "2022-01-13T09:05:40.457Z"
   },
   {
    "duration": 19,
    "start_time": "2022-01-13T09:05:40.868Z"
   },
   {
    "duration": 414,
    "start_time": "2022-01-13T09:05:40.890Z"
   },
   {
    "duration": 11,
    "start_time": "2022-01-13T09:05:41.307Z"
   },
   {
    "duration": 11,
    "start_time": "2022-01-13T09:05:41.320Z"
   },
   {
    "duration": 99,
    "start_time": "2022-01-13T09:05:41.334Z"
   },
   {
    "duration": 16,
    "start_time": "2022-01-13T09:05:41.436Z"
   },
   {
    "duration": 5,
    "start_time": "2022-01-13T09:05:41.455Z"
   },
   {
    "duration": 11,
    "start_time": "2022-01-13T09:05:41.463Z"
   },
   {
    "duration": 106,
    "start_time": "2022-01-13T09:05:41.477Z"
   },
   {
    "duration": 524,
    "start_time": "2022-01-13T09:05:41.586Z"
   },
   {
    "duration": 7,
    "start_time": "2022-01-13T09:05:42.112Z"
   },
   {
    "duration": 26,
    "start_time": "2022-01-13T09:05:42.122Z"
   },
   {
    "duration": 775,
    "start_time": "2022-01-13T09:05:42.150Z"
   },
   {
    "duration": 716,
    "start_time": "2022-01-13T09:05:42.927Z"
   },
   {
    "duration": 830,
    "start_time": "2022-01-13T09:05:43.646Z"
   },
   {
    "duration": 920,
    "start_time": "2022-01-13T09:05:44.479Z"
   },
   {
    "duration": 120,
    "start_time": "2022-01-13T09:09:44.887Z"
   },
   {
    "duration": 33,
    "start_time": "2022-01-13T09:13:38.985Z"
   },
   {
    "duration": 309,
    "start_time": "2022-01-13T15:24:00.187Z"
   },
   {
    "duration": 1095,
    "start_time": "2022-01-13T15:24:03.704Z"
   },
   {
    "duration": 38,
    "start_time": "2022-01-13T15:24:04.801Z"
   },
   {
    "duration": 9,
    "start_time": "2022-01-13T15:24:04.862Z"
   },
   {
    "duration": 17,
    "start_time": "2022-01-13T15:24:04.874Z"
   },
   {
    "duration": 142,
    "start_time": "2022-01-13T15:24:04.894Z"
   },
   {
    "duration": 6,
    "start_time": "2022-01-13T15:24:05.038Z"
   },
   {
    "duration": 29,
    "start_time": "2022-01-13T15:24:05.046Z"
   },
   {
    "duration": 22,
    "start_time": "2022-01-13T15:24:05.081Z"
   },
   {
    "duration": 59,
    "start_time": "2022-01-13T15:24:05.107Z"
   },
   {
    "duration": 17,
    "start_time": "2022-01-13T15:24:05.169Z"
   },
   {
    "duration": 14,
    "start_time": "2022-01-13T15:24:05.188Z"
   },
   {
    "duration": 11,
    "start_time": "2022-01-13T15:24:05.204Z"
   },
   {
    "duration": 11,
    "start_time": "2022-01-13T15:24:05.263Z"
   },
   {
    "duration": 12,
    "start_time": "2022-01-13T15:24:05.276Z"
   },
   {
    "duration": 10,
    "start_time": "2022-01-13T15:24:05.291Z"
   },
   {
    "duration": 119,
    "start_time": "2022-01-13T15:24:05.303Z"
   },
   {
    "duration": 822,
    "start_time": "2022-01-13T15:24:05.424Z"
   },
   {
    "duration": 31,
    "start_time": "2022-01-13T15:24:06.249Z"
   },
   {
    "duration": 34,
    "start_time": "2022-01-13T15:24:06.283Z"
   },
   {
    "duration": 646,
    "start_time": "2022-01-13T15:24:06.320Z"
   },
   {
    "duration": 410,
    "start_time": "2022-01-13T15:24:06.968Z"
   },
   {
    "duration": 336,
    "start_time": "2022-01-13T15:24:07.380Z"
   },
   {
    "duration": 386,
    "start_time": "2022-01-13T15:24:07.721Z"
   },
   {
    "duration": 3,
    "start_time": "2022-01-13T15:24:08.110Z"
   },
   {
    "duration": 25,
    "start_time": "2022-01-13T15:24:08.116Z"
   },
   {
    "duration": 348,
    "start_time": "2022-01-13T15:24:08.163Z"
   },
   {
    "duration": 272,
    "start_time": "2022-01-13T15:24:08.513Z"
   },
   {
    "duration": 7,
    "start_time": "2022-01-13T15:24:08.788Z"
   },
   {
    "duration": 7,
    "start_time": "2022-01-13T15:24:08.797Z"
   },
   {
    "duration": 171,
    "start_time": "2022-01-13T15:24:08.806Z"
   },
   {
    "duration": 465,
    "start_time": "2022-01-13T15:24:08.980Z"
   },
   {
    "duration": 21,
    "start_time": "2022-01-13T15:24:09.447Z"
   },
   {
    "duration": 14,
    "start_time": "2022-01-13T15:24:09.470Z"
   },
   {
    "duration": 374,
    "start_time": "2022-01-13T15:24:09.486Z"
   },
   {
    "duration": 325,
    "start_time": "2022-01-13T15:24:09.863Z"
   },
   {
    "duration": 518,
    "start_time": "2022-01-13T15:24:10.192Z"
   },
   {
    "duration": 467,
    "start_time": "2022-01-13T15:24:10.712Z"
   },
   {
    "duration": 3,
    "start_time": "2022-01-13T15:24:11.182Z"
   },
   {
    "duration": 399,
    "start_time": "2022-01-13T15:24:11.187Z"
   },
   {
    "duration": 394,
    "start_time": "2022-01-13T15:24:11.588Z"
   },
   {
    "duration": 385,
    "start_time": "2022-01-13T15:24:11.985Z"
   },
   {
    "duration": 26,
    "start_time": "2022-01-13T15:24:12.372Z"
   },
   {
    "duration": 533,
    "start_time": "2022-01-13T15:24:12.400Z"
   },
   {
    "duration": 3,
    "start_time": "2022-01-13T15:24:12.935Z"
   },
   {
    "duration": 23,
    "start_time": "2022-01-13T15:24:12.941Z"
   },
   {
    "duration": 106,
    "start_time": "2022-01-13T15:24:12.966Z"
   },
   {
    "duration": 15,
    "start_time": "2022-01-13T15:24:13.075Z"
   },
   {
    "duration": 7,
    "start_time": "2022-01-13T15:24:13.093Z"
   },
   {
    "duration": 14,
    "start_time": "2022-01-13T15:24:13.103Z"
   },
   {
    "duration": 98,
    "start_time": "2022-01-13T15:24:13.121Z"
   },
   {
    "duration": 368,
    "start_time": "2022-01-13T15:24:13.222Z"
   },
   {
    "duration": 3,
    "start_time": "2022-01-13T15:24:13.594Z"
   },
   {
    "duration": 30,
    "start_time": "2022-01-13T15:24:13.600Z"
   },
   {
    "duration": 781,
    "start_time": "2022-01-13T15:24:13.633Z"
   },
   {
    "duration": 730,
    "start_time": "2022-01-13T15:24:14.418Z"
   },
   {
    "duration": 898,
    "start_time": "2022-01-13T15:24:15.150Z"
   },
   {
    "duration": 920,
    "start_time": "2022-01-13T15:24:16.051Z"
   },
   {
    "duration": 315,
    "start_time": "2022-01-13T15:24:27.124Z"
   },
   {
    "duration": 385,
    "start_time": "2022-01-13T15:24:29.309Z"
   },
   {
    "duration": 463,
    "start_time": "2022-01-13T15:24:33.237Z"
   },
   {
    "duration": 320,
    "start_time": "2022-01-13T15:25:50.082Z"
   },
   {
    "duration": 237,
    "start_time": "2022-01-13T15:25:52.734Z"
   },
   {
    "duration": 476,
    "start_time": "2022-01-13T15:26:47.250Z"
   },
   {
    "duration": 480,
    "start_time": "2022-01-13T15:29:20.924Z"
   },
   {
    "duration": 460,
    "start_time": "2022-01-13T15:29:24.594Z"
   },
   {
    "duration": 384,
    "start_time": "2022-01-13T15:29:31.888Z"
   },
   {
    "duration": 387,
    "start_time": "2022-01-13T15:29:59.734Z"
   },
   {
    "duration": 94,
    "start_time": "2022-01-13T15:32:30.433Z"
   },
   {
    "duration": 13,
    "start_time": "2022-01-13T15:34:12.039Z"
   },
   {
    "duration": 283,
    "start_time": "2022-01-13T15:34:36.256Z"
   },
   {
    "duration": 249,
    "start_time": "2022-01-13T15:34:43.292Z"
   },
   {
    "duration": 14,
    "start_time": "2022-01-13T15:34:48.501Z"
   },
   {
    "duration": 19,
    "start_time": "2022-01-13T15:35:35.019Z"
   },
   {
    "duration": 13,
    "start_time": "2022-01-13T15:35:41.052Z"
   },
   {
    "duration": 17,
    "start_time": "2022-01-13T15:36:01.985Z"
   },
   {
    "duration": 21,
    "start_time": "2022-01-13T15:37:21.512Z"
   },
   {
    "duration": 16,
    "start_time": "2022-01-13T15:37:44.426Z"
   },
   {
    "duration": 13,
    "start_time": "2022-01-13T15:37:52.262Z"
   },
   {
    "duration": 259,
    "start_time": "2022-01-13T15:46:19.971Z"
   },
   {
    "duration": 386,
    "start_time": "2022-01-13T15:46:26.189Z"
   },
   {
    "duration": 404,
    "start_time": "2022-01-13T15:46:33.382Z"
   },
   {
    "duration": 9,
    "start_time": "2022-01-13T15:47:17.568Z"
   },
   {
    "duration": 255,
    "start_time": "2022-01-13T15:47:47.095Z"
   },
   {
    "duration": 56,
    "start_time": "2022-01-13T15:47:47.353Z"
   },
   {
    "duration": 11,
    "start_time": "2022-01-13T15:47:47.412Z"
   },
   {
    "duration": 39,
    "start_time": "2022-01-13T15:47:47.426Z"
   },
   {
    "duration": 135,
    "start_time": "2022-01-13T15:47:47.468Z"
   },
   {
    "duration": 7,
    "start_time": "2022-01-13T15:47:47.606Z"
   },
   {
    "duration": 19,
    "start_time": "2022-01-13T15:47:47.616Z"
   },
   {
    "duration": 25,
    "start_time": "2022-01-13T15:47:47.665Z"
   },
   {
    "duration": 21,
    "start_time": "2022-01-13T15:47:47.694Z"
   },
   {
    "duration": 50,
    "start_time": "2022-01-13T15:47:47.718Z"
   },
   {
    "duration": 12,
    "start_time": "2022-01-13T15:47:47.771Z"
   },
   {
    "duration": 11,
    "start_time": "2022-01-13T15:47:47.786Z"
   },
   {
    "duration": 10,
    "start_time": "2022-01-13T15:47:47.800Z"
   },
   {
    "duration": 59,
    "start_time": "2022-01-13T15:47:47.813Z"
   },
   {
    "duration": 27,
    "start_time": "2022-01-13T15:47:47.874Z"
   },
   {
    "duration": 141,
    "start_time": "2022-01-13T15:47:47.904Z"
   },
   {
    "duration": 837,
    "start_time": "2022-01-13T15:47:48.049Z"
   },
   {
    "duration": 25,
    "start_time": "2022-01-13T15:47:48.889Z"
   },
   {
    "duration": 63,
    "start_time": "2022-01-13T15:47:48.916Z"
   },
   {
    "duration": 619,
    "start_time": "2022-01-13T15:47:48.982Z"
   },
   {
    "duration": 507,
    "start_time": "2022-01-13T15:47:49.604Z"
   },
   {
    "duration": 328,
    "start_time": "2022-01-13T15:47:50.114Z"
   },
   {
    "duration": 473,
    "start_time": "2022-01-13T15:47:50.448Z"
   },
   {
    "duration": 23,
    "start_time": "2022-01-13T15:47:50.924Z"
   },
   {
    "duration": 459,
    "start_time": "2022-01-13T15:47:50.964Z"
   },
   {
    "duration": 264,
    "start_time": "2022-01-13T15:47:51.426Z"
   },
   {
    "duration": 8,
    "start_time": "2022-01-13T15:47:51.692Z"
   },
   {
    "duration": 154,
    "start_time": "2022-01-13T15:47:51.702Z"
   },
   {
    "duration": 443,
    "start_time": "2022-01-13T15:47:51.862Z"
   },
   {
    "duration": 12,
    "start_time": "2022-01-13T15:47:52.308Z"
   },
   {
    "duration": 12,
    "start_time": "2022-01-13T15:47:52.322Z"
   },
   {
    "duration": 448,
    "start_time": "2022-01-13T15:47:52.363Z"
   },
   {
    "duration": 449,
    "start_time": "2022-01-13T15:47:52.814Z"
   },
   {
    "duration": 624,
    "start_time": "2022-01-13T15:47:53.266Z"
   },
   {
    "duration": 644,
    "start_time": "2022-01-13T15:47:53.892Z"
   },
   {
    "duration": 631,
    "start_time": "2022-01-13T15:47:54.539Z"
   },
   {
    "duration": 532,
    "start_time": "2022-01-13T15:47:55.173Z"
   },
   {
    "duration": 722,
    "start_time": "2022-01-13T15:47:55.708Z"
   },
   {
    "duration": 70,
    "start_time": "2022-01-13T15:47:56.445Z"
   },
   {
    "duration": 690,
    "start_time": "2022-01-13T15:47:56.522Z"
   },
   {
    "duration": 8,
    "start_time": "2022-01-13T15:47:57.214Z"
   },
   {
    "duration": 248,
    "start_time": "2022-01-13T15:47:57.225Z"
   },
   {
    "duration": 228,
    "start_time": "2022-01-13T15:47:57.248Z"
   },
   {
    "duration": 227,
    "start_time": "2022-01-13T15:47:57.251Z"
   },
   {
    "duration": 227,
    "start_time": "2022-01-13T15:47:57.253Z"
   },
   {
    "duration": 223,
    "start_time": "2022-01-13T15:47:57.259Z"
   },
   {
    "duration": 224,
    "start_time": "2022-01-13T15:47:57.261Z"
   },
   {
    "duration": 224,
    "start_time": "2022-01-13T15:47:57.263Z"
   },
   {
    "duration": 221,
    "start_time": "2022-01-13T15:47:57.268Z"
   },
   {
    "duration": 222,
    "start_time": "2022-01-13T15:47:57.270Z"
   },
   {
    "duration": 222,
    "start_time": "2022-01-13T15:47:57.272Z"
   },
   {
    "duration": 263,
    "start_time": "2022-01-13T15:48:20.966Z"
   },
   {
    "duration": 330,
    "start_time": "2022-01-13T15:49:00.274Z"
   },
   {
    "duration": 269,
    "start_time": "2022-01-13T15:49:06.290Z"
   },
   {
    "duration": 17,
    "start_time": "2022-01-13T15:49:19.116Z"
   },
   {
    "duration": 25,
    "start_time": "2022-01-13T15:49:34.237Z"
   },
   {
    "duration": 350,
    "start_time": "2022-01-13T15:49:58.448Z"
   },
   {
    "duration": 267,
    "start_time": "2022-01-13T15:51:30.732Z"
   },
   {
    "duration": 249,
    "start_time": "2022-01-13T15:51:46.959Z"
   },
   {
    "duration": 245,
    "start_time": "2022-01-13T15:51:51.284Z"
   },
   {
    "duration": 268,
    "start_time": "2022-01-13T15:52:55.444Z"
   },
   {
    "duration": 329,
    "start_time": "2022-01-13T15:53:42.994Z"
   },
   {
    "duration": 344,
    "start_time": "2022-01-13T15:53:59.000Z"
   },
   {
    "duration": 384,
    "start_time": "2022-01-13T15:54:02.280Z"
   },
   {
    "duration": 429,
    "start_time": "2022-01-13T15:54:06.929Z"
   },
   {
    "duration": 8,
    "start_time": "2022-01-13T15:54:21.879Z"
   },
   {
    "duration": 373,
    "start_time": "2022-01-13T16:00:24.897Z"
   },
   {
    "duration": 1471,
    "start_time": "2022-01-13T16:00:32.795Z"
   },
   {
    "duration": 275,
    "start_time": "2022-01-13T16:05:38.658Z"
   },
   {
    "duration": 499,
    "start_time": "2022-01-13T16:06:02.995Z"
   },
   {
    "duration": 8,
    "start_time": "2022-01-13T16:06:30.382Z"
   },
   {
    "duration": 355,
    "start_time": "2022-01-13T16:06:35.769Z"
   },
   {
    "duration": 9,
    "start_time": "2022-01-13T16:08:12.744Z"
   },
   {
    "duration": 270,
    "start_time": "2022-01-13T16:08:14.637Z"
   },
   {
    "duration": 8,
    "start_time": "2022-01-13T16:08:27.550Z"
   },
   {
    "duration": 281,
    "start_time": "2022-01-13T16:09:43.170Z"
   },
   {
    "duration": 265,
    "start_time": "2022-01-13T16:09:54.176Z"
   },
   {
    "duration": 278,
    "start_time": "2022-01-13T16:13:23.297Z"
   },
   {
    "duration": 356,
    "start_time": "2022-01-13T16:13:38.851Z"
   },
   {
    "duration": 280,
    "start_time": "2022-01-13T16:14:34.402Z"
   },
   {
    "duration": 97,
    "start_time": "2022-01-13T16:15:14.268Z"
   },
   {
    "duration": 89,
    "start_time": "2022-01-13T16:15:25.477Z"
   },
   {
    "duration": 172,
    "start_time": "2022-01-13T16:15:51.488Z"
   },
   {
    "duration": 626,
    "start_time": "2022-01-13T16:16:04.564Z"
   },
   {
    "duration": 229,
    "start_time": "2022-01-13T16:17:38.713Z"
   },
   {
    "duration": 61,
    "start_time": "2022-01-13T16:17:38.946Z"
   },
   {
    "duration": 10,
    "start_time": "2022-01-13T16:17:39.010Z"
   },
   {
    "duration": 39,
    "start_time": "2022-01-13T16:17:39.024Z"
   },
   {
    "duration": 166,
    "start_time": "2022-01-13T16:17:39.068Z"
   },
   {
    "duration": 8,
    "start_time": "2022-01-13T16:17:39.237Z"
   },
   {
    "duration": 40,
    "start_time": "2022-01-13T16:17:39.248Z"
   },
   {
    "duration": 22,
    "start_time": "2022-01-13T16:17:39.294Z"
   },
   {
    "duration": 68,
    "start_time": "2022-01-13T16:17:39.319Z"
   },
   {
    "duration": 15,
    "start_time": "2022-01-13T16:17:39.390Z"
   },
   {
    "duration": 15,
    "start_time": "2022-01-13T16:17:39.408Z"
   },
   {
    "duration": 49,
    "start_time": "2022-01-13T16:17:39.427Z"
   },
   {
    "duration": 14,
    "start_time": "2022-01-13T16:17:39.479Z"
   },
   {
    "duration": 13,
    "start_time": "2022-01-13T16:17:39.496Z"
   },
   {
    "duration": 53,
    "start_time": "2022-01-13T16:17:39.512Z"
   },
   {
    "duration": 148,
    "start_time": "2022-01-13T16:17:39.568Z"
   },
   {
    "duration": 954,
    "start_time": "2022-01-13T16:17:39.719Z"
   },
   {
    "duration": 39,
    "start_time": "2022-01-13T16:17:40.677Z"
   },
   {
    "duration": 68,
    "start_time": "2022-01-13T16:17:40.719Z"
   },
   {
    "duration": 679,
    "start_time": "2022-01-13T16:17:40.790Z"
   },
   {
    "duration": 564,
    "start_time": "2022-01-13T16:17:41.473Z"
   },
   {
    "duration": 447,
    "start_time": "2022-01-13T16:17:42.040Z"
   },
   {
    "duration": 530,
    "start_time": "2022-01-13T16:17:42.495Z"
   },
   {
    "duration": 46,
    "start_time": "2022-01-13T16:17:43.029Z"
   },
   {
    "duration": 461,
    "start_time": "2022-01-13T16:17:43.078Z"
   },
   {
    "duration": 351,
    "start_time": "2022-01-13T16:17:43.542Z"
   },
   {
    "duration": 8,
    "start_time": "2022-01-13T16:17:43.896Z"
   },
   {
    "duration": 199,
    "start_time": "2022-01-13T16:17:43.906Z"
   },
   {
    "duration": 635,
    "start_time": "2022-01-13T16:17:44.108Z"
   },
   {
    "duration": 30,
    "start_time": "2022-01-13T16:17:44.746Z"
   },
   {
    "duration": 17,
    "start_time": "2022-01-13T16:17:44.779Z"
   },
   {
    "duration": 465,
    "start_time": "2022-01-13T16:17:44.799Z"
   },
   {
    "duration": 456,
    "start_time": "2022-01-13T16:17:45.268Z"
   },
   {
    "duration": 649,
    "start_time": "2022-01-13T16:17:45.726Z"
   },
   {
    "duration": 734,
    "start_time": "2022-01-13T16:17:46.378Z"
   },
   {
    "duration": 537,
    "start_time": "2022-01-13T16:17:47.115Z"
   },
   {
    "duration": 442,
    "start_time": "2022-01-13T16:17:47.655Z"
   },
   {
    "duration": 441,
    "start_time": "2022-01-13T16:17:48.101Z"
   },
   {
    "duration": 39,
    "start_time": "2022-01-13T16:17:48.545Z"
   },
   {
    "duration": 520,
    "start_time": "2022-01-13T16:17:48.587Z"
   },
   {
    "duration": 11,
    "start_time": "2022-01-13T16:17:49.110Z"
   },
   {
    "duration": 294,
    "start_time": "2022-01-13T16:17:49.123Z"
   },
   {
    "duration": 217,
    "start_time": "2022-01-13T16:17:49.203Z"
   },
   {
    "duration": 213,
    "start_time": "2022-01-13T16:17:49.209Z"
   },
   {
    "duration": 213,
    "start_time": "2022-01-13T16:17:49.211Z"
   },
   {
    "duration": 209,
    "start_time": "2022-01-13T16:17:49.216Z"
   },
   {
    "duration": 206,
    "start_time": "2022-01-13T16:17:49.221Z"
   },
   {
    "duration": 205,
    "start_time": "2022-01-13T16:17:49.224Z"
   },
   {
    "duration": 202,
    "start_time": "2022-01-13T16:17:49.229Z"
   },
   {
    "duration": 201,
    "start_time": "2022-01-13T16:17:49.231Z"
   },
   {
    "duration": 201,
    "start_time": "2022-01-13T16:17:49.233Z"
   },
   {
    "duration": 338,
    "start_time": "2022-01-13T16:18:16.961Z"
   },
   {
    "duration": 3,
    "start_time": "2022-01-13T16:18:27.031Z"
   },
   {
    "duration": 312,
    "start_time": "2022-01-13T16:18:30.182Z"
   },
   {
    "duration": 68,
    "start_time": "2022-01-13T16:18:30.497Z"
   },
   {
    "duration": 11,
    "start_time": "2022-01-13T16:18:30.569Z"
   },
   {
    "duration": 13,
    "start_time": "2022-01-13T16:18:30.585Z"
   },
   {
    "duration": 156,
    "start_time": "2022-01-13T16:18:30.601Z"
   },
   {
    "duration": 9,
    "start_time": "2022-01-13T16:18:30.764Z"
   },
   {
    "duration": 28,
    "start_time": "2022-01-13T16:18:30.776Z"
   },
   {
    "duration": 31,
    "start_time": "2022-01-13T16:18:30.808Z"
   },
   {
    "duration": 47,
    "start_time": "2022-01-13T16:18:30.842Z"
   },
   {
    "duration": 15,
    "start_time": "2022-01-13T16:18:30.892Z"
   },
   {
    "duration": 30,
    "start_time": "2022-01-13T16:18:30.909Z"
   },
   {
    "duration": 40,
    "start_time": "2022-01-13T16:18:30.941Z"
   },
   {
    "duration": 13,
    "start_time": "2022-01-13T16:18:30.984Z"
   },
   {
    "duration": 10,
    "start_time": "2022-01-13T16:18:31.000Z"
   },
   {
    "duration": 10,
    "start_time": "2022-01-13T16:18:31.012Z"
   },
   {
    "duration": 102,
    "start_time": "2022-01-13T16:18:31.063Z"
   },
   {
    "duration": 968,
    "start_time": "2022-01-13T16:18:31.168Z"
   },
   {
    "duration": 46,
    "start_time": "2022-01-13T16:18:32.139Z"
   },
   {
    "duration": 36,
    "start_time": "2022-01-13T16:18:32.188Z"
   },
   {
    "duration": 536,
    "start_time": "2022-01-13T16:18:32.226Z"
   },
   {
    "duration": 437,
    "start_time": "2022-01-13T16:18:32.765Z"
   },
   {
    "duration": 349,
    "start_time": "2022-01-13T16:18:33.205Z"
   },
   {
    "duration": 536,
    "start_time": "2022-01-13T16:18:33.567Z"
   },
   {
    "duration": 24,
    "start_time": "2022-01-13T16:18:34.106Z"
   },
   {
    "duration": 460,
    "start_time": "2022-01-13T16:18:34.133Z"
   },
   {
    "duration": 265,
    "start_time": "2022-01-13T16:18:34.595Z"
   },
   {
    "duration": 12,
    "start_time": "2022-01-13T16:18:34.863Z"
   },
   {
    "duration": 176,
    "start_time": "2022-01-13T16:18:34.879Z"
   },
   {
    "duration": 663,
    "start_time": "2022-01-13T16:18:35.058Z"
   },
   {
    "duration": 12,
    "start_time": "2022-01-13T16:18:35.724Z"
   },
   {
    "duration": 31,
    "start_time": "2022-01-13T16:18:35.739Z"
   },
   {
    "duration": 368,
    "start_time": "2022-01-13T16:18:35.777Z"
   },
   {
    "duration": 362,
    "start_time": "2022-01-13T16:18:36.148Z"
   },
   {
    "duration": 520,
    "start_time": "2022-01-13T16:18:36.513Z"
   },
   {
    "duration": 685,
    "start_time": "2022-01-13T16:18:37.037Z"
   },
   {
    "duration": 648,
    "start_time": "2022-01-13T16:18:37.725Z"
   },
   {
    "duration": 539,
    "start_time": "2022-01-13T16:18:38.377Z"
   },
   {
    "duration": 506,
    "start_time": "2022-01-13T16:18:38.919Z"
   },
   {
    "duration": 42,
    "start_time": "2022-01-13T16:18:39.428Z"
   },
   {
    "duration": 470,
    "start_time": "2022-01-13T16:18:39.474Z"
   },
   {
    "duration": 23,
    "start_time": "2022-01-13T16:18:39.948Z"
   },
   {
    "duration": 6,
    "start_time": "2022-01-13T16:18:39.975Z"
   },
   {
    "duration": 17,
    "start_time": "2022-01-13T16:18:39.984Z"
   },
   {
    "duration": 120,
    "start_time": "2022-01-13T16:18:40.004Z"
   },
   {
    "duration": 427,
    "start_time": "2022-01-13T16:18:40.127Z"
   },
   {
    "duration": 30,
    "start_time": "2022-01-13T16:18:40.556Z"
   },
   {
    "duration": 917,
    "start_time": "2022-01-13T16:18:40.589Z"
   },
   {
    "duration": 871,
    "start_time": "2022-01-13T16:18:41.510Z"
   },
   {
    "duration": 20,
    "start_time": "2022-01-13T16:18:42.384Z"
   },
   {
    "duration": 833,
    "start_time": "2022-01-13T16:18:42.406Z"
   },
   {
    "duration": 1047,
    "start_time": "2022-01-13T16:18:43.241Z"
   },
   {
    "duration": 264,
    "start_time": "2022-01-13T16:45:24.315Z"
   },
   {
    "duration": 58,
    "start_time": "2022-01-13T16:45:24.583Z"
   },
   {
    "duration": 24,
    "start_time": "2022-01-13T16:45:24.644Z"
   },
   {
    "duration": 12,
    "start_time": "2022-01-13T16:45:24.671Z"
   },
   {
    "duration": 172,
    "start_time": "2022-01-13T16:45:24.686Z"
   },
   {
    "duration": 5,
    "start_time": "2022-01-13T16:45:24.864Z"
   },
   {
    "duration": 24,
    "start_time": "2022-01-13T16:45:24.872Z"
   },
   {
    "duration": 32,
    "start_time": "2022-01-13T16:45:25.049Z"
   },
   {
    "duration": 23,
    "start_time": "2022-01-13T16:45:25.085Z"
   },
   {
    "duration": 16,
    "start_time": "2022-01-13T16:45:25.111Z"
   },
   {
    "duration": 20,
    "start_time": "2022-01-13T16:45:25.164Z"
   },
   {
    "duration": 15,
    "start_time": "2022-01-13T16:45:25.187Z"
   },
   {
    "duration": 11,
    "start_time": "2022-01-13T16:45:25.205Z"
   },
   {
    "duration": 46,
    "start_time": "2022-01-13T16:45:25.219Z"
   },
   {
    "duration": 10,
    "start_time": "2022-01-13T16:45:25.268Z"
   },
   {
    "duration": 107,
    "start_time": "2022-01-13T16:45:25.281Z"
   },
   {
    "duration": 818,
    "start_time": "2022-01-13T16:45:25.391Z"
   },
   {
    "duration": 23,
    "start_time": "2022-01-13T16:45:26.211Z"
   },
   {
    "duration": 72,
    "start_time": "2022-01-13T16:45:26.237Z"
   },
   {
    "duration": 523,
    "start_time": "2022-01-13T16:45:26.312Z"
   },
   {
    "duration": 653,
    "start_time": "2022-01-13T16:45:26.838Z"
   },
   {
    "duration": 451,
    "start_time": "2022-01-13T16:45:27.493Z"
   },
   {
    "duration": 427,
    "start_time": "2022-01-13T16:45:27.949Z"
   },
   {
    "duration": 24,
    "start_time": "2022-01-13T16:45:28.379Z"
   },
   {
    "duration": 351,
    "start_time": "2022-01-13T16:45:28.406Z"
   },
   {
    "duration": 259,
    "start_time": "2022-01-13T16:45:28.759Z"
   },
   {
    "duration": 8,
    "start_time": "2022-01-13T16:45:29.020Z"
   },
   {
    "duration": 150,
    "start_time": "2022-01-13T16:45:29.030Z"
   },
   {
    "duration": 572,
    "start_time": "2022-01-13T16:45:29.183Z"
   },
   {
    "duration": 14,
    "start_time": "2022-01-13T16:45:29.763Z"
   },
   {
    "duration": 15,
    "start_time": "2022-01-13T16:45:29.779Z"
   },
   {
    "duration": 354,
    "start_time": "2022-01-13T16:45:29.797Z"
   },
   {
    "duration": 344,
    "start_time": "2022-01-13T16:45:30.153Z"
   },
   {
    "duration": 479,
    "start_time": "2022-01-13T16:45:30.500Z"
   },
   {
    "duration": 483,
    "start_time": "2022-01-13T16:45:30.982Z"
   },
   {
    "duration": 400,
    "start_time": "2022-01-13T16:45:31.468Z"
   },
   {
    "duration": 385,
    "start_time": "2022-01-13T16:45:31.871Z"
   },
   {
    "duration": 379,
    "start_time": "2022-01-13T16:45:32.262Z"
   },
   {
    "duration": 26,
    "start_time": "2022-01-13T16:45:32.644Z"
   },
   {
    "duration": 484,
    "start_time": "2022-01-13T16:45:32.673Z"
   },
   {
    "duration": 8,
    "start_time": "2022-01-13T16:45:33.163Z"
   },
   {
    "duration": 6,
    "start_time": "2022-01-13T16:45:33.173Z"
   },
   {
    "duration": 11,
    "start_time": "2022-01-13T16:45:33.181Z"
   },
   {
    "duration": 98,
    "start_time": "2022-01-13T16:45:33.194Z"
   },
   {
    "duration": 357,
    "start_time": "2022-01-13T16:45:33.295Z"
   },
   {
    "duration": 27,
    "start_time": "2022-01-13T16:45:33.655Z"
   },
   {
    "duration": 866,
    "start_time": "2022-01-13T16:45:33.685Z"
   },
   {
    "duration": 752,
    "start_time": "2022-01-13T16:45:34.554Z"
   },
   {
    "duration": 15,
    "start_time": "2022-01-13T16:45:35.309Z"
   },
   {
    "duration": 799,
    "start_time": "2022-01-13T16:45:35.327Z"
   },
   {
    "duration": 945,
    "start_time": "2022-01-13T16:45:36.129Z"
   },
   {
    "duration": 995,
    "start_time": "2022-01-13T16:49:12.350Z"
   },
   {
    "duration": 52,
    "start_time": "2022-01-13T16:49:13.348Z"
   },
   {
    "duration": 10,
    "start_time": "2022-01-13T16:49:13.403Z"
   },
   {
    "duration": 17,
    "start_time": "2022-01-13T16:49:13.417Z"
   },
   {
    "duration": 121,
    "start_time": "2022-01-13T16:49:13.464Z"
   },
   {
    "duration": 6,
    "start_time": "2022-01-13T16:49:13.588Z"
   },
   {
    "duration": 17,
    "start_time": "2022-01-13T16:49:13.596Z"
   },
   {
    "duration": 61,
    "start_time": "2022-01-13T16:49:13.617Z"
   },
   {
    "duration": 21,
    "start_time": "2022-01-13T16:49:13.682Z"
   },
   {
    "duration": 13,
    "start_time": "2022-01-13T16:49:13.706Z"
   },
   {
    "duration": 48,
    "start_time": "2022-01-13T16:49:13.721Z"
   },
   {
    "duration": 10,
    "start_time": "2022-01-13T16:49:13.771Z"
   },
   {
    "duration": 10,
    "start_time": "2022-01-13T16:49:13.784Z"
   },
   {
    "duration": 9,
    "start_time": "2022-01-13T16:49:13.797Z"
   },
   {
    "duration": 8,
    "start_time": "2022-01-13T16:49:13.809Z"
   },
   {
    "duration": 99,
    "start_time": "2022-01-13T16:49:13.864Z"
   },
   {
    "duration": 953,
    "start_time": "2022-01-13T16:49:13.965Z"
   },
   {
    "duration": 44,
    "start_time": "2022-01-13T16:49:14.920Z"
   },
   {
    "duration": 36,
    "start_time": "2022-01-13T16:49:14.967Z"
   },
   {
    "duration": 818,
    "start_time": "2022-01-13T16:49:15.005Z"
   },
   {
    "duration": 417,
    "start_time": "2022-01-13T16:49:15.826Z"
   },
   {
    "duration": 368,
    "start_time": "2022-01-13T16:49:16.245Z"
   },
   {
    "duration": 566,
    "start_time": "2022-01-13T16:49:16.619Z"
   },
   {
    "duration": 24,
    "start_time": "2022-01-13T16:49:17.188Z"
   },
   {
    "duration": 566,
    "start_time": "2022-01-13T16:49:17.214Z"
   },
   {
    "duration": 508,
    "start_time": "2022-01-13T16:49:17.783Z"
   },
   {
    "duration": 8,
    "start_time": "2022-01-13T16:49:18.293Z"
   },
   {
    "duration": 176,
    "start_time": "2022-01-13T16:49:18.303Z"
   },
   {
    "duration": 474,
    "start_time": "2022-01-13T16:49:18.481Z"
   },
   {
    "duration": 11,
    "start_time": "2022-01-13T16:49:18.962Z"
   },
   {
    "duration": 13,
    "start_time": "2022-01-13T16:49:18.976Z"
   },
   {
    "duration": 357,
    "start_time": "2022-01-13T16:49:18.992Z"
   },
   {
    "duration": 365,
    "start_time": "2022-01-13T16:49:19.353Z"
   },
   {
    "duration": 557,
    "start_time": "2022-01-13T16:49:19.721Z"
   },
   {
    "duration": 490,
    "start_time": "2022-01-13T16:49:20.280Z"
   },
   {
    "duration": 400,
    "start_time": "2022-01-13T16:49:20.772Z"
   },
   {
    "duration": 405,
    "start_time": "2022-01-13T16:49:21.175Z"
   },
   {
    "duration": 393,
    "start_time": "2022-01-13T16:49:21.583Z"
   },
   {
    "duration": 19,
    "start_time": "2022-01-13T16:49:21.980Z"
   },
   {
    "duration": 407,
    "start_time": "2022-01-13T16:49:22.002Z"
   },
   {
    "duration": 8,
    "start_time": "2022-01-13T16:49:22.411Z"
   },
   {
    "duration": 5,
    "start_time": "2022-01-13T16:49:22.422Z"
   },
   {
    "duration": 38,
    "start_time": "2022-01-13T16:49:22.430Z"
   },
   {
    "duration": 71,
    "start_time": "2022-01-13T16:49:22.470Z"
   },
   {
    "duration": 363,
    "start_time": "2022-01-13T16:49:22.563Z"
   },
   {
    "duration": 35,
    "start_time": "2022-01-13T16:49:22.929Z"
   },
   {
    "duration": 770,
    "start_time": "2022-01-13T16:49:22.966Z"
   },
   {
    "duration": 714,
    "start_time": "2022-01-13T16:49:23.739Z"
   },
   {
    "duration": 15,
    "start_time": "2022-01-13T16:49:24.462Z"
   },
   {
    "duration": 865,
    "start_time": "2022-01-13T16:49:24.479Z"
   },
   {
    "duration": 941,
    "start_time": "2022-01-13T16:49:25.346Z"
   },
   {
    "duration": 1028,
    "start_time": "2022-01-14T11:53:00.613Z"
   },
   {
    "duration": 63,
    "start_time": "2022-01-14T11:53:01.644Z"
   },
   {
    "duration": 10,
    "start_time": "2022-01-14T11:53:01.710Z"
   },
   {
    "duration": 21,
    "start_time": "2022-01-14T11:53:01.723Z"
   },
   {
    "duration": 155,
    "start_time": "2022-01-14T11:53:01.746Z"
   },
   {
    "duration": 7,
    "start_time": "2022-01-14T11:53:01.904Z"
   },
   {
    "duration": 18,
    "start_time": "2022-01-14T11:53:01.913Z"
   },
   {
    "duration": 24,
    "start_time": "2022-01-14T11:53:01.966Z"
   },
   {
    "duration": 23,
    "start_time": "2022-01-14T11:53:01.994Z"
   },
   {
    "duration": 50,
    "start_time": "2022-01-14T11:53:02.019Z"
   },
   {
    "duration": 19,
    "start_time": "2022-01-14T11:53:02.072Z"
   },
   {
    "duration": 13,
    "start_time": "2022-01-14T11:53:02.094Z"
   },
   {
    "duration": 12,
    "start_time": "2022-01-14T11:53:02.110Z"
   },
   {
    "duration": 55,
    "start_time": "2022-01-14T11:53:02.125Z"
   },
   {
    "duration": 9,
    "start_time": "2022-01-14T11:53:02.183Z"
   },
   {
    "duration": 111,
    "start_time": "2022-01-14T11:53:02.195Z"
   },
   {
    "duration": 833,
    "start_time": "2022-01-14T11:53:02.309Z"
   },
   {
    "duration": 40,
    "start_time": "2022-01-14T11:53:03.145Z"
   },
   {
    "duration": 35,
    "start_time": "2022-01-14T11:53:03.188Z"
   },
   {
    "duration": 674,
    "start_time": "2022-01-14T11:53:03.225Z"
   },
   {
    "duration": 406,
    "start_time": "2022-01-14T11:53:03.902Z"
   },
   {
    "duration": 338,
    "start_time": "2022-01-14T11:53:04.310Z"
   },
   {
    "duration": 404,
    "start_time": "2022-01-14T11:53:04.653Z"
   },
   {
    "duration": 26,
    "start_time": "2022-01-14T11:53:05.063Z"
   },
   {
    "duration": 362,
    "start_time": "2022-01-14T11:53:05.093Z"
   },
   {
    "duration": 261,
    "start_time": "2022-01-14T11:53:05.462Z"
   },
   {
    "duration": 7,
    "start_time": "2022-01-14T11:53:05.726Z"
   },
   {
    "duration": 159,
    "start_time": "2022-01-14T11:53:05.736Z"
   },
   {
    "duration": 467,
    "start_time": "2022-01-14T11:53:05.898Z"
   },
   {
    "duration": 12,
    "start_time": "2022-01-14T11:53:06.367Z"
   },
   {
    "duration": 15,
    "start_time": "2022-01-14T11:53:06.381Z"
   },
   {
    "duration": 354,
    "start_time": "2022-01-14T11:53:06.399Z"
   },
   {
    "duration": 372,
    "start_time": "2022-01-14T11:53:06.763Z"
   },
   {
    "duration": 568,
    "start_time": "2022-01-14T11:53:07.139Z"
   },
   {
    "duration": 465,
    "start_time": "2022-01-14T11:53:07.710Z"
   },
   {
    "duration": 379,
    "start_time": "2022-01-14T11:53:08.177Z"
   },
   {
    "duration": 389,
    "start_time": "2022-01-14T11:53:08.562Z"
   },
   {
    "duration": 391,
    "start_time": "2022-01-14T11:53:08.954Z"
   },
   {
    "duration": 28,
    "start_time": "2022-01-14T11:53:09.348Z"
   },
   {
    "duration": 402,
    "start_time": "2022-01-14T11:53:09.378Z"
   },
   {
    "duration": 10,
    "start_time": "2022-01-14T11:53:09.783Z"
   },
   {
    "duration": 7,
    "start_time": "2022-01-14T11:53:09.795Z"
   },
   {
    "duration": 411,
    "start_time": "2022-01-14T11:54:07.332Z"
   },
   {
    "duration": 37,
    "start_time": "2022-01-14T11:54:45.044Z"
   },
   {
    "duration": 30,
    "start_time": "2022-01-14T11:54:56.861Z"
   },
   {
    "duration": 40,
    "start_time": "2022-01-14T11:55:15.689Z"
   },
   {
    "duration": 13,
    "start_time": "2022-01-14T11:56:17.679Z"
   },
   {
    "duration": 11,
    "start_time": "2022-01-14T11:56:40.211Z"
   },
   {
    "duration": 114,
    "start_time": "2022-01-14T11:57:23.278Z"
   },
   {
    "duration": 345,
    "start_time": "2022-01-14T11:57:29.224Z"
   },
   {
    "duration": 27,
    "start_time": "2022-01-14T11:57:34.982Z"
   },
   {
    "duration": 24,
    "start_time": "2022-01-14T11:57:42.847Z"
   },
   {
    "duration": 21,
    "start_time": "2022-01-14T11:57:52.853Z"
   }
  ],
  "kernelspec": {
   "display_name": "Python 3.10.4 64-bit",
   "language": "python",
   "name": "python3"
  },
  "language_info": {
   "codemirror_mode": {
    "name": "ipython",
    "version": 3
   },
   "file_extension": ".py",
   "mimetype": "text/x-python",
   "name": "python",
   "nbconvert_exporter": "python",
   "pygments_lexer": "ipython3",
   "version": "3.10.4"
  },
  "toc": {
   "base_numbering": 1,
   "nav_menu": {},
   "number_sections": true,
   "sideBar": true,
   "skip_h1_title": true,
   "title_cell": "Содержание",
   "title_sidebar": "Contents",
   "toc_cell": true,
   "toc_position": {},
   "toc_section_display": true,
   "toc_window_display": true
  },
  "vscode": {
   "interpreter": {
    "hash": "2469a70536e4d2335a2ea8907942d0699c37342a371ac185bdb5b0aa6f073890"
   }
  }
 },
 "nbformat": 4,
 "nbformat_minor": 2
}
