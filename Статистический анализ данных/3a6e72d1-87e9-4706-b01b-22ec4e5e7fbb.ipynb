{
 "cells": [
  {
   "cell_type": "markdown",
   "metadata": {},
   "source": [
    "# Определение перспективного тарифа для телеком-компании"
   ]
  },
  {
   "cell_type": "markdown",
   "metadata": {},
   "source": [
    "<b>Описание данных:</b><br>\n",
    "Таблица <b>users</b> (информация о пользователях):\n",
    "<li>user_id — уникальный идентификатор пользователя</li>\n",
    "<li>first_name — имя пользователя</li>\n",
    "<li>last_name — фамилия пользователя</li>\n",
    "<li>age — возраст пользователя (годы)</li>\n",
    "<li>reg_date — дата подключения тарифа (день, месяц, год)</li>\n",
    "<li>churn_date — дата прекращения пользования тарифом (если значение пропущено, то тариф ещё действовал на момент выгрузки данных)</li>\n",
    "<li>city — город проживания пользователя</li>\n",
    "<li>tarif — название тарифного плана</li><br>\n",
    "Таблица <b>calls</b> (информация о звонках):\n",
    "<li>id — уникальный номер звонка</li>\n",
    "<li>call_date — дата звонка</li>\n",
    "<li>duration — длительность звонка в минутах</li>\n",
    "<li>user_id — идентификатор пользователя, сделавшего звонок</li><br>\n",
    "Таблица <b>messages</b> (информация о сообщениях):\n",
    "<li>id — уникальный номер сообщения</li>\n",
    "<li>message_date — дата сообщения</li>\n",
    "<li>user_id — идентификатор пользователя, отправившего сообщение</li><br>\n",
    "Таблица <b>internet</b> (информация об интернет-сессиях):\n",
    "<li>id — уникальный номер сессии</li>\n",
    "<li>mb_used — объём потраченного за сессию интернет-трафика (в мегабайтах)</li>\n",
    "<li>session_date — дата интернет-сессии</li>\n",
    "<li>user_id — идентификатор пользователя</li><br>\n",
    "Таблица <b>tariffs</b> (информация о тарифах):\n",
    "<li>tariff_name — название тарифа</li>\n",
    "<li>rub_monthly_fee — ежемесячная абонентская плата в рублях</li>\n",
    "<li>minutes_included — количество минут разговора в месяц, включённых в абонентскую плату</li>\n",
    "<li>messages_included — количество сообщений в месяц, включённых в абонентскую плату</li>\n",
    "<li>mb_per_month_included — объём интернет-трафика, включённого в абонентскую плату (в мегабайтах)</li>\n",
    "<li>rub_per_minute — стоимость минуты разговора сверх тарифного пакета (например, если в тарифе 100 минут разговора в месяц, то со 101 минуты будет взиматься плата)</li>\n",
    "<li>rub_per_message — стоимость отправки сообщения сверх тарифного пакета</li>\n",
    "<li>rub_per_gb — стоимость дополнительного гигабайта интернет-трафика сверх тарифного пакета (1 гигабайт = 1024 мегабайта)</li>"
   ]
  },
  {
   "cell_type": "markdown",
   "metadata": {},
   "source": [
    "## Изучение данных из файлов"
   ]
  },
  {
   "cell_type": "code",
   "execution_count": 1,
   "metadata": {},
   "outputs": [],
   "source": [
    "import pandas as pd\n",
    "import numpy as np\n",
    "from functools import reduce\n",
    "import matplotlib.pyplot as plt\n",
    "from scipy import stats"
   ]
  },
  {
   "cell_type": "code",
   "execution_count": 2,
   "metadata": {},
   "outputs": [],
   "source": [
    "pd.set_option('display.max_columns', None)\n",
    "pd.set_option('display.max_rows', 20)"
   ]
  },
  {
   "cell_type": "code",
   "execution_count": 3,
   "metadata": {},
   "outputs": [
    {
     "data": {
      "text/html": [
       "<div>\n",
       "<style scoped>\n",
       "    .dataframe tbody tr th:only-of-type {\n",
       "        vertical-align: middle;\n",
       "    }\n",
       "\n",
       "    .dataframe tbody tr th {\n",
       "        vertical-align: top;\n",
       "    }\n",
       "\n",
       "    .dataframe thead th {\n",
       "        text-align: right;\n",
       "    }\n",
       "</style>\n",
       "<table border=\"1\" class=\"dataframe\">\n",
       "  <thead>\n",
       "    <tr style=\"text-align: right;\">\n",
       "      <th></th>\n",
       "      <th>user_id</th>\n",
       "      <th>age</th>\n",
       "      <th>churn_date</th>\n",
       "      <th>city</th>\n",
       "      <th>first_name</th>\n",
       "      <th>last_name</th>\n",
       "      <th>reg_date</th>\n",
       "      <th>tariff</th>\n",
       "    </tr>\n",
       "  </thead>\n",
       "  <tbody>\n",
       "    <tr>\n",
       "      <td>0</td>\n",
       "      <td>1000</td>\n",
       "      <td>52</td>\n",
       "      <td>NaN</td>\n",
       "      <td>Краснодар</td>\n",
       "      <td>Рафаил</td>\n",
       "      <td>Верещагин</td>\n",
       "      <td>2018-05-25</td>\n",
       "      <td>ultra</td>\n",
       "    </tr>\n",
       "    <tr>\n",
       "      <td>1</td>\n",
       "      <td>1001</td>\n",
       "      <td>41</td>\n",
       "      <td>NaN</td>\n",
       "      <td>Москва</td>\n",
       "      <td>Иван</td>\n",
       "      <td>Ежов</td>\n",
       "      <td>2018-11-01</td>\n",
       "      <td>smart</td>\n",
       "    </tr>\n",
       "    <tr>\n",
       "      <td>2</td>\n",
       "      <td>1002</td>\n",
       "      <td>59</td>\n",
       "      <td>NaN</td>\n",
       "      <td>Стерлитамак</td>\n",
       "      <td>Евгений</td>\n",
       "      <td>Абрамович</td>\n",
       "      <td>2018-06-17</td>\n",
       "      <td>smart</td>\n",
       "    </tr>\n",
       "    <tr>\n",
       "      <td>3</td>\n",
       "      <td>1003</td>\n",
       "      <td>23</td>\n",
       "      <td>NaN</td>\n",
       "      <td>Москва</td>\n",
       "      <td>Белла</td>\n",
       "      <td>Белякова</td>\n",
       "      <td>2018-08-17</td>\n",
       "      <td>ultra</td>\n",
       "    </tr>\n",
       "    <tr>\n",
       "      <td>4</td>\n",
       "      <td>1004</td>\n",
       "      <td>68</td>\n",
       "      <td>NaN</td>\n",
       "      <td>Новокузнецк</td>\n",
       "      <td>Татьяна</td>\n",
       "      <td>Авдеенко</td>\n",
       "      <td>2018-05-14</td>\n",
       "      <td>ultra</td>\n",
       "    </tr>\n",
       "    <tr>\n",
       "      <td>...</td>\n",
       "      <td>...</td>\n",
       "      <td>...</td>\n",
       "      <td>...</td>\n",
       "      <td>...</td>\n",
       "      <td>...</td>\n",
       "      <td>...</td>\n",
       "      <td>...</td>\n",
       "      <td>...</td>\n",
       "    </tr>\n",
       "    <tr>\n",
       "      <td>495</td>\n",
       "      <td>1495</td>\n",
       "      <td>65</td>\n",
       "      <td>NaN</td>\n",
       "      <td>Иркутск</td>\n",
       "      <td>Авксентий</td>\n",
       "      <td>Фокин</td>\n",
       "      <td>2018-08-28</td>\n",
       "      <td>ultra</td>\n",
       "    </tr>\n",
       "    <tr>\n",
       "      <td>496</td>\n",
       "      <td>1496</td>\n",
       "      <td>36</td>\n",
       "      <td>NaN</td>\n",
       "      <td>Вологда</td>\n",
       "      <td>Трифон</td>\n",
       "      <td>Блохин</td>\n",
       "      <td>2018-01-27</td>\n",
       "      <td>smart</td>\n",
       "    </tr>\n",
       "    <tr>\n",
       "      <td>497</td>\n",
       "      <td>1497</td>\n",
       "      <td>32</td>\n",
       "      <td>NaN</td>\n",
       "      <td>Челябинск</td>\n",
       "      <td>Каролина</td>\n",
       "      <td>Агеева</td>\n",
       "      <td>2018-10-09</td>\n",
       "      <td>smart</td>\n",
       "    </tr>\n",
       "    <tr>\n",
       "      <td>498</td>\n",
       "      <td>1498</td>\n",
       "      <td>68</td>\n",
       "      <td>2018-10-25</td>\n",
       "      <td>Владикавказ</td>\n",
       "      <td>Всеволод</td>\n",
       "      <td>Акимчин</td>\n",
       "      <td>2018-07-19</td>\n",
       "      <td>smart</td>\n",
       "    </tr>\n",
       "    <tr>\n",
       "      <td>499</td>\n",
       "      <td>1499</td>\n",
       "      <td>35</td>\n",
       "      <td>NaN</td>\n",
       "      <td>Пермь</td>\n",
       "      <td>Гектор</td>\n",
       "      <td>Корнилов</td>\n",
       "      <td>2018-09-27</td>\n",
       "      <td>smart</td>\n",
       "    </tr>\n",
       "  </tbody>\n",
       "</table>\n",
       "<p>500 rows × 8 columns</p>\n",
       "</div>"
      ],
      "text/plain": [
       "     user_id  age  churn_date         city first_name  last_name    reg_date  \\\n",
       "0       1000   52         NaN    Краснодар     Рафаил  Верещагин  2018-05-25   \n",
       "1       1001   41         NaN       Москва       Иван       Ежов  2018-11-01   \n",
       "2       1002   59         NaN  Стерлитамак    Евгений  Абрамович  2018-06-17   \n",
       "3       1003   23         NaN       Москва      Белла   Белякова  2018-08-17   \n",
       "4       1004   68         NaN  Новокузнецк    Татьяна   Авдеенко  2018-05-14   \n",
       "..       ...  ...         ...          ...        ...        ...         ...   \n",
       "495     1495   65         NaN      Иркутск  Авксентий      Фокин  2018-08-28   \n",
       "496     1496   36         NaN      Вологда     Трифон     Блохин  2018-01-27   \n",
       "497     1497   32         NaN    Челябинск   Каролина     Агеева  2018-10-09   \n",
       "498     1498   68  2018-10-25  Владикавказ   Всеволод    Акимчин  2018-07-19   \n",
       "499     1499   35         NaN        Пермь     Гектор   Корнилов  2018-09-27   \n",
       "\n",
       "    tariff  \n",
       "0    ultra  \n",
       "1    smart  \n",
       "2    smart  \n",
       "3    ultra  \n",
       "4    ultra  \n",
       "..     ...  \n",
       "495  ultra  \n",
       "496  smart  \n",
       "497  smart  \n",
       "498  smart  \n",
       "499  smart  \n",
       "\n",
       "[500 rows x 8 columns]"
      ]
     },
     "metadata": {},
     "output_type": "display_data"
    },
    {
     "name": "stdout",
     "output_type": "stream",
     "text": [
      "<class 'pandas.core.frame.DataFrame'>\n",
      "RangeIndex: 500 entries, 0 to 499\n",
      "Data columns (total 8 columns):\n",
      "user_id       500 non-null int64\n",
      "age           500 non-null int64\n",
      "churn_date    38 non-null object\n",
      "city          500 non-null object\n",
      "first_name    500 non-null object\n",
      "last_name     500 non-null object\n",
      "reg_date      500 non-null object\n",
      "tariff        500 non-null object\n",
      "dtypes: int64(2), object(6)\n",
      "memory usage: 31.4+ KB\n"
     ]
    }
   ],
   "source": [
    "data_users = pd.read_csv('/datasets/users.csv')\n",
    "display(data_users)\n",
    "data_users.info()"
   ]
  },
  {
   "cell_type": "code",
   "execution_count": 4,
   "metadata": {},
   "outputs": [
    {
     "data": {
      "text/html": [
       "<div>\n",
       "<style scoped>\n",
       "    .dataframe tbody tr th:only-of-type {\n",
       "        vertical-align: middle;\n",
       "    }\n",
       "\n",
       "    .dataframe tbody tr th {\n",
       "        vertical-align: top;\n",
       "    }\n",
       "\n",
       "    .dataframe thead th {\n",
       "        text-align: right;\n",
       "    }\n",
       "</style>\n",
       "<table border=\"1\" class=\"dataframe\">\n",
       "  <thead>\n",
       "    <tr style=\"text-align: right;\">\n",
       "      <th></th>\n",
       "      <th>id</th>\n",
       "      <th>call_date</th>\n",
       "      <th>duration</th>\n",
       "      <th>user_id</th>\n",
       "    </tr>\n",
       "  </thead>\n",
       "  <tbody>\n",
       "    <tr>\n",
       "      <td>0</td>\n",
       "      <td>1000_0</td>\n",
       "      <td>2018-07-25</td>\n",
       "      <td>0.00</td>\n",
       "      <td>1000</td>\n",
       "    </tr>\n",
       "    <tr>\n",
       "      <td>1</td>\n",
       "      <td>1000_1</td>\n",
       "      <td>2018-08-17</td>\n",
       "      <td>0.00</td>\n",
       "      <td>1000</td>\n",
       "    </tr>\n",
       "    <tr>\n",
       "      <td>2</td>\n",
       "      <td>1000_2</td>\n",
       "      <td>2018-06-11</td>\n",
       "      <td>2.85</td>\n",
       "      <td>1000</td>\n",
       "    </tr>\n",
       "    <tr>\n",
       "      <td>3</td>\n",
       "      <td>1000_3</td>\n",
       "      <td>2018-09-21</td>\n",
       "      <td>13.80</td>\n",
       "      <td>1000</td>\n",
       "    </tr>\n",
       "    <tr>\n",
       "      <td>4</td>\n",
       "      <td>1000_4</td>\n",
       "      <td>2018-12-15</td>\n",
       "      <td>5.18</td>\n",
       "      <td>1000</td>\n",
       "    </tr>\n",
       "    <tr>\n",
       "      <td>...</td>\n",
       "      <td>...</td>\n",
       "      <td>...</td>\n",
       "      <td>...</td>\n",
       "      <td>...</td>\n",
       "    </tr>\n",
       "    <tr>\n",
       "      <td>202602</td>\n",
       "      <td>1499_215</td>\n",
       "      <td>2018-12-26</td>\n",
       "      <td>0.76</td>\n",
       "      <td>1499</td>\n",
       "    </tr>\n",
       "    <tr>\n",
       "      <td>202603</td>\n",
       "      <td>1499_216</td>\n",
       "      <td>2018-10-18</td>\n",
       "      <td>18.83</td>\n",
       "      <td>1499</td>\n",
       "    </tr>\n",
       "    <tr>\n",
       "      <td>202604</td>\n",
       "      <td>1499_217</td>\n",
       "      <td>2018-11-10</td>\n",
       "      <td>10.81</td>\n",
       "      <td>1499</td>\n",
       "    </tr>\n",
       "    <tr>\n",
       "      <td>202605</td>\n",
       "      <td>1499_218</td>\n",
       "      <td>2018-10-06</td>\n",
       "      <td>4.27</td>\n",
       "      <td>1499</td>\n",
       "    </tr>\n",
       "    <tr>\n",
       "      <td>202606</td>\n",
       "      <td>1499_219</td>\n",
       "      <td>2018-12-14</td>\n",
       "      <td>19.62</td>\n",
       "      <td>1499</td>\n",
       "    </tr>\n",
       "  </tbody>\n",
       "</table>\n",
       "<p>202607 rows × 4 columns</p>\n",
       "</div>"
      ],
      "text/plain": [
       "              id   call_date  duration  user_id\n",
       "0         1000_0  2018-07-25      0.00     1000\n",
       "1         1000_1  2018-08-17      0.00     1000\n",
       "2         1000_2  2018-06-11      2.85     1000\n",
       "3         1000_3  2018-09-21     13.80     1000\n",
       "4         1000_4  2018-12-15      5.18     1000\n",
       "...          ...         ...       ...      ...\n",
       "202602  1499_215  2018-12-26      0.76     1499\n",
       "202603  1499_216  2018-10-18     18.83     1499\n",
       "202604  1499_217  2018-11-10     10.81     1499\n",
       "202605  1499_218  2018-10-06      4.27     1499\n",
       "202606  1499_219  2018-12-14     19.62     1499\n",
       "\n",
       "[202607 rows x 4 columns]"
      ]
     },
     "metadata": {},
     "output_type": "display_data"
    },
    {
     "name": "stdout",
     "output_type": "stream",
     "text": [
      "<class 'pandas.core.frame.DataFrame'>\n",
      "RangeIndex: 202607 entries, 0 to 202606\n",
      "Data columns (total 4 columns):\n",
      "id           202607 non-null object\n",
      "call_date    202607 non-null object\n",
      "duration     202607 non-null float64\n",
      "user_id      202607 non-null int64\n",
      "dtypes: float64(1), int64(1), object(2)\n",
      "memory usage: 6.2+ MB\n"
     ]
    }
   ],
   "source": [
    "data_calls = pd.read_csv('/datasets/calls.csv')\n",
    "display(data_calls)\n",
    "data_calls.info()"
   ]
  },
  {
   "cell_type": "code",
   "execution_count": 5,
   "metadata": {},
   "outputs": [
    {
     "data": {
      "text/html": [
       "<div>\n",
       "<style scoped>\n",
       "    .dataframe tbody tr th:only-of-type {\n",
       "        vertical-align: middle;\n",
       "    }\n",
       "\n",
       "    .dataframe tbody tr th {\n",
       "        vertical-align: top;\n",
       "    }\n",
       "\n",
       "    .dataframe thead th {\n",
       "        text-align: right;\n",
       "    }\n",
       "</style>\n",
       "<table border=\"1\" class=\"dataframe\">\n",
       "  <thead>\n",
       "    <tr style=\"text-align: right;\">\n",
       "      <th></th>\n",
       "      <th>id</th>\n",
       "      <th>message_date</th>\n",
       "      <th>user_id</th>\n",
       "    </tr>\n",
       "  </thead>\n",
       "  <tbody>\n",
       "    <tr>\n",
       "      <td>0</td>\n",
       "      <td>1000_0</td>\n",
       "      <td>2018-06-27</td>\n",
       "      <td>1000</td>\n",
       "    </tr>\n",
       "    <tr>\n",
       "      <td>1</td>\n",
       "      <td>1000_1</td>\n",
       "      <td>2018-10-08</td>\n",
       "      <td>1000</td>\n",
       "    </tr>\n",
       "    <tr>\n",
       "      <td>2</td>\n",
       "      <td>1000_2</td>\n",
       "      <td>2018-08-04</td>\n",
       "      <td>1000</td>\n",
       "    </tr>\n",
       "    <tr>\n",
       "      <td>3</td>\n",
       "      <td>1000_3</td>\n",
       "      <td>2018-06-16</td>\n",
       "      <td>1000</td>\n",
       "    </tr>\n",
       "    <tr>\n",
       "      <td>4</td>\n",
       "      <td>1000_4</td>\n",
       "      <td>2018-12-05</td>\n",
       "      <td>1000</td>\n",
       "    </tr>\n",
       "    <tr>\n",
       "      <td>...</td>\n",
       "      <td>...</td>\n",
       "      <td>...</td>\n",
       "      <td>...</td>\n",
       "    </tr>\n",
       "    <tr>\n",
       "      <td>123031</td>\n",
       "      <td>1499_179</td>\n",
       "      <td>2018-12-12</td>\n",
       "      <td>1499</td>\n",
       "    </tr>\n",
       "    <tr>\n",
       "      <td>123032</td>\n",
       "      <td>1499_180</td>\n",
       "      <td>2018-09-28</td>\n",
       "      <td>1499</td>\n",
       "    </tr>\n",
       "    <tr>\n",
       "      <td>123033</td>\n",
       "      <td>1499_181</td>\n",
       "      <td>2018-09-27</td>\n",
       "      <td>1499</td>\n",
       "    </tr>\n",
       "    <tr>\n",
       "      <td>123034</td>\n",
       "      <td>1499_182</td>\n",
       "      <td>2018-11-15</td>\n",
       "      <td>1499</td>\n",
       "    </tr>\n",
       "    <tr>\n",
       "      <td>123035</td>\n",
       "      <td>1499_183</td>\n",
       "      <td>2018-11-16</td>\n",
       "      <td>1499</td>\n",
       "    </tr>\n",
       "  </tbody>\n",
       "</table>\n",
       "<p>123036 rows × 3 columns</p>\n",
       "</div>"
      ],
      "text/plain": [
       "              id message_date  user_id\n",
       "0         1000_0   2018-06-27     1000\n",
       "1         1000_1   2018-10-08     1000\n",
       "2         1000_2   2018-08-04     1000\n",
       "3         1000_3   2018-06-16     1000\n",
       "4         1000_4   2018-12-05     1000\n",
       "...          ...          ...      ...\n",
       "123031  1499_179   2018-12-12     1499\n",
       "123032  1499_180   2018-09-28     1499\n",
       "123033  1499_181   2018-09-27     1499\n",
       "123034  1499_182   2018-11-15     1499\n",
       "123035  1499_183   2018-11-16     1499\n",
       "\n",
       "[123036 rows x 3 columns]"
      ]
     },
     "metadata": {},
     "output_type": "display_data"
    },
    {
     "name": "stdout",
     "output_type": "stream",
     "text": [
      "<class 'pandas.core.frame.DataFrame'>\n",
      "RangeIndex: 123036 entries, 0 to 123035\n",
      "Data columns (total 3 columns):\n",
      "id              123036 non-null object\n",
      "message_date    123036 non-null object\n",
      "user_id         123036 non-null int64\n",
      "dtypes: int64(1), object(2)\n",
      "memory usage: 2.8+ MB\n"
     ]
    }
   ],
   "source": [
    "data_messages = pd.read_csv('/datasets/messages.csv')\n",
    "display(data_messages)\n",
    "data_messages.info()"
   ]
  },
  {
   "cell_type": "code",
   "execution_count": 6,
   "metadata": {},
   "outputs": [
    {
     "data": {
      "text/html": [
       "<div>\n",
       "<style scoped>\n",
       "    .dataframe tbody tr th:only-of-type {\n",
       "        vertical-align: middle;\n",
       "    }\n",
       "\n",
       "    .dataframe tbody tr th {\n",
       "        vertical-align: top;\n",
       "    }\n",
       "\n",
       "    .dataframe thead th {\n",
       "        text-align: right;\n",
       "    }\n",
       "</style>\n",
       "<table border=\"1\" class=\"dataframe\">\n",
       "  <thead>\n",
       "    <tr style=\"text-align: right;\">\n",
       "      <th></th>\n",
       "      <th>Unnamed: 0</th>\n",
       "      <th>id</th>\n",
       "      <th>mb_used</th>\n",
       "      <th>session_date</th>\n",
       "      <th>user_id</th>\n",
       "    </tr>\n",
       "  </thead>\n",
       "  <tbody>\n",
       "    <tr>\n",
       "      <td>0</td>\n",
       "      <td>0</td>\n",
       "      <td>1000_0</td>\n",
       "      <td>112.95</td>\n",
       "      <td>2018-11-25</td>\n",
       "      <td>1000</td>\n",
       "    </tr>\n",
       "    <tr>\n",
       "      <td>1</td>\n",
       "      <td>1</td>\n",
       "      <td>1000_1</td>\n",
       "      <td>1052.81</td>\n",
       "      <td>2018-09-07</td>\n",
       "      <td>1000</td>\n",
       "    </tr>\n",
       "    <tr>\n",
       "      <td>2</td>\n",
       "      <td>2</td>\n",
       "      <td>1000_2</td>\n",
       "      <td>1197.26</td>\n",
       "      <td>2018-06-25</td>\n",
       "      <td>1000</td>\n",
       "    </tr>\n",
       "    <tr>\n",
       "      <td>3</td>\n",
       "      <td>3</td>\n",
       "      <td>1000_3</td>\n",
       "      <td>550.27</td>\n",
       "      <td>2018-08-22</td>\n",
       "      <td>1000</td>\n",
       "    </tr>\n",
       "    <tr>\n",
       "      <td>4</td>\n",
       "      <td>4</td>\n",
       "      <td>1000_4</td>\n",
       "      <td>302.56</td>\n",
       "      <td>2018-09-24</td>\n",
       "      <td>1000</td>\n",
       "    </tr>\n",
       "    <tr>\n",
       "      <td>...</td>\n",
       "      <td>...</td>\n",
       "      <td>...</td>\n",
       "      <td>...</td>\n",
       "      <td>...</td>\n",
       "      <td>...</td>\n",
       "    </tr>\n",
       "    <tr>\n",
       "      <td>149391</td>\n",
       "      <td>149391</td>\n",
       "      <td>1499_152</td>\n",
       "      <td>318.90</td>\n",
       "      <td>2018-10-03</td>\n",
       "      <td>1499</td>\n",
       "    </tr>\n",
       "    <tr>\n",
       "      <td>149392</td>\n",
       "      <td>149392</td>\n",
       "      <td>1499_153</td>\n",
       "      <td>490.13</td>\n",
       "      <td>2018-12-14</td>\n",
       "      <td>1499</td>\n",
       "    </tr>\n",
       "    <tr>\n",
       "      <td>149393</td>\n",
       "      <td>149393</td>\n",
       "      <td>1499_154</td>\n",
       "      <td>0.00</td>\n",
       "      <td>2018-10-27</td>\n",
       "      <td>1499</td>\n",
       "    </tr>\n",
       "    <tr>\n",
       "      <td>149394</td>\n",
       "      <td>149394</td>\n",
       "      <td>1499_155</td>\n",
       "      <td>1246.32</td>\n",
       "      <td>2018-11-26</td>\n",
       "      <td>1499</td>\n",
       "    </tr>\n",
       "    <tr>\n",
       "      <td>149395</td>\n",
       "      <td>149395</td>\n",
       "      <td>1499_156</td>\n",
       "      <td>544.37</td>\n",
       "      <td>2018-10-26</td>\n",
       "      <td>1499</td>\n",
       "    </tr>\n",
       "  </tbody>\n",
       "</table>\n",
       "<p>149396 rows × 5 columns</p>\n",
       "</div>"
      ],
      "text/plain": [
       "        Unnamed: 0        id  mb_used session_date  user_id\n",
       "0                0    1000_0   112.95   2018-11-25     1000\n",
       "1                1    1000_1  1052.81   2018-09-07     1000\n",
       "2                2    1000_2  1197.26   2018-06-25     1000\n",
       "3                3    1000_3   550.27   2018-08-22     1000\n",
       "4                4    1000_4   302.56   2018-09-24     1000\n",
       "...            ...       ...      ...          ...      ...\n",
       "149391      149391  1499_152   318.90   2018-10-03     1499\n",
       "149392      149392  1499_153   490.13   2018-12-14     1499\n",
       "149393      149393  1499_154     0.00   2018-10-27     1499\n",
       "149394      149394  1499_155  1246.32   2018-11-26     1499\n",
       "149395      149395  1499_156   544.37   2018-10-26     1499\n",
       "\n",
       "[149396 rows x 5 columns]"
      ]
     },
     "metadata": {},
     "output_type": "display_data"
    },
    {
     "name": "stdout",
     "output_type": "stream",
     "text": [
      "<class 'pandas.core.frame.DataFrame'>\n",
      "RangeIndex: 149396 entries, 0 to 149395\n",
      "Data columns (total 5 columns):\n",
      "Unnamed: 0      149396 non-null int64\n",
      "id              149396 non-null object\n",
      "mb_used         149396 non-null float64\n",
      "session_date    149396 non-null object\n",
      "user_id         149396 non-null int64\n",
      "dtypes: float64(1), int64(2), object(2)\n",
      "memory usage: 5.7+ MB\n"
     ]
    }
   ],
   "source": [
    "data_internet = pd.read_csv('/datasets/internet.csv', index_col=0)\n",
    "display(data_internet)\n",
    "data_internet.info()"
   ]
  },
  {
   "cell_type": "code",
   "execution_count": 7,
   "metadata": {
    "scrolled": true
   },
   "outputs": [
    {
     "data": {
      "text/html": [
       "<div>\n",
       "<style scoped>\n",
       "    .dataframe tbody tr th:only-of-type {\n",
       "        vertical-align: middle;\n",
       "    }\n",
       "\n",
       "    .dataframe tbody tr th {\n",
       "        vertical-align: top;\n",
       "    }\n",
       "\n",
       "    .dataframe thead th {\n",
       "        text-align: right;\n",
       "    }\n",
       "</style>\n",
       "<table border=\"1\" class=\"dataframe\">\n",
       "  <thead>\n",
       "    <tr style=\"text-align: right;\">\n",
       "      <th></th>\n",
       "      <th>messages_included</th>\n",
       "      <th>mb_per_month_included</th>\n",
       "      <th>minutes_included</th>\n",
       "      <th>rub_monthly_fee</th>\n",
       "      <th>rub_per_gb</th>\n",
       "      <th>rub_per_message</th>\n",
       "      <th>rub_per_minute</th>\n",
       "      <th>tariff_name</th>\n",
       "    </tr>\n",
       "  </thead>\n",
       "  <tbody>\n",
       "    <tr>\n",
       "      <td>0</td>\n",
       "      <td>50</td>\n",
       "      <td>15360</td>\n",
       "      <td>500</td>\n",
       "      <td>550</td>\n",
       "      <td>200</td>\n",
       "      <td>3</td>\n",
       "      <td>3</td>\n",
       "      <td>smart</td>\n",
       "    </tr>\n",
       "    <tr>\n",
       "      <td>1</td>\n",
       "      <td>1000</td>\n",
       "      <td>30720</td>\n",
       "      <td>3000</td>\n",
       "      <td>1950</td>\n",
       "      <td>150</td>\n",
       "      <td>1</td>\n",
       "      <td>1</td>\n",
       "      <td>ultra</td>\n",
       "    </tr>\n",
       "  </tbody>\n",
       "</table>\n",
       "</div>"
      ],
      "text/plain": [
       "   messages_included  mb_per_month_included  minutes_included  \\\n",
       "0                 50                  15360               500   \n",
       "1               1000                  30720              3000   \n",
       "\n",
       "   rub_monthly_fee  rub_per_gb  rub_per_message  rub_per_minute tariff_name  \n",
       "0              550         200                3               3       smart  \n",
       "1             1950         150                1               1       ultra  "
      ]
     },
     "metadata": {},
     "output_type": "display_data"
    },
    {
     "name": "stdout",
     "output_type": "stream",
     "text": [
      "<class 'pandas.core.frame.DataFrame'>\n",
      "RangeIndex: 2 entries, 0 to 1\n",
      "Data columns (total 8 columns):\n",
      "messages_included        2 non-null int64\n",
      "mb_per_month_included    2 non-null int64\n",
      "minutes_included         2 non-null int64\n",
      "rub_monthly_fee          2 non-null int64\n",
      "rub_per_gb               2 non-null int64\n",
      "rub_per_message          2 non-null int64\n",
      "rub_per_minute           2 non-null int64\n",
      "tariff_name              2 non-null object\n",
      "dtypes: int64(7), object(1)\n",
      "memory usage: 256.0+ bytes\n"
     ]
    }
   ],
   "source": [
    "data_tariffs = pd.read_csv('/datasets/tariffs.csv')\n",
    "display(data_tariffs)\n",
    "data_tariffs.info()"
   ]
  },
  {
   "cell_type": "markdown",
   "metadata": {},
   "source": [
    "<b>Вывод</b>"
   ]
  },
  {
   "cell_type": "markdown",
   "metadata": {},
   "source": [
    "- В таблицах мы имеем лишь пропуски в таблице users в колонке 'churn_date'. Это нормально, т.к. эти пропуски значат, что человек еще пользуется тарифом.\n",
    "- В таблицах, в которых имеются колонки с датами нужно заменить тип данных.\n",
    "- В таблице internet имеется лишняя, дублирующая индексы, колонка, которую стоит удалить.\n",
    "- Т.к. тарифы округляют минуты и гб в большую сторону до целого числа, то стоит окгруглить и изменить тип этих данных."
   ]
  },
  {
   "cell_type": "markdown",
   "metadata": {},
   "source": [
    "## Подготовка данных"
   ]
  },
  {
   "cell_type": "markdown",
   "metadata": {},
   "source": [
    "### Таблица calls"
   ]
  },
  {
   "cell_type": "code",
   "execution_count": 8,
   "metadata": {},
   "outputs": [
    {
     "data": {
      "text/plain": [
       "id           0\n",
       "call_date    0\n",
       "duration     0\n",
       "user_id      0\n",
       "dtype: int64"
      ]
     },
     "execution_count": 8,
     "metadata": {},
     "output_type": "execute_result"
    }
   ],
   "source": [
    "data_calls.isna().sum()"
   ]
  },
  {
   "cell_type": "code",
   "execution_count": 9,
   "metadata": {},
   "outputs": [],
   "source": [
    "data_calls['call_date'] = pd.to_datetime(data_calls['call_date'], format='%Y.%m.%d')"
   ]
  },
  {
   "cell_type": "code",
   "execution_count": 10,
   "metadata": {},
   "outputs": [],
   "source": [
    "data_calls['duration'] = np.ceil(data_calls['duration']).astype('int')"
   ]
  },
  {
   "cell_type": "code",
   "execution_count": 11,
   "metadata": {},
   "outputs": [
    {
     "data": {
      "text/html": [
       "<div>\n",
       "<style scoped>\n",
       "    .dataframe tbody tr th:only-of-type {\n",
       "        vertical-align: middle;\n",
       "    }\n",
       "\n",
       "    .dataframe tbody tr th {\n",
       "        vertical-align: top;\n",
       "    }\n",
       "\n",
       "    .dataframe thead th {\n",
       "        text-align: right;\n",
       "    }\n",
       "</style>\n",
       "<table border=\"1\" class=\"dataframe\">\n",
       "  <thead>\n",
       "    <tr style=\"text-align: right;\">\n",
       "      <th></th>\n",
       "      <th>id</th>\n",
       "      <th>call_date</th>\n",
       "      <th>duration</th>\n",
       "      <th>user_id</th>\n",
       "    </tr>\n",
       "  </thead>\n",
       "  <tbody>\n",
       "    <tr>\n",
       "      <td>0</td>\n",
       "      <td>1000_0</td>\n",
       "      <td>2018-07-25</td>\n",
       "      <td>0</td>\n",
       "      <td>1000</td>\n",
       "    </tr>\n",
       "    <tr>\n",
       "      <td>1</td>\n",
       "      <td>1000_1</td>\n",
       "      <td>2018-08-17</td>\n",
       "      <td>0</td>\n",
       "      <td>1000</td>\n",
       "    </tr>\n",
       "    <tr>\n",
       "      <td>2</td>\n",
       "      <td>1000_2</td>\n",
       "      <td>2018-06-11</td>\n",
       "      <td>3</td>\n",
       "      <td>1000</td>\n",
       "    </tr>\n",
       "    <tr>\n",
       "      <td>3</td>\n",
       "      <td>1000_3</td>\n",
       "      <td>2018-09-21</td>\n",
       "      <td>14</td>\n",
       "      <td>1000</td>\n",
       "    </tr>\n",
       "    <tr>\n",
       "      <td>4</td>\n",
       "      <td>1000_4</td>\n",
       "      <td>2018-12-15</td>\n",
       "      <td>6</td>\n",
       "      <td>1000</td>\n",
       "    </tr>\n",
       "    <tr>\n",
       "      <td>...</td>\n",
       "      <td>...</td>\n",
       "      <td>...</td>\n",
       "      <td>...</td>\n",
       "      <td>...</td>\n",
       "    </tr>\n",
       "    <tr>\n",
       "      <td>202602</td>\n",
       "      <td>1499_215</td>\n",
       "      <td>2018-12-26</td>\n",
       "      <td>1</td>\n",
       "      <td>1499</td>\n",
       "    </tr>\n",
       "    <tr>\n",
       "      <td>202603</td>\n",
       "      <td>1499_216</td>\n",
       "      <td>2018-10-18</td>\n",
       "      <td>19</td>\n",
       "      <td>1499</td>\n",
       "    </tr>\n",
       "    <tr>\n",
       "      <td>202604</td>\n",
       "      <td>1499_217</td>\n",
       "      <td>2018-11-10</td>\n",
       "      <td>11</td>\n",
       "      <td>1499</td>\n",
       "    </tr>\n",
       "    <tr>\n",
       "      <td>202605</td>\n",
       "      <td>1499_218</td>\n",
       "      <td>2018-10-06</td>\n",
       "      <td>5</td>\n",
       "      <td>1499</td>\n",
       "    </tr>\n",
       "    <tr>\n",
       "      <td>202606</td>\n",
       "      <td>1499_219</td>\n",
       "      <td>2018-12-14</td>\n",
       "      <td>20</td>\n",
       "      <td>1499</td>\n",
       "    </tr>\n",
       "  </tbody>\n",
       "</table>\n",
       "<p>202607 rows × 4 columns</p>\n",
       "</div>"
      ],
      "text/plain": [
       "              id  call_date  duration  user_id\n",
       "0         1000_0 2018-07-25         0     1000\n",
       "1         1000_1 2018-08-17         0     1000\n",
       "2         1000_2 2018-06-11         3     1000\n",
       "3         1000_3 2018-09-21        14     1000\n",
       "4         1000_4 2018-12-15         6     1000\n",
       "...          ...        ...       ...      ...\n",
       "202602  1499_215 2018-12-26         1     1499\n",
       "202603  1499_216 2018-10-18        19     1499\n",
       "202604  1499_217 2018-11-10        11     1499\n",
       "202605  1499_218 2018-10-06         5     1499\n",
       "202606  1499_219 2018-12-14        20     1499\n",
       "\n",
       "[202607 rows x 4 columns]"
      ]
     },
     "execution_count": 11,
     "metadata": {},
     "output_type": "execute_result"
    }
   ],
   "source": [
    "data_calls"
   ]
  },
  {
   "cell_type": "markdown",
   "metadata": {},
   "source": [
    "### Таблица messages"
   ]
  },
  {
   "cell_type": "code",
   "execution_count": 12,
   "metadata": {},
   "outputs": [
    {
     "data": {
      "text/plain": [
       "id              0\n",
       "message_date    0\n",
       "user_id         0\n",
       "dtype: int64"
      ]
     },
     "execution_count": 12,
     "metadata": {},
     "output_type": "execute_result"
    }
   ],
   "source": [
    "data_messages.isna().sum()"
   ]
  },
  {
   "cell_type": "code",
   "execution_count": 13,
   "metadata": {},
   "outputs": [],
   "source": [
    "data_messages['message_date'] = pd.to_datetime(data_messages['message_date'], format='%Y.%m.%d')"
   ]
  },
  {
   "cell_type": "code",
   "execution_count": 14,
   "metadata": {},
   "outputs": [
    {
     "data": {
      "text/html": [
       "<div>\n",
       "<style scoped>\n",
       "    .dataframe tbody tr th:only-of-type {\n",
       "        vertical-align: middle;\n",
       "    }\n",
       "\n",
       "    .dataframe tbody tr th {\n",
       "        vertical-align: top;\n",
       "    }\n",
       "\n",
       "    .dataframe thead th {\n",
       "        text-align: right;\n",
       "    }\n",
       "</style>\n",
       "<table border=\"1\" class=\"dataframe\">\n",
       "  <thead>\n",
       "    <tr style=\"text-align: right;\">\n",
       "      <th></th>\n",
       "      <th>id</th>\n",
       "      <th>message_date</th>\n",
       "      <th>user_id</th>\n",
       "    </tr>\n",
       "  </thead>\n",
       "  <tbody>\n",
       "    <tr>\n",
       "      <td>0</td>\n",
       "      <td>1000_0</td>\n",
       "      <td>2018-06-27</td>\n",
       "      <td>1000</td>\n",
       "    </tr>\n",
       "    <tr>\n",
       "      <td>1</td>\n",
       "      <td>1000_1</td>\n",
       "      <td>2018-10-08</td>\n",
       "      <td>1000</td>\n",
       "    </tr>\n",
       "    <tr>\n",
       "      <td>2</td>\n",
       "      <td>1000_2</td>\n",
       "      <td>2018-08-04</td>\n",
       "      <td>1000</td>\n",
       "    </tr>\n",
       "    <tr>\n",
       "      <td>3</td>\n",
       "      <td>1000_3</td>\n",
       "      <td>2018-06-16</td>\n",
       "      <td>1000</td>\n",
       "    </tr>\n",
       "    <tr>\n",
       "      <td>4</td>\n",
       "      <td>1000_4</td>\n",
       "      <td>2018-12-05</td>\n",
       "      <td>1000</td>\n",
       "    </tr>\n",
       "    <tr>\n",
       "      <td>...</td>\n",
       "      <td>...</td>\n",
       "      <td>...</td>\n",
       "      <td>...</td>\n",
       "    </tr>\n",
       "    <tr>\n",
       "      <td>123031</td>\n",
       "      <td>1499_179</td>\n",
       "      <td>2018-12-12</td>\n",
       "      <td>1499</td>\n",
       "    </tr>\n",
       "    <tr>\n",
       "      <td>123032</td>\n",
       "      <td>1499_180</td>\n",
       "      <td>2018-09-28</td>\n",
       "      <td>1499</td>\n",
       "    </tr>\n",
       "    <tr>\n",
       "      <td>123033</td>\n",
       "      <td>1499_181</td>\n",
       "      <td>2018-09-27</td>\n",
       "      <td>1499</td>\n",
       "    </tr>\n",
       "    <tr>\n",
       "      <td>123034</td>\n",
       "      <td>1499_182</td>\n",
       "      <td>2018-11-15</td>\n",
       "      <td>1499</td>\n",
       "    </tr>\n",
       "    <tr>\n",
       "      <td>123035</td>\n",
       "      <td>1499_183</td>\n",
       "      <td>2018-11-16</td>\n",
       "      <td>1499</td>\n",
       "    </tr>\n",
       "  </tbody>\n",
       "</table>\n",
       "<p>123036 rows × 3 columns</p>\n",
       "</div>"
      ],
      "text/plain": [
       "              id message_date  user_id\n",
       "0         1000_0   2018-06-27     1000\n",
       "1         1000_1   2018-10-08     1000\n",
       "2         1000_2   2018-08-04     1000\n",
       "3         1000_3   2018-06-16     1000\n",
       "4         1000_4   2018-12-05     1000\n",
       "...          ...          ...      ...\n",
       "123031  1499_179   2018-12-12     1499\n",
       "123032  1499_180   2018-09-28     1499\n",
       "123033  1499_181   2018-09-27     1499\n",
       "123034  1499_182   2018-11-15     1499\n",
       "123035  1499_183   2018-11-16     1499\n",
       "\n",
       "[123036 rows x 3 columns]"
      ]
     },
     "execution_count": 14,
     "metadata": {},
     "output_type": "execute_result"
    }
   ],
   "source": [
    "data_messages"
   ]
  },
  {
   "cell_type": "markdown",
   "metadata": {},
   "source": [
    "### Таблица internet"
   ]
  },
  {
   "cell_type": "code",
   "execution_count": 15,
   "metadata": {},
   "outputs": [
    {
     "data": {
      "text/plain": [
       "Unnamed: 0      0\n",
       "id              0\n",
       "mb_used         0\n",
       "session_date    0\n",
       "user_id         0\n",
       "dtype: int64"
      ]
     },
     "execution_count": 15,
     "metadata": {},
     "output_type": "execute_result"
    }
   ],
   "source": [
    "data_internet.isna().sum()"
   ]
  },
  {
   "cell_type": "code",
   "execution_count": 16,
   "metadata": {},
   "outputs": [],
   "source": [
    "data_internet['session_date'] = pd.to_datetime(data_internet['session_date'], format='%Y.%m.%d')"
   ]
  },
  {
   "cell_type": "code",
   "execution_count": 17,
   "metadata": {},
   "outputs": [],
   "source": [
    "data_internet['mb_used'] = np.ceil(data_internet['mb_used']).astype('int')"
   ]
  },
  {
   "cell_type": "code",
   "execution_count": 18,
   "metadata": {},
   "outputs": [],
   "source": [
    "data_internet = data_internet.drop(columns = ['Unnamed: 0'], axis = 1)"
   ]
  },
  {
   "cell_type": "code",
   "execution_count": 19,
   "metadata": {},
   "outputs": [
    {
     "data": {
      "text/html": [
       "<div>\n",
       "<style scoped>\n",
       "    .dataframe tbody tr th:only-of-type {\n",
       "        vertical-align: middle;\n",
       "    }\n",
       "\n",
       "    .dataframe tbody tr th {\n",
       "        vertical-align: top;\n",
       "    }\n",
       "\n",
       "    .dataframe thead th {\n",
       "        text-align: right;\n",
       "    }\n",
       "</style>\n",
       "<table border=\"1\" class=\"dataframe\">\n",
       "  <thead>\n",
       "    <tr style=\"text-align: right;\">\n",
       "      <th></th>\n",
       "      <th>id</th>\n",
       "      <th>mb_used</th>\n",
       "      <th>session_date</th>\n",
       "      <th>user_id</th>\n",
       "    </tr>\n",
       "  </thead>\n",
       "  <tbody>\n",
       "    <tr>\n",
       "      <td>0</td>\n",
       "      <td>1000_0</td>\n",
       "      <td>113</td>\n",
       "      <td>2018-11-25</td>\n",
       "      <td>1000</td>\n",
       "    </tr>\n",
       "    <tr>\n",
       "      <td>1</td>\n",
       "      <td>1000_1</td>\n",
       "      <td>1053</td>\n",
       "      <td>2018-09-07</td>\n",
       "      <td>1000</td>\n",
       "    </tr>\n",
       "    <tr>\n",
       "      <td>2</td>\n",
       "      <td>1000_2</td>\n",
       "      <td>1198</td>\n",
       "      <td>2018-06-25</td>\n",
       "      <td>1000</td>\n",
       "    </tr>\n",
       "    <tr>\n",
       "      <td>3</td>\n",
       "      <td>1000_3</td>\n",
       "      <td>551</td>\n",
       "      <td>2018-08-22</td>\n",
       "      <td>1000</td>\n",
       "    </tr>\n",
       "    <tr>\n",
       "      <td>4</td>\n",
       "      <td>1000_4</td>\n",
       "      <td>303</td>\n",
       "      <td>2018-09-24</td>\n",
       "      <td>1000</td>\n",
       "    </tr>\n",
       "    <tr>\n",
       "      <td>...</td>\n",
       "      <td>...</td>\n",
       "      <td>...</td>\n",
       "      <td>...</td>\n",
       "      <td>...</td>\n",
       "    </tr>\n",
       "    <tr>\n",
       "      <td>149391</td>\n",
       "      <td>1499_152</td>\n",
       "      <td>319</td>\n",
       "      <td>2018-10-03</td>\n",
       "      <td>1499</td>\n",
       "    </tr>\n",
       "    <tr>\n",
       "      <td>149392</td>\n",
       "      <td>1499_153</td>\n",
       "      <td>491</td>\n",
       "      <td>2018-12-14</td>\n",
       "      <td>1499</td>\n",
       "    </tr>\n",
       "    <tr>\n",
       "      <td>149393</td>\n",
       "      <td>1499_154</td>\n",
       "      <td>0</td>\n",
       "      <td>2018-10-27</td>\n",
       "      <td>1499</td>\n",
       "    </tr>\n",
       "    <tr>\n",
       "      <td>149394</td>\n",
       "      <td>1499_155</td>\n",
       "      <td>1247</td>\n",
       "      <td>2018-11-26</td>\n",
       "      <td>1499</td>\n",
       "    </tr>\n",
       "    <tr>\n",
       "      <td>149395</td>\n",
       "      <td>1499_156</td>\n",
       "      <td>545</td>\n",
       "      <td>2018-10-26</td>\n",
       "      <td>1499</td>\n",
       "    </tr>\n",
       "  </tbody>\n",
       "</table>\n",
       "<p>149396 rows × 4 columns</p>\n",
       "</div>"
      ],
      "text/plain": [
       "              id  mb_used session_date  user_id\n",
       "0         1000_0      113   2018-11-25     1000\n",
       "1         1000_1     1053   2018-09-07     1000\n",
       "2         1000_2     1198   2018-06-25     1000\n",
       "3         1000_3      551   2018-08-22     1000\n",
       "4         1000_4      303   2018-09-24     1000\n",
       "...          ...      ...          ...      ...\n",
       "149391  1499_152      319   2018-10-03     1499\n",
       "149392  1499_153      491   2018-12-14     1499\n",
       "149393  1499_154        0   2018-10-27     1499\n",
       "149394  1499_155     1247   2018-11-26     1499\n",
       "149395  1499_156      545   2018-10-26     1499\n",
       "\n",
       "[149396 rows x 4 columns]"
      ]
     },
     "execution_count": 19,
     "metadata": {},
     "output_type": "execute_result"
    }
   ],
   "source": [
    "data_internet"
   ]
  },
  {
   "cell_type": "markdown",
   "metadata": {},
   "source": [
    "### Таблица users"
   ]
  },
  {
   "cell_type": "code",
   "execution_count": 20,
   "metadata": {},
   "outputs": [
    {
     "data": {
      "text/plain": [
       "user_id         0\n",
       "age             0\n",
       "churn_date    462\n",
       "city            0\n",
       "first_name      0\n",
       "last_name       0\n",
       "reg_date        0\n",
       "tariff          0\n",
       "dtype: int64"
      ]
     },
     "execution_count": 20,
     "metadata": {},
     "output_type": "execute_result"
    }
   ],
   "source": [
    "data_users.isna().sum()"
   ]
  },
  {
   "cell_type": "code",
   "execution_count": 21,
   "metadata": {},
   "outputs": [],
   "source": [
    "data_users['reg_date'] = pd.to_datetime(data_users['reg_date'], format='%Y.%m.%d')"
   ]
  },
  {
   "cell_type": "code",
   "execution_count": 22,
   "metadata": {
    "scrolled": false
   },
   "outputs": [
    {
     "data": {
      "text/html": [
       "<div>\n",
       "<style scoped>\n",
       "    .dataframe tbody tr th:only-of-type {\n",
       "        vertical-align: middle;\n",
       "    }\n",
       "\n",
       "    .dataframe tbody tr th {\n",
       "        vertical-align: top;\n",
       "    }\n",
       "\n",
       "    .dataframe thead th {\n",
       "        text-align: right;\n",
       "    }\n",
       "</style>\n",
       "<table border=\"1\" class=\"dataframe\">\n",
       "  <thead>\n",
       "    <tr style=\"text-align: right;\">\n",
       "      <th></th>\n",
       "      <th>user_id</th>\n",
       "      <th>age</th>\n",
       "      <th>churn_date</th>\n",
       "      <th>city</th>\n",
       "      <th>first_name</th>\n",
       "      <th>last_name</th>\n",
       "      <th>reg_date</th>\n",
       "      <th>tariff</th>\n",
       "    </tr>\n",
       "  </thead>\n",
       "  <tbody>\n",
       "    <tr>\n",
       "      <td>0</td>\n",
       "      <td>1000</td>\n",
       "      <td>52</td>\n",
       "      <td>NaN</td>\n",
       "      <td>Краснодар</td>\n",
       "      <td>Рафаил</td>\n",
       "      <td>Верещагин</td>\n",
       "      <td>2018-05-25</td>\n",
       "      <td>ultra</td>\n",
       "    </tr>\n",
       "    <tr>\n",
       "      <td>1</td>\n",
       "      <td>1001</td>\n",
       "      <td>41</td>\n",
       "      <td>NaN</td>\n",
       "      <td>Москва</td>\n",
       "      <td>Иван</td>\n",
       "      <td>Ежов</td>\n",
       "      <td>2018-11-01</td>\n",
       "      <td>smart</td>\n",
       "    </tr>\n",
       "    <tr>\n",
       "      <td>2</td>\n",
       "      <td>1002</td>\n",
       "      <td>59</td>\n",
       "      <td>NaN</td>\n",
       "      <td>Стерлитамак</td>\n",
       "      <td>Евгений</td>\n",
       "      <td>Абрамович</td>\n",
       "      <td>2018-06-17</td>\n",
       "      <td>smart</td>\n",
       "    </tr>\n",
       "    <tr>\n",
       "      <td>3</td>\n",
       "      <td>1003</td>\n",
       "      <td>23</td>\n",
       "      <td>NaN</td>\n",
       "      <td>Москва</td>\n",
       "      <td>Белла</td>\n",
       "      <td>Белякова</td>\n",
       "      <td>2018-08-17</td>\n",
       "      <td>ultra</td>\n",
       "    </tr>\n",
       "    <tr>\n",
       "      <td>4</td>\n",
       "      <td>1004</td>\n",
       "      <td>68</td>\n",
       "      <td>NaN</td>\n",
       "      <td>Новокузнецк</td>\n",
       "      <td>Татьяна</td>\n",
       "      <td>Авдеенко</td>\n",
       "      <td>2018-05-14</td>\n",
       "      <td>ultra</td>\n",
       "    </tr>\n",
       "    <tr>\n",
       "      <td>...</td>\n",
       "      <td>...</td>\n",
       "      <td>...</td>\n",
       "      <td>...</td>\n",
       "      <td>...</td>\n",
       "      <td>...</td>\n",
       "      <td>...</td>\n",
       "      <td>...</td>\n",
       "      <td>...</td>\n",
       "    </tr>\n",
       "    <tr>\n",
       "      <td>495</td>\n",
       "      <td>1495</td>\n",
       "      <td>65</td>\n",
       "      <td>NaN</td>\n",
       "      <td>Иркутск</td>\n",
       "      <td>Авксентий</td>\n",
       "      <td>Фокин</td>\n",
       "      <td>2018-08-28</td>\n",
       "      <td>ultra</td>\n",
       "    </tr>\n",
       "    <tr>\n",
       "      <td>496</td>\n",
       "      <td>1496</td>\n",
       "      <td>36</td>\n",
       "      <td>NaN</td>\n",
       "      <td>Вологда</td>\n",
       "      <td>Трифон</td>\n",
       "      <td>Блохин</td>\n",
       "      <td>2018-01-27</td>\n",
       "      <td>smart</td>\n",
       "    </tr>\n",
       "    <tr>\n",
       "      <td>497</td>\n",
       "      <td>1497</td>\n",
       "      <td>32</td>\n",
       "      <td>NaN</td>\n",
       "      <td>Челябинск</td>\n",
       "      <td>Каролина</td>\n",
       "      <td>Агеева</td>\n",
       "      <td>2018-10-09</td>\n",
       "      <td>smart</td>\n",
       "    </tr>\n",
       "    <tr>\n",
       "      <td>498</td>\n",
       "      <td>1498</td>\n",
       "      <td>68</td>\n",
       "      <td>2018-10-25</td>\n",
       "      <td>Владикавказ</td>\n",
       "      <td>Всеволод</td>\n",
       "      <td>Акимчин</td>\n",
       "      <td>2018-07-19</td>\n",
       "      <td>smart</td>\n",
       "    </tr>\n",
       "    <tr>\n",
       "      <td>499</td>\n",
       "      <td>1499</td>\n",
       "      <td>35</td>\n",
       "      <td>NaN</td>\n",
       "      <td>Пермь</td>\n",
       "      <td>Гектор</td>\n",
       "      <td>Корнилов</td>\n",
       "      <td>2018-09-27</td>\n",
       "      <td>smart</td>\n",
       "    </tr>\n",
       "  </tbody>\n",
       "</table>\n",
       "<p>500 rows × 8 columns</p>\n",
       "</div>"
      ],
      "text/plain": [
       "     user_id  age  churn_date         city first_name  last_name   reg_date  \\\n",
       "0       1000   52         NaN    Краснодар     Рафаил  Верещагин 2018-05-25   \n",
       "1       1001   41         NaN       Москва       Иван       Ежов 2018-11-01   \n",
       "2       1002   59         NaN  Стерлитамак    Евгений  Абрамович 2018-06-17   \n",
       "3       1003   23         NaN       Москва      Белла   Белякова 2018-08-17   \n",
       "4       1004   68         NaN  Новокузнецк    Татьяна   Авдеенко 2018-05-14   \n",
       "..       ...  ...         ...          ...        ...        ...        ...   \n",
       "495     1495   65         NaN      Иркутск  Авксентий      Фокин 2018-08-28   \n",
       "496     1496   36         NaN      Вологда     Трифон     Блохин 2018-01-27   \n",
       "497     1497   32         NaN    Челябинск   Каролина     Агеева 2018-10-09   \n",
       "498     1498   68  2018-10-25  Владикавказ   Всеволод    Акимчин 2018-07-19   \n",
       "499     1499   35         NaN        Пермь     Гектор   Корнилов 2018-09-27   \n",
       "\n",
       "    tariff  \n",
       "0    ultra  \n",
       "1    smart  \n",
       "2    smart  \n",
       "3    ultra  \n",
       "4    ultra  \n",
       "..     ...  \n",
       "495  ultra  \n",
       "496  smart  \n",
       "497  smart  \n",
       "498  smart  \n",
       "499  smart  \n",
       "\n",
       "[500 rows x 8 columns]"
      ]
     },
     "execution_count": 22,
     "metadata": {},
     "output_type": "execute_result"
    }
   ],
   "source": [
    "data_users"
   ]
  },
  {
   "cell_type": "markdown",
   "metadata": {},
   "source": [
    "<b>Вывод</b>"
   ]
  },
  {
   "cell_type": "markdown",
   "metadata": {},
   "source": [
    "Мы обработали данные из таблиц, теперь можно переходить к расчетам."
   ]
  },
  {
   "cell_type": "markdown",
   "metadata": {},
   "source": [
    "### Подсчет звонков и минут по месяцам"
   ]
  },
  {
   "cell_type": "code",
   "execution_count": 23,
   "metadata": {},
   "outputs": [],
   "source": [
    "data_calls['month'] = data_calls['call_date'].dt.month\n",
    "data_messages['month'] = data_messages['message_date'].dt.month\n",
    "data_internet['month'] = data_internet['session_date'].dt.month"
   ]
  },
  {
   "cell_type": "code",
   "execution_count": 24,
   "metadata": {
    "scrolled": false
   },
   "outputs": [
    {
     "data": {
      "text/html": [
       "<div>\n",
       "<style scoped>\n",
       "    .dataframe tbody tr th:only-of-type {\n",
       "        vertical-align: middle;\n",
       "    }\n",
       "\n",
       "    .dataframe tbody tr th {\n",
       "        vertical-align: top;\n",
       "    }\n",
       "\n",
       "    .dataframe thead th {\n",
       "        text-align: right;\n",
       "    }\n",
       "</style>\n",
       "<table border=\"1\" class=\"dataframe\">\n",
       "  <thead>\n",
       "    <tr style=\"text-align: right;\">\n",
       "      <th></th>\n",
       "      <th>user_id</th>\n",
       "      <th>month</th>\n",
       "      <th>calls_count</th>\n",
       "      <th>calls_sum</th>\n",
       "    </tr>\n",
       "  </thead>\n",
       "  <tbody>\n",
       "    <tr>\n",
       "      <td>0</td>\n",
       "      <td>1000</td>\n",
       "      <td>5</td>\n",
       "      <td>22</td>\n",
       "      <td>159</td>\n",
       "    </tr>\n",
       "    <tr>\n",
       "      <td>1</td>\n",
       "      <td>1000</td>\n",
       "      <td>6</td>\n",
       "      <td>43</td>\n",
       "      <td>172</td>\n",
       "    </tr>\n",
       "    <tr>\n",
       "      <td>2</td>\n",
       "      <td>1000</td>\n",
       "      <td>7</td>\n",
       "      <td>47</td>\n",
       "      <td>340</td>\n",
       "    </tr>\n",
       "    <tr>\n",
       "      <td>3</td>\n",
       "      <td>1000</td>\n",
       "      <td>8</td>\n",
       "      <td>52</td>\n",
       "      <td>408</td>\n",
       "    </tr>\n",
       "    <tr>\n",
       "      <td>4</td>\n",
       "      <td>1000</td>\n",
       "      <td>9</td>\n",
       "      <td>58</td>\n",
       "      <td>466</td>\n",
       "    </tr>\n",
       "    <tr>\n",
       "      <td>...</td>\n",
       "      <td>...</td>\n",
       "      <td>...</td>\n",
       "      <td>...</td>\n",
       "      <td>...</td>\n",
       "    </tr>\n",
       "    <tr>\n",
       "      <td>3169</td>\n",
       "      <td>1498</td>\n",
       "      <td>10</td>\n",
       "      <td>41</td>\n",
       "      <td>247</td>\n",
       "    </tr>\n",
       "    <tr>\n",
       "      <td>3170</td>\n",
       "      <td>1499</td>\n",
       "      <td>9</td>\n",
       "      <td>9</td>\n",
       "      <td>70</td>\n",
       "    </tr>\n",
       "    <tr>\n",
       "      <td>3171</td>\n",
       "      <td>1499</td>\n",
       "      <td>10</td>\n",
       "      <td>68</td>\n",
       "      <td>449</td>\n",
       "    </tr>\n",
       "    <tr>\n",
       "      <td>3172</td>\n",
       "      <td>1499</td>\n",
       "      <td>11</td>\n",
       "      <td>74</td>\n",
       "      <td>612</td>\n",
       "    </tr>\n",
       "    <tr>\n",
       "      <td>3173</td>\n",
       "      <td>1499</td>\n",
       "      <td>12</td>\n",
       "      <td>69</td>\n",
       "      <td>492</td>\n",
       "    </tr>\n",
       "  </tbody>\n",
       "</table>\n",
       "<p>3174 rows × 4 columns</p>\n",
       "</div>"
      ],
      "text/plain": [
       "      user_id  month  calls_count  calls_sum\n",
       "0        1000      5           22        159\n",
       "1        1000      6           43        172\n",
       "2        1000      7           47        340\n",
       "3        1000      8           52        408\n",
       "4        1000      9           58        466\n",
       "...       ...    ...          ...        ...\n",
       "3169     1498     10           41        247\n",
       "3170     1499      9            9         70\n",
       "3171     1499     10           68        449\n",
       "3172     1499     11           74        612\n",
       "3173     1499     12           69        492\n",
       "\n",
       "[3174 rows x 4 columns]"
      ]
     },
     "execution_count": 24,
     "metadata": {},
     "output_type": "execute_result"
    }
   ],
   "source": [
    "calls_per_month = (\n",
    "    pd.pivot_table(\n",
    "        data_calls,\n",
    "        index=['user_id', 'month'],\n",
    "        values='duration',\n",
    "        aggfunc=['count', 'sum'])\n",
    ").reset_index()\n",
    "calls_per_month.columns = calls_per_month.columns.droplevel(1)\n",
    "calls_per_month = calls_per_month.rename(columns={'count': 'calls_count', 'sum': 'calls_sum'})\n",
    "calls_per_month"
   ]
  },
  {
   "cell_type": "markdown",
   "metadata": {},
   "source": [
    "### Подсчет сообщений по месяцам"
   ]
  },
  {
   "cell_type": "code",
   "execution_count": 25,
   "metadata": {},
   "outputs": [
    {
     "data": {
      "text/html": [
       "<div>\n",
       "<style scoped>\n",
       "    .dataframe tbody tr th:only-of-type {\n",
       "        vertical-align: middle;\n",
       "    }\n",
       "\n",
       "    .dataframe tbody tr th {\n",
       "        vertical-align: top;\n",
       "    }\n",
       "\n",
       "    .dataframe thead th {\n",
       "        text-align: right;\n",
       "    }\n",
       "</style>\n",
       "<table border=\"1\" class=\"dataframe\">\n",
       "  <thead>\n",
       "    <tr style=\"text-align: right;\">\n",
       "      <th></th>\n",
       "      <th>user_id</th>\n",
       "      <th>month</th>\n",
       "      <th>message_count</th>\n",
       "    </tr>\n",
       "  </thead>\n",
       "  <tbody>\n",
       "    <tr>\n",
       "      <td>0</td>\n",
       "      <td>1000</td>\n",
       "      <td>5</td>\n",
       "      <td>22</td>\n",
       "    </tr>\n",
       "    <tr>\n",
       "      <td>1</td>\n",
       "      <td>1000</td>\n",
       "      <td>6</td>\n",
       "      <td>60</td>\n",
       "    </tr>\n",
       "    <tr>\n",
       "      <td>2</td>\n",
       "      <td>1000</td>\n",
       "      <td>7</td>\n",
       "      <td>75</td>\n",
       "    </tr>\n",
       "    <tr>\n",
       "      <td>3</td>\n",
       "      <td>1000</td>\n",
       "      <td>8</td>\n",
       "      <td>81</td>\n",
       "    </tr>\n",
       "    <tr>\n",
       "      <td>4</td>\n",
       "      <td>1000</td>\n",
       "      <td>9</td>\n",
       "      <td>57</td>\n",
       "    </tr>\n",
       "    <tr>\n",
       "      <td>...</td>\n",
       "      <td>...</td>\n",
       "      <td>...</td>\n",
       "      <td>...</td>\n",
       "    </tr>\n",
       "    <tr>\n",
       "      <td>2712</td>\n",
       "      <td>1498</td>\n",
       "      <td>10</td>\n",
       "      <td>42</td>\n",
       "    </tr>\n",
       "    <tr>\n",
       "      <td>2713</td>\n",
       "      <td>1499</td>\n",
       "      <td>9</td>\n",
       "      <td>11</td>\n",
       "    </tr>\n",
       "    <tr>\n",
       "      <td>2714</td>\n",
       "      <td>1499</td>\n",
       "      <td>10</td>\n",
       "      <td>48</td>\n",
       "    </tr>\n",
       "    <tr>\n",
       "      <td>2715</td>\n",
       "      <td>1499</td>\n",
       "      <td>11</td>\n",
       "      <td>59</td>\n",
       "    </tr>\n",
       "    <tr>\n",
       "      <td>2716</td>\n",
       "      <td>1499</td>\n",
       "      <td>12</td>\n",
       "      <td>66</td>\n",
       "    </tr>\n",
       "  </tbody>\n",
       "</table>\n",
       "<p>2717 rows × 3 columns</p>\n",
       "</div>"
      ],
      "text/plain": [
       "      user_id  month  message_count\n",
       "0        1000      5             22\n",
       "1        1000      6             60\n",
       "2        1000      7             75\n",
       "3        1000      8             81\n",
       "4        1000      9             57\n",
       "...       ...    ...            ...\n",
       "2712     1498     10             42\n",
       "2713     1499      9             11\n",
       "2714     1499     10             48\n",
       "2715     1499     11             59\n",
       "2716     1499     12             66\n",
       "\n",
       "[2717 rows x 3 columns]"
      ]
     },
     "execution_count": 25,
     "metadata": {},
     "output_type": "execute_result"
    }
   ],
   "source": [
    "message_per_month = (\n",
    "    pd.pivot_table(\n",
    "        data_messages,\n",
    "        index=['user_id', 'month'],\n",
    "        values='id',\n",
    "        aggfunc='count')\n",
    ").reset_index()\n",
    "message_per_month = message_per_month.rename(columns={'id': 'message_count'})\n",
    "message_per_month"
   ]
  },
  {
   "cell_type": "markdown",
   "metadata": {},
   "source": [
    "### Объем трафика по месяцам"
   ]
  },
  {
   "cell_type": "code",
   "execution_count": 26,
   "metadata": {},
   "outputs": [
    {
     "data": {
      "text/html": [
       "<div>\n",
       "<style scoped>\n",
       "    .dataframe tbody tr th:only-of-type {\n",
       "        vertical-align: middle;\n",
       "    }\n",
       "\n",
       "    .dataframe tbody tr th {\n",
       "        vertical-align: top;\n",
       "    }\n",
       "\n",
       "    .dataframe thead th {\n",
       "        text-align: right;\n",
       "    }\n",
       "</style>\n",
       "<table border=\"1\" class=\"dataframe\">\n",
       "  <thead>\n",
       "    <tr style=\"text-align: right;\">\n",
       "      <th></th>\n",
       "      <th>user_id</th>\n",
       "      <th>month</th>\n",
       "      <th>mb_count</th>\n",
       "      <th>mb_sum</th>\n",
       "    </tr>\n",
       "  </thead>\n",
       "  <tbody>\n",
       "    <tr>\n",
       "      <td>0</td>\n",
       "      <td>1000</td>\n",
       "      <td>5</td>\n",
       "      <td>5</td>\n",
       "      <td>2256</td>\n",
       "    </tr>\n",
       "    <tr>\n",
       "      <td>1</td>\n",
       "      <td>1000</td>\n",
       "      <td>6</td>\n",
       "      <td>49</td>\n",
       "      <td>23257</td>\n",
       "    </tr>\n",
       "    <tr>\n",
       "      <td>2</td>\n",
       "      <td>1000</td>\n",
       "      <td>7</td>\n",
       "      <td>29</td>\n",
       "      <td>14016</td>\n",
       "    </tr>\n",
       "    <tr>\n",
       "      <td>3</td>\n",
       "      <td>1000</td>\n",
       "      <td>8</td>\n",
       "      <td>29</td>\n",
       "      <td>14070</td>\n",
       "    </tr>\n",
       "    <tr>\n",
       "      <td>4</td>\n",
       "      <td>1000</td>\n",
       "      <td>9</td>\n",
       "      <td>27</td>\n",
       "      <td>14581</td>\n",
       "    </tr>\n",
       "    <tr>\n",
       "      <td>...</td>\n",
       "      <td>...</td>\n",
       "      <td>...</td>\n",
       "      <td>...</td>\n",
       "      <td>...</td>\n",
       "    </tr>\n",
       "    <tr>\n",
       "      <td>3198</td>\n",
       "      <td>1498</td>\n",
       "      <td>10</td>\n",
       "      <td>59</td>\n",
       "      <td>20604</td>\n",
       "    </tr>\n",
       "    <tr>\n",
       "      <td>3199</td>\n",
       "      <td>1499</td>\n",
       "      <td>9</td>\n",
       "      <td>5</td>\n",
       "      <td>1848</td>\n",
       "    </tr>\n",
       "    <tr>\n",
       "      <td>3200</td>\n",
       "      <td>1499</td>\n",
       "      <td>10</td>\n",
       "      <td>58</td>\n",
       "      <td>17809</td>\n",
       "    </tr>\n",
       "    <tr>\n",
       "      <td>3201</td>\n",
       "      <td>1499</td>\n",
       "      <td>11</td>\n",
       "      <td>49</td>\n",
       "      <td>17984</td>\n",
       "    </tr>\n",
       "    <tr>\n",
       "      <td>3202</td>\n",
       "      <td>1499</td>\n",
       "      <td>12</td>\n",
       "      <td>45</td>\n",
       "      <td>13077</td>\n",
       "    </tr>\n",
       "  </tbody>\n",
       "</table>\n",
       "<p>3203 rows × 4 columns</p>\n",
       "</div>"
      ],
      "text/plain": [
       "      user_id  month  mb_count  mb_sum\n",
       "0        1000      5         5    2256\n",
       "1        1000      6        49   23257\n",
       "2        1000      7        29   14016\n",
       "3        1000      8        29   14070\n",
       "4        1000      9        27   14581\n",
       "...       ...    ...       ...     ...\n",
       "3198     1498     10        59   20604\n",
       "3199     1499      9         5    1848\n",
       "3200     1499     10        58   17809\n",
       "3201     1499     11        49   17984\n",
       "3202     1499     12        45   13077\n",
       "\n",
       "[3203 rows x 4 columns]"
      ]
     },
     "execution_count": 26,
     "metadata": {},
     "output_type": "execute_result"
    }
   ],
   "source": [
    "mb_per_month = (\n",
    "    pd.pivot_table(\n",
    "        data_internet,\n",
    "        index=['user_id', 'month'],\n",
    "        values='mb_used',\n",
    "        aggfunc=['count', 'sum']\n",
    "    )\n",
    ").reset_index()\n",
    "mb_per_month.columns = mb_per_month.columns.droplevel(1)\n",
    "mb_per_month = mb_per_month.rename(columns={'count': 'mb_count', 'sum': 'mb_sum'})\n",
    "mb_per_month"
   ]
  },
  {
   "cell_type": "markdown",
   "metadata": {},
   "source": [
    "### Выручка с каждого пользователя"
   ]
  },
  {
   "cell_type": "markdown",
   "metadata": {},
   "source": [
    "помесячную выручку с каждого пользователя (вычтите бесплатный лимит из суммарного количества звонков, сообщений и интернет-трафика; остаток умножьте на значение из тарифного плана; прибавьте абонентскую плату, соответствующую тарифному плану)."
   ]
  },
  {
   "cell_type": "code",
   "execution_count": 27,
   "metadata": {
    "scrolled": true
   },
   "outputs": [
    {
     "data": {
      "text/html": [
       "<div>\n",
       "<style scoped>\n",
       "    .dataframe tbody tr th:only-of-type {\n",
       "        vertical-align: middle;\n",
       "    }\n",
       "\n",
       "    .dataframe tbody tr th {\n",
       "        vertical-align: top;\n",
       "    }\n",
       "\n",
       "    .dataframe thead th {\n",
       "        text-align: right;\n",
       "    }\n",
       "</style>\n",
       "<table border=\"1\" class=\"dataframe\">\n",
       "  <thead>\n",
       "    <tr style=\"text-align: right;\">\n",
       "      <th></th>\n",
       "      <th>user_id</th>\n",
       "      <th>age</th>\n",
       "      <th>churn_date</th>\n",
       "      <th>city</th>\n",
       "      <th>first_name</th>\n",
       "      <th>last_name</th>\n",
       "      <th>reg_date</th>\n",
       "      <th>tariff</th>\n",
       "      <th>month</th>\n",
       "      <th>calls_count</th>\n",
       "      <th>calls_sum</th>\n",
       "      <th>message_count</th>\n",
       "      <th>mb_count</th>\n",
       "      <th>mb_sum</th>\n",
       "    </tr>\n",
       "  </thead>\n",
       "  <tbody>\n",
       "    <tr>\n",
       "      <td>0</td>\n",
       "      <td>1000</td>\n",
       "      <td>52</td>\n",
       "      <td>NaN</td>\n",
       "      <td>Краснодар</td>\n",
       "      <td>Рафаил</td>\n",
       "      <td>Верещагин</td>\n",
       "      <td>2018-05-25</td>\n",
       "      <td>ultra</td>\n",
       "      <td>5.0</td>\n",
       "      <td>22.0</td>\n",
       "      <td>159.0</td>\n",
       "      <td>22.0</td>\n",
       "      <td>5.0</td>\n",
       "      <td>2256.0</td>\n",
       "    </tr>\n",
       "    <tr>\n",
       "      <td>1</td>\n",
       "      <td>1000</td>\n",
       "      <td>52</td>\n",
       "      <td>NaN</td>\n",
       "      <td>Краснодар</td>\n",
       "      <td>Рафаил</td>\n",
       "      <td>Верещагин</td>\n",
       "      <td>2018-05-25</td>\n",
       "      <td>ultra</td>\n",
       "      <td>6.0</td>\n",
       "      <td>43.0</td>\n",
       "      <td>172.0</td>\n",
       "      <td>60.0</td>\n",
       "      <td>49.0</td>\n",
       "      <td>23257.0</td>\n",
       "    </tr>\n",
       "    <tr>\n",
       "      <td>2</td>\n",
       "      <td>1000</td>\n",
       "      <td>52</td>\n",
       "      <td>NaN</td>\n",
       "      <td>Краснодар</td>\n",
       "      <td>Рафаил</td>\n",
       "      <td>Верещагин</td>\n",
       "      <td>2018-05-25</td>\n",
       "      <td>ultra</td>\n",
       "      <td>7.0</td>\n",
       "      <td>47.0</td>\n",
       "      <td>340.0</td>\n",
       "      <td>75.0</td>\n",
       "      <td>29.0</td>\n",
       "      <td>14016.0</td>\n",
       "    </tr>\n",
       "    <tr>\n",
       "      <td>3</td>\n",
       "      <td>1000</td>\n",
       "      <td>52</td>\n",
       "      <td>NaN</td>\n",
       "      <td>Краснодар</td>\n",
       "      <td>Рафаил</td>\n",
       "      <td>Верещагин</td>\n",
       "      <td>2018-05-25</td>\n",
       "      <td>ultra</td>\n",
       "      <td>8.0</td>\n",
       "      <td>52.0</td>\n",
       "      <td>408.0</td>\n",
       "      <td>81.0</td>\n",
       "      <td>29.0</td>\n",
       "      <td>14070.0</td>\n",
       "    </tr>\n",
       "    <tr>\n",
       "      <td>4</td>\n",
       "      <td>1000</td>\n",
       "      <td>52</td>\n",
       "      <td>NaN</td>\n",
       "      <td>Краснодар</td>\n",
       "      <td>Рафаил</td>\n",
       "      <td>Верещагин</td>\n",
       "      <td>2018-05-25</td>\n",
       "      <td>ultra</td>\n",
       "      <td>9.0</td>\n",
       "      <td>58.0</td>\n",
       "      <td>466.0</td>\n",
       "      <td>57.0</td>\n",
       "      <td>27.0</td>\n",
       "      <td>14581.0</td>\n",
       "    </tr>\n",
       "    <tr>\n",
       "      <td>...</td>\n",
       "      <td>...</td>\n",
       "      <td>...</td>\n",
       "      <td>...</td>\n",
       "      <td>...</td>\n",
       "      <td>...</td>\n",
       "      <td>...</td>\n",
       "      <td>...</td>\n",
       "      <td>...</td>\n",
       "      <td>...</td>\n",
       "      <td>...</td>\n",
       "      <td>...</td>\n",
       "      <td>...</td>\n",
       "      <td>...</td>\n",
       "      <td>...</td>\n",
       "    </tr>\n",
       "    <tr>\n",
       "      <td>3211</td>\n",
       "      <td>1498</td>\n",
       "      <td>68</td>\n",
       "      <td>2018-10-25</td>\n",
       "      <td>Владикавказ</td>\n",
       "      <td>Всеволод</td>\n",
       "      <td>Акимчин</td>\n",
       "      <td>2018-07-19</td>\n",
       "      <td>smart</td>\n",
       "      <td>10.0</td>\n",
       "      <td>41.0</td>\n",
       "      <td>247.0</td>\n",
       "      <td>42.0</td>\n",
       "      <td>59.0</td>\n",
       "      <td>20604.0</td>\n",
       "    </tr>\n",
       "    <tr>\n",
       "      <td>3212</td>\n",
       "      <td>1499</td>\n",
       "      <td>35</td>\n",
       "      <td>NaN</td>\n",
       "      <td>Пермь</td>\n",
       "      <td>Гектор</td>\n",
       "      <td>Корнилов</td>\n",
       "      <td>2018-09-27</td>\n",
       "      <td>smart</td>\n",
       "      <td>9.0</td>\n",
       "      <td>9.0</td>\n",
       "      <td>70.0</td>\n",
       "      <td>11.0</td>\n",
       "      <td>5.0</td>\n",
       "      <td>1848.0</td>\n",
       "    </tr>\n",
       "    <tr>\n",
       "      <td>3213</td>\n",
       "      <td>1499</td>\n",
       "      <td>35</td>\n",
       "      <td>NaN</td>\n",
       "      <td>Пермь</td>\n",
       "      <td>Гектор</td>\n",
       "      <td>Корнилов</td>\n",
       "      <td>2018-09-27</td>\n",
       "      <td>smart</td>\n",
       "      <td>10.0</td>\n",
       "      <td>68.0</td>\n",
       "      <td>449.0</td>\n",
       "      <td>48.0</td>\n",
       "      <td>58.0</td>\n",
       "      <td>17809.0</td>\n",
       "    </tr>\n",
       "    <tr>\n",
       "      <td>3214</td>\n",
       "      <td>1499</td>\n",
       "      <td>35</td>\n",
       "      <td>NaN</td>\n",
       "      <td>Пермь</td>\n",
       "      <td>Гектор</td>\n",
       "      <td>Корнилов</td>\n",
       "      <td>2018-09-27</td>\n",
       "      <td>smart</td>\n",
       "      <td>11.0</td>\n",
       "      <td>74.0</td>\n",
       "      <td>612.0</td>\n",
       "      <td>59.0</td>\n",
       "      <td>49.0</td>\n",
       "      <td>17984.0</td>\n",
       "    </tr>\n",
       "    <tr>\n",
       "      <td>3215</td>\n",
       "      <td>1499</td>\n",
       "      <td>35</td>\n",
       "      <td>NaN</td>\n",
       "      <td>Пермь</td>\n",
       "      <td>Гектор</td>\n",
       "      <td>Корнилов</td>\n",
       "      <td>2018-09-27</td>\n",
       "      <td>smart</td>\n",
       "      <td>12.0</td>\n",
       "      <td>69.0</td>\n",
       "      <td>492.0</td>\n",
       "      <td>66.0</td>\n",
       "      <td>45.0</td>\n",
       "      <td>13077.0</td>\n",
       "    </tr>\n",
       "  </tbody>\n",
       "</table>\n",
       "<p>3216 rows × 14 columns</p>\n",
       "</div>"
      ],
      "text/plain": [
       "      user_id  age  churn_date         city first_name  last_name   reg_date  \\\n",
       "0        1000   52         NaN    Краснодар     Рафаил  Верещагин 2018-05-25   \n",
       "1        1000   52         NaN    Краснодар     Рафаил  Верещагин 2018-05-25   \n",
       "2        1000   52         NaN    Краснодар     Рафаил  Верещагин 2018-05-25   \n",
       "3        1000   52         NaN    Краснодар     Рафаил  Верещагин 2018-05-25   \n",
       "4        1000   52         NaN    Краснодар     Рафаил  Верещагин 2018-05-25   \n",
       "...       ...  ...         ...          ...        ...        ...        ...   \n",
       "3211     1498   68  2018-10-25  Владикавказ   Всеволод    Акимчин 2018-07-19   \n",
       "3212     1499   35         NaN        Пермь     Гектор   Корнилов 2018-09-27   \n",
       "3213     1499   35         NaN        Пермь     Гектор   Корнилов 2018-09-27   \n",
       "3214     1499   35         NaN        Пермь     Гектор   Корнилов 2018-09-27   \n",
       "3215     1499   35         NaN        Пермь     Гектор   Корнилов 2018-09-27   \n",
       "\n",
       "     tariff  month  calls_count  calls_sum  message_count  mb_count   mb_sum  \n",
       "0     ultra    5.0         22.0      159.0           22.0       5.0   2256.0  \n",
       "1     ultra    6.0         43.0      172.0           60.0      49.0  23257.0  \n",
       "2     ultra    7.0         47.0      340.0           75.0      29.0  14016.0  \n",
       "3     ultra    8.0         52.0      408.0           81.0      29.0  14070.0  \n",
       "4     ultra    9.0         58.0      466.0           57.0      27.0  14581.0  \n",
       "...     ...    ...          ...        ...            ...       ...      ...  \n",
       "3211  smart   10.0         41.0      247.0           42.0      59.0  20604.0  \n",
       "3212  smart    9.0          9.0       70.0           11.0       5.0   1848.0  \n",
       "3213  smart   10.0         68.0      449.0           48.0      58.0  17809.0  \n",
       "3214  smart   11.0         74.0      612.0           59.0      49.0  17984.0  \n",
       "3215  smart   12.0         69.0      492.0           66.0      45.0  13077.0  \n",
       "\n",
       "[3216 rows x 14 columns]"
      ]
     },
     "execution_count": 27,
     "metadata": {},
     "output_type": "execute_result"
    }
   ],
   "source": [
    "data_free = [calls_per_month, message_per_month, mb_per_month]\n",
    "\n",
    "total_use = reduce(lambda left,right: pd.merge(left,right,on=['user_id', 'month'], how='outer'), data_free)\n",
    "\n",
    "total_use = pd.merge(data_users, total_use, how='outer')\n",
    "\n",
    "total_use"
   ]
  },
  {
   "cell_type": "code",
   "execution_count": 28,
   "metadata": {},
   "outputs": [
    {
     "name": "stdout",
     "output_type": "stream",
     "text": [
      "1450301\n",
      "1450301.0\n"
     ]
    }
   ],
   "source": [
    "print(calls_per_month['calls_sum'].sum())\n",
    "print(total_use['calls_sum'].sum())"
   ]
  },
  {
   "cell_type": "code",
   "execution_count": 30,
   "metadata": {},
   "outputs": [],
   "source": [
    "def calls_included(row):\n",
    "    if row['tariff'] == 'ultra':\n",
    "        calls = 3000\n",
    "\n",
    "    else:\n",
    "        calls = 500\n",
    "\n",
    "    return calls\n",
    "\n",
    "total_use['calls_included'] = total_use.apply(calls_included, axis=1)"
   ]
  },
  {
   "cell_type": "code",
   "execution_count": 31,
   "metadata": {},
   "outputs": [],
   "source": [
    "def messages_included(row):\n",
    "    if row['tariff'] == 'ultra':\n",
    "        messages = 1000\n",
    "\n",
    "    else:\n",
    "        messages = 50\n",
    "\n",
    "    return messages\n",
    "\n",
    "total_use['messages_included'] = total_use.apply(messages_included, axis=1)"
   ]
  },
  {
   "cell_type": "code",
   "execution_count": 32,
   "metadata": {},
   "outputs": [],
   "source": [
    "def mb_included(row):\n",
    "    if row['tariff'] == 'ultra':\n",
    "        mb = 30720\n",
    "        \n",
    "    else:\n",
    "        mb = 15360\n",
    "\n",
    "    return mb\n",
    "\n",
    "total_use['mb_included'] = total_use.apply(mb_included, axis=1)"
   ]
  },
  {
   "cell_type": "code",
   "execution_count": 33,
   "metadata": {},
   "outputs": [],
   "source": [
    "def rub_per_minute(row):\n",
    "    if row['tariff'] == 'ultra':\n",
    "        rub = 1\n",
    "    else:\n",
    "        rub = 3\n",
    "    return rub\n",
    "\n",
    "total_use['rub_per_minute'] = total_use.apply(rub_per_minute, axis=1)"
   ]
  },
  {
   "cell_type": "code",
   "execution_count": 34,
   "metadata": {},
   "outputs": [],
   "source": [
    "def rub_per_message(row):\n",
    "    if row['tariff'] == 'ultra':\n",
    "        rub = 1\n",
    "    else:\n",
    "        rub = 3\n",
    "    return rub\n",
    "\n",
    "total_use['rub_per_message'] = total_use.apply(rub_per_message, axis=1)"
   ]
  },
  {
   "cell_type": "code",
   "execution_count": 35,
   "metadata": {},
   "outputs": [],
   "source": [
    "def rub_per_gb(row):\n",
    "    if row['tariff'] == 'ultra':\n",
    "        rub = 150\n",
    "    else:\n",
    "        rub = 200\n",
    "    return rub\n",
    "\n",
    "total_use['rub_per_gb'] = total_use.apply(rub_per_gb, axis=1)"
   ]
  },
  {
   "cell_type": "code",
   "execution_count": 36,
   "metadata": {},
   "outputs": [],
   "source": [
    "def monthly_fee(row):\n",
    "    if row['tariff'] == 'ultra':\n",
    "        rub = 1950\n",
    "    else:\n",
    "        rub = 550\n",
    "    return rub\n",
    "\n",
    "total_use['monthly_fee'] = total_use.apply(monthly_fee, axis=1)"
   ]
  },
  {
   "cell_type": "code",
   "execution_count": 37,
   "metadata": {},
   "outputs": [
    {
     "data": {
      "text/html": [
       "<div>\n",
       "<style scoped>\n",
       "    .dataframe tbody tr th:only-of-type {\n",
       "        vertical-align: middle;\n",
       "    }\n",
       "\n",
       "    .dataframe tbody tr th {\n",
       "        vertical-align: top;\n",
       "    }\n",
       "\n",
       "    .dataframe thead th {\n",
       "        text-align: right;\n",
       "    }\n",
       "</style>\n",
       "<table border=\"1\" class=\"dataframe\">\n",
       "  <thead>\n",
       "    <tr style=\"text-align: right;\">\n",
       "      <th></th>\n",
       "      <th>user_id</th>\n",
       "      <th>age</th>\n",
       "      <th>churn_date</th>\n",
       "      <th>city</th>\n",
       "      <th>first_name</th>\n",
       "      <th>last_name</th>\n",
       "      <th>reg_date</th>\n",
       "      <th>tariff</th>\n",
       "      <th>month</th>\n",
       "      <th>calls_count</th>\n",
       "      <th>calls_sum</th>\n",
       "      <th>message_count</th>\n",
       "      <th>mb_count</th>\n",
       "      <th>mb_sum</th>\n",
       "      <th>calls_included</th>\n",
       "      <th>messages_included</th>\n",
       "      <th>mb_included</th>\n",
       "      <th>rub_per_minute</th>\n",
       "      <th>rub_per_message</th>\n",
       "      <th>rub_per_gb</th>\n",
       "      <th>monthly_fee</th>\n",
       "    </tr>\n",
       "  </thead>\n",
       "  <tbody>\n",
       "    <tr>\n",
       "      <td>0</td>\n",
       "      <td>1000</td>\n",
       "      <td>52</td>\n",
       "      <td>NaN</td>\n",
       "      <td>Краснодар</td>\n",
       "      <td>Рафаил</td>\n",
       "      <td>Верещагин</td>\n",
       "      <td>2018-05-25</td>\n",
       "      <td>ultra</td>\n",
       "      <td>5.0</td>\n",
       "      <td>22.0</td>\n",
       "      <td>159.0</td>\n",
       "      <td>22.0</td>\n",
       "      <td>5.0</td>\n",
       "      <td>2256.0</td>\n",
       "      <td>3000</td>\n",
       "      <td>1000</td>\n",
       "      <td>30720</td>\n",
       "      <td>1</td>\n",
       "      <td>1</td>\n",
       "      <td>150</td>\n",
       "      <td>1950</td>\n",
       "    </tr>\n",
       "    <tr>\n",
       "      <td>1</td>\n",
       "      <td>1000</td>\n",
       "      <td>52</td>\n",
       "      <td>NaN</td>\n",
       "      <td>Краснодар</td>\n",
       "      <td>Рафаил</td>\n",
       "      <td>Верещагин</td>\n",
       "      <td>2018-05-25</td>\n",
       "      <td>ultra</td>\n",
       "      <td>6.0</td>\n",
       "      <td>43.0</td>\n",
       "      <td>172.0</td>\n",
       "      <td>60.0</td>\n",
       "      <td>49.0</td>\n",
       "      <td>23257.0</td>\n",
       "      <td>3000</td>\n",
       "      <td>1000</td>\n",
       "      <td>30720</td>\n",
       "      <td>1</td>\n",
       "      <td>1</td>\n",
       "      <td>150</td>\n",
       "      <td>1950</td>\n",
       "    </tr>\n",
       "    <tr>\n",
       "      <td>2</td>\n",
       "      <td>1000</td>\n",
       "      <td>52</td>\n",
       "      <td>NaN</td>\n",
       "      <td>Краснодар</td>\n",
       "      <td>Рафаил</td>\n",
       "      <td>Верещагин</td>\n",
       "      <td>2018-05-25</td>\n",
       "      <td>ultra</td>\n",
       "      <td>7.0</td>\n",
       "      <td>47.0</td>\n",
       "      <td>340.0</td>\n",
       "      <td>75.0</td>\n",
       "      <td>29.0</td>\n",
       "      <td>14016.0</td>\n",
       "      <td>3000</td>\n",
       "      <td>1000</td>\n",
       "      <td>30720</td>\n",
       "      <td>1</td>\n",
       "      <td>1</td>\n",
       "      <td>150</td>\n",
       "      <td>1950</td>\n",
       "    </tr>\n",
       "    <tr>\n",
       "      <td>3</td>\n",
       "      <td>1000</td>\n",
       "      <td>52</td>\n",
       "      <td>NaN</td>\n",
       "      <td>Краснодар</td>\n",
       "      <td>Рафаил</td>\n",
       "      <td>Верещагин</td>\n",
       "      <td>2018-05-25</td>\n",
       "      <td>ultra</td>\n",
       "      <td>8.0</td>\n",
       "      <td>52.0</td>\n",
       "      <td>408.0</td>\n",
       "      <td>81.0</td>\n",
       "      <td>29.0</td>\n",
       "      <td>14070.0</td>\n",
       "      <td>3000</td>\n",
       "      <td>1000</td>\n",
       "      <td>30720</td>\n",
       "      <td>1</td>\n",
       "      <td>1</td>\n",
       "      <td>150</td>\n",
       "      <td>1950</td>\n",
       "    </tr>\n",
       "    <tr>\n",
       "      <td>4</td>\n",
       "      <td>1000</td>\n",
       "      <td>52</td>\n",
       "      <td>NaN</td>\n",
       "      <td>Краснодар</td>\n",
       "      <td>Рафаил</td>\n",
       "      <td>Верещагин</td>\n",
       "      <td>2018-05-25</td>\n",
       "      <td>ultra</td>\n",
       "      <td>9.0</td>\n",
       "      <td>58.0</td>\n",
       "      <td>466.0</td>\n",
       "      <td>57.0</td>\n",
       "      <td>27.0</td>\n",
       "      <td>14581.0</td>\n",
       "      <td>3000</td>\n",
       "      <td>1000</td>\n",
       "      <td>30720</td>\n",
       "      <td>1</td>\n",
       "      <td>1</td>\n",
       "      <td>150</td>\n",
       "      <td>1950</td>\n",
       "    </tr>\n",
       "    <tr>\n",
       "      <td>...</td>\n",
       "      <td>...</td>\n",
       "      <td>...</td>\n",
       "      <td>...</td>\n",
       "      <td>...</td>\n",
       "      <td>...</td>\n",
       "      <td>...</td>\n",
       "      <td>...</td>\n",
       "      <td>...</td>\n",
       "      <td>...</td>\n",
       "      <td>...</td>\n",
       "      <td>...</td>\n",
       "      <td>...</td>\n",
       "      <td>...</td>\n",
       "      <td>...</td>\n",
       "      <td>...</td>\n",
       "      <td>...</td>\n",
       "      <td>...</td>\n",
       "      <td>...</td>\n",
       "      <td>...</td>\n",
       "      <td>...</td>\n",
       "      <td>...</td>\n",
       "    </tr>\n",
       "    <tr>\n",
       "      <td>3211</td>\n",
       "      <td>1498</td>\n",
       "      <td>68</td>\n",
       "      <td>2018-10-25</td>\n",
       "      <td>Владикавказ</td>\n",
       "      <td>Всеволод</td>\n",
       "      <td>Акимчин</td>\n",
       "      <td>2018-07-19</td>\n",
       "      <td>smart</td>\n",
       "      <td>10.0</td>\n",
       "      <td>41.0</td>\n",
       "      <td>247.0</td>\n",
       "      <td>42.0</td>\n",
       "      <td>59.0</td>\n",
       "      <td>20604.0</td>\n",
       "      <td>500</td>\n",
       "      <td>50</td>\n",
       "      <td>15360</td>\n",
       "      <td>3</td>\n",
       "      <td>3</td>\n",
       "      <td>200</td>\n",
       "      <td>550</td>\n",
       "    </tr>\n",
       "    <tr>\n",
       "      <td>3212</td>\n",
       "      <td>1499</td>\n",
       "      <td>35</td>\n",
       "      <td>NaN</td>\n",
       "      <td>Пермь</td>\n",
       "      <td>Гектор</td>\n",
       "      <td>Корнилов</td>\n",
       "      <td>2018-09-27</td>\n",
       "      <td>smart</td>\n",
       "      <td>9.0</td>\n",
       "      <td>9.0</td>\n",
       "      <td>70.0</td>\n",
       "      <td>11.0</td>\n",
       "      <td>5.0</td>\n",
       "      <td>1848.0</td>\n",
       "      <td>500</td>\n",
       "      <td>50</td>\n",
       "      <td>15360</td>\n",
       "      <td>3</td>\n",
       "      <td>3</td>\n",
       "      <td>200</td>\n",
       "      <td>550</td>\n",
       "    </tr>\n",
       "    <tr>\n",
       "      <td>3213</td>\n",
       "      <td>1499</td>\n",
       "      <td>35</td>\n",
       "      <td>NaN</td>\n",
       "      <td>Пермь</td>\n",
       "      <td>Гектор</td>\n",
       "      <td>Корнилов</td>\n",
       "      <td>2018-09-27</td>\n",
       "      <td>smart</td>\n",
       "      <td>10.0</td>\n",
       "      <td>68.0</td>\n",
       "      <td>449.0</td>\n",
       "      <td>48.0</td>\n",
       "      <td>58.0</td>\n",
       "      <td>17809.0</td>\n",
       "      <td>500</td>\n",
       "      <td>50</td>\n",
       "      <td>15360</td>\n",
       "      <td>3</td>\n",
       "      <td>3</td>\n",
       "      <td>200</td>\n",
       "      <td>550</td>\n",
       "    </tr>\n",
       "    <tr>\n",
       "      <td>3214</td>\n",
       "      <td>1499</td>\n",
       "      <td>35</td>\n",
       "      <td>NaN</td>\n",
       "      <td>Пермь</td>\n",
       "      <td>Гектор</td>\n",
       "      <td>Корнилов</td>\n",
       "      <td>2018-09-27</td>\n",
       "      <td>smart</td>\n",
       "      <td>11.0</td>\n",
       "      <td>74.0</td>\n",
       "      <td>612.0</td>\n",
       "      <td>59.0</td>\n",
       "      <td>49.0</td>\n",
       "      <td>17984.0</td>\n",
       "      <td>500</td>\n",
       "      <td>50</td>\n",
       "      <td>15360</td>\n",
       "      <td>3</td>\n",
       "      <td>3</td>\n",
       "      <td>200</td>\n",
       "      <td>550</td>\n",
       "    </tr>\n",
       "    <tr>\n",
       "      <td>3215</td>\n",
       "      <td>1499</td>\n",
       "      <td>35</td>\n",
       "      <td>NaN</td>\n",
       "      <td>Пермь</td>\n",
       "      <td>Гектор</td>\n",
       "      <td>Корнилов</td>\n",
       "      <td>2018-09-27</td>\n",
       "      <td>smart</td>\n",
       "      <td>12.0</td>\n",
       "      <td>69.0</td>\n",
       "      <td>492.0</td>\n",
       "      <td>66.0</td>\n",
       "      <td>45.0</td>\n",
       "      <td>13077.0</td>\n",
       "      <td>500</td>\n",
       "      <td>50</td>\n",
       "      <td>15360</td>\n",
       "      <td>3</td>\n",
       "      <td>3</td>\n",
       "      <td>200</td>\n",
       "      <td>550</td>\n",
       "    </tr>\n",
       "  </tbody>\n",
       "</table>\n",
       "<p>3216 rows × 21 columns</p>\n",
       "</div>"
      ],
      "text/plain": [
       "      user_id  age  churn_date         city first_name  last_name   reg_date  \\\n",
       "0        1000   52         NaN    Краснодар     Рафаил  Верещагин 2018-05-25   \n",
       "1        1000   52         NaN    Краснодар     Рафаил  Верещагин 2018-05-25   \n",
       "2        1000   52         NaN    Краснодар     Рафаил  Верещагин 2018-05-25   \n",
       "3        1000   52         NaN    Краснодар     Рафаил  Верещагин 2018-05-25   \n",
       "4        1000   52         NaN    Краснодар     Рафаил  Верещагин 2018-05-25   \n",
       "...       ...  ...         ...          ...        ...        ...        ...   \n",
       "3211     1498   68  2018-10-25  Владикавказ   Всеволод    Акимчин 2018-07-19   \n",
       "3212     1499   35         NaN        Пермь     Гектор   Корнилов 2018-09-27   \n",
       "3213     1499   35         NaN        Пермь     Гектор   Корнилов 2018-09-27   \n",
       "3214     1499   35         NaN        Пермь     Гектор   Корнилов 2018-09-27   \n",
       "3215     1499   35         NaN        Пермь     Гектор   Корнилов 2018-09-27   \n",
       "\n",
       "     tariff  month  calls_count  calls_sum  message_count  mb_count   mb_sum  \\\n",
       "0     ultra    5.0         22.0      159.0           22.0       5.0   2256.0   \n",
       "1     ultra    6.0         43.0      172.0           60.0      49.0  23257.0   \n",
       "2     ultra    7.0         47.0      340.0           75.0      29.0  14016.0   \n",
       "3     ultra    8.0         52.0      408.0           81.0      29.0  14070.0   \n",
       "4     ultra    9.0         58.0      466.0           57.0      27.0  14581.0   \n",
       "...     ...    ...          ...        ...            ...       ...      ...   \n",
       "3211  smart   10.0         41.0      247.0           42.0      59.0  20604.0   \n",
       "3212  smart    9.0          9.0       70.0           11.0       5.0   1848.0   \n",
       "3213  smart   10.0         68.0      449.0           48.0      58.0  17809.0   \n",
       "3214  smart   11.0         74.0      612.0           59.0      49.0  17984.0   \n",
       "3215  smart   12.0         69.0      492.0           66.0      45.0  13077.0   \n",
       "\n",
       "      calls_included  messages_included  mb_included  rub_per_minute  \\\n",
       "0               3000               1000        30720               1   \n",
       "1               3000               1000        30720               1   \n",
       "2               3000               1000        30720               1   \n",
       "3               3000               1000        30720               1   \n",
       "4               3000               1000        30720               1   \n",
       "...              ...                ...          ...             ...   \n",
       "3211             500                 50        15360               3   \n",
       "3212             500                 50        15360               3   \n",
       "3213             500                 50        15360               3   \n",
       "3214             500                 50        15360               3   \n",
       "3215             500                 50        15360               3   \n",
       "\n",
       "      rub_per_message  rub_per_gb  monthly_fee  \n",
       "0                   1         150         1950  \n",
       "1                   1         150         1950  \n",
       "2                   1         150         1950  \n",
       "3                   1         150         1950  \n",
       "4                   1         150         1950  \n",
       "...               ...         ...          ...  \n",
       "3211                3         200          550  \n",
       "3212                3         200          550  \n",
       "3213                3         200          550  \n",
       "3214                3         200          550  \n",
       "3215                3         200          550  \n",
       "\n",
       "[3216 rows x 21 columns]"
      ]
     },
     "execution_count": 37,
     "metadata": {},
     "output_type": "execute_result"
    }
   ],
   "source": [
    "total_use"
   ]
  },
  {
   "cell_type": "code",
   "execution_count": 38,
   "metadata": {},
   "outputs": [],
   "source": [
    "def revenue_counter(row):\n",
    "    calls = row['calls_sum']\n",
    "    messages = row['message_count']\n",
    "    internet = row['mb_sum']\n",
    "    free_limit_calls = row['calls_included']\n",
    "    free_limit_messages = row['messages_included']\n",
    "    free_limit_internet = row['mb_included']\n",
    "    fee_limit_calls = row['rub_per_minute']\n",
    "    fee_limit_messages = row['rub_per_message']\n",
    "    fee_limit_internet = row['rub_per_gb']\n",
    "    monthly_fee = row['monthly_fee']\n",
    "    \n",
    "    if calls > free_limit_calls:\n",
    "        monthly_fee += (calls - free_limit_calls) * fee_limit_calls\n",
    " \n",
    "    if internet > free_limit_internet:\n",
    "         monthly_fee += ((internet - free_limit_internet) / 1024) * fee_limit_internet\n",
    " \n",
    "    if messages > free_limit_messages:\n",
    "        monthly_fee += (messages - free_limit_messages) * fee_limit_messages \n",
    "    \n",
    "    return monthly_fee"
   ]
  },
  {
   "cell_type": "code",
   "execution_count": 39,
   "metadata": {},
   "outputs": [],
   "source": [
    "total_use['monthly_use'] = total_use.apply(revenue_counter, axis=1)"
   ]
  },
  {
   "cell_type": "code",
   "execution_count": 40,
   "metadata": {},
   "outputs": [
    {
     "data": {
      "text/html": [
       "<div>\n",
       "<style scoped>\n",
       "    .dataframe tbody tr th:only-of-type {\n",
       "        vertical-align: middle;\n",
       "    }\n",
       "\n",
       "    .dataframe tbody tr th {\n",
       "        vertical-align: top;\n",
       "    }\n",
       "\n",
       "    .dataframe thead th {\n",
       "        text-align: right;\n",
       "    }\n",
       "</style>\n",
       "<table border=\"1\" class=\"dataframe\">\n",
       "  <thead>\n",
       "    <tr style=\"text-align: right;\">\n",
       "      <th></th>\n",
       "      <th>user_id</th>\n",
       "      <th>age</th>\n",
       "      <th>churn_date</th>\n",
       "      <th>city</th>\n",
       "      <th>first_name</th>\n",
       "      <th>last_name</th>\n",
       "      <th>reg_date</th>\n",
       "      <th>tariff</th>\n",
       "      <th>month</th>\n",
       "      <th>calls_count</th>\n",
       "      <th>calls_sum</th>\n",
       "      <th>message_count</th>\n",
       "      <th>mb_count</th>\n",
       "      <th>mb_sum</th>\n",
       "      <th>calls_included</th>\n",
       "      <th>messages_included</th>\n",
       "      <th>mb_included</th>\n",
       "      <th>rub_per_minute</th>\n",
       "      <th>rub_per_message</th>\n",
       "      <th>rub_per_gb</th>\n",
       "      <th>monthly_fee</th>\n",
       "      <th>monthly_use</th>\n",
       "      <th>gb_used</th>\n",
       "    </tr>\n",
       "  </thead>\n",
       "  <tbody>\n",
       "    <tr>\n",
       "      <td>0</td>\n",
       "      <td>1000</td>\n",
       "      <td>52</td>\n",
       "      <td>NaN</td>\n",
       "      <td>Краснодар</td>\n",
       "      <td>Рафаил</td>\n",
       "      <td>Верещагин</td>\n",
       "      <td>2018-05-25</td>\n",
       "      <td>ultra</td>\n",
       "      <td>5.0</td>\n",
       "      <td>22.0</td>\n",
       "      <td>159.0</td>\n",
       "      <td>22.0</td>\n",
       "      <td>5.0</td>\n",
       "      <td>2256.0</td>\n",
       "      <td>3000</td>\n",
       "      <td>1000</td>\n",
       "      <td>30720</td>\n",
       "      <td>1</td>\n",
       "      <td>1</td>\n",
       "      <td>150</td>\n",
       "      <td>1950</td>\n",
       "      <td>1950.000000</td>\n",
       "      <td>2.203125</td>\n",
       "    </tr>\n",
       "    <tr>\n",
       "      <td>1</td>\n",
       "      <td>1000</td>\n",
       "      <td>52</td>\n",
       "      <td>NaN</td>\n",
       "      <td>Краснодар</td>\n",
       "      <td>Рафаил</td>\n",
       "      <td>Верещагин</td>\n",
       "      <td>2018-05-25</td>\n",
       "      <td>ultra</td>\n",
       "      <td>6.0</td>\n",
       "      <td>43.0</td>\n",
       "      <td>172.0</td>\n",
       "      <td>60.0</td>\n",
       "      <td>49.0</td>\n",
       "      <td>23257.0</td>\n",
       "      <td>3000</td>\n",
       "      <td>1000</td>\n",
       "      <td>30720</td>\n",
       "      <td>1</td>\n",
       "      <td>1</td>\n",
       "      <td>150</td>\n",
       "      <td>1950</td>\n",
       "      <td>1950.000000</td>\n",
       "      <td>22.711914</td>\n",
       "    </tr>\n",
       "    <tr>\n",
       "      <td>2</td>\n",
       "      <td>1000</td>\n",
       "      <td>52</td>\n",
       "      <td>NaN</td>\n",
       "      <td>Краснодар</td>\n",
       "      <td>Рафаил</td>\n",
       "      <td>Верещагин</td>\n",
       "      <td>2018-05-25</td>\n",
       "      <td>ultra</td>\n",
       "      <td>7.0</td>\n",
       "      <td>47.0</td>\n",
       "      <td>340.0</td>\n",
       "      <td>75.0</td>\n",
       "      <td>29.0</td>\n",
       "      <td>14016.0</td>\n",
       "      <td>3000</td>\n",
       "      <td>1000</td>\n",
       "      <td>30720</td>\n",
       "      <td>1</td>\n",
       "      <td>1</td>\n",
       "      <td>150</td>\n",
       "      <td>1950</td>\n",
       "      <td>1950.000000</td>\n",
       "      <td>13.687500</td>\n",
       "    </tr>\n",
       "    <tr>\n",
       "      <td>3</td>\n",
       "      <td>1000</td>\n",
       "      <td>52</td>\n",
       "      <td>NaN</td>\n",
       "      <td>Краснодар</td>\n",
       "      <td>Рафаил</td>\n",
       "      <td>Верещагин</td>\n",
       "      <td>2018-05-25</td>\n",
       "      <td>ultra</td>\n",
       "      <td>8.0</td>\n",
       "      <td>52.0</td>\n",
       "      <td>408.0</td>\n",
       "      <td>81.0</td>\n",
       "      <td>29.0</td>\n",
       "      <td>14070.0</td>\n",
       "      <td>3000</td>\n",
       "      <td>1000</td>\n",
       "      <td>30720</td>\n",
       "      <td>1</td>\n",
       "      <td>1</td>\n",
       "      <td>150</td>\n",
       "      <td>1950</td>\n",
       "      <td>1950.000000</td>\n",
       "      <td>13.740234</td>\n",
       "    </tr>\n",
       "    <tr>\n",
       "      <td>4</td>\n",
       "      <td>1000</td>\n",
       "      <td>52</td>\n",
       "      <td>NaN</td>\n",
       "      <td>Краснодар</td>\n",
       "      <td>Рафаил</td>\n",
       "      <td>Верещагин</td>\n",
       "      <td>2018-05-25</td>\n",
       "      <td>ultra</td>\n",
       "      <td>9.0</td>\n",
       "      <td>58.0</td>\n",
       "      <td>466.0</td>\n",
       "      <td>57.0</td>\n",
       "      <td>27.0</td>\n",
       "      <td>14581.0</td>\n",
       "      <td>3000</td>\n",
       "      <td>1000</td>\n",
       "      <td>30720</td>\n",
       "      <td>1</td>\n",
       "      <td>1</td>\n",
       "      <td>150</td>\n",
       "      <td>1950</td>\n",
       "      <td>1950.000000</td>\n",
       "      <td>14.239258</td>\n",
       "    </tr>\n",
       "    <tr>\n",
       "      <td>...</td>\n",
       "      <td>...</td>\n",
       "      <td>...</td>\n",
       "      <td>...</td>\n",
       "      <td>...</td>\n",
       "      <td>...</td>\n",
       "      <td>...</td>\n",
       "      <td>...</td>\n",
       "      <td>...</td>\n",
       "      <td>...</td>\n",
       "      <td>...</td>\n",
       "      <td>...</td>\n",
       "      <td>...</td>\n",
       "      <td>...</td>\n",
       "      <td>...</td>\n",
       "      <td>...</td>\n",
       "      <td>...</td>\n",
       "      <td>...</td>\n",
       "      <td>...</td>\n",
       "      <td>...</td>\n",
       "      <td>...</td>\n",
       "      <td>...</td>\n",
       "      <td>...</td>\n",
       "      <td>...</td>\n",
       "    </tr>\n",
       "    <tr>\n",
       "      <td>3211</td>\n",
       "      <td>1498</td>\n",
       "      <td>68</td>\n",
       "      <td>2018-10-25</td>\n",
       "      <td>Владикавказ</td>\n",
       "      <td>Всеволод</td>\n",
       "      <td>Акимчин</td>\n",
       "      <td>2018-07-19</td>\n",
       "      <td>smart</td>\n",
       "      <td>10.0</td>\n",
       "      <td>41.0</td>\n",
       "      <td>247.0</td>\n",
       "      <td>42.0</td>\n",
       "      <td>59.0</td>\n",
       "      <td>20604.0</td>\n",
       "      <td>500</td>\n",
       "      <td>50</td>\n",
       "      <td>15360</td>\n",
       "      <td>3</td>\n",
       "      <td>3</td>\n",
       "      <td>200</td>\n",
       "      <td>550</td>\n",
       "      <td>1574.218750</td>\n",
       "      <td>20.121094</td>\n",
       "    </tr>\n",
       "    <tr>\n",
       "      <td>3212</td>\n",
       "      <td>1499</td>\n",
       "      <td>35</td>\n",
       "      <td>NaN</td>\n",
       "      <td>Пермь</td>\n",
       "      <td>Гектор</td>\n",
       "      <td>Корнилов</td>\n",
       "      <td>2018-09-27</td>\n",
       "      <td>smart</td>\n",
       "      <td>9.0</td>\n",
       "      <td>9.0</td>\n",
       "      <td>70.0</td>\n",
       "      <td>11.0</td>\n",
       "      <td>5.0</td>\n",
       "      <td>1848.0</td>\n",
       "      <td>500</td>\n",
       "      <td>50</td>\n",
       "      <td>15360</td>\n",
       "      <td>3</td>\n",
       "      <td>3</td>\n",
       "      <td>200</td>\n",
       "      <td>550</td>\n",
       "      <td>550.000000</td>\n",
       "      <td>1.804688</td>\n",
       "    </tr>\n",
       "    <tr>\n",
       "      <td>3213</td>\n",
       "      <td>1499</td>\n",
       "      <td>35</td>\n",
       "      <td>NaN</td>\n",
       "      <td>Пермь</td>\n",
       "      <td>Гектор</td>\n",
       "      <td>Корнилов</td>\n",
       "      <td>2018-09-27</td>\n",
       "      <td>smart</td>\n",
       "      <td>10.0</td>\n",
       "      <td>68.0</td>\n",
       "      <td>449.0</td>\n",
       "      <td>48.0</td>\n",
       "      <td>58.0</td>\n",
       "      <td>17809.0</td>\n",
       "      <td>500</td>\n",
       "      <td>50</td>\n",
       "      <td>15360</td>\n",
       "      <td>3</td>\n",
       "      <td>3</td>\n",
       "      <td>200</td>\n",
       "      <td>550</td>\n",
       "      <td>1028.320312</td>\n",
       "      <td>17.391602</td>\n",
       "    </tr>\n",
       "    <tr>\n",
       "      <td>3214</td>\n",
       "      <td>1499</td>\n",
       "      <td>35</td>\n",
       "      <td>NaN</td>\n",
       "      <td>Пермь</td>\n",
       "      <td>Гектор</td>\n",
       "      <td>Корнилов</td>\n",
       "      <td>2018-09-27</td>\n",
       "      <td>smart</td>\n",
       "      <td>11.0</td>\n",
       "      <td>74.0</td>\n",
       "      <td>612.0</td>\n",
       "      <td>59.0</td>\n",
       "      <td>49.0</td>\n",
       "      <td>17984.0</td>\n",
       "      <td>500</td>\n",
       "      <td>50</td>\n",
       "      <td>15360</td>\n",
       "      <td>3</td>\n",
       "      <td>3</td>\n",
       "      <td>200</td>\n",
       "      <td>550</td>\n",
       "      <td>1425.500000</td>\n",
       "      <td>17.562500</td>\n",
       "    </tr>\n",
       "    <tr>\n",
       "      <td>3215</td>\n",
       "      <td>1499</td>\n",
       "      <td>35</td>\n",
       "      <td>NaN</td>\n",
       "      <td>Пермь</td>\n",
       "      <td>Гектор</td>\n",
       "      <td>Корнилов</td>\n",
       "      <td>2018-09-27</td>\n",
       "      <td>smart</td>\n",
       "      <td>12.0</td>\n",
       "      <td>69.0</td>\n",
       "      <td>492.0</td>\n",
       "      <td>66.0</td>\n",
       "      <td>45.0</td>\n",
       "      <td>13077.0</td>\n",
       "      <td>500</td>\n",
       "      <td>50</td>\n",
       "      <td>15360</td>\n",
       "      <td>3</td>\n",
       "      <td>3</td>\n",
       "      <td>200</td>\n",
       "      <td>550</td>\n",
       "      <td>598.000000</td>\n",
       "      <td>12.770508</td>\n",
       "    </tr>\n",
       "  </tbody>\n",
       "</table>\n",
       "<p>3216 rows × 23 columns</p>\n",
       "</div>"
      ],
      "text/plain": [
       "      user_id  age  churn_date         city first_name  last_name   reg_date  \\\n",
       "0        1000   52         NaN    Краснодар     Рафаил  Верещагин 2018-05-25   \n",
       "1        1000   52         NaN    Краснодар     Рафаил  Верещагин 2018-05-25   \n",
       "2        1000   52         NaN    Краснодар     Рафаил  Верещагин 2018-05-25   \n",
       "3        1000   52         NaN    Краснодар     Рафаил  Верещагин 2018-05-25   \n",
       "4        1000   52         NaN    Краснодар     Рафаил  Верещагин 2018-05-25   \n",
       "...       ...  ...         ...          ...        ...        ...        ...   \n",
       "3211     1498   68  2018-10-25  Владикавказ   Всеволод    Акимчин 2018-07-19   \n",
       "3212     1499   35         NaN        Пермь     Гектор   Корнилов 2018-09-27   \n",
       "3213     1499   35         NaN        Пермь     Гектор   Корнилов 2018-09-27   \n",
       "3214     1499   35         NaN        Пермь     Гектор   Корнилов 2018-09-27   \n",
       "3215     1499   35         NaN        Пермь     Гектор   Корнилов 2018-09-27   \n",
       "\n",
       "     tariff  month  calls_count  calls_sum  message_count  mb_count   mb_sum  \\\n",
       "0     ultra    5.0         22.0      159.0           22.0       5.0   2256.0   \n",
       "1     ultra    6.0         43.0      172.0           60.0      49.0  23257.0   \n",
       "2     ultra    7.0         47.0      340.0           75.0      29.0  14016.0   \n",
       "3     ultra    8.0         52.0      408.0           81.0      29.0  14070.0   \n",
       "4     ultra    9.0         58.0      466.0           57.0      27.0  14581.0   \n",
       "...     ...    ...          ...        ...            ...       ...      ...   \n",
       "3211  smart   10.0         41.0      247.0           42.0      59.0  20604.0   \n",
       "3212  smart    9.0          9.0       70.0           11.0       5.0   1848.0   \n",
       "3213  smart   10.0         68.0      449.0           48.0      58.0  17809.0   \n",
       "3214  smart   11.0         74.0      612.0           59.0      49.0  17984.0   \n",
       "3215  smart   12.0         69.0      492.0           66.0      45.0  13077.0   \n",
       "\n",
       "      calls_included  messages_included  mb_included  rub_per_minute  \\\n",
       "0               3000               1000        30720               1   \n",
       "1               3000               1000        30720               1   \n",
       "2               3000               1000        30720               1   \n",
       "3               3000               1000        30720               1   \n",
       "4               3000               1000        30720               1   \n",
       "...              ...                ...          ...             ...   \n",
       "3211             500                 50        15360               3   \n",
       "3212             500                 50        15360               3   \n",
       "3213             500                 50        15360               3   \n",
       "3214             500                 50        15360               3   \n",
       "3215             500                 50        15360               3   \n",
       "\n",
       "      rub_per_message  rub_per_gb  monthly_fee  monthly_use    gb_used  \n",
       "0                   1         150         1950  1950.000000   2.203125  \n",
       "1                   1         150         1950  1950.000000  22.711914  \n",
       "2                   1         150         1950  1950.000000  13.687500  \n",
       "3                   1         150         1950  1950.000000  13.740234  \n",
       "4                   1         150         1950  1950.000000  14.239258  \n",
       "...               ...         ...          ...          ...        ...  \n",
       "3211                3         200          550  1574.218750  20.121094  \n",
       "3212                3         200          550   550.000000   1.804688  \n",
       "3213                3         200          550  1028.320312  17.391602  \n",
       "3214                3         200          550  1425.500000  17.562500  \n",
       "3215                3         200          550   598.000000  12.770508  \n",
       "\n",
       "[3216 rows x 23 columns]"
      ]
     },
     "execution_count": 40,
     "metadata": {},
     "output_type": "execute_result"
    }
   ],
   "source": [
    "total_use['gb_used'] = total_use['mb_sum'] / 1024\n",
    "total_use"
   ]
  },
  {
   "cell_type": "markdown",
   "metadata": {},
   "source": [
    "<b>Вывод</b>"
   ]
  },
  {
   "cell_type": "markdown",
   "metadata": {},
   "source": [
    "Мы собрали одну большую таблицу со всеми нужными для расчетов данными. Посчитали сообщения, звонки и трафик для каждого пользователя в месяц, а потом посчитали выручку, учитывая тариф."
   ]
  },
  {
   "cell_type": "markdown",
   "metadata": {},
   "source": [
    "## Анализ данных"
   ]
  },
  {
   "cell_type": "markdown",
   "metadata": {},
   "source": [
    "Опишите поведение клиентов оператора, исходя из выборки. \n",
    "- Сколько минут разговора, сколько сообщений и какой объём интернет-трафика требуется пользователям каждого тарифа в месяц?\n",
    "- Посчитайте среднее количество, дисперсию и стандартное отклонение. \n",
    "- Постройте гистограммы. Опишите распределения."
   ]
  },
  {
   "cell_type": "code",
   "execution_count": 41,
   "metadata": {},
   "outputs": [],
   "source": [
    "smart_tariff = total_use[total_use['tariff'] == 'smart']\n",
    "ultra_tariff = total_use[total_use['tariff'] == 'ultra']"
   ]
  },
  {
   "cell_type": "code",
   "execution_count": 42,
   "metadata": {},
   "outputs": [
    {
     "data": {
      "text/html": [
       "<div>\n",
       "<style scoped>\n",
       "    .dataframe tbody tr th:only-of-type {\n",
       "        vertical-align: middle;\n",
       "    }\n",
       "\n",
       "    .dataframe tbody tr th {\n",
       "        vertical-align: top;\n",
       "    }\n",
       "\n",
       "    .dataframe thead th {\n",
       "        text-align: right;\n",
       "    }\n",
       "</style>\n",
       "<table border=\"1\" class=\"dataframe\">\n",
       "  <thead>\n",
       "    <tr style=\"text-align: right;\">\n",
       "      <th></th>\n",
       "      <th>user_id</th>\n",
       "      <th>age</th>\n",
       "      <th>churn_date</th>\n",
       "      <th>city</th>\n",
       "      <th>first_name</th>\n",
       "      <th>last_name</th>\n",
       "      <th>reg_date</th>\n",
       "      <th>tariff</th>\n",
       "      <th>month</th>\n",
       "      <th>calls_count</th>\n",
       "      <th>calls_sum</th>\n",
       "      <th>message_count</th>\n",
       "      <th>mb_count</th>\n",
       "      <th>mb_sum</th>\n",
       "      <th>calls_included</th>\n",
       "      <th>messages_included</th>\n",
       "      <th>mb_included</th>\n",
       "      <th>rub_per_minute</th>\n",
       "      <th>rub_per_message</th>\n",
       "      <th>rub_per_gb</th>\n",
       "      <th>monthly_fee</th>\n",
       "      <th>monthly_use</th>\n",
       "      <th>gb_used</th>\n",
       "    </tr>\n",
       "  </thead>\n",
       "  <tbody>\n",
       "    <tr>\n",
       "      <td>8</td>\n",
       "      <td>1001</td>\n",
       "      <td>41</td>\n",
       "      <td>NaN</td>\n",
       "      <td>Москва</td>\n",
       "      <td>Иван</td>\n",
       "      <td>Ежов</td>\n",
       "      <td>2018-11-01</td>\n",
       "      <td>smart</td>\n",
       "      <td>11.0</td>\n",
       "      <td>59.0</td>\n",
       "      <td>430.0</td>\n",
       "      <td>NaN</td>\n",
       "      <td>55.0</td>\n",
       "      <td>18452.0</td>\n",
       "      <td>500</td>\n",
       "      <td>50</td>\n",
       "      <td>15360</td>\n",
       "      <td>3</td>\n",
       "      <td>3</td>\n",
       "      <td>200</td>\n",
       "      <td>550</td>\n",
       "      <td>1153.906250</td>\n",
       "      <td>18.019531</td>\n",
       "    </tr>\n",
       "    <tr>\n",
       "      <td>9</td>\n",
       "      <td>1001</td>\n",
       "      <td>41</td>\n",
       "      <td>NaN</td>\n",
       "      <td>Москва</td>\n",
       "      <td>Иван</td>\n",
       "      <td>Ежов</td>\n",
       "      <td>2018-11-01</td>\n",
       "      <td>smart</td>\n",
       "      <td>12.0</td>\n",
       "      <td>63.0</td>\n",
       "      <td>414.0</td>\n",
       "      <td>NaN</td>\n",
       "      <td>41.0</td>\n",
       "      <td>14053.0</td>\n",
       "      <td>500</td>\n",
       "      <td>50</td>\n",
       "      <td>15360</td>\n",
       "      <td>3</td>\n",
       "      <td>3</td>\n",
       "      <td>200</td>\n",
       "      <td>550</td>\n",
       "      <td>550.000000</td>\n",
       "      <td>13.723633</td>\n",
       "    </tr>\n",
       "    <tr>\n",
       "      <td>10</td>\n",
       "      <td>1002</td>\n",
       "      <td>59</td>\n",
       "      <td>NaN</td>\n",
       "      <td>Стерлитамак</td>\n",
       "      <td>Евгений</td>\n",
       "      <td>Абрамович</td>\n",
       "      <td>2018-06-17</td>\n",
       "      <td>smart</td>\n",
       "      <td>6.0</td>\n",
       "      <td>15.0</td>\n",
       "      <td>117.0</td>\n",
       "      <td>4.0</td>\n",
       "      <td>34.0</td>\n",
       "      <td>10871.0</td>\n",
       "      <td>500</td>\n",
       "      <td>50</td>\n",
       "      <td>15360</td>\n",
       "      <td>3</td>\n",
       "      <td>3</td>\n",
       "      <td>200</td>\n",
       "      <td>550</td>\n",
       "      <td>550.000000</td>\n",
       "      <td>10.616211</td>\n",
       "    </tr>\n",
       "    <tr>\n",
       "      <td>11</td>\n",
       "      <td>1002</td>\n",
       "      <td>59</td>\n",
       "      <td>NaN</td>\n",
       "      <td>Стерлитамак</td>\n",
       "      <td>Евгений</td>\n",
       "      <td>Абрамович</td>\n",
       "      <td>2018-06-17</td>\n",
       "      <td>smart</td>\n",
       "      <td>7.0</td>\n",
       "      <td>26.0</td>\n",
       "      <td>214.0</td>\n",
       "      <td>11.0</td>\n",
       "      <td>58.0</td>\n",
       "      <td>17601.0</td>\n",
       "      <td>500</td>\n",
       "      <td>50</td>\n",
       "      <td>15360</td>\n",
       "      <td>3</td>\n",
       "      <td>3</td>\n",
       "      <td>200</td>\n",
       "      <td>550</td>\n",
       "      <td>987.695312</td>\n",
       "      <td>17.188477</td>\n",
       "    </tr>\n",
       "    <tr>\n",
       "      <td>12</td>\n",
       "      <td>1002</td>\n",
       "      <td>59</td>\n",
       "      <td>NaN</td>\n",
       "      <td>Стерлитамак</td>\n",
       "      <td>Евгений</td>\n",
       "      <td>Абрамович</td>\n",
       "      <td>2018-06-17</td>\n",
       "      <td>smart</td>\n",
       "      <td>8.0</td>\n",
       "      <td>42.0</td>\n",
       "      <td>289.0</td>\n",
       "      <td>13.0</td>\n",
       "      <td>60.0</td>\n",
       "      <td>20347.0</td>\n",
       "      <td>500</td>\n",
       "      <td>50</td>\n",
       "      <td>15360</td>\n",
       "      <td>3</td>\n",
       "      <td>3</td>\n",
       "      <td>200</td>\n",
       "      <td>550</td>\n",
       "      <td>1524.023438</td>\n",
       "      <td>19.870117</td>\n",
       "    </tr>\n",
       "    <tr>\n",
       "      <td>...</td>\n",
       "      <td>...</td>\n",
       "      <td>...</td>\n",
       "      <td>...</td>\n",
       "      <td>...</td>\n",
       "      <td>...</td>\n",
       "      <td>...</td>\n",
       "      <td>...</td>\n",
       "      <td>...</td>\n",
       "      <td>...</td>\n",
       "      <td>...</td>\n",
       "      <td>...</td>\n",
       "      <td>...</td>\n",
       "      <td>...</td>\n",
       "      <td>...</td>\n",
       "      <td>...</td>\n",
       "      <td>...</td>\n",
       "      <td>...</td>\n",
       "      <td>...</td>\n",
       "      <td>...</td>\n",
       "      <td>...</td>\n",
       "      <td>...</td>\n",
       "      <td>...</td>\n",
       "      <td>...</td>\n",
       "    </tr>\n",
       "    <tr>\n",
       "      <td>3211</td>\n",
       "      <td>1498</td>\n",
       "      <td>68</td>\n",
       "      <td>2018-10-25</td>\n",
       "      <td>Владикавказ</td>\n",
       "      <td>Всеволод</td>\n",
       "      <td>Акимчин</td>\n",
       "      <td>2018-07-19</td>\n",
       "      <td>smart</td>\n",
       "      <td>10.0</td>\n",
       "      <td>41.0</td>\n",
       "      <td>247.0</td>\n",
       "      <td>42.0</td>\n",
       "      <td>59.0</td>\n",
       "      <td>20604.0</td>\n",
       "      <td>500</td>\n",
       "      <td>50</td>\n",
       "      <td>15360</td>\n",
       "      <td>3</td>\n",
       "      <td>3</td>\n",
       "      <td>200</td>\n",
       "      <td>550</td>\n",
       "      <td>1574.218750</td>\n",
       "      <td>20.121094</td>\n",
       "    </tr>\n",
       "    <tr>\n",
       "      <td>3212</td>\n",
       "      <td>1499</td>\n",
       "      <td>35</td>\n",
       "      <td>NaN</td>\n",
       "      <td>Пермь</td>\n",
       "      <td>Гектор</td>\n",
       "      <td>Корнилов</td>\n",
       "      <td>2018-09-27</td>\n",
       "      <td>smart</td>\n",
       "      <td>9.0</td>\n",
       "      <td>9.0</td>\n",
       "      <td>70.0</td>\n",
       "      <td>11.0</td>\n",
       "      <td>5.0</td>\n",
       "      <td>1848.0</td>\n",
       "      <td>500</td>\n",
       "      <td>50</td>\n",
       "      <td>15360</td>\n",
       "      <td>3</td>\n",
       "      <td>3</td>\n",
       "      <td>200</td>\n",
       "      <td>550</td>\n",
       "      <td>550.000000</td>\n",
       "      <td>1.804688</td>\n",
       "    </tr>\n",
       "    <tr>\n",
       "      <td>3213</td>\n",
       "      <td>1499</td>\n",
       "      <td>35</td>\n",
       "      <td>NaN</td>\n",
       "      <td>Пермь</td>\n",
       "      <td>Гектор</td>\n",
       "      <td>Корнилов</td>\n",
       "      <td>2018-09-27</td>\n",
       "      <td>smart</td>\n",
       "      <td>10.0</td>\n",
       "      <td>68.0</td>\n",
       "      <td>449.0</td>\n",
       "      <td>48.0</td>\n",
       "      <td>58.0</td>\n",
       "      <td>17809.0</td>\n",
       "      <td>500</td>\n",
       "      <td>50</td>\n",
       "      <td>15360</td>\n",
       "      <td>3</td>\n",
       "      <td>3</td>\n",
       "      <td>200</td>\n",
       "      <td>550</td>\n",
       "      <td>1028.320312</td>\n",
       "      <td>17.391602</td>\n",
       "    </tr>\n",
       "    <tr>\n",
       "      <td>3214</td>\n",
       "      <td>1499</td>\n",
       "      <td>35</td>\n",
       "      <td>NaN</td>\n",
       "      <td>Пермь</td>\n",
       "      <td>Гектор</td>\n",
       "      <td>Корнилов</td>\n",
       "      <td>2018-09-27</td>\n",
       "      <td>smart</td>\n",
       "      <td>11.0</td>\n",
       "      <td>74.0</td>\n",
       "      <td>612.0</td>\n",
       "      <td>59.0</td>\n",
       "      <td>49.0</td>\n",
       "      <td>17984.0</td>\n",
       "      <td>500</td>\n",
       "      <td>50</td>\n",
       "      <td>15360</td>\n",
       "      <td>3</td>\n",
       "      <td>3</td>\n",
       "      <td>200</td>\n",
       "      <td>550</td>\n",
       "      <td>1425.500000</td>\n",
       "      <td>17.562500</td>\n",
       "    </tr>\n",
       "    <tr>\n",
       "      <td>3215</td>\n",
       "      <td>1499</td>\n",
       "      <td>35</td>\n",
       "      <td>NaN</td>\n",
       "      <td>Пермь</td>\n",
       "      <td>Гектор</td>\n",
       "      <td>Корнилов</td>\n",
       "      <td>2018-09-27</td>\n",
       "      <td>smart</td>\n",
       "      <td>12.0</td>\n",
       "      <td>69.0</td>\n",
       "      <td>492.0</td>\n",
       "      <td>66.0</td>\n",
       "      <td>45.0</td>\n",
       "      <td>13077.0</td>\n",
       "      <td>500</td>\n",
       "      <td>50</td>\n",
       "      <td>15360</td>\n",
       "      <td>3</td>\n",
       "      <td>3</td>\n",
       "      <td>200</td>\n",
       "      <td>550</td>\n",
       "      <td>598.000000</td>\n",
       "      <td>12.770508</td>\n",
       "    </tr>\n",
       "  </tbody>\n",
       "</table>\n",
       "<p>2230 rows × 23 columns</p>\n",
       "</div>"
      ],
      "text/plain": [
       "      user_id  age  churn_date         city first_name  last_name   reg_date  \\\n",
       "8        1001   41         NaN       Москва       Иван       Ежов 2018-11-01   \n",
       "9        1001   41         NaN       Москва       Иван       Ежов 2018-11-01   \n",
       "10       1002   59         NaN  Стерлитамак    Евгений  Абрамович 2018-06-17   \n",
       "11       1002   59         NaN  Стерлитамак    Евгений  Абрамович 2018-06-17   \n",
       "12       1002   59         NaN  Стерлитамак    Евгений  Абрамович 2018-06-17   \n",
       "...       ...  ...         ...          ...        ...        ...        ...   \n",
       "3211     1498   68  2018-10-25  Владикавказ   Всеволод    Акимчин 2018-07-19   \n",
       "3212     1499   35         NaN        Пермь     Гектор   Корнилов 2018-09-27   \n",
       "3213     1499   35         NaN        Пермь     Гектор   Корнилов 2018-09-27   \n",
       "3214     1499   35         NaN        Пермь     Гектор   Корнилов 2018-09-27   \n",
       "3215     1499   35         NaN        Пермь     Гектор   Корнилов 2018-09-27   \n",
       "\n",
       "     tariff  month  calls_count  calls_sum  message_count  mb_count   mb_sum  \\\n",
       "8     smart   11.0         59.0      430.0            NaN      55.0  18452.0   \n",
       "9     smart   12.0         63.0      414.0            NaN      41.0  14053.0   \n",
       "10    smart    6.0         15.0      117.0            4.0      34.0  10871.0   \n",
       "11    smart    7.0         26.0      214.0           11.0      58.0  17601.0   \n",
       "12    smart    8.0         42.0      289.0           13.0      60.0  20347.0   \n",
       "...     ...    ...          ...        ...            ...       ...      ...   \n",
       "3211  smart   10.0         41.0      247.0           42.0      59.0  20604.0   \n",
       "3212  smart    9.0          9.0       70.0           11.0       5.0   1848.0   \n",
       "3213  smart   10.0         68.0      449.0           48.0      58.0  17809.0   \n",
       "3214  smart   11.0         74.0      612.0           59.0      49.0  17984.0   \n",
       "3215  smart   12.0         69.0      492.0           66.0      45.0  13077.0   \n",
       "\n",
       "      calls_included  messages_included  mb_included  rub_per_minute  \\\n",
       "8                500                 50        15360               3   \n",
       "9                500                 50        15360               3   \n",
       "10               500                 50        15360               3   \n",
       "11               500                 50        15360               3   \n",
       "12               500                 50        15360               3   \n",
       "...              ...                ...          ...             ...   \n",
       "3211             500                 50        15360               3   \n",
       "3212             500                 50        15360               3   \n",
       "3213             500                 50        15360               3   \n",
       "3214             500                 50        15360               3   \n",
       "3215             500                 50        15360               3   \n",
       "\n",
       "      rub_per_message  rub_per_gb  monthly_fee  monthly_use    gb_used  \n",
       "8                   3         200          550  1153.906250  18.019531  \n",
       "9                   3         200          550   550.000000  13.723633  \n",
       "10                  3         200          550   550.000000  10.616211  \n",
       "11                  3         200          550   987.695312  17.188477  \n",
       "12                  3         200          550  1524.023438  19.870117  \n",
       "...               ...         ...          ...          ...        ...  \n",
       "3211                3         200          550  1574.218750  20.121094  \n",
       "3212                3         200          550   550.000000   1.804688  \n",
       "3213                3         200          550  1028.320312  17.391602  \n",
       "3214                3         200          550  1425.500000  17.562500  \n",
       "3215                3         200          550   598.000000  12.770508  \n",
       "\n",
       "[2230 rows x 23 columns]"
      ]
     },
     "execution_count": 42,
     "metadata": {},
     "output_type": "execute_result"
    }
   ],
   "source": [
    "smart_tariff"
   ]
  },
  {
   "cell_type": "code",
   "execution_count": 43,
   "metadata": {},
   "outputs": [
    {
     "data": {
      "text/html": [
       "<div>\n",
       "<style scoped>\n",
       "    .dataframe tbody tr th:only-of-type {\n",
       "        vertical-align: middle;\n",
       "    }\n",
       "\n",
       "    .dataframe tbody tr th {\n",
       "        vertical-align: top;\n",
       "    }\n",
       "\n",
       "    .dataframe thead th {\n",
       "        text-align: right;\n",
       "    }\n",
       "</style>\n",
       "<table border=\"1\" class=\"dataframe\">\n",
       "  <thead>\n",
       "    <tr style=\"text-align: right;\">\n",
       "      <th></th>\n",
       "      <th>user_id</th>\n",
       "      <th>age</th>\n",
       "      <th>churn_date</th>\n",
       "      <th>city</th>\n",
       "      <th>first_name</th>\n",
       "      <th>last_name</th>\n",
       "      <th>reg_date</th>\n",
       "      <th>tariff</th>\n",
       "      <th>month</th>\n",
       "      <th>calls_count</th>\n",
       "      <th>calls_sum</th>\n",
       "      <th>message_count</th>\n",
       "      <th>mb_count</th>\n",
       "      <th>mb_sum</th>\n",
       "      <th>calls_included</th>\n",
       "      <th>messages_included</th>\n",
       "      <th>mb_included</th>\n",
       "      <th>rub_per_minute</th>\n",
       "      <th>rub_per_message</th>\n",
       "      <th>rub_per_gb</th>\n",
       "      <th>monthly_fee</th>\n",
       "      <th>monthly_use</th>\n",
       "      <th>gb_used</th>\n",
       "    </tr>\n",
       "  </thead>\n",
       "  <tbody>\n",
       "    <tr>\n",
       "      <td>0</td>\n",
       "      <td>1000</td>\n",
       "      <td>52</td>\n",
       "      <td>NaN</td>\n",
       "      <td>Краснодар</td>\n",
       "      <td>Рафаил</td>\n",
       "      <td>Верещагин</td>\n",
       "      <td>2018-05-25</td>\n",
       "      <td>ultra</td>\n",
       "      <td>5.0</td>\n",
       "      <td>22.0</td>\n",
       "      <td>159.0</td>\n",
       "      <td>22.0</td>\n",
       "      <td>5.0</td>\n",
       "      <td>2256.0</td>\n",
       "      <td>3000</td>\n",
       "      <td>1000</td>\n",
       "      <td>30720</td>\n",
       "      <td>1</td>\n",
       "      <td>1</td>\n",
       "      <td>150</td>\n",
       "      <td>1950</td>\n",
       "      <td>1950.000000</td>\n",
       "      <td>2.203125</td>\n",
       "    </tr>\n",
       "    <tr>\n",
       "      <td>1</td>\n",
       "      <td>1000</td>\n",
       "      <td>52</td>\n",
       "      <td>NaN</td>\n",
       "      <td>Краснодар</td>\n",
       "      <td>Рафаил</td>\n",
       "      <td>Верещагин</td>\n",
       "      <td>2018-05-25</td>\n",
       "      <td>ultra</td>\n",
       "      <td>6.0</td>\n",
       "      <td>43.0</td>\n",
       "      <td>172.0</td>\n",
       "      <td>60.0</td>\n",
       "      <td>49.0</td>\n",
       "      <td>23257.0</td>\n",
       "      <td>3000</td>\n",
       "      <td>1000</td>\n",
       "      <td>30720</td>\n",
       "      <td>1</td>\n",
       "      <td>1</td>\n",
       "      <td>150</td>\n",
       "      <td>1950</td>\n",
       "      <td>1950.000000</td>\n",
       "      <td>22.711914</td>\n",
       "    </tr>\n",
       "    <tr>\n",
       "      <td>2</td>\n",
       "      <td>1000</td>\n",
       "      <td>52</td>\n",
       "      <td>NaN</td>\n",
       "      <td>Краснодар</td>\n",
       "      <td>Рафаил</td>\n",
       "      <td>Верещагин</td>\n",
       "      <td>2018-05-25</td>\n",
       "      <td>ultra</td>\n",
       "      <td>7.0</td>\n",
       "      <td>47.0</td>\n",
       "      <td>340.0</td>\n",
       "      <td>75.0</td>\n",
       "      <td>29.0</td>\n",
       "      <td>14016.0</td>\n",
       "      <td>3000</td>\n",
       "      <td>1000</td>\n",
       "      <td>30720</td>\n",
       "      <td>1</td>\n",
       "      <td>1</td>\n",
       "      <td>150</td>\n",
       "      <td>1950</td>\n",
       "      <td>1950.000000</td>\n",
       "      <td>13.687500</td>\n",
       "    </tr>\n",
       "    <tr>\n",
       "      <td>3</td>\n",
       "      <td>1000</td>\n",
       "      <td>52</td>\n",
       "      <td>NaN</td>\n",
       "      <td>Краснодар</td>\n",
       "      <td>Рафаил</td>\n",
       "      <td>Верещагин</td>\n",
       "      <td>2018-05-25</td>\n",
       "      <td>ultra</td>\n",
       "      <td>8.0</td>\n",
       "      <td>52.0</td>\n",
       "      <td>408.0</td>\n",
       "      <td>81.0</td>\n",
       "      <td>29.0</td>\n",
       "      <td>14070.0</td>\n",
       "      <td>3000</td>\n",
       "      <td>1000</td>\n",
       "      <td>30720</td>\n",
       "      <td>1</td>\n",
       "      <td>1</td>\n",
       "      <td>150</td>\n",
       "      <td>1950</td>\n",
       "      <td>1950.000000</td>\n",
       "      <td>13.740234</td>\n",
       "    </tr>\n",
       "    <tr>\n",
       "      <td>4</td>\n",
       "      <td>1000</td>\n",
       "      <td>52</td>\n",
       "      <td>NaN</td>\n",
       "      <td>Краснодар</td>\n",
       "      <td>Рафаил</td>\n",
       "      <td>Верещагин</td>\n",
       "      <td>2018-05-25</td>\n",
       "      <td>ultra</td>\n",
       "      <td>9.0</td>\n",
       "      <td>58.0</td>\n",
       "      <td>466.0</td>\n",
       "      <td>57.0</td>\n",
       "      <td>27.0</td>\n",
       "      <td>14581.0</td>\n",
       "      <td>3000</td>\n",
       "      <td>1000</td>\n",
       "      <td>30720</td>\n",
       "      <td>1</td>\n",
       "      <td>1</td>\n",
       "      <td>150</td>\n",
       "      <td>1950</td>\n",
       "      <td>1950.000000</td>\n",
       "      <td>14.239258</td>\n",
       "    </tr>\n",
       "    <tr>\n",
       "      <td>...</td>\n",
       "      <td>...</td>\n",
       "      <td>...</td>\n",
       "      <td>...</td>\n",
       "      <td>...</td>\n",
       "      <td>...</td>\n",
       "      <td>...</td>\n",
       "      <td>...</td>\n",
       "      <td>...</td>\n",
       "      <td>...</td>\n",
       "      <td>...</td>\n",
       "      <td>...</td>\n",
       "      <td>...</td>\n",
       "      <td>...</td>\n",
       "      <td>...</td>\n",
       "      <td>...</td>\n",
       "      <td>...</td>\n",
       "      <td>...</td>\n",
       "      <td>...</td>\n",
       "      <td>...</td>\n",
       "      <td>...</td>\n",
       "      <td>...</td>\n",
       "      <td>...</td>\n",
       "      <td>...</td>\n",
       "    </tr>\n",
       "    <tr>\n",
       "      <td>3188</td>\n",
       "      <td>1495</td>\n",
       "      <td>65</td>\n",
       "      <td>NaN</td>\n",
       "      <td>Иркутск</td>\n",
       "      <td>Авксентий</td>\n",
       "      <td>Фокин</td>\n",
       "      <td>2018-08-28</td>\n",
       "      <td>ultra</td>\n",
       "      <td>8.0</td>\n",
       "      <td>17.0</td>\n",
       "      <td>92.0</td>\n",
       "      <td>13.0</td>\n",
       "      <td>4.0</td>\n",
       "      <td>2616.0</td>\n",
       "      <td>3000</td>\n",
       "      <td>1000</td>\n",
       "      <td>30720</td>\n",
       "      <td>1</td>\n",
       "      <td>1</td>\n",
       "      <td>150</td>\n",
       "      <td>1950</td>\n",
       "      <td>1950.000000</td>\n",
       "      <td>2.554688</td>\n",
       "    </tr>\n",
       "    <tr>\n",
       "      <td>3189</td>\n",
       "      <td>1495</td>\n",
       "      <td>65</td>\n",
       "      <td>NaN</td>\n",
       "      <td>Иркутск</td>\n",
       "      <td>Авксентий</td>\n",
       "      <td>Фокин</td>\n",
       "      <td>2018-08-28</td>\n",
       "      <td>ultra</td>\n",
       "      <td>9.0</td>\n",
       "      <td>112.0</td>\n",
       "      <td>813.0</td>\n",
       "      <td>82.0</td>\n",
       "      <td>69.0</td>\n",
       "      <td>33105.0</td>\n",
       "      <td>3000</td>\n",
       "      <td>1000</td>\n",
       "      <td>30720</td>\n",
       "      <td>1</td>\n",
       "      <td>1</td>\n",
       "      <td>150</td>\n",
       "      <td>1950</td>\n",
       "      <td>2299.365234</td>\n",
       "      <td>32.329102</td>\n",
       "    </tr>\n",
       "    <tr>\n",
       "      <td>3190</td>\n",
       "      <td>1495</td>\n",
       "      <td>65</td>\n",
       "      <td>NaN</td>\n",
       "      <td>Иркутск</td>\n",
       "      <td>Авксентий</td>\n",
       "      <td>Фокин</td>\n",
       "      <td>2018-08-28</td>\n",
       "      <td>ultra</td>\n",
       "      <td>10.0</td>\n",
       "      <td>152.0</td>\n",
       "      <td>1030.0</td>\n",
       "      <td>82.0</td>\n",
       "      <td>63.0</td>\n",
       "      <td>29393.0</td>\n",
       "      <td>3000</td>\n",
       "      <td>1000</td>\n",
       "      <td>30720</td>\n",
       "      <td>1</td>\n",
       "      <td>1</td>\n",
       "      <td>150</td>\n",
       "      <td>1950</td>\n",
       "      <td>1950.000000</td>\n",
       "      <td>28.704102</td>\n",
       "    </tr>\n",
       "    <tr>\n",
       "      <td>3191</td>\n",
       "      <td>1495</td>\n",
       "      <td>65</td>\n",
       "      <td>NaN</td>\n",
       "      <td>Иркутск</td>\n",
       "      <td>Авксентий</td>\n",
       "      <td>Фокин</td>\n",
       "      <td>2018-08-28</td>\n",
       "      <td>ultra</td>\n",
       "      <td>11.0</td>\n",
       "      <td>129.0</td>\n",
       "      <td>954.0</td>\n",
       "      <td>79.0</td>\n",
       "      <td>71.0</td>\n",
       "      <td>38972.0</td>\n",
       "      <td>3000</td>\n",
       "      <td>1000</td>\n",
       "      <td>30720</td>\n",
       "      <td>1</td>\n",
       "      <td>1</td>\n",
       "      <td>150</td>\n",
       "      <td>1950</td>\n",
       "      <td>3158.789062</td>\n",
       "      <td>38.058594</td>\n",
       "    </tr>\n",
       "    <tr>\n",
       "      <td>3192</td>\n",
       "      <td>1495</td>\n",
       "      <td>65</td>\n",
       "      <td>NaN</td>\n",
       "      <td>Иркутск</td>\n",
       "      <td>Авксентий</td>\n",
       "      <td>Фокин</td>\n",
       "      <td>2018-08-28</td>\n",
       "      <td>ultra</td>\n",
       "      <td>12.0</td>\n",
       "      <td>155.0</td>\n",
       "      <td>1031.0</td>\n",
       "      <td>84.0</td>\n",
       "      <td>47.0</td>\n",
       "      <td>23450.0</td>\n",
       "      <td>3000</td>\n",
       "      <td>1000</td>\n",
       "      <td>30720</td>\n",
       "      <td>1</td>\n",
       "      <td>1</td>\n",
       "      <td>150</td>\n",
       "      <td>1950</td>\n",
       "      <td>1950.000000</td>\n",
       "      <td>22.900391</td>\n",
       "    </tr>\n",
       "  </tbody>\n",
       "</table>\n",
       "<p>986 rows × 23 columns</p>\n",
       "</div>"
      ],
      "text/plain": [
       "      user_id  age churn_date       city first_name  last_name   reg_date  \\\n",
       "0        1000   52        NaN  Краснодар     Рафаил  Верещагин 2018-05-25   \n",
       "1        1000   52        NaN  Краснодар     Рафаил  Верещагин 2018-05-25   \n",
       "2        1000   52        NaN  Краснодар     Рафаил  Верещагин 2018-05-25   \n",
       "3        1000   52        NaN  Краснодар     Рафаил  Верещагин 2018-05-25   \n",
       "4        1000   52        NaN  Краснодар     Рафаил  Верещагин 2018-05-25   \n",
       "...       ...  ...        ...        ...        ...        ...        ...   \n",
       "3188     1495   65        NaN    Иркутск  Авксентий      Фокин 2018-08-28   \n",
       "3189     1495   65        NaN    Иркутск  Авксентий      Фокин 2018-08-28   \n",
       "3190     1495   65        NaN    Иркутск  Авксентий      Фокин 2018-08-28   \n",
       "3191     1495   65        NaN    Иркутск  Авксентий      Фокин 2018-08-28   \n",
       "3192     1495   65        NaN    Иркутск  Авксентий      Фокин 2018-08-28   \n",
       "\n",
       "     tariff  month  calls_count  calls_sum  message_count  mb_count   mb_sum  \\\n",
       "0     ultra    5.0         22.0      159.0           22.0       5.0   2256.0   \n",
       "1     ultra    6.0         43.0      172.0           60.0      49.0  23257.0   \n",
       "2     ultra    7.0         47.0      340.0           75.0      29.0  14016.0   \n",
       "3     ultra    8.0         52.0      408.0           81.0      29.0  14070.0   \n",
       "4     ultra    9.0         58.0      466.0           57.0      27.0  14581.0   \n",
       "...     ...    ...          ...        ...            ...       ...      ...   \n",
       "3188  ultra    8.0         17.0       92.0           13.0       4.0   2616.0   \n",
       "3189  ultra    9.0        112.0      813.0           82.0      69.0  33105.0   \n",
       "3190  ultra   10.0        152.0     1030.0           82.0      63.0  29393.0   \n",
       "3191  ultra   11.0        129.0      954.0           79.0      71.0  38972.0   \n",
       "3192  ultra   12.0        155.0     1031.0           84.0      47.0  23450.0   \n",
       "\n",
       "      calls_included  messages_included  mb_included  rub_per_minute  \\\n",
       "0               3000               1000        30720               1   \n",
       "1               3000               1000        30720               1   \n",
       "2               3000               1000        30720               1   \n",
       "3               3000               1000        30720               1   \n",
       "4               3000               1000        30720               1   \n",
       "...              ...                ...          ...             ...   \n",
       "3188            3000               1000        30720               1   \n",
       "3189            3000               1000        30720               1   \n",
       "3190            3000               1000        30720               1   \n",
       "3191            3000               1000        30720               1   \n",
       "3192            3000               1000        30720               1   \n",
       "\n",
       "      rub_per_message  rub_per_gb  monthly_fee  monthly_use    gb_used  \n",
       "0                   1         150         1950  1950.000000   2.203125  \n",
       "1                   1         150         1950  1950.000000  22.711914  \n",
       "2                   1         150         1950  1950.000000  13.687500  \n",
       "3                   1         150         1950  1950.000000  13.740234  \n",
       "4                   1         150         1950  1950.000000  14.239258  \n",
       "...               ...         ...          ...          ...        ...  \n",
       "3188                1         150         1950  1950.000000   2.554688  \n",
       "3189                1         150         1950  2299.365234  32.329102  \n",
       "3190                1         150         1950  1950.000000  28.704102  \n",
       "3191                1         150         1950  3158.789062  38.058594  \n",
       "3192                1         150         1950  1950.000000  22.900391  \n",
       "\n",
       "[986 rows x 23 columns]"
      ]
     },
     "execution_count": 43,
     "metadata": {},
     "output_type": "execute_result"
    }
   ],
   "source": [
    "ultra_tariff"
   ]
  },
  {
   "cell_type": "markdown",
   "metadata": {},
   "source": [
    "### Среднее количество"
   ]
  },
  {
   "cell_type": "code",
   "execution_count": 44,
   "metadata": {},
   "outputs": [
    {
     "data": {
      "image/png": "[encoded data removed]",
      "text/plain": [
       "<Figure size 432x288 with 1 Axes>"
      ]
     },
     "metadata": {
      "needs_background": "light"
     },
     "output_type": "display_data"
    }
   ],
   "source": [
    "smart_calls = smart_tariff.pivot_table(index='month', values='calls_sum', aggfunc='mean')\n",
    "ax = smart_calls.plot(kind='bar', y='calls_sum', color='blue')\n",
    "plt.title('График среднего колличества звонков в месяц')\n",
    "plt.xlabel('месяц')\n",
    "plt.ylabel('Средняя длительность звонка')\n",
    "\n",
    "ultra_calls = ultra_tariff.pivot_table(index='month', values='calls_sum', aggfunc='mean')\n",
    "ultra_calls.plot(kind='bar', y='calls_sum', ax=ax, color='red', alpha=0.25)\n",
    "ax.legend(['smart', 'ultra'])\n",
    "plt.xlabel('месяц')\n",
    "plt.ylabel('Среднее количество звонков');"
   ]
  },
  {
   "cell_type": "markdown",
   "metadata": {},
   "source": [
    "<b>Вывод</b>"
   ]
  },
  {
   "cell_type": "markdown",
   "metadata": {},
   "source": [
    "Пользователи тарифов SMART и ULTRA в среднем укладываются в лимит доступных им минут в месяц.<br>\n",
    "- На протяжении всего года кроме 1 и 2 месяца пользователи тарифа SMART исчерпывают почти весь свой лимит, таким образом, используют его по максимуму.\n",
    "- Пользователи тарифа ULTRA лишь чуть чуть выходят за рамки тарифа SMART, а в некоторых месяцах даже не превышают и его. (1, 2)"
   ]
  },
  {
   "cell_type": "code",
   "execution_count": 45,
   "metadata": {},
   "outputs": [
    {
     "data": {
      "image/png": "[encoded data removed]",
      "text/plain": [
       "<Figure size 432x288 with 1 Axes>"
      ]
     },
     "metadata": {
      "needs_background": "light"
     },
     "output_type": "display_data"
    }
   ],
   "source": [
    "smart_message = smart_tariff.pivot_table(index='month', values='message_count', aggfunc='mean')\n",
    "ax = smart_message.plot(kind='bar', y='message_count', color='blue')\n",
    "plt.title('График среднего колличества сообщений в месяц')\n",
    "plt.xlabel('месяц')\n",
    "plt.ylabel('Среднее количество сообщений')\n",
    "\n",
    "ultra_message = ultra_tariff.pivot_table(index='month', values='message_count', aggfunc='mean')\n",
    "ultra_message.plot(kind='bar', y='message_count', ax=ax, color='red', alpha=0.25)\n",
    "ax.legend(['smart', 'ultra'])\n",
    "plt.xlabel('месяц')\n",
    "plt.ylabel('Среднее количество сообщений');"
   ]
  },
  {
   "cell_type": "markdown",
   "metadata": {},
   "source": [
    "<b>Вывод</b>"
   ]
  },
  {
   "cell_type": "markdown",
   "metadata": {},
   "source": [
    "Тоже самое касается и сообщений. Пользователи тарифов SMART и ULTRA не выходят за рамки. <br>\n",
    "- Как и на прошлом графике, пользователи тарифа SMART используют лимиты тарифа по максимуму, не догоняя лишь в 1 и 2 месяце.\n",
    "- Пользователи тарифа ULTRA лишь немного выходят за рамки 50 сообщений в месяц кроме месяцов 1, 2, 4."
   ]
  },
  {
   "cell_type": "code",
   "execution_count": 46,
   "metadata": {
    "scrolled": true
   },
   "outputs": [
    {
     "data": {
      "image/png": "[encoded data removed]",
      "text/plain": [
       "<Figure size 432x288 with 1 Axes>"
      ]
     },
     "metadata": {
      "needs_background": "light"
     },
     "output_type": "display_data"
    }
   ],
   "source": [
    "smart_gb = smart_tariff.pivot_table(index='month', values=('gb_used'), aggfunc='mean')\n",
    "ax = smart_gb.plot(kind='bar', y='gb_used', color='blue')\n",
    "plt.title('График среднего колличества трафика(ГБ) в месяц')\n",
    "plt.xlabel('месяц')\n",
    "plt.ylabel('Среднее количество трафика')\n",
    "\n",
    "ultra_gb = ultra_tariff.pivot_table(index='month', values='gb_used', aggfunc='mean')\n",
    "ultra_gb.plot(kind='bar', y='gb_used', ax=ax, color='red', alpha=0.25)\n",
    "ax.legend(['smart', 'ultra'])\n",
    "plt.xlabel('месяц')\n",
    "plt.ylabel('Среднее количество трафика');"
   ]
  },
  {
   "cell_type": "markdown",
   "metadata": {},
   "source": [
    "<b>Вывод</b>"
   ]
  },
  {
   "cell_type": "markdown",
   "metadata": {},
   "source": [
    "На этом графике пользователи тарифа SMART уже иногда выходят за рамки своего тарифа, в то время как пользователи ULTRA - нет.\n",
    "<br><br>\n",
    "У меня появляется вопрос. Если взять пиковые значения тарифа ULTRA и применить его к тарифу SMART. Будет ли выгодно пользоваться тарифом ULTRA или стоит взять тариф SMART и доплатить за лишние минуты, смс и интернет?"
   ]
  },
  {
   "cell_type": "markdown",
   "metadata": {},
   "source": [
    "### Выгода пользователя"
   ]
  },
  {
   "cell_type": "code",
   "execution_count": 47,
   "metadata": {
    "scrolled": true
   },
   "outputs": [
    {
     "data": {
      "text/html": [
       "<div>\n",
       "<style scoped>\n",
       "    .dataframe tbody tr th:only-of-type {\n",
       "        vertical-align: middle;\n",
       "    }\n",
       "\n",
       "    .dataframe tbody tr th {\n",
       "        vertical-align: top;\n",
       "    }\n",
       "\n",
       "    .dataframe thead th {\n",
       "        text-align: right;\n",
       "    }\n",
       "</style>\n",
       "<table border=\"1\" class=\"dataframe\">\n",
       "  <thead>\n",
       "    <tr style=\"text-align: right;\">\n",
       "      <th></th>\n",
       "      <th>Звонки(max)</th>\n",
       "      <th>Сообщения(max)</th>\n",
       "      <th>ГБ(max)</th>\n",
       "    </tr>\n",
       "  </thead>\n",
       "  <tbody>\n",
       "    <tr>\n",
       "      <td>0</td>\n",
       "      <td>615.0</td>\n",
       "      <td>72.0</td>\n",
       "      <td>21.0</td>\n",
       "    </tr>\n",
       "  </tbody>\n",
       "</table>\n",
       "</div>"
      ],
      "text/plain": [
       "   Звонки(max)  Сообщения(max)  ГБ(max)\n",
       "0        615.0            72.0     21.0"
      ]
     },
     "execution_count": 47,
     "metadata": {},
     "output_type": "execute_result"
    }
   ],
   "source": [
    "calls_max = ultra_calls['calls_sum'].max()\n",
    "message_max = ultra_message['message_count'].max()\n",
    "gb_max = ultra_gb['gb_used'].max()\n",
    "\n",
    "ultra_max = pd.DataFrame({'Звонки(max)': [calls_max],\n",
    "                          'Сообщения(max)': [message_max],\n",
    "                          'ГБ(max)': [gb_max]\n",
    "                         })\n",
    "\n",
    "ultra_max.round()"
   ]
  },
  {
   "cell_type": "markdown",
   "metadata": {},
   "source": [
    "Отсюда имеем сверху:\n",
    "- 140 минут разговоров\n",
    "- 23 сообщения\n",
    "- 7 ГБ трафика"
   ]
  },
  {
   "cell_type": "code",
   "execution_count": 48,
   "metadata": {
    "scrolled": true
   },
   "outputs": [
    {
     "name": "stdout",
     "output_type": "stream",
     "text": [
      "1889\n"
     ]
    }
   ],
   "source": [
    "print(140 * 3 + 23 * 3 + 7 * 200)"
   ]
  },
  {
   "cell_type": "markdown",
   "metadata": {},
   "source": [
    "При взятых пиковых значениях тариф действительно получается выгоден на 611 рублей, что, я думаю, вполне нормально и логично. А при средних ?"
   ]
  },
  {
   "cell_type": "code",
   "execution_count": 49,
   "metadata": {
    "scrolled": false
   },
   "outputs": [
    {
     "data": {
      "text/html": [
       "<div>\n",
       "<style scoped>\n",
       "    .dataframe tbody tr th:only-of-type {\n",
       "        vertical-align: middle;\n",
       "    }\n",
       "\n",
       "    .dataframe tbody tr th {\n",
       "        vertical-align: top;\n",
       "    }\n",
       "\n",
       "    .dataframe thead th {\n",
       "        text-align: right;\n",
       "    }\n",
       "</style>\n",
       "<table border=\"1\" class=\"dataframe\">\n",
       "  <thead>\n",
       "    <tr style=\"text-align: right;\">\n",
       "      <th></th>\n",
       "      <th>Звонки(max)</th>\n",
       "      <th>Сообщения(max)</th>\n",
       "      <th>ГБ(max)</th>\n",
       "    </tr>\n",
       "  </thead>\n",
       "  <tbody>\n",
       "    <tr>\n",
       "      <td>0</td>\n",
       "      <td>511.0</td>\n",
       "      <td>55.0</td>\n",
       "      <td>18.0</td>\n",
       "    </tr>\n",
       "  </tbody>\n",
       "</table>\n",
       "</div>"
      ],
      "text/plain": [
       "   Звонки(max)  Сообщения(max)  ГБ(max)\n",
       "0        511.0            55.0     18.0"
      ]
     },
     "execution_count": 49,
     "metadata": {},
     "output_type": "execute_result"
    }
   ],
   "source": [
    "calls_mean = ultra_calls['calls_sum'].mean()\n",
    "message_mean = ultra_message['message_count'].mean()\n",
    "gb_mean = ultra_gb['gb_used'].mean()\n",
    "\n",
    "ultra_mean = pd.DataFrame({'Звонки(max)': [calls_mean],\n",
    "                          'Сообщения(max)': [message_mean],\n",
    "                          'ГБ(max)': [gb_mean]\n",
    "                         })\n",
    "\n",
    "ultra_mean.round()"
   ]
  },
  {
   "cell_type": "markdown",
   "metadata": {},
   "source": [
    "Отсюда имеем сверху:\n",
    "- 32 минуты разговоров\n",
    "- 6 сообщений\n",
    "- 3 ГБ трафика"
   ]
  },
  {
   "cell_type": "code",
   "execution_count": 50,
   "metadata": {},
   "outputs": [
    {
     "name": "stdout",
     "output_type": "stream",
     "text": [
      "714\n"
     ]
    }
   ],
   "source": [
    "print(32 * 3 + 6 * 3 + 3 * 200)"
   ]
  },
  {
   "cell_type": "markdown",
   "metadata": {},
   "source": [
    "Что получается на 686 руб. дешевле, чем брать тариф ULTRA."
   ]
  },
  {
   "cell_type": "markdown",
   "metadata": {},
   "source": [
    "<b>Вывод</b>"
   ]
  },
  {
   "cell_type": "markdown",
   "metadata": {},
   "source": [
    "В среднем пользователи тарифа ULTRA не используют свои ресурсы на максимум и при этом переплачивают сумму, равную целому тарифу SMART и небольшой горкой."
   ]
  },
  {
   "cell_type": "markdown",
   "metadata": {},
   "source": [
    "### Дисперсия"
   ]
  },
  {
   "cell_type": "code",
   "execution_count": 51,
   "metadata": {},
   "outputs": [
    {
     "data": {
      "image/png": "[encoded data removed]",
      "text/plain": [
       "<Figure size 432x288 with 1 Axes>"
      ]
     },
     "metadata": {
      "needs_background": "light"
     },
     "output_type": "display_data"
    }
   ],
   "source": [
    "smart_calls = smart_tariff.pivot_table(index='month', values='calls_sum', aggfunc='var')\n",
    "ax = smart_calls.plot(kind='bar', y='calls_sum', color='violet')\n",
    "plt.title('График дисперсии звонков в месяц')\n",
    "plt.xlabel('месяц')\n",
    "plt.ylabel('Средняя длительность звонка')\n",
    "\n",
    "ultra_calls = ultra_tariff.pivot_table(index='month', values='calls_sum', aggfunc='var')\n",
    "ultra_calls.plot(kind='bar', y='calls_sum', ax=ax, color='green', alpha=0.25)\n",
    "ax.legend(['smart', 'ultra'])\n",
    "plt.xlabel('месяц')\n",
    "plt.ylabel('Среднее количество звонков');"
   ]
  },
  {
   "cell_type": "code",
   "execution_count": 52,
   "metadata": {},
   "outputs": [
    {
     "data": {
      "image/png": "[encoded data removed]",
      "text/plain": [
       "<Figure size 432x288 with 1 Axes>"
      ]
     },
     "metadata": {
      "needs_background": "light"
     },
     "output_type": "display_data"
    }
   ],
   "source": [
    "smart_message = smart_tariff.pivot_table(index='month', values='message_count', aggfunc='var')\n",
    "ax = smart_message.plot(kind='bar', y='message_count', color='violet')\n",
    "plt.title('График дисперсии сообщений в месяц')\n",
    "plt.xlabel('месяц')\n",
    "plt.ylabel('Среднее количество сообщений')\n",
    "\n",
    "ultra_message = ultra_tariff.pivot_table(index='month', values='message_count', aggfunc='var')\n",
    "ultra_message.plot(kind='bar', y='message_count', ax=ax, color='green', alpha=0.25)\n",
    "ax.legend(['smart', 'ultra'])\n",
    "plt.xlabel('месяц')\n",
    "plt.ylabel('Среднее количество сообщений');"
   ]
  },
  {
   "cell_type": "code",
   "execution_count": 53,
   "metadata": {},
   "outputs": [
    {
     "data": {
      "image/png": "[encoded data removed]",
      "text/plain": [
       "<Figure size 432x288 with 1 Axes>"
      ]
     },
     "metadata": {
      "needs_background": "light"
     },
     "output_type": "display_data"
    }
   ],
   "source": [
    "smart_gb = smart_tariff.pivot_table(index='month', values=('gb_used'), aggfunc='var')\n",
    "ax = smart_gb.plot(kind='bar', y='gb_used', color='violet')\n",
    "plt.title('График дисперсии трафика(ГБ) в месяц')\n",
    "plt.xlabel('месяц')\n",
    "plt.ylabel('Среднее количество трафика')\n",
    "\n",
    "ultra_gb = ultra_tariff.pivot_table(index='month', values='gb_used', aggfunc='var')\n",
    "ultra_gb.plot(kind='bar', y='gb_used', ax=ax, color='green', alpha=0.25)\n",
    "ax.legend(['smart', 'ultra'])\n",
    "plt.xlabel('месяц')\n",
    "plt.ylabel('Среднее количество трафика');"
   ]
  },
  {
   "cell_type": "markdown",
   "metadata": {},
   "source": [
    "### Стандартное отклонение"
   ]
  },
  {
   "cell_type": "code",
   "execution_count": 54,
   "metadata": {},
   "outputs": [
    {
     "data": {
      "image/png": "[encoded data removed]",
      "text/plain": [
       "<Figure size 432x288 with 1 Axes>"
      ]
     },
     "metadata": {
      "needs_background": "light"
     },
     "output_type": "display_data"
    }
   ],
   "source": [
    "smart_calls = smart_tariff.pivot_table(index='month', values='calls_sum', aggfunc='std')\n",
    "ax = smart_calls.plot(kind='bar', y='calls_sum', color='green')\n",
    "plt.title('График стандартного оклонения звонков в месяц')\n",
    "plt.xlabel('месяц')\n",
    "plt.ylabel('Средняя длительность звонка')\n",
    "\n",
    "ultra_calls = ultra_tariff.pivot_table(index='month', values='calls_sum', aggfunc='std')\n",
    "ultra_calls.plot(kind='bar', y='calls_sum', ax=ax, color='blue', alpha=0.25)\n",
    "ax.legend(['smart', 'ultra'])\n",
    "plt.xlabel('месяц')\n",
    "plt.ylabel('Среднее количество звонков');"
   ]
  },
  {
   "cell_type": "code",
   "execution_count": 55,
   "metadata": {},
   "outputs": [
    {
     "data": {
      "image/png": "[encoded data removed]",
      "text/plain": [
       "<Figure size 432x288 with 1 Axes>"
      ]
     },
     "metadata": {
      "needs_background": "light"
     },
     "output_type": "display_data"
    }
   ],
   "source": [
    "smart_message = smart_tariff.pivot_table(index='month', values='message_count', aggfunc='std')\n",
    "ax = smart_message.plot(kind='bar', y='message_count', color='green')\n",
    "plt.title('График стандартного отклонения сообщений в месяц')\n",
    "plt.xlabel('месяц')\n",
    "plt.ylabel('Среднее количество сообщений')\n",
    "\n",
    "ultra_message = ultra_tariff.pivot_table(index='month', values='message_count', aggfunc='std')\n",
    "ultra_message.plot(kind='bar', y='message_count', ax=ax, color='blue', alpha=0.25)\n",
    "ax.legend(['smart', 'ultra'])\n",
    "plt.xlabel('месяц')\n",
    "plt.ylabel('Среднее количество сообщений');"
   ]
  },
  {
   "cell_type": "code",
   "execution_count": 56,
   "metadata": {},
   "outputs": [
    {
     "data": {
      "image/png": "[encoded data removed]",
      "text/plain": [
       "<Figure size 432x288 with 1 Axes>"
      ]
     },
     "metadata": {
      "needs_background": "light"
     },
     "output_type": "display_data"
    }
   ],
   "source": [
    "smart_gb = smart_tariff.pivot_table(index='month', values=('gb_used'), aggfunc='std')\n",
    "ax = smart_gb.plot(kind='bar', y='gb_used', color='green')\n",
    "plt.title('График стандартного отклонения трафика(ГБ) в месяц')\n",
    "plt.xlabel('месяц')\n",
    "plt.ylabel('Среднее количество трафика')\n",
    "\n",
    "ultra_gb = ultra_tariff.pivot_table(index='month', values='gb_used', aggfunc='std')\n",
    "ultra_gb.plot(kind='bar', y='gb_used', ax=ax, color='blue', alpha=0.25)\n",
    "ax.legend(['smart', 'ultra'])\n",
    "plt.xlabel('месяц')\n",
    "plt.ylabel('Среднее количество трафика');"
   ]
  },
  {
   "cell_type": "code",
   "execution_count": 57,
   "metadata": {},
   "outputs": [
    {
     "data": {
      "image/png": "[encoded data removed]",
      "text/plain": [
       "<Figure size 720x432 with 1 Axes>"
      ]
     },
     "metadata": {
      "needs_background": "light"
     },
     "output_type": "display_data"
    }
   ],
   "source": [
    "plt.figure(figsize=(10, 6))\n",
    "total_use['calls_sum'][total_use['tariff'] == 'smart'].plot(kind='hist', alpha=0.5, bins=30)\n",
    "total_use['calls_sum'][total_use['tariff'] == 'ultra'].plot(kind='hist', alpha=0.5, bins=30)\n",
    "plt.title('Гистограмма распределения продолжительности звонков по 2-м тарифам'+ \"\\n\")\n",
    "plt.xlabel('Минуты')\n",
    "plt.ylabel('Частотность')\n",
    "plt.legend(['smart', 'ultra']);"
   ]
  },
  {
   "cell_type": "code",
   "execution_count": 58,
   "metadata": {},
   "outputs": [
    {
     "data": {
      "image/png": "[encoded data removed]",
      "text/plain": [
       "<Figure size 720x432 with 1 Axes>"
      ]
     },
     "metadata": {
      "needs_background": "light"
     },
     "output_type": "display_data"
    }
   ],
   "source": [
    "plt.figure(figsize=(10, 6))\n",
    "total_use['message_count'][total_use['tariff'] == 'smart'].plot(kind='hist', alpha=0.5, bins=30)\n",
    "total_use['message_count'][total_use['tariff'] == 'ultra'].plot(kind='hist', alpha=0.5, bins=30)\n",
    "plt.title('Гистограмма распределения количества сообщений по 2-м тарифам'+ \"\\n\")\n",
    "plt.xlabel('Минуты')\n",
    "plt.ylabel('Частотность')\n",
    "plt.legend(['smart', 'ultra']);"
   ]
  },
  {
   "cell_type": "code",
   "execution_count": 59,
   "metadata": {},
   "outputs": [
    {
     "data": {
      "image/png": "[encoded data removed]",
      "text/plain": [
       "<Figure size 720x432 with 1 Axes>"
      ]
     },
     "metadata": {
      "needs_background": "light"
     },
     "output_type": "display_data"
    }
   ],
   "source": [
    "plt.figure(figsize=(10, 6))\n",
    "total_use['gb_used'][total_use['tariff'] == 'smart'].plot(kind='hist', alpha=0.5, bins=30)\n",
    "total_use['gb_used'][total_use['tariff'] == 'ultra'].plot(kind='hist', alpha=0.5, bins=30)\n",
    "plt.title('Гистограмма распределения количества трафика по 2-м тарифам'+ \"\\n\")\n",
    "plt.xlabel('Минуты')\n",
    "plt.ylabel('Частотность')\n",
    "plt.legend(['smart', 'ultra']);"
   ]
  },
  {
   "cell_type": "markdown",
   "metadata": {},
   "source": [
    "<b>Вывод</b>"
   ]
  },
  {
   "cell_type": "markdown",
   "metadata": {},
   "source": [
    "Пользователи тарифов в среднем почти не выходят за рамки, предложенные тарифом, кроме использования трафика для пользователей SMART. В остальном, пользователи SMART используют все ресурсы своего тарифа, когда как пользователи ULTRA чуть больше половины."
   ]
  },
  {
   "cell_type": "markdown",
   "metadata": {},
   "source": [
    "## Проверка гипотезы"
   ]
  },
  {
   "cell_type": "markdown",
   "metadata": {},
   "source": [
    "Т.к. мы уже имеем гипотезы,\n",
    "нам остается определить, к какой гипотезе они подходят. Нулевой или альтернативной.<br>\n",
    "Нулевая гипотеза формируется со знаком равно, альтернативная ему противоречит."
   ]
  },
  {
   "cell_type": "markdown",
   "metadata": {},
   "source": [
    "<b>Нулевая гипотеза:</b> Средняя выручка с пользователей тарифов \"ULTRA\" и \"SMART\" одинковые(=).<br>\n",
    "<b>Альтернативная гипотеза:</b> Средняя выручка с пользователей тарифов \"ULTRA\" и \"SMART\" различаются(!=)."
   ]
  },
  {
   "cell_type": "code",
   "execution_count": 60,
   "metadata": {},
   "outputs": [],
   "source": [
    "alpha = .01"
   ]
  },
  {
   "cell_type": "code",
   "execution_count": 61,
   "metadata": {},
   "outputs": [
    {
     "name": "stdout",
     "output_type": "stream",
     "text": [
      "p-значение:  3.665639404941842e-296\n",
      "Отвергаем нулевую гипотезу\n"
     ]
    }
   ],
   "source": [
    "sample_smart = total_use.query('tariff == \"smart\"')['monthly_use']\n",
    "sample_ultra = total_use.query('tariff == \"ultra\"')['monthly_use']\n",
    " \n",
    "results = stats.ttest_ind(sample_smart, sample_ultra, equal_var=False)\n",
    "\n",
    "print('p-значение: ', results.pvalue)\n",
    "\n",
    "if results.pvalue < alpha:\n",
    "    print(\"Отвергаем нулевую гипотезу\")\n",
    "else:\n",
    "    print(\"Не получилось отвергнуть нулевую гипотезу\") "
   ]
  },
  {
   "cell_type": "markdown",
   "metadata": {},
   "source": [
    "<b>Вывод</b>"
   ]
  },
  {
   "cell_type": "markdown",
   "metadata": {},
   "source": [
    "Так как значение pvalue ниже порогового значения, то отвергаем данную гипотезу и принимаем альтернативную.<br>\n",
    "Средняя выручка пользователей SMART и ULTRA различаются."
   ]
  },
  {
   "cell_type": "markdown",
   "metadata": {},
   "source": [
    "<b>Нулевая гипотеза:</b> Средняя выручка пользователей Москвы и других регионов одинаковая(=).<br>\n",
    "<b>Альтернативная гипотеза:</b> Средняя выручка пользователей из Москвы отличается(!=) от выручки пользователей из других регионов."
   ]
  },
  {
   "cell_type": "code",
   "execution_count": 62,
   "metadata": {},
   "outputs": [
    {
     "name": "stdout",
     "output_type": "stream",
     "text": [
      "p-значение:  0.4517561756356935\n",
      "Не получилось отвергнуть нулевую гипотезу\n"
     ]
    }
   ],
   "source": [
    "sample_moscow = total_use.query('city == \"Москва\"')['monthly_use']\n",
    "sample_other_city = total_use.query('city != \"Москва\"')['monthly_use']\n",
    "\n",
    "results = stats.ttest_ind(sample_moscow, sample_other_city, equal_var=False)\n",
    "\n",
    "print('p-значение: ', results.pvalue)\n",
    "\n",
    "if results.pvalue < alpha:\n",
    "    print(\"Отвергаем нулевую гипотезу\")\n",
    "else:\n",
    "    print(\"Не получилось отвергнуть нулевую гипотезу\") "
   ]
  },
  {
   "cell_type": "markdown",
   "metadata": {},
   "source": [
    "<b>Вывод</b>"
   ]
  },
  {
   "cell_type": "markdown",
   "metadata": {},
   "source": [
    "Значение pvalue сильно выше порогового значения. Следовательно, не получается отвергнуть нулевую гипотезу. Значит, остаемся при ней.<br>\n",
    "Средняя выручка пользователей Москвы и других регионов одинаковая."
   ]
  },
  {
   "cell_type": "markdown",
   "metadata": {},
   "source": [
    "## Общий вывод"
   ]
  },
  {
   "cell_type": "markdown",
   "metadata": {},
   "source": [
    "<b>Данные</b><br>\n",
    "В таблице были обработаны данные. А именно:\n",
    "- Изменены типы данных\n",
    "- Удалена лишняя колонка\n",
    "- Округлены значения в некоторых колонках\n",
    "\n",
    "<b>Подготовлены данные для дальнейших вычислений</b><br>\n",
    "Были подсчитаны звонки, сообщения и использование трафика для каждого пользователя по месяцам.<br>\n",
    "Была создана общая таблица для последующего анализа данных, которая собрана из всех имеющихся таблиц изначально и были добавлены новые данные путем вычислений, а именно:\n",
    "- лимиты каждого тарифного плана\n",
    "- стоимость услуг сверх тарифного пакета\n",
    "- выручка с каждого пользователя в месяц\n",
    "- использование минут, смс и трафика для каждого пользователя в месяц\n",
    "\n",
    "<b>Анализ данных</b><br>\n",
    "Мы сравнили тарифы между собой и выяснили, сколько минут, смс и трафика требуется пользователям в месяц. Пришли к выводу, что пользователи тарифа SMART используют возможности тарифа по максимуму, когда как пользователи тарифа ULTRA используют чуть больше половины возможностей.<br>\n",
    "Исходя из такого вывода так же вычислили, на сколько выгоден тариф ULTRA при использовании его не на все 100% и выгоден ли вообще.\n",
    "\n",
    "<b>Проверка гипотез</b><br>\n",
    "По имеющимся данным составили и проверили гипотезы.<br>\n",
    "Получилось, что:\n",
    "- Средняя выручка с пользователей тарифов \"ULTRA\" и \"SMART\" различаются\n",
    "- Средняя выручка пользователей Москвы и других регионов одинаковая\n",
    "\n",
    "<b>Вывод</b><br>\n",
    "По изученным данным можно сказать, что тариф SMART смотриться лучше. Он дешевле и выгоднее даже для тех, кто использует чуть больше минут, смс и трафика. Так же пользователи этого тарифа почти всегда израсходуют все опции до конца, когда как пользователи тарифа ULTRA почти никогда."
   ]
  },
  {
   "cell_type": "code",
   "execution_count": null,
   "metadata": {},
   "outputs": [],
   "source": []
  }
 ],
 "metadata": {
  "ExecuteTimeLog": [
   {
    "duration": 861,
    "start_time": "2022-01-14T12:53:10.831Z"
   },
   {
    "duration": 161,
    "start_time": "2022-01-14T12:53:46.626Z"
   },
   {
    "duration": 89,
    "start_time": "2022-01-14T12:54:09.840Z"
   },
   {
    "duration": 143,
    "start_time": "2022-01-14T12:54:31.325Z"
   },
   {
    "duration": 16,
    "start_time": "2022-01-14T12:54:54.531Z"
   },
   {
    "duration": 172,
    "start_time": "2022-01-14T12:55:19.981Z"
   },
   {
    "duration": 97,
    "start_time": "2022-01-14T12:55:48.744Z"
   },
   {
    "duration": 134,
    "start_time": "2022-01-14T12:55:58.113Z"
   },
   {
    "duration": 20,
    "start_time": "2022-01-14T12:56:06.676Z"
   },
   {
    "duration": 183,
    "start_time": "2022-01-14T12:56:32.196Z"
   },
   {
    "duration": 113,
    "start_time": "2022-01-14T12:58:59.101Z"
   },
   {
    "duration": 159,
    "start_time": "2022-01-14T12:59:09.606Z"
   },
   {
    "duration": 26,
    "start_time": "2022-01-14T12:59:17.679Z"
   },
   {
    "duration": 3165,
    "start_time": "2022-01-14T13:15:04.515Z"
   },
   {
    "duration": 29,
    "start_time": "2022-01-14T13:15:33.642Z"
   },
   {
    "duration": 200,
    "start_time": "2022-01-14T13:16:27.960Z"
   },
   {
    "duration": 6,
    "start_time": "2022-01-14T13:16:31.819Z"
   },
   {
    "duration": 21,
    "start_time": "2022-01-14T13:16:57.694Z"
   },
   {
    "duration": 11,
    "start_time": "2022-01-14T13:17:29.939Z"
   },
   {
    "duration": 4,
    "start_time": "2022-01-14T13:17:45.392Z"
   },
   {
    "duration": 5,
    "start_time": "2022-01-14T13:17:48.204Z"
   },
   {
    "duration": 3128,
    "start_time": "2022-01-14T13:17:56.883Z"
   },
   {
    "duration": 629,
    "start_time": "2022-01-14T13:18:05.250Z"
   },
   {
    "duration": 196,
    "start_time": "2022-01-14T13:18:05.881Z"
   },
   {
    "duration": 111,
    "start_time": "2022-01-14T13:18:06.079Z"
   },
   {
    "duration": 168,
    "start_time": "2022-01-14T13:18:06.192Z"
   },
   {
    "duration": 26,
    "start_time": "2022-01-14T13:18:06.362Z"
   },
   {
    "duration": 22,
    "start_time": "2022-01-14T13:18:06.390Z"
   },
   {
    "duration": 29,
    "start_time": "2022-01-14T13:18:06.414Z"
   },
   {
    "duration": 5,
    "start_time": "2022-01-14T13:18:06.461Z"
   },
   {
    "duration": 12,
    "start_time": "2022-01-14T13:18:06.469Z"
   },
   {
    "duration": 27,
    "start_time": "2022-01-14T13:18:19.181Z"
   },
   {
    "duration": 33,
    "start_time": "2022-01-14T13:18:36.648Z"
   },
   {
    "duration": 17,
    "start_time": "2022-01-14T13:18:39.801Z"
   },
   {
    "duration": 13,
    "start_time": "2022-01-14T13:18:53.257Z"
   },
   {
    "duration": 9,
    "start_time": "2022-01-14T13:19:06.799Z"
   },
   {
    "duration": 12,
    "start_time": "2022-01-14T13:19:10.047Z"
   },
   {
    "duration": 15,
    "start_time": "2022-01-14T13:19:57.547Z"
   },
   {
    "duration": 12,
    "start_time": "2022-01-14T13:20:04.212Z"
   },
   {
    "duration": 270,
    "start_time": "2022-01-14T13:20:55.346Z"
   },
   {
    "duration": 21,
    "start_time": "2022-01-14T13:22:04.230Z"
   },
   {
    "duration": 17,
    "start_time": "2022-01-14T13:22:59.902Z"
   },
   {
    "duration": 28,
    "start_time": "2022-01-14T13:23:56.053Z"
   },
   {
    "duration": 7,
    "start_time": "2022-01-14T13:24:19.224Z"
   },
   {
    "duration": 5,
    "start_time": "2022-01-14T13:24:30.935Z"
   },
   {
    "duration": 11,
    "start_time": "2022-01-14T13:27:50.180Z"
   },
   {
    "duration": 24,
    "start_time": "2022-01-14T13:30:50.532Z"
   },
   {
    "duration": 16,
    "start_time": "2022-01-14T13:31:04.732Z"
   },
   {
    "duration": 11,
    "start_time": "2022-01-14T13:31:14.911Z"
   },
   {
    "duration": 13,
    "start_time": "2022-01-14T13:31:16.522Z"
   },
   {
    "duration": 40,
    "start_time": "2022-01-14T13:32:35.501Z"
   },
   {
    "duration": 7,
    "start_time": "2022-01-14T13:34:04.725Z"
   },
   {
    "duration": 5,
    "start_time": "2022-01-14T13:34:45.741Z"
   },
   {
    "duration": 15,
    "start_time": "2022-01-14T13:34:49.549Z"
   },
   {
    "duration": 87,
    "start_time": "2022-01-14T13:49:19.143Z"
   },
   {
    "duration": 105,
    "start_time": "2022-01-14T13:49:50.213Z"
   },
   {
    "duration": 67,
    "start_time": "2022-01-14T13:49:56.354Z"
   },
   {
    "duration": 119,
    "start_time": "2022-01-14T13:50:18.753Z"
   },
   {
    "duration": 115,
    "start_time": "2022-01-14T13:50:54.581Z"
   },
   {
    "duration": 116,
    "start_time": "2022-01-14T13:51:00.458Z"
   },
   {
    "duration": 23,
    "start_time": "2022-01-14T14:02:14.942Z"
   },
   {
    "duration": 34,
    "start_time": "2022-01-14T14:02:20.244Z"
   },
   {
    "duration": 37,
    "start_time": "2022-01-14T14:03:51.145Z"
   },
   {
    "duration": 45,
    "start_time": "2022-01-14T14:03:57.877Z"
   },
   {
    "duration": 11,
    "start_time": "2022-01-14T14:05:04.814Z"
   },
   {
    "duration": 207,
    "start_time": "2022-01-14T14:06:19.415Z"
   },
   {
    "duration": 55,
    "start_time": "2022-01-14T14:06:27.736Z"
   },
   {
    "duration": 41,
    "start_time": "2022-01-14T14:17:35.239Z"
   },
   {
    "duration": 43,
    "start_time": "2022-01-14T14:18:59.947Z"
   },
   {
    "duration": 46,
    "start_time": "2022-01-14T14:20:30.168Z"
   },
   {
    "duration": 35,
    "start_time": "2022-01-14T14:21:45.288Z"
   },
   {
    "duration": 66,
    "start_time": "2022-01-14T14:22:41.452Z"
   },
   {
    "duration": 76,
    "start_time": "2022-01-14T14:22:57.509Z"
   },
   {
    "duration": 31,
    "start_time": "2022-01-14T14:23:04.514Z"
   },
   {
    "duration": 49,
    "start_time": "2022-01-14T14:29:40.283Z"
   },
   {
    "duration": 42,
    "start_time": "2022-01-14T14:30:10.510Z"
   },
   {
    "duration": 52,
    "start_time": "2022-01-14T14:30:15.970Z"
   },
   {
    "duration": 291,
    "start_time": "2022-01-14T14:30:46.779Z"
   },
   {
    "duration": 257,
    "start_time": "2022-01-14T14:31:03.869Z"
   },
   {
    "duration": 65,
    "start_time": "2022-01-14T14:31:09.636Z"
   },
   {
    "duration": 331,
    "start_time": "2022-01-14T14:31:12.246Z"
   },
   {
    "duration": 67,
    "start_time": "2022-01-14T14:31:33.683Z"
   },
   {
    "duration": 327,
    "start_time": "2022-01-14T14:31:38.210Z"
   },
   {
    "duration": 44,
    "start_time": "2022-01-14T14:31:46.729Z"
   },
   {
    "duration": 68,
    "start_time": "2022-01-14T14:33:31.618Z"
   },
   {
    "duration": 39,
    "start_time": "2022-01-14T14:34:09.210Z"
   },
   {
    "duration": 378,
    "start_time": "2022-01-14T14:35:26.477Z"
   },
   {
    "duration": 38,
    "start_time": "2022-01-14T14:35:42.889Z"
   },
   {
    "duration": 15,
    "start_time": "2022-01-14T14:38:15.472Z"
   },
   {
    "duration": 11,
    "start_time": "2022-01-14T14:38:34.425Z"
   },
   {
    "duration": 7,
    "start_time": "2022-01-14T14:38:45.547Z"
   },
   {
    "duration": 116,
    "start_time": "2022-01-14T14:40:42.252Z"
   },
   {
    "duration": 201,
    "start_time": "2022-01-14T14:40:44.596Z"
   },
   {
    "duration": 64,
    "start_time": "2022-01-14T14:41:16.207Z"
   },
   {
    "duration": 128,
    "start_time": "2022-01-14T14:41:57.206Z"
   },
   {
    "duration": 44,
    "start_time": "2022-01-14T14:41:59.973Z"
   },
   {
    "duration": 41,
    "start_time": "2022-01-14T14:42:25.198Z"
   },
   {
    "duration": 33,
    "start_time": "2022-01-14T14:42:37.811Z"
   },
   {
    "duration": 210,
    "start_time": "2022-01-14T14:43:40.828Z"
   },
   {
    "duration": 43,
    "start_time": "2022-01-14T14:43:45.116Z"
   },
   {
    "duration": 38,
    "start_time": "2022-01-14T14:43:56.297Z"
   },
   {
    "duration": 84,
    "start_time": "2022-01-14T14:44:02.913Z"
   },
   {
    "duration": 42,
    "start_time": "2022-01-14T14:44:05.437Z"
   },
   {
    "duration": 16,
    "start_time": "2022-01-14T14:47:57.340Z"
   },
   {
    "duration": 5390,
    "start_time": "2022-01-14T14:48:45.931Z"
   },
   {
    "duration": 11,
    "start_time": "2022-01-14T14:51:58.343Z"
   },
   {
    "duration": 88,
    "start_time": "2022-01-14T14:52:25.222Z"
   },
   {
    "duration": 254,
    "start_time": "2022-01-14T14:58:02.858Z"
   },
   {
    "duration": 38,
    "start_time": "2022-01-14T14:58:09.153Z"
   },
   {
    "duration": 922,
    "start_time": "2022-01-14T14:58:14.778Z"
   },
   {
    "duration": 180,
    "start_time": "2022-01-14T14:58:15.702Z"
   },
   {
    "duration": 109,
    "start_time": "2022-01-14T14:58:15.884Z"
   },
   {
    "duration": 168,
    "start_time": "2022-01-14T14:58:15.995Z"
   },
   {
    "duration": 25,
    "start_time": "2022-01-14T14:58:16.164Z"
   },
   {
    "duration": 22,
    "start_time": "2022-01-14T14:58:16.190Z"
   },
   {
    "duration": 35,
    "start_time": "2022-01-14T14:58:16.214Z"
   },
   {
    "duration": 12,
    "start_time": "2022-01-14T14:58:16.251Z"
   },
   {
    "duration": 16,
    "start_time": "2022-01-14T14:58:16.266Z"
   },
   {
    "duration": 18,
    "start_time": "2022-01-14T14:58:16.284Z"
   },
   {
    "duration": 25,
    "start_time": "2022-01-14T14:58:16.304Z"
   },
   {
    "duration": 10,
    "start_time": "2022-01-14T14:58:16.330Z"
   },
   {
    "duration": 34,
    "start_time": "2022-01-14T14:58:16.342Z"
   },
   {
    "duration": 24,
    "start_time": "2022-01-14T14:58:16.378Z"
   },
   {
    "duration": 5,
    "start_time": "2022-01-14T14:58:16.403Z"
   },
   {
    "duration": 26,
    "start_time": "2022-01-14T14:58:16.409Z"
   },
   {
    "duration": 30,
    "start_time": "2022-01-14T14:58:16.437Z"
   },
   {
    "duration": 9,
    "start_time": "2022-01-14T14:58:16.468Z"
   },
   {
    "duration": 13,
    "start_time": "2022-01-14T14:58:16.479Z"
   },
   {
    "duration": 16,
    "start_time": "2022-01-14T14:58:16.494Z"
   },
   {
    "duration": 86,
    "start_time": "2022-01-14T14:58:16.512Z"
   },
   {
    "duration": 76,
    "start_time": "2022-01-14T14:58:16.600Z"
   },
   {
    "duration": 37,
    "start_time": "2022-01-14T14:58:16.678Z"
   },
   {
    "duration": 62,
    "start_time": "2022-01-14T14:58:16.717Z"
   },
   {
    "duration": 93,
    "start_time": "2022-01-14T14:58:16.781Z"
   },
   {
    "duration": 11,
    "start_time": "2022-01-14T14:58:16.876Z"
   },
   {
    "duration": 6,
    "start_time": "2022-01-14T15:01:47.267Z"
   },
   {
    "duration": 7,
    "start_time": "2022-01-14T15:01:58.728Z"
   },
   {
    "duration": 6,
    "start_time": "2022-01-14T15:02:38.446Z"
   },
   {
    "duration": 657,
    "start_time": "2022-01-14T15:02:49.556Z"
   },
   {
    "duration": 186,
    "start_time": "2022-01-14T15:02:50.214Z"
   },
   {
    "duration": 108,
    "start_time": "2022-01-14T15:02:50.405Z"
   },
   {
    "duration": 169,
    "start_time": "2022-01-14T15:02:50.515Z"
   },
   {
    "duration": 24,
    "start_time": "2022-01-14T15:02:50.686Z"
   },
   {
    "duration": 39,
    "start_time": "2022-01-14T15:02:50.712Z"
   },
   {
    "duration": 34,
    "start_time": "2022-01-14T15:02:50.753Z"
   },
   {
    "duration": 7,
    "start_time": "2022-01-14T15:02:50.790Z"
   },
   {
    "duration": 46,
    "start_time": "2022-01-14T15:02:50.799Z"
   },
   {
    "duration": 33,
    "start_time": "2022-01-14T15:02:50.847Z"
   },
   {
    "duration": 45,
    "start_time": "2022-01-14T15:02:50.882Z"
   },
   {
    "duration": 21,
    "start_time": "2022-01-14T15:02:50.929Z"
   },
   {
    "duration": 28,
    "start_time": "2022-01-14T15:02:50.951Z"
   },
   {
    "duration": 41,
    "start_time": "2022-01-14T15:02:50.980Z"
   },
   {
    "duration": 6,
    "start_time": "2022-01-14T15:02:51.022Z"
   },
   {
    "duration": 33,
    "start_time": "2022-01-14T15:02:51.029Z"
   },
   {
    "duration": 34,
    "start_time": "2022-01-14T15:02:51.064Z"
   },
   {
    "duration": 15,
    "start_time": "2022-01-14T15:02:51.100Z"
   },
   {
    "duration": 25,
    "start_time": "2022-01-14T15:02:51.116Z"
   },
   {
    "duration": 34,
    "start_time": "2022-01-14T15:02:51.143Z"
   },
   {
    "duration": 85,
    "start_time": "2022-01-14T15:02:51.179Z"
   },
   {
    "duration": 66,
    "start_time": "2022-01-14T15:02:51.267Z"
   },
   {
    "duration": 50,
    "start_time": "2022-01-14T15:02:51.335Z"
   },
   {
    "duration": 52,
    "start_time": "2022-01-14T15:02:51.387Z"
   },
   {
    "duration": 108,
    "start_time": "2022-01-14T15:02:51.441Z"
   },
   {
    "duration": 18,
    "start_time": "2022-01-14T15:02:51.551Z"
   },
   {
    "duration": 7,
    "start_time": "2022-01-14T15:03:13.285Z"
   },
   {
    "duration": 654,
    "start_time": "2022-01-14T15:03:33.986Z"
   },
   {
    "duration": 179,
    "start_time": "2022-01-14T15:03:34.642Z"
   },
   {
    "duration": 110,
    "start_time": "2022-01-14T15:03:34.823Z"
   },
   {
    "duration": 166,
    "start_time": "2022-01-14T15:03:34.935Z"
   },
   {
    "duration": 24,
    "start_time": "2022-01-14T15:03:35.103Z"
   },
   {
    "duration": 21,
    "start_time": "2022-01-14T15:03:35.129Z"
   },
   {
    "duration": 38,
    "start_time": "2022-01-14T15:03:35.152Z"
   },
   {
    "duration": 7,
    "start_time": "2022-01-14T15:03:35.192Z"
   },
   {
    "duration": 13,
    "start_time": "2022-01-14T15:03:35.202Z"
   },
   {
    "duration": 43,
    "start_time": "2022-01-14T15:03:35.218Z"
   },
   {
    "duration": 21,
    "start_time": "2022-01-14T15:03:35.264Z"
   },
   {
    "duration": 10,
    "start_time": "2022-01-14T15:03:35.287Z"
   },
   {
    "duration": 19,
    "start_time": "2022-01-14T15:03:35.298Z"
   },
   {
    "duration": 50,
    "start_time": "2022-01-14T15:03:35.319Z"
   },
   {
    "duration": 7,
    "start_time": "2022-01-14T15:03:35.371Z"
   },
   {
    "duration": 16,
    "start_time": "2022-01-14T15:03:35.380Z"
   },
   {
    "duration": 13,
    "start_time": "2022-01-14T15:03:35.397Z"
   },
   {
    "duration": 8,
    "start_time": "2022-01-14T15:03:35.411Z"
   },
   {
    "duration": 5,
    "start_time": "2022-01-14T15:03:35.421Z"
   },
   {
    "duration": 37,
    "start_time": "2022-01-14T15:03:35.427Z"
   },
   {
    "duration": 72,
    "start_time": "2022-01-14T15:03:35.465Z"
   },
   {
    "duration": 84,
    "start_time": "2022-01-14T15:03:35.539Z"
   },
   {
    "duration": 48,
    "start_time": "2022-01-14T15:03:35.625Z"
   },
   {
    "duration": 55,
    "start_time": "2022-01-14T15:03:35.675Z"
   },
   {
    "duration": 111,
    "start_time": "2022-01-14T15:03:35.732Z"
   },
   {
    "duration": 23,
    "start_time": "2022-01-14T15:03:35.846Z"
   },
   {
    "duration": 53,
    "start_time": "2022-01-14T15:04:01.655Z"
   },
   {
    "duration": 5,
    "start_time": "2022-01-14T15:04:47.162Z"
   },
   {
    "duration": 13,
    "start_time": "2022-01-14T15:04:52.901Z"
   },
   {
    "duration": 5,
    "start_time": "2022-01-14T15:04:58.206Z"
   },
   {
    "duration": 83,
    "start_time": "2022-01-14T15:05:15.870Z"
   },
   {
    "duration": 5,
    "start_time": "2022-01-14T15:05:19.331Z"
   },
   {
    "duration": 13,
    "start_time": "2022-01-14T15:05:26.300Z"
   },
   {
    "duration": 588,
    "start_time": "2022-01-14T15:05:33.717Z"
   },
   {
    "duration": 187,
    "start_time": "2022-01-14T15:05:34.307Z"
   },
   {
    "duration": 110,
    "start_time": "2022-01-14T15:05:34.496Z"
   },
   {
    "duration": 163,
    "start_time": "2022-01-14T15:05:34.608Z"
   },
   {
    "duration": 26,
    "start_time": "2022-01-14T15:05:34.773Z"
   },
   {
    "duration": 31,
    "start_time": "2022-01-14T15:05:34.801Z"
   },
   {
    "duration": 44,
    "start_time": "2022-01-14T15:05:34.834Z"
   },
   {
    "duration": 7,
    "start_time": "2022-01-14T15:05:34.880Z"
   },
   {
    "duration": 28,
    "start_time": "2022-01-14T15:05:34.890Z"
   },
   {
    "duration": 30,
    "start_time": "2022-01-14T15:05:34.920Z"
   },
   {
    "duration": 28,
    "start_time": "2022-01-14T15:05:34.952Z"
   },
   {
    "duration": 19,
    "start_time": "2022-01-14T15:05:34.982Z"
   },
   {
    "duration": 43,
    "start_time": "2022-01-14T15:05:35.003Z"
   },
   {
    "duration": 66,
    "start_time": "2022-01-14T15:05:35.048Z"
   },
   {
    "duration": 9,
    "start_time": "2022-01-14T15:05:35.116Z"
   },
   {
    "duration": 44,
    "start_time": "2022-01-14T15:05:35.127Z"
   },
   {
    "duration": 25,
    "start_time": "2022-01-14T15:05:35.173Z"
   },
   {
    "duration": 22,
    "start_time": "2022-01-14T15:05:35.200Z"
   },
   {
    "duration": 32,
    "start_time": "2022-01-14T15:05:35.224Z"
   },
   {
    "duration": 37,
    "start_time": "2022-01-14T15:05:35.257Z"
   },
   {
    "duration": 90,
    "start_time": "2022-01-14T15:05:35.296Z"
   },
   {
    "duration": 77,
    "start_time": "2022-01-14T15:05:35.387Z"
   },
   {
    "duration": 38,
    "start_time": "2022-01-14T15:05:35.467Z"
   },
   {
    "duration": 68,
    "start_time": "2022-01-14T15:05:35.507Z"
   },
   {
    "duration": 95,
    "start_time": "2022-01-14T15:05:35.577Z"
   },
   {
    "duration": 11,
    "start_time": "2022-01-14T15:05:35.675Z"
   },
   {
    "duration": 42,
    "start_time": "2022-01-14T15:07:29.335Z"
   },
   {
    "duration": 47,
    "start_time": "2022-01-14T15:07:33.650Z"
   },
   {
    "duration": 264,
    "start_time": "2022-01-14T15:07:46.110Z"
   },
   {
    "duration": 210,
    "start_time": "2022-01-14T15:09:41.200Z"
   },
   {
    "duration": 213,
    "start_time": "2022-01-14T15:09:54.284Z"
   },
   {
    "duration": 224,
    "start_time": "2022-01-14T15:10:11.545Z"
   },
   {
    "duration": 24,
    "start_time": "2022-01-14T15:10:44.670Z"
   },
   {
    "duration": 7,
    "start_time": "2022-01-14T15:15:38.765Z"
   },
   {
    "duration": 24,
    "start_time": "2022-01-14T15:15:54.734Z"
   },
   {
    "duration": 206,
    "start_time": "2022-01-14T15:25:56.898Z"
   },
   {
    "duration": 929,
    "start_time": "2022-01-14T15:36:55.003Z"
   },
   {
    "duration": 1104,
    "start_time": "2022-01-14T15:37:51.321Z"
   },
   {
    "duration": 4,
    "start_time": "2022-01-16T00:22:55.129Z"
   },
   {
    "duration": 238,
    "start_time": "2022-01-16T00:30:02.318Z"
   },
   {
    "duration": 601,
    "start_time": "2022-01-16T00:30:14.337Z"
   },
   {
    "duration": 168,
    "start_time": "2022-01-16T00:30:14.940Z"
   },
   {
    "duration": 100,
    "start_time": "2022-01-16T00:30:15.110Z"
   },
   {
    "duration": 144,
    "start_time": "2022-01-16T00:30:15.212Z"
   },
   {
    "duration": 25,
    "start_time": "2022-01-16T00:30:15.358Z"
   },
   {
    "duration": 19,
    "start_time": "2022-01-16T00:30:15.385Z"
   },
   {
    "duration": 49,
    "start_time": "2022-01-16T00:30:15.406Z"
   },
   {
    "duration": 6,
    "start_time": "2022-01-16T00:30:15.457Z"
   },
   {
    "duration": 26,
    "start_time": "2022-01-16T00:30:15.465Z"
   },
   {
    "duration": 26,
    "start_time": "2022-01-16T00:30:15.493Z"
   },
   {
    "duration": 35,
    "start_time": "2022-01-16T00:30:15.521Z"
   },
   {
    "duration": 10,
    "start_time": "2022-01-16T00:30:15.557Z"
   },
   {
    "duration": 48,
    "start_time": "2022-01-16T00:30:15.569Z"
   },
   {
    "duration": 34,
    "start_time": "2022-01-16T00:30:15.619Z"
   },
   {
    "duration": 12,
    "start_time": "2022-01-16T00:30:15.655Z"
   },
   {
    "duration": 24,
    "start_time": "2022-01-16T00:30:15.668Z"
   },
   {
    "duration": 29,
    "start_time": "2022-01-16T00:30:15.694Z"
   },
   {
    "duration": 13,
    "start_time": "2022-01-16T00:30:15.724Z"
   },
   {
    "duration": 22,
    "start_time": "2022-01-16T00:30:15.739Z"
   },
   {
    "duration": 28,
    "start_time": "2022-01-16T00:30:15.763Z"
   },
   {
    "duration": 59,
    "start_time": "2022-01-16T00:30:15.792Z"
   },
   {
    "duration": 53,
    "start_time": "2022-01-16T00:30:15.853Z"
   },
   {
    "duration": 37,
    "start_time": "2022-01-16T00:30:15.907Z"
   },
   {
    "duration": 41,
    "start_time": "2022-01-16T00:30:15.945Z"
   },
   {
    "duration": 232,
    "start_time": "2022-01-16T00:30:15.988Z"
   },
   {
    "duration": 70,
    "start_time": "2022-01-16T00:30:16.152Z"
   },
   {
    "duration": 48,
    "start_time": "2022-01-16T00:31:38.902Z"
   },
   {
    "duration": 187,
    "start_time": "2022-01-16T00:31:46.252Z"
   },
   {
    "duration": 22,
    "start_time": "2022-01-16T00:32:32.807Z"
   },
   {
    "duration": 191,
    "start_time": "2022-01-16T00:33:11.201Z"
   },
   {
    "duration": 192,
    "start_time": "2022-01-16T00:33:20.496Z"
   },
   {
    "duration": 200,
    "start_time": "2022-01-16T00:33:56.052Z"
   },
   {
    "duration": 185,
    "start_time": "2022-01-16T00:34:13.511Z"
   },
   {
    "duration": 42,
    "start_time": "2022-01-16T00:34:18.896Z"
   },
   {
    "duration": 182,
    "start_time": "2022-01-16T00:34:18.939Z"
   },
   {
    "duration": 110,
    "start_time": "2022-01-16T00:34:19.123Z"
   },
   {
    "duration": 143,
    "start_time": "2022-01-16T00:34:19.241Z"
   },
   {
    "duration": 24,
    "start_time": "2022-01-16T00:34:19.385Z"
   },
   {
    "duration": 41,
    "start_time": "2022-01-16T00:34:19.410Z"
   },
   {
    "duration": 26,
    "start_time": "2022-01-16T00:34:19.453Z"
   },
   {
    "duration": 4,
    "start_time": "2022-01-16T00:34:19.481Z"
   },
   {
    "duration": 33,
    "start_time": "2022-01-16T00:34:19.487Z"
   },
   {
    "duration": 26,
    "start_time": "2022-01-16T00:34:19.522Z"
   },
   {
    "duration": 40,
    "start_time": "2022-01-16T00:34:19.549Z"
   },
   {
    "duration": 9,
    "start_time": "2022-01-16T00:34:19.591Z"
   },
   {
    "duration": 32,
    "start_time": "2022-01-16T00:34:19.601Z"
   },
   {
    "duration": 25,
    "start_time": "2022-01-16T00:34:19.635Z"
   },
   {
    "duration": 6,
    "start_time": "2022-01-16T00:34:19.662Z"
   },
   {
    "duration": 32,
    "start_time": "2022-01-16T00:34:19.669Z"
   },
   {
    "duration": 15,
    "start_time": "2022-01-16T00:34:19.703Z"
   },
   {
    "duration": 25,
    "start_time": "2022-01-16T00:34:19.720Z"
   },
   {
    "duration": 31,
    "start_time": "2022-01-16T00:34:19.746Z"
   },
   {
    "duration": 19,
    "start_time": "2022-01-16T00:34:19.779Z"
   },
   {
    "duration": 68,
    "start_time": "2022-01-16T00:34:19.799Z"
   },
   {
    "duration": 45,
    "start_time": "2022-01-16T00:34:19.869Z"
   },
   {
    "duration": 38,
    "start_time": "2022-01-16T00:34:19.916Z"
   },
   {
    "duration": 38,
    "start_time": "2022-01-16T00:34:19.955Z"
   },
   {
    "duration": 192,
    "start_time": "2022-01-16T00:34:19.995Z"
   },
   {
    "duration": 67,
    "start_time": "2022-01-16T00:34:20.122Z"
   },
   {
    "duration": 44,
    "start_time": "2022-01-16T00:34:53.589Z"
   },
   {
    "duration": 228,
    "start_time": "2022-01-16T00:35:01.737Z"
   },
   {
    "duration": 564,
    "start_time": "2022-01-16T00:35:21.173Z"
   },
   {
    "duration": 163,
    "start_time": "2022-01-16T00:35:21.738Z"
   },
   {
    "duration": 99,
    "start_time": "2022-01-16T00:35:21.903Z"
   },
   {
    "duration": 147,
    "start_time": "2022-01-16T00:35:22.004Z"
   },
   {
    "duration": 24,
    "start_time": "2022-01-16T00:35:22.153Z"
   },
   {
    "duration": 21,
    "start_time": "2022-01-16T00:35:22.178Z"
   },
   {
    "duration": 29,
    "start_time": "2022-01-16T00:35:22.201Z"
   },
   {
    "duration": 5,
    "start_time": "2022-01-16T00:35:22.241Z"
   },
   {
    "duration": 12,
    "start_time": "2022-01-16T00:35:22.248Z"
   },
   {
    "duration": 16,
    "start_time": "2022-01-16T00:35:22.261Z"
   },
   {
    "duration": 20,
    "start_time": "2022-01-16T00:35:22.279Z"
   },
   {
    "duration": 10,
    "start_time": "2022-01-16T00:35:22.300Z"
   },
   {
    "duration": 44,
    "start_time": "2022-01-16T00:35:22.312Z"
   },
   {
    "duration": 29,
    "start_time": "2022-01-16T00:35:22.358Z"
   },
   {
    "duration": 4,
    "start_time": "2022-01-16T00:35:22.389Z"
   },
   {
    "duration": 17,
    "start_time": "2022-01-16T00:35:22.395Z"
   },
   {
    "duration": 28,
    "start_time": "2022-01-16T00:35:22.414Z"
   },
   {
    "duration": 6,
    "start_time": "2022-01-16T00:35:22.443Z"
   },
   {
    "duration": 7,
    "start_time": "2022-01-16T00:35:22.450Z"
   },
   {
    "duration": 14,
    "start_time": "2022-01-16T00:35:22.459Z"
   },
   {
    "duration": 49,
    "start_time": "2022-01-16T00:35:22.474Z"
   },
   {
    "duration": 63,
    "start_time": "2022-01-16T00:35:22.540Z"
   },
   {
    "duration": 39,
    "start_time": "2022-01-16T00:35:22.606Z"
   },
   {
    "duration": 41,
    "start_time": "2022-01-16T00:35:22.647Z"
   },
   {
    "duration": 367,
    "start_time": "2022-01-16T00:35:22.689Z"
   },
   {
    "duration": 70,
    "start_time": "2022-01-16T00:35:22.988Z"
   },
   {
    "duration": 207,
    "start_time": "2022-01-16T00:37:04.740Z"
   },
   {
    "duration": 190,
    "start_time": "2022-01-16T00:37:10.500Z"
   },
   {
    "duration": 26,
    "start_time": "2022-01-16T00:37:17.044Z"
   },
   {
    "duration": 370,
    "start_time": "2022-01-16T13:20:53.616Z"
   },
   {
    "duration": 886,
    "start_time": "2022-01-16T13:21:00.048Z"
   },
   {
    "duration": 256,
    "start_time": "2022-01-16T13:21:00.937Z"
   },
   {
    "duration": 147,
    "start_time": "2022-01-16T13:21:01.196Z"
   },
   {
    "duration": 223,
    "start_time": "2022-01-16T13:21:01.346Z"
   },
   {
    "duration": 30,
    "start_time": "2022-01-16T13:21:01.572Z"
   },
   {
    "duration": 27,
    "start_time": "2022-01-16T13:21:01.604Z"
   },
   {
    "duration": 67,
    "start_time": "2022-01-16T13:21:01.634Z"
   },
   {
    "duration": 7,
    "start_time": "2022-01-16T13:21:01.703Z"
   },
   {
    "duration": 31,
    "start_time": "2022-01-16T13:21:01.714Z"
   },
   {
    "duration": 34,
    "start_time": "2022-01-16T13:21:01.748Z"
   },
   {
    "duration": 41,
    "start_time": "2022-01-16T13:21:01.785Z"
   },
   {
    "duration": 17,
    "start_time": "2022-01-16T13:21:01.828Z"
   },
   {
    "duration": 52,
    "start_time": "2022-01-16T13:21:01.847Z"
   },
   {
    "duration": 34,
    "start_time": "2022-01-16T13:21:01.902Z"
   },
   {
    "duration": 6,
    "start_time": "2022-01-16T13:21:01.939Z"
   },
   {
    "duration": 39,
    "start_time": "2022-01-16T13:21:01.947Z"
   },
   {
    "duration": 17,
    "start_time": "2022-01-16T13:21:01.988Z"
   },
   {
    "duration": 21,
    "start_time": "2022-01-16T13:21:02.008Z"
   },
   {
    "duration": 17,
    "start_time": "2022-01-16T13:21:02.032Z"
   },
   {
    "duration": 44,
    "start_time": "2022-01-16T13:21:02.052Z"
   },
   {
    "duration": 78,
    "start_time": "2022-01-16T13:21:02.099Z"
   },
   {
    "duration": 107,
    "start_time": "2022-01-16T13:21:02.180Z"
   },
   {
    "duration": 39,
    "start_time": "2022-01-16T13:21:02.290Z"
   },
   {
    "duration": 86,
    "start_time": "2022-01-16T13:21:02.332Z"
   },
   {
    "duration": 57,
    "start_time": "2022-01-16T13:21:02.421Z"
   },
   {
    "duration": 8,
    "start_time": "2022-01-16T13:21:02.481Z"
   },
   {
    "duration": 63,
    "start_time": "2022-01-16T13:23:05.138Z"
   },
   {
    "duration": 47,
    "start_time": "2022-01-16T13:23:23.389Z"
   },
   {
    "duration": 66,
    "start_time": "2022-01-16T13:23:26.769Z"
   },
   {
    "duration": 404,
    "start_time": "2022-01-16T13:23:46.452Z"
   },
   {
    "duration": 392,
    "start_time": "2022-01-16T13:23:54.709Z"
   },
   {
    "duration": 325,
    "start_time": "2022-01-16T13:24:58.012Z"
   },
   {
    "duration": 71,
    "start_time": "2022-01-16T13:25:20.303Z"
   },
   {
    "duration": 62,
    "start_time": "2022-01-16T13:25:23.634Z"
   },
   {
    "duration": 327,
    "start_time": "2022-01-16T13:25:29.614Z"
   },
   {
    "duration": 76,
    "start_time": "2022-01-16T13:27:15.301Z"
   },
   {
    "duration": 33,
    "start_time": "2022-01-16T13:34:03.888Z"
   },
   {
    "duration": 37,
    "start_time": "2022-01-16T13:34:16.505Z"
   },
   {
    "duration": 1197,
    "start_time": "2022-01-16T13:34:37.290Z"
   },
   {
    "duration": 382,
    "start_time": "2022-01-16T13:34:38.491Z"
   },
   {
    "duration": 225,
    "start_time": "2022-01-16T13:34:38.877Z"
   },
   {
    "duration": 335,
    "start_time": "2022-01-16T13:34:39.106Z"
   },
   {
    "duration": 46,
    "start_time": "2022-01-16T13:34:39.444Z"
   },
   {
    "duration": 45,
    "start_time": "2022-01-16T13:34:39.493Z"
   },
   {
    "duration": 99,
    "start_time": "2022-01-16T13:34:39.541Z"
   },
   {
    "duration": 24,
    "start_time": "2022-01-16T13:34:39.643Z"
   },
   {
    "duration": 25,
    "start_time": "2022-01-16T13:34:39.673Z"
   },
   {
    "duration": 29,
    "start_time": "2022-01-16T13:34:39.703Z"
   },
   {
    "duration": 60,
    "start_time": "2022-01-16T13:34:39.735Z"
   },
   {
    "duration": 14,
    "start_time": "2022-01-16T13:34:39.797Z"
   },
   {
    "duration": 32,
    "start_time": "2022-01-16T13:34:39.814Z"
   },
   {
    "duration": 36,
    "start_time": "2022-01-16T13:34:39.868Z"
   },
   {
    "duration": 6,
    "start_time": "2022-01-16T13:34:39.906Z"
   },
   {
    "duration": 52,
    "start_time": "2022-01-16T13:34:39.915Z"
   },
   {
    "duration": 18,
    "start_time": "2022-01-16T13:34:39.969Z"
   },
   {
    "duration": 16,
    "start_time": "2022-01-16T13:34:39.989Z"
   },
   {
    "duration": 23,
    "start_time": "2022-01-16T13:34:40.008Z"
   },
   {
    "duration": 47,
    "start_time": "2022-01-16T13:34:40.033Z"
   },
   {
    "duration": 92,
    "start_time": "2022-01-16T13:34:40.083Z"
   },
   {
    "duration": 100,
    "start_time": "2022-01-16T13:34:40.178Z"
   },
   {
    "duration": 48,
    "start_time": "2022-01-16T13:34:40.280Z"
   },
   {
    "duration": 125,
    "start_time": "2022-01-16T13:34:40.331Z"
   },
   {
    "duration": 53,
    "start_time": "2022-01-16T13:34:40.459Z"
   },
   {
    "duration": 7,
    "start_time": "2022-01-16T13:34:40.515Z"
   },
   {
    "duration": 34,
    "start_time": "2022-01-16T13:35:11.765Z"
   },
   {
    "duration": 471,
    "start_time": "2022-01-16T13:35:26.785Z"
   },
   {
    "duration": 115,
    "start_time": "2022-01-16T13:35:42.942Z"
   },
   {
    "duration": 424,
    "start_time": "2022-01-16T13:35:47.595Z"
   },
   {
    "duration": 321,
    "start_time": "2022-01-16T13:35:56.227Z"
   },
   {
    "duration": 600,
    "start_time": "2022-01-16T13:36:00.231Z"
   },
   {
    "duration": 339,
    "start_time": "2022-01-16T13:41:06.186Z"
   },
   {
    "duration": 1326,
    "start_time": "2022-01-16T13:47:20.704Z"
   },
   {
    "duration": 344,
    "start_time": "2022-01-16T13:52:06.935Z"
   },
   {
    "duration": 52,
    "start_time": "2022-01-16T13:52:20.071Z"
   },
   {
    "duration": 310,
    "start_time": "2022-01-16T13:52:51.062Z"
   },
   {
    "duration": 337,
    "start_time": "2022-01-16T13:53:07.261Z"
   },
   {
    "duration": 298,
    "start_time": "2022-01-16T13:53:44.401Z"
   },
   {
    "duration": 328,
    "start_time": "2022-01-16T13:53:50.886Z"
   },
   {
    "duration": 390,
    "start_time": "2022-01-16T13:53:53.873Z"
   },
   {
    "duration": 314,
    "start_time": "2022-01-16T13:54:23.059Z"
   },
   {
    "duration": 39,
    "start_time": "2022-01-16T13:55:50.758Z"
   },
   {
    "duration": 38,
    "start_time": "2022-01-16T13:56:02.601Z"
   },
   {
    "duration": 22,
    "start_time": "2022-01-16T13:56:56.254Z"
   },
   {
    "duration": 47,
    "start_time": "2022-01-16T13:57:01.518Z"
   },
   {
    "duration": 106,
    "start_time": "2022-01-16T13:57:36.496Z"
   },
   {
    "duration": 86,
    "start_time": "2022-01-16T13:58:56.142Z"
   },
   {
    "duration": 84,
    "start_time": "2022-01-16T14:00:04.273Z"
   },
   {
    "duration": 77,
    "start_time": "2022-01-16T14:02:59.527Z"
   },
   {
    "duration": 82,
    "start_time": "2022-01-16T14:03:04.234Z"
   },
   {
    "duration": 84,
    "start_time": "2022-01-16T14:03:19.695Z"
   },
   {
    "duration": 92,
    "start_time": "2022-01-16T14:04:35.351Z"
   },
   {
    "duration": 53,
    "start_time": "2022-01-16T14:04:37.257Z"
   },
   {
    "duration": 254,
    "start_time": "2022-01-16T14:04:37.313Z"
   },
   {
    "duration": 195,
    "start_time": "2022-01-16T14:04:37.572Z"
   },
   {
    "duration": 229,
    "start_time": "2022-01-16T14:04:37.770Z"
   },
   {
    "duration": 30,
    "start_time": "2022-01-16T14:04:38.001Z"
   },
   {
    "duration": 48,
    "start_time": "2022-01-16T14:04:38.033Z"
   },
   {
    "duration": 42,
    "start_time": "2022-01-16T14:04:38.084Z"
   },
   {
    "duration": 6,
    "start_time": "2022-01-16T14:04:38.129Z"
   },
   {
    "duration": 21,
    "start_time": "2022-01-16T14:04:38.169Z"
   },
   {
    "duration": 19,
    "start_time": "2022-01-16T14:04:38.193Z"
   },
   {
    "duration": 65,
    "start_time": "2022-01-16T14:04:38.215Z"
   },
   {
    "duration": 15,
    "start_time": "2022-01-16T14:04:38.284Z"
   },
   {
    "duration": 28,
    "start_time": "2022-01-16T14:04:38.301Z"
   },
   {
    "duration": 63,
    "start_time": "2022-01-16T14:04:38.331Z"
   },
   {
    "duration": 5,
    "start_time": "2022-01-16T14:04:38.397Z"
   },
   {
    "duration": 15,
    "start_time": "2022-01-16T14:04:38.405Z"
   },
   {
    "duration": 17,
    "start_time": "2022-01-16T14:04:38.423Z"
   },
   {
    "duration": 10,
    "start_time": "2022-01-16T14:04:38.469Z"
   },
   {
    "duration": 14,
    "start_time": "2022-01-16T14:04:38.483Z"
   },
   {
    "duration": 28,
    "start_time": "2022-01-16T14:04:38.499Z"
   },
   {
    "duration": 116,
    "start_time": "2022-01-16T14:04:38.529Z"
   },
   {
    "duration": 394,
    "start_time": "2022-01-16T14:04:38.647Z"
   },
   {
    "duration": -568,
    "start_time": "2022-01-16T14:04:39.611Z"
   },
   {
    "duration": -567,
    "start_time": "2022-01-16T14:04:39.612Z"
   },
   {
    "duration": -571,
    "start_time": "2022-01-16T14:04:39.617Z"
   },
   {
    "duration": -571,
    "start_time": "2022-01-16T14:04:39.618Z"
   },
   {
    "duration": 503,
    "start_time": "2022-01-16T14:04:57.244Z"
   },
   {
    "duration": 87,
    "start_time": "2022-01-16T14:05:15.043Z"
   },
   {
    "duration": 44,
    "start_time": "2022-01-16T14:05:24.015Z"
   },
   {
    "duration": 65,
    "start_time": "2022-01-16T14:05:31.980Z"
   },
   {
    "duration": 77,
    "start_time": "2022-01-16T14:08:22.843Z"
   },
   {
    "duration": 105,
    "start_time": "2022-01-16T14:08:34.798Z"
   },
   {
    "duration": 47,
    "start_time": "2022-01-16T14:09:09.906Z"
   },
   {
    "duration": 44,
    "start_time": "2022-01-16T14:09:38.792Z"
   },
   {
    "duration": 70,
    "start_time": "2022-01-16T14:10:24.199Z"
   },
   {
    "duration": 90,
    "start_time": "2022-01-16T14:10:26.730Z"
   },
   {
    "duration": 85,
    "start_time": "2022-01-16T14:10:53.382Z"
   },
   {
    "duration": 83,
    "start_time": "2022-01-16T14:11:02.117Z"
   },
   {
    "duration": 11049,
    "start_time": "2022-01-16T14:15:53.554Z"
   },
   {
    "duration": 362,
    "start_time": "2022-01-16T14:23:25.136Z"
   },
   {
    "duration": 10269,
    "start_time": "2022-01-16T14:23:30.617Z"
   },
   {
    "duration": 77,
    "start_time": "2022-01-16T14:25:12.914Z"
   },
   {
    "duration": 8524,
    "start_time": "2022-01-16T14:26:37.414Z"
   },
   {
    "duration": 8640,
    "start_time": "2022-01-16T14:26:51.655Z"
   },
   {
    "duration": 4880,
    "start_time": "2022-01-16T14:27:42.864Z"
   },
   {
    "duration": 4953,
    "start_time": "2022-01-16T14:28:58.874Z"
   },
   {
    "duration": 405,
    "start_time": "2022-01-16T14:30:32.195Z"
   },
   {
    "duration": 5205,
    "start_time": "2022-01-16T14:30:37.444Z"
   },
   {
    "duration": 7,
    "start_time": "2022-01-16T14:30:51.698Z"
   },
   {
    "duration": 1736,
    "start_time": "2022-01-16T14:34:11.636Z"
   },
   {
    "duration": 5831,
    "start_time": "2022-01-16T14:34:26.364Z"
   },
   {
    "duration": 829,
    "start_time": "2022-01-16T14:34:45.994Z"
   },
   {
    "duration": 265,
    "start_time": "2022-01-16T14:34:46.827Z"
   },
   {
    "duration": 162,
    "start_time": "2022-01-16T14:34:47.096Z"
   },
   {
    "duration": 239,
    "start_time": "2022-01-16T14:34:47.261Z"
   },
   {
    "duration": 33,
    "start_time": "2022-01-16T14:34:47.503Z"
   },
   {
    "duration": 54,
    "start_time": "2022-01-16T14:34:47.539Z"
   },
   {
    "duration": 49,
    "start_time": "2022-01-16T14:34:47.597Z"
   },
   {
    "duration": 28,
    "start_time": "2022-01-16T14:34:47.648Z"
   },
   {
    "duration": 18,
    "start_time": "2022-01-16T14:34:47.682Z"
   },
   {
    "duration": 21,
    "start_time": "2022-01-16T14:34:47.704Z"
   },
   {
    "duration": 68,
    "start_time": "2022-01-16T14:34:47.727Z"
   },
   {
    "duration": 14,
    "start_time": "2022-01-16T14:34:47.798Z"
   },
   {
    "duration": 25,
    "start_time": "2022-01-16T14:34:47.815Z"
   },
   {
    "duration": 61,
    "start_time": "2022-01-16T14:34:47.843Z"
   },
   {
    "duration": 7,
    "start_time": "2022-01-16T14:34:47.906Z"
   },
   {
    "duration": 23,
    "start_time": "2022-01-16T14:34:47.916Z"
   },
   {
    "duration": 46,
    "start_time": "2022-01-16T14:34:47.941Z"
   },
   {
    "duration": 16,
    "start_time": "2022-01-16T14:34:47.989Z"
   },
   {
    "duration": 12,
    "start_time": "2022-01-16T14:34:48.007Z"
   },
   {
    "duration": 52,
    "start_time": "2022-01-16T14:34:48.021Z"
   },
   {
    "duration": 76,
    "start_time": "2022-01-16T14:34:48.078Z"
   },
   {
    "duration": 105,
    "start_time": "2022-01-16T14:34:48.157Z"
   },
   {
    "duration": 54,
    "start_time": "2022-01-16T14:34:48.269Z"
   },
   {
    "duration": 97,
    "start_time": "2022-01-16T14:34:48.326Z"
   },
   {
    "duration": 93,
    "start_time": "2022-01-16T14:34:48.426Z"
   },
   {
    "duration": 5003,
    "start_time": "2022-01-16T14:34:48.522Z"
   },
   {
    "duration": 7,
    "start_time": "2022-01-16T14:34:53.529Z"
   },
   {
    "duration": 11279,
    "start_time": "2022-01-16T14:34:53.539Z"
   },
   {
    "duration": -609,
    "start_time": "2022-01-16T14:35:05.429Z"
   },
   {
    "duration": 7977,
    "start_time": "2022-01-16T14:38:33.491Z"
   },
   {
    "duration": 5157,
    "start_time": "2022-01-16T14:40:26.509Z"
   },
   {
    "duration": 3,
    "start_time": "2022-01-16T14:41:34.187Z"
   },
   {
    "duration": 5257,
    "start_time": "2022-01-16T14:41:50.825Z"
   },
   {
    "duration": 5499,
    "start_time": "2022-01-16T14:42:22.003Z"
   },
   {
    "duration": 5388,
    "start_time": "2022-01-16T14:42:48.081Z"
   },
   {
    "duration": 124,
    "start_time": "2022-01-16T14:42:59.187Z"
   },
   {
    "duration": 51,
    "start_time": "2022-01-16T14:43:02.851Z"
   },
   {
    "duration": 870,
    "start_time": "2022-01-16T14:43:16.147Z"
   },
   {
    "duration": 262,
    "start_time": "2022-01-16T14:43:17.020Z"
   },
   {
    "duration": 146,
    "start_time": "2022-01-16T14:43:17.286Z"
   },
   {
    "duration": 223,
    "start_time": "2022-01-16T14:43:17.435Z"
   },
   {
    "duration": 32,
    "start_time": "2022-01-16T14:43:17.667Z"
   },
   {
    "duration": 31,
    "start_time": "2022-01-16T14:43:17.701Z"
   },
   {
    "duration": 81,
    "start_time": "2022-01-16T14:43:17.734Z"
   },
   {
    "duration": 6,
    "start_time": "2022-01-16T14:43:17.819Z"
   },
   {
    "duration": 16,
    "start_time": "2022-01-16T14:43:17.828Z"
   },
   {
    "duration": 29,
    "start_time": "2022-01-16T14:43:17.868Z"
   },
   {
    "duration": 26,
    "start_time": "2022-01-16T14:43:17.900Z"
   },
   {
    "duration": 53,
    "start_time": "2022-01-16T14:43:17.929Z"
   },
   {
    "duration": 29,
    "start_time": "2022-01-16T14:43:17.986Z"
   },
   {
    "duration": 55,
    "start_time": "2022-01-16T14:43:18.018Z"
   },
   {
    "duration": 8,
    "start_time": "2022-01-16T14:43:18.076Z"
   },
   {
    "duration": 24,
    "start_time": "2022-01-16T14:43:18.086Z"
   },
   {
    "duration": 17,
    "start_time": "2022-01-16T14:43:18.112Z"
   },
   {
    "duration": 41,
    "start_time": "2022-01-16T14:43:18.132Z"
   },
   {
    "duration": 15,
    "start_time": "2022-01-16T14:43:18.176Z"
   },
   {
    "duration": 25,
    "start_time": "2022-01-16T14:43:18.194Z"
   },
   {
    "duration": 99,
    "start_time": "2022-01-16T14:43:18.222Z"
   },
   {
    "duration": 106,
    "start_time": "2022-01-16T14:43:18.323Z"
   },
   {
    "duration": 64,
    "start_time": "2022-01-16T14:43:18.433Z"
   },
   {
    "duration": 84,
    "start_time": "2022-01-16T14:43:18.500Z"
   },
   {
    "duration": 104,
    "start_time": "2022-01-16T14:43:18.586Z"
   },
   {
    "duration": 3,
    "start_time": "2022-01-16T14:43:18.692Z"
   },
   {
    "duration": 5114,
    "start_time": "2022-01-16T14:43:18.697Z"
   },
   {
    "duration": 5156,
    "start_time": "2022-01-16T14:43:23.814Z"
   },
   {
    "duration": 5340,
    "start_time": "2022-01-16T14:43:28.973Z"
   },
   {
    "duration": 51,
    "start_time": "2022-01-16T14:43:34.316Z"
   },
   {
    "duration": 8,
    "start_time": "2022-01-16T14:43:34.371Z"
   },
   {
    "duration": 14662,
    "start_time": "2022-01-16T14:43:34.382Z"
   },
   {
    "duration": 7,
    "start_time": "2022-01-16T14:44:52.744Z"
   },
   {
    "duration": 5041,
    "start_time": "2022-01-16T14:47:59.841Z"
   },
   {
    "duration": 5020,
    "start_time": "2022-01-16T14:48:20.375Z"
   },
   {
    "duration": 5142,
    "start_time": "2022-01-16T14:49:02.912Z"
   },
   {
    "duration": 4972,
    "start_time": "2022-01-16T14:49:27.900Z"
   },
   {
    "duration": 140,
    "start_time": "2022-01-16T14:49:36.441Z"
   },
   {
    "duration": 6,
    "start_time": "2022-01-16T14:50:01.294Z"
   },
   {
    "duration": 7,
    "start_time": "2022-01-16T14:50:10.205Z"
   },
   {
    "duration": 5148,
    "start_time": "2022-01-16T14:50:21.096Z"
   },
   {
    "duration": 5389,
    "start_time": "2022-01-16T14:51:12.518Z"
   },
   {
    "duration": 136,
    "start_time": "2022-01-16T14:51:36.802Z"
   },
   {
    "duration": 7,
    "start_time": "2022-01-16T14:52:08.518Z"
   },
   {
    "duration": 11524,
    "start_time": "2022-01-16T14:52:10.839Z"
   },
   {
    "duration": 984,
    "start_time": "2022-01-16T14:54:45.484Z"
   },
   {
    "duration": 401,
    "start_time": "2022-01-16T14:54:46.472Z"
   },
   {
    "duration": 183,
    "start_time": "2022-01-16T14:54:46.877Z"
   },
   {
    "duration": 333,
    "start_time": "2022-01-16T14:54:47.069Z"
   },
   {
    "duration": 33,
    "start_time": "2022-01-16T14:54:47.405Z"
   },
   {
    "duration": 46,
    "start_time": "2022-01-16T14:54:47.441Z"
   },
   {
    "duration": 88,
    "start_time": "2022-01-16T14:54:47.491Z"
   },
   {
    "duration": 9,
    "start_time": "2022-01-16T14:54:47.584Z"
   },
   {
    "duration": 20,
    "start_time": "2022-01-16T14:54:47.601Z"
   },
   {
    "duration": 61,
    "start_time": "2022-01-16T14:54:47.624Z"
   },
   {
    "duration": 45,
    "start_time": "2022-01-16T14:54:47.688Z"
   },
   {
    "duration": 35,
    "start_time": "2022-01-16T14:54:47.736Z"
   },
   {
    "duration": 39,
    "start_time": "2022-01-16T14:54:47.774Z"
   },
   {
    "duration": 71,
    "start_time": "2022-01-16T14:54:47.815Z"
   },
   {
    "duration": 8,
    "start_time": "2022-01-16T14:54:47.889Z"
   },
   {
    "duration": 29,
    "start_time": "2022-01-16T14:54:47.900Z"
   },
   {
    "duration": 18,
    "start_time": "2022-01-16T14:54:47.932Z"
   },
   {
    "duration": 15,
    "start_time": "2022-01-16T14:54:47.972Z"
   },
   {
    "duration": 10,
    "start_time": "2022-01-16T14:54:47.990Z"
   },
   {
    "duration": 29,
    "start_time": "2022-01-16T14:54:48.003Z"
   },
   {
    "duration": 111,
    "start_time": "2022-01-16T14:54:48.035Z"
   },
   {
    "duration": 136,
    "start_time": "2022-01-16T14:54:48.148Z"
   },
   {
    "duration": 52,
    "start_time": "2022-01-16T14:54:48.289Z"
   },
   {
    "duration": 100,
    "start_time": "2022-01-16T14:54:48.344Z"
   },
   {
    "duration": 113,
    "start_time": "2022-01-16T14:54:48.447Z"
   },
   {
    "duration": 9,
    "start_time": "2022-01-16T14:54:48.562Z"
   },
   {
    "duration": 5748,
    "start_time": "2022-01-16T14:54:48.574Z"
   },
   {
    "duration": 6185,
    "start_time": "2022-01-16T14:54:54.324Z"
   },
   {
    "duration": 5410,
    "start_time": "2022-01-16T14:55:00.512Z"
   },
   {
    "duration": 5562,
    "start_time": "2022-01-16T14:55:05.924Z"
   },
   {
    "duration": 5696,
    "start_time": "2022-01-16T14:55:11.490Z"
   },
   {
    "duration": 6070,
    "start_time": "2022-01-16T14:55:17.189Z"
   },
   {
    "duration": 5850,
    "start_time": "2022-01-16T14:55:23.261Z"
   },
   {
    "duration": 156,
    "start_time": "2022-01-16T14:55:29.116Z"
   },
   {
    "duration": 10,
    "start_time": "2022-01-16T14:55:29.276Z"
   },
   {
    "duration": 11415,
    "start_time": "2022-01-16T14:55:29.289Z"
   },
   {
    "duration": 10860,
    "start_time": "2022-01-16T15:02:03.350Z"
   },
   {
    "duration": 128,
    "start_time": "2022-01-16T15:03:41.092Z"
   },
   {
    "duration": 6,
    "start_time": "2022-01-16T15:04:20.693Z"
   },
   {
    "duration": 13547,
    "start_time": "2022-01-16T15:04:22.945Z"
   },
   {
    "duration": 6,
    "start_time": "2022-01-16T15:04:56.362Z"
   },
   {
    "duration": 7,
    "start_time": "2022-01-16T15:36:38.707Z"
   },
   {
    "duration": 11133,
    "start_time": "2022-01-16T15:36:40.518Z"
   },
   {
    "duration": 1035,
    "start_time": "2022-01-17T14:06:31.866Z"
   },
   {
    "duration": 249,
    "start_time": "2022-01-17T14:06:32.905Z"
   },
   {
    "duration": 157,
    "start_time": "2022-01-17T14:06:33.157Z"
   },
   {
    "duration": 216,
    "start_time": "2022-01-17T14:06:33.318Z"
   },
   {
    "duration": 38,
    "start_time": "2022-01-17T14:06:33.536Z"
   },
   {
    "duration": 26,
    "start_time": "2022-01-17T14:06:33.577Z"
   },
   {
    "duration": 75,
    "start_time": "2022-01-17T14:06:33.606Z"
   },
   {
    "duration": 8,
    "start_time": "2022-01-17T14:06:33.683Z"
   },
   {
    "duration": 21,
    "start_time": "2022-01-17T14:06:33.695Z"
   },
   {
    "duration": 21,
    "start_time": "2022-01-17T14:06:33.719Z"
   },
   {
    "duration": 29,
    "start_time": "2022-01-17T14:06:33.770Z"
   },
   {
    "duration": 14,
    "start_time": "2022-01-17T14:06:33.802Z"
   },
   {
    "duration": 54,
    "start_time": "2022-01-17T14:06:33.818Z"
   },
   {
    "duration": 38,
    "start_time": "2022-01-17T14:06:33.875Z"
   },
   {
    "duration": 7,
    "start_time": "2022-01-17T14:06:33.915Z"
   },
   {
    "duration": 51,
    "start_time": "2022-01-17T14:06:33.924Z"
   },
   {
    "duration": 24,
    "start_time": "2022-01-17T14:06:33.978Z"
   },
   {
    "duration": 10,
    "start_time": "2022-01-17T14:06:34.006Z"
   },
   {
    "duration": 11,
    "start_time": "2022-01-17T14:06:34.019Z"
   },
   {
    "duration": 54,
    "start_time": "2022-01-17T14:06:34.032Z"
   },
   {
    "duration": 84,
    "start_time": "2022-01-17T14:06:34.088Z"
   },
   {
    "duration": 97,
    "start_time": "2022-01-17T14:06:34.175Z"
   },
   {
    "duration": 49,
    "start_time": "2022-01-17T14:06:34.275Z"
   },
   {
    "duration": 89,
    "start_time": "2022-01-17T14:06:34.327Z"
   },
   {
    "duration": 97,
    "start_time": "2022-01-17T14:06:34.419Z"
   },
   {
    "duration": 3,
    "start_time": "2022-01-17T14:06:34.518Z"
   },
   {
    "duration": 5223,
    "start_time": "2022-01-17T14:06:34.526Z"
   },
   {
    "duration": 4958,
    "start_time": "2022-01-17T14:06:39.752Z"
   },
   {
    "duration": 5126,
    "start_time": "2022-01-17T14:06:44.713Z"
   },
   {
    "duration": 5091,
    "start_time": "2022-01-17T14:06:49.842Z"
   },
   {
    "duration": 5375,
    "start_time": "2022-01-17T14:06:54.935Z"
   },
   {
    "duration": 5063,
    "start_time": "2022-01-17T14:07:00.313Z"
   },
   {
    "duration": 5015,
    "start_time": "2022-01-17T14:07:05.378Z"
   },
   {
    "duration": 143,
    "start_time": "2022-01-17T14:07:10.396Z"
   },
   {
    "duration": 7,
    "start_time": "2022-01-17T14:07:10.542Z"
   },
   {
    "duration": 10624,
    "start_time": "2022-01-17T14:07:10.552Z"
   },
   {
    "duration": -1144,
    "start_time": "2022-01-17T14:07:22.323Z"
   },
   {
    "duration": 10589,
    "start_time": "2022-01-17T14:08:22.211Z"
   },
   {
    "duration": 10303,
    "start_time": "2022-01-17T14:15:13.477Z"
   },
   {
    "duration": 11702,
    "start_time": "2022-01-17T14:16:24.004Z"
   },
   {
    "duration": 5908,
    "start_time": "2022-01-17T14:21:01.966Z"
   },
   {
    "duration": 5657,
    "start_time": "2022-01-17T14:24:50.369Z"
   },
   {
    "duration": 11375,
    "start_time": "2022-01-17T14:25:06.775Z"
   },
   {
    "duration": 8170,
    "start_time": "2022-01-17T14:26:48.800Z"
   },
   {
    "duration": 5,
    "start_time": "2022-01-17T14:27:48.179Z"
   },
   {
    "duration": 165,
    "start_time": "2022-01-17T14:27:58.952Z"
   },
   {
    "duration": 10815,
    "start_time": "2022-01-17T14:28:08.167Z"
   },
   {
    "duration": 10724,
    "start_time": "2022-01-17T14:28:35.684Z"
   },
   {
    "duration": 398,
    "start_time": "2022-01-17T14:45:26.161Z"
   },
   {
    "duration": 5643,
    "start_time": "2022-01-17T14:45:33.438Z"
   },
   {
    "duration": 157,
    "start_time": "2022-01-17T14:49:12.630Z"
   },
   {
    "duration": 147,
    "start_time": "2022-01-17T14:49:17.002Z"
   },
   {
    "duration": 83,
    "start_time": "2022-01-17T14:51:21.679Z"
   },
   {
    "duration": 33,
    "start_time": "2022-01-17T14:53:44.670Z"
   },
   {
    "duration": 26,
    "start_time": "2022-01-17T14:54:22.519Z"
   },
   {
    "duration": 28,
    "start_time": "2022-01-17T14:55:18.068Z"
   },
   {
    "duration": 72,
    "start_time": "2022-01-17T14:57:24.655Z"
   },
   {
    "duration": 66,
    "start_time": "2022-01-17T14:57:26.344Z"
   },
   {
    "duration": 65,
    "start_time": "2022-01-17T14:57:40.831Z"
   },
   {
    "duration": 45,
    "start_time": "2022-01-17T14:57:46.921Z"
   },
   {
    "duration": 63,
    "start_time": "2022-01-17T14:57:55.435Z"
   },
   {
    "duration": 26,
    "start_time": "2022-01-17T14:58:08.871Z"
   },
   {
    "duration": 830,
    "start_time": "2022-01-17T14:58:39.303Z"
   },
   {
    "duration": 241,
    "start_time": "2022-01-17T14:58:40.136Z"
   },
   {
    "duration": 144,
    "start_time": "2022-01-17T14:58:40.380Z"
   },
   {
    "duration": 219,
    "start_time": "2022-01-17T14:58:40.526Z"
   },
   {
    "duration": 29,
    "start_time": "2022-01-17T14:58:40.747Z"
   },
   {
    "duration": 29,
    "start_time": "2022-01-17T14:58:40.778Z"
   },
   {
    "duration": 71,
    "start_time": "2022-01-17T14:58:40.809Z"
   },
   {
    "duration": 7,
    "start_time": "2022-01-17T14:58:40.884Z"
   },
   {
    "duration": 17,
    "start_time": "2022-01-17T14:58:40.893Z"
   },
   {
    "duration": 20,
    "start_time": "2022-01-17T14:58:40.913Z"
   },
   {
    "duration": 56,
    "start_time": "2022-01-17T14:58:40.936Z"
   },
   {
    "duration": 16,
    "start_time": "2022-01-17T14:58:40.995Z"
   },
   {
    "duration": 57,
    "start_time": "2022-01-17T14:58:41.014Z"
   },
   {
    "duration": 34,
    "start_time": "2022-01-17T14:58:41.074Z"
   },
   {
    "duration": 6,
    "start_time": "2022-01-17T14:58:41.111Z"
   },
   {
    "duration": 25,
    "start_time": "2022-01-17T14:58:41.119Z"
   },
   {
    "duration": 19,
    "start_time": "2022-01-17T14:58:41.169Z"
   },
   {
    "duration": 10,
    "start_time": "2022-01-17T14:58:41.191Z"
   },
   {
    "duration": 8,
    "start_time": "2022-01-17T14:58:41.204Z"
   },
   {
    "duration": 55,
    "start_time": "2022-01-17T14:58:41.214Z"
   },
   {
    "duration": 75,
    "start_time": "2022-01-17T14:58:41.272Z"
   },
   {
    "duration": 106,
    "start_time": "2022-01-17T14:58:41.349Z"
   },
   {
    "duration": 48,
    "start_time": "2022-01-17T14:58:41.472Z"
   },
   {
    "duration": 80,
    "start_time": "2022-01-17T14:58:41.522Z"
   },
   {
    "duration": 26,
    "start_time": "2022-01-17T14:58:41.605Z"
   },
   {
    "duration": 3,
    "start_time": "2022-01-17T14:58:41.634Z"
   },
   {
    "duration": 113,
    "start_time": "2022-01-17T14:58:41.639Z"
   },
   {
    "duration": 83,
    "start_time": "2022-01-17T14:58:41.755Z"
   },
   {
    "duration": 95,
    "start_time": "2022-01-17T14:58:41.841Z"
   },
   {
    "duration": 87,
    "start_time": "2022-01-17T14:58:41.938Z"
   },
   {
    "duration": 86,
    "start_time": "2022-01-17T14:58:42.027Z"
   },
   {
    "duration": 89,
    "start_time": "2022-01-17T14:58:42.115Z"
   },
   {
    "duration": 93,
    "start_time": "2022-01-17T14:58:42.206Z"
   },
   {
    "duration": 34,
    "start_time": "2022-01-17T14:58:42.301Z"
   },
   {
    "duration": 40,
    "start_time": "2022-01-17T14:58:42.338Z"
   },
   {
    "duration": 6,
    "start_time": "2022-01-17T14:58:42.381Z"
   },
   {
    "duration": 43,
    "start_time": "2022-01-17T14:58:42.389Z"
   },
   {
    "duration": 5033,
    "start_time": "2022-01-17T14:58:42.434Z"
   },
   {
    "duration": -1161,
    "start_time": "2022-01-17T14:58:48.631Z"
   },
   {
    "duration": 9051,
    "start_time": "2022-01-17T14:58:56.048Z"
   },
   {
    "duration": 62,
    "start_time": "2022-01-17T15:00:01.131Z"
   },
   {
    "duration": 88,
    "start_time": "2022-01-17T15:00:08.519Z"
   },
   {
    "duration": 41,
    "start_time": "2022-01-17T15:00:27.466Z"
   },
   {
    "duration": 856,
    "start_time": "2022-01-17T15:00:33.541Z"
   },
   {
    "duration": 247,
    "start_time": "2022-01-17T15:00:34.400Z"
   },
   {
    "duration": 159,
    "start_time": "2022-01-17T15:00:34.654Z"
   },
   {
    "duration": 222,
    "start_time": "2022-01-17T15:00:34.816Z"
   },
   {
    "duration": 33,
    "start_time": "2022-01-17T15:00:35.040Z"
   },
   {
    "duration": 28,
    "start_time": "2022-01-17T15:00:35.076Z"
   },
   {
    "duration": 69,
    "start_time": "2022-01-17T15:00:35.106Z"
   },
   {
    "duration": 7,
    "start_time": "2022-01-17T15:00:35.179Z"
   },
   {
    "duration": 26,
    "start_time": "2022-01-17T15:00:35.189Z"
   },
   {
    "duration": 24,
    "start_time": "2022-01-17T15:00:35.217Z"
   },
   {
    "duration": 48,
    "start_time": "2022-01-17T15:00:35.244Z"
   },
   {
    "duration": 17,
    "start_time": "2022-01-17T15:00:35.295Z"
   },
   {
    "duration": 55,
    "start_time": "2022-01-17T15:00:35.314Z"
   },
   {
    "duration": 40,
    "start_time": "2022-01-17T15:00:35.372Z"
   },
   {
    "duration": 6,
    "start_time": "2022-01-17T15:00:35.414Z"
   },
   {
    "duration": 48,
    "start_time": "2022-01-17T15:00:35.422Z"
   },
   {
    "duration": 17,
    "start_time": "2022-01-17T15:00:35.472Z"
   },
   {
    "duration": 20,
    "start_time": "2022-01-17T15:00:35.491Z"
   },
   {
    "duration": 12,
    "start_time": "2022-01-17T15:00:35.513Z"
   },
   {
    "duration": 43,
    "start_time": "2022-01-17T15:00:35.527Z"
   },
   {
    "duration": 72,
    "start_time": "2022-01-17T15:00:35.573Z"
   },
   {
    "duration": 110,
    "start_time": "2022-01-17T15:00:35.647Z"
   },
   {
    "duration": 56,
    "start_time": "2022-01-17T15:00:35.760Z"
   },
   {
    "duration": 86,
    "start_time": "2022-01-17T15:00:35.818Z"
   },
   {
    "duration": 32,
    "start_time": "2022-01-17T15:00:35.907Z"
   },
   {
    "duration": 4,
    "start_time": "2022-01-17T15:00:35.944Z"
   },
   {
    "duration": 79,
    "start_time": "2022-01-17T15:00:35.970Z"
   },
   {
    "duration": 92,
    "start_time": "2022-01-17T15:00:36.052Z"
   },
   {
    "duration": 90,
    "start_time": "2022-01-17T15:00:36.147Z"
   },
   {
    "duration": 86,
    "start_time": "2022-01-17T15:00:36.240Z"
   },
   {
    "duration": 90,
    "start_time": "2022-01-17T15:00:36.329Z"
   },
   {
    "duration": 87,
    "start_time": "2022-01-17T15:00:36.421Z"
   },
   {
    "duration": 91,
    "start_time": "2022-01-17T15:00:36.510Z"
   },
   {
    "duration": 33,
    "start_time": "2022-01-17T15:00:36.604Z"
   },
   {
    "duration": 34,
    "start_time": "2022-01-17T15:00:36.639Z"
   },
   {
    "duration": 6,
    "start_time": "2022-01-17T15:00:36.675Z"
   },
   {
    "duration": 40,
    "start_time": "2022-01-17T15:00:36.683Z"
   },
   {
    "duration": 9893,
    "start_time": "2022-01-17T15:00:36.726Z"
   },
   {
    "duration": -1175,
    "start_time": "2022-01-17T15:00:47.798Z"
   },
   {
    "duration": 6,
    "start_time": "2022-01-17T15:01:18.044Z"
   },
   {
    "duration": 10560,
    "start_time": "2022-01-17T15:01:20.329Z"
   },
   {
    "duration": 325,
    "start_time": "2022-01-17T15:02:11.747Z"
   },
   {
    "duration": 339,
    "start_time": "2022-01-17T15:02:35.821Z"
   },
   {
    "duration": 363,
    "start_time": "2022-01-17T15:02:49.912Z"
   },
   {
    "duration": 311,
    "start_time": "2022-01-17T15:03:03.000Z"
   },
   {
    "duration": 337,
    "start_time": "2022-01-17T15:05:31.860Z"
   },
   {
    "duration": 850,
    "start_time": "2022-01-17T15:05:51.554Z"
   },
   {
    "duration": 248,
    "start_time": "2022-01-17T15:05:52.407Z"
   },
   {
    "duration": 152,
    "start_time": "2022-01-17T15:05:52.674Z"
   },
   {
    "duration": 223,
    "start_time": "2022-01-17T15:05:52.828Z"
   },
   {
    "duration": 34,
    "start_time": "2022-01-17T15:05:53.053Z"
   },
   {
    "duration": 27,
    "start_time": "2022-01-17T15:05:53.090Z"
   },
   {
    "duration": 75,
    "start_time": "2022-01-17T15:05:53.120Z"
   },
   {
    "duration": 7,
    "start_time": "2022-01-17T15:05:53.199Z"
   },
   {
    "duration": 22,
    "start_time": "2022-01-17T15:05:53.209Z"
   },
   {
    "duration": 40,
    "start_time": "2022-01-17T15:05:53.234Z"
   },
   {
    "duration": 29,
    "start_time": "2022-01-17T15:05:53.277Z"
   },
   {
    "duration": 13,
    "start_time": "2022-01-17T15:05:53.309Z"
   },
   {
    "duration": 51,
    "start_time": "2022-01-17T15:05:53.324Z"
   },
   {
    "duration": 37,
    "start_time": "2022-01-17T15:05:53.377Z"
   },
   {
    "duration": 6,
    "start_time": "2022-01-17T15:05:53.417Z"
   },
   {
    "duration": 47,
    "start_time": "2022-01-17T15:05:53.425Z"
   },
   {
    "duration": 17,
    "start_time": "2022-01-17T15:05:53.474Z"
   },
   {
    "duration": 13,
    "start_time": "2022-01-17T15:05:53.494Z"
   },
   {
    "duration": 8,
    "start_time": "2022-01-17T15:05:53.510Z"
   },
   {
    "duration": 50,
    "start_time": "2022-01-17T15:05:53.521Z"
   },
   {
    "duration": 74,
    "start_time": "2022-01-17T15:05:53.574Z"
   },
   {
    "duration": 120,
    "start_time": "2022-01-17T15:05:53.651Z"
   },
   {
    "duration": 48,
    "start_time": "2022-01-17T15:05:53.773Z"
   },
   {
    "duration": 84,
    "start_time": "2022-01-17T15:05:53.823Z"
   },
   {
    "duration": 605,
    "start_time": "2022-01-17T15:05:53.909Z"
   },
   {
    "duration": -1167,
    "start_time": "2022-01-17T15:05:55.685Z"
   },
   {
    "duration": -1167,
    "start_time": "2022-01-17T15:05:55.686Z"
   },
   {
    "duration": -1166,
    "start_time": "2022-01-17T15:05:55.687Z"
   },
   {
    "duration": -1165,
    "start_time": "2022-01-17T15:05:55.688Z"
   },
   {
    "duration": -1165,
    "start_time": "2022-01-17T15:05:55.690Z"
   },
   {
    "duration": -1165,
    "start_time": "2022-01-17T15:05:55.691Z"
   },
   {
    "duration": -1164,
    "start_time": "2022-01-17T15:05:55.692Z"
   },
   {
    "duration": -1166,
    "start_time": "2022-01-17T15:05:55.696Z"
   },
   {
    "duration": -1166,
    "start_time": "2022-01-17T15:05:55.697Z"
   },
   {
    "duration": -1165,
    "start_time": "2022-01-17T15:05:55.698Z"
   },
   {
    "duration": -1164,
    "start_time": "2022-01-17T15:05:55.699Z"
   },
   {
    "duration": -1166,
    "start_time": "2022-01-17T15:05:55.702Z"
   },
   {
    "duration": -1165,
    "start_time": "2022-01-17T15:05:55.703Z"
   },
   {
    "duration": -1164,
    "start_time": "2022-01-17T15:05:55.704Z"
   },
   {
    "duration": 85,
    "start_time": "2022-01-17T15:06:09.202Z"
   },
   {
    "duration": 511,
    "start_time": "2022-01-17T15:06:23.482Z"
   },
   {
    "duration": 27,
    "start_time": "2022-01-17T15:06:44.447Z"
   },
   {
    "duration": 316,
    "start_time": "2022-01-17T15:07:18.845Z"
   },
   {
    "duration": 21,
    "start_time": "2022-01-17T15:07:26.481Z"
   },
   {
    "duration": 47,
    "start_time": "2022-01-17T15:07:31.082Z"
   },
   {
    "duration": 25,
    "start_time": "2022-01-17T15:07:50.124Z"
   },
   {
    "duration": 44,
    "start_time": "2022-01-17T15:08:00.680Z"
   },
   {
    "duration": 843,
    "start_time": "2022-01-17T15:08:11.230Z"
   },
   {
    "duration": 257,
    "start_time": "2022-01-17T15:08:12.075Z"
   },
   {
    "duration": 144,
    "start_time": "2022-01-17T15:08:12.335Z"
   },
   {
    "duration": 228,
    "start_time": "2022-01-17T15:08:12.482Z"
   },
   {
    "duration": 29,
    "start_time": "2022-01-17T15:08:12.713Z"
   },
   {
    "duration": 42,
    "start_time": "2022-01-17T15:08:12.745Z"
   },
   {
    "duration": 48,
    "start_time": "2022-01-17T15:08:12.789Z"
   },
   {
    "duration": 6,
    "start_time": "2022-01-17T15:08:12.839Z"
   },
   {
    "duration": 17,
    "start_time": "2022-01-17T15:08:12.869Z"
   },
   {
    "duration": 19,
    "start_time": "2022-01-17T15:08:12.889Z"
   },
   {
    "duration": 59,
    "start_time": "2022-01-17T15:08:12.910Z"
   },
   {
    "duration": 15,
    "start_time": "2022-01-17T15:08:12.972Z"
   },
   {
    "duration": 26,
    "start_time": "2022-01-17T15:08:12.989Z"
   },
   {
    "duration": 71,
    "start_time": "2022-01-17T15:08:13.018Z"
   },
   {
    "duration": 8,
    "start_time": "2022-01-17T15:08:13.091Z"
   },
   {
    "duration": 20,
    "start_time": "2022-01-17T15:08:13.102Z"
   },
   {
    "duration": 47,
    "start_time": "2022-01-17T15:08:13.125Z"
   },
   {
    "duration": 12,
    "start_time": "2022-01-17T15:08:13.175Z"
   },
   {
    "duration": 11,
    "start_time": "2022-01-17T15:08:13.190Z"
   },
   {
    "duration": 26,
    "start_time": "2022-01-17T15:08:13.203Z"
   },
   {
    "duration": 102,
    "start_time": "2022-01-17T15:08:13.231Z"
   },
   {
    "duration": 104,
    "start_time": "2022-01-17T15:08:13.335Z"
   },
   {
    "duration": 57,
    "start_time": "2022-01-17T15:08:13.441Z"
   },
   {
    "duration": 77,
    "start_time": "2022-01-17T15:08:13.501Z"
   },
   {
    "duration": 44,
    "start_time": "2022-01-17T15:08:13.580Z"
   },
   {
    "duration": 3,
    "start_time": "2022-01-17T15:08:13.626Z"
   },
   {
    "duration": 424,
    "start_time": "2022-01-17T15:08:13.634Z"
   },
   {
    "duration": -1170,
    "start_time": "2022-01-17T15:08:15.231Z"
   },
   {
    "duration": -1173,
    "start_time": "2022-01-17T15:08:15.235Z"
   },
   {
    "duration": -1172,
    "start_time": "2022-01-17T15:08:15.236Z"
   },
   {
    "duration": -1171,
    "start_time": "2022-01-17T15:08:15.237Z"
   },
   {
    "duration": -1171,
    "start_time": "2022-01-17T15:08:15.238Z"
   },
   {
    "duration": -1170,
    "start_time": "2022-01-17T15:08:15.239Z"
   },
   {
    "duration": -1174,
    "start_time": "2022-01-17T15:08:15.244Z"
   },
   {
    "duration": -1173,
    "start_time": "2022-01-17T15:08:15.245Z"
   },
   {
    "duration": -1172,
    "start_time": "2022-01-17T15:08:15.246Z"
   },
   {
    "duration": -1173,
    "start_time": "2022-01-17T15:08:15.248Z"
   },
   {
    "duration": -1175,
    "start_time": "2022-01-17T15:08:15.252Z"
   },
   {
    "duration": -1175,
    "start_time": "2022-01-17T15:08:15.253Z"
   },
   {
    "duration": 931,
    "start_time": "2022-01-17T15:09:00.304Z"
   },
   {
    "duration": 270,
    "start_time": "2022-01-17T15:09:01.238Z"
   },
   {
    "duration": 150,
    "start_time": "2022-01-17T15:09:01.511Z"
   },
   {
    "duration": 217,
    "start_time": "2022-01-17T15:09:01.668Z"
   },
   {
    "duration": 29,
    "start_time": "2022-01-17T15:09:01.887Z"
   },
   {
    "duration": 26,
    "start_time": "2022-01-17T15:09:01.919Z"
   },
   {
    "duration": 66,
    "start_time": "2022-01-17T15:09:01.947Z"
   },
   {
    "duration": 7,
    "start_time": "2022-01-17T15:09:02.017Z"
   },
   {
    "duration": 42,
    "start_time": "2022-01-17T15:09:02.027Z"
   },
   {
    "duration": 39,
    "start_time": "2022-01-17T15:09:02.071Z"
   },
   {
    "duration": 42,
    "start_time": "2022-01-17T15:09:02.112Z"
   },
   {
    "duration": 18,
    "start_time": "2022-01-17T15:09:02.156Z"
   },
   {
    "duration": 57,
    "start_time": "2022-01-17T15:09:02.177Z"
   },
   {
    "duration": 121,
    "start_time": "2022-01-17T15:09:02.236Z"
   },
   {
    "duration": 41,
    "start_time": "2022-01-17T15:09:02.361Z"
   },
   {
    "duration": 40,
    "start_time": "2022-01-17T15:09:02.405Z"
   },
   {
    "duration": 18,
    "start_time": "2022-01-17T15:09:02.448Z"
   },
   {
    "duration": 10,
    "start_time": "2022-01-17T15:09:02.469Z"
   },
   {
    "duration": 9,
    "start_time": "2022-01-17T15:09:02.482Z"
   },
   {
    "duration": 25,
    "start_time": "2022-01-17T15:09:02.493Z"
   },
   {
    "duration": 117,
    "start_time": "2022-01-17T15:09:02.521Z"
   },
   {
    "duration": 107,
    "start_time": "2022-01-17T15:09:02.640Z"
   },
   {
    "duration": 56,
    "start_time": "2022-01-17T15:09:02.752Z"
   },
   {
    "duration": 74,
    "start_time": "2022-01-17T15:09:02.811Z"
   },
   {
    "duration": 45,
    "start_time": "2022-01-17T15:09:02.888Z"
   },
   {
    "duration": 3,
    "start_time": "2022-01-17T15:09:02.936Z"
   },
   {
    "duration": 93,
    "start_time": "2022-01-17T15:09:02.941Z"
   },
   {
    "duration": 82,
    "start_time": "2022-01-17T15:09:03.036Z"
   },
   {
    "duration": 81,
    "start_time": "2022-01-17T15:09:03.121Z"
   },
   {
    "duration": 79,
    "start_time": "2022-01-17T15:09:03.205Z"
   },
   {
    "duration": 68,
    "start_time": "2022-01-17T15:09:03.286Z"
   },
   {
    "duration": 76,
    "start_time": "2022-01-17T15:09:03.356Z"
   },
   {
    "duration": 81,
    "start_time": "2022-01-17T15:09:03.434Z"
   },
   {
    "duration": 52,
    "start_time": "2022-01-17T15:09:03.517Z"
   },
   {
    "duration": 18,
    "start_time": "2022-01-17T15:09:03.571Z"
   },
   {
    "duration": 8,
    "start_time": "2022-01-17T15:09:03.591Z"
   },
   {
    "duration": 75,
    "start_time": "2022-01-17T15:09:03.602Z"
   },
   {
    "duration": 9464,
    "start_time": "2022-01-17T15:09:03.680Z"
   },
   {
    "duration": -1187,
    "start_time": "2022-01-17T15:09:14.334Z"
   },
   {
    "duration": 46,
    "start_time": "2022-01-17T15:10:13.881Z"
   },
   {
    "duration": 3,
    "start_time": "2022-01-17T15:10:22.604Z"
   },
   {
    "duration": 732,
    "start_time": "2022-01-17T15:10:38.497Z"
   },
   {
    "duration": 4,
    "start_time": "2022-01-17T15:10:39.232Z"
   },
   {
    "duration": 64,
    "start_time": "2022-01-17T15:10:39.239Z"
   },
   {
    "duration": 240,
    "start_time": "2022-01-17T15:10:39.307Z"
   },
   {
    "duration": 145,
    "start_time": "2022-01-17T15:10:39.550Z"
   },
   {
    "duration": 212,
    "start_time": "2022-01-17T15:10:39.697Z"
   },
   {
    "duration": 29,
    "start_time": "2022-01-17T15:10:39.912Z"
   },
   {
    "duration": 42,
    "start_time": "2022-01-17T15:10:39.943Z"
   },
   {
    "duration": 46,
    "start_time": "2022-01-17T15:10:39.989Z"
   },
   {
    "duration": 32,
    "start_time": "2022-01-17T15:10:40.038Z"
   },
   {
    "duration": 19,
    "start_time": "2022-01-17T15:10:40.073Z"
   },
   {
    "duration": 25,
    "start_time": "2022-01-17T15:10:40.094Z"
   },
   {
    "duration": 52,
    "start_time": "2022-01-17T15:10:40.121Z"
   },
   {
    "duration": 14,
    "start_time": "2022-01-17T15:10:40.176Z"
   },
   {
    "duration": 26,
    "start_time": "2022-01-17T15:10:40.193Z"
   },
   {
    "duration": 70,
    "start_time": "2022-01-17T15:10:40.222Z"
   },
   {
    "duration": 9,
    "start_time": "2022-01-17T15:10:40.294Z"
   },
   {
    "duration": 23,
    "start_time": "2022-01-17T15:10:40.305Z"
   },
   {
    "duration": 45,
    "start_time": "2022-01-17T15:10:40.330Z"
   },
   {
    "duration": 10,
    "start_time": "2022-01-17T15:10:40.377Z"
   },
   {
    "duration": 13,
    "start_time": "2022-01-17T15:10:40.389Z"
   },
   {
    "duration": 29,
    "start_time": "2022-01-17T15:10:40.405Z"
   },
   {
    "duration": 97,
    "start_time": "2022-01-17T15:10:40.436Z"
   },
   {
    "duration": 105,
    "start_time": "2022-01-17T15:10:40.535Z"
   },
   {
    "duration": 60,
    "start_time": "2022-01-17T15:10:40.642Z"
   },
   {
    "duration": 79,
    "start_time": "2022-01-17T15:10:40.704Z"
   },
   {
    "duration": 44,
    "start_time": "2022-01-17T15:10:40.788Z"
   },
   {
    "duration": 3,
    "start_time": "2022-01-17T15:10:40.834Z"
   },
   {
    "duration": 94,
    "start_time": "2022-01-17T15:10:40.840Z"
   },
   {
    "duration": 83,
    "start_time": "2022-01-17T15:10:40.936Z"
   },
   {
    "duration": 75,
    "start_time": "2022-01-17T15:10:41.022Z"
   },
   {
    "duration": 74,
    "start_time": "2022-01-17T15:10:41.100Z"
   },
   {
    "duration": 67,
    "start_time": "2022-01-17T15:10:41.177Z"
   },
   {
    "duration": 80,
    "start_time": "2022-01-17T15:10:41.246Z"
   },
   {
    "duration": 83,
    "start_time": "2022-01-17T15:10:41.329Z"
   },
   {
    "duration": 31,
    "start_time": "2022-01-17T15:10:41.415Z"
   },
   {
    "duration": 29,
    "start_time": "2022-01-17T15:10:41.449Z"
   },
   {
    "duration": 5,
    "start_time": "2022-01-17T15:10:41.481Z"
   },
   {
    "duration": 43,
    "start_time": "2022-01-17T15:10:41.488Z"
   },
   {
    "duration": 10692,
    "start_time": "2022-01-17T15:10:41.533Z"
   },
   {
    "duration": -1196,
    "start_time": "2022-01-17T15:10:53.424Z"
   },
   {
    "duration": 6,
    "start_time": "2022-01-17T15:11:08.118Z"
   },
   {
    "duration": 9549,
    "start_time": "2022-01-17T15:11:18.988Z"
   },
   {
    "duration": 6,
    "start_time": "2022-01-17T15:24:02.528Z"
   },
   {
    "duration": 654,
    "start_time": "2022-01-17T15:24:05.529Z"
   },
   {
    "duration": 6,
    "start_time": "2022-01-17T15:24:30.215Z"
   },
   {
    "duration": 9054,
    "start_time": "2022-01-17T15:24:32.309Z"
   },
   {
    "duration": 7,
    "start_time": "2022-01-17T15:24:54.886Z"
   },
   {
    "duration": 818,
    "start_time": "2022-01-17T15:24:58.544Z"
   },
   {
    "duration": 6,
    "start_time": "2022-01-17T15:25:19.902Z"
   },
   {
    "duration": 632,
    "start_time": "2022-01-17T15:25:21.421Z"
   },
   {
    "duration": 9,
    "start_time": "2022-01-17T15:25:34.296Z"
   },
   {
    "duration": 680,
    "start_time": "2022-01-17T15:25:35.781Z"
   },
   {
    "duration": 6,
    "start_time": "2022-01-17T15:25:56.851Z"
   },
   {
    "duration": 333,
    "start_time": "2022-01-17T15:25:58.335Z"
   },
   {
    "duration": 36,
    "start_time": "2022-01-17T15:26:02.263Z"
   },
   {
    "duration": 6,
    "start_time": "2022-01-17T15:29:55.230Z"
   },
   {
    "duration": 697,
    "start_time": "2022-01-17T15:29:57.138Z"
   },
   {
    "duration": 9,
    "start_time": "2022-01-17T15:30:45.976Z"
   },
   {
    "duration": 355,
    "start_time": "2022-01-17T15:30:47.699Z"
   },
   {
    "duration": 34,
    "start_time": "2022-01-17T15:30:50.822Z"
   },
   {
    "duration": 6,
    "start_time": "2022-01-17T15:35:57.971Z"
   },
   {
    "duration": 301,
    "start_time": "2022-01-17T15:35:59.570Z"
   },
   {
    "duration": 37,
    "start_time": "2022-01-17T15:36:01.793Z"
   },
   {
    "duration": 7,
    "start_time": "2022-01-17T15:36:16.102Z"
   },
   {
    "duration": 635,
    "start_time": "2022-01-17T15:36:17.738Z"
   },
   {
    "duration": -1200,
    "start_time": "2022-01-17T15:36:19.576Z"
   },
   {
    "duration": 7,
    "start_time": "2022-01-17T15:36:24.235Z"
   },
   {
    "duration": 292,
    "start_time": "2022-01-17T15:36:24.532Z"
   },
   {
    "duration": 44,
    "start_time": "2022-01-17T15:36:24.827Z"
   },
   {
    "duration": 37,
    "start_time": "2022-01-17T15:41:42.666Z"
   },
   {
    "duration": 8,
    "start_time": "2022-01-17T15:42:06.905Z"
   },
   {
    "duration": 9,
    "start_time": "2022-01-17T15:42:15.934Z"
   },
   {
    "duration": 370,
    "start_time": "2022-01-17T15:42:21.784Z"
   },
   {
    "duration": 8,
    "start_time": "2022-01-17T15:42:29.427Z"
   },
   {
    "duration": 34,
    "start_time": "2022-01-17T15:42:41.674Z"
   },
   {
    "duration": 867,
    "start_time": "2022-01-17T15:44:51.389Z"
   },
   {
    "duration": 10,
    "start_time": "2022-01-17T15:44:52.259Z"
   },
   {
    "duration": 72,
    "start_time": "2022-01-17T15:44:52.273Z"
   },
   {
    "duration": 247,
    "start_time": "2022-01-17T15:44:52.347Z"
   },
   {
    "duration": 156,
    "start_time": "2022-01-17T15:44:52.596Z"
   },
   {
    "duration": 220,
    "start_time": "2022-01-17T15:44:52.754Z"
   },
   {
    "duration": 28,
    "start_time": "2022-01-17T15:44:52.977Z"
   },
   {
    "duration": 31,
    "start_time": "2022-01-17T15:44:53.009Z"
   },
   {
    "duration": 67,
    "start_time": "2022-01-17T15:44:53.043Z"
   },
   {
    "duration": 6,
    "start_time": "2022-01-17T15:44:53.113Z"
   },
   {
    "duration": 17,
    "start_time": "2022-01-17T15:44:53.121Z"
   },
   {
    "duration": 35,
    "start_time": "2022-01-17T15:44:53.141Z"
   },
   {
    "duration": 27,
    "start_time": "2022-01-17T15:44:53.178Z"
   },
   {
    "duration": 17,
    "start_time": "2022-01-17T15:44:53.208Z"
   },
   {
    "duration": 65,
    "start_time": "2022-01-17T15:44:53.229Z"
   },
   {
    "duration": 36,
    "start_time": "2022-01-17T15:44:53.297Z"
   },
   {
    "duration": 34,
    "start_time": "2022-01-17T15:44:53.335Z"
   },
   {
    "duration": 20,
    "start_time": "2022-01-17T15:44:53.371Z"
   },
   {
    "duration": 17,
    "start_time": "2022-01-17T15:44:53.394Z"
   },
   {
    "duration": 9,
    "start_time": "2022-01-17T15:44:53.414Z"
   },
   {
    "duration": 46,
    "start_time": "2022-01-17T15:44:53.425Z"
   },
   {
    "duration": 23,
    "start_time": "2022-01-17T15:44:53.474Z"
   },
   {
    "duration": 91,
    "start_time": "2022-01-17T15:44:53.502Z"
   },
   {
    "duration": 100,
    "start_time": "2022-01-17T15:44:53.596Z"
   },
   {
    "duration": 50,
    "start_time": "2022-01-17T15:44:53.699Z"
   },
   {
    "duration": 65,
    "start_time": "2022-01-17T15:44:53.769Z"
   },
   {
    "duration": 65,
    "start_time": "2022-01-17T15:44:53.836Z"
   },
   {
    "duration": 4,
    "start_time": "2022-01-17T15:44:53.903Z"
   },
   {
    "duration": 88,
    "start_time": "2022-01-17T15:44:53.909Z"
   },
   {
    "duration": 72,
    "start_time": "2022-01-17T15:44:53.999Z"
   },
   {
    "duration": 68,
    "start_time": "2022-01-17T15:44:54.073Z"
   },
   {
    "duration": 89,
    "start_time": "2022-01-17T15:44:54.144Z"
   },
   {
    "duration": 84,
    "start_time": "2022-01-17T15:44:54.235Z"
   },
   {
    "duration": 78,
    "start_time": "2022-01-17T15:44:54.321Z"
   },
   {
    "duration": 76,
    "start_time": "2022-01-17T15:44:54.402Z"
   },
   {
    "duration": 33,
    "start_time": "2022-01-17T15:44:54.481Z"
   },
   {
    "duration": 9,
    "start_time": "2022-01-17T15:44:54.517Z"
   },
   {
    "duration": 338,
    "start_time": "2022-01-17T15:44:54.529Z"
   },
   {
    "duration": 35,
    "start_time": "2022-01-17T15:44:54.869Z"
   },
   {
    "duration": 11,
    "start_time": "2022-01-17T15:44:54.907Z"
   },
   {
    "duration": 67,
    "start_time": "2022-01-17T15:44:54.921Z"
   },
   {
    "duration": 682,
    "start_time": "2022-01-17T15:47:54.978Z"
   },
   {
    "duration": 549,
    "start_time": "2022-01-17T15:48:03.338Z"
   },
   {
    "duration": 479,
    "start_time": "2022-01-17T15:48:07.113Z"
   },
   {
    "duration": 323,
    "start_time": "2022-01-17T15:48:10.326Z"
   },
   {
    "duration": 488,
    "start_time": "2022-01-17T15:48:14.185Z"
   },
   {
    "duration": 529,
    "start_time": "2022-01-17T15:49:15.764Z"
   },
   {
    "duration": 958,
    "start_time": "2022-01-17T15:49:55.279Z"
   },
   {
    "duration": 524,
    "start_time": "2022-01-17T15:50:13.069Z"
   },
   {
    "duration": 517,
    "start_time": "2022-01-17T15:50:25.267Z"
   },
   {
    "duration": 573,
    "start_time": "2022-01-17T15:50:47.575Z"
   },
   {
    "duration": 36,
    "start_time": "2022-01-17T15:53:04.910Z"
   },
   {
    "duration": 1015,
    "start_time": "2022-01-17T15:53:22.221Z"
   },
   {
    "duration": 1499,
    "start_time": "2022-01-17T15:53:39.974Z"
   },
   {
    "duration": 1031,
    "start_time": "2022-01-17T15:53:51.584Z"
   },
   {
    "duration": 4,
    "start_time": "2022-01-17T15:56:06.375Z"
   },
   {
    "duration": 7,
    "start_time": "2022-01-17T15:56:12.453Z"
   },
   {
    "duration": 497,
    "start_time": "2022-01-17T16:06:55.146Z"
   },
   {
    "duration": 33823,
    "start_time": "2022-01-17T16:08:06.032Z"
   },
   {
    "duration": 33354,
    "start_time": "2022-01-17T16:09:13.107Z"
   },
   {
    "duration": 22889,
    "start_time": "2022-01-17T16:10:49.440Z"
   },
   {
    "duration": 350,
    "start_time": "2022-01-17T16:13:23.384Z"
   },
   {
    "duration": 8,
    "start_time": "2022-01-17T16:15:04.530Z"
   },
   {
    "duration": 334,
    "start_time": "2022-01-17T16:15:08.556Z"
   },
   {
    "duration": 346,
    "start_time": "2022-01-17T16:16:25.294Z"
   },
   {
    "duration": 328,
    "start_time": "2022-01-17T16:17:07.915Z"
   },
   {
    "duration": 32195,
    "start_time": "2022-01-17T16:17:21.465Z"
   },
   {
    "duration": 33145,
    "start_time": "2022-01-17T16:21:10.395Z"
   },
   {
    "duration": 32255,
    "start_time": "2022-01-17T16:22:30.001Z"
   },
   {
    "duration": 33437,
    "start_time": "2022-01-17T16:24:26.878Z"
   },
   {
    "duration": 26,
    "start_time": "2022-01-17T16:36:01.433Z"
   },
   {
    "duration": 316,
    "start_time": "2022-01-17T16:42:18.196Z"
   },
   {
    "duration": 436,
    "start_time": "2022-01-17T16:42:35.925Z"
   },
   {
    "duration": 8532,
    "start_time": "2022-01-17T16:42:51.074Z"
   },
   {
    "duration": 307,
    "start_time": "2022-01-17T16:43:18.078Z"
   },
   {
    "duration": 313,
    "start_time": "2022-01-17T16:43:39.057Z"
   },
   {
    "duration": 1132,
    "start_time": "2022-01-17T16:44:12.540Z"
   },
   {
    "duration": 4,
    "start_time": "2022-01-17T16:44:13.676Z"
   },
   {
    "duration": 63,
    "start_time": "2022-01-17T16:44:13.684Z"
   },
   {
    "duration": 252,
    "start_time": "2022-01-17T16:44:13.751Z"
   },
   {
    "duration": 147,
    "start_time": "2022-01-17T16:44:14.005Z"
   },
   {
    "duration": 222,
    "start_time": "2022-01-17T16:44:14.154Z"
   },
   {
    "duration": 29,
    "start_time": "2022-01-17T16:44:14.378Z"
   },
   {
    "duration": 31,
    "start_time": "2022-01-17T16:44:14.411Z"
   },
   {
    "duration": 48,
    "start_time": "2022-01-17T16:44:14.469Z"
   },
   {
    "duration": 7,
    "start_time": "2022-01-17T16:44:14.520Z"
   },
   {
    "duration": 40,
    "start_time": "2022-01-17T16:44:14.529Z"
   },
   {
    "duration": 20,
    "start_time": "2022-01-17T16:44:14.571Z"
   },
   {
    "duration": 28,
    "start_time": "2022-01-17T16:44:14.594Z"
   },
   {
    "duration": 49,
    "start_time": "2022-01-17T16:44:14.625Z"
   },
   {
    "duration": 23,
    "start_time": "2022-01-17T16:44:14.677Z"
   },
   {
    "duration": 35,
    "start_time": "2022-01-17T16:44:14.702Z"
   },
   {
    "duration": 31,
    "start_time": "2022-01-17T16:44:14.741Z"
   },
   {
    "duration": 21,
    "start_time": "2022-01-17T16:44:14.775Z"
   },
   {
    "duration": 17,
    "start_time": "2022-01-17T16:44:14.798Z"
   },
   {
    "duration": 9,
    "start_time": "2022-01-17T16:44:14.818Z"
   },
   {
    "duration": 43,
    "start_time": "2022-01-17T16:44:14.830Z"
   },
   {
    "duration": 31,
    "start_time": "2022-01-17T16:44:14.876Z"
   },
   {
    "duration": 93,
    "start_time": "2022-01-17T16:44:14.909Z"
   },
   {
    "duration": 110,
    "start_time": "2022-01-17T16:44:15.005Z"
   },
   {
    "duration": 64,
    "start_time": "2022-01-17T16:44:15.117Z"
   },
   {
    "duration": 64,
    "start_time": "2022-01-17T16:44:15.183Z"
   },
   {
    "duration": 47,
    "start_time": "2022-01-17T16:44:15.269Z"
   },
   {
    "duration": 4,
    "start_time": "2022-01-17T16:44:15.319Z"
   },
   {
    "duration": 96,
    "start_time": "2022-01-17T16:44:15.325Z"
   },
   {
    "duration": 76,
    "start_time": "2022-01-17T16:44:15.423Z"
   },
   {
    "duration": 85,
    "start_time": "2022-01-17T16:44:15.501Z"
   },
   {
    "duration": 68,
    "start_time": "2022-01-17T16:44:15.589Z"
   },
   {
    "duration": 69,
    "start_time": "2022-01-17T16:44:15.668Z"
   },
   {
    "duration": 93,
    "start_time": "2022-01-17T16:44:15.739Z"
   },
   {
    "duration": 76,
    "start_time": "2022-01-17T16:44:15.834Z"
   },
   {
    "duration": 33,
    "start_time": "2022-01-17T16:44:15.913Z"
   },
   {
    "duration": 7,
    "start_time": "2022-01-17T16:44:15.969Z"
   },
   {
    "duration": 332,
    "start_time": "2022-01-17T16:44:15.979Z"
   },
   {
    "duration": 44,
    "start_time": "2022-01-17T16:44:16.314Z"
   },
   {
    "duration": 7,
    "start_time": "2022-01-17T16:44:16.370Z"
   },
   {
    "duration": 33,
    "start_time": "2022-01-17T16:44:16.380Z"
   },
   {
    "duration": 58,
    "start_time": "2022-01-17T16:44:16.416Z"
   },
   {
    "duration": 10,
    "start_time": "2022-01-17T16:44:16.477Z"
   },
   {
    "duration": 418,
    "start_time": "2022-01-17T16:44:16.490Z"
   },
   {
    "duration": 439,
    "start_time": "2022-01-17T16:46:11.459Z"
   },
   {
    "duration": 462,
    "start_time": "2022-01-17T16:47:36.933Z"
   },
   {
    "duration": 486,
    "start_time": "2022-01-17T16:48:01.506Z"
   },
   {
    "duration": 391,
    "start_time": "2022-01-17T16:48:31.212Z"
   },
   {
    "duration": 415,
    "start_time": "2022-01-17T16:49:04.038Z"
   },
   {
    "duration": 292,
    "start_time": "2022-01-17T16:49:39.536Z"
   },
   {
    "duration": 1102,
    "start_time": "2022-01-17T16:49:47.511Z"
   },
   {
    "duration": 5,
    "start_time": "2022-01-17T16:49:48.616Z"
   },
   {
    "duration": 67,
    "start_time": "2022-01-17T16:49:48.625Z"
   },
   {
    "duration": 374,
    "start_time": "2022-01-17T16:49:48.696Z"
   },
   {
    "duration": 214,
    "start_time": "2022-01-17T16:49:49.074Z"
   },
   {
    "duration": 215,
    "start_time": "2022-01-17T16:49:49.290Z"
   },
   {
    "duration": 29,
    "start_time": "2022-01-17T16:49:49.507Z"
   },
   {
    "duration": 43,
    "start_time": "2022-01-17T16:49:49.539Z"
   },
   {
    "duration": 45,
    "start_time": "2022-01-17T16:49:49.586Z"
   },
   {
    "duration": 6,
    "start_time": "2022-01-17T16:49:49.634Z"
   },
   {
    "duration": 22,
    "start_time": "2022-01-17T16:49:49.670Z"
   },
   {
    "duration": 20,
    "start_time": "2022-01-17T16:49:49.694Z"
   },
   {
    "duration": 74,
    "start_time": "2022-01-17T16:49:49.717Z"
   },
   {
    "duration": 17,
    "start_time": "2022-01-17T16:49:49.794Z"
   },
   {
    "duration": 22,
    "start_time": "2022-01-17T16:49:49.814Z"
   },
   {
    "duration": 64,
    "start_time": "2022-01-17T16:49:49.839Z"
   },
   {
    "duration": 8,
    "start_time": "2022-01-17T16:49:49.905Z"
   },
   {
    "duration": 19,
    "start_time": "2022-01-17T16:49:49.916Z"
   },
   {
    "duration": 19,
    "start_time": "2022-01-17T16:49:49.970Z"
   },
   {
    "duration": 12,
    "start_time": "2022-01-17T16:49:49.991Z"
   },
   {
    "duration": 9,
    "start_time": "2022-01-17T16:49:50.006Z"
   },
   {
    "duration": 52,
    "start_time": "2022-01-17T16:49:50.017Z"
   },
   {
    "duration": 77,
    "start_time": "2022-01-17T16:49:50.072Z"
   },
   {
    "duration": 124,
    "start_time": "2022-01-17T16:49:50.152Z"
   },
   {
    "duration": 60,
    "start_time": "2022-01-17T16:49:50.279Z"
   },
   {
    "duration": 95,
    "start_time": "2022-01-17T16:49:50.342Z"
   },
   {
    "duration": 77,
    "start_time": "2022-01-17T16:49:50.444Z"
   },
   {
    "duration": 4,
    "start_time": "2022-01-17T16:49:50.525Z"
   },
   {
    "duration": 97,
    "start_time": "2022-01-17T16:49:50.531Z"
   },
   {
    "duration": 75,
    "start_time": "2022-01-17T16:49:50.630Z"
   },
   {
    "duration": 87,
    "start_time": "2022-01-17T16:49:50.708Z"
   },
   {
    "duration": 94,
    "start_time": "2022-01-17T16:49:50.798Z"
   },
   {
    "duration": 86,
    "start_time": "2022-01-17T16:49:50.895Z"
   },
   {
    "duration": 70,
    "start_time": "2022-01-17T16:49:50.984Z"
   },
   {
    "duration": 74,
    "start_time": "2022-01-17T16:49:51.070Z"
   },
   {
    "duration": 54,
    "start_time": "2022-01-17T16:49:51.146Z"
   },
   {
    "duration": 8,
    "start_time": "2022-01-17T16:49:51.203Z"
   },
   {
    "duration": 544,
    "start_time": "2022-01-17T16:49:51.214Z"
   },
   {
    "duration": 39,
    "start_time": "2022-01-17T16:49:51.760Z"
   },
   {
    "duration": 13,
    "start_time": "2022-01-17T16:49:51.801Z"
   },
   {
    "duration": 56,
    "start_time": "2022-01-17T16:49:51.817Z"
   },
   {
    "duration": 37,
    "start_time": "2022-01-17T16:49:51.876Z"
   },
   {
    "duration": 691,
    "start_time": "2022-01-17T16:49:51.916Z"
   },
   {
    "duration": 487,
    "start_time": "2022-01-17T16:49:52.611Z"
   },
   {
    "duration": 977,
    "start_time": "2022-01-17T16:51:33.038Z"
   },
   {
    "duration": 3,
    "start_time": "2022-01-17T16:51:34.018Z"
   },
   {
    "duration": 53,
    "start_time": "2022-01-17T16:51:34.027Z"
   },
   {
    "duration": 242,
    "start_time": "2022-01-17T16:51:34.083Z"
   },
   {
    "duration": 144,
    "start_time": "2022-01-17T16:51:34.327Z"
   },
   {
    "duration": 215,
    "start_time": "2022-01-17T16:51:34.474Z"
   },
   {
    "duration": 30,
    "start_time": "2022-01-17T16:51:34.692Z"
   },
   {
    "duration": 45,
    "start_time": "2022-01-17T16:51:34.726Z"
   },
   {
    "duration": 46,
    "start_time": "2022-01-17T16:51:34.774Z"
   },
   {
    "duration": 7,
    "start_time": "2022-01-17T16:51:34.823Z"
   },
   {
    "duration": 44,
    "start_time": "2022-01-17T16:51:34.833Z"
   },
   {
    "duration": 21,
    "start_time": "2022-01-17T16:51:34.879Z"
   },
   {
    "duration": 26,
    "start_time": "2022-01-17T16:51:34.903Z"
   },
   {
    "duration": 40,
    "start_time": "2022-01-17T16:51:34.931Z"
   },
   {
    "duration": 29,
    "start_time": "2022-01-17T16:51:34.974Z"
   },
   {
    "duration": 39,
    "start_time": "2022-01-17T16:51:35.005Z"
   },
   {
    "duration": 26,
    "start_time": "2022-01-17T16:51:35.047Z"
   },
   {
    "duration": 25,
    "start_time": "2022-01-17T16:51:35.076Z"
   },
   {
    "duration": 17,
    "start_time": "2022-01-17T16:51:35.104Z"
   },
   {
    "duration": 11,
    "start_time": "2022-01-17T16:51:35.123Z"
   },
   {
    "duration": 6,
    "start_time": "2022-01-17T16:51:35.169Z"
   },
   {
    "duration": 27,
    "start_time": "2022-01-17T16:51:35.183Z"
   },
   {
    "duration": 100,
    "start_time": "2022-01-17T16:51:35.214Z"
   },
   {
    "duration": 113,
    "start_time": "2022-01-17T16:51:35.317Z"
   },
   {
    "duration": 60,
    "start_time": "2022-01-17T16:51:35.433Z"
   },
   {
    "duration": 93,
    "start_time": "2022-01-17T16:51:35.496Z"
   },
   {
    "duration": 46,
    "start_time": "2022-01-17T16:51:35.591Z"
   },
   {
    "duration": 4,
    "start_time": "2022-01-17T16:51:35.640Z"
   },
   {
    "duration": 71,
    "start_time": "2022-01-17T16:51:35.670Z"
   },
   {
    "duration": 93,
    "start_time": "2022-01-17T16:51:35.743Z"
   },
   {
    "duration": 83,
    "start_time": "2022-01-17T16:51:35.839Z"
   },
   {
    "duration": 84,
    "start_time": "2022-01-17T16:51:35.924Z"
   },
   {
    "duration": 82,
    "start_time": "2022-01-17T16:51:36.010Z"
   },
   {
    "duration": 77,
    "start_time": "2022-01-17T16:51:36.094Z"
   },
   {
    "duration": 68,
    "start_time": "2022-01-17T16:51:36.173Z"
   },
   {
    "duration": 52,
    "start_time": "2022-01-17T16:51:36.244Z"
   },
   {
    "duration": 8,
    "start_time": "2022-01-17T16:51:36.298Z"
   },
   {
    "duration": 321,
    "start_time": "2022-01-17T16:51:36.308Z"
   },
   {
    "duration": 39,
    "start_time": "2022-01-17T16:51:36.632Z"
   },
   {
    "duration": 9,
    "start_time": "2022-01-17T16:51:36.674Z"
   },
   {
    "duration": 34,
    "start_time": "2022-01-17T16:51:36.685Z"
   },
   {
    "duration": 66,
    "start_time": "2022-01-17T16:51:36.721Z"
   },
   {
    "duration": 434,
    "start_time": "2022-01-17T16:51:36.789Z"
   },
   {
    "duration": 483,
    "start_time": "2022-01-17T16:51:37.226Z"
   },
   {
    "duration": 453,
    "start_time": "2022-01-17T16:54:14.505Z"
   },
   {
    "duration": 336,
    "start_time": "2022-01-17T16:54:21.451Z"
   },
   {
    "duration": 886,
    "start_time": "2022-01-17T16:54:26.573Z"
   },
   {
    "duration": 8,
    "start_time": "2022-01-17T16:54:27.462Z"
   },
   {
    "duration": 52,
    "start_time": "2022-01-17T16:54:27.473Z"
   },
   {
    "duration": 247,
    "start_time": "2022-01-17T16:54:27.528Z"
   },
   {
    "duration": 138,
    "start_time": "2022-01-17T16:54:27.777Z"
   },
   {
    "duration": 206,
    "start_time": "2022-01-17T16:54:27.918Z"
   },
   {
    "duration": 28,
    "start_time": "2022-01-17T16:54:28.126Z"
   },
   {
    "duration": 27,
    "start_time": "2022-01-17T16:54:28.168Z"
   },
   {
    "duration": 44,
    "start_time": "2022-01-17T16:54:28.200Z"
   },
   {
    "duration": 7,
    "start_time": "2022-01-17T16:54:28.268Z"
   },
   {
    "duration": 18,
    "start_time": "2022-01-17T16:54:28.278Z"
   },
   {
    "duration": 17,
    "start_time": "2022-01-17T16:54:28.298Z"
   },
   {
    "duration": 68,
    "start_time": "2022-01-17T16:54:28.318Z"
   },
   {
    "duration": 19,
    "start_time": "2022-01-17T16:54:28.389Z"
   },
   {
    "duration": 23,
    "start_time": "2022-01-17T16:54:28.410Z"
   },
   {
    "duration": 63,
    "start_time": "2022-01-17T16:54:28.435Z"
   },
   {
    "duration": 7,
    "start_time": "2022-01-17T16:54:28.501Z"
   },
   {
    "duration": 21,
    "start_time": "2022-01-17T16:54:28.510Z"
   },
   {
    "duration": 43,
    "start_time": "2022-01-17T16:54:28.533Z"
   },
   {
    "duration": 15,
    "start_time": "2022-01-17T16:54:28.578Z"
   },
   {
    "duration": 7,
    "start_time": "2022-01-17T16:54:28.595Z"
   },
   {
    "duration": 29,
    "start_time": "2022-01-17T16:54:28.605Z"
   },
   {
    "duration": 99,
    "start_time": "2022-01-17T16:54:28.637Z"
   },
   {
    "duration": 110,
    "start_time": "2022-01-17T16:54:28.738Z"
   },
   {
    "duration": 55,
    "start_time": "2022-01-17T16:54:28.851Z"
   },
   {
    "duration": 79,
    "start_time": "2022-01-17T16:54:28.909Z"
   },
   {
    "duration": 44,
    "start_time": "2022-01-17T16:54:28.993Z"
   },
   {
    "duration": 3,
    "start_time": "2022-01-17T16:54:29.040Z"
   },
   {
    "duration": 70,
    "start_time": "2022-01-17T16:54:29.069Z"
   },
   {
    "duration": 81,
    "start_time": "2022-01-17T16:54:29.142Z"
   },
   {
    "duration": 81,
    "start_time": "2022-01-17T16:54:29.226Z"
   },
   {
    "duration": 81,
    "start_time": "2022-01-17T16:54:29.309Z"
   },
   {
    "duration": 78,
    "start_time": "2022-01-17T16:54:29.392Z"
   },
   {
    "duration": 70,
    "start_time": "2022-01-17T16:54:29.472Z"
   },
   {
    "duration": 88,
    "start_time": "2022-01-17T16:54:29.545Z"
   },
   {
    "duration": 41,
    "start_time": "2022-01-17T16:54:29.635Z"
   },
   {
    "duration": 6,
    "start_time": "2022-01-17T16:54:29.679Z"
   },
   {
    "duration": 326,
    "start_time": "2022-01-17T16:54:29.688Z"
   },
   {
    "duration": 52,
    "start_time": "2022-01-17T16:54:30.017Z"
   },
   {
    "duration": 11,
    "start_time": "2022-01-17T16:54:30.071Z"
   },
   {
    "duration": 40,
    "start_time": "2022-01-17T16:54:30.091Z"
   },
   {
    "duration": 46,
    "start_time": "2022-01-17T16:54:30.133Z"
   },
   {
    "duration": 25314,
    "start_time": "2022-01-17T16:54:30.181Z"
   },
   {
    "duration": 25699,
    "start_time": "2022-01-17T16:54:55.498Z"
   },
   {
    "duration": 21871,
    "start_time": "2022-01-17T16:55:53.114Z"
   },
   {
    "duration": 426,
    "start_time": "2022-01-17T16:56:31.130Z"
   },
   {
    "duration": 446,
    "start_time": "2022-01-17T16:56:42.568Z"
   },
   {
    "duration": 442,
    "start_time": "2022-01-17T16:57:26.560Z"
   },
   {
    "duration": 407,
    "start_time": "2022-01-17T16:57:45.826Z"
   },
   {
    "duration": 880,
    "start_time": "2022-01-17T16:57:56.390Z"
   },
   {
    "duration": 3,
    "start_time": "2022-01-17T16:57:57.273Z"
   },
   {
    "duration": 53,
    "start_time": "2022-01-17T16:57:57.283Z"
   },
   {
    "duration": 253,
    "start_time": "2022-01-17T16:57:57.339Z"
   },
   {
    "duration": 143,
    "start_time": "2022-01-17T16:57:57.594Z"
   },
   {
    "duration": 202,
    "start_time": "2022-01-17T16:57:57.740Z"
   },
   {
    "duration": 33,
    "start_time": "2022-01-17T16:57:57.945Z"
   },
   {
    "duration": 30,
    "start_time": "2022-01-17T16:57:57.981Z"
   },
   {
    "duration": 69,
    "start_time": "2022-01-17T16:57:58.014Z"
   },
   {
    "duration": 9,
    "start_time": "2022-01-17T16:57:58.086Z"
   },
   {
    "duration": 19,
    "start_time": "2022-01-17T16:57:58.097Z"
   },
   {
    "duration": 18,
    "start_time": "2022-01-17T16:57:58.119Z"
   },
   {
    "duration": 55,
    "start_time": "2022-01-17T16:57:58.139Z"
   },
   {
    "duration": 15,
    "start_time": "2022-01-17T16:57:58.196Z"
   },
   {
    "duration": 27,
    "start_time": "2022-01-17T16:57:58.213Z"
   },
   {
    "duration": 59,
    "start_time": "2022-01-17T16:57:58.243Z"
   },
   {
    "duration": 7,
    "start_time": "2022-01-17T16:57:58.304Z"
   },
   {
    "duration": 23,
    "start_time": "2022-01-17T16:57:58.313Z"
   },
   {
    "duration": 46,
    "start_time": "2022-01-17T16:57:58.338Z"
   },
   {
    "duration": 12,
    "start_time": "2022-01-17T16:57:58.387Z"
   },
   {
    "duration": 8,
    "start_time": "2022-01-17T16:57:58.401Z"
   },
   {
    "duration": 55,
    "start_time": "2022-01-17T16:57:58.416Z"
   },
   {
    "duration": 78,
    "start_time": "2022-01-17T16:57:58.475Z"
   },
   {
    "duration": 97,
    "start_time": "2022-01-17T16:57:58.556Z"
   },
   {
    "duration": 50,
    "start_time": "2022-01-17T16:57:58.668Z"
   },
   {
    "duration": 90,
    "start_time": "2022-01-17T16:57:58.721Z"
   },
   {
    "duration": 58,
    "start_time": "2022-01-17T16:57:58.814Z"
   },
   {
    "duration": 3,
    "start_time": "2022-01-17T16:57:58.875Z"
   },
   {
    "duration": 89,
    "start_time": "2022-01-17T16:57:58.880Z"
   },
   {
    "duration": 68,
    "start_time": "2022-01-17T16:57:58.972Z"
   },
   {
    "duration": 82,
    "start_time": "2022-01-17T16:57:59.042Z"
   },
   {
    "duration": 75,
    "start_time": "2022-01-17T16:57:59.126Z"
   },
   {
    "duration": 75,
    "start_time": "2022-01-17T16:57:59.203Z"
   },
   {
    "duration": 66,
    "start_time": "2022-01-17T16:57:59.281Z"
   },
   {
    "duration": 81,
    "start_time": "2022-01-17T16:57:59.350Z"
   },
   {
    "duration": 41,
    "start_time": "2022-01-17T16:57:59.433Z"
   },
   {
    "duration": 13,
    "start_time": "2022-01-17T16:57:59.476Z"
   },
   {
    "duration": 320,
    "start_time": "2022-01-17T16:57:59.492Z"
   },
   {
    "duration": 34,
    "start_time": "2022-01-17T16:57:59.814Z"
   },
   {
    "duration": 9,
    "start_time": "2022-01-17T16:57:59.869Z"
   },
   {
    "duration": 39,
    "start_time": "2022-01-17T16:57:59.880Z"
   },
   {
    "duration": 52,
    "start_time": "2022-01-17T16:57:59.922Z"
   },
   {
    "duration": 443,
    "start_time": "2022-01-17T16:57:59.976Z"
   },
   {
    "duration": 585,
    "start_time": "2022-01-17T16:58:00.422Z"
   },
   {
    "duration": 409,
    "start_time": "2022-01-17T16:59:47.333Z"
   },
   {
    "duration": 368,
    "start_time": "2022-01-17T17:00:07.848Z"
   },
   {
    "duration": 375,
    "start_time": "2022-01-17T17:00:22.983Z"
   },
   {
    "duration": 412,
    "start_time": "2022-01-17T17:00:36.246Z"
   },
   {
    "duration": 504,
    "start_time": "2022-01-17T17:00:41.707Z"
   },
   {
    "duration": 421,
    "start_time": "2022-01-17T17:01:52.753Z"
   },
   {
    "duration": 424,
    "start_time": "2022-01-17T17:01:59.137Z"
   },
   {
    "duration": 432,
    "start_time": "2022-01-17T17:04:23.566Z"
   },
   {
    "duration": 12,
    "start_time": "2022-01-17T17:04:47.252Z"
   },
   {
    "duration": 35,
    "start_time": "2022-01-17T17:04:56.335Z"
   },
   {
    "duration": 12,
    "start_time": "2022-01-17T17:05:17.964Z"
   },
   {
    "duration": 44,
    "start_time": "2022-01-17T17:05:22.536Z"
   },
   {
    "duration": 39,
    "start_time": "2022-01-17T17:05:54.880Z"
   },
   {
    "duration": 964,
    "start_time": "2022-01-17T17:06:01.834Z"
   },
   {
    "duration": 4,
    "start_time": "2022-01-17T17:06:02.801Z"
   },
   {
    "duration": 79,
    "start_time": "2022-01-17T17:06:02.809Z"
   },
   {
    "duration": 277,
    "start_time": "2022-01-17T17:06:02.892Z"
   },
   {
    "duration": 138,
    "start_time": "2022-01-17T17:06:03.172Z"
   },
   {
    "duration": 213,
    "start_time": "2022-01-17T17:06:03.313Z"
   },
   {
    "duration": 40,
    "start_time": "2022-01-17T17:06:03.529Z"
   },
   {
    "duration": 29,
    "start_time": "2022-01-17T17:06:03.572Z"
   },
   {
    "duration": 72,
    "start_time": "2022-01-17T17:06:03.607Z"
   },
   {
    "duration": 7,
    "start_time": "2022-01-17T17:06:03.683Z"
   },
   {
    "duration": 24,
    "start_time": "2022-01-17T17:06:03.692Z"
   },
   {
    "duration": 52,
    "start_time": "2022-01-17T17:06:03.719Z"
   },
   {
    "duration": 29,
    "start_time": "2022-01-17T17:06:03.774Z"
   },
   {
    "duration": 15,
    "start_time": "2022-01-17T17:06:03.805Z"
   },
   {
    "duration": 55,
    "start_time": "2022-01-17T17:06:03.823Z"
   },
   {
    "duration": 34,
    "start_time": "2022-01-17T17:06:03.880Z"
   },
   {
    "duration": 7,
    "start_time": "2022-01-17T17:06:03.917Z"
   },
   {
    "duration": 45,
    "start_time": "2022-01-17T17:06:03.927Z"
   },
   {
    "duration": 16,
    "start_time": "2022-01-17T17:06:03.975Z"
   },
   {
    "duration": 12,
    "start_time": "2022-01-17T17:06:03.994Z"
   },
   {
    "duration": 10,
    "start_time": "2022-01-17T17:06:04.008Z"
   },
   {
    "duration": 59,
    "start_time": "2022-01-17T17:06:04.020Z"
   },
   {
    "duration": 88,
    "start_time": "2022-01-17T17:06:04.081Z"
   },
   {
    "duration": 83,
    "start_time": "2022-01-17T17:06:04.172Z"
   },
   {
    "duration": 48,
    "start_time": "2022-01-17T17:06:04.270Z"
   },
   {
    "duration": 92,
    "start_time": "2022-01-17T17:06:04.321Z"
   },
   {
    "duration": 72,
    "start_time": "2022-01-17T17:06:04.418Z"
   },
   {
    "duration": 4,
    "start_time": "2022-01-17T17:06:04.494Z"
   },
   {
    "duration": 131,
    "start_time": "2022-01-17T17:06:04.501Z"
   },
   {
    "duration": 110,
    "start_time": "2022-01-17T17:06:04.635Z"
   },
   {
    "duration": 80,
    "start_time": "2022-01-17T17:06:04.748Z"
   },
   {
    "duration": 97,
    "start_time": "2022-01-17T17:06:04.830Z"
   },
   {
    "duration": 115,
    "start_time": "2022-01-17T17:06:04.930Z"
   },
   {
    "duration": 75,
    "start_time": "2022-01-17T17:06:05.048Z"
   },
   {
    "duration": 85,
    "start_time": "2022-01-17T17:06:05.126Z"
   },
   {
    "duration": 36,
    "start_time": "2022-01-17T17:06:05.213Z"
   },
   {
    "duration": 20,
    "start_time": "2022-01-17T17:06:05.252Z"
   },
   {
    "duration": 553,
    "start_time": "2022-01-17T17:06:05.275Z"
   },
   {
    "duration": 64,
    "start_time": "2022-01-17T17:06:05.831Z"
   },
   {
    "duration": 11,
    "start_time": "2022-01-17T17:06:05.898Z"
   },
   {
    "duration": 59,
    "start_time": "2022-01-17T17:06:05.912Z"
   },
   {
    "duration": 44,
    "start_time": "2022-01-17T17:06:05.974Z"
   },
   {
    "duration": 669,
    "start_time": "2022-01-17T17:06:06.022Z"
   },
   {
    "duration": 718,
    "start_time": "2022-01-17T17:06:06.694Z"
   },
   {
    "duration": 641,
    "start_time": "2022-01-17T17:06:07.415Z"
   },
   {
    "duration": 11,
    "start_time": "2022-01-17T17:07:23.130Z"
   },
   {
    "duration": 40,
    "start_time": "2022-01-17T17:07:29.306Z"
   },
   {
    "duration": 521,
    "start_time": "2022-01-17T17:07:55.289Z"
   },
   {
    "duration": 519,
    "start_time": "2022-01-17T17:08:14.274Z"
   },
   {
    "duration": 420,
    "start_time": "2022-01-17T17:08:16.621Z"
   },
   {
    "duration": 321,
    "start_time": "2022-01-17T17:08:18.120Z"
   },
   {
    "duration": 13,
    "start_time": "2022-01-17T17:08:34.978Z"
   },
   {
    "duration": 54,
    "start_time": "2022-01-17T17:08:36.528Z"
   },
   {
    "duration": 56,
    "start_time": "2022-01-17T17:08:38.801Z"
   },
   {
    "duration": 400,
    "start_time": "2022-01-17T17:08:41.875Z"
   },
   {
    "duration": 444,
    "start_time": "2022-01-17T17:09:02.558Z"
   },
   {
    "duration": 420,
    "start_time": "2022-01-17T17:09:06.093Z"
   },
   {
    "duration": 425,
    "start_time": "2022-01-17T17:09:15.221Z"
   },
   {
    "duration": 412,
    "start_time": "2022-01-17T17:09:19.057Z"
   },
   {
    "duration": 429,
    "start_time": "2022-01-17T17:09:24.494Z"
   },
   {
    "duration": 400,
    "start_time": "2022-01-17T17:09:28.618Z"
   },
   {
    "duration": 494,
    "start_time": "2022-01-17T17:09:58.845Z"
   },
   {
    "duration": 502,
    "start_time": "2022-01-17T17:12:23.484Z"
   },
   {
    "duration": 441,
    "start_time": "2022-01-18T13:49:32.484Z"
   },
   {
    "duration": 932,
    "start_time": "2022-01-18T13:49:38.541Z"
   },
   {
    "duration": 4,
    "start_time": "2022-01-18T13:49:39.476Z"
   },
   {
    "duration": 62,
    "start_time": "2022-01-18T13:49:39.482Z"
   },
   {
    "duration": 265,
    "start_time": "2022-01-18T13:49:39.547Z"
   },
   {
    "duration": 156,
    "start_time": "2022-01-18T13:49:39.814Z"
   },
   {
    "duration": 225,
    "start_time": "2022-01-18T13:49:39.973Z"
   },
   {
    "duration": 29,
    "start_time": "2022-01-18T13:49:40.200Z"
   },
   {
    "duration": 46,
    "start_time": "2022-01-18T13:49:40.233Z"
   },
   {
    "duration": 43,
    "start_time": "2022-01-18T13:49:40.283Z"
   },
   {
    "duration": 8,
    "start_time": "2022-01-18T13:49:40.329Z"
   },
   {
    "duration": 44,
    "start_time": "2022-01-18T13:49:40.339Z"
   },
   {
    "duration": 22,
    "start_time": "2022-01-18T13:49:40.385Z"
   },
   {
    "duration": 28,
    "start_time": "2022-01-18T13:49:40.410Z"
   },
   {
    "duration": 45,
    "start_time": "2022-01-18T13:49:40.441Z"
   },
   {
    "duration": 35,
    "start_time": "2022-01-18T13:49:40.488Z"
   },
   {
    "duration": 60,
    "start_time": "2022-01-18T13:49:40.526Z"
   },
   {
    "duration": 6,
    "start_time": "2022-01-18T13:49:40.589Z"
   },
   {
    "duration": 20,
    "start_time": "2022-01-18T13:49:40.598Z"
   },
   {
    "duration": 17,
    "start_time": "2022-01-18T13:49:40.620Z"
   },
   {
    "duration": 38,
    "start_time": "2022-01-18T13:49:40.638Z"
   },
   {
    "duration": 8,
    "start_time": "2022-01-18T13:49:40.678Z"
   },
   {
    "duration": 21,
    "start_time": "2022-01-18T13:49:40.688Z"
   },
   {
    "duration": 112,
    "start_time": "2022-01-18T13:49:40.714Z"
   },
   {
    "duration": 99,
    "start_time": "2022-01-18T13:49:40.829Z"
   },
   {
    "duration": 65,
    "start_time": "2022-01-18T13:49:40.931Z"
   },
   {
    "duration": 72,
    "start_time": "2022-01-18T13:49:40.998Z"
   },
   {
    "duration": 44,
    "start_time": "2022-01-18T13:49:41.073Z"
   },
   {
    "duration": 3,
    "start_time": "2022-01-18T13:49:41.119Z"
   },
   {
    "duration": 97,
    "start_time": "2022-01-18T13:49:41.124Z"
   },
   {
    "duration": 75,
    "start_time": "2022-01-18T13:49:41.223Z"
   },
   {
    "duration": 76,
    "start_time": "2022-01-18T13:49:41.300Z"
   },
   {
    "duration": 68,
    "start_time": "2022-01-18T13:49:41.378Z"
   },
   {
    "duration": 80,
    "start_time": "2022-01-18T13:49:41.448Z"
   },
   {
    "duration": 80,
    "start_time": "2022-01-18T13:49:41.530Z"
   },
   {
    "duration": 75,
    "start_time": "2022-01-18T13:49:41.612Z"
   },
   {
    "duration": 32,
    "start_time": "2022-01-18T13:49:41.689Z"
   },
   {
    "duration": 8,
    "start_time": "2022-01-18T13:49:41.723Z"
   },
   {
    "duration": 326,
    "start_time": "2022-01-18T13:49:41.734Z"
   },
   {
    "duration": 39,
    "start_time": "2022-01-18T13:49:42.063Z"
   },
   {
    "duration": 8,
    "start_time": "2022-01-18T13:49:42.105Z"
   },
   {
    "duration": 58,
    "start_time": "2022-01-18T13:49:42.115Z"
   },
   {
    "duration": 33,
    "start_time": "2022-01-18T13:49:42.176Z"
   },
   {
    "duration": 428,
    "start_time": "2022-01-18T13:49:42.212Z"
   },
   {
    "duration": 472,
    "start_time": "2022-01-18T13:49:42.642Z"
   },
   {
    "duration": 397,
    "start_time": "2022-01-18T13:49:43.116Z"
   },
   {
    "duration": 398,
    "start_time": "2022-01-18T13:49:47.804Z"
   },
   {
    "duration": 411,
    "start_time": "2022-01-18T13:49:52.350Z"
   },
   {
    "duration": 409,
    "start_time": "2022-01-18T13:50:37.263Z"
   },
   {
    "duration": 402,
    "start_time": "2022-01-18T13:50:56.471Z"
   },
   {
    "duration": 386,
    "start_time": "2022-01-18T13:51:21.074Z"
   },
   {
    "duration": 431,
    "start_time": "2022-01-18T13:51:35.065Z"
   },
   {
    "duration": 378,
    "start_time": "2022-01-18T13:51:40.930Z"
   },
   {
    "duration": 421,
    "start_time": "2022-01-18T13:54:32.355Z"
   },
   {
    "duration": 391,
    "start_time": "2022-01-18T13:54:45.593Z"
   },
   {
    "duration": 460,
    "start_time": "2022-01-18T13:54:57.509Z"
   },
   {
    "duration": 513,
    "start_time": "2022-01-18T13:55:12.065Z"
   },
   {
    "duration": 805,
    "start_time": "2022-01-18T13:55:24.389Z"
   },
   {
    "duration": 460,
    "start_time": "2022-01-18T13:55:49.699Z"
   },
   {
    "duration": 409,
    "start_time": "2022-01-18T13:56:00.100Z"
   },
   {
    "duration": 407,
    "start_time": "2022-01-18T13:56:09.819Z"
   },
   {
    "duration": 463,
    "start_time": "2022-01-18T13:56:20.949Z"
   },
   {
    "duration": 395,
    "start_time": "2022-01-18T13:56:27.804Z"
   },
   {
    "duration": 404,
    "start_time": "2022-01-18T13:57:26.078Z"
   },
   {
    "duration": 415,
    "start_time": "2022-01-18T13:57:52.212Z"
   },
   {
    "duration": 416,
    "start_time": "2022-01-18T13:58:28.381Z"
   },
   {
    "duration": 488,
    "start_time": "2022-01-18T13:58:48.287Z"
   },
   {
    "duration": 397,
    "start_time": "2022-01-18T13:58:58.811Z"
   },
   {
    "duration": 406,
    "start_time": "2022-01-18T13:59:09.091Z"
   },
   {
    "duration": 400,
    "start_time": "2022-01-18T13:59:32.286Z"
   },
   {
    "duration": 398,
    "start_time": "2022-01-18T13:59:46.376Z"
   },
   {
    "duration": 415,
    "start_time": "2022-01-18T13:59:56.308Z"
   },
   {
    "duration": 406,
    "start_time": "2022-01-18T14:00:03.594Z"
   },
   {
    "duration": 409,
    "start_time": "2022-01-18T14:00:17.046Z"
   },
   {
    "duration": 380,
    "start_time": "2022-01-18T14:00:31.601Z"
   },
   {
    "duration": 402,
    "start_time": "2022-01-18T14:00:46.962Z"
   },
   {
    "duration": 377,
    "start_time": "2022-01-18T14:00:54.687Z"
   },
   {
    "duration": 494,
    "start_time": "2022-01-18T14:01:09.556Z"
   },
   {
    "duration": 386,
    "start_time": "2022-01-18T14:01:14.980Z"
   },
   {
    "duration": 425,
    "start_time": "2022-01-18T14:02:15.968Z"
   },
   {
    "duration": 419,
    "start_time": "2022-01-18T14:02:33.667Z"
   },
   {
    "duration": 496,
    "start_time": "2022-01-18T14:02:35.300Z"
   },
   {
    "duration": 422,
    "start_time": "2022-01-18T14:02:46.006Z"
   },
   {
    "duration": 406,
    "start_time": "2022-01-18T14:02:56.469Z"
   },
   {
    "duration": 518,
    "start_time": "2022-01-18T14:03:08.131Z"
   },
   {
    "duration": 335,
    "start_time": "2022-01-18T14:15:58.315Z"
   },
   {
    "duration": 520,
    "start_time": "2022-01-18T14:16:22.340Z"
   },
   {
    "duration": 1372,
    "start_time": "2022-01-18T14:16:27.951Z"
   },
   {
    "duration": 3,
    "start_time": "2022-01-18T14:16:29.326Z"
   },
   {
    "duration": 96,
    "start_time": "2022-01-18T14:16:29.332Z"
   },
   {
    "duration": 235,
    "start_time": "2022-01-18T14:16:29.431Z"
   },
   {
    "duration": 137,
    "start_time": "2022-01-18T14:16:29.669Z"
   },
   {
    "duration": 209,
    "start_time": "2022-01-18T14:16:29.808Z"
   },
   {
    "duration": 30,
    "start_time": "2022-01-18T14:16:30.020Z"
   },
   {
    "duration": 27,
    "start_time": "2022-01-18T14:16:30.069Z"
   },
   {
    "duration": 44,
    "start_time": "2022-01-18T14:16:30.099Z"
   },
   {
    "duration": 27,
    "start_time": "2022-01-18T14:16:30.146Z"
   },
   {
    "duration": 20,
    "start_time": "2022-01-18T14:16:30.175Z"
   },
   {
    "duration": 19,
    "start_time": "2022-01-18T14:16:30.198Z"
   },
   {
    "duration": 57,
    "start_time": "2022-01-18T14:16:30.219Z"
   },
   {
    "duration": 16,
    "start_time": "2022-01-18T14:16:30.278Z"
   },
   {
    "duration": 37,
    "start_time": "2022-01-18T14:16:30.296Z"
   },
   {
    "duration": 45,
    "start_time": "2022-01-18T14:16:30.336Z"
   },
   {
    "duration": 6,
    "start_time": "2022-01-18T14:16:30.383Z"
   },
   {
    "duration": 36,
    "start_time": "2022-01-18T14:16:30.391Z"
   },
   {
    "duration": 18,
    "start_time": "2022-01-18T14:16:30.429Z"
   },
   {
    "duration": 28,
    "start_time": "2022-01-18T14:16:30.449Z"
   },
   {
    "duration": 27,
    "start_time": "2022-01-18T14:16:30.479Z"
   },
   {
    "duration": 36,
    "start_time": "2022-01-18T14:16:30.508Z"
   },
   {
    "duration": 84,
    "start_time": "2022-01-18T14:16:30.549Z"
   },
   {
    "duration": 96,
    "start_time": "2022-01-18T14:16:30.636Z"
   },
   {
    "duration": 58,
    "start_time": "2022-01-18T14:16:30.734Z"
   },
   {
    "duration": 80,
    "start_time": "2022-01-18T14:16:30.794Z"
   },
   {
    "duration": 43,
    "start_time": "2022-01-18T14:16:30.876Z"
   },
   {
    "duration": 12,
    "start_time": "2022-01-18T14:16:30.921Z"
   },
   {
    "duration": 90,
    "start_time": "2022-01-18T14:16:30.936Z"
   },
   {
    "duration": 76,
    "start_time": "2022-01-18T14:16:31.028Z"
   },
   {
    "duration": 86,
    "start_time": "2022-01-18T14:16:31.106Z"
   },
   {
    "duration": 68,
    "start_time": "2022-01-18T14:16:31.194Z"
   },
   {
    "duration": 67,
    "start_time": "2022-01-18T14:16:31.265Z"
   },
   {
    "duration": 86,
    "start_time": "2022-01-18T14:16:31.334Z"
   },
   {
    "duration": 76,
    "start_time": "2022-01-18T14:16:31.422Z"
   },
   {
    "duration": 33,
    "start_time": "2022-01-18T14:16:31.500Z"
   },
   {
    "duration": 11,
    "start_time": "2022-01-18T14:16:31.535Z"
   },
   {
    "duration": 321,
    "start_time": "2022-01-18T14:16:31.549Z"
   },
   {
    "duration": 40,
    "start_time": "2022-01-18T14:16:31.872Z"
   },
   {
    "duration": 9,
    "start_time": "2022-01-18T14:16:31.914Z"
   },
   {
    "duration": 62,
    "start_time": "2022-01-18T14:16:31.925Z"
   },
   {
    "duration": 33,
    "start_time": "2022-01-18T14:16:31.989Z"
   },
   {
    "duration": 417,
    "start_time": "2022-01-18T14:16:32.024Z"
   },
   {
    "duration": 416,
    "start_time": "2022-01-18T14:16:32.443Z"
   },
   {
    "duration": 410,
    "start_time": "2022-01-18T14:16:32.862Z"
   },
   {
    "duration": 418,
    "start_time": "2022-01-18T14:16:33.274Z"
   },
   {
    "duration": 401,
    "start_time": "2022-01-18T14:16:33.695Z"
   },
   {
    "duration": 421,
    "start_time": "2022-01-18T14:16:34.099Z"
   },
   {
    "duration": 501,
    "start_time": "2022-01-18T14:16:34.523Z"
   },
   {
    "duration": 419,
    "start_time": "2022-01-18T14:16:35.027Z"
   },
   {
    "duration": 398,
    "start_time": "2022-01-18T14:16:35.449Z"
   },
   {
    "duration": 485,
    "start_time": "2022-01-18T14:16:35.850Z"
   },
   {
    "duration": 325,
    "start_time": "2022-01-18T14:16:52.888Z"
   },
   {
    "duration": 15,
    "start_time": "2022-01-18T14:16:59.811Z"
   },
   {
    "duration": 15,
    "start_time": "2022-01-18T14:18:01.476Z"
   },
   {
    "duration": 7,
    "start_time": "2022-01-18T14:21:11.615Z"
   },
   {
    "duration": 7,
    "start_time": "2022-01-18T14:21:28.880Z"
   },
   {
    "duration": 15,
    "start_time": "2022-01-18T14:57:10.030Z"
   },
   {
    "duration": 15,
    "start_time": "2022-01-18T14:57:53.685Z"
   },
   {
    "duration": 15,
    "start_time": "2022-01-18T14:57:58.976Z"
   },
   {
    "duration": 16,
    "start_time": "2022-01-18T14:59:01.107Z"
   },
   {
    "duration": 14,
    "start_time": "2022-01-18T15:01:10.184Z"
   },
   {
    "duration": 4,
    "start_time": "2022-01-18T15:01:31.519Z"
   },
   {
    "duration": 17,
    "start_time": "2022-01-18T15:01:31.987Z"
   },
   {
    "duration": 14,
    "start_time": "2022-01-18T15:01:32.451Z"
   },
   {
    "duration": 4,
    "start_time": "2022-01-18T15:32:42.993Z"
   },
   {
    "duration": 15,
    "start_time": "2022-01-18T15:32:44.224Z"
   },
   {
    "duration": 15,
    "start_time": "2022-01-18T15:32:46.577Z"
   },
   {
    "duration": 3,
    "start_time": "2022-01-18T15:32:50.654Z"
   },
   {
    "duration": 14,
    "start_time": "2022-01-18T15:32:52.499Z"
   },
   {
    "duration": 9,
    "start_time": "2022-01-18T16:09:56.981Z"
   },
   {
    "duration": 10,
    "start_time": "2022-01-18T16:10:08.179Z"
   },
   {
    "duration": 8,
    "start_time": "2022-01-18T16:12:12.237Z"
   },
   {
    "duration": 10,
    "start_time": "2022-01-18T16:12:59.940Z"
   },
   {
    "duration": -181,
    "start_time": "2022-01-18T16:14:16.674Z"
   },
   {
    "duration": 887,
    "start_time": "2022-01-18T16:14:21.311Z"
   },
   {
    "duration": 411,
    "start_time": "2022-01-18T16:14:43.236Z"
   },
   {
    "duration": 10,
    "start_time": "2022-01-18T16:15:05.251Z"
   },
   {
    "duration": 11,
    "start_time": "2022-01-18T16:16:32.395Z"
   },
   {
    "duration": 456,
    "start_time": "2022-01-18T16:16:50.175Z"
   },
   {
    "duration": 466,
    "start_time": "2022-01-18T16:16:52.435Z"
   },
   {
    "duration": 10,
    "start_time": "2022-01-18T16:16:55.899Z"
   },
   {
    "duration": 9,
    "start_time": "2022-01-18T16:16:58.751Z"
   },
   {
    "duration": 7,
    "start_time": "2022-01-18T16:17:41.497Z"
   },
   {
    "duration": 103,
    "start_time": "2022-01-18T16:17:45.972Z"
   },
   {
    "duration": 12,
    "start_time": "2022-01-18T16:19:21.129Z"
   },
   {
    "duration": 12,
    "start_time": "2022-01-18T16:20:00.818Z"
   },
   {
    "duration": 10,
    "start_time": "2022-01-18T16:20:07.582Z"
   },
   {
    "duration": 15,
    "start_time": "2022-01-18T16:20:29.574Z"
   },
   {
    "duration": 9,
    "start_time": "2022-01-18T16:21:15.053Z"
   },
   {
    "duration": 334,
    "start_time": "2022-01-18T16:21:56.429Z"
   },
   {
    "duration": 12,
    "start_time": "2022-01-18T16:22:01.768Z"
   },
   {
    "duration": 10,
    "start_time": "2022-01-18T16:23:01.825Z"
   },
   {
    "duration": 7,
    "start_time": "2022-01-18T16:23:10.745Z"
   },
   {
    "duration": 6,
    "start_time": "2022-01-18T16:23:14.022Z"
   },
   {
    "duration": 10,
    "start_time": "2022-01-18T16:23:16.920Z"
   },
   {
    "duration": 8,
    "start_time": "2022-01-18T16:25:04.456Z"
   },
   {
    "duration": 18,
    "start_time": "2022-01-18T16:25:07.583Z"
   },
   {
    "duration": 16,
    "start_time": "2022-01-18T16:25:18.117Z"
   },
   {
    "duration": 9,
    "start_time": "2022-01-18T16:28:05.669Z"
   },
   {
    "duration": 8,
    "start_time": "2022-01-18T16:28:11.985Z"
   },
   {
    "duration": 18,
    "start_time": "2022-01-18T16:31:24.852Z"
   },
   {
    "duration": 6,
    "start_time": "2022-01-18T16:31:39.345Z"
   },
   {
    "duration": 4,
    "start_time": "2022-01-18T16:31:58.196Z"
   },
   {
    "duration": 6,
    "start_time": "2022-01-18T16:32:03.227Z"
   },
   {
    "duration": 313,
    "start_time": "2022-01-18T16:33:00.110Z"
   },
   {
    "duration": 5,
    "start_time": "2022-01-18T16:33:07.176Z"
   },
   {
    "duration": 5,
    "start_time": "2022-01-18T16:33:17.392Z"
   },
   {
    "duration": 1714,
    "start_time": "2022-01-18T16:33:23.996Z"
   },
   {
    "duration": 4,
    "start_time": "2022-01-18T16:33:25.714Z"
   },
   {
    "duration": 69,
    "start_time": "2022-01-18T16:33:25.721Z"
   },
   {
    "duration": 308,
    "start_time": "2022-01-18T16:33:25.793Z"
   },
   {
    "duration": 184,
    "start_time": "2022-01-18T16:33:26.104Z"
   },
   {
    "duration": 248,
    "start_time": "2022-01-18T16:33:26.291Z"
   },
   {
    "duration": 41,
    "start_time": "2022-01-18T16:33:26.541Z"
   },
   {
    "duration": 33,
    "start_time": "2022-01-18T16:33:26.585Z"
   },
   {
    "duration": 80,
    "start_time": "2022-01-18T16:33:26.622Z"
   },
   {
    "duration": 17,
    "start_time": "2022-01-18T16:33:26.705Z"
   },
   {
    "duration": 26,
    "start_time": "2022-01-18T16:33:26.724Z"
   },
   {
    "duration": 24,
    "start_time": "2022-01-18T16:33:26.752Z"
   },
   {
    "duration": 29,
    "start_time": "2022-01-18T16:33:26.778Z"
   },
   {
    "duration": 18,
    "start_time": "2022-01-18T16:33:26.811Z"
   },
   {
    "duration": 52,
    "start_time": "2022-01-18T16:33:26.831Z"
   },
   {
    "duration": 47,
    "start_time": "2022-01-18T16:33:26.886Z"
   },
   {
    "duration": 38,
    "start_time": "2022-01-18T16:33:26.936Z"
   },
   {
    "duration": 23,
    "start_time": "2022-01-18T16:33:26.977Z"
   },
   {
    "duration": 18,
    "start_time": "2022-01-18T16:33:27.003Z"
   },
   {
    "duration": 11,
    "start_time": "2022-01-18T16:33:27.023Z"
   },
   {
    "duration": 39,
    "start_time": "2022-01-18T16:33:27.036Z"
   },
   {
    "duration": 32,
    "start_time": "2022-01-18T16:33:27.078Z"
   },
   {
    "duration": 103,
    "start_time": "2022-01-18T16:33:27.113Z"
   },
   {
    "duration": 110,
    "start_time": "2022-01-18T16:33:27.218Z"
   },
   {
    "duration": 104,
    "start_time": "2022-01-18T16:33:27.332Z"
   },
   {
    "duration": 131,
    "start_time": "2022-01-18T16:33:27.440Z"
   },
   {
    "duration": 103,
    "start_time": "2022-01-18T16:33:27.583Z"
   },
   {
    "duration": 5,
    "start_time": "2022-01-18T16:33:27.694Z"
   },
   {
    "duration": 171,
    "start_time": "2022-01-18T16:33:27.703Z"
   },
   {
    "duration": 112,
    "start_time": "2022-01-18T16:33:27.877Z"
   },
   {
    "duration": 87,
    "start_time": "2022-01-18T16:33:27.992Z"
   },
   {
    "duration": 94,
    "start_time": "2022-01-18T16:33:28.083Z"
   },
   {
    "duration": 92,
    "start_time": "2022-01-18T16:33:28.181Z"
   },
   {
    "duration": 94,
    "start_time": "2022-01-18T16:33:28.279Z"
   },
   {
    "duration": 76,
    "start_time": "2022-01-18T16:33:28.382Z"
   },
   {
    "duration": 49,
    "start_time": "2022-01-18T16:33:28.461Z"
   },
   {
    "duration": 6,
    "start_time": "2022-01-18T16:33:28.513Z"
   },
   {
    "duration": 384,
    "start_time": "2022-01-18T16:33:28.522Z"
   },
   {
    "duration": 41,
    "start_time": "2022-01-18T16:33:28.909Z"
   },
   {
    "duration": 16,
    "start_time": "2022-01-18T16:33:28.970Z"
   },
   {
    "duration": 42,
    "start_time": "2022-01-18T16:33:28.989Z"
   },
   {
    "duration": 75,
    "start_time": "2022-01-18T16:33:29.034Z"
   },
   {
    "duration": 698,
    "start_time": "2022-01-18T16:33:29.113Z"
   },
   {
    "duration": 472,
    "start_time": "2022-01-18T16:33:29.813Z"
   },
   {
    "duration": 487,
    "start_time": "2022-01-18T16:33:30.288Z"
   },
   {
    "duration": 29,
    "start_time": "2022-01-18T16:33:30.780Z"
   },
   {
    "duration": 24,
    "start_time": "2022-01-18T16:33:30.812Z"
   },
   {
    "duration": 38,
    "start_time": "2022-01-18T16:33:30.838Z"
   },
   {
    "duration": 65,
    "start_time": "2022-01-18T16:33:30.880Z"
   },
   {
    "duration": 553,
    "start_time": "2022-01-18T16:33:30.948Z"
   },
   {
    "duration": 471,
    "start_time": "2022-01-18T16:33:31.504Z"
   },
   {
    "duration": 548,
    "start_time": "2022-01-18T16:33:31.978Z"
   },
   {
    "duration": 577,
    "start_time": "2022-01-18T16:33:32.528Z"
   },
   {
    "duration": 462,
    "start_time": "2022-01-18T16:33:33.107Z"
   },
   {
    "duration": 704,
    "start_time": "2022-01-18T16:33:33.572Z"
   },
   {
    "duration": 4,
    "start_time": "2022-01-18T16:33:34.279Z"
   },
   {
    "duration": 36,
    "start_time": "2022-01-18T16:33:34.287Z"
   },
   {
    "duration": 20,
    "start_time": "2022-01-18T16:33:34.371Z"
   },
   {
    "duration": 1428,
    "start_time": "2022-01-18T17:12:26.489Z"
   },
   {
    "duration": 3,
    "start_time": "2022-01-18T17:12:27.919Z"
   },
   {
    "duration": 61,
    "start_time": "2022-01-18T17:12:27.925Z"
   },
   {
    "duration": 263,
    "start_time": "2022-01-18T17:12:27.990Z"
   },
   {
    "duration": 167,
    "start_time": "2022-01-18T17:12:28.256Z"
   },
   {
    "duration": 323,
    "start_time": "2022-01-18T17:12:28.425Z"
   },
   {
    "duration": 41,
    "start_time": "2022-01-18T17:12:28.751Z"
   },
   {
    "duration": 26,
    "start_time": "2022-01-18T17:12:28.797Z"
   },
   {
    "duration": 86,
    "start_time": "2022-01-18T17:12:28.827Z"
   },
   {
    "duration": 8,
    "start_time": "2022-01-18T17:12:28.916Z"
   },
   {
    "duration": 18,
    "start_time": "2022-01-18T17:12:28.927Z"
   },
   {
    "duration": 37,
    "start_time": "2022-01-18T17:12:28.947Z"
   },
   {
    "duration": 37,
    "start_time": "2022-01-18T17:12:28.987Z"
   },
   {
    "duration": 14,
    "start_time": "2022-01-18T17:12:29.026Z"
   },
   {
    "duration": 31,
    "start_time": "2022-01-18T17:12:29.071Z"
   },
   {
    "duration": 33,
    "start_time": "2022-01-18T17:12:29.105Z"
   },
   {
    "duration": 31,
    "start_time": "2022-01-18T17:12:29.141Z"
   },
   {
    "duration": 27,
    "start_time": "2022-01-18T17:12:29.175Z"
   },
   {
    "duration": 16,
    "start_time": "2022-01-18T17:12:29.204Z"
   },
   {
    "duration": 8,
    "start_time": "2022-01-18T17:12:29.222Z"
   },
   {
    "duration": 8,
    "start_time": "2022-01-18T17:12:29.270Z"
   },
   {
    "duration": 32,
    "start_time": "2022-01-18T17:12:29.281Z"
   },
   {
    "duration": 99,
    "start_time": "2022-01-18T17:12:29.319Z"
   },
   {
    "duration": 99,
    "start_time": "2022-01-18T17:12:29.422Z"
   },
   {
    "duration": 70,
    "start_time": "2022-01-18T17:12:29.524Z"
   },
   {
    "duration": 104,
    "start_time": "2022-01-18T17:12:29.597Z"
   },
   {
    "duration": 75,
    "start_time": "2022-01-18T17:12:29.704Z"
   },
   {
    "duration": 4,
    "start_time": "2022-01-18T17:12:29.782Z"
   },
   {
    "duration": 95,
    "start_time": "2022-01-18T17:12:29.788Z"
   },
   {
    "duration": 74,
    "start_time": "2022-01-18T17:12:29.886Z"
   },
   {
    "duration": 80,
    "start_time": "2022-01-18T17:12:29.962Z"
   },
   {
    "duration": 98,
    "start_time": "2022-01-18T17:12:30.045Z"
   },
   {
    "duration": 92,
    "start_time": "2022-01-18T17:12:30.146Z"
   },
   {
    "duration": 90,
    "start_time": "2022-01-18T17:12:30.241Z"
   },
   {
    "duration": 87,
    "start_time": "2022-01-18T17:12:30.334Z"
   },
   {
    "duration": 47,
    "start_time": "2022-01-18T17:12:30.424Z"
   },
   {
    "duration": 10,
    "start_time": "2022-01-18T17:12:30.474Z"
   },
   {
    "duration": 359,
    "start_time": "2022-01-18T17:12:30.487Z"
   },
   {
    "duration": 56,
    "start_time": "2022-01-18T17:12:30.849Z"
   },
   {
    "duration": 10,
    "start_time": "2022-01-18T17:12:30.907Z"
   },
   {
    "duration": 60,
    "start_time": "2022-01-18T17:12:30.919Z"
   },
   {
    "duration": 61,
    "start_time": "2022-01-18T17:12:30.982Z"
   },
   {
    "duration": 479,
    "start_time": "2022-01-18T17:12:31.046Z"
   },
   {
    "duration": 458,
    "start_time": "2022-01-18T17:12:31.528Z"
   },
   {
    "duration": 529,
    "start_time": "2022-01-18T17:12:31.989Z"
   },
   {
    "duration": 17,
    "start_time": "2022-01-18T17:12:32.521Z"
   },
   {
    "duration": 29,
    "start_time": "2022-01-18T17:12:32.540Z"
   },
   {
    "duration": 20,
    "start_time": "2022-01-18T17:12:32.572Z"
   },
   {
    "duration": 9,
    "start_time": "2022-01-18T17:12:32.595Z"
   },
   {
    "duration": 686,
    "start_time": "2022-01-18T17:12:32.607Z"
   },
   {
    "duration": 449,
    "start_time": "2022-01-18T17:12:33.297Z"
   },
   {
    "duration": 490,
    "start_time": "2022-01-18T17:12:33.748Z"
   },
   {
    "duration": 616,
    "start_time": "2022-01-18T17:12:34.241Z"
   },
   {
    "duration": 622,
    "start_time": "2022-01-18T17:12:34.859Z"
   },
   {
    "duration": 476,
    "start_time": "2022-01-18T17:12:35.485Z"
   },
   {
    "duration": 5,
    "start_time": "2022-01-18T17:12:35.968Z"
   },
   {
    "duration": 27,
    "start_time": "2022-01-18T17:12:35.977Z"
   },
   {
    "duration": 22,
    "start_time": "2022-01-18T17:12:36.007Z"
   },
   {
    "duration": 1395,
    "start_time": "2022-01-22T07:07:56.797Z"
   },
   {
    "duration": 3,
    "start_time": "2022-01-22T07:07:58.195Z"
   },
   {
    "duration": 55,
    "start_time": "2022-01-22T07:07:58.201Z"
   },
   {
    "duration": 234,
    "start_time": "2022-01-22T07:07:58.259Z"
   },
   {
    "duration": 140,
    "start_time": "2022-01-22T07:07:58.495Z"
   },
   {
    "duration": 197,
    "start_time": "2022-01-22T07:07:58.637Z"
   },
   {
    "duration": 28,
    "start_time": "2022-01-22T07:07:58.837Z"
   },
   {
    "duration": 25,
    "start_time": "2022-01-22T07:07:58.867Z"
   },
   {
    "duration": 69,
    "start_time": "2022-01-22T07:07:58.896Z"
   },
   {
    "duration": 7,
    "start_time": "2022-01-22T07:07:58.968Z"
   },
   {
    "duration": 15,
    "start_time": "2022-01-22T07:07:58.977Z"
   },
   {
    "duration": 44,
    "start_time": "2022-01-22T07:07:58.994Z"
   },
   {
    "duration": 26,
    "start_time": "2022-01-22T07:07:59.041Z"
   },
   {
    "duration": 15,
    "start_time": "2022-01-22T07:07:59.069Z"
   },
   {
    "duration": 54,
    "start_time": "2022-01-22T07:07:59.086Z"
   },
   {
    "duration": 35,
    "start_time": "2022-01-22T07:07:59.143Z"
   },
   {
    "duration": 6,
    "start_time": "2022-01-22T07:07:59.180Z"
   },
   {
    "duration": 46,
    "start_time": "2022-01-22T07:07:59.189Z"
   },
   {
    "duration": 17,
    "start_time": "2022-01-22T07:07:59.237Z"
   },
   {
    "duration": 9,
    "start_time": "2022-01-22T07:07:59.256Z"
   },
   {
    "duration": 11,
    "start_time": "2022-01-22T07:07:59.268Z"
   },
   {
    "duration": 23,
    "start_time": "2022-01-22T07:07:59.281Z"
   },
   {
    "duration": 70,
    "start_time": "2022-01-22T07:07:59.332Z"
   },
   {
    "duration": 108,
    "start_time": "2022-01-22T07:07:59.405Z"
   },
   {
    "duration": 56,
    "start_time": "2022-01-22T07:07:59.515Z"
   },
   {
    "duration": 75,
    "start_time": "2022-01-22T07:07:59.574Z"
   },
   {
    "duration": 43,
    "start_time": "2022-01-22T07:07:59.654Z"
   },
   {
    "duration": 3,
    "start_time": "2022-01-22T07:07:59.699Z"
   },
   {
    "duration": 89,
    "start_time": "2022-01-22T07:07:59.704Z"
   },
   {
    "duration": 81,
    "start_time": "2022-01-22T07:07:59.795Z"
   },
   {
    "duration": 73,
    "start_time": "2022-01-22T07:07:59.878Z"
   },
   {
    "duration": 65,
    "start_time": "2022-01-22T07:07:59.953Z"
   },
   {
    "duration": 72,
    "start_time": "2022-01-22T07:08:00.021Z"
   },
   {
    "duration": 86,
    "start_time": "2022-01-22T07:08:00.096Z"
   },
   {
    "duration": 73,
    "start_time": "2022-01-22T07:08:00.185Z"
   },
   {
    "duration": 36,
    "start_time": "2022-01-22T07:08:00.260Z"
   },
   {
    "duration": 6,
    "start_time": "2022-01-22T07:08:00.298Z"
   },
   {
    "duration": 317,
    "start_time": "2022-01-22T07:08:00.307Z"
   },
   {
    "duration": 42,
    "start_time": "2022-01-22T07:08:00.626Z"
   },
   {
    "duration": 9,
    "start_time": "2022-01-22T07:08:00.670Z"
   },
   {
    "duration": 58,
    "start_time": "2022-01-22T07:08:00.682Z"
   },
   {
    "duration": 32,
    "start_time": "2022-01-22T07:08:00.743Z"
   },
   {
    "duration": 413,
    "start_time": "2022-01-22T07:08:00.778Z"
   },
   {
    "duration": 408,
    "start_time": "2022-01-22T07:08:01.194Z"
   },
   {
    "duration": 388,
    "start_time": "2022-01-22T07:08:01.604Z"
   },
   {
    "duration": 15,
    "start_time": "2022-01-22T07:08:01.994Z"
   },
   {
    "duration": 22,
    "start_time": "2022-01-22T07:08:02.011Z"
   },
   {
    "duration": 14,
    "start_time": "2022-01-22T07:08:02.035Z"
   },
   {
    "duration": 8,
    "start_time": "2022-01-22T07:08:02.052Z"
   },
   {
    "duration": 425,
    "start_time": "2022-01-22T07:08:02.062Z"
   },
   {
    "duration": 384,
    "start_time": "2022-01-22T07:08:02.489Z"
   },
   {
    "duration": 421,
    "start_time": "2022-01-22T07:08:02.875Z"
   },
   {
    "duration": 475,
    "start_time": "2022-01-22T07:08:03.298Z"
   },
   {
    "duration": 402,
    "start_time": "2022-01-22T07:08:03.776Z"
   },
   {
    "duration": 411,
    "start_time": "2022-01-22T07:08:04.181Z"
   },
   {
    "duration": 3,
    "start_time": "2022-01-22T07:08:04.594Z"
   },
   {
    "duration": 18,
    "start_time": "2022-01-22T07:08:04.599Z"
   },
   {
    "duration": 13,
    "start_time": "2022-01-22T07:08:04.633Z"
   },
   {
    "duration": 463,
    "start_time": "2022-01-22T07:15:52.090Z"
   },
   {
    "duration": 10,
    "start_time": "2022-01-22T07:15:56.519Z"
   },
   {
    "duration": 313,
    "start_time": "2022-01-22T07:17:18.572Z"
   },
   {
    "duration": 35,
    "start_time": "2022-01-22T07:17:30.507Z"
   },
   {
    "duration": 371,
    "start_time": "2022-01-22T08:42:17.618Z"
   },
   {
    "duration": 1349,
    "start_time": "2022-01-22T08:42:25.624Z"
   },
   {
    "duration": 4,
    "start_time": "2022-01-22T08:42:26.976Z"
   },
   {
    "duration": 60,
    "start_time": "2022-01-22T08:42:26.983Z"
   },
   {
    "duration": 208,
    "start_time": "2022-01-22T08:42:27.045Z"
   },
   {
    "duration": 120,
    "start_time": "2022-01-22T08:42:27.256Z"
   },
   {
    "duration": 182,
    "start_time": "2022-01-22T08:42:27.379Z"
   },
   {
    "duration": 27,
    "start_time": "2022-01-22T08:42:27.563Z"
   },
   {
    "duration": 36,
    "start_time": "2022-01-22T08:42:27.593Z"
   },
   {
    "duration": 44,
    "start_time": "2022-01-22T08:42:27.632Z"
   },
   {
    "duration": 7,
    "start_time": "2022-01-22T08:42:27.678Z"
   },
   {
    "duration": 45,
    "start_time": "2022-01-22T08:42:27.687Z"
   },
   {
    "duration": 17,
    "start_time": "2022-01-22T08:42:27.734Z"
   },
   {
    "duration": 26,
    "start_time": "2022-01-22T08:42:27.753Z"
   },
   {
    "duration": 48,
    "start_time": "2022-01-22T08:42:27.782Z"
   },
   {
    "duration": 20,
    "start_time": "2022-01-22T08:42:27.833Z"
   },
   {
    "duration": 31,
    "start_time": "2022-01-22T08:42:27.855Z"
   },
   {
    "duration": 5,
    "start_time": "2022-01-22T08:42:27.888Z"
   },
   {
    "duration": 15,
    "start_time": "2022-01-22T08:42:27.923Z"
   },
   {
    "duration": 16,
    "start_time": "2022-01-22T08:42:27.940Z"
   },
   {
    "duration": 12,
    "start_time": "2022-01-22T08:42:27.958Z"
   },
   {
    "duration": 7,
    "start_time": "2022-01-22T08:42:27.973Z"
   },
   {
    "duration": 51,
    "start_time": "2022-01-22T08:42:27.982Z"
   },
   {
    "duration": 64,
    "start_time": "2022-01-22T08:42:28.039Z"
   },
   {
    "duration": 100,
    "start_time": "2022-01-22T08:42:28.106Z"
   },
   {
    "duration": 58,
    "start_time": "2022-01-22T08:42:28.208Z"
   },
   {
    "duration": 74,
    "start_time": "2022-01-22T08:42:28.268Z"
   },
   {
    "duration": 389,
    "start_time": "2022-01-22T08:42:28.344Z"
   },
   {
    "duration": -82448,
    "start_time": "2022-01-22T08:43:51.183Z"
   },
   {
    "duration": -82469,
    "start_time": "2022-01-22T08:43:51.206Z"
   },
   {
    "duration": -82486,
    "start_time": "2022-01-22T08:43:51.224Z"
   },
   {
    "duration": -82508,
    "start_time": "2022-01-22T08:43:51.247Z"
   },
   {
    "duration": -82665,
    "start_time": "2022-01-22T08:43:51.406Z"
   },
   {
    "duration": -82707,
    "start_time": "2022-01-22T08:43:51.449Z"
   },
   {
    "duration": -82723,
    "start_time": "2022-01-22T08:43:51.467Z"
   },
   {
    "duration": -82749,
    "start_time": "2022-01-22T08:43:51.494Z"
   },
   {
    "duration": -82799,
    "start_time": "2022-01-22T08:43:51.545Z"
   },
   {
    "duration": -82813,
    "start_time": "2022-01-22T08:43:51.560Z"
   },
   {
    "duration": -82832,
    "start_time": "2022-01-22T08:43:51.581Z"
   },
   {
    "duration": -82845,
    "start_time": "2022-01-22T08:43:51.595Z"
   },
   {
    "duration": -82870,
    "start_time": "2022-01-22T08:43:51.621Z"
   },
   {
    "duration": -82920,
    "start_time": "2022-01-22T08:43:51.673Z"
   },
   {
    "duration": -82936,
    "start_time": "2022-01-22T08:43:51.690Z"
   },
   {
    "duration": -82954,
    "start_time": "2022-01-22T08:43:51.709Z"
   },
   {
    "duration": -82979,
    "start_time": "2022-01-22T08:43:51.735Z"
   },
   {
    "duration": -83003,
    "start_time": "2022-01-22T08:43:51.761Z"
   },
   {
    "duration": -83073,
    "start_time": "2022-01-22T08:43:51.832Z"
   },
   {
    "duration": -83087,
    "start_time": "2022-01-22T08:43:51.847Z"
   },
   {
    "duration": -83109,
    "start_time": "2022-01-22T08:43:51.870Z"
   },
   {
    "duration": -83123,
    "start_time": "2022-01-22T08:43:51.886Z"
   },
   {
    "duration": -83156,
    "start_time": "2022-01-22T08:43:51.920Z"
   },
   {
    "duration": -83213,
    "start_time": "2022-01-22T08:43:51.978Z"
   },
   {
    "duration": -83229,
    "start_time": "2022-01-22T08:43:51.995Z"
   },
   {
    "duration": -83282,
    "start_time": "2022-01-22T08:43:52.049Z"
   },
   {
    "duration": -83376,
    "start_time": "2022-01-22T08:43:52.145Z"
   },
   {
    "duration": -83407,
    "start_time": "2022-01-22T08:43:52.177Z"
   },
   {
    "duration": -83507,
    "start_time": "2022-01-22T08:43:52.278Z"
   },
   {
    "duration": -83521,
    "start_time": "2022-01-22T08:43:52.293Z"
   },
   {
    "duration": -83547,
    "start_time": "2022-01-22T08:43:52.321Z"
   },
   {
    "duration": 46,
    "start_time": "2022-01-22T08:43:08.641Z"
   },
   {
    "duration": 54,
    "start_time": "2022-01-22T08:43:45.733Z"
   },
   {
    "duration": 307,
    "start_time": "2022-01-22T08:53:05.173Z"
   },
   {
    "duration": 5,
    "start_time": "2022-01-22T08:53:13.484Z"
   },
   {
    "duration": 6,
    "start_time": "2022-01-22T08:54:00.511Z"
   },
   {
    "duration": 615,
    "start_time": "2022-01-22T09:13:25.300Z"
   },
   {
    "duration": 303,
    "start_time": "2022-01-22T09:13:56.388Z"
   },
   {
    "duration": 9005,
    "start_time": "2022-01-22T09:14:51.879Z"
   },
   {
    "duration": 517,
    "start_time": "2022-01-22T09:16:42.308Z"
   },
   {
    "duration": 504,
    "start_time": "2022-01-22T09:16:59.410Z"
   },
   {
    "duration": 1356,
    "start_time": "2022-01-22T09:18:32.984Z"
   },
   {
    "duration": 4,
    "start_time": "2022-01-22T09:18:34.342Z"
   },
   {
    "duration": 54,
    "start_time": "2022-01-22T09:18:34.349Z"
   },
   {
    "duration": 217,
    "start_time": "2022-01-22T09:18:34.406Z"
   },
   {
    "duration": 129,
    "start_time": "2022-01-22T09:18:34.625Z"
   },
   {
    "duration": 197,
    "start_time": "2022-01-22T09:18:34.757Z"
   },
   {
    "duration": 27,
    "start_time": "2022-01-22T09:18:34.956Z"
   },
   {
    "duration": 42,
    "start_time": "2022-01-22T09:18:34.988Z"
   },
   {
    "duration": 43,
    "start_time": "2022-01-22T09:18:35.033Z"
   },
   {
    "duration": 8,
    "start_time": "2022-01-22T09:18:35.079Z"
   },
   {
    "duration": 49,
    "start_time": "2022-01-22T09:18:35.089Z"
   },
   {
    "duration": 22,
    "start_time": "2022-01-22T09:18:35.140Z"
   },
   {
    "duration": 36,
    "start_time": "2022-01-22T09:18:35.165Z"
   },
   {
    "duration": 33,
    "start_time": "2022-01-22T09:18:35.203Z"
   },
   {
    "duration": 30,
    "start_time": "2022-01-22T09:18:35.239Z"
   },
   {
    "duration": 54,
    "start_time": "2022-01-22T09:18:35.272Z"
   },
   {
    "duration": 8,
    "start_time": "2022-01-22T09:18:35.328Z"
   },
   {
    "duration": 19,
    "start_time": "2022-01-22T09:18:35.339Z"
   },
   {
    "duration": 17,
    "start_time": "2022-01-22T09:18:35.360Z"
   },
   {
    "duration": 45,
    "start_time": "2022-01-22T09:18:35.380Z"
   },
   {
    "duration": 8,
    "start_time": "2022-01-22T09:18:35.428Z"
   },
   {
    "duration": 25,
    "start_time": "2022-01-22T09:18:35.438Z"
   },
   {
    "duration": 100,
    "start_time": "2022-01-22T09:18:35.472Z"
   },
   {
    "duration": 87,
    "start_time": "2022-01-22T09:18:35.575Z"
   },
   {
    "duration": 59,
    "start_time": "2022-01-22T09:18:35.664Z"
   },
   {
    "duration": 62,
    "start_time": "2022-01-22T09:18:35.725Z"
   },
   {
    "duration": 73,
    "start_time": "2022-01-22T09:18:35.789Z"
   },
   {
    "duration": 5,
    "start_time": "2022-01-22T09:18:35.864Z"
   },
   {
    "duration": 4,
    "start_time": "2022-01-22T09:18:35.872Z"
   },
   {
    "duration": 100,
    "start_time": "2022-01-22T09:18:35.879Z"
   },
   {
    "duration": 80,
    "start_time": "2022-01-22T09:18:35.981Z"
   },
   {
    "duration": 89,
    "start_time": "2022-01-22T09:18:36.063Z"
   },
   {
    "duration": 80,
    "start_time": "2022-01-22T09:18:36.154Z"
   },
   {
    "duration": 71,
    "start_time": "2022-01-22T09:18:36.236Z"
   },
   {
    "duration": 80,
    "start_time": "2022-01-22T09:18:36.309Z"
   },
   {
    "duration": 94,
    "start_time": "2022-01-22T09:18:36.391Z"
   },
   {
    "duration": 44,
    "start_time": "2022-01-22T09:18:36.488Z"
   },
   {
    "duration": 7,
    "start_time": "2022-01-22T09:18:36.534Z"
   },
   {
    "duration": 583,
    "start_time": "2022-01-22T09:18:36.544Z"
   },
   {
    "duration": 63,
    "start_time": "2022-01-22T09:18:37.130Z"
   },
   {
    "duration": 27,
    "start_time": "2022-01-22T09:18:37.196Z"
   },
   {
    "duration": 37,
    "start_time": "2022-01-22T09:18:37.226Z"
   },
   {
    "duration": 60,
    "start_time": "2022-01-22T09:18:37.265Z"
   },
   {
    "duration": 367,
    "start_time": "2022-01-22T09:18:37.327Z"
   },
   {
    "duration": 379,
    "start_time": "2022-01-22T09:18:37.696Z"
   },
   {
    "duration": 352,
    "start_time": "2022-01-22T09:18:38.077Z"
   },
   {
    "duration": 14,
    "start_time": "2022-01-22T09:18:38.431Z"
   },
   {
    "duration": 6,
    "start_time": "2022-01-22T09:18:38.447Z"
   },
   {
    "duration": 14,
    "start_time": "2022-01-22T09:18:38.455Z"
   },
   {
    "duration": 7,
    "start_time": "2022-01-22T09:18:38.471Z"
   },
   {
    "duration": 411,
    "start_time": "2022-01-22T09:18:38.481Z"
   },
   {
    "duration": 365,
    "start_time": "2022-01-22T09:18:38.895Z"
   },
   {
    "duration": 365,
    "start_time": "2022-01-22T09:18:39.262Z"
   },
   {
    "duration": 435,
    "start_time": "2022-01-22T09:18:39.629Z"
   },
   {
    "duration": 481,
    "start_time": "2022-01-22T09:18:40.066Z"
   },
   {
    "duration": 385,
    "start_time": "2022-01-22T09:18:40.550Z"
   },
   {
    "duration": 553,
    "start_time": "2022-01-22T09:18:40.937Z"
   },
   {
    "duration": 4,
    "start_time": "2022-01-22T09:18:41.492Z"
   },
   {
    "duration": 31,
    "start_time": "2022-01-22T09:18:41.498Z"
   },
   {
    "duration": 14,
    "start_time": "2022-01-22T09:18:41.532Z"
   },
   {
    "duration": 551,
    "start_time": "2022-01-22T09:28:52.067Z"
   },
   {
    "duration": 8978,
    "start_time": "2022-01-22T09:29:21.919Z"
   },
   {
    "duration": 526,
    "start_time": "2022-01-22T09:29:43.029Z"
   },
   {
    "duration": 585,
    "start_time": "2022-01-22T09:30:19.232Z"
   },
   {
    "duration": 506,
    "start_time": "2022-01-22T09:31:07.155Z"
   },
   {
    "duration": 526,
    "start_time": "2022-01-22T09:32:28.645Z"
   },
   {
    "duration": 1230,
    "start_time": "2022-01-22T09:35:13.920Z"
   },
   {
    "duration": 5,
    "start_time": "2022-01-22T09:35:15.153Z"
   },
   {
    "duration": 57,
    "start_time": "2022-01-22T09:35:15.161Z"
   },
   {
    "duration": 202,
    "start_time": "2022-01-22T09:35:15.221Z"
   },
   {
    "duration": 121,
    "start_time": "2022-01-22T09:35:15.425Z"
   },
   {
    "duration": 180,
    "start_time": "2022-01-22T09:35:15.548Z"
   },
   {
    "duration": 27,
    "start_time": "2022-01-22T09:35:15.731Z"
   },
   {
    "duration": 23,
    "start_time": "2022-01-22T09:35:15.762Z"
   },
   {
    "duration": 59,
    "start_time": "2022-01-22T09:35:15.787Z"
   },
   {
    "duration": 7,
    "start_time": "2022-01-22T09:35:15.848Z"
   },
   {
    "duration": 17,
    "start_time": "2022-01-22T09:35:15.857Z"
   },
   {
    "duration": 51,
    "start_time": "2022-01-22T09:35:15.877Z"
   },
   {
    "duration": 26,
    "start_time": "2022-01-22T09:35:15.931Z"
   },
   {
    "duration": 15,
    "start_time": "2022-01-22T09:35:15.960Z"
   },
   {
    "duration": 54,
    "start_time": "2022-01-22T09:35:15.978Z"
   },
   {
    "duration": 33,
    "start_time": "2022-01-22T09:35:16.036Z"
   },
   {
    "duration": 8,
    "start_time": "2022-01-22T09:35:16.071Z"
   },
   {
    "duration": 55,
    "start_time": "2022-01-22T09:35:16.081Z"
   },
   {
    "duration": 17,
    "start_time": "2022-01-22T09:35:16.138Z"
   },
   {
    "duration": 8,
    "start_time": "2022-01-22T09:35:16.157Z"
   },
   {
    "duration": 6,
    "start_time": "2022-01-22T09:35:16.168Z"
   },
   {
    "duration": 58,
    "start_time": "2022-01-22T09:35:16.176Z"
   },
   {
    "duration": 62,
    "start_time": "2022-01-22T09:35:16.240Z"
   },
   {
    "duration": 89,
    "start_time": "2022-01-22T09:35:16.305Z"
   },
   {
    "duration": 53,
    "start_time": "2022-01-22T09:35:16.396Z"
   },
   {
    "duration": 54,
    "start_time": "2022-01-22T09:35:16.451Z"
   },
   {
    "duration": 52,
    "start_time": "2022-01-22T09:35:16.524Z"
   },
   {
    "duration": 5,
    "start_time": "2022-01-22T09:35:16.579Z"
   },
   {
    "duration": 6,
    "start_time": "2022-01-22T09:35:16.586Z"
   },
   {
    "duration": 70,
    "start_time": "2022-01-22T09:35:16.623Z"
   },
   {
    "duration": 84,
    "start_time": "2022-01-22T09:35:16.695Z"
   },
   {
    "duration": 96,
    "start_time": "2022-01-22T09:35:16.781Z"
   },
   {
    "duration": 91,
    "start_time": "2022-01-22T09:35:16.880Z"
   },
   {
    "duration": 88,
    "start_time": "2022-01-22T09:35:16.975Z"
   },
   {
    "duration": 86,
    "start_time": "2022-01-22T09:35:17.065Z"
   },
   {
    "duration": 85,
    "start_time": "2022-01-22T09:35:17.153Z"
   },
   {
    "duration": 37,
    "start_time": "2022-01-22T09:35:17.240Z"
   },
   {
    "duration": 8,
    "start_time": "2022-01-22T09:35:17.280Z"
   },
   {
    "duration": 378,
    "start_time": "2022-01-22T09:35:17.291Z"
   },
   {
    "duration": 51,
    "start_time": "2022-01-22T09:35:17.672Z"
   },
   {
    "duration": 8,
    "start_time": "2022-01-22T09:35:17.725Z"
   },
   {
    "duration": 36,
    "start_time": "2022-01-22T09:35:17.735Z"
   },
   {
    "duration": 64,
    "start_time": "2022-01-22T09:35:17.773Z"
   },
   {
    "duration": 390,
    "start_time": "2022-01-22T09:35:17.840Z"
   },
   {
    "duration": 429,
    "start_time": "2022-01-22T09:35:18.232Z"
   },
   {
    "duration": 371,
    "start_time": "2022-01-22T09:35:18.664Z"
   },
   {
    "duration": 15,
    "start_time": "2022-01-22T09:35:19.038Z"
   },
   {
    "duration": 6,
    "start_time": "2022-01-22T09:35:19.055Z"
   },
   {
    "duration": 18,
    "start_time": "2022-01-22T09:35:19.064Z"
   },
   {
    "duration": 39,
    "start_time": "2022-01-22T09:35:19.086Z"
   },
   {
    "duration": 396,
    "start_time": "2022-01-22T09:35:19.127Z"
   },
   {
    "duration": 400,
    "start_time": "2022-01-22T09:35:19.526Z"
   },
   {
    "duration": 378,
    "start_time": "2022-01-22T09:35:19.929Z"
   },
   {
    "duration": 548,
    "start_time": "2022-01-22T09:35:20.309Z"
   },
   {
    "duration": 396,
    "start_time": "2022-01-22T09:35:20.861Z"
   },
   {
    "duration": 558,
    "start_time": "2022-01-22T09:35:21.261Z"
   },
   {
    "duration": 563,
    "start_time": "2022-01-22T09:35:21.824Z"
   },
   {
    "duration": 542,
    "start_time": "2022-01-22T09:35:22.389Z"
   },
   {
    "duration": 522,
    "start_time": "2022-01-22T09:35:22.934Z"
   },
   {
    "duration": 3,
    "start_time": "2022-01-22T09:35:23.458Z"
   },
   {
    "duration": 15,
    "start_time": "2022-01-22T09:35:23.464Z"
   },
   {
    "duration": 42,
    "start_time": "2022-01-22T09:35:23.482Z"
   }
  ],
  "kernelspec": {
   "display_name": "Python 3.10.4 64-bit",
   "language": "python",
   "name": "python3"
  },
  "language_info": {
   "codemirror_mode": {
    "name": "ipython",
    "version": 3
   },
   "file_extension": ".py",
   "mimetype": "text/x-python",
   "name": "python",
   "nbconvert_exporter": "python",
   "pygments_lexer": "ipython3",
   "version": "3.10.4"
  },
  "toc": {
   "base_numbering": 1,
   "nav_menu": {},
   "number_sections": true,
   "sideBar": true,
   "skip_h1_title": true,
   "title_cell": "Table of Contents",
   "title_sidebar": "Contents",
   "toc_cell": false,
   "toc_position": {},
   "toc_section_display": true,
   "toc_window_display": true
  },
  "vscode": {
   "interpreter": {
    "hash": "2469a70536e4d2335a2ea8907942d0699c37342a371ac185bdb5b0aa6f073890"
   }
  }
 },
 "nbformat": 4,
 "nbformat_minor": 2
}
