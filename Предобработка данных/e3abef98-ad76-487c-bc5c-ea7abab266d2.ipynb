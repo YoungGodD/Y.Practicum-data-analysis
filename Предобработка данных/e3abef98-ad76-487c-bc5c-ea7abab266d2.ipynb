{
 "cells": [
  {
   "cell_type": "markdown",
   "metadata": {},
   "source": [
    "# Исследование надёжности заёмщиков\n",
    "\n",
    "Заказчик — кредитный отдел банка. Нужно разобраться, влияет ли семейное положение и количество детей клиента на факт погашения кредита в срок. Входные данные от банка — статистика о платёжеспособности клиентов.\n",
    "\n",
    "Результаты исследования будут учтены при построении модели **кредитного скоринга** — специальной системы, которая оценивает способность потенциального заёмщика вернуть кредит банку."
   ]
  },
  {
   "cell_type": "markdown",
   "metadata": {},
   "source": [
    "Информация о данных:\n",
    "    \n",
    "<li>children — количество детей в семье</li>\n",
    "<li>days_employed — общий трудовой стаж в днях</li>\n",
    "<li>dob_years — возраст клиента в годах</li>\n",
    "<li>education — уровень образования клиента</li>\n",
    "<li>education_id — идентификатор уровня образования</li>\n",
    "<li>family_status — семейное положение</li>\n",
    "<li>family_status_id — идентификатор семейного положения</li>\n",
    "<li>gender — пол клиента</li>\n",
    "<li>income_type — тип занятости</li>\n",
    "<li>debt — имел ли задолженность по возврату кредитов</li>\n",
    "<li>total_income — ежемесячный доход</li>\n",
    "<li>purpose — цель получения кредита</li>"
   ]
  },
  {
   "cell_type": "markdown",
   "metadata": {},
   "source": [
    "## Шаг 1. Откройте файл с данными и изучите общую информацию"
   ]
  },
  {
   "cell_type": "code",
   "execution_count": 2,
   "metadata": {},
   "outputs": [
    {
     "data": {
      "text/html": [
       "<div>\n",
       "<style scoped>\n",
       "    .dataframe tbody tr th:only-of-type {\n",
       "        vertical-align: middle;\n",
       "    }\n",
       "\n",
       "    .dataframe tbody tr th {\n",
       "        vertical-align: top;\n",
       "    }\n",
       "\n",
       "    .dataframe thead th {\n",
       "        text-align: right;\n",
       "    }\n",
       "</style>\n",
       "<table border=\"1\" class=\"dataframe\">\n",
       "  <thead>\n",
       "    <tr style=\"text-align: right;\">\n",
       "      <th></th>\n",
       "      <th>children</th>\n",
       "      <th>days_employed</th>\n",
       "      <th>dob_years</th>\n",
       "      <th>education</th>\n",
       "      <th>education_id</th>\n",
       "      <th>family_status</th>\n",
       "      <th>family_status_id</th>\n",
       "      <th>gender</th>\n",
       "      <th>income_type</th>\n",
       "      <th>debt</th>\n",
       "      <th>total_income</th>\n",
       "      <th>purpose</th>\n",
       "    </tr>\n",
       "  </thead>\n",
       "  <tbody>\n",
       "    <tr>\n",
       "      <td>0</td>\n",
       "      <td>1</td>\n",
       "      <td>-8437.673028</td>\n",
       "      <td>42</td>\n",
       "      <td>высшее</td>\n",
       "      <td>0</td>\n",
       "      <td>женат / замужем</td>\n",
       "      <td>0</td>\n",
       "      <td>F</td>\n",
       "      <td>сотрудник</td>\n",
       "      <td>0</td>\n",
       "      <td>253875.639453</td>\n",
       "      <td>покупка жилья</td>\n",
       "    </tr>\n",
       "    <tr>\n",
       "      <td>1</td>\n",
       "      <td>1</td>\n",
       "      <td>-4024.803754</td>\n",
       "      <td>36</td>\n",
       "      <td>среднее</td>\n",
       "      <td>1</td>\n",
       "      <td>женат / замужем</td>\n",
       "      <td>0</td>\n",
       "      <td>F</td>\n",
       "      <td>сотрудник</td>\n",
       "      <td>0</td>\n",
       "      <td>112080.014102</td>\n",
       "      <td>приобретение автомобиля</td>\n",
       "    </tr>\n",
       "    <tr>\n",
       "      <td>2</td>\n",
       "      <td>0</td>\n",
       "      <td>-5623.422610</td>\n",
       "      <td>33</td>\n",
       "      <td>Среднее</td>\n",
       "      <td>1</td>\n",
       "      <td>женат / замужем</td>\n",
       "      <td>0</td>\n",
       "      <td>M</td>\n",
       "      <td>сотрудник</td>\n",
       "      <td>0</td>\n",
       "      <td>145885.952297</td>\n",
       "      <td>покупка жилья</td>\n",
       "    </tr>\n",
       "    <tr>\n",
       "      <td>3</td>\n",
       "      <td>3</td>\n",
       "      <td>-4124.747207</td>\n",
       "      <td>32</td>\n",
       "      <td>среднее</td>\n",
       "      <td>1</td>\n",
       "      <td>женат / замужем</td>\n",
       "      <td>0</td>\n",
       "      <td>M</td>\n",
       "      <td>сотрудник</td>\n",
       "      <td>0</td>\n",
       "      <td>267628.550329</td>\n",
       "      <td>дополнительное образование</td>\n",
       "    </tr>\n",
       "    <tr>\n",
       "      <td>4</td>\n",
       "      <td>0</td>\n",
       "      <td>340266.072047</td>\n",
       "      <td>53</td>\n",
       "      <td>среднее</td>\n",
       "      <td>1</td>\n",
       "      <td>гражданский брак</td>\n",
       "      <td>1</td>\n",
       "      <td>F</td>\n",
       "      <td>пенсионер</td>\n",
       "      <td>0</td>\n",
       "      <td>158616.077870</td>\n",
       "      <td>сыграть свадьбу</td>\n",
       "    </tr>\n",
       "    <tr>\n",
       "      <td>...</td>\n",
       "      <td>...</td>\n",
       "      <td>...</td>\n",
       "      <td>...</td>\n",
       "      <td>...</td>\n",
       "      <td>...</td>\n",
       "      <td>...</td>\n",
       "      <td>...</td>\n",
       "      <td>...</td>\n",
       "      <td>...</td>\n",
       "      <td>...</td>\n",
       "      <td>...</td>\n",
       "      <td>...</td>\n",
       "    </tr>\n",
       "    <tr>\n",
       "      <td>21520</td>\n",
       "      <td>1</td>\n",
       "      <td>-4529.316663</td>\n",
       "      <td>43</td>\n",
       "      <td>среднее</td>\n",
       "      <td>1</td>\n",
       "      <td>гражданский брак</td>\n",
       "      <td>1</td>\n",
       "      <td>F</td>\n",
       "      <td>компаньон</td>\n",
       "      <td>0</td>\n",
       "      <td>224791.862382</td>\n",
       "      <td>операции с жильем</td>\n",
       "    </tr>\n",
       "    <tr>\n",
       "      <td>21521</td>\n",
       "      <td>0</td>\n",
       "      <td>343937.404131</td>\n",
       "      <td>67</td>\n",
       "      <td>среднее</td>\n",
       "      <td>1</td>\n",
       "      <td>женат / замужем</td>\n",
       "      <td>0</td>\n",
       "      <td>F</td>\n",
       "      <td>пенсионер</td>\n",
       "      <td>0</td>\n",
       "      <td>155999.806512</td>\n",
       "      <td>сделка с автомобилем</td>\n",
       "    </tr>\n",
       "    <tr>\n",
       "      <td>21522</td>\n",
       "      <td>1</td>\n",
       "      <td>-2113.346888</td>\n",
       "      <td>38</td>\n",
       "      <td>среднее</td>\n",
       "      <td>1</td>\n",
       "      <td>гражданский брак</td>\n",
       "      <td>1</td>\n",
       "      <td>M</td>\n",
       "      <td>сотрудник</td>\n",
       "      <td>1</td>\n",
       "      <td>89672.561153</td>\n",
       "      <td>недвижимость</td>\n",
       "    </tr>\n",
       "    <tr>\n",
       "      <td>21523</td>\n",
       "      <td>3</td>\n",
       "      <td>-3112.481705</td>\n",
       "      <td>38</td>\n",
       "      <td>среднее</td>\n",
       "      <td>1</td>\n",
       "      <td>женат / замужем</td>\n",
       "      <td>0</td>\n",
       "      <td>M</td>\n",
       "      <td>сотрудник</td>\n",
       "      <td>1</td>\n",
       "      <td>244093.050500</td>\n",
       "      <td>на покупку своего автомобиля</td>\n",
       "    </tr>\n",
       "    <tr>\n",
       "      <td>21524</td>\n",
       "      <td>2</td>\n",
       "      <td>-1984.507589</td>\n",
       "      <td>40</td>\n",
       "      <td>среднее</td>\n",
       "      <td>1</td>\n",
       "      <td>женат / замужем</td>\n",
       "      <td>0</td>\n",
       "      <td>F</td>\n",
       "      <td>сотрудник</td>\n",
       "      <td>0</td>\n",
       "      <td>82047.418899</td>\n",
       "      <td>на покупку автомобиля</td>\n",
       "    </tr>\n",
       "  </tbody>\n",
       "</table>\n",
       "<p>21525 rows × 12 columns</p>\n",
       "</div>"
      ],
      "text/plain": [
       "       children  days_employed  dob_years education  education_id  \\\n",
       "0             1   -8437.673028         42    высшее             0   \n",
       "1             1   -4024.803754         36   среднее             1   \n",
       "2             0   -5623.422610         33   Среднее             1   \n",
       "3             3   -4124.747207         32   среднее             1   \n",
       "4             0  340266.072047         53   среднее             1   \n",
       "...         ...            ...        ...       ...           ...   \n",
       "21520         1   -4529.316663         43   среднее             1   \n",
       "21521         0  343937.404131         67   среднее             1   \n",
       "21522         1   -2113.346888         38   среднее             1   \n",
       "21523         3   -3112.481705         38   среднее             1   \n",
       "21524         2   -1984.507589         40   среднее             1   \n",
       "\n",
       "          family_status  family_status_id gender income_type  debt  \\\n",
       "0       женат / замужем                 0      F   сотрудник     0   \n",
       "1       женат / замужем                 0      F   сотрудник     0   \n",
       "2       женат / замужем                 0      M   сотрудник     0   \n",
       "3       женат / замужем                 0      M   сотрудник     0   \n",
       "4      гражданский брак                 1      F   пенсионер     0   \n",
       "...                 ...               ...    ...         ...   ...   \n",
       "21520  гражданский брак                 1      F   компаньон     0   \n",
       "21521   женат / замужем                 0      F   пенсионер     0   \n",
       "21522  гражданский брак                 1      M   сотрудник     1   \n",
       "21523   женат / замужем                 0      M   сотрудник     1   \n",
       "21524   женат / замужем                 0      F   сотрудник     0   \n",
       "\n",
       "        total_income                       purpose  \n",
       "0      253875.639453                 покупка жилья  \n",
       "1      112080.014102       приобретение автомобиля  \n",
       "2      145885.952297                 покупка жилья  \n",
       "3      267628.550329    дополнительное образование  \n",
       "4      158616.077870               сыграть свадьбу  \n",
       "...              ...                           ...  \n",
       "21520  224791.862382             операции с жильем  \n",
       "21521  155999.806512          сделка с автомобилем  \n",
       "21522   89672.561153                  недвижимость  \n",
       "21523  244093.050500  на покупку своего автомобиля  \n",
       "21524   82047.418899         на покупку автомобиля  \n",
       "\n",
       "[21525 rows x 12 columns]"
      ]
     },
     "metadata": {},
     "output_type": "display_data"
    },
    {
     "data": {
      "text/html": [
       "<div>\n",
       "<style scoped>\n",
       "    .dataframe tbody tr th:only-of-type {\n",
       "        vertical-align: middle;\n",
       "    }\n",
       "\n",
       "    .dataframe tbody tr th {\n",
       "        vertical-align: top;\n",
       "    }\n",
       "\n",
       "    .dataframe thead th {\n",
       "        text-align: right;\n",
       "    }\n",
       "</style>\n",
       "<table border=\"1\" class=\"dataframe\">\n",
       "  <thead>\n",
       "    <tr style=\"text-align: right;\">\n",
       "      <th></th>\n",
       "      <th>children</th>\n",
       "      <th>days_employed</th>\n",
       "      <th>dob_years</th>\n",
       "      <th>education</th>\n",
       "      <th>education_id</th>\n",
       "      <th>family_status</th>\n",
       "      <th>family_status_id</th>\n",
       "      <th>gender</th>\n",
       "      <th>income_type</th>\n",
       "      <th>debt</th>\n",
       "      <th>total_income</th>\n",
       "      <th>purpose</th>\n",
       "    </tr>\n",
       "  </thead>\n",
       "  <tbody>\n",
       "    <tr>\n",
       "      <td>0</td>\n",
       "      <td>1</td>\n",
       "      <td>-8437.673028</td>\n",
       "      <td>42</td>\n",
       "      <td>высшее</td>\n",
       "      <td>0</td>\n",
       "      <td>женат / замужем</td>\n",
       "      <td>0</td>\n",
       "      <td>F</td>\n",
       "      <td>сотрудник</td>\n",
       "      <td>0</td>\n",
       "      <td>253875.639453</td>\n",
       "      <td>покупка жилья</td>\n",
       "    </tr>\n",
       "    <tr>\n",
       "      <td>1</td>\n",
       "      <td>1</td>\n",
       "      <td>-4024.803754</td>\n",
       "      <td>36</td>\n",
       "      <td>среднее</td>\n",
       "      <td>1</td>\n",
       "      <td>женат / замужем</td>\n",
       "      <td>0</td>\n",
       "      <td>F</td>\n",
       "      <td>сотрудник</td>\n",
       "      <td>0</td>\n",
       "      <td>112080.014102</td>\n",
       "      <td>приобретение автомобиля</td>\n",
       "    </tr>\n",
       "    <tr>\n",
       "      <td>2</td>\n",
       "      <td>0</td>\n",
       "      <td>-5623.422610</td>\n",
       "      <td>33</td>\n",
       "      <td>Среднее</td>\n",
       "      <td>1</td>\n",
       "      <td>женат / замужем</td>\n",
       "      <td>0</td>\n",
       "      <td>M</td>\n",
       "      <td>сотрудник</td>\n",
       "      <td>0</td>\n",
       "      <td>145885.952297</td>\n",
       "      <td>покупка жилья</td>\n",
       "    </tr>\n",
       "    <tr>\n",
       "      <td>3</td>\n",
       "      <td>3</td>\n",
       "      <td>-4124.747207</td>\n",
       "      <td>32</td>\n",
       "      <td>среднее</td>\n",
       "      <td>1</td>\n",
       "      <td>женат / замужем</td>\n",
       "      <td>0</td>\n",
       "      <td>M</td>\n",
       "      <td>сотрудник</td>\n",
       "      <td>0</td>\n",
       "      <td>267628.550329</td>\n",
       "      <td>дополнительное образование</td>\n",
       "    </tr>\n",
       "    <tr>\n",
       "      <td>4</td>\n",
       "      <td>0</td>\n",
       "      <td>340266.072047</td>\n",
       "      <td>53</td>\n",
       "      <td>среднее</td>\n",
       "      <td>1</td>\n",
       "      <td>гражданский брак</td>\n",
       "      <td>1</td>\n",
       "      <td>F</td>\n",
       "      <td>пенсионер</td>\n",
       "      <td>0</td>\n",
       "      <td>158616.077870</td>\n",
       "      <td>сыграть свадьбу</td>\n",
       "    </tr>\n",
       "    <tr>\n",
       "      <td>5</td>\n",
       "      <td>0</td>\n",
       "      <td>-926.185831</td>\n",
       "      <td>27</td>\n",
       "      <td>высшее</td>\n",
       "      <td>0</td>\n",
       "      <td>гражданский брак</td>\n",
       "      <td>1</td>\n",
       "      <td>M</td>\n",
       "      <td>компаньон</td>\n",
       "      <td>0</td>\n",
       "      <td>255763.565419</td>\n",
       "      <td>покупка жилья</td>\n",
       "    </tr>\n",
       "    <tr>\n",
       "      <td>6</td>\n",
       "      <td>0</td>\n",
       "      <td>-2879.202052</td>\n",
       "      <td>43</td>\n",
       "      <td>высшее</td>\n",
       "      <td>0</td>\n",
       "      <td>женат / замужем</td>\n",
       "      <td>0</td>\n",
       "      <td>F</td>\n",
       "      <td>компаньон</td>\n",
       "      <td>0</td>\n",
       "      <td>240525.971920</td>\n",
       "      <td>операции с жильем</td>\n",
       "    </tr>\n",
       "    <tr>\n",
       "      <td>7</td>\n",
       "      <td>0</td>\n",
       "      <td>-152.779569</td>\n",
       "      <td>50</td>\n",
       "      <td>СРЕДНЕЕ</td>\n",
       "      <td>1</td>\n",
       "      <td>женат / замужем</td>\n",
       "      <td>0</td>\n",
       "      <td>M</td>\n",
       "      <td>сотрудник</td>\n",
       "      <td>0</td>\n",
       "      <td>135823.934197</td>\n",
       "      <td>образование</td>\n",
       "    </tr>\n",
       "    <tr>\n",
       "      <td>8</td>\n",
       "      <td>2</td>\n",
       "      <td>-6929.865299</td>\n",
       "      <td>35</td>\n",
       "      <td>ВЫСШЕЕ</td>\n",
       "      <td>0</td>\n",
       "      <td>гражданский брак</td>\n",
       "      <td>1</td>\n",
       "      <td>F</td>\n",
       "      <td>сотрудник</td>\n",
       "      <td>0</td>\n",
       "      <td>95856.832424</td>\n",
       "      <td>на проведение свадьбы</td>\n",
       "    </tr>\n",
       "    <tr>\n",
       "      <td>9</td>\n",
       "      <td>0</td>\n",
       "      <td>-2188.756445</td>\n",
       "      <td>41</td>\n",
       "      <td>среднее</td>\n",
       "      <td>1</td>\n",
       "      <td>женат / замужем</td>\n",
       "      <td>0</td>\n",
       "      <td>M</td>\n",
       "      <td>сотрудник</td>\n",
       "      <td>0</td>\n",
       "      <td>144425.938277</td>\n",
       "      <td>покупка жилья для семьи</td>\n",
       "    </tr>\n",
       "    <tr>\n",
       "      <td>10</td>\n",
       "      <td>2</td>\n",
       "      <td>-4171.483647</td>\n",
       "      <td>36</td>\n",
       "      <td>высшее</td>\n",
       "      <td>0</td>\n",
       "      <td>женат / замужем</td>\n",
       "      <td>0</td>\n",
       "      <td>M</td>\n",
       "      <td>компаньон</td>\n",
       "      <td>0</td>\n",
       "      <td>113943.491460</td>\n",
       "      <td>покупка недвижимости</td>\n",
       "    </tr>\n",
       "    <tr>\n",
       "      <td>11</td>\n",
       "      <td>0</td>\n",
       "      <td>-792.701887</td>\n",
       "      <td>40</td>\n",
       "      <td>среднее</td>\n",
       "      <td>1</td>\n",
       "      <td>женат / замужем</td>\n",
       "      <td>0</td>\n",
       "      <td>F</td>\n",
       "      <td>сотрудник</td>\n",
       "      <td>0</td>\n",
       "      <td>77069.234271</td>\n",
       "      <td>покупка коммерческой недвижимости</td>\n",
       "    </tr>\n",
       "    <tr>\n",
       "      <td>12</td>\n",
       "      <td>0</td>\n",
       "      <td>NaN</td>\n",
       "      <td>65</td>\n",
       "      <td>среднее</td>\n",
       "      <td>1</td>\n",
       "      <td>гражданский брак</td>\n",
       "      <td>1</td>\n",
       "      <td>M</td>\n",
       "      <td>пенсионер</td>\n",
       "      <td>0</td>\n",
       "      <td>NaN</td>\n",
       "      <td>сыграть свадьбу</td>\n",
       "    </tr>\n",
       "    <tr>\n",
       "      <td>13</td>\n",
       "      <td>0</td>\n",
       "      <td>-1846.641941</td>\n",
       "      <td>54</td>\n",
       "      <td>неоконченное высшее</td>\n",
       "      <td>2</td>\n",
       "      <td>женат / замужем</td>\n",
       "      <td>0</td>\n",
       "      <td>F</td>\n",
       "      <td>сотрудник</td>\n",
       "      <td>0</td>\n",
       "      <td>130458.228857</td>\n",
       "      <td>приобретение автомобиля</td>\n",
       "    </tr>\n",
       "    <tr>\n",
       "      <td>14</td>\n",
       "      <td>0</td>\n",
       "      <td>-1844.956182</td>\n",
       "      <td>56</td>\n",
       "      <td>высшее</td>\n",
       "      <td>0</td>\n",
       "      <td>гражданский брак</td>\n",
       "      <td>1</td>\n",
       "      <td>F</td>\n",
       "      <td>компаньон</td>\n",
       "      <td>1</td>\n",
       "      <td>165127.911772</td>\n",
       "      <td>покупка жилой недвижимости</td>\n",
       "    </tr>\n",
       "  </tbody>\n",
       "</table>\n",
       "</div>"
      ],
      "text/plain": [
       "    children  days_employed  dob_years            education  education_id  \\\n",
       "0          1   -8437.673028         42               высшее             0   \n",
       "1          1   -4024.803754         36              среднее             1   \n",
       "2          0   -5623.422610         33              Среднее             1   \n",
       "3          3   -4124.747207         32              среднее             1   \n",
       "4          0  340266.072047         53              среднее             1   \n",
       "5          0    -926.185831         27               высшее             0   \n",
       "6          0   -2879.202052         43               высшее             0   \n",
       "7          0    -152.779569         50              СРЕДНЕЕ             1   \n",
       "8          2   -6929.865299         35               ВЫСШЕЕ             0   \n",
       "9          0   -2188.756445         41              среднее             1   \n",
       "10         2   -4171.483647         36               высшее             0   \n",
       "11         0    -792.701887         40              среднее             1   \n",
       "12         0            NaN         65              среднее             1   \n",
       "13         0   -1846.641941         54  неоконченное высшее             2   \n",
       "14         0   -1844.956182         56               высшее             0   \n",
       "\n",
       "       family_status  family_status_id gender income_type  debt  \\\n",
       "0    женат / замужем                 0      F   сотрудник     0   \n",
       "1    женат / замужем                 0      F   сотрудник     0   \n",
       "2    женат / замужем                 0      M   сотрудник     0   \n",
       "3    женат / замужем                 0      M   сотрудник     0   \n",
       "4   гражданский брак                 1      F   пенсионер     0   \n",
       "5   гражданский брак                 1      M   компаньон     0   \n",
       "6    женат / замужем                 0      F   компаньон     0   \n",
       "7    женат / замужем                 0      M   сотрудник     0   \n",
       "8   гражданский брак                 1      F   сотрудник     0   \n",
       "9    женат / замужем                 0      M   сотрудник     0   \n",
       "10   женат / замужем                 0      M   компаньон     0   \n",
       "11   женат / замужем                 0      F   сотрудник     0   \n",
       "12  гражданский брак                 1      M   пенсионер     0   \n",
       "13   женат / замужем                 0      F   сотрудник     0   \n",
       "14  гражданский брак                 1      F   компаньон     1   \n",
       "\n",
       "     total_income                            purpose  \n",
       "0   253875.639453                      покупка жилья  \n",
       "1   112080.014102            приобретение автомобиля  \n",
       "2   145885.952297                      покупка жилья  \n",
       "3   267628.550329         дополнительное образование  \n",
       "4   158616.077870                    сыграть свадьбу  \n",
       "5   255763.565419                      покупка жилья  \n",
       "6   240525.971920                  операции с жильем  \n",
       "7   135823.934197                        образование  \n",
       "8    95856.832424              на проведение свадьбы  \n",
       "9   144425.938277            покупка жилья для семьи  \n",
       "10  113943.491460               покупка недвижимости  \n",
       "11   77069.234271  покупка коммерческой недвижимости  \n",
       "12            NaN                    сыграть свадьбу  \n",
       "13  130458.228857            приобретение автомобиля  \n",
       "14  165127.911772         покупка жилой недвижимости  "
      ]
     },
     "metadata": {},
     "output_type": "display_data"
    },
    {
     "name": "stdout",
     "output_type": "stream",
     "text": [
      "<class 'pandas.core.frame.DataFrame'>\n",
      "RangeIndex: 21525 entries, 0 to 21524\n",
      "Data columns (total 12 columns):\n",
      "children            21525 non-null int64\n",
      "days_employed       19351 non-null float64\n",
      "dob_years           21525 non-null int64\n",
      "education           21525 non-null object\n",
      "education_id        21525 non-null int64\n",
      "family_status       21525 non-null object\n",
      "family_status_id    21525 non-null int64\n",
      "gender              21525 non-null object\n",
      "income_type         21525 non-null object\n",
      "debt                21525 non-null int64\n",
      "total_income        19351 non-null float64\n",
      "purpose             21525 non-null object\n",
      "dtypes: float64(2), int64(5), object(5)\n",
      "memory usage: 2.0+ MB\n"
     ]
    }
   ],
   "source": [
    "import pandas as pd\n",
    "data = pd.read_csv('/datasets/data.csv')\n",
    "display(data)\n",
    "display(data.head(15))\n",
    "data.info()"
   ]
  },
  {
   "cell_type": "markdown",
   "metadata": {},
   "source": [
    "**Вывод**"
   ]
  },
  {
   "cell_type": "markdown",
   "metadata": {},
   "source": [
    "<li>В столбце <b>'days_employed'</b> присутсвуют отрицательные значения и пропуски</li>\n",
    "<li>В столбце <b>'education'</b> присутствуют значения в разных регистрах</li>\n",
    "<li>В столбце <b>'total_income'</b> присутствуют пропуски</li>\n",
    "<li>В столбце <b>'purpose'</b> одна и та же цель записана по разному</li>"
   ]
  },
  {
   "cell_type": "markdown",
   "metadata": {},
   "source": [
    "## Шаг 2. Предобработка данных"
   ]
  },
  {
   "cell_type": "markdown",
   "metadata": {},
   "source": [
    "### Обработка пропусков"
   ]
  },
  {
   "cell_type": "code",
   "execution_count": 3,
   "metadata": {},
   "outputs": [
    {
     "data": {
      "text/html": [
       "<div>\n",
       "<style scoped>\n",
       "    .dataframe tbody tr th:only-of-type {\n",
       "        vertical-align: middle;\n",
       "    }\n",
       "\n",
       "    .dataframe tbody tr th {\n",
       "        vertical-align: top;\n",
       "    }\n",
       "\n",
       "    .dataframe thead th {\n",
       "        text-align: right;\n",
       "    }\n",
       "</style>\n",
       "<table border=\"1\" class=\"dataframe\">\n",
       "  <thead>\n",
       "    <tr style=\"text-align: right;\">\n",
       "      <th></th>\n",
       "      <th>children</th>\n",
       "      <th>days_employed</th>\n",
       "      <th>dob_years</th>\n",
       "      <th>education_id</th>\n",
       "      <th>family_status_id</th>\n",
       "      <th>debt</th>\n",
       "      <th>total_income</th>\n",
       "    </tr>\n",
       "  </thead>\n",
       "  <tbody>\n",
       "    <tr>\n",
       "      <td>count</td>\n",
       "      <td>21525.000000</td>\n",
       "      <td>19351.000000</td>\n",
       "      <td>21525.000000</td>\n",
       "      <td>21525.000000</td>\n",
       "      <td>21525.000000</td>\n",
       "      <td>21525.000000</td>\n",
       "      <td>1.935100e+04</td>\n",
       "    </tr>\n",
       "    <tr>\n",
       "      <td>mean</td>\n",
       "      <td>0.538908</td>\n",
       "      <td>63046.497661</td>\n",
       "      <td>43.293380</td>\n",
       "      <td>0.817236</td>\n",
       "      <td>0.972544</td>\n",
       "      <td>0.080883</td>\n",
       "      <td>1.674223e+05</td>\n",
       "    </tr>\n",
       "    <tr>\n",
       "      <td>std</td>\n",
       "      <td>1.381587</td>\n",
       "      <td>140827.311974</td>\n",
       "      <td>12.574584</td>\n",
       "      <td>0.548138</td>\n",
       "      <td>1.420324</td>\n",
       "      <td>0.272661</td>\n",
       "      <td>1.029716e+05</td>\n",
       "    </tr>\n",
       "    <tr>\n",
       "      <td>min</td>\n",
       "      <td>-1.000000</td>\n",
       "      <td>-18388.949901</td>\n",
       "      <td>0.000000</td>\n",
       "      <td>0.000000</td>\n",
       "      <td>0.000000</td>\n",
       "      <td>0.000000</td>\n",
       "      <td>2.066726e+04</td>\n",
       "    </tr>\n",
       "    <tr>\n",
       "      <td>25%</td>\n",
       "      <td>0.000000</td>\n",
       "      <td>-2747.423625</td>\n",
       "      <td>33.000000</td>\n",
       "      <td>1.000000</td>\n",
       "      <td>0.000000</td>\n",
       "      <td>0.000000</td>\n",
       "      <td>1.030532e+05</td>\n",
       "    </tr>\n",
       "    <tr>\n",
       "      <td>50%</td>\n",
       "      <td>0.000000</td>\n",
       "      <td>-1203.369529</td>\n",
       "      <td>42.000000</td>\n",
       "      <td>1.000000</td>\n",
       "      <td>0.000000</td>\n",
       "      <td>0.000000</td>\n",
       "      <td>1.450179e+05</td>\n",
       "    </tr>\n",
       "    <tr>\n",
       "      <td>75%</td>\n",
       "      <td>1.000000</td>\n",
       "      <td>-291.095954</td>\n",
       "      <td>53.000000</td>\n",
       "      <td>1.000000</td>\n",
       "      <td>1.000000</td>\n",
       "      <td>0.000000</td>\n",
       "      <td>2.034351e+05</td>\n",
       "    </tr>\n",
       "    <tr>\n",
       "      <td>max</td>\n",
       "      <td>20.000000</td>\n",
       "      <td>401755.400475</td>\n",
       "      <td>75.000000</td>\n",
       "      <td>4.000000</td>\n",
       "      <td>4.000000</td>\n",
       "      <td>1.000000</td>\n",
       "      <td>2.265604e+06</td>\n",
       "    </tr>\n",
       "  </tbody>\n",
       "</table>\n",
       "</div>"
      ],
      "text/plain": [
       "           children  days_employed     dob_years  education_id  \\\n",
       "count  21525.000000   19351.000000  21525.000000  21525.000000   \n",
       "mean       0.538908   63046.497661     43.293380      0.817236   \n",
       "std        1.381587  140827.311974     12.574584      0.548138   \n",
       "min       -1.000000  -18388.949901      0.000000      0.000000   \n",
       "25%        0.000000   -2747.423625     33.000000      1.000000   \n",
       "50%        0.000000   -1203.369529     42.000000      1.000000   \n",
       "75%        1.000000    -291.095954     53.000000      1.000000   \n",
       "max       20.000000  401755.400475     75.000000      4.000000   \n",
       "\n",
       "       family_status_id          debt  total_income  \n",
       "count      21525.000000  21525.000000  1.935100e+04  \n",
       "mean           0.972544      0.080883  1.674223e+05  \n",
       "std            1.420324      0.272661  1.029716e+05  \n",
       "min            0.000000      0.000000  2.066726e+04  \n",
       "25%            0.000000      0.000000  1.030532e+05  \n",
       "50%            0.000000      0.000000  1.450179e+05  \n",
       "75%            1.000000      0.000000  2.034351e+05  \n",
       "max            4.000000      1.000000  2.265604e+06  "
      ]
     },
     "execution_count": 3,
     "metadata": {},
     "output_type": "execute_result"
    }
   ],
   "source": [
    "data.describe()"
   ]
  },
  {
   "cell_type": "code",
   "execution_count": 4,
   "metadata": {},
   "outputs": [
    {
     "data": {
      "text/plain": [
       "array([ 1,  0,  3,  2, -1,  4, 20,  5])"
      ]
     },
     "execution_count": 4,
     "metadata": {},
     "output_type": "execute_result"
    }
   ],
   "source": [
    "data['children'].unique()"
   ]
  },
  {
   "cell_type": "code",
   "execution_count": 5,
   "metadata": {},
   "outputs": [
    {
     "data": {
      "text/html": [
       "<div>\n",
       "<style scoped>\n",
       "    .dataframe tbody tr th:only-of-type {\n",
       "        vertical-align: middle;\n",
       "    }\n",
       "\n",
       "    .dataframe tbody tr th {\n",
       "        vertical-align: top;\n",
       "    }\n",
       "\n",
       "    .dataframe thead th {\n",
       "        text-align: right;\n",
       "    }\n",
       "</style>\n",
       "<table border=\"1\" class=\"dataframe\">\n",
       "  <thead>\n",
       "    <tr style=\"text-align: right;\">\n",
       "      <th></th>\n",
       "      <th>children</th>\n",
       "      <th>days_employed</th>\n",
       "      <th>dob_years</th>\n",
       "      <th>education_id</th>\n",
       "      <th>family_status_id</th>\n",
       "      <th>debt</th>\n",
       "      <th>total_income</th>\n",
       "    </tr>\n",
       "  </thead>\n",
       "  <tbody>\n",
       "    <tr>\n",
       "      <td>count</td>\n",
       "      <td>21402.000000</td>\n",
       "      <td>19240.000000</td>\n",
       "      <td>21402.000000</td>\n",
       "      <td>21402.000000</td>\n",
       "      <td>21402.000000</td>\n",
       "      <td>21402.000000</td>\n",
       "      <td>1.924000e+04</td>\n",
       "    </tr>\n",
       "    <tr>\n",
       "      <td>mean</td>\n",
       "      <td>0.473180</td>\n",
       "      <td>63159.820777</td>\n",
       "      <td>43.300206</td>\n",
       "      <td>0.817120</td>\n",
       "      <td>0.973133</td>\n",
       "      <td>0.080927</td>\n",
       "      <td>1.674488e+05</td>\n",
       "    </tr>\n",
       "    <tr>\n",
       "      <td>std</td>\n",
       "      <td>0.751837</td>\n",
       "      <td>140928.943329</td>\n",
       "      <td>12.579055</td>\n",
       "      <td>0.548741</td>\n",
       "      <td>1.420536</td>\n",
       "      <td>0.272729</td>\n",
       "      <td>1.031051e+05</td>\n",
       "    </tr>\n",
       "    <tr>\n",
       "      <td>min</td>\n",
       "      <td>0.000000</td>\n",
       "      <td>-18388.949901</td>\n",
       "      <td>0.000000</td>\n",
       "      <td>0.000000</td>\n",
       "      <td>0.000000</td>\n",
       "      <td>0.000000</td>\n",
       "      <td>2.066726e+04</td>\n",
       "    </tr>\n",
       "    <tr>\n",
       "      <td>25%</td>\n",
       "      <td>0.000000</td>\n",
       "      <td>-2747.235601</td>\n",
       "      <td>33.000000</td>\n",
       "      <td>1.000000</td>\n",
       "      <td>0.000000</td>\n",
       "      <td>0.000000</td>\n",
       "      <td>1.030001e+05</td>\n",
       "    </tr>\n",
       "    <tr>\n",
       "      <td>50%</td>\n",
       "      <td>0.000000</td>\n",
       "      <td>-1203.934202</td>\n",
       "      <td>42.000000</td>\n",
       "      <td>1.000000</td>\n",
       "      <td>0.000000</td>\n",
       "      <td>0.000000</td>\n",
       "      <td>1.450208e+05</td>\n",
       "    </tr>\n",
       "    <tr>\n",
       "      <td>75%</td>\n",
       "      <td>1.000000</td>\n",
       "      <td>-289.740178</td>\n",
       "      <td>53.000000</td>\n",
       "      <td>1.000000</td>\n",
       "      <td>1.000000</td>\n",
       "      <td>0.000000</td>\n",
       "      <td>2.034447e+05</td>\n",
       "    </tr>\n",
       "    <tr>\n",
       "      <td>max</td>\n",
       "      <td>5.000000</td>\n",
       "      <td>401755.400475</td>\n",
       "      <td>75.000000</td>\n",
       "      <td>4.000000</td>\n",
       "      <td>4.000000</td>\n",
       "      <td>1.000000</td>\n",
       "      <td>2.265604e+06</td>\n",
       "    </tr>\n",
       "  </tbody>\n",
       "</table>\n",
       "</div>"
      ],
      "text/plain": [
       "           children  days_employed     dob_years  education_id  \\\n",
       "count  21402.000000   19240.000000  21402.000000  21402.000000   \n",
       "mean       0.473180   63159.820777     43.300206      0.817120   \n",
       "std        0.751837  140928.943329     12.579055      0.548741   \n",
       "min        0.000000  -18388.949901      0.000000      0.000000   \n",
       "25%        0.000000   -2747.235601     33.000000      1.000000   \n",
       "50%        0.000000   -1203.934202     42.000000      1.000000   \n",
       "75%        1.000000    -289.740178     53.000000      1.000000   \n",
       "max        5.000000  401755.400475     75.000000      4.000000   \n",
       "\n",
       "       family_status_id          debt  total_income  \n",
       "count      21402.000000  21402.000000  1.924000e+04  \n",
       "mean           0.973133      0.080927  1.674488e+05  \n",
       "std            1.420536      0.272729  1.031051e+05  \n",
       "min            0.000000      0.000000  2.066726e+04  \n",
       "25%            0.000000      0.000000  1.030001e+05  \n",
       "50%            0.000000      0.000000  1.450208e+05  \n",
       "75%            1.000000      0.000000  2.034447e+05  \n",
       "max            4.000000      1.000000  2.265604e+06  "
      ]
     },
     "execution_count": 5,
     "metadata": {},
     "output_type": "execute_result"
    }
   ],
   "source": [
    "data = data[data['children'] != -1]\n",
    "data = data[data['children'] != 20]\n",
    "data.describe()"
   ]
  },
  {
   "cell_type": "code",
   "execution_count": 6,
   "metadata": {},
   "outputs": [
    {
     "data": {
      "text/plain": [
       "children               0\n",
       "days_employed       2162\n",
       "dob_years              0\n",
       "education              0\n",
       "education_id           0\n",
       "family_status          0\n",
       "family_status_id       0\n",
       "gender                 0\n",
       "income_type            0\n",
       "debt                   0\n",
       "total_income        2162\n",
       "purpose                0\n",
       "dtype: int64"
      ]
     },
     "execution_count": 6,
     "metadata": {},
     "output_type": "execute_result"
    }
   ],
   "source": [
    "data.isna().sum()"
   ]
  },
  {
   "cell_type": "code",
   "execution_count": 7,
   "metadata": {},
   "outputs": [
    {
     "data": {
      "text/plain": [
       "array(['сотрудник', 'пенсионер', 'компаньон', 'госслужащий',\n",
       "       'безработный', 'предприниматель', 'студент', 'в декрете'],\n",
       "      dtype=object)"
      ]
     },
     "execution_count": 7,
     "metadata": {},
     "output_type": "execute_result"
    }
   ],
   "source": [
    "data['income_type'].unique()"
   ]
  },
  {
   "cell_type": "code",
   "execution_count": 8,
   "metadata": {
    "scrolled": true
   },
   "outputs": [],
   "source": [
    "#Замена значений для пенсионеров\n",
    "retiree_median = data[data['income_type'] == 'пенсионер']['total_income'].median()\n",
    "data.loc[data['income_type'] == 'пенсионер', 'total_income'] = data.loc[data['income_type'] == 'пенсионер', 'total_income'].fillna(retiree_median)"
   ]
  },
  {
   "cell_type": "code",
   "execution_count": 9,
   "metadata": {},
   "outputs": [],
   "source": [
    "#Замена значений для сотрудников\n",
    "retiree_median = data[data['income_type'] == 'сотрудник']['total_income'].median()\n",
    "data.loc[data['income_type'] == 'сотрудник', 'total_income'] = data.loc[data['income_type'] == 'сотрудник', 'total_income'].fillna(retiree_median)"
   ]
  },
  {
   "cell_type": "code",
   "execution_count": 10,
   "metadata": {},
   "outputs": [],
   "source": [
    "#Замена значений для компаньонов\n",
    "retiree_median = data[data['income_type'] == 'компаньон']['total_income'].median()\n",
    "data.loc[data['income_type'] == 'компаньон', 'total_income'] = data.loc[data['income_type'] == 'компаньон', 'total_income'].fillna(retiree_median)"
   ]
  },
  {
   "cell_type": "code",
   "execution_count": 11,
   "metadata": {},
   "outputs": [],
   "source": [
    "#Замена значений для госслужащих\n",
    "retiree_median = data[data['income_type'] == 'госслужащий']['total_income'].median()\n",
    "data.loc[data['income_type'] == 'госслужащий', 'total_income'] = data.loc[data['income_type'] == 'госслужащий', 'total_income'].fillna(retiree_median)"
   ]
  },
  {
   "cell_type": "code",
   "execution_count": 12,
   "metadata": {},
   "outputs": [],
   "source": [
    "#Замена значений для безработных\n",
    "retiree_median = data[data['income_type'] == 'безработный']['total_income'].median()\n",
    "data.loc[data['income_type'] == 'безработный', 'total_income'] = data.loc[data['income_type'] == 'безработный', 'total_income'].fillna(retiree_median)"
   ]
  },
  {
   "cell_type": "code",
   "execution_count": 13,
   "metadata": {},
   "outputs": [],
   "source": [
    "#Замена значений для предпринимателей\n",
    "retiree_median = data[data['income_type'] == 'предприниматель']['total_income'].median()\n",
    "data.loc[data['income_type'] == 'предприниматель', 'total_income'] = data.loc[data['income_type'] == 'предприниматель', 'total_income'].fillna(retiree_median)"
   ]
  },
  {
   "cell_type": "code",
   "execution_count": 14,
   "metadata": {},
   "outputs": [],
   "source": [
    "#Замена значений для студентов\n",
    "retiree_median = data[data['income_type'] == 'студент']['total_income'].median()\n",
    "data.loc[data['income_type'] == 'студент', 'total_income'] = data.loc[data['income_type'] == 'студент', 'total_income'].fillna(retiree_median)"
   ]
  },
  {
   "cell_type": "code",
   "execution_count": 15,
   "metadata": {},
   "outputs": [],
   "source": [
    "#Замена значений для тех, кто в декрете\n",
    "retiree_median = data[data['income_type'] == 'в декрете']['total_income'].median()\n",
    "data.loc[data['income_type'] == 'в декрете', 'total_income'] = data.loc[data['income_type'] == 'в декрете', 'total_income'].fillna(retiree_median)"
   ]
  },
  {
   "cell_type": "code",
   "execution_count": 16,
   "metadata": {
    "scrolled": true
   },
   "outputs": [
    {
     "data": {
      "text/plain": [
       "children               0\n",
       "days_employed       2162\n",
       "dob_years              0\n",
       "education              0\n",
       "education_id           0\n",
       "family_status          0\n",
       "family_status_id       0\n",
       "gender                 0\n",
       "income_type            0\n",
       "debt                   0\n",
       "total_income           0\n",
       "purpose                0\n",
       "dtype: int64"
      ]
     },
     "execution_count": 16,
     "metadata": {},
     "output_type": "execute_result"
    }
   ],
   "source": [
    "data.isna().sum()"
   ]
  },
  {
   "cell_type": "code",
   "execution_count": 17,
   "metadata": {},
   "outputs": [
    {
     "data": {
      "text/plain": [
       "array([42, 36, 33, 32, 53, 27, 43, 50, 35, 41, 40, 65, 54, 56, 26, 48, 24,\n",
       "       21, 57, 67, 28, 63, 62, 47, 34, 68, 25, 31, 30, 20, 49, 37, 45, 61,\n",
       "       64, 44, 52, 46, 23, 38, 39, 51, 59, 29, 60, 55, 58, 71, 22, 73, 66,\n",
       "       69, 19, 72, 70, 74, 75])"
      ]
     },
     "execution_count": 17,
     "metadata": {},
     "output_type": "execute_result"
    }
   ],
   "source": [
    "data = data[data['dob_years'] != 0]\n",
    "data['dob_years'].unique()"
   ]
  },
  {
   "cell_type": "code",
   "execution_count": 18,
   "metadata": {
    "scrolled": true
   },
   "outputs": [
    {
     "data": {
      "text/html": [
       "<div>\n",
       "<style scoped>\n",
       "    .dataframe tbody tr th:only-of-type {\n",
       "        vertical-align: middle;\n",
       "    }\n",
       "\n",
       "    .dataframe tbody tr th {\n",
       "        vertical-align: top;\n",
       "    }\n",
       "\n",
       "    .dataframe thead th {\n",
       "        text-align: right;\n",
       "    }\n",
       "</style>\n",
       "<table border=\"1\" class=\"dataframe\">\n",
       "  <thead>\n",
       "    <tr style=\"text-align: right;\">\n",
       "      <th></th>\n",
       "      <th>children</th>\n",
       "      <th>days_employed</th>\n",
       "      <th>dob_years</th>\n",
       "      <th>education</th>\n",
       "      <th>education_id</th>\n",
       "      <th>family_status</th>\n",
       "      <th>family_status_id</th>\n",
       "      <th>gender</th>\n",
       "      <th>income_type</th>\n",
       "      <th>debt</th>\n",
       "      <th>total_income</th>\n",
       "      <th>purpose</th>\n",
       "      <th>age_level</th>\n",
       "    </tr>\n",
       "  </thead>\n",
       "  <tbody>\n",
       "    <tr>\n",
       "      <td>0</td>\n",
       "      <td>1</td>\n",
       "      <td>-8437.673028</td>\n",
       "      <td>42</td>\n",
       "      <td>высшее</td>\n",
       "      <td>0</td>\n",
       "      <td>женат / замужем</td>\n",
       "      <td>0</td>\n",
       "      <td>F</td>\n",
       "      <td>сотрудник</td>\n",
       "      <td>0</td>\n",
       "      <td>253875.639453</td>\n",
       "      <td>покупка жилья</td>\n",
       "      <td>до 47 лет</td>\n",
       "    </tr>\n",
       "    <tr>\n",
       "      <td>1</td>\n",
       "      <td>1</td>\n",
       "      <td>-4024.803754</td>\n",
       "      <td>36</td>\n",
       "      <td>среднее</td>\n",
       "      <td>1</td>\n",
       "      <td>женат / замужем</td>\n",
       "      <td>0</td>\n",
       "      <td>F</td>\n",
       "      <td>сотрудник</td>\n",
       "      <td>0</td>\n",
       "      <td>112080.014102</td>\n",
       "      <td>приобретение автомобиля</td>\n",
       "      <td>до 47 лет</td>\n",
       "    </tr>\n",
       "    <tr>\n",
       "      <td>2</td>\n",
       "      <td>0</td>\n",
       "      <td>-5623.422610</td>\n",
       "      <td>33</td>\n",
       "      <td>Среднее</td>\n",
       "      <td>1</td>\n",
       "      <td>женат / замужем</td>\n",
       "      <td>0</td>\n",
       "      <td>M</td>\n",
       "      <td>сотрудник</td>\n",
       "      <td>0</td>\n",
       "      <td>145885.952297</td>\n",
       "      <td>покупка жилья</td>\n",
       "      <td>до 33 лет</td>\n",
       "    </tr>\n",
       "    <tr>\n",
       "      <td>3</td>\n",
       "      <td>3</td>\n",
       "      <td>-4124.747207</td>\n",
       "      <td>32</td>\n",
       "      <td>среднее</td>\n",
       "      <td>1</td>\n",
       "      <td>женат / замужем</td>\n",
       "      <td>0</td>\n",
       "      <td>M</td>\n",
       "      <td>сотрудник</td>\n",
       "      <td>0</td>\n",
       "      <td>267628.550329</td>\n",
       "      <td>дополнительное образование</td>\n",
       "      <td>до 33 лет</td>\n",
       "    </tr>\n",
       "    <tr>\n",
       "      <td>4</td>\n",
       "      <td>0</td>\n",
       "      <td>340266.072047</td>\n",
       "      <td>53</td>\n",
       "      <td>среднее</td>\n",
       "      <td>1</td>\n",
       "      <td>гражданский брак</td>\n",
       "      <td>1</td>\n",
       "      <td>F</td>\n",
       "      <td>пенсионер</td>\n",
       "      <td>0</td>\n",
       "      <td>158616.077870</td>\n",
       "      <td>сыграть свадьбу</td>\n",
       "      <td>до 61 года</td>\n",
       "    </tr>\n",
       "    <tr>\n",
       "      <td>5</td>\n",
       "      <td>0</td>\n",
       "      <td>-926.185831</td>\n",
       "      <td>27</td>\n",
       "      <td>высшее</td>\n",
       "      <td>0</td>\n",
       "      <td>гражданский брак</td>\n",
       "      <td>1</td>\n",
       "      <td>M</td>\n",
       "      <td>компаньон</td>\n",
       "      <td>0</td>\n",
       "      <td>255763.565419</td>\n",
       "      <td>покупка жилья</td>\n",
       "      <td>до 33 лет</td>\n",
       "    </tr>\n",
       "    <tr>\n",
       "      <td>6</td>\n",
       "      <td>0</td>\n",
       "      <td>-2879.202052</td>\n",
       "      <td>43</td>\n",
       "      <td>высшее</td>\n",
       "      <td>0</td>\n",
       "      <td>женат / замужем</td>\n",
       "      <td>0</td>\n",
       "      <td>F</td>\n",
       "      <td>компаньон</td>\n",
       "      <td>0</td>\n",
       "      <td>240525.971920</td>\n",
       "      <td>операции с жильем</td>\n",
       "      <td>до 47 лет</td>\n",
       "    </tr>\n",
       "    <tr>\n",
       "      <td>7</td>\n",
       "      <td>0</td>\n",
       "      <td>-152.779569</td>\n",
       "      <td>50</td>\n",
       "      <td>СРЕДНЕЕ</td>\n",
       "      <td>1</td>\n",
       "      <td>женат / замужем</td>\n",
       "      <td>0</td>\n",
       "      <td>M</td>\n",
       "      <td>сотрудник</td>\n",
       "      <td>0</td>\n",
       "      <td>135823.934197</td>\n",
       "      <td>образование</td>\n",
       "      <td>до 61 года</td>\n",
       "    </tr>\n",
       "    <tr>\n",
       "      <td>8</td>\n",
       "      <td>2</td>\n",
       "      <td>-6929.865299</td>\n",
       "      <td>35</td>\n",
       "      <td>ВЫСШЕЕ</td>\n",
       "      <td>0</td>\n",
       "      <td>гражданский брак</td>\n",
       "      <td>1</td>\n",
       "      <td>F</td>\n",
       "      <td>сотрудник</td>\n",
       "      <td>0</td>\n",
       "      <td>95856.832424</td>\n",
       "      <td>на проведение свадьбы</td>\n",
       "      <td>до 47 лет</td>\n",
       "    </tr>\n",
       "    <tr>\n",
       "      <td>9</td>\n",
       "      <td>0</td>\n",
       "      <td>-2188.756445</td>\n",
       "      <td>41</td>\n",
       "      <td>среднее</td>\n",
       "      <td>1</td>\n",
       "      <td>женат / замужем</td>\n",
       "      <td>0</td>\n",
       "      <td>M</td>\n",
       "      <td>сотрудник</td>\n",
       "      <td>0</td>\n",
       "      <td>144425.938277</td>\n",
       "      <td>покупка жилья для семьи</td>\n",
       "      <td>до 47 лет</td>\n",
       "    </tr>\n",
       "    <tr>\n",
       "      <td>10</td>\n",
       "      <td>2</td>\n",
       "      <td>-4171.483647</td>\n",
       "      <td>36</td>\n",
       "      <td>высшее</td>\n",
       "      <td>0</td>\n",
       "      <td>женат / замужем</td>\n",
       "      <td>0</td>\n",
       "      <td>M</td>\n",
       "      <td>компаньон</td>\n",
       "      <td>0</td>\n",
       "      <td>113943.491460</td>\n",
       "      <td>покупка недвижимости</td>\n",
       "      <td>до 47 лет</td>\n",
       "    </tr>\n",
       "    <tr>\n",
       "      <td>11</td>\n",
       "      <td>0</td>\n",
       "      <td>-792.701887</td>\n",
       "      <td>40</td>\n",
       "      <td>среднее</td>\n",
       "      <td>1</td>\n",
       "      <td>женат / замужем</td>\n",
       "      <td>0</td>\n",
       "      <td>F</td>\n",
       "      <td>сотрудник</td>\n",
       "      <td>0</td>\n",
       "      <td>77069.234271</td>\n",
       "      <td>покупка коммерческой недвижимости</td>\n",
       "      <td>до 47 лет</td>\n",
       "    </tr>\n",
       "    <tr>\n",
       "      <td>12</td>\n",
       "      <td>0</td>\n",
       "      <td>NaN</td>\n",
       "      <td>65</td>\n",
       "      <td>среднее</td>\n",
       "      <td>1</td>\n",
       "      <td>гражданский брак</td>\n",
       "      <td>1</td>\n",
       "      <td>M</td>\n",
       "      <td>пенсионер</td>\n",
       "      <td>0</td>\n",
       "      <td>118480.837408</td>\n",
       "      <td>сыграть свадьбу</td>\n",
       "      <td>от 61 года</td>\n",
       "    </tr>\n",
       "    <tr>\n",
       "      <td>13</td>\n",
       "      <td>0</td>\n",
       "      <td>-1846.641941</td>\n",
       "      <td>54</td>\n",
       "      <td>неоконченное высшее</td>\n",
       "      <td>2</td>\n",
       "      <td>женат / замужем</td>\n",
       "      <td>0</td>\n",
       "      <td>F</td>\n",
       "      <td>сотрудник</td>\n",
       "      <td>0</td>\n",
       "      <td>130458.228857</td>\n",
       "      <td>приобретение автомобиля</td>\n",
       "      <td>от 61 года</td>\n",
       "    </tr>\n",
       "    <tr>\n",
       "      <td>14</td>\n",
       "      <td>0</td>\n",
       "      <td>-1844.956182</td>\n",
       "      <td>56</td>\n",
       "      <td>высшее</td>\n",
       "      <td>0</td>\n",
       "      <td>гражданский брак</td>\n",
       "      <td>1</td>\n",
       "      <td>F</td>\n",
       "      <td>компаньон</td>\n",
       "      <td>1</td>\n",
       "      <td>165127.911772</td>\n",
       "      <td>покупка жилой недвижимости</td>\n",
       "      <td>от 61 года</td>\n",
       "    </tr>\n",
       "  </tbody>\n",
       "</table>\n",
       "</div>"
      ],
      "text/plain": [
       "    children  days_employed  dob_years            education  education_id  \\\n",
       "0          1   -8437.673028         42               высшее             0   \n",
       "1          1   -4024.803754         36              среднее             1   \n",
       "2          0   -5623.422610         33              Среднее             1   \n",
       "3          3   -4124.747207         32              среднее             1   \n",
       "4          0  340266.072047         53              среднее             1   \n",
       "5          0    -926.185831         27               высшее             0   \n",
       "6          0   -2879.202052         43               высшее             0   \n",
       "7          0    -152.779569         50              СРЕДНЕЕ             1   \n",
       "8          2   -6929.865299         35               ВЫСШЕЕ             0   \n",
       "9          0   -2188.756445         41              среднее             1   \n",
       "10         2   -4171.483647         36               высшее             0   \n",
       "11         0    -792.701887         40              среднее             1   \n",
       "12         0            NaN         65              среднее             1   \n",
       "13         0   -1846.641941         54  неоконченное высшее             2   \n",
       "14         0   -1844.956182         56               высшее             0   \n",
       "\n",
       "       family_status  family_status_id gender income_type  debt  \\\n",
       "0    женат / замужем                 0      F   сотрудник     0   \n",
       "1    женат / замужем                 0      F   сотрудник     0   \n",
       "2    женат / замужем                 0      M   сотрудник     0   \n",
       "3    женат / замужем                 0      M   сотрудник     0   \n",
       "4   гражданский брак                 1      F   пенсионер     0   \n",
       "5   гражданский брак                 1      M   компаньон     0   \n",
       "6    женат / замужем                 0      F   компаньон     0   \n",
       "7    женат / замужем                 0      M   сотрудник     0   \n",
       "8   гражданский брак                 1      F   сотрудник     0   \n",
       "9    женат / замужем                 0      M   сотрудник     0   \n",
       "10   женат / замужем                 0      M   компаньон     0   \n",
       "11   женат / замужем                 0      F   сотрудник     0   \n",
       "12  гражданский брак                 1      M   пенсионер     0   \n",
       "13   женат / замужем                 0      F   сотрудник     0   \n",
       "14  гражданский брак                 1      F   компаньон     1   \n",
       "\n",
       "     total_income                            purpose   age_level  \n",
       "0   253875.639453                      покупка жилья   до 47 лет  \n",
       "1   112080.014102            приобретение автомобиля   до 47 лет  \n",
       "2   145885.952297                      покупка жилья   до 33 лет  \n",
       "3   267628.550329         дополнительное образование   до 33 лет  \n",
       "4   158616.077870                    сыграть свадьбу  до 61 года  \n",
       "5   255763.565419                      покупка жилья   до 33 лет  \n",
       "6   240525.971920                  операции с жильем   до 47 лет  \n",
       "7   135823.934197                        образование  до 61 года  \n",
       "8    95856.832424              на проведение свадьбы   до 47 лет  \n",
       "9   144425.938277            покупка жилья для семьи   до 47 лет  \n",
       "10  113943.491460               покупка недвижимости   до 47 лет  \n",
       "11   77069.234271  покупка коммерческой недвижимости   до 47 лет  \n",
       "12  118480.837408                    сыграть свадьбу  от 61 года  \n",
       "13  130458.228857            приобретение автомобиля  от 61 года  \n",
       "14  165127.911772         покупка жилой недвижимости  от 61 года  "
      ]
     },
     "metadata": {},
     "output_type": "display_data"
    }
   ],
   "source": [
    "labels_age = ['до 33 лет', 'до 47 лет', 'до 61 года', 'от 61 года']\n",
    "data['age_level'] = pd.qcut(data['dob_years'], q=4, labels=labels_age)\n",
    "display(data.head(15))"
   ]
  },
  {
   "cell_type": "code",
   "execution_count": 19,
   "metadata": {},
   "outputs": [],
   "source": [
    "#Замена значений для людей до 33 лет\n",
    "retiree_median = data[data['age_level'] == 'до 33 лет']['days_employed'].median()\n",
    "data.loc[data['age_level'] == 'до 33 лет', 'days_employed'] = data.loc[data['age_level'] == 'до 33 лет', 'days_employed'].fillna(retiree_median)"
   ]
  },
  {
   "cell_type": "code",
   "execution_count": 20,
   "metadata": {},
   "outputs": [],
   "source": [
    "#Замена значений для людей до 47 лет\n",
    "retiree_median = data[data['age_level'] == 'до 47 лет']['days_employed'].median()\n",
    "data.loc[data['age_level'] == 'до 47 лет', 'days_employed'] = data.loc[data['age_level'] == 'до 47 лет', 'days_employed'].fillna(retiree_median)"
   ]
  },
  {
   "cell_type": "code",
   "execution_count": 21,
   "metadata": {},
   "outputs": [],
   "source": [
    "#Замена значений для людей до 61 года\n",
    "retiree_median = data[data['age_level'] == 'до 61 года']['days_employed'].median()\n",
    "data.loc[data['age_level'] == 'до 61 года', 'days_employed'] = data.loc[data['age_level'] == 'до 61 года', 'days_employed'].fillna(retiree_median)"
   ]
  },
  {
   "cell_type": "code",
   "execution_count": 22,
   "metadata": {},
   "outputs": [],
   "source": [
    "#Замена значений для людей от 61 года\n",
    "retiree_median = data[data['age_level'] == 'от 61 года']['days_employed'].median()\n",
    "data.loc[data['age_level'] == 'от 61 года', 'days_employed'] = data.loc[data['age_level'] == 'от 61 года', 'days_employed'].fillna(retiree_median)"
   ]
  },
  {
   "cell_type": "code",
   "execution_count": 23,
   "metadata": {},
   "outputs": [
    {
     "data": {
      "text/plain": [
       "children            0\n",
       "days_employed       0\n",
       "dob_years           0\n",
       "education           0\n",
       "education_id        0\n",
       "family_status       0\n",
       "family_status_id    0\n",
       "gender              0\n",
       "income_type         0\n",
       "debt                0\n",
       "total_income        0\n",
       "purpose             0\n",
       "age_level           0\n",
       "dtype: int64"
      ]
     },
     "execution_count": 23,
     "metadata": {},
     "output_type": "execute_result"
    }
   ],
   "source": [
    "data.isna().sum()"
   ]
  },
  {
   "cell_type": "markdown",
   "metadata": {},
   "source": [
    "**Вывод**"
   ]
  },
  {
   "cell_type": "markdown",
   "metadata": {},
   "source": [
    "Были обнаружены пропуски в колонках 'days_employed' и 'total_income'. Пропуски могли появиться по причине утери данных при переносе таблицы или же не были указаны. Пропуски были заполнены с помощью группировки данных, а именно 'dob_years' был заполнен с группировкой по возрасту. А 'total_income' с группировкой по 'income_type'"
   ]
  },
  {
   "cell_type": "markdown",
   "metadata": {},
   "source": [
    "### Замена типа данных"
   ]
  },
  {
   "cell_type": "code",
   "execution_count": 24,
   "metadata": {},
   "outputs": [
    {
     "data": {
      "text/html": [
       "<div>\n",
       "<style scoped>\n",
       "    .dataframe tbody tr th:only-of-type {\n",
       "        vertical-align: middle;\n",
       "    }\n",
       "\n",
       "    .dataframe tbody tr th {\n",
       "        vertical-align: top;\n",
       "    }\n",
       "\n",
       "    .dataframe thead th {\n",
       "        text-align: right;\n",
       "    }\n",
       "</style>\n",
       "<table border=\"1\" class=\"dataframe\">\n",
       "  <thead>\n",
       "    <tr style=\"text-align: right;\">\n",
       "      <th></th>\n",
       "      <th>children</th>\n",
       "      <th>days_employed</th>\n",
       "      <th>dob_years</th>\n",
       "      <th>education</th>\n",
       "      <th>education_id</th>\n",
       "      <th>family_status</th>\n",
       "      <th>family_status_id</th>\n",
       "      <th>gender</th>\n",
       "      <th>income_type</th>\n",
       "      <th>debt</th>\n",
       "      <th>total_income</th>\n",
       "      <th>purpose</th>\n",
       "      <th>age_level</th>\n",
       "    </tr>\n",
       "  </thead>\n",
       "  <tbody>\n",
       "    <tr>\n",
       "      <td>0</td>\n",
       "      <td>1</td>\n",
       "      <td>-8437</td>\n",
       "      <td>42</td>\n",
       "      <td>высшее</td>\n",
       "      <td>0</td>\n",
       "      <td>женат / замужем</td>\n",
       "      <td>0</td>\n",
       "      <td>F</td>\n",
       "      <td>сотрудник</td>\n",
       "      <td>0</td>\n",
       "      <td>253875.639453</td>\n",
       "      <td>покупка жилья</td>\n",
       "      <td>до 47 лет</td>\n",
       "    </tr>\n",
       "    <tr>\n",
       "      <td>1</td>\n",
       "      <td>1</td>\n",
       "      <td>-4024</td>\n",
       "      <td>36</td>\n",
       "      <td>среднее</td>\n",
       "      <td>1</td>\n",
       "      <td>женат / замужем</td>\n",
       "      <td>0</td>\n",
       "      <td>F</td>\n",
       "      <td>сотрудник</td>\n",
       "      <td>0</td>\n",
       "      <td>112080.014102</td>\n",
       "      <td>приобретение автомобиля</td>\n",
       "      <td>до 47 лет</td>\n",
       "    </tr>\n",
       "    <tr>\n",
       "      <td>2</td>\n",
       "      <td>0</td>\n",
       "      <td>-5623</td>\n",
       "      <td>33</td>\n",
       "      <td>Среднее</td>\n",
       "      <td>1</td>\n",
       "      <td>женат / замужем</td>\n",
       "      <td>0</td>\n",
       "      <td>M</td>\n",
       "      <td>сотрудник</td>\n",
       "      <td>0</td>\n",
       "      <td>145885.952297</td>\n",
       "      <td>покупка жилья</td>\n",
       "      <td>до 33 лет</td>\n",
       "    </tr>\n",
       "    <tr>\n",
       "      <td>3</td>\n",
       "      <td>3</td>\n",
       "      <td>-4124</td>\n",
       "      <td>32</td>\n",
       "      <td>среднее</td>\n",
       "      <td>1</td>\n",
       "      <td>женат / замужем</td>\n",
       "      <td>0</td>\n",
       "      <td>M</td>\n",
       "      <td>сотрудник</td>\n",
       "      <td>0</td>\n",
       "      <td>267628.550329</td>\n",
       "      <td>дополнительное образование</td>\n",
       "      <td>до 33 лет</td>\n",
       "    </tr>\n",
       "    <tr>\n",
       "      <td>4</td>\n",
       "      <td>0</td>\n",
       "      <td>340266</td>\n",
       "      <td>53</td>\n",
       "      <td>среднее</td>\n",
       "      <td>1</td>\n",
       "      <td>гражданский брак</td>\n",
       "      <td>1</td>\n",
       "      <td>F</td>\n",
       "      <td>пенсионер</td>\n",
       "      <td>0</td>\n",
       "      <td>158616.077870</td>\n",
       "      <td>сыграть свадьбу</td>\n",
       "      <td>до 61 года</td>\n",
       "    </tr>\n",
       "  </tbody>\n",
       "</table>\n",
       "</div>"
      ],
      "text/plain": [
       "   children  days_employed  dob_years education  education_id  \\\n",
       "0         1          -8437         42    высшее             0   \n",
       "1         1          -4024         36   среднее             1   \n",
       "2         0          -5623         33   Среднее             1   \n",
       "3         3          -4124         32   среднее             1   \n",
       "4         0         340266         53   среднее             1   \n",
       "\n",
       "      family_status  family_status_id gender income_type  debt   total_income  \\\n",
       "0   женат / замужем                 0      F   сотрудник     0  253875.639453   \n",
       "1   женат / замужем                 0      F   сотрудник     0  112080.014102   \n",
       "2   женат / замужем                 0      M   сотрудник     0  145885.952297   \n",
       "3   женат / замужем                 0      M   сотрудник     0  267628.550329   \n",
       "4  гражданский брак                 1      F   пенсионер     0  158616.077870   \n",
       "\n",
       "                      purpose   age_level  \n",
       "0               покупка жилья   до 47 лет  \n",
       "1     приобретение автомобиля   до 47 лет  \n",
       "2               покупка жилья   до 33 лет  \n",
       "3  дополнительное образование   до 33 лет  \n",
       "4             сыграть свадьбу  до 61 года  "
      ]
     },
     "metadata": {},
     "output_type": "display_data"
    }
   ],
   "source": [
    "data['days_employed'] = data['days_employed'].astype('int')\n",
    "display(data.head())"
   ]
  },
  {
   "cell_type": "code",
   "execution_count": 25,
   "metadata": {},
   "outputs": [
    {
     "data": {
      "text/html": [
       "<div>\n",
       "<style scoped>\n",
       "    .dataframe tbody tr th:only-of-type {\n",
       "        vertical-align: middle;\n",
       "    }\n",
       "\n",
       "    .dataframe tbody tr th {\n",
       "        vertical-align: top;\n",
       "    }\n",
       "\n",
       "    .dataframe thead th {\n",
       "        text-align: right;\n",
       "    }\n",
       "</style>\n",
       "<table border=\"1\" class=\"dataframe\">\n",
       "  <thead>\n",
       "    <tr style=\"text-align: right;\">\n",
       "      <th></th>\n",
       "      <th>children</th>\n",
       "      <th>days_employed</th>\n",
       "      <th>dob_years</th>\n",
       "      <th>education</th>\n",
       "      <th>education_id</th>\n",
       "      <th>family_status</th>\n",
       "      <th>family_status_id</th>\n",
       "      <th>gender</th>\n",
       "      <th>income_type</th>\n",
       "      <th>debt</th>\n",
       "      <th>total_income</th>\n",
       "      <th>purpose</th>\n",
       "      <th>age_level</th>\n",
       "    </tr>\n",
       "  </thead>\n",
       "  <tbody>\n",
       "    <tr>\n",
       "      <td>0</td>\n",
       "      <td>1</td>\n",
       "      <td>-8437</td>\n",
       "      <td>42</td>\n",
       "      <td>высшее</td>\n",
       "      <td>0</td>\n",
       "      <td>женат / замужем</td>\n",
       "      <td>0</td>\n",
       "      <td>F</td>\n",
       "      <td>сотрудник</td>\n",
       "      <td>0</td>\n",
       "      <td>253875</td>\n",
       "      <td>покупка жилья</td>\n",
       "      <td>до 47 лет</td>\n",
       "    </tr>\n",
       "    <tr>\n",
       "      <td>1</td>\n",
       "      <td>1</td>\n",
       "      <td>-4024</td>\n",
       "      <td>36</td>\n",
       "      <td>среднее</td>\n",
       "      <td>1</td>\n",
       "      <td>женат / замужем</td>\n",
       "      <td>0</td>\n",
       "      <td>F</td>\n",
       "      <td>сотрудник</td>\n",
       "      <td>0</td>\n",
       "      <td>112080</td>\n",
       "      <td>приобретение автомобиля</td>\n",
       "      <td>до 47 лет</td>\n",
       "    </tr>\n",
       "    <tr>\n",
       "      <td>2</td>\n",
       "      <td>0</td>\n",
       "      <td>-5623</td>\n",
       "      <td>33</td>\n",
       "      <td>Среднее</td>\n",
       "      <td>1</td>\n",
       "      <td>женат / замужем</td>\n",
       "      <td>0</td>\n",
       "      <td>M</td>\n",
       "      <td>сотрудник</td>\n",
       "      <td>0</td>\n",
       "      <td>145885</td>\n",
       "      <td>покупка жилья</td>\n",
       "      <td>до 33 лет</td>\n",
       "    </tr>\n",
       "    <tr>\n",
       "      <td>3</td>\n",
       "      <td>3</td>\n",
       "      <td>-4124</td>\n",
       "      <td>32</td>\n",
       "      <td>среднее</td>\n",
       "      <td>1</td>\n",
       "      <td>женат / замужем</td>\n",
       "      <td>0</td>\n",
       "      <td>M</td>\n",
       "      <td>сотрудник</td>\n",
       "      <td>0</td>\n",
       "      <td>267628</td>\n",
       "      <td>дополнительное образование</td>\n",
       "      <td>до 33 лет</td>\n",
       "    </tr>\n",
       "    <tr>\n",
       "      <td>4</td>\n",
       "      <td>0</td>\n",
       "      <td>340266</td>\n",
       "      <td>53</td>\n",
       "      <td>среднее</td>\n",
       "      <td>1</td>\n",
       "      <td>гражданский брак</td>\n",
       "      <td>1</td>\n",
       "      <td>F</td>\n",
       "      <td>пенсионер</td>\n",
       "      <td>0</td>\n",
       "      <td>158616</td>\n",
       "      <td>сыграть свадьбу</td>\n",
       "      <td>до 61 года</td>\n",
       "    </tr>\n",
       "  </tbody>\n",
       "</table>\n",
       "</div>"
      ],
      "text/plain": [
       "   children  days_employed  dob_years education  education_id  \\\n",
       "0         1          -8437         42    высшее             0   \n",
       "1         1          -4024         36   среднее             1   \n",
       "2         0          -5623         33   Среднее             1   \n",
       "3         3          -4124         32   среднее             1   \n",
       "4         0         340266         53   среднее             1   \n",
       "\n",
       "      family_status  family_status_id gender income_type  debt  total_income  \\\n",
       "0   женат / замужем                 0      F   сотрудник     0        253875   \n",
       "1   женат / замужем                 0      F   сотрудник     0        112080   \n",
       "2   женат / замужем                 0      M   сотрудник     0        145885   \n",
       "3   женат / замужем                 0      M   сотрудник     0        267628   \n",
       "4  гражданский брак                 1      F   пенсионер     0        158616   \n",
       "\n",
       "                      purpose   age_level  \n",
       "0               покупка жилья   до 47 лет  \n",
       "1     приобретение автомобиля   до 47 лет  \n",
       "2               покупка жилья   до 33 лет  \n",
       "3  дополнительное образование   до 33 лет  \n",
       "4             сыграть свадьбу  до 61 года  "
      ]
     },
     "metadata": {},
     "output_type": "display_data"
    }
   ],
   "source": [
    "data['total_income'] = data['total_income'].astype('int')\n",
    "display(data.head())"
   ]
  },
  {
   "cell_type": "markdown",
   "metadata": {},
   "source": [
    "**Вывод**"
   ]
  },
  {
   "cell_type": "markdown",
   "metadata": {},
   "source": [
    "Данные в стобцах 'days_employed' и 'total_income' были заменены с вещественного типа данных на целочисленный. Для такого перевода подходит только метод .astype(), потому что может переводить float в int."
   ]
  },
  {
   "cell_type": "markdown",
   "metadata": {},
   "source": [
    "### Обработка дубликатов"
   ]
  },
  {
   "cell_type": "code",
   "execution_count": 26,
   "metadata": {},
   "outputs": [
    {
     "data": {
      "text/plain": [
       "54"
      ]
     },
     "execution_count": 26,
     "metadata": {},
     "output_type": "execute_result"
    }
   ],
   "source": [
    "data['education'].str.lower()\n",
    "data.duplicated().sum()"
   ]
  },
  {
   "cell_type": "code",
   "execution_count": 27,
   "metadata": {},
   "outputs": [
    {
     "data": {
      "text/plain": [
       "0"
      ]
     },
     "execution_count": 27,
     "metadata": {},
     "output_type": "execute_result"
    }
   ],
   "source": [
    "data = data.drop_duplicates()\n",
    "data.duplicated().sum()"
   ]
  },
  {
   "cell_type": "markdown",
   "metadata": {},
   "source": [
    "**Вывод**"
   ]
  },
  {
   "cell_type": "markdown",
   "metadata": {},
   "source": [
    "Для поиска дубликатов был использован метод .duplicated() в сочетании с методом .sum(). Так мы нашли количество явных дубликатов. После чего был использован метод .drop_duplicates() для удаления дубликатов. Скорее всего, появление дубликатов связано с переносом таблицы, из-за чего некоторые данные копировались."
   ]
  },
  {
   "cell_type": "markdown",
   "metadata": {},
   "source": [
    "### Лемматизация"
   ]
  },
  {
   "cell_type": "code",
   "execution_count": 28,
   "metadata": {},
   "outputs": [],
   "source": [
    "from pymystem3 import Mystem\n",
    "m = Mystem()\n",
    "data['education'] = data['education'].str.lower()"
   ]
  },
  {
   "cell_type": "code",
   "execution_count": 29,
   "metadata": {},
   "outputs": [],
   "source": [
    "def change_category(row):\n",
    "    l = m.lemmatize(row)\n",
    "    if 'недвижимость' in l or 'жилье' in l:\n",
    "        return 'недвижимость'\n",
    "    if 'свадьба' in l:\n",
    "        return 'свадьба'\n",
    "    if 'образование' in l:\n",
    "        return 'образование'\n",
    "    if 'автомобиль' in l:\n",
    "        return 'автомобиль'"
   ]
  },
  {
   "cell_type": "code",
   "execution_count": 30,
   "metadata": {},
   "outputs": [],
   "source": [
    "data['purpose'] = data['purpose'].apply(change_category)"
   ]
  },
  {
   "cell_type": "code",
   "execution_count": 31,
   "metadata": {},
   "outputs": [
    {
     "data": {
      "text/html": [
       "<div>\n",
       "<style scoped>\n",
       "    .dataframe tbody tr th:only-of-type {\n",
       "        vertical-align: middle;\n",
       "    }\n",
       "\n",
       "    .dataframe tbody tr th {\n",
       "        vertical-align: top;\n",
       "    }\n",
       "\n",
       "    .dataframe thead th {\n",
       "        text-align: right;\n",
       "    }\n",
       "</style>\n",
       "<table border=\"1\" class=\"dataframe\">\n",
       "  <thead>\n",
       "    <tr style=\"text-align: right;\">\n",
       "      <th></th>\n",
       "      <th>children</th>\n",
       "      <th>days_employed</th>\n",
       "      <th>dob_years</th>\n",
       "      <th>education</th>\n",
       "      <th>education_id</th>\n",
       "      <th>family_status</th>\n",
       "      <th>family_status_id</th>\n",
       "      <th>gender</th>\n",
       "      <th>income_type</th>\n",
       "      <th>debt</th>\n",
       "      <th>total_income</th>\n",
       "      <th>purpose</th>\n",
       "      <th>age_level</th>\n",
       "    </tr>\n",
       "  </thead>\n",
       "  <tbody>\n",
       "    <tr>\n",
       "      <td>0</td>\n",
       "      <td>1</td>\n",
       "      <td>-8437</td>\n",
       "      <td>42</td>\n",
       "      <td>высшее</td>\n",
       "      <td>0</td>\n",
       "      <td>женат / замужем</td>\n",
       "      <td>0</td>\n",
       "      <td>F</td>\n",
       "      <td>сотрудник</td>\n",
       "      <td>0</td>\n",
       "      <td>253875</td>\n",
       "      <td>недвижимость</td>\n",
       "      <td>до 47 лет</td>\n",
       "    </tr>\n",
       "    <tr>\n",
       "      <td>1</td>\n",
       "      <td>1</td>\n",
       "      <td>-4024</td>\n",
       "      <td>36</td>\n",
       "      <td>среднее</td>\n",
       "      <td>1</td>\n",
       "      <td>женат / замужем</td>\n",
       "      <td>0</td>\n",
       "      <td>F</td>\n",
       "      <td>сотрудник</td>\n",
       "      <td>0</td>\n",
       "      <td>112080</td>\n",
       "      <td>автомобиль</td>\n",
       "      <td>до 47 лет</td>\n",
       "    </tr>\n",
       "    <tr>\n",
       "      <td>2</td>\n",
       "      <td>0</td>\n",
       "      <td>-5623</td>\n",
       "      <td>33</td>\n",
       "      <td>среднее</td>\n",
       "      <td>1</td>\n",
       "      <td>женат / замужем</td>\n",
       "      <td>0</td>\n",
       "      <td>M</td>\n",
       "      <td>сотрудник</td>\n",
       "      <td>0</td>\n",
       "      <td>145885</td>\n",
       "      <td>недвижимость</td>\n",
       "      <td>до 33 лет</td>\n",
       "    </tr>\n",
       "    <tr>\n",
       "      <td>3</td>\n",
       "      <td>3</td>\n",
       "      <td>-4124</td>\n",
       "      <td>32</td>\n",
       "      <td>среднее</td>\n",
       "      <td>1</td>\n",
       "      <td>женат / замужем</td>\n",
       "      <td>0</td>\n",
       "      <td>M</td>\n",
       "      <td>сотрудник</td>\n",
       "      <td>0</td>\n",
       "      <td>267628</td>\n",
       "      <td>образование</td>\n",
       "      <td>до 33 лет</td>\n",
       "    </tr>\n",
       "    <tr>\n",
       "      <td>4</td>\n",
       "      <td>0</td>\n",
       "      <td>340266</td>\n",
       "      <td>53</td>\n",
       "      <td>среднее</td>\n",
       "      <td>1</td>\n",
       "      <td>гражданский брак</td>\n",
       "      <td>1</td>\n",
       "      <td>F</td>\n",
       "      <td>пенсионер</td>\n",
       "      <td>0</td>\n",
       "      <td>158616</td>\n",
       "      <td>свадьба</td>\n",
       "      <td>до 61 года</td>\n",
       "    </tr>\n",
       "    <tr>\n",
       "      <td>5</td>\n",
       "      <td>0</td>\n",
       "      <td>-926</td>\n",
       "      <td>27</td>\n",
       "      <td>высшее</td>\n",
       "      <td>0</td>\n",
       "      <td>гражданский брак</td>\n",
       "      <td>1</td>\n",
       "      <td>M</td>\n",
       "      <td>компаньон</td>\n",
       "      <td>0</td>\n",
       "      <td>255763</td>\n",
       "      <td>недвижимость</td>\n",
       "      <td>до 33 лет</td>\n",
       "    </tr>\n",
       "    <tr>\n",
       "      <td>6</td>\n",
       "      <td>0</td>\n",
       "      <td>-2879</td>\n",
       "      <td>43</td>\n",
       "      <td>высшее</td>\n",
       "      <td>0</td>\n",
       "      <td>женат / замужем</td>\n",
       "      <td>0</td>\n",
       "      <td>F</td>\n",
       "      <td>компаньон</td>\n",
       "      <td>0</td>\n",
       "      <td>240525</td>\n",
       "      <td>недвижимость</td>\n",
       "      <td>до 47 лет</td>\n",
       "    </tr>\n",
       "    <tr>\n",
       "      <td>7</td>\n",
       "      <td>0</td>\n",
       "      <td>-152</td>\n",
       "      <td>50</td>\n",
       "      <td>среднее</td>\n",
       "      <td>1</td>\n",
       "      <td>женат / замужем</td>\n",
       "      <td>0</td>\n",
       "      <td>M</td>\n",
       "      <td>сотрудник</td>\n",
       "      <td>0</td>\n",
       "      <td>135823</td>\n",
       "      <td>образование</td>\n",
       "      <td>до 61 года</td>\n",
       "    </tr>\n",
       "    <tr>\n",
       "      <td>8</td>\n",
       "      <td>2</td>\n",
       "      <td>-6929</td>\n",
       "      <td>35</td>\n",
       "      <td>высшее</td>\n",
       "      <td>0</td>\n",
       "      <td>гражданский брак</td>\n",
       "      <td>1</td>\n",
       "      <td>F</td>\n",
       "      <td>сотрудник</td>\n",
       "      <td>0</td>\n",
       "      <td>95856</td>\n",
       "      <td>свадьба</td>\n",
       "      <td>до 47 лет</td>\n",
       "    </tr>\n",
       "    <tr>\n",
       "      <td>9</td>\n",
       "      <td>0</td>\n",
       "      <td>-2188</td>\n",
       "      <td>41</td>\n",
       "      <td>среднее</td>\n",
       "      <td>1</td>\n",
       "      <td>женат / замужем</td>\n",
       "      <td>0</td>\n",
       "      <td>M</td>\n",
       "      <td>сотрудник</td>\n",
       "      <td>0</td>\n",
       "      <td>144425</td>\n",
       "      <td>недвижимость</td>\n",
       "      <td>до 47 лет</td>\n",
       "    </tr>\n",
       "    <tr>\n",
       "      <td>10</td>\n",
       "      <td>2</td>\n",
       "      <td>-4171</td>\n",
       "      <td>36</td>\n",
       "      <td>высшее</td>\n",
       "      <td>0</td>\n",
       "      <td>женат / замужем</td>\n",
       "      <td>0</td>\n",
       "      <td>M</td>\n",
       "      <td>компаньон</td>\n",
       "      <td>0</td>\n",
       "      <td>113943</td>\n",
       "      <td>недвижимость</td>\n",
       "      <td>до 47 лет</td>\n",
       "    </tr>\n",
       "    <tr>\n",
       "      <td>11</td>\n",
       "      <td>0</td>\n",
       "      <td>-792</td>\n",
       "      <td>40</td>\n",
       "      <td>среднее</td>\n",
       "      <td>1</td>\n",
       "      <td>женат / замужем</td>\n",
       "      <td>0</td>\n",
       "      <td>F</td>\n",
       "      <td>сотрудник</td>\n",
       "      <td>0</td>\n",
       "      <td>77069</td>\n",
       "      <td>недвижимость</td>\n",
       "      <td>до 47 лет</td>\n",
       "    </tr>\n",
       "    <tr>\n",
       "      <td>12</td>\n",
       "      <td>0</td>\n",
       "      <td>342876</td>\n",
       "      <td>65</td>\n",
       "      <td>среднее</td>\n",
       "      <td>1</td>\n",
       "      <td>гражданский брак</td>\n",
       "      <td>1</td>\n",
       "      <td>M</td>\n",
       "      <td>пенсионер</td>\n",
       "      <td>0</td>\n",
       "      <td>118480</td>\n",
       "      <td>свадьба</td>\n",
       "      <td>от 61 года</td>\n",
       "    </tr>\n",
       "    <tr>\n",
       "      <td>13</td>\n",
       "      <td>0</td>\n",
       "      <td>-1846</td>\n",
       "      <td>54</td>\n",
       "      <td>неоконченное высшее</td>\n",
       "      <td>2</td>\n",
       "      <td>женат / замужем</td>\n",
       "      <td>0</td>\n",
       "      <td>F</td>\n",
       "      <td>сотрудник</td>\n",
       "      <td>0</td>\n",
       "      <td>130458</td>\n",
       "      <td>автомобиль</td>\n",
       "      <td>от 61 года</td>\n",
       "    </tr>\n",
       "    <tr>\n",
       "      <td>14</td>\n",
       "      <td>0</td>\n",
       "      <td>-1844</td>\n",
       "      <td>56</td>\n",
       "      <td>высшее</td>\n",
       "      <td>0</td>\n",
       "      <td>гражданский брак</td>\n",
       "      <td>1</td>\n",
       "      <td>F</td>\n",
       "      <td>компаньон</td>\n",
       "      <td>1</td>\n",
       "      <td>165127</td>\n",
       "      <td>недвижимость</td>\n",
       "      <td>от 61 года</td>\n",
       "    </tr>\n",
       "    <tr>\n",
       "      <td>15</td>\n",
       "      <td>1</td>\n",
       "      <td>-972</td>\n",
       "      <td>26</td>\n",
       "      <td>среднее</td>\n",
       "      <td>1</td>\n",
       "      <td>женат / замужем</td>\n",
       "      <td>0</td>\n",
       "      <td>F</td>\n",
       "      <td>сотрудник</td>\n",
       "      <td>0</td>\n",
       "      <td>116820</td>\n",
       "      <td>недвижимость</td>\n",
       "      <td>до 33 лет</td>\n",
       "    </tr>\n",
       "    <tr>\n",
       "      <td>16</td>\n",
       "      <td>0</td>\n",
       "      <td>-1719</td>\n",
       "      <td>35</td>\n",
       "      <td>среднее</td>\n",
       "      <td>1</td>\n",
       "      <td>женат / замужем</td>\n",
       "      <td>0</td>\n",
       "      <td>F</td>\n",
       "      <td>сотрудник</td>\n",
       "      <td>0</td>\n",
       "      <td>289202</td>\n",
       "      <td>недвижимость</td>\n",
       "      <td>до 47 лет</td>\n",
       "    </tr>\n",
       "    <tr>\n",
       "      <td>17</td>\n",
       "      <td>0</td>\n",
       "      <td>-2369</td>\n",
       "      <td>33</td>\n",
       "      <td>высшее</td>\n",
       "      <td>0</td>\n",
       "      <td>гражданский брак</td>\n",
       "      <td>1</td>\n",
       "      <td>M</td>\n",
       "      <td>сотрудник</td>\n",
       "      <td>0</td>\n",
       "      <td>90410</td>\n",
       "      <td>недвижимость</td>\n",
       "      <td>до 33 лет</td>\n",
       "    </tr>\n",
       "    <tr>\n",
       "      <td>18</td>\n",
       "      <td>0</td>\n",
       "      <td>400281</td>\n",
       "      <td>53</td>\n",
       "      <td>среднее</td>\n",
       "      <td>1</td>\n",
       "      <td>вдовец / вдова</td>\n",
       "      <td>2</td>\n",
       "      <td>F</td>\n",
       "      <td>пенсионер</td>\n",
       "      <td>0</td>\n",
       "      <td>56823</td>\n",
       "      <td>автомобиль</td>\n",
       "      <td>до 61 года</td>\n",
       "    </tr>\n",
       "    <tr>\n",
       "      <td>19</td>\n",
       "      <td>0</td>\n",
       "      <td>-10038</td>\n",
       "      <td>48</td>\n",
       "      <td>среднее</td>\n",
       "      <td>1</td>\n",
       "      <td>в разводе</td>\n",
       "      <td>3</td>\n",
       "      <td>F</td>\n",
       "      <td>сотрудник</td>\n",
       "      <td>0</td>\n",
       "      <td>242831</td>\n",
       "      <td>автомобиль</td>\n",
       "      <td>до 61 года</td>\n",
       "    </tr>\n",
       "  </tbody>\n",
       "</table>\n",
       "</div>"
      ],
      "text/plain": [
       "    children  days_employed  dob_years            education  education_id  \\\n",
       "0          1          -8437         42               высшее             0   \n",
       "1          1          -4024         36              среднее             1   \n",
       "2          0          -5623         33              среднее             1   \n",
       "3          3          -4124         32              среднее             1   \n",
       "4          0         340266         53              среднее             1   \n",
       "5          0           -926         27               высшее             0   \n",
       "6          0          -2879         43               высшее             0   \n",
       "7          0           -152         50              среднее             1   \n",
       "8          2          -6929         35               высшее             0   \n",
       "9          0          -2188         41              среднее             1   \n",
       "10         2          -4171         36               высшее             0   \n",
       "11         0           -792         40              среднее             1   \n",
       "12         0         342876         65              среднее             1   \n",
       "13         0          -1846         54  неоконченное высшее             2   \n",
       "14         0          -1844         56               высшее             0   \n",
       "15         1           -972         26              среднее             1   \n",
       "16         0          -1719         35              среднее             1   \n",
       "17         0          -2369         33               высшее             0   \n",
       "18         0         400281         53              среднее             1   \n",
       "19         0         -10038         48              среднее             1   \n",
       "\n",
       "       family_status  family_status_id gender income_type  debt  total_income  \\\n",
       "0    женат / замужем                 0      F   сотрудник     0        253875   \n",
       "1    женат / замужем                 0      F   сотрудник     0        112080   \n",
       "2    женат / замужем                 0      M   сотрудник     0        145885   \n",
       "3    женат / замужем                 0      M   сотрудник     0        267628   \n",
       "4   гражданский брак                 1      F   пенсионер     0        158616   \n",
       "5   гражданский брак                 1      M   компаньон     0        255763   \n",
       "6    женат / замужем                 0      F   компаньон     0        240525   \n",
       "7    женат / замужем                 0      M   сотрудник     0        135823   \n",
       "8   гражданский брак                 1      F   сотрудник     0         95856   \n",
       "9    женат / замужем                 0      M   сотрудник     0        144425   \n",
       "10   женат / замужем                 0      M   компаньон     0        113943   \n",
       "11   женат / замужем                 0      F   сотрудник     0         77069   \n",
       "12  гражданский брак                 1      M   пенсионер     0        118480   \n",
       "13   женат / замужем                 0      F   сотрудник     0        130458   \n",
       "14  гражданский брак                 1      F   компаньон     1        165127   \n",
       "15   женат / замужем                 0      F   сотрудник     0        116820   \n",
       "16   женат / замужем                 0      F   сотрудник     0        289202   \n",
       "17  гражданский брак                 1      M   сотрудник     0         90410   \n",
       "18    вдовец / вдова                 2      F   пенсионер     0         56823   \n",
       "19         в разводе                 3      F   сотрудник     0        242831   \n",
       "\n",
       "         purpose   age_level  \n",
       "0   недвижимость   до 47 лет  \n",
       "1     автомобиль   до 47 лет  \n",
       "2   недвижимость   до 33 лет  \n",
       "3    образование   до 33 лет  \n",
       "4        свадьба  до 61 года  \n",
       "5   недвижимость   до 33 лет  \n",
       "6   недвижимость   до 47 лет  \n",
       "7    образование  до 61 года  \n",
       "8        свадьба   до 47 лет  \n",
       "9   недвижимость   до 47 лет  \n",
       "10  недвижимость   до 47 лет  \n",
       "11  недвижимость   до 47 лет  \n",
       "12       свадьба  от 61 года  \n",
       "13    автомобиль  от 61 года  \n",
       "14  недвижимость  от 61 года  \n",
       "15  недвижимость   до 33 лет  \n",
       "16  недвижимость   до 47 лет  \n",
       "17  недвижимость   до 33 лет  \n",
       "18    автомобиль  до 61 года  \n",
       "19    автомобиль  до 61 года  "
      ]
     },
     "metadata": {},
     "output_type": "display_data"
    }
   ],
   "source": [
    "display(data.head(20))"
   ]
  },
  {
   "cell_type": "markdown",
   "metadata": {},
   "source": [
    "**Вывод**"
   ]
  },
  {
   "cell_type": "markdown",
   "metadata": {},
   "source": [
    "Для лемматизации данных сначала была подключена библиотека pymystem3. После чего была написана функция перебора значений, которая возвращала подходящее значение цели кредита. После чего мы присвоили столбцу со старыми значениями, новый. Ключевые слова я решил выбрать \"Автомобиль\", \"Недвижимость или жилье\", \"Свадьба\", \"Образование\"."
   ]
  },
  {
   "cell_type": "markdown",
   "metadata": {},
   "source": [
    "### Категоризация данных"
   ]
  },
  {
   "cell_type": "code",
   "execution_count": 32,
   "metadata": {
    "scrolled": true
   },
   "outputs": [
    {
     "data": {
      "text/html": [
       "<div>\n",
       "<style scoped>\n",
       "    .dataframe tbody tr th:only-of-type {\n",
       "        vertical-align: middle;\n",
       "    }\n",
       "\n",
       "    .dataframe tbody tr th {\n",
       "        vertical-align: top;\n",
       "    }\n",
       "\n",
       "    .dataframe thead th {\n",
       "        text-align: right;\n",
       "    }\n",
       "</style>\n",
       "<table border=\"1\" class=\"dataframe\">\n",
       "  <thead>\n",
       "    <tr style=\"text-align: right;\">\n",
       "      <th></th>\n",
       "      <th>children</th>\n",
       "      <th>days_employed</th>\n",
       "      <th>dob_years</th>\n",
       "      <th>education</th>\n",
       "      <th>education_id</th>\n",
       "      <th>family_status</th>\n",
       "      <th>family_status_id</th>\n",
       "      <th>gender</th>\n",
       "      <th>income_type</th>\n",
       "      <th>debt</th>\n",
       "      <th>total_income</th>\n",
       "      <th>purpose</th>\n",
       "      <th>age_level</th>\n",
       "      <th>earning_level</th>\n",
       "    </tr>\n",
       "  </thead>\n",
       "  <tbody>\n",
       "    <tr>\n",
       "      <td>0</td>\n",
       "      <td>1</td>\n",
       "      <td>-8437</td>\n",
       "      <td>42</td>\n",
       "      <td>высшее</td>\n",
       "      <td>0</td>\n",
       "      <td>женат / замужем</td>\n",
       "      <td>0</td>\n",
       "      <td>F</td>\n",
       "      <td>сотрудник</td>\n",
       "      <td>0</td>\n",
       "      <td>253875</td>\n",
       "      <td>недвижимость</td>\n",
       "      <td>до 47 лет</td>\n",
       "      <td>очень высокий</td>\n",
       "    </tr>\n",
       "    <tr>\n",
       "      <td>1</td>\n",
       "      <td>1</td>\n",
       "      <td>-4024</td>\n",
       "      <td>36</td>\n",
       "      <td>среднее</td>\n",
       "      <td>1</td>\n",
       "      <td>женат / замужем</td>\n",
       "      <td>0</td>\n",
       "      <td>F</td>\n",
       "      <td>сотрудник</td>\n",
       "      <td>0</td>\n",
       "      <td>112080</td>\n",
       "      <td>автомобиль</td>\n",
       "      <td>до 47 лет</td>\n",
       "      <td>средний</td>\n",
       "    </tr>\n",
       "    <tr>\n",
       "      <td>2</td>\n",
       "      <td>0</td>\n",
       "      <td>-5623</td>\n",
       "      <td>33</td>\n",
       "      <td>среднее</td>\n",
       "      <td>1</td>\n",
       "      <td>женат / замужем</td>\n",
       "      <td>0</td>\n",
       "      <td>M</td>\n",
       "      <td>сотрудник</td>\n",
       "      <td>0</td>\n",
       "      <td>145885</td>\n",
       "      <td>недвижимость</td>\n",
       "      <td>до 33 лет</td>\n",
       "      <td>высокий</td>\n",
       "    </tr>\n",
       "    <tr>\n",
       "      <td>3</td>\n",
       "      <td>3</td>\n",
       "      <td>-4124</td>\n",
       "      <td>32</td>\n",
       "      <td>среднее</td>\n",
       "      <td>1</td>\n",
       "      <td>женат / замужем</td>\n",
       "      <td>0</td>\n",
       "      <td>M</td>\n",
       "      <td>сотрудник</td>\n",
       "      <td>0</td>\n",
       "      <td>267628</td>\n",
       "      <td>образование</td>\n",
       "      <td>до 33 лет</td>\n",
       "      <td>очень высокий</td>\n",
       "    </tr>\n",
       "    <tr>\n",
       "      <td>4</td>\n",
       "      <td>0</td>\n",
       "      <td>340266</td>\n",
       "      <td>53</td>\n",
       "      <td>среднее</td>\n",
       "      <td>1</td>\n",
       "      <td>гражданский брак</td>\n",
       "      <td>1</td>\n",
       "      <td>F</td>\n",
       "      <td>пенсионер</td>\n",
       "      <td>0</td>\n",
       "      <td>158616</td>\n",
       "      <td>свадьба</td>\n",
       "      <td>до 61 года</td>\n",
       "      <td>высокий</td>\n",
       "    </tr>\n",
       "    <tr>\n",
       "      <td>5</td>\n",
       "      <td>0</td>\n",
       "      <td>-926</td>\n",
       "      <td>27</td>\n",
       "      <td>высшее</td>\n",
       "      <td>0</td>\n",
       "      <td>гражданский брак</td>\n",
       "      <td>1</td>\n",
       "      <td>M</td>\n",
       "      <td>компаньон</td>\n",
       "      <td>0</td>\n",
       "      <td>255763</td>\n",
       "      <td>недвижимость</td>\n",
       "      <td>до 33 лет</td>\n",
       "      <td>очень высокий</td>\n",
       "    </tr>\n",
       "    <tr>\n",
       "      <td>6</td>\n",
       "      <td>0</td>\n",
       "      <td>-2879</td>\n",
       "      <td>43</td>\n",
       "      <td>высшее</td>\n",
       "      <td>0</td>\n",
       "      <td>женат / замужем</td>\n",
       "      <td>0</td>\n",
       "      <td>F</td>\n",
       "      <td>компаньон</td>\n",
       "      <td>0</td>\n",
       "      <td>240525</td>\n",
       "      <td>недвижимость</td>\n",
       "      <td>до 47 лет</td>\n",
       "      <td>очень высокий</td>\n",
       "    </tr>\n",
       "    <tr>\n",
       "      <td>7</td>\n",
       "      <td>0</td>\n",
       "      <td>-152</td>\n",
       "      <td>50</td>\n",
       "      <td>среднее</td>\n",
       "      <td>1</td>\n",
       "      <td>женат / замужем</td>\n",
       "      <td>0</td>\n",
       "      <td>M</td>\n",
       "      <td>сотрудник</td>\n",
       "      <td>0</td>\n",
       "      <td>135823</td>\n",
       "      <td>образование</td>\n",
       "      <td>до 61 года</td>\n",
       "      <td>средний</td>\n",
       "    </tr>\n",
       "    <tr>\n",
       "      <td>8</td>\n",
       "      <td>2</td>\n",
       "      <td>-6929</td>\n",
       "      <td>35</td>\n",
       "      <td>высшее</td>\n",
       "      <td>0</td>\n",
       "      <td>гражданский брак</td>\n",
       "      <td>1</td>\n",
       "      <td>F</td>\n",
       "      <td>сотрудник</td>\n",
       "      <td>0</td>\n",
       "      <td>95856</td>\n",
       "      <td>свадьба</td>\n",
       "      <td>до 47 лет</td>\n",
       "      <td>низкий</td>\n",
       "    </tr>\n",
       "    <tr>\n",
       "      <td>9</td>\n",
       "      <td>0</td>\n",
       "      <td>-2188</td>\n",
       "      <td>41</td>\n",
       "      <td>среднее</td>\n",
       "      <td>1</td>\n",
       "      <td>женат / замужем</td>\n",
       "      <td>0</td>\n",
       "      <td>M</td>\n",
       "      <td>сотрудник</td>\n",
       "      <td>0</td>\n",
       "      <td>144425</td>\n",
       "      <td>недвижимость</td>\n",
       "      <td>до 47 лет</td>\n",
       "      <td>высокий</td>\n",
       "    </tr>\n",
       "    <tr>\n",
       "      <td>10</td>\n",
       "      <td>2</td>\n",
       "      <td>-4171</td>\n",
       "      <td>36</td>\n",
       "      <td>высшее</td>\n",
       "      <td>0</td>\n",
       "      <td>женат / замужем</td>\n",
       "      <td>0</td>\n",
       "      <td>M</td>\n",
       "      <td>компаньон</td>\n",
       "      <td>0</td>\n",
       "      <td>113943</td>\n",
       "      <td>недвижимость</td>\n",
       "      <td>до 47 лет</td>\n",
       "      <td>средний</td>\n",
       "    </tr>\n",
       "    <tr>\n",
       "      <td>11</td>\n",
       "      <td>0</td>\n",
       "      <td>-792</td>\n",
       "      <td>40</td>\n",
       "      <td>среднее</td>\n",
       "      <td>1</td>\n",
       "      <td>женат / замужем</td>\n",
       "      <td>0</td>\n",
       "      <td>F</td>\n",
       "      <td>сотрудник</td>\n",
       "      <td>0</td>\n",
       "      <td>77069</td>\n",
       "      <td>недвижимость</td>\n",
       "      <td>до 47 лет</td>\n",
       "      <td>низкий</td>\n",
       "    </tr>\n",
       "    <tr>\n",
       "      <td>12</td>\n",
       "      <td>0</td>\n",
       "      <td>342876</td>\n",
       "      <td>65</td>\n",
       "      <td>среднее</td>\n",
       "      <td>1</td>\n",
       "      <td>гражданский брак</td>\n",
       "      <td>1</td>\n",
       "      <td>M</td>\n",
       "      <td>пенсионер</td>\n",
       "      <td>0</td>\n",
       "      <td>118480</td>\n",
       "      <td>свадьба</td>\n",
       "      <td>от 61 года</td>\n",
       "      <td>средний</td>\n",
       "    </tr>\n",
       "    <tr>\n",
       "      <td>13</td>\n",
       "      <td>0</td>\n",
       "      <td>-1846</td>\n",
       "      <td>54</td>\n",
       "      <td>неоконченное высшее</td>\n",
       "      <td>2</td>\n",
       "      <td>женат / замужем</td>\n",
       "      <td>0</td>\n",
       "      <td>F</td>\n",
       "      <td>сотрудник</td>\n",
       "      <td>0</td>\n",
       "      <td>130458</td>\n",
       "      <td>автомобиль</td>\n",
       "      <td>от 61 года</td>\n",
       "      <td>средний</td>\n",
       "    </tr>\n",
       "    <tr>\n",
       "      <td>14</td>\n",
       "      <td>0</td>\n",
       "      <td>-1844</td>\n",
       "      <td>56</td>\n",
       "      <td>высшее</td>\n",
       "      <td>0</td>\n",
       "      <td>гражданский брак</td>\n",
       "      <td>1</td>\n",
       "      <td>F</td>\n",
       "      <td>компаньон</td>\n",
       "      <td>1</td>\n",
       "      <td>165127</td>\n",
       "      <td>недвижимость</td>\n",
       "      <td>от 61 года</td>\n",
       "      <td>высокий</td>\n",
       "    </tr>\n",
       "    <tr>\n",
       "      <td>15</td>\n",
       "      <td>1</td>\n",
       "      <td>-972</td>\n",
       "      <td>26</td>\n",
       "      <td>среднее</td>\n",
       "      <td>1</td>\n",
       "      <td>женат / замужем</td>\n",
       "      <td>0</td>\n",
       "      <td>F</td>\n",
       "      <td>сотрудник</td>\n",
       "      <td>0</td>\n",
       "      <td>116820</td>\n",
       "      <td>недвижимость</td>\n",
       "      <td>до 33 лет</td>\n",
       "      <td>средний</td>\n",
       "    </tr>\n",
       "    <tr>\n",
       "      <td>16</td>\n",
       "      <td>0</td>\n",
       "      <td>-1719</td>\n",
       "      <td>35</td>\n",
       "      <td>среднее</td>\n",
       "      <td>1</td>\n",
       "      <td>женат / замужем</td>\n",
       "      <td>0</td>\n",
       "      <td>F</td>\n",
       "      <td>сотрудник</td>\n",
       "      <td>0</td>\n",
       "      <td>289202</td>\n",
       "      <td>недвижимость</td>\n",
       "      <td>до 47 лет</td>\n",
       "      <td>очень высокий</td>\n",
       "    </tr>\n",
       "    <tr>\n",
       "      <td>17</td>\n",
       "      <td>0</td>\n",
       "      <td>-2369</td>\n",
       "      <td>33</td>\n",
       "      <td>высшее</td>\n",
       "      <td>0</td>\n",
       "      <td>гражданский брак</td>\n",
       "      <td>1</td>\n",
       "      <td>M</td>\n",
       "      <td>сотрудник</td>\n",
       "      <td>0</td>\n",
       "      <td>90410</td>\n",
       "      <td>недвижимость</td>\n",
       "      <td>до 33 лет</td>\n",
       "      <td>низкий</td>\n",
       "    </tr>\n",
       "    <tr>\n",
       "      <td>18</td>\n",
       "      <td>0</td>\n",
       "      <td>400281</td>\n",
       "      <td>53</td>\n",
       "      <td>среднее</td>\n",
       "      <td>1</td>\n",
       "      <td>вдовец / вдова</td>\n",
       "      <td>2</td>\n",
       "      <td>F</td>\n",
       "      <td>пенсионер</td>\n",
       "      <td>0</td>\n",
       "      <td>56823</td>\n",
       "      <td>автомобиль</td>\n",
       "      <td>до 61 года</td>\n",
       "      <td>низкий</td>\n",
       "    </tr>\n",
       "    <tr>\n",
       "      <td>19</td>\n",
       "      <td>0</td>\n",
       "      <td>-10038</td>\n",
       "      <td>48</td>\n",
       "      <td>среднее</td>\n",
       "      <td>1</td>\n",
       "      <td>в разводе</td>\n",
       "      <td>3</td>\n",
       "      <td>F</td>\n",
       "      <td>сотрудник</td>\n",
       "      <td>0</td>\n",
       "      <td>242831</td>\n",
       "      <td>автомобиль</td>\n",
       "      <td>до 61 года</td>\n",
       "      <td>очень высокий</td>\n",
       "    </tr>\n",
       "    <tr>\n",
       "      <td>20</td>\n",
       "      <td>1</td>\n",
       "      <td>-1311</td>\n",
       "      <td>36</td>\n",
       "      <td>среднее</td>\n",
       "      <td>1</td>\n",
       "      <td>женат / замужем</td>\n",
       "      <td>0</td>\n",
       "      <td>M</td>\n",
       "      <td>сотрудник</td>\n",
       "      <td>0</td>\n",
       "      <td>209552</td>\n",
       "      <td>недвижимость</td>\n",
       "      <td>до 47 лет</td>\n",
       "      <td>очень высокий</td>\n",
       "    </tr>\n",
       "    <tr>\n",
       "      <td>21</td>\n",
       "      <td>1</td>\n",
       "      <td>-253</td>\n",
       "      <td>33</td>\n",
       "      <td>среднее</td>\n",
       "      <td>1</td>\n",
       "      <td>гражданский брак</td>\n",
       "      <td>1</td>\n",
       "      <td>F</td>\n",
       "      <td>сотрудник</td>\n",
       "      <td>0</td>\n",
       "      <td>131812</td>\n",
       "      <td>автомобиль</td>\n",
       "      <td>до 33 лет</td>\n",
       "      <td>средний</td>\n",
       "    </tr>\n",
       "    <tr>\n",
       "      <td>22</td>\n",
       "      <td>1</td>\n",
       "      <td>-1766</td>\n",
       "      <td>24</td>\n",
       "      <td>среднее</td>\n",
       "      <td>1</td>\n",
       "      <td>гражданский брак</td>\n",
       "      <td>1</td>\n",
       "      <td>F</td>\n",
       "      <td>сотрудник</td>\n",
       "      <td>0</td>\n",
       "      <td>149681</td>\n",
       "      <td>автомобиль</td>\n",
       "      <td>до 33 лет</td>\n",
       "      <td>высокий</td>\n",
       "    </tr>\n",
       "    <tr>\n",
       "      <td>23</td>\n",
       "      <td>0</td>\n",
       "      <td>-272</td>\n",
       "      <td>21</td>\n",
       "      <td>высшее</td>\n",
       "      <td>0</td>\n",
       "      <td>гражданский брак</td>\n",
       "      <td>1</td>\n",
       "      <td>M</td>\n",
       "      <td>сотрудник</td>\n",
       "      <td>0</td>\n",
       "      <td>128265</td>\n",
       "      <td>свадьба</td>\n",
       "      <td>до 33 лет</td>\n",
       "      <td>средний</td>\n",
       "    </tr>\n",
       "    <tr>\n",
       "      <td>24</td>\n",
       "      <td>1</td>\n",
       "      <td>338551</td>\n",
       "      <td>57</td>\n",
       "      <td>среднее</td>\n",
       "      <td>1</td>\n",
       "      <td>Не женат / не замужем</td>\n",
       "      <td>4</td>\n",
       "      <td>F</td>\n",
       "      <td>пенсионер</td>\n",
       "      <td>0</td>\n",
       "      <td>290547</td>\n",
       "      <td>недвижимость</td>\n",
       "      <td>от 61 года</td>\n",
       "      <td>очень высокий</td>\n",
       "    </tr>\n",
       "    <tr>\n",
       "      <td>25</td>\n",
       "      <td>0</td>\n",
       "      <td>363548</td>\n",
       "      <td>67</td>\n",
       "      <td>среднее</td>\n",
       "      <td>1</td>\n",
       "      <td>женат / замужем</td>\n",
       "      <td>0</td>\n",
       "      <td>M</td>\n",
       "      <td>пенсионер</td>\n",
       "      <td>0</td>\n",
       "      <td>55112</td>\n",
       "      <td>недвижимость</td>\n",
       "      <td>от 61 года</td>\n",
       "      <td>низкий</td>\n",
       "    </tr>\n",
       "    <tr>\n",
       "      <td>26</td>\n",
       "      <td>0</td>\n",
       "      <td>-1763</td>\n",
       "      <td>41</td>\n",
       "      <td>среднее</td>\n",
       "      <td>1</td>\n",
       "      <td>женат / замужем</td>\n",
       "      <td>0</td>\n",
       "      <td>M</td>\n",
       "      <td>госслужащий</td>\n",
       "      <td>0</td>\n",
       "      <td>150420</td>\n",
       "      <td>образование</td>\n",
       "      <td>до 47 лет</td>\n",
       "      <td>высокий</td>\n",
       "    </tr>\n",
       "    <tr>\n",
       "      <td>27</td>\n",
       "      <td>0</td>\n",
       "      <td>-529</td>\n",
       "      <td>28</td>\n",
       "      <td>высшее</td>\n",
       "      <td>0</td>\n",
       "      <td>женат / замужем</td>\n",
       "      <td>0</td>\n",
       "      <td>M</td>\n",
       "      <td>сотрудник</td>\n",
       "      <td>0</td>\n",
       "      <td>308848</td>\n",
       "      <td>недвижимость</td>\n",
       "      <td>до 33 лет</td>\n",
       "      <td>очень высокий</td>\n",
       "    </tr>\n",
       "    <tr>\n",
       "      <td>28</td>\n",
       "      <td>1</td>\n",
       "      <td>-717</td>\n",
       "      <td>26</td>\n",
       "      <td>высшее</td>\n",
       "      <td>0</td>\n",
       "      <td>женат / замужем</td>\n",
       "      <td>0</td>\n",
       "      <td>F</td>\n",
       "      <td>сотрудник</td>\n",
       "      <td>0</td>\n",
       "      <td>187863</td>\n",
       "      <td>недвижимость</td>\n",
       "      <td>до 33 лет</td>\n",
       "      <td>высокий</td>\n",
       "    </tr>\n",
       "    <tr>\n",
       "      <td>29</td>\n",
       "      <td>0</td>\n",
       "      <td>342876</td>\n",
       "      <td>63</td>\n",
       "      <td>среднее</td>\n",
       "      <td>1</td>\n",
       "      <td>Не женат / не замужем</td>\n",
       "      <td>4</td>\n",
       "      <td>F</td>\n",
       "      <td>пенсионер</td>\n",
       "      <td>0</td>\n",
       "      <td>118480</td>\n",
       "      <td>недвижимость</td>\n",
       "      <td>от 61 года</td>\n",
       "      <td>средний</td>\n",
       "    </tr>\n",
       "    <tr>\n",
       "      <td>30</td>\n",
       "      <td>1</td>\n",
       "      <td>335581</td>\n",
       "      <td>62</td>\n",
       "      <td>среднее</td>\n",
       "      <td>1</td>\n",
       "      <td>женат / замужем</td>\n",
       "      <td>0</td>\n",
       "      <td>F</td>\n",
       "      <td>пенсионер</td>\n",
       "      <td>0</td>\n",
       "      <td>171456</td>\n",
       "      <td>недвижимость</td>\n",
       "      <td>от 61 года</td>\n",
       "      <td>высокий</td>\n",
       "    </tr>\n",
       "    <tr>\n",
       "      <td>31</td>\n",
       "      <td>0</td>\n",
       "      <td>-1682</td>\n",
       "      <td>47</td>\n",
       "      <td>начальное</td>\n",
       "      <td>3</td>\n",
       "      <td>женат / замужем</td>\n",
       "      <td>0</td>\n",
       "      <td>F</td>\n",
       "      <td>сотрудник</td>\n",
       "      <td>0</td>\n",
       "      <td>275485</td>\n",
       "      <td>недвижимость</td>\n",
       "      <td>до 61 года</td>\n",
       "      <td>очень высокий</td>\n",
       "    </tr>\n",
       "    <tr>\n",
       "      <td>32</td>\n",
       "      <td>0</td>\n",
       "      <td>-4649</td>\n",
       "      <td>34</td>\n",
       "      <td>среднее</td>\n",
       "      <td>1</td>\n",
       "      <td>гражданский брак</td>\n",
       "      <td>1</td>\n",
       "      <td>F</td>\n",
       "      <td>сотрудник</td>\n",
       "      <td>1</td>\n",
       "      <td>139057</td>\n",
       "      <td>свадьба</td>\n",
       "      <td>до 47 лет</td>\n",
       "      <td>средний</td>\n",
       "    </tr>\n",
       "    <tr>\n",
       "      <td>33</td>\n",
       "      <td>0</td>\n",
       "      <td>-1548</td>\n",
       "      <td>48</td>\n",
       "      <td>среднее</td>\n",
       "      <td>1</td>\n",
       "      <td>женат / замужем</td>\n",
       "      <td>0</td>\n",
       "      <td>F</td>\n",
       "      <td>компаньон</td>\n",
       "      <td>0</td>\n",
       "      <td>157245</td>\n",
       "      <td>недвижимость</td>\n",
       "      <td>до 61 года</td>\n",
       "      <td>высокий</td>\n",
       "    </tr>\n",
       "    <tr>\n",
       "      <td>34</td>\n",
       "      <td>0</td>\n",
       "      <td>-4488</td>\n",
       "      <td>35</td>\n",
       "      <td>среднее</td>\n",
       "      <td>1</td>\n",
       "      <td>женат / замужем</td>\n",
       "      <td>0</td>\n",
       "      <td>F</td>\n",
       "      <td>сотрудник</td>\n",
       "      <td>0</td>\n",
       "      <td>104660</td>\n",
       "      <td>недвижимость</td>\n",
       "      <td>до 47 лет</td>\n",
       "      <td>низкий</td>\n",
       "    </tr>\n",
       "  </tbody>\n",
       "</table>\n",
       "</div>"
      ],
      "text/plain": [
       "    children  days_employed  dob_years            education  education_id  \\\n",
       "0          1          -8437         42               высшее             0   \n",
       "1          1          -4024         36              среднее             1   \n",
       "2          0          -5623         33              среднее             1   \n",
       "3          3          -4124         32              среднее             1   \n",
       "4          0         340266         53              среднее             1   \n",
       "5          0           -926         27               высшее             0   \n",
       "6          0          -2879         43               высшее             0   \n",
       "7          0           -152         50              среднее             1   \n",
       "8          2          -6929         35               высшее             0   \n",
       "9          0          -2188         41              среднее             1   \n",
       "10         2          -4171         36               высшее             0   \n",
       "11         0           -792         40              среднее             1   \n",
       "12         0         342876         65              среднее             1   \n",
       "13         0          -1846         54  неоконченное высшее             2   \n",
       "14         0          -1844         56               высшее             0   \n",
       "15         1           -972         26              среднее             1   \n",
       "16         0          -1719         35              среднее             1   \n",
       "17         0          -2369         33               высшее             0   \n",
       "18         0         400281         53              среднее             1   \n",
       "19         0         -10038         48              среднее             1   \n",
       "20         1          -1311         36              среднее             1   \n",
       "21         1           -253         33              среднее             1   \n",
       "22         1          -1766         24              среднее             1   \n",
       "23         0           -272         21               высшее             0   \n",
       "24         1         338551         57              среднее             1   \n",
       "25         0         363548         67              среднее             1   \n",
       "26         0          -1763         41              среднее             1   \n",
       "27         0           -529         28               высшее             0   \n",
       "28         1           -717         26               высшее             0   \n",
       "29         0         342876         63              среднее             1   \n",
       "30         1         335581         62              среднее             1   \n",
       "31         0          -1682         47            начальное             3   \n",
       "32         0          -4649         34              среднее             1   \n",
       "33         0          -1548         48              среднее             1   \n",
       "34         0          -4488         35              среднее             1   \n",
       "\n",
       "            family_status  family_status_id gender  income_type  debt  \\\n",
       "0         женат / замужем                 0      F    сотрудник     0   \n",
       "1         женат / замужем                 0      F    сотрудник     0   \n",
       "2         женат / замужем                 0      M    сотрудник     0   \n",
       "3         женат / замужем                 0      M    сотрудник     0   \n",
       "4        гражданский брак                 1      F    пенсионер     0   \n",
       "5        гражданский брак                 1      M    компаньон     0   \n",
       "6         женат / замужем                 0      F    компаньон     0   \n",
       "7         женат / замужем                 0      M    сотрудник     0   \n",
       "8        гражданский брак                 1      F    сотрудник     0   \n",
       "9         женат / замужем                 0      M    сотрудник     0   \n",
       "10        женат / замужем                 0      M    компаньон     0   \n",
       "11        женат / замужем                 0      F    сотрудник     0   \n",
       "12       гражданский брак                 1      M    пенсионер     0   \n",
       "13        женат / замужем                 0      F    сотрудник     0   \n",
       "14       гражданский брак                 1      F    компаньон     1   \n",
       "15        женат / замужем                 0      F    сотрудник     0   \n",
       "16        женат / замужем                 0      F    сотрудник     0   \n",
       "17       гражданский брак                 1      M    сотрудник     0   \n",
       "18         вдовец / вдова                 2      F    пенсионер     0   \n",
       "19              в разводе                 3      F    сотрудник     0   \n",
       "20        женат / замужем                 0      M    сотрудник     0   \n",
       "21       гражданский брак                 1      F    сотрудник     0   \n",
       "22       гражданский брак                 1      F    сотрудник     0   \n",
       "23       гражданский брак                 1      M    сотрудник     0   \n",
       "24  Не женат / не замужем                 4      F    пенсионер     0   \n",
       "25        женат / замужем                 0      M    пенсионер     0   \n",
       "26        женат / замужем                 0      M  госслужащий     0   \n",
       "27        женат / замужем                 0      M    сотрудник     0   \n",
       "28        женат / замужем                 0      F    сотрудник     0   \n",
       "29  Не женат / не замужем                 4      F    пенсионер     0   \n",
       "30        женат / замужем                 0      F    пенсионер     0   \n",
       "31        женат / замужем                 0      F    сотрудник     0   \n",
       "32       гражданский брак                 1      F    сотрудник     1   \n",
       "33        женат / замужем                 0      F    компаньон     0   \n",
       "34        женат / замужем                 0      F    сотрудник     0   \n",
       "\n",
       "    total_income       purpose   age_level  earning_level  \n",
       "0         253875  недвижимость   до 47 лет  очень высокий  \n",
       "1         112080    автомобиль   до 47 лет        средний  \n",
       "2         145885  недвижимость   до 33 лет        высокий  \n",
       "3         267628   образование   до 33 лет  очень высокий  \n",
       "4         158616       свадьба  до 61 года        высокий  \n",
       "5         255763  недвижимость   до 33 лет  очень высокий  \n",
       "6         240525  недвижимость   до 47 лет  очень высокий  \n",
       "7         135823   образование  до 61 года        средний  \n",
       "8          95856       свадьба   до 47 лет         низкий  \n",
       "9         144425  недвижимость   до 47 лет        высокий  \n",
       "10        113943  недвижимость   до 47 лет        средний  \n",
       "11         77069  недвижимость   до 47 лет         низкий  \n",
       "12        118480       свадьба  от 61 года        средний  \n",
       "13        130458    автомобиль  от 61 года        средний  \n",
       "14        165127  недвижимость  от 61 года        высокий  \n",
       "15        116820  недвижимость   до 33 лет        средний  \n",
       "16        289202  недвижимость   до 47 лет  очень высокий  \n",
       "17         90410  недвижимость   до 33 лет         низкий  \n",
       "18         56823    автомобиль  до 61 года         низкий  \n",
       "19        242831    автомобиль  до 61 года  очень высокий  \n",
       "20        209552  недвижимость   до 47 лет  очень высокий  \n",
       "21        131812    автомобиль   до 33 лет        средний  \n",
       "22        149681    автомобиль   до 33 лет        высокий  \n",
       "23        128265       свадьба   до 33 лет        средний  \n",
       "24        290547  недвижимость  от 61 года  очень высокий  \n",
       "25         55112  недвижимость  от 61 года         низкий  \n",
       "26        150420   образование   до 47 лет        высокий  \n",
       "27        308848  недвижимость   до 33 лет  очень высокий  \n",
       "28        187863  недвижимость   до 33 лет        высокий  \n",
       "29        118480  недвижимость  от 61 года        средний  \n",
       "30        171456  недвижимость  от 61 года        высокий  \n",
       "31        275485  недвижимость  до 61 года  очень высокий  \n",
       "32        139057       свадьба   до 47 лет        средний  \n",
       "33        157245  недвижимость  до 61 года        высокий  \n",
       "34        104660  недвижимость   до 47 лет         низкий  "
      ]
     },
     "metadata": {},
     "output_type": "display_data"
    }
   ],
   "source": [
    "labels = ['низкий', 'средний', 'высокий', 'очень высокий']\n",
    "data['earning_level'] = pd.qcut(data['total_income'], q=4, labels=labels)\n",
    "display(data.head(35))\n",
    "#P.S. Применил метод qcut"
   ]
  },
  {
   "cell_type": "code",
   "execution_count": 33,
   "metadata": {
    "scrolled": true
   },
   "outputs": [
    {
     "data": {
      "text/html": [
       "<div>\n",
       "<style scoped>\n",
       "    .dataframe tbody tr th:only-of-type {\n",
       "        vertical-align: middle;\n",
       "    }\n",
       "\n",
       "    .dataframe tbody tr th {\n",
       "        vertical-align: top;\n",
       "    }\n",
       "\n",
       "    .dataframe thead th {\n",
       "        text-align: right;\n",
       "    }\n",
       "</style>\n",
       "<table border=\"1\" class=\"dataframe\">\n",
       "  <thead>\n",
       "    <tr style=\"text-align: right;\">\n",
       "      <th></th>\n",
       "      <th>children</th>\n",
       "      <th>days_employed</th>\n",
       "      <th>dob_years</th>\n",
       "      <th>education_id</th>\n",
       "      <th>family_status_id</th>\n",
       "      <th>debt</th>\n",
       "      <th>total_income</th>\n",
       "    </tr>\n",
       "    <tr>\n",
       "      <th>education</th>\n",
       "      <th></th>\n",
       "      <th></th>\n",
       "      <th></th>\n",
       "      <th></th>\n",
       "      <th></th>\n",
       "      <th></th>\n",
       "      <th></th>\n",
       "    </tr>\n",
       "  </thead>\n",
       "  <tbody>\n",
       "    <tr>\n",
       "      <td>высшее</td>\n",
       "      <td>2698</td>\n",
       "      <td>209604649</td>\n",
       "      <td>212638</td>\n",
       "      <td>0</td>\n",
       "      <td>5314</td>\n",
       "      <td>277</td>\n",
       "      <td>1048158153</td>\n",
       "    </tr>\n",
       "    <tr>\n",
       "      <td>начальное</td>\n",
       "      <td>136</td>\n",
       "      <td>36777082</td>\n",
       "      <td>13449</td>\n",
       "      <td>846</td>\n",
       "      <td>314</td>\n",
       "      <td>31</td>\n",
       "      <td>37387742</td>\n",
       "    </tr>\n",
       "    <tr>\n",
       "      <td>неоконченное высшее</td>\n",
       "      <td>341</td>\n",
       "      <td>14953379</td>\n",
       "      <td>25668</td>\n",
       "      <td>1478</td>\n",
       "      <td>1050</td>\n",
       "      <td>68</td>\n",
       "      <td>131919896</td>\n",
       "    </tr>\n",
       "    <tr>\n",
       "      <td>среднее</td>\n",
       "      <td>6885</td>\n",
       "      <td>1127774551</td>\n",
       "      <td>672004</td>\n",
       "      <td>15028</td>\n",
       "      <td>13989</td>\n",
       "      <td>1348</td>\n",
       "      <td>2295135574</td>\n",
       "    </tr>\n",
       "    <tr>\n",
       "      <td>ученая степень</td>\n",
       "      <td>4</td>\n",
       "      <td>699780</td>\n",
       "      <td>307</td>\n",
       "      <td>24</td>\n",
       "      <td>7</td>\n",
       "      <td>0</td>\n",
       "      <td>1048499</td>\n",
       "    </tr>\n",
       "  </tbody>\n",
       "</table>\n",
       "</div>"
      ],
      "text/plain": [
       "                     children  days_employed  dob_years  education_id  \\\n",
       "education                                                               \n",
       "высшее                   2698      209604649     212638             0   \n",
       "начальное                 136       36777082      13449           846   \n",
       "неоконченное высшее       341       14953379      25668          1478   \n",
       "среднее                  6885     1127774551     672004         15028   \n",
       "ученая степень              4         699780        307            24   \n",
       "\n",
       "                     family_status_id  debt  total_income  \n",
       "education                                                  \n",
       "высшее                           5314   277    1048158153  \n",
       "начальное                         314    31      37387742  \n",
       "неоконченное высшее              1050    68     131919896  \n",
       "среднее                         13989  1348    2295135574  \n",
       "ученая степень                      7     0       1048499  "
      ]
     },
     "execution_count": 33,
     "metadata": {},
     "output_type": "execute_result"
    }
   ],
   "source": [
    "education_dict = data[['education', 'education_id']]\n",
    "education_dict = education_dict.drop_duplicates().reset_index(drop=True)\n",
    "data.groupby('education').sum()"
   ]
  },
  {
   "cell_type": "code",
   "execution_count": 34,
   "metadata": {},
   "outputs": [
    {
     "data": {
      "text/html": [
       "<div>\n",
       "<style scoped>\n",
       "    .dataframe tbody tr th:only-of-type {\n",
       "        vertical-align: middle;\n",
       "    }\n",
       "\n",
       "    .dataframe tbody tr th {\n",
       "        vertical-align: top;\n",
       "    }\n",
       "\n",
       "    .dataframe thead th {\n",
       "        text-align: right;\n",
       "    }\n",
       "</style>\n",
       "<table border=\"1\" class=\"dataframe\">\n",
       "  <thead>\n",
       "    <tr style=\"text-align: right;\">\n",
       "      <th></th>\n",
       "      <th>education</th>\n",
       "      <th>education_id</th>\n",
       "    </tr>\n",
       "  </thead>\n",
       "  <tbody>\n",
       "    <tr>\n",
       "      <td>0</td>\n",
       "      <td>высшее</td>\n",
       "      <td>0</td>\n",
       "    </tr>\n",
       "    <tr>\n",
       "      <td>1</td>\n",
       "      <td>среднее</td>\n",
       "      <td>1</td>\n",
       "    </tr>\n",
       "    <tr>\n",
       "      <td>2</td>\n",
       "      <td>неоконченное высшее</td>\n",
       "      <td>2</td>\n",
       "    </tr>\n",
       "    <tr>\n",
       "      <td>3</td>\n",
       "      <td>начальное</td>\n",
       "      <td>3</td>\n",
       "    </tr>\n",
       "    <tr>\n",
       "      <td>4</td>\n",
       "      <td>ученая степень</td>\n",
       "      <td>4</td>\n",
       "    </tr>\n",
       "  </tbody>\n",
       "</table>\n",
       "</div>"
      ],
      "text/plain": [
       "             education  education_id\n",
       "0               высшее             0\n",
       "1              среднее             1\n",
       "2  неоконченное высшее             2\n",
       "3            начальное             3\n",
       "4       ученая степень             4"
      ]
     },
     "execution_count": 34,
     "metadata": {},
     "output_type": "execute_result"
    }
   ],
   "source": [
    "education_dict"
   ]
  },
  {
   "cell_type": "code",
   "execution_count": 35,
   "metadata": {},
   "outputs": [
    {
     "data": {
      "text/html": [
       "<div>\n",
       "<style scoped>\n",
       "    .dataframe tbody tr th:only-of-type {\n",
       "        vertical-align: middle;\n",
       "    }\n",
       "\n",
       "    .dataframe tbody tr th {\n",
       "        vertical-align: top;\n",
       "    }\n",
       "\n",
       "    .dataframe thead th {\n",
       "        text-align: right;\n",
       "    }\n",
       "</style>\n",
       "<table border=\"1\" class=\"dataframe\">\n",
       "  <thead>\n",
       "    <tr style=\"text-align: right;\">\n",
       "      <th></th>\n",
       "      <th>children</th>\n",
       "      <th>days_employed</th>\n",
       "      <th>dob_years</th>\n",
       "      <th>education_id</th>\n",
       "      <th>family_status_id</th>\n",
       "      <th>debt</th>\n",
       "      <th>total_income</th>\n",
       "    </tr>\n",
       "    <tr>\n",
       "      <th>family_status</th>\n",
       "      <th></th>\n",
       "      <th></th>\n",
       "      <th></th>\n",
       "      <th></th>\n",
       "      <th></th>\n",
       "      <th></th>\n",
       "      <th></th>\n",
       "    </tr>\n",
       "  </thead>\n",
       "  <tbody>\n",
       "    <tr>\n",
       "      <td>Не женат / не замужем</td>\n",
       "      <td>627</td>\n",
       "      <td>125011513</td>\n",
       "      <td>107277</td>\n",
       "      <td>2250</td>\n",
       "      <td>11120</td>\n",
       "      <td>272</td>\n",
       "      <td>463172091</td>\n",
       "    </tr>\n",
       "    <tr>\n",
       "      <td>в разводе</td>\n",
       "      <td>506</td>\n",
       "      <td>79642263</td>\n",
       "      <td>54173</td>\n",
       "      <td>943</td>\n",
       "      <td>3537</td>\n",
       "      <td>84</td>\n",
       "      <td>198143758</td>\n",
       "    </tr>\n",
       "    <tr>\n",
       "      <td>вдовец / вдова</td>\n",
       "      <td>139</td>\n",
       "      <td>196984528</td>\n",
       "      <td>53733</td>\n",
       "      <td>888</td>\n",
       "      <td>1892</td>\n",
       "      <td>62</td>\n",
       "      <td>135002596</td>\n",
       "    </tr>\n",
       "    <tr>\n",
       "      <td>гражданский брак</td>\n",
       "      <td>1882</td>\n",
       "      <td>236322336</td>\n",
       "      <td>174572</td>\n",
       "      <td>3454</td>\n",
       "      <td>4125</td>\n",
       "      <td>383</td>\n",
       "      <td>679784491</td>\n",
       "    </tr>\n",
       "    <tr>\n",
       "      <td>женат / замужем</td>\n",
       "      <td>6910</td>\n",
       "      <td>751848801</td>\n",
       "      <td>534311</td>\n",
       "      <td>9841</td>\n",
       "      <td>0</td>\n",
       "      <td>923</td>\n",
       "      <td>2037546928</td>\n",
       "    </tr>\n",
       "  </tbody>\n",
       "</table>\n",
       "</div>"
      ],
      "text/plain": [
       "                       children  days_employed  dob_years  education_id  \\\n",
       "family_status                                                             \n",
       "Не женат / не замужем       627      125011513     107277          2250   \n",
       "в разводе                   506       79642263      54173           943   \n",
       "вдовец / вдова              139      196984528      53733           888   \n",
       "гражданский брак           1882      236322336     174572          3454   \n",
       "женат / замужем            6910      751848801     534311          9841   \n",
       "\n",
       "                       family_status_id  debt  total_income  \n",
       "family_status                                                \n",
       "Не женат / не замужем             11120   272     463172091  \n",
       "в разводе                          3537    84     198143758  \n",
       "вдовец / вдова                     1892    62     135002596  \n",
       "гражданский брак                   4125   383     679784491  \n",
       "женат / замужем                       0   923    2037546928  "
      ]
     },
     "execution_count": 35,
     "metadata": {},
     "output_type": "execute_result"
    }
   ],
   "source": [
    "family_dict = data[['family_status_id', 'family_status']]\n",
    "family_dict = family_dict.drop_duplicates().reset_index(drop=True)\n",
    "data.groupby('family_status').sum()"
   ]
  },
  {
   "cell_type": "code",
   "execution_count": 36,
   "metadata": {},
   "outputs": [
    {
     "data": {
      "text/html": [
       "<div>\n",
       "<style scoped>\n",
       "    .dataframe tbody tr th:only-of-type {\n",
       "        vertical-align: middle;\n",
       "    }\n",
       "\n",
       "    .dataframe tbody tr th {\n",
       "        vertical-align: top;\n",
       "    }\n",
       "\n",
       "    .dataframe thead th {\n",
       "        text-align: right;\n",
       "    }\n",
       "</style>\n",
       "<table border=\"1\" class=\"dataframe\">\n",
       "  <thead>\n",
       "    <tr style=\"text-align: right;\">\n",
       "      <th></th>\n",
       "      <th>family_status_id</th>\n",
       "      <th>family_status</th>\n",
       "    </tr>\n",
       "  </thead>\n",
       "  <tbody>\n",
       "    <tr>\n",
       "      <td>0</td>\n",
       "      <td>0</td>\n",
       "      <td>женат / замужем</td>\n",
       "    </tr>\n",
       "    <tr>\n",
       "      <td>1</td>\n",
       "      <td>1</td>\n",
       "      <td>гражданский брак</td>\n",
       "    </tr>\n",
       "    <tr>\n",
       "      <td>2</td>\n",
       "      <td>2</td>\n",
       "      <td>вдовец / вдова</td>\n",
       "    </tr>\n",
       "    <tr>\n",
       "      <td>3</td>\n",
       "      <td>3</td>\n",
       "      <td>в разводе</td>\n",
       "    </tr>\n",
       "    <tr>\n",
       "      <td>4</td>\n",
       "      <td>4</td>\n",
       "      <td>Не женат / не замужем</td>\n",
       "    </tr>\n",
       "  </tbody>\n",
       "</table>\n",
       "</div>"
      ],
      "text/plain": [
       "   family_status_id          family_status\n",
       "0                 0        женат / замужем\n",
       "1                 1       гражданский брак\n",
       "2                 2         вдовец / вдова\n",
       "3                 3              в разводе\n",
       "4                 4  Не женат / не замужем"
      ]
     },
     "execution_count": 36,
     "metadata": {},
     "output_type": "execute_result"
    }
   ],
   "source": [
    "family_dict"
   ]
  },
  {
   "cell_type": "markdown",
   "metadata": {},
   "source": [
    "**Вывод**"
   ]
  },
  {
   "cell_type": "markdown",
   "metadata": {},
   "source": [
    "Для категоризации данных я выбрал столбец с доходами так как без какой либо группировки по доходам будет невозможно ответить на вопрос \"Есть ли зависимость между уровнем дохода и возвратом кредита в срок?\". Группировать я решил по уровню дохода:\n",
    "<ul>\n",
    "    <li>низкий</li>\n",
    "    <li>средний</li>\n",
    "    <li>высокий</li>\n",
    "    <li>очень высокий</li>\n",
    "</ul>"
   ]
  },
  {
   "cell_type": "markdown",
   "metadata": {},
   "source": [
    "## Шаг 3. Ответьте на вопросы"
   ]
  },
  {
   "cell_type": "markdown",
   "metadata": {},
   "source": [
    "- Есть ли зависимость между наличием детей и возвратом кредита в срок?"
   ]
  },
  {
   "cell_type": "code",
   "execution_count": 37,
   "metadata": {},
   "outputs": [
    {
     "data": {
      "text/html": [
       "<div>\n",
       "<style scoped>\n",
       "    .dataframe tbody tr th:only-of-type {\n",
       "        vertical-align: middle;\n",
       "    }\n",
       "\n",
       "    .dataframe tbody tr th {\n",
       "        vertical-align: top;\n",
       "    }\n",
       "\n",
       "    .dataframe thead th {\n",
       "        text-align: right;\n",
       "    }\n",
       "</style>\n",
       "<table border=\"1\" class=\"dataframe\">\n",
       "  <thead>\n",
       "    <tr style=\"text-align: right;\">\n",
       "      <th></th>\n",
       "      <th>children</th>\n",
       "      <th>sum</th>\n",
       "      <th>count</th>\n",
       "      <th>percentage</th>\n",
       "    </tr>\n",
       "  </thead>\n",
       "  <tbody>\n",
       "    <tr>\n",
       "      <td>4</td>\n",
       "      <td>4</td>\n",
       "      <td>4</td>\n",
       "      <td>41</td>\n",
       "      <td>0.097561</td>\n",
       "    </tr>\n",
       "    <tr>\n",
       "      <td>2</td>\n",
       "      <td>2</td>\n",
       "      <td>194</td>\n",
       "      <td>2039</td>\n",
       "      <td>0.095145</td>\n",
       "    </tr>\n",
       "    <tr>\n",
       "      <td>1</td>\n",
       "      <td>1</td>\n",
       "      <td>441</td>\n",
       "      <td>4793</td>\n",
       "      <td>0.092009</td>\n",
       "    </tr>\n",
       "    <tr>\n",
       "      <td>3</td>\n",
       "      <td>3</td>\n",
       "      <td>27</td>\n",
       "      <td>328</td>\n",
       "      <td>0.082317</td>\n",
       "    </tr>\n",
       "    <tr>\n",
       "      <td>0</td>\n",
       "      <td>0</td>\n",
       "      <td>1058</td>\n",
       "      <td>14038</td>\n",
       "      <td>0.075367</td>\n",
       "    </tr>\n",
       "    <tr>\n",
       "      <td>5</td>\n",
       "      <td>5</td>\n",
       "      <td>0</td>\n",
       "      <td>9</td>\n",
       "      <td>0.000000</td>\n",
       "    </tr>\n",
       "  </tbody>\n",
       "</table>\n",
       "</div>"
      ],
      "text/plain": [
       "   children   sum  count  percentage\n",
       "4         4     4     41    0.097561\n",
       "2         2   194   2039    0.095145\n",
       "1         1   441   4793    0.092009\n",
       "3         3    27    328    0.082317\n",
       "0         0  1058  14038    0.075367\n",
       "5         5     0      9    0.000000"
      ]
     },
     "metadata": {},
     "output_type": "display_data"
    }
   ],
   "source": [
    "children = data.groupby(['children'])['debt'].agg(['sum', 'count']).reset_index()\n",
    "children['percentage'] = children['sum'] / children['count']\n",
    "display(children.sort_values(by = 'percentage', ascending = False))"
   ]
  },
  {
   "cell_type": "markdown",
   "metadata": {},
   "source": [
    "**Вывод**"
   ]
  },
  {
   "cell_type": "markdown",
   "metadata": {},
   "source": [
    "Нет большой зависимости между наличием детей и возвратом в срок. Так как разница между 0, 1, 2, 3, 4 детьми в семье прблизительно равна, и она не растет и не падает в зависимости количества детей."
   ]
  },
  {
   "cell_type": "markdown",
   "metadata": {},
   "source": [
    "- Есть ли зависимость между семейным положением и возвратом кредита в срок?"
   ]
  },
  {
   "cell_type": "code",
   "execution_count": 38,
   "metadata": {},
   "outputs": [
    {
     "data": {
      "text/html": [
       "<div>\n",
       "<style scoped>\n",
       "    .dataframe tbody tr th:only-of-type {\n",
       "        vertical-align: middle;\n",
       "    }\n",
       "\n",
       "    .dataframe tbody tr th {\n",
       "        vertical-align: top;\n",
       "    }\n",
       "\n",
       "    .dataframe thead th {\n",
       "        text-align: right;\n",
       "    }\n",
       "</style>\n",
       "<table border=\"1\" class=\"dataframe\">\n",
       "  <thead>\n",
       "    <tr style=\"text-align: right;\">\n",
       "      <th></th>\n",
       "      <th>family_status</th>\n",
       "      <th>sum</th>\n",
       "      <th>count</th>\n",
       "      <th>percentage</th>\n",
       "    </tr>\n",
       "  </thead>\n",
       "  <tbody>\n",
       "    <tr>\n",
       "      <td>0</td>\n",
       "      <td>Не женат / не замужем</td>\n",
       "      <td>272</td>\n",
       "      <td>2780</td>\n",
       "      <td>0.097842</td>\n",
       "    </tr>\n",
       "    <tr>\n",
       "      <td>1</td>\n",
       "      <td>в разводе</td>\n",
       "      <td>84</td>\n",
       "      <td>1179</td>\n",
       "      <td>0.071247</td>\n",
       "    </tr>\n",
       "    <tr>\n",
       "      <td>2</td>\n",
       "      <td>вдовец / вдова</td>\n",
       "      <td>62</td>\n",
       "      <td>946</td>\n",
       "      <td>0.065539</td>\n",
       "    </tr>\n",
       "    <tr>\n",
       "      <td>3</td>\n",
       "      <td>гражданский брак</td>\n",
       "      <td>383</td>\n",
       "      <td>4125</td>\n",
       "      <td>0.092848</td>\n",
       "    </tr>\n",
       "    <tr>\n",
       "      <td>4</td>\n",
       "      <td>женат / замужем</td>\n",
       "      <td>923</td>\n",
       "      <td>12218</td>\n",
       "      <td>0.075544</td>\n",
       "    </tr>\n",
       "  </tbody>\n",
       "</table>\n",
       "</div>"
      ],
      "text/plain": [
       "           family_status  sum  count  percentage\n",
       "0  Не женат / не замужем  272   2780    0.097842\n",
       "1              в разводе   84   1179    0.071247\n",
       "2         вдовец / вдова   62    946    0.065539\n",
       "3       гражданский брак  383   4125    0.092848\n",
       "4        женат / замужем  923  12218    0.075544"
      ]
     },
     "execution_count": 38,
     "metadata": {},
     "output_type": "execute_result"
    }
   ],
   "source": [
    "family_status = data.groupby(['family_status'])['debt'].agg(['sum', 'count']).reset_index()\n",
    "family_status['percentage'] = family_status['sum'] / family_status['count']\n",
    "pd.pivot_table(family_status, index='family_status', values='percentage')\n",
    "family_status"
   ]
  },
  {
   "cell_type": "code",
   "execution_count": 39,
   "metadata": {
    "scrolled": true
   },
   "outputs": [
    {
     "data": {
      "text/html": [
       "<div>\n",
       "<style scoped>\n",
       "    .dataframe tbody tr th:only-of-type {\n",
       "        vertical-align: middle;\n",
       "    }\n",
       "\n",
       "    .dataframe tbody tr th {\n",
       "        vertical-align: top;\n",
       "    }\n",
       "\n",
       "    .dataframe thead th {\n",
       "        text-align: right;\n",
       "    }\n",
       "</style>\n",
       "<table border=\"1\" class=\"dataframe\">\n",
       "  <thead>\n",
       "    <tr style=\"text-align: right;\">\n",
       "      <th></th>\n",
       "      <th>percentage</th>\n",
       "    </tr>\n",
       "    <tr>\n",
       "      <th>dob_years</th>\n",
       "      <th></th>\n",
       "    </tr>\n",
       "  </thead>\n",
       "  <tbody>\n",
       "    <tr>\n",
       "      <td>19</td>\n",
       "      <td>0.071429</td>\n",
       "    </tr>\n",
       "    <tr>\n",
       "      <td>20</td>\n",
       "      <td>0.078431</td>\n",
       "    </tr>\n",
       "    <tr>\n",
       "      <td>21</td>\n",
       "      <td>0.127273</td>\n",
       "    </tr>\n",
       "    <tr>\n",
       "      <td>22</td>\n",
       "      <td>0.136612</td>\n",
       "    </tr>\n",
       "    <tr>\n",
       "      <td>23</td>\n",
       "      <td>0.079681</td>\n",
       "    </tr>\n",
       "    <tr>\n",
       "      <td>24</td>\n",
       "      <td>0.091255</td>\n",
       "    </tr>\n",
       "    <tr>\n",
       "      <td>25</td>\n",
       "      <td>0.120787</td>\n",
       "    </tr>\n",
       "    <tr>\n",
       "      <td>26</td>\n",
       "      <td>0.115764</td>\n",
       "    </tr>\n",
       "    <tr>\n",
       "      <td>27</td>\n",
       "      <td>0.100000</td>\n",
       "    </tr>\n",
       "    <tr>\n",
       "      <td>28</td>\n",
       "      <td>0.113772</td>\n",
       "    </tr>\n",
       "    <tr>\n",
       "      <td>29</td>\n",
       "      <td>0.119926</td>\n",
       "    </tr>\n",
       "    <tr>\n",
       "      <td>30</td>\n",
       "      <td>0.101124</td>\n",
       "    </tr>\n",
       "    <tr>\n",
       "      <td>31</td>\n",
       "      <td>0.136937</td>\n",
       "    </tr>\n",
       "    <tr>\n",
       "      <td>32</td>\n",
       "      <td>0.100990</td>\n",
       "    </tr>\n",
       "    <tr>\n",
       "      <td>33</td>\n",
       "      <td>0.095321</td>\n",
       "    </tr>\n",
       "    <tr>\n",
       "      <td>34</td>\n",
       "      <td>0.105882</td>\n",
       "    </tr>\n",
       "    <tr>\n",
       "      <td>35</td>\n",
       "      <td>0.076672</td>\n",
       "    </tr>\n",
       "    <tr>\n",
       "      <td>36</td>\n",
       "      <td>0.077899</td>\n",
       "    </tr>\n",
       "    <tr>\n",
       "      <td>37</td>\n",
       "      <td>0.096226</td>\n",
       "    </tr>\n",
       "    <tr>\n",
       "      <td>38</td>\n",
       "      <td>0.107744</td>\n",
       "    </tr>\n",
       "    <tr>\n",
       "      <td>39</td>\n",
       "      <td>0.077058</td>\n",
       "    </tr>\n",
       "    <tr>\n",
       "      <td>40</td>\n",
       "      <td>0.078203</td>\n",
       "    </tr>\n",
       "    <tr>\n",
       "      <td>41</td>\n",
       "      <td>0.081395</td>\n",
       "    </tr>\n",
       "    <tr>\n",
       "      <td>42</td>\n",
       "      <td>0.071066</td>\n",
       "    </tr>\n",
       "    <tr>\n",
       "      <td>43</td>\n",
       "      <td>0.086444</td>\n",
       "    </tr>\n",
       "    <tr>\n",
       "      <td>44</td>\n",
       "      <td>0.075786</td>\n",
       "    </tr>\n",
       "    <tr>\n",
       "      <td>45</td>\n",
       "      <td>0.078947</td>\n",
       "    </tr>\n",
       "    <tr>\n",
       "      <td>46</td>\n",
       "      <td>0.081370</td>\n",
       "    </tr>\n",
       "    <tr>\n",
       "      <td>47</td>\n",
       "      <td>0.077568</td>\n",
       "    </tr>\n",
       "    <tr>\n",
       "      <td>48</td>\n",
       "      <td>0.061682</td>\n",
       "    </tr>\n",
       "    <tr>\n",
       "      <td>49</td>\n",
       "      <td>0.061386</td>\n",
       "    </tr>\n",
       "    <tr>\n",
       "      <td>50</td>\n",
       "      <td>0.090551</td>\n",
       "    </tr>\n",
       "    <tr>\n",
       "      <td>51</td>\n",
       "      <td>0.053812</td>\n",
       "    </tr>\n",
       "    <tr>\n",
       "      <td>52</td>\n",
       "      <td>0.057971</td>\n",
       "    </tr>\n",
       "    <tr>\n",
       "      <td>53</td>\n",
       "      <td>0.076586</td>\n",
       "    </tr>\n",
       "    <tr>\n",
       "      <td>54</td>\n",
       "      <td>0.065539</td>\n",
       "    </tr>\n",
       "    <tr>\n",
       "      <td>55</td>\n",
       "      <td>0.052154</td>\n",
       "    </tr>\n",
       "    <tr>\n",
       "      <td>56</td>\n",
       "      <td>0.066806</td>\n",
       "    </tr>\n",
       "    <tr>\n",
       "      <td>57</td>\n",
       "      <td>0.066225</td>\n",
       "    </tr>\n",
       "    <tr>\n",
       "      <td>58</td>\n",
       "      <td>0.052632</td>\n",
       "    </tr>\n",
       "    <tr>\n",
       "      <td>59</td>\n",
       "      <td>0.068182</td>\n",
       "    </tr>\n",
       "    <tr>\n",
       "      <td>60</td>\n",
       "      <td>0.058981</td>\n",
       "    </tr>\n",
       "    <tr>\n",
       "      <td>61</td>\n",
       "      <td>0.028409</td>\n",
       "    </tr>\n",
       "    <tr>\n",
       "      <td>62</td>\n",
       "      <td>0.051724</td>\n",
       "    </tr>\n",
       "    <tr>\n",
       "      <td>63</td>\n",
       "      <td>0.044776</td>\n",
       "    </tr>\n",
       "    <tr>\n",
       "      <td>64</td>\n",
       "      <td>0.046154</td>\n",
       "    </tr>\n",
       "    <tr>\n",
       "      <td>65</td>\n",
       "      <td>0.072165</td>\n",
       "    </tr>\n",
       "    <tr>\n",
       "      <td>66</td>\n",
       "      <td>0.043956</td>\n",
       "    </tr>\n",
       "    <tr>\n",
       "      <td>67</td>\n",
       "      <td>0.053892</td>\n",
       "    </tr>\n",
       "    <tr>\n",
       "      <td>68</td>\n",
       "      <td>0.080808</td>\n",
       "    </tr>\n",
       "    <tr>\n",
       "      <td>69</td>\n",
       "      <td>0.048193</td>\n",
       "    </tr>\n",
       "    <tr>\n",
       "      <td>70</td>\n",
       "      <td>0.046154</td>\n",
       "    </tr>\n",
       "    <tr>\n",
       "      <td>71</td>\n",
       "      <td>0.017241</td>\n",
       "    </tr>\n",
       "    <tr>\n",
       "      <td>72</td>\n",
       "      <td>0.060606</td>\n",
       "    </tr>\n",
       "    <tr>\n",
       "      <td>73</td>\n",
       "      <td>0.000000</td>\n",
       "    </tr>\n",
       "    <tr>\n",
       "      <td>74</td>\n",
       "      <td>0.000000</td>\n",
       "    </tr>\n",
       "    <tr>\n",
       "      <td>75</td>\n",
       "      <td>0.000000</td>\n",
       "    </tr>\n",
       "  </tbody>\n",
       "</table>\n",
       "</div>"
      ],
      "text/plain": [
       "           percentage\n",
       "dob_years            \n",
       "19           0.071429\n",
       "20           0.078431\n",
       "21           0.127273\n",
       "22           0.136612\n",
       "23           0.079681\n",
       "24           0.091255\n",
       "25           0.120787\n",
       "26           0.115764\n",
       "27           0.100000\n",
       "28           0.113772\n",
       "29           0.119926\n",
       "30           0.101124\n",
       "31           0.136937\n",
       "32           0.100990\n",
       "33           0.095321\n",
       "34           0.105882\n",
       "35           0.076672\n",
       "36           0.077899\n",
       "37           0.096226\n",
       "38           0.107744\n",
       "39           0.077058\n",
       "40           0.078203\n",
       "41           0.081395\n",
       "42           0.071066\n",
       "43           0.086444\n",
       "44           0.075786\n",
       "45           0.078947\n",
       "46           0.081370\n",
       "47           0.077568\n",
       "48           0.061682\n",
       "49           0.061386\n",
       "50           0.090551\n",
       "51           0.053812\n",
       "52           0.057971\n",
       "53           0.076586\n",
       "54           0.065539\n",
       "55           0.052154\n",
       "56           0.066806\n",
       "57           0.066225\n",
       "58           0.052632\n",
       "59           0.068182\n",
       "60           0.058981\n",
       "61           0.028409\n",
       "62           0.051724\n",
       "63           0.044776\n",
       "64           0.046154\n",
       "65           0.072165\n",
       "66           0.043956\n",
       "67           0.053892\n",
       "68           0.080808\n",
       "69           0.048193\n",
       "70           0.046154\n",
       "71           0.017241\n",
       "72           0.060606\n",
       "73           0.000000\n",
       "74           0.000000\n",
       "75           0.000000"
      ]
     },
     "execution_count": 39,
     "metadata": {},
     "output_type": "execute_result"
    }
   ],
   "source": [
    "age_status = data.groupby(['dob_years'])['debt'].agg(['sum', 'count']).reset_index()\n",
    "age_status['percentage'] = age_status['sum'] / age_status['count']\n",
    "pd.pivot_table(age_status, index='dob_years', values='percentage')"
   ]
  },
  {
   "cell_type": "markdown",
   "metadata": {},
   "source": [
    "**Вывод**"
   ]
  },
  {
   "cell_type": "markdown",
   "metadata": {},
   "source": [
    "Здесь есть зависимость между семейным положением и возвратом кредита в срок. Но она не однозначная и, мне кажется, больше связана с взрослением человека и более осознанным подходом к взятию кредита. Но тем не менее, люди, состоящие в гражданском браке или же не женатые/не замужем имеют большую вероятность не вернуть кредит в срок, чем вдовец/вдова."
   ]
  },
  {
   "cell_type": "markdown",
   "metadata": {},
   "source": [
    "- Есть ли зависимость между уровнем дохода и возвратом кредита в срок?"
   ]
  },
  {
   "cell_type": "code",
   "execution_count": 40,
   "metadata": {},
   "outputs": [
    {
     "data": {
      "text/html": [
       "<div>\n",
       "<style scoped>\n",
       "    .dataframe tbody tr th:only-of-type {\n",
       "        vertical-align: middle;\n",
       "    }\n",
       "\n",
       "    .dataframe tbody tr th {\n",
       "        vertical-align: top;\n",
       "    }\n",
       "\n",
       "    .dataframe thead th {\n",
       "        text-align: right;\n",
       "    }\n",
       "</style>\n",
       "<table border=\"1\" class=\"dataframe\">\n",
       "  <thead>\n",
       "    <tr style=\"text-align: right;\">\n",
       "      <th></th>\n",
       "      <th>percentage</th>\n",
       "    </tr>\n",
       "    <tr>\n",
       "      <th>earning_level</th>\n",
       "      <th></th>\n",
       "    </tr>\n",
       "  </thead>\n",
       "  <tbody>\n",
       "    <tr>\n",
       "      <td>низкий</td>\n",
       "      <td>0.080008</td>\n",
       "    </tr>\n",
       "    <tr>\n",
       "      <td>средний</td>\n",
       "      <td>0.087981</td>\n",
       "    </tr>\n",
       "    <tr>\n",
       "      <td>высокий</td>\n",
       "      <td>0.084955</td>\n",
       "    </tr>\n",
       "    <tr>\n",
       "      <td>очень высокий</td>\n",
       "      <td>0.071536</td>\n",
       "    </tr>\n",
       "  </tbody>\n",
       "</table>\n",
       "</div>"
      ],
      "text/plain": [
       "               percentage\n",
       "earning_level            \n",
       "низкий           0.080008\n",
       "средний          0.087981\n",
       "высокий          0.084955\n",
       "очень высокий    0.071536"
      ]
     },
     "execution_count": 40,
     "metadata": {},
     "output_type": "execute_result"
    }
   ],
   "source": [
    "total_income = data.groupby(['earning_level'])['debt'].agg(['sum', 'count']).reset_index()\n",
    "total_income['percentage'] = total_income['sum'] / total_income['count']\n",
    "pd.pivot_table(total_income, index='earning_level', values='percentage')"
   ]
  },
  {
   "cell_type": "markdown",
   "metadata": {},
   "source": [
    "**Вывод**"
   ]
  },
  {
   "cell_type": "markdown",
   "metadata": {},
   "source": [
    "Здесь есть зависимость между уровнем дохода и возвратом кредита в срок. Люди, имеющие заработок до 500 тыс. имеют большую вероятность не вернуть кредит в срок, чем люди имеющие доход более 500 тыс."
   ]
  },
  {
   "cell_type": "markdown",
   "metadata": {},
   "source": [
    "- Как разные цели кредита влияют на его возврат в срок?"
   ]
  },
  {
   "cell_type": "code",
   "execution_count": 41,
   "metadata": {},
   "outputs": [
    {
     "data": {
      "text/html": [
       "<div>\n",
       "<style scoped>\n",
       "    .dataframe tbody tr th:only-of-type {\n",
       "        vertical-align: middle;\n",
       "    }\n",
       "\n",
       "    .dataframe tbody tr th {\n",
       "        vertical-align: top;\n",
       "    }\n",
       "\n",
       "    .dataframe thead th {\n",
       "        text-align: right;\n",
       "    }\n",
       "</style>\n",
       "<table border=\"1\" class=\"dataframe\">\n",
       "  <thead>\n",
       "    <tr style=\"text-align: right;\">\n",
       "      <th></th>\n",
       "      <th>percentage</th>\n",
       "    </tr>\n",
       "    <tr>\n",
       "      <th>purpose</th>\n",
       "      <th></th>\n",
       "    </tr>\n",
       "  </thead>\n",
       "  <tbody>\n",
       "    <tr>\n",
       "      <td>автомобиль</td>\n",
       "      <td>0.093192</td>\n",
       "    </tr>\n",
       "    <tr>\n",
       "      <td>недвижимость</td>\n",
       "      <td>0.072569</td>\n",
       "    </tr>\n",
       "    <tr>\n",
       "      <td>образование</td>\n",
       "      <td>0.092924</td>\n",
       "    </tr>\n",
       "    <tr>\n",
       "      <td>свадьба</td>\n",
       "      <td>0.078355</td>\n",
       "    </tr>\n",
       "  </tbody>\n",
       "</table>\n",
       "</div>"
      ],
      "text/plain": [
       "              percentage\n",
       "purpose                 \n",
       "автомобиль      0.093192\n",
       "недвижимость    0.072569\n",
       "образование     0.092924\n",
       "свадьба         0.078355"
      ]
     },
     "execution_count": 41,
     "metadata": {},
     "output_type": "execute_result"
    }
   ],
   "source": [
    "purpose = data.groupby(['purpose'])['debt'].agg(['sum', 'count']).reset_index()\n",
    "purpose['percentage'] = purpose['sum'] / purpose['count']\n",
    "pd.pivot_table(purpose, index='purpose', values='percentage')"
   ]
  },
  {
   "cell_type": "markdown",
   "metadata": {},
   "source": [
    "**Вывод**"
   ]
  },
  {
   "cell_type": "markdown",
   "metadata": {},
   "source": [
    "Кредит на автомобиль или образование имеют примерно равную вероятность не вернуть в срок и она существенно больше, чем кредит на свадьбу или недвижимость."
   ]
  },
  {
   "cell_type": "markdown",
   "metadata": {},
   "source": [
    "## Шаг 4. Общий вывод"
   ]
  },
  {
   "cell_type": "markdown",
   "metadata": {},
   "source": [
    "Все таки не все гипотезы подтвердились и есть данные, которые никак не влияют на возврат кредита в срок. Такие как количество детей в семье. Но все же большинство из них были правдивы. Так же мы выяснили, что возраст тоже имеет значение при анализе. Чем человек взрослее, тем больше вероятность, что он вернет его в срок. С этим близко связано семейное положение. Женатый человек или уже вдовец/вдова имеют большую вероятность вернуть кредит вовремя, чем человек, не состоящий в браке, или находящийся в гражданоском браке. Так же более богатый человек имеет больший шанс вернуть кредит вовремя. Кредит на автомобиль или образование имеет более высокий шанс не вернуть в срок, чем свадьба или недвижимость. Из всего этого мы можем сделать вывод, что по данным человека можно понять, какова вероятность, что он вернет кредит в срок."
   ]
  }
 ],
 "metadata": {
  "ExecuteTimeLog": [
   {
    "duration": 584,
    "start_time": "2021-10-26T16:01:48.312Z"
   },
   {
    "duration": 79,
    "start_time": "2021-10-26T16:02:18.971Z"
   },
   {
    "duration": 76,
    "start_time": "2021-10-26T16:02:31.744Z"
   },
   {
    "duration": 82,
    "start_time": "2021-10-26T16:03:07.240Z"
   },
   {
    "duration": 795,
    "start_time": "2021-11-02T12:23:51.328Z"
   },
   {
    "duration": 13,
    "start_time": "2021-11-02T12:24:08.251Z"
   },
   {
    "duration": 35,
    "start_time": "2021-11-02T12:25:19.462Z"
   },
   {
    "duration": 22,
    "start_time": "2021-11-02T12:25:36.787Z"
   },
   {
    "duration": 129,
    "start_time": "2021-11-02T12:31:36.781Z"
   },
   {
    "duration": 145,
    "start_time": "2021-11-02T12:32:03.577Z"
   },
   {
    "duration": 124,
    "start_time": "2021-11-02T12:32:31.445Z"
   },
   {
    "duration": 14,
    "start_time": "2021-11-02T12:37:05.540Z"
   },
   {
    "duration": 12,
    "start_time": "2021-11-02T12:45:05.581Z"
   },
   {
    "duration": 17,
    "start_time": "2021-11-02T12:45:13.761Z"
   },
   {
    "duration": 17,
    "start_time": "2021-11-02T12:45:24.211Z"
   },
   {
    "duration": 17,
    "start_time": "2021-11-02T12:45:44.077Z"
   },
   {
    "duration": 9,
    "start_time": "2021-11-02T12:45:54.006Z"
   },
   {
    "duration": 5,
    "start_time": "2021-11-02T12:45:56.722Z"
   },
   {
    "duration": 11,
    "start_time": "2021-11-02T12:45:58.621Z"
   },
   {
    "duration": 136,
    "start_time": "2021-11-02T12:46:01.582Z"
   },
   {
    "duration": 24,
    "start_time": "2021-11-02T12:46:01.721Z"
   },
   {
    "duration": 26,
    "start_time": "2021-11-02T12:46:01.748Z"
   },
   {
    "duration": 19,
    "start_time": "2021-11-02T12:46:23.425Z"
   },
   {
    "duration": 19,
    "start_time": "2021-11-02T12:46:56.645Z"
   },
   {
    "duration": 19,
    "start_time": "2021-11-02T12:47:33.642Z"
   },
   {
    "duration": 4,
    "start_time": "2021-11-02T12:51:05.694Z"
   },
   {
    "duration": 16,
    "start_time": "2021-11-02T12:51:34.788Z"
   },
   {
    "duration": 18,
    "start_time": "2021-11-02T12:51:45.307Z"
   },
   {
    "duration": 5,
    "start_time": "2021-11-02T12:52:10.879Z"
   },
   {
    "duration": 13,
    "start_time": "2021-11-02T12:52:18.161Z"
   },
   {
    "duration": 22,
    "start_time": "2021-11-02T12:54:49.540Z"
   },
   {
    "duration": 384,
    "start_time": "2021-11-02T12:55:12.771Z"
   },
   {
    "duration": 18,
    "start_time": "2021-11-02T12:57:25.266Z"
   },
   {
    "duration": 39,
    "start_time": "2021-11-02T12:58:42.616Z"
   },
   {
    "duration": 46,
    "start_time": "2021-11-02T12:59:05.840Z"
   },
   {
    "duration": 33,
    "start_time": "2021-11-02T12:59:21.564Z"
   },
   {
    "duration": 44,
    "start_time": "2021-11-02T12:59:26.136Z"
   },
   {
    "duration": 8,
    "start_time": "2021-11-02T13:00:38.703Z"
   },
   {
    "duration": 291,
    "start_time": "2021-11-02T13:00:49.124Z"
   },
   {
    "duration": 3,
    "start_time": "2021-11-02T13:00:59.731Z"
   },
   {
    "duration": 3,
    "start_time": "2021-11-02T13:02:25.082Z"
   },
   {
    "duration": 5,
    "start_time": "2021-11-02T13:02:29.301Z"
   },
   {
    "duration": 11,
    "start_time": "2021-11-02T13:10:33.681Z"
   },
   {
    "duration": 3,
    "start_time": "2021-11-02T13:14:27.389Z"
   },
   {
    "duration": 3,
    "start_time": "2021-11-02T13:15:07.267Z"
   },
   {
    "duration": 3,
    "start_time": "2021-11-02T13:15:08.796Z"
   },
   {
    "duration": 15,
    "start_time": "2021-11-02T13:15:22.447Z"
   },
   {
    "duration": 1365,
    "start_time": "2021-11-02T13:16:23.064Z"
   },
   {
    "duration": -1394,
    "start_time": "2021-11-02T13:16:25.824Z"
   },
   {
    "duration": 6,
    "start_time": "2021-11-02T13:18:28.555Z"
   },
   {
    "duration": 1799,
    "start_time": "2021-11-02T13:18:29.813Z"
   },
   {
    "duration": -1391,
    "start_time": "2021-11-02T13:18:33.005Z"
   },
   {
    "duration": 5,
    "start_time": "2021-11-02T13:22:00.171Z"
   },
   {
    "duration": 1470,
    "start_time": "2021-11-02T13:22:01.476Z"
   },
   {
    "duration": 13,
    "start_time": "2021-11-02T13:23:28.678Z"
   },
   {
    "duration": 4,
    "start_time": "2021-11-02T13:26:29.418Z"
   },
   {
    "duration": 1650,
    "start_time": "2021-11-02T13:26:32.029Z"
   },
   {
    "duration": 1682,
    "start_time": "2021-11-02T13:27:20.832Z"
   },
   {
    "duration": 4,
    "start_time": "2021-11-02T13:28:47.402Z"
   },
   {
    "duration": 1469,
    "start_time": "2021-11-02T13:28:48.160Z"
   },
   {
    "duration": 2,
    "start_time": "2021-11-02T13:29:20.691Z"
   },
   {
    "duration": 6,
    "start_time": "2021-11-02T13:29:22.359Z"
   },
   {
    "duration": 1322,
    "start_time": "2021-11-02T13:29:23.038Z"
   },
   {
    "duration": 3,
    "start_time": "2021-11-02T13:30:07.972Z"
   },
   {
    "duration": 1466,
    "start_time": "2021-11-02T13:30:09.045Z"
   },
   {
    "duration": 12,
    "start_time": "2021-11-02T13:48:09.418Z"
   },
   {
    "duration": 1061,
    "start_time": "2021-11-02T13:48:52.958Z"
   },
   {
    "duration": 10,
    "start_time": "2021-11-02T13:48:57.752Z"
   },
   {
    "duration": 3,
    "start_time": "2021-11-02T13:49:04.503Z"
   },
   {
    "duration": 3,
    "start_time": "2021-11-02T13:49:05.168Z"
   },
   {
    "duration": 6,
    "start_time": "2021-11-02T13:49:05.642Z"
   },
   {
    "duration": 1939,
    "start_time": "2021-11-02T13:49:06.754Z"
   },
   {
    "duration": 13,
    "start_time": "2021-11-02T13:49:08.696Z"
   },
   {
    "duration": 20,
    "start_time": "2021-11-02T13:49:31.549Z"
   },
   {
    "duration": 5,
    "start_time": "2021-11-02T13:50:30.592Z"
   },
   {
    "duration": 1386,
    "start_time": "2021-11-02T13:50:31.633Z"
   },
   {
    "duration": 4,
    "start_time": "2021-11-02T13:50:43.678Z"
   },
   {
    "duration": 1475,
    "start_time": "2021-11-02T13:50:44.382Z"
   },
   {
    "duration": 15,
    "start_time": "2021-11-02T13:50:49.317Z"
   },
   {
    "duration": 3,
    "start_time": "2021-11-02T13:51:09.338Z"
   },
   {
    "duration": 4,
    "start_time": "2021-11-02T13:51:09.670Z"
   },
   {
    "duration": 1325,
    "start_time": "2021-11-02T13:51:09.961Z"
   },
   {
    "duration": 7,
    "start_time": "2021-11-02T13:53:29.412Z"
   },
   {
    "duration": 1314,
    "start_time": "2021-11-02T13:53:29.783Z"
   },
   {
    "duration": 3,
    "start_time": "2021-11-02T13:54:27.073Z"
   },
   {
    "duration": 3,
    "start_time": "2021-11-02T13:54:27.422Z"
   },
   {
    "duration": 1310,
    "start_time": "2021-11-02T13:54:28.102Z"
   },
   {
    "duration": 97,
    "start_time": "2021-11-02T13:57:47.459Z"
   },
   {
    "duration": 3,
    "start_time": "2021-11-02T13:57:59.782Z"
   },
   {
    "duration": 1351,
    "start_time": "2021-11-02T13:58:01.140Z"
   },
   {
    "duration": 4,
    "start_time": "2021-11-02T13:58:08.557Z"
   },
   {
    "duration": 1446,
    "start_time": "2021-11-02T13:58:08.963Z"
   },
   {
    "duration": 3,
    "start_time": "2021-11-02T13:58:45.011Z"
   },
   {
    "duration": 1464,
    "start_time": "2021-11-02T13:58:45.236Z"
   },
   {
    "duration": 5,
    "start_time": "2021-11-02T13:59:58.287Z"
   },
   {
    "duration": 1513,
    "start_time": "2021-11-02T13:59:58.661Z"
   },
   {
    "duration": 1347,
    "start_time": "2021-11-02T14:02:28.070Z"
   },
   {
    "duration": 4,
    "start_time": "2021-11-02T14:03:35.366Z"
   },
   {
    "duration": 1531,
    "start_time": "2021-11-02T14:03:36.615Z"
   },
   {
    "duration": 14,
    "start_time": "2021-11-02T14:03:40.818Z"
   },
   {
    "duration": 3,
    "start_time": "2021-11-02T14:04:01.802Z"
   },
   {
    "duration": 4,
    "start_time": "2021-11-02T14:04:02.573Z"
   },
   {
    "duration": 1593,
    "start_time": "2021-11-02T14:04:03.267Z"
   },
   {
    "duration": 4,
    "start_time": "2021-11-02T14:05:04.339Z"
   },
   {
    "duration": 1578,
    "start_time": "2021-11-02T14:05:05.606Z"
   },
   {
    "duration": 4,
    "start_time": "2021-11-02T14:05:44.169Z"
   },
   {
    "duration": 1486,
    "start_time": "2021-11-02T14:05:44.685Z"
   },
   {
    "duration": 3,
    "start_time": "2021-11-02T14:06:23.469Z"
   },
   {
    "duration": 1330,
    "start_time": "2021-11-02T14:06:30.479Z"
   },
   {
    "duration": 15,
    "start_time": "2021-11-02T14:06:38.189Z"
   },
   {
    "duration": 3,
    "start_time": "2021-11-02T14:07:46.060Z"
   },
   {
    "duration": 1368,
    "start_time": "2021-11-02T14:07:47.348Z"
   },
   {
    "duration": 87,
    "start_time": "2021-11-02T14:07:55.045Z"
   },
   {
    "duration": 4,
    "start_time": "2021-11-02T14:08:10.216Z"
   },
   {
    "duration": 1337,
    "start_time": "2021-11-02T14:08:11.415Z"
   },
   {
    "duration": 12,
    "start_time": "2021-11-02T14:08:30.146Z"
   },
   {
    "duration": 1404,
    "start_time": "2021-11-02T14:08:31.671Z"
   },
   {
    "duration": 4,
    "start_time": "2021-11-02T14:08:54.202Z"
   },
   {
    "duration": 1413,
    "start_time": "2021-11-02T14:08:54.544Z"
   },
   {
    "duration": 19,
    "start_time": "2021-11-02T14:08:58.878Z"
   },
   {
    "duration": 1346,
    "start_time": "2021-11-02T14:09:11.516Z"
   },
   {
    "duration": 1344,
    "start_time": "2021-11-02T14:09:18.129Z"
   },
   {
    "duration": 4,
    "start_time": "2021-11-02T14:09:53.583Z"
   },
   {
    "duration": 1389,
    "start_time": "2021-11-02T14:09:53.589Z"
   },
   {
    "duration": 20,
    "start_time": "2021-11-02T14:10:04.457Z"
   },
   {
    "duration": 3,
    "start_time": "2021-11-02T14:12:49.346Z"
   },
   {
    "duration": 4,
    "start_time": "2021-11-02T14:12:49.785Z"
   },
   {
    "duration": 1341,
    "start_time": "2021-11-02T14:12:50.472Z"
   },
   {
    "duration": 3,
    "start_time": "2021-11-02T14:13:07.073Z"
   },
   {
    "duration": 3,
    "start_time": "2021-11-02T14:13:07.294Z"
   },
   {
    "duration": 1311,
    "start_time": "2021-11-02T14:13:07.492Z"
   },
   {
    "duration": 107,
    "start_time": "2021-11-02T14:13:14.811Z"
   },
   {
    "duration": 26,
    "start_time": "2021-11-02T14:13:14.921Z"
   },
   {
    "duration": 17,
    "start_time": "2021-11-02T14:13:14.949Z"
   },
   {
    "duration": 12,
    "start_time": "2021-11-02T14:13:14.968Z"
   },
   {
    "duration": 17,
    "start_time": "2021-11-02T14:13:14.982Z"
   },
   {
    "duration": 15,
    "start_time": "2021-11-02T14:13:15.001Z"
   },
   {
    "duration": 29,
    "start_time": "2021-11-02T14:13:15.043Z"
   },
   {
    "duration": 35,
    "start_time": "2021-11-02T14:13:15.074Z"
   },
   {
    "duration": 50,
    "start_time": "2021-11-02T14:13:15.112Z"
   },
   {
    "duration": 3,
    "start_time": "2021-11-02T14:13:15.164Z"
   },
   {
    "duration": 14,
    "start_time": "2021-11-02T14:13:15.169Z"
   },
   {
    "duration": 3773,
    "start_time": "2021-11-02T14:13:15.184Z"
   },
   {
    "duration": 19,
    "start_time": "2021-11-02T14:13:18.959Z"
   },
   {
    "duration": 3282,
    "start_time": "2021-11-02T14:13:51.997Z"
   },
   {
    "duration": 13,
    "start_time": "2021-11-02T14:13:57.864Z"
   },
   {
    "duration": 261,
    "start_time": "2021-11-02T14:59:07.907Z"
   },
   {
    "duration": 5,
    "start_time": "2021-11-02T14:59:35.094Z"
   },
   {
    "duration": 8,
    "start_time": "2021-11-02T14:59:58.798Z"
   },
   {
    "duration": 295,
    "start_time": "2021-11-02T15:00:50.621Z"
   },
   {
    "duration": 9,
    "start_time": "2021-11-02T15:00:56.278Z"
   },
   {
    "duration": 43,
    "start_time": "2021-11-02T15:02:07.878Z"
   },
   {
    "duration": 123,
    "start_time": "2021-11-02T15:02:11.391Z"
   },
   {
    "duration": 10,
    "start_time": "2021-11-02T15:02:11.516Z"
   },
   {
    "duration": 30,
    "start_time": "2021-11-02T15:02:11.528Z"
   },
   {
    "duration": 12,
    "start_time": "2021-11-02T15:02:11.560Z"
   },
   {
    "duration": 12,
    "start_time": "2021-11-02T15:02:11.574Z"
   },
   {
    "duration": 25,
    "start_time": "2021-11-02T15:02:11.588Z"
   },
   {
    "duration": 25,
    "start_time": "2021-11-02T15:02:11.644Z"
   },
   {
    "duration": 27,
    "start_time": "2021-11-02T15:02:11.672Z"
   },
   {
    "duration": 44,
    "start_time": "2021-11-02T15:02:11.701Z"
   },
   {
    "duration": 11,
    "start_time": "2021-11-02T15:02:11.747Z"
   },
   {
    "duration": 8,
    "start_time": "2021-11-02T15:02:11.760Z"
   },
   {
    "duration": 3686,
    "start_time": "2021-11-02T15:02:11.770Z"
   },
   {
    "duration": 15,
    "start_time": "2021-11-02T15:02:15.458Z"
   },
   {
    "duration": 12,
    "start_time": "2021-11-02T15:02:15.475Z"
   },
   {
    "duration": 11,
    "start_time": "2021-11-02T15:02:41.169Z"
   },
   {
    "duration": 11,
    "start_time": "2021-11-02T15:05:11.428Z"
   },
   {
    "duration": 11,
    "start_time": "2021-11-02T15:05:14.392Z"
   },
   {
    "duration": 15,
    "start_time": "2021-11-02T15:05:53.749Z"
   },
   {
    "duration": 9,
    "start_time": "2021-11-02T15:06:17.981Z"
   },
   {
    "duration": 280,
    "start_time": "2021-11-02T15:06:57.537Z"
   },
   {
    "duration": 11,
    "start_time": "2021-11-02T15:07:08.439Z"
   },
   {
    "duration": 10,
    "start_time": "2021-11-02T15:08:02.896Z"
   },
   {
    "duration": 4,
    "start_time": "2021-11-02T15:08:42.422Z"
   },
   {
    "duration": 17,
    "start_time": "2021-11-02T15:08:50.041Z"
   },
   {
    "duration": 4,
    "start_time": "2021-11-02T15:13:11.032Z"
   },
   {
    "duration": 5,
    "start_time": "2021-11-02T15:14:33.009Z"
   },
   {
    "duration": 6,
    "start_time": "2021-11-02T15:14:51.053Z"
   },
   {
    "duration": 22,
    "start_time": "2021-11-02T15:15:40.268Z"
   },
   {
    "duration": 12,
    "start_time": "2021-11-02T15:15:59.068Z"
   },
   {
    "duration": 14,
    "start_time": "2021-11-02T15:18:48.444Z"
   },
   {
    "duration": 19,
    "start_time": "2021-11-02T15:18:58.123Z"
   },
   {
    "duration": 14,
    "start_time": "2021-11-02T15:20:31.752Z"
   },
   {
    "duration": 14,
    "start_time": "2021-11-02T15:22:28.263Z"
   },
   {
    "duration": 14,
    "start_time": "2021-11-02T15:22:35.563Z"
   },
   {
    "duration": 13,
    "start_time": "2021-11-02T15:23:01.634Z"
   },
   {
    "duration": 10,
    "start_time": "2021-11-02T15:23:13.215Z"
   },
   {
    "duration": 12,
    "start_time": "2021-11-02T15:23:31.574Z"
   },
   {
    "duration": 13,
    "start_time": "2021-11-02T15:23:44.179Z"
   },
   {
    "duration": 12,
    "start_time": "2021-11-02T15:24:24.933Z"
   },
   {
    "duration": 20,
    "start_time": "2021-11-02T15:24:30.573Z"
   },
   {
    "duration": 14,
    "start_time": "2021-11-02T15:25:07.290Z"
   },
   {
    "duration": 13,
    "start_time": "2021-11-02T15:26:14.386Z"
   },
   {
    "duration": 13,
    "start_time": "2021-11-02T15:33:07.362Z"
   },
   {
    "duration": 125,
    "start_time": "2021-11-02T15:33:29.500Z"
   },
   {
    "duration": 14,
    "start_time": "2021-11-02T15:33:50.181Z"
   },
   {
    "duration": 20,
    "start_time": "2021-11-02T15:34:10.542Z"
   },
   {
    "duration": 15,
    "start_time": "2021-11-02T15:34:38.912Z"
   },
   {
    "duration": 22,
    "start_time": "2021-11-02T15:37:00.083Z"
   },
   {
    "duration": 9,
    "start_time": "2021-11-02T15:53:13.996Z"
   },
   {
    "duration": 1227,
    "start_time": "2021-11-02T15:53:30.344Z"
   },
   {
    "duration": 1227,
    "start_time": "2021-11-02T15:54:00.918Z"
   },
   {
    "duration": 1878,
    "start_time": "2021-11-02T15:54:49.483Z"
   },
   {
    "duration": 1251,
    "start_time": "2021-11-02T15:55:08.324Z"
   },
   {
    "duration": 1164,
    "start_time": "2021-11-02T15:57:11.897Z"
   },
   {
    "duration": 89,
    "start_time": "2021-11-02T15:57:33.336Z"
   },
   {
    "duration": 33,
    "start_time": "2021-11-02T15:57:33.426Z"
   },
   {
    "duration": 22,
    "start_time": "2021-11-02T15:57:33.462Z"
   },
   {
    "duration": 25,
    "start_time": "2021-11-02T15:57:33.487Z"
   },
   {
    "duration": 52,
    "start_time": "2021-11-02T15:57:33.514Z"
   },
   {
    "duration": 35,
    "start_time": "2021-11-02T15:57:33.568Z"
   },
   {
    "duration": 41,
    "start_time": "2021-11-02T15:57:33.605Z"
   },
   {
    "duration": 55,
    "start_time": "2021-11-02T15:57:33.649Z"
   },
   {
    "duration": 38,
    "start_time": "2021-11-02T15:57:33.707Z"
   },
   {
    "duration": 3,
    "start_time": "2021-11-02T15:57:33.747Z"
   },
   {
    "duration": 46,
    "start_time": "2021-11-02T15:57:33.752Z"
   },
   {
    "duration": 3861,
    "start_time": "2021-11-02T15:57:33.800Z"
   },
   {
    "duration": 14,
    "start_time": "2021-11-02T15:57:37.664Z"
   },
   {
    "duration": 23,
    "start_time": "2021-11-02T15:57:37.680Z"
   },
   {
    "duration": 20,
    "start_time": "2021-11-02T15:57:37.705Z"
   },
   {
    "duration": 45,
    "start_time": "2021-11-02T15:57:37.727Z"
   },
   {
    "duration": 14,
    "start_time": "2021-11-02T15:57:37.774Z"
   },
   {
    "duration": 16,
    "start_time": "2021-11-02T15:57:37.790Z"
   },
   {
    "duration": 46,
    "start_time": "2021-11-02T15:57:37.808Z"
   },
   {
    "duration": 21,
    "start_time": "2021-11-02T15:57:37.856Z"
   },
   {
    "duration": 1216,
    "start_time": "2021-11-02T15:58:34.790Z"
   },
   {
    "duration": 86,
    "start_time": "2021-11-02T15:58:41.734Z"
   },
   {
    "duration": 27,
    "start_time": "2021-11-02T15:58:41.822Z"
   },
   {
    "duration": 17,
    "start_time": "2021-11-02T15:58:41.852Z"
   },
   {
    "duration": 12,
    "start_time": "2021-11-02T15:58:41.871Z"
   },
   {
    "duration": 12,
    "start_time": "2021-11-02T15:58:41.885Z"
   },
   {
    "duration": 58,
    "start_time": "2021-11-02T15:58:41.899Z"
   },
   {
    "duration": 27,
    "start_time": "2021-11-02T15:58:41.959Z"
   },
   {
    "duration": 26,
    "start_time": "2021-11-02T15:58:41.988Z"
   },
   {
    "duration": 41,
    "start_time": "2021-11-02T15:58:42.046Z"
   },
   {
    "duration": 3,
    "start_time": "2021-11-02T15:58:42.089Z"
   },
   {
    "duration": 5,
    "start_time": "2021-11-02T15:58:42.094Z"
   },
   {
    "duration": 3700,
    "start_time": "2021-11-02T15:58:42.101Z"
   },
   {
    "duration": 19,
    "start_time": "2021-11-02T15:58:45.803Z"
   },
   {
    "duration": 11,
    "start_time": "2021-11-02T15:58:45.844Z"
   },
   {
    "duration": 13,
    "start_time": "2021-11-02T15:58:45.857Z"
   },
   {
    "duration": 31,
    "start_time": "2021-11-02T15:58:45.872Z"
   },
   {
    "duration": 41,
    "start_time": "2021-11-02T15:58:45.905Z"
   },
   {
    "duration": 15,
    "start_time": "2021-11-02T15:58:45.947Z"
   },
   {
    "duration": 14,
    "start_time": "2021-11-02T15:58:45.964Z"
   },
   {
    "duration": 16,
    "start_time": "2021-11-02T15:58:45.981Z"
   },
   {
    "duration": 15,
    "start_time": "2021-11-02T16:00:14.614Z"
   },
   {
    "duration": 20,
    "start_time": "2021-11-02T16:26:04.332Z"
   },
   {
    "duration": 26,
    "start_time": "2021-11-02T16:26:12.615Z"
   },
   {
    "duration": 25,
    "start_time": "2021-11-02T16:26:32.765Z"
   },
   {
    "duration": 28,
    "start_time": "2021-11-02T16:27:14.291Z"
   },
   {
    "duration": 28,
    "start_time": "2021-11-02T16:27:27.600Z"
   },
   {
    "duration": 20,
    "start_time": "2021-11-02T16:29:33.545Z"
   },
   {
    "duration": 27,
    "start_time": "2021-11-02T16:29:47.470Z"
   },
   {
    "duration": 15,
    "start_time": "2021-11-02T16:33:12.171Z"
   },
   {
    "duration": 13,
    "start_time": "2021-11-02T16:33:17.375Z"
   },
   {
    "duration": 702,
    "start_time": "2021-11-02T17:04:47.120Z"
   },
   {
    "duration": 9,
    "start_time": "2021-11-02T17:04:47.824Z"
   },
   {
    "duration": 34,
    "start_time": "2021-11-02T17:04:47.835Z"
   },
   {
    "duration": 18,
    "start_time": "2021-11-02T17:04:47.872Z"
   },
   {
    "duration": 13,
    "start_time": "2021-11-02T17:04:47.895Z"
   },
   {
    "duration": 16,
    "start_time": "2021-11-02T17:04:47.909Z"
   },
   {
    "duration": 43,
    "start_time": "2021-11-02T17:04:47.926Z"
   },
   {
    "duration": 37,
    "start_time": "2021-11-02T17:04:47.974Z"
   },
   {
    "duration": 16,
    "start_time": "2021-11-02T17:04:48.013Z"
   },
   {
    "duration": 4,
    "start_time": "2021-11-02T17:04:48.030Z"
   },
   {
    "duration": 3802,
    "start_time": "2021-11-02T17:04:48.035Z"
   },
   {
    "duration": 15,
    "start_time": "2021-11-02T17:04:51.839Z"
   },
   {
    "duration": 29,
    "start_time": "2021-11-02T17:04:51.863Z"
   },
   {
    "duration": 21,
    "start_time": "2021-11-02T17:04:51.894Z"
   },
   {
    "duration": 23,
    "start_time": "2021-11-02T17:04:51.916Z"
   },
   {
    "duration": 49,
    "start_time": "2021-11-02T17:04:51.941Z"
   },
   {
    "duration": 15,
    "start_time": "2021-11-02T17:04:51.991Z"
   },
   {
    "duration": 15,
    "start_time": "2021-11-02T17:04:52.008Z"
   },
   {
    "duration": 13,
    "start_time": "2021-11-02T17:04:52.025Z"
   },
   {
    "duration": 8,
    "start_time": "2021-11-02T17:07:27.932Z"
   },
   {
    "duration": 762,
    "start_time": "2021-11-03T15:21:42.597Z"
   },
   {
    "duration": 10,
    "start_time": "2021-11-03T15:21:43.361Z"
   },
   {
    "duration": 12,
    "start_time": "2021-11-03T15:21:43.373Z"
   },
   {
    "duration": 40,
    "start_time": "2021-11-03T15:21:43.388Z"
   },
   {
    "duration": 14,
    "start_time": "2021-11-03T15:21:43.430Z"
   },
   {
    "duration": 13,
    "start_time": "2021-11-03T15:21:43.446Z"
   },
   {
    "duration": 60,
    "start_time": "2021-11-03T15:21:43.461Z"
   },
   {
    "duration": 30,
    "start_time": "2021-11-03T15:21:43.523Z"
   },
   {
    "duration": 15,
    "start_time": "2021-11-03T15:21:43.556Z"
   },
   {
    "duration": 5,
    "start_time": "2021-11-03T15:21:43.572Z"
   },
   {
    "duration": 3998,
    "start_time": "2021-11-03T15:21:43.578Z"
   },
   {
    "duration": 15,
    "start_time": "2021-11-03T15:21:47.579Z"
   },
   {
    "duration": 24,
    "start_time": "2021-11-03T15:21:47.613Z"
   },
   {
    "duration": 13,
    "start_time": "2021-11-03T15:21:47.639Z"
   },
   {
    "duration": 40,
    "start_time": "2021-11-03T15:21:47.654Z"
   },
   {
    "duration": 44,
    "start_time": "2021-11-03T15:21:47.696Z"
   },
   {
    "duration": 21,
    "start_time": "2021-11-03T15:21:47.742Z"
   },
   {
    "duration": 46,
    "start_time": "2021-11-03T15:21:47.765Z"
   },
   {
    "duration": 15,
    "start_time": "2021-11-03T15:21:47.813Z"
   },
   {
    "duration": 30,
    "start_time": "2021-11-03T15:21:47.830Z"
   },
   {
    "duration": 404,
    "start_time": "2021-11-03T15:48:53.567Z"
   },
   {
    "duration": 12,
    "start_time": "2021-11-03T15:49:03.295Z"
   },
   {
    "duration": 11,
    "start_time": "2021-11-03T15:49:09.640Z"
   },
   {
    "duration": 137,
    "start_time": "2021-11-03T15:49:12.745Z"
   },
   {
    "duration": 15,
    "start_time": "2021-11-03T15:49:45.059Z"
   },
   {
    "duration": 12,
    "start_time": "2021-11-03T15:50:24.552Z"
   },
   {
    "duration": 335,
    "start_time": "2021-11-03T16:26:02.548Z"
   },
   {
    "duration": 339,
    "start_time": "2021-11-03T16:26:08.039Z"
   },
   {
    "duration": 1401,
    "start_time": "2021-11-03T16:26:30.494Z"
   },
   {
    "duration": 95,
    "start_time": "2021-11-03T16:26:45.521Z"
   },
   {
    "duration": 9,
    "start_time": "2021-11-03T16:26:45.618Z"
   },
   {
    "duration": 13,
    "start_time": "2021-11-03T16:26:45.629Z"
   },
   {
    "duration": 11,
    "start_time": "2021-11-03T16:26:45.644Z"
   },
   {
    "duration": 12,
    "start_time": "2021-11-03T16:26:45.657Z"
   },
   {
    "duration": 53,
    "start_time": "2021-11-03T16:26:45.671Z"
   },
   {
    "duration": 36,
    "start_time": "2021-11-03T16:26:45.726Z"
   },
   {
    "duration": 29,
    "start_time": "2021-11-03T16:26:45.766Z"
   },
   {
    "duration": 46,
    "start_time": "2021-11-03T16:26:45.798Z"
   },
   {
    "duration": 3,
    "start_time": "2021-11-03T16:26:45.846Z"
   },
   {
    "duration": 3808,
    "start_time": "2021-11-03T16:26:45.851Z"
   },
   {
    "duration": 16,
    "start_time": "2021-11-03T16:26:49.662Z"
   },
   {
    "duration": 30,
    "start_time": "2021-11-03T16:26:49.680Z"
   },
   {
    "duration": 10,
    "start_time": "2021-11-03T16:26:49.712Z"
   },
   {
    "duration": 37,
    "start_time": "2021-11-03T16:26:49.724Z"
   },
   {
    "duration": 17,
    "start_time": "2021-11-03T16:26:49.763Z"
   },
   {
    "duration": 22,
    "start_time": "2021-11-03T16:26:49.781Z"
   },
   {
    "duration": 17,
    "start_time": "2021-11-03T16:26:49.809Z"
   },
   {
    "duration": 18,
    "start_time": "2021-11-03T16:26:49.827Z"
   },
   {
    "duration": 12,
    "start_time": "2021-11-03T16:26:49.847Z"
   },
   {
    "duration": 1704,
    "start_time": "2021-11-03T16:27:04.885Z"
   },
   {
    "duration": 95,
    "start_time": "2021-11-03T16:27:09.184Z"
   },
   {
    "duration": 26,
    "start_time": "2021-11-03T16:27:09.282Z"
   },
   {
    "duration": 17,
    "start_time": "2021-11-03T16:27:09.310Z"
   },
   {
    "duration": 12,
    "start_time": "2021-11-03T16:27:09.329Z"
   },
   {
    "duration": 24,
    "start_time": "2021-11-03T16:27:09.342Z"
   },
   {
    "duration": 12,
    "start_time": "2021-11-03T16:27:09.368Z"
   },
   {
    "duration": 32,
    "start_time": "2021-11-03T16:27:09.406Z"
   },
   {
    "duration": 29,
    "start_time": "2021-11-03T16:27:09.441Z"
   },
   {
    "duration": 56,
    "start_time": "2021-11-03T16:27:09.473Z"
   },
   {
    "duration": 3,
    "start_time": "2021-11-03T16:27:09.531Z"
   },
   {
    "duration": 3786,
    "start_time": "2021-11-03T16:27:09.536Z"
   },
   {
    "duration": 17,
    "start_time": "2021-11-03T16:27:13.324Z"
   },
   {
    "duration": 25,
    "start_time": "2021-11-03T16:27:13.343Z"
   },
   {
    "duration": 9,
    "start_time": "2021-11-03T16:27:13.369Z"
   },
   {
    "duration": 45,
    "start_time": "2021-11-03T16:27:13.380Z"
   },
   {
    "duration": 19,
    "start_time": "2021-11-03T16:27:13.427Z"
   },
   {
    "duration": 15,
    "start_time": "2021-11-03T16:27:13.448Z"
   },
   {
    "duration": 14,
    "start_time": "2021-11-03T16:27:13.465Z"
   },
   {
    "duration": 45,
    "start_time": "2021-11-03T16:27:13.481Z"
   },
   {
    "duration": 14,
    "start_time": "2021-11-03T16:27:13.528Z"
   },
   {
    "duration": 1677,
    "start_time": "2021-11-03T16:28:34.367Z"
   },
   {
    "duration": 529,
    "start_time": "2021-11-03T16:28:42.668Z"
   },
   {
    "duration": 91,
    "start_time": "2021-11-03T16:28:50.082Z"
   },
   {
    "duration": 10,
    "start_time": "2021-11-03T16:28:50.174Z"
   },
   {
    "duration": 36,
    "start_time": "2021-11-03T16:28:50.186Z"
   },
   {
    "duration": 11,
    "start_time": "2021-11-03T16:28:50.224Z"
   },
   {
    "duration": 12,
    "start_time": "2021-11-03T16:28:50.236Z"
   },
   {
    "duration": 12,
    "start_time": "2021-11-03T16:28:50.249Z"
   },
   {
    "duration": 59,
    "start_time": "2021-11-03T16:28:50.262Z"
   },
   {
    "duration": 28,
    "start_time": "2021-11-03T16:28:50.324Z"
   },
   {
    "duration": 31,
    "start_time": "2021-11-03T16:28:50.355Z"
   },
   {
    "duration": 3,
    "start_time": "2021-11-03T16:28:50.389Z"
   },
   {
    "duration": 3878,
    "start_time": "2021-11-03T16:28:50.394Z"
   },
   {
    "duration": 16,
    "start_time": "2021-11-03T16:28:54.274Z"
   },
   {
    "duration": 436,
    "start_time": "2021-11-03T16:28:54.292Z"
   },
   {
    "duration": -1628,
    "start_time": "2021-11-03T16:28:56.358Z"
   },
   {
    "duration": -1629,
    "start_time": "2021-11-03T16:28:56.360Z"
   },
   {
    "duration": -1630,
    "start_time": "2021-11-03T16:28:56.361Z"
   },
   {
    "duration": -1630,
    "start_time": "2021-11-03T16:28:56.363Z"
   },
   {
    "duration": -1632,
    "start_time": "2021-11-03T16:28:56.365Z"
   },
   {
    "duration": -1632,
    "start_time": "2021-11-03T16:28:56.366Z"
   },
   {
    "duration": -1633,
    "start_time": "2021-11-03T16:28:56.368Z"
   },
   {
    "duration": 334,
    "start_time": "2021-11-03T16:30:10.242Z"
   },
   {
    "duration": 22,
    "start_time": "2021-11-03T16:30:21.292Z"
   },
   {
    "duration": 1418,
    "start_time": "2021-11-03T16:31:58.819Z"
   },
   {
    "duration": 90,
    "start_time": "2021-11-03T16:32:05.232Z"
   },
   {
    "duration": 9,
    "start_time": "2021-11-03T16:32:05.324Z"
   },
   {
    "duration": 23,
    "start_time": "2021-11-03T16:32:05.336Z"
   },
   {
    "duration": 12,
    "start_time": "2021-11-03T16:32:05.361Z"
   },
   {
    "duration": 31,
    "start_time": "2021-11-03T16:32:05.375Z"
   },
   {
    "duration": 12,
    "start_time": "2021-11-03T16:32:05.408Z"
   },
   {
    "duration": 40,
    "start_time": "2021-11-03T16:32:05.422Z"
   },
   {
    "duration": 29,
    "start_time": "2021-11-03T16:32:05.464Z"
   },
   {
    "duration": 39,
    "start_time": "2021-11-03T16:32:05.496Z"
   },
   {
    "duration": 3,
    "start_time": "2021-11-03T16:32:05.537Z"
   },
   {
    "duration": 3619,
    "start_time": "2021-11-03T16:32:05.542Z"
   },
   {
    "duration": 15,
    "start_time": "2021-11-03T16:32:09.164Z"
   },
   {
    "duration": 38,
    "start_time": "2021-11-03T16:32:09.181Z"
   },
   {
    "duration": 8,
    "start_time": "2021-11-03T16:32:09.220Z"
   },
   {
    "duration": 23,
    "start_time": "2021-11-03T16:32:09.229Z"
   },
   {
    "duration": 18,
    "start_time": "2021-11-03T16:32:09.253Z"
   },
   {
    "duration": 44,
    "start_time": "2021-11-03T16:32:09.273Z"
   },
   {
    "duration": 15,
    "start_time": "2021-11-03T16:32:09.319Z"
   },
   {
    "duration": 23,
    "start_time": "2021-11-03T16:32:09.336Z"
   },
   {
    "duration": 47,
    "start_time": "2021-11-03T16:32:09.361Z"
   },
   {
    "duration": 24,
    "start_time": "2021-11-03T16:32:55.435Z"
   },
   {
    "duration": 14,
    "start_time": "2021-11-03T16:33:54.374Z"
   },
   {
    "duration": 897,
    "start_time": "2021-11-30T09:46:57.807Z"
   },
   {
    "duration": 23,
    "start_time": "2021-11-30T09:46:58.707Z"
   },
   {
    "duration": 16,
    "start_time": "2021-11-30T09:46:58.733Z"
   },
   {
    "duration": 13,
    "start_time": "2021-11-30T09:46:58.752Z"
   },
   {
    "duration": 17,
    "start_time": "2021-11-30T09:46:58.768Z"
   },
   {
    "duration": 58,
    "start_time": "2021-11-30T09:46:58.787Z"
   },
   {
    "duration": 52,
    "start_time": "2021-11-30T09:46:58.847Z"
   },
   {
    "duration": 50,
    "start_time": "2021-11-30T09:46:58.902Z"
   },
   {
    "duration": 21,
    "start_time": "2021-11-30T09:46:58.956Z"
   },
   {
    "duration": 5,
    "start_time": "2021-11-30T09:46:58.980Z"
   },
   {
    "duration": 4413,
    "start_time": "2021-11-30T09:46:58.987Z"
   },
   {
    "duration": 34,
    "start_time": "2021-11-30T09:47:03.403Z"
   },
   {
    "duration": 39,
    "start_time": "2021-11-30T09:47:03.440Z"
   },
   {
    "duration": 56,
    "start_time": "2021-11-30T09:47:03.482Z"
   },
   {
    "duration": 31,
    "start_time": "2021-11-30T09:47:03.541Z"
   },
   {
    "duration": 20,
    "start_time": "2021-11-30T09:47:03.574Z"
   },
   {
    "duration": 46,
    "start_time": "2021-11-30T09:47:03.596Z"
   },
   {
    "duration": 39,
    "start_time": "2021-11-30T09:47:03.644Z"
   },
   {
    "duration": 39,
    "start_time": "2021-11-30T09:47:03.686Z"
   },
   {
    "duration": 4,
    "start_time": "2021-11-30T09:53:52.771Z"
   },
   {
    "duration": 6,
    "start_time": "2021-11-30T09:54:06.189Z"
   },
   {
    "duration": 4,
    "start_time": "2021-11-30T09:54:12.064Z"
   },
   {
    "duration": 115,
    "start_time": "2021-11-30T09:54:19.071Z"
   },
   {
    "duration": 12,
    "start_time": "2021-11-30T09:54:19.188Z"
   },
   {
    "duration": 37,
    "start_time": "2021-11-30T09:54:19.202Z"
   },
   {
    "duration": 5,
    "start_time": "2021-11-30T09:54:19.242Z"
   },
   {
    "duration": 34,
    "start_time": "2021-11-30T09:54:19.249Z"
   },
   {
    "duration": 419,
    "start_time": "2021-11-30T09:54:19.286Z"
   },
   {
    "duration": -83,
    "start_time": "2021-11-30T09:54:19.792Z"
   },
   {
    "duration": -84,
    "start_time": "2021-11-30T09:54:19.795Z"
   },
   {
    "duration": -83,
    "start_time": "2021-11-30T09:54:19.796Z"
   },
   {
    "duration": -83,
    "start_time": "2021-11-30T09:54:19.797Z"
   },
   {
    "duration": -83,
    "start_time": "2021-11-30T09:54:19.798Z"
   },
   {
    "duration": -83,
    "start_time": "2021-11-30T09:54:19.800Z"
   },
   {
    "duration": -86,
    "start_time": "2021-11-30T09:54:19.804Z"
   },
   {
    "duration": -87,
    "start_time": "2021-11-30T09:54:19.806Z"
   },
   {
    "duration": -86,
    "start_time": "2021-11-30T09:54:19.807Z"
   },
   {
    "duration": -86,
    "start_time": "2021-11-30T09:54:19.808Z"
   },
   {
    "duration": -85,
    "start_time": "2021-11-30T09:54:19.809Z"
   },
   {
    "duration": -86,
    "start_time": "2021-11-30T09:54:19.811Z"
   },
   {
    "duration": -86,
    "start_time": "2021-11-30T09:54:19.812Z"
   },
   {
    "duration": 7,
    "start_time": "2021-11-30T09:54:35.914Z"
   },
   {
    "duration": 6,
    "start_time": "2021-11-30T09:54:39.445Z"
   },
   {
    "duration": 6,
    "start_time": "2021-11-30T09:56:56.332Z"
   },
   {
    "duration": 6,
    "start_time": "2021-11-30T09:57:48.912Z"
   },
   {
    "duration": 282,
    "start_time": "2021-11-30T09:57:54.516Z"
   },
   {
    "duration": 6,
    "start_time": "2021-11-30T09:57:59.554Z"
   },
   {
    "duration": 44,
    "start_time": "2021-11-30T09:58:37.386Z"
   },
   {
    "duration": 24,
    "start_time": "2021-11-30T09:59:00.216Z"
   },
   {
    "duration": 7,
    "start_time": "2021-11-30T09:59:17.765Z"
   },
   {
    "duration": 23,
    "start_time": "2021-11-30T09:59:21.513Z"
   },
   {
    "duration": 120,
    "start_time": "2021-11-30T10:03:59.792Z"
   },
   {
    "duration": 26,
    "start_time": "2021-11-30T10:03:59.915Z"
   },
   {
    "duration": 331,
    "start_time": "2021-11-30T10:03:59.945Z"
   },
   {
    "duration": -80,
    "start_time": "2021-11-30T10:04:00.360Z"
   },
   {
    "duration": -80,
    "start_time": "2021-11-30T10:04:00.361Z"
   },
   {
    "duration": -81,
    "start_time": "2021-11-30T10:04:00.363Z"
   },
   {
    "duration": -82,
    "start_time": "2021-11-30T10:04:00.366Z"
   },
   {
    "duration": -82,
    "start_time": "2021-11-30T10:04:00.367Z"
   },
   {
    "duration": -82,
    "start_time": "2021-11-30T10:04:00.368Z"
   },
   {
    "duration": -85,
    "start_time": "2021-11-30T10:04:00.372Z"
   },
   {
    "duration": -84,
    "start_time": "2021-11-30T10:04:00.373Z"
   },
   {
    "duration": -89,
    "start_time": "2021-11-30T10:04:00.379Z"
   },
   {
    "duration": -90,
    "start_time": "2021-11-30T10:04:00.381Z"
   },
   {
    "duration": -90,
    "start_time": "2021-11-30T10:04:00.382Z"
   },
   {
    "duration": -91,
    "start_time": "2021-11-30T10:04:00.385Z"
   },
   {
    "duration": -92,
    "start_time": "2021-11-30T10:04:00.387Z"
   },
   {
    "duration": -91,
    "start_time": "2021-11-30T10:04:00.388Z"
   },
   {
    "duration": -93,
    "start_time": "2021-11-30T10:04:00.392Z"
   },
   {
    "duration": -93,
    "start_time": "2021-11-30T10:04:00.393Z"
   },
   {
    "duration": 283,
    "start_time": "2021-11-30T10:04:16.779Z"
   },
   {
    "duration": 353,
    "start_time": "2021-11-30T10:04:22.104Z"
   },
   {
    "duration": 279,
    "start_time": "2021-11-30T10:05:12.257Z"
   },
   {
    "duration": 114,
    "start_time": "2021-11-30T10:05:18.568Z"
   },
   {
    "duration": 13,
    "start_time": "2021-11-30T10:05:18.684Z"
   },
   {
    "duration": 664,
    "start_time": "2021-11-30T10:05:18.700Z"
   },
   {
    "duration": -77,
    "start_time": "2021-11-30T10:05:19.445Z"
   },
   {
    "duration": -82,
    "start_time": "2021-11-30T10:05:19.452Z"
   },
   {
    "duration": -81,
    "start_time": "2021-11-30T10:05:19.453Z"
   },
   {
    "duration": -83,
    "start_time": "2021-11-30T10:05:19.457Z"
   },
   {
    "duration": -85,
    "start_time": "2021-11-30T10:05:19.461Z"
   },
   {
    "duration": -85,
    "start_time": "2021-11-30T10:05:19.464Z"
   },
   {
    "duration": -86,
    "start_time": "2021-11-30T10:05:19.467Z"
   },
   {
    "duration": -87,
    "start_time": "2021-11-30T10:05:19.470Z"
   },
   {
    "duration": -92,
    "start_time": "2021-11-30T10:05:19.477Z"
   },
   {
    "duration": -91,
    "start_time": "2021-11-30T10:05:19.478Z"
   },
   {
    "duration": -90,
    "start_time": "2021-11-30T10:05:19.479Z"
   },
   {
    "duration": -90,
    "start_time": "2021-11-30T10:05:19.481Z"
   },
   {
    "duration": -92,
    "start_time": "2021-11-30T10:05:19.485Z"
   },
   {
    "duration": -91,
    "start_time": "2021-11-30T10:05:19.486Z"
   },
   {
    "duration": -107,
    "start_time": "2021-11-30T10:05:19.504Z"
   },
   {
    "duration": -107,
    "start_time": "2021-11-30T10:05:19.506Z"
   },
   {
    "duration": 644,
    "start_time": "2021-11-30T10:05:37.861Z"
   },
   {
    "duration": 16,
    "start_time": "2021-11-30T10:05:46.733Z"
   },
   {
    "duration": 17,
    "start_time": "2021-11-30T10:07:03.504Z"
   },
   {
    "duration": 17,
    "start_time": "2021-11-30T10:07:30.655Z"
   },
   {
    "duration": 13,
    "start_time": "2021-11-30T10:07:54.786Z"
   },
   {
    "duration": 9,
    "start_time": "2021-11-30T10:08:21.034Z"
   },
   {
    "duration": 7125,
    "start_time": "2021-11-30T10:08:31.651Z"
   },
   {
    "duration": 6,
    "start_time": "2021-11-30T10:08:45.038Z"
   },
   {
    "duration": 116,
    "start_time": "2021-11-30T10:10:05.579Z"
   },
   {
    "duration": 12,
    "start_time": "2021-11-30T10:10:05.697Z"
   },
   {
    "duration": 7,
    "start_time": "2021-11-30T10:10:05.728Z"
   },
   {
    "duration": 38,
    "start_time": "2021-11-30T10:10:05.738Z"
   },
   {
    "duration": 24,
    "start_time": "2021-11-30T10:10:05.778Z"
   },
   {
    "duration": 16,
    "start_time": "2021-11-30T10:10:05.805Z"
   },
   {
    "duration": 19,
    "start_time": "2021-11-30T10:10:05.823Z"
   },
   {
    "duration": 22,
    "start_time": "2021-11-30T10:10:05.845Z"
   },
   {
    "duration": 17,
    "start_time": "2021-11-30T10:10:05.871Z"
   },
   {
    "duration": 22,
    "start_time": "2021-11-30T10:10:05.891Z"
   },
   {
    "duration": 33,
    "start_time": "2021-11-30T10:10:05.916Z"
   },
   {
    "duration": 22,
    "start_time": "2021-11-30T10:10:05.952Z"
   },
   {
    "duration": 288,
    "start_time": "2021-11-30T10:10:05.976Z"
   },
   {
    "duration": -101,
    "start_time": "2021-11-30T10:10:06.367Z"
   },
   {
    "duration": -100,
    "start_time": "2021-11-30T10:10:06.368Z"
   },
   {
    "duration": -101,
    "start_time": "2021-11-30T10:10:06.370Z"
   },
   {
    "duration": -101,
    "start_time": "2021-11-30T10:10:06.371Z"
   },
   {
    "duration": -101,
    "start_time": "2021-11-30T10:10:06.373Z"
   },
   {
    "duration": -102,
    "start_time": "2021-11-30T10:10:06.375Z"
   },
   {
    "duration": -102,
    "start_time": "2021-11-30T10:10:06.377Z"
   },
   {
    "duration": -102,
    "start_time": "2021-11-30T10:10:06.378Z"
   },
   {
    "duration": -106,
    "start_time": "2021-11-30T10:10:06.383Z"
   },
   {
    "duration": -110,
    "start_time": "2021-11-30T10:10:06.388Z"
   },
   {
    "duration": -109,
    "start_time": "2021-11-30T10:10:06.389Z"
   },
   {
    "duration": -109,
    "start_time": "2021-11-30T10:10:06.390Z"
   },
   {
    "duration": -109,
    "start_time": "2021-11-30T10:10:06.392Z"
   },
   {
    "duration": -109,
    "start_time": "2021-11-30T10:10:06.393Z"
   },
   {
    "duration": 6,
    "start_time": "2021-11-30T10:13:48.383Z"
   },
   {
    "duration": 280,
    "start_time": "2021-11-30T10:14:29.769Z"
   },
   {
    "duration": 7,
    "start_time": "2021-11-30T10:14:38.013Z"
   },
   {
    "duration": 6,
    "start_time": "2021-11-30T10:14:49.522Z"
   },
   {
    "duration": 9,
    "start_time": "2021-11-30T10:17:08.635Z"
   },
   {
    "duration": 24,
    "start_time": "2021-11-30T10:17:23.012Z"
   },
   {
    "duration": 33,
    "start_time": "2021-11-30T10:17:41.595Z"
   },
   {
    "duration": 6,
    "start_time": "2021-11-30T10:19:30.008Z"
   },
   {
    "duration": 361,
    "start_time": "2021-11-30T10:19:38.098Z"
   },
   {
    "duration": 274,
    "start_time": "2021-11-30T10:19:49.308Z"
   },
   {
    "duration": 7,
    "start_time": "2021-11-30T10:21:34.252Z"
   },
   {
    "duration": 298,
    "start_time": "2021-11-30T10:21:50.521Z"
   },
   {
    "duration": 475,
    "start_time": "2021-11-30T10:21:55.129Z"
   },
   {
    "duration": 279,
    "start_time": "2021-11-30T10:22:03.646Z"
   },
   {
    "duration": 43,
    "start_time": "2021-11-30T10:23:48.112Z"
   },
   {
    "duration": 41,
    "start_time": "2021-11-30T10:24:06.136Z"
   },
   {
    "duration": 6,
    "start_time": "2021-11-30T10:24:34.555Z"
   },
   {
    "duration": 7,
    "start_time": "2021-11-30T10:24:41.308Z"
   },
   {
    "duration": 6,
    "start_time": "2021-11-30T10:24:45.403Z"
   },
   {
    "duration": 47,
    "start_time": "2021-11-30T10:25:23.957Z"
   },
   {
    "duration": 12,
    "start_time": "2021-11-30T10:25:42.362Z"
   },
   {
    "duration": 11,
    "start_time": "2021-11-30T10:25:48.878Z"
   },
   {
    "duration": 13,
    "start_time": "2021-11-30T10:25:54.262Z"
   },
   {
    "duration": 307,
    "start_time": "2021-11-30T10:26:41.693Z"
   },
   {
    "duration": 276,
    "start_time": "2021-11-30T10:26:59.506Z"
   },
   {
    "duration": 7,
    "start_time": "2021-11-30T10:28:02.011Z"
   },
   {
    "duration": 10,
    "start_time": "2021-11-30T10:28:13.974Z"
   },
   {
    "duration": 12,
    "start_time": "2021-11-30T10:28:44.789Z"
   },
   {
    "duration": 7,
    "start_time": "2021-11-30T10:28:56.622Z"
   },
   {
    "duration": 7,
    "start_time": "2021-11-30T10:29:01.442Z"
   },
   {
    "duration": 117,
    "start_time": "2021-11-30T10:29:10.856Z"
   },
   {
    "duration": 14,
    "start_time": "2021-11-30T10:29:10.976Z"
   },
   {
    "duration": 21,
    "start_time": "2021-11-30T10:29:10.993Z"
   },
   {
    "duration": 26,
    "start_time": "2021-11-30T10:29:11.016Z"
   },
   {
    "duration": 18,
    "start_time": "2021-11-30T10:29:11.045Z"
   },
   {
    "duration": 16,
    "start_time": "2021-11-30T10:29:11.065Z"
   },
   {
    "duration": 48,
    "start_time": "2021-11-30T10:29:11.083Z"
   },
   {
    "duration": 14,
    "start_time": "2021-11-30T10:29:11.134Z"
   },
   {
    "duration": 14,
    "start_time": "2021-11-30T10:29:11.151Z"
   },
   {
    "duration": 18,
    "start_time": "2021-11-30T10:29:11.168Z"
   },
   {
    "duration": 42,
    "start_time": "2021-11-30T10:29:11.188Z"
   },
   {
    "duration": 14,
    "start_time": "2021-11-30T10:29:11.232Z"
   },
   {
    "duration": 10,
    "start_time": "2021-11-30T10:29:11.248Z"
   },
   {
    "duration": 30,
    "start_time": "2021-11-30T10:29:11.260Z"
   },
   {
    "duration": 293,
    "start_time": "2021-11-30T10:29:11.293Z"
   },
   {
    "duration": -115,
    "start_time": "2021-11-30T10:29:11.705Z"
   },
   {
    "duration": -115,
    "start_time": "2021-11-30T10:29:11.707Z"
   },
   {
    "duration": -114,
    "start_time": "2021-11-30T10:29:11.708Z"
   },
   {
    "duration": -115,
    "start_time": "2021-11-30T10:29:11.711Z"
   },
   {
    "duration": -114,
    "start_time": "2021-11-30T10:29:11.712Z"
   },
   {
    "duration": -112,
    "start_time": "2021-11-30T10:29:11.713Z"
   },
   {
    "duration": -115,
    "start_time": "2021-11-30T10:29:11.718Z"
   },
   {
    "duration": -115,
    "start_time": "2021-11-30T10:29:11.720Z"
   },
   {
    "duration": -115,
    "start_time": "2021-11-30T10:29:11.722Z"
   },
   {
    "duration": -114,
    "start_time": "2021-11-30T10:29:11.723Z"
   },
   {
    "duration": -113,
    "start_time": "2021-11-30T10:29:11.724Z"
   },
   {
    "duration": -116,
    "start_time": "2021-11-30T10:29:11.729Z"
   },
   {
    "duration": -114,
    "start_time": "2021-11-30T10:29:11.730Z"
   },
   {
    "duration": -113,
    "start_time": "2021-11-30T10:29:11.731Z"
   },
   {
    "duration": 14,
    "start_time": "2021-11-30T10:29:19.672Z"
   },
   {
    "duration": 14,
    "start_time": "2021-11-30T10:29:28.603Z"
   },
   {
    "duration": 38,
    "start_time": "2021-11-30T10:30:33.307Z"
   },
   {
    "duration": 26,
    "start_time": "2021-11-30T10:30:46.276Z"
   },
   {
    "duration": 315,
    "start_time": "2021-11-30T10:32:08.844Z"
   },
   {
    "duration": 186,
    "start_time": "2021-11-30T10:32:28.413Z"
   },
   {
    "duration": 33,
    "start_time": "2021-11-30T10:32:28.603Z"
   },
   {
    "duration": 22,
    "start_time": "2021-11-30T10:32:28.639Z"
   },
   {
    "duration": 58,
    "start_time": "2021-11-30T10:32:28.665Z"
   },
   {
    "duration": 48,
    "start_time": "2021-11-30T10:32:28.726Z"
   },
   {
    "duration": 45,
    "start_time": "2021-11-30T10:32:28.777Z"
   },
   {
    "duration": 59,
    "start_time": "2021-11-30T10:32:28.824Z"
   },
   {
    "duration": 31,
    "start_time": "2021-11-30T10:32:28.887Z"
   },
   {
    "duration": 40,
    "start_time": "2021-11-30T10:32:28.921Z"
   },
   {
    "duration": 28,
    "start_time": "2021-11-30T10:32:28.964Z"
   },
   {
    "duration": 63,
    "start_time": "2021-11-30T10:32:28.994Z"
   },
   {
    "duration": 50,
    "start_time": "2021-11-30T10:32:29.059Z"
   },
   {
    "duration": 19,
    "start_time": "2021-11-30T10:32:29.112Z"
   },
   {
    "duration": 55,
    "start_time": "2021-11-30T10:32:29.134Z"
   },
   {
    "duration": 294,
    "start_time": "2021-11-30T10:32:29.191Z"
   },
   {
    "duration": -96,
    "start_time": "2021-11-30T10:32:29.584Z"
   },
   {
    "duration": -104,
    "start_time": "2021-11-30T10:32:29.594Z"
   },
   {
    "duration": -104,
    "start_time": "2021-11-30T10:32:29.596Z"
   },
   {
    "duration": -102,
    "start_time": "2021-11-30T10:32:29.597Z"
   },
   {
    "duration": -101,
    "start_time": "2021-11-30T10:32:29.598Z"
   },
   {
    "duration": -103,
    "start_time": "2021-11-30T10:32:29.602Z"
   },
   {
    "duration": -103,
    "start_time": "2021-11-30T10:32:29.604Z"
   },
   {
    "duration": -105,
    "start_time": "2021-11-30T10:32:29.608Z"
   },
   {
    "duration": -104,
    "start_time": "2021-11-30T10:32:29.610Z"
   },
   {
    "duration": -107,
    "start_time": "2021-11-30T10:32:29.615Z"
   },
   {
    "duration": -106,
    "start_time": "2021-11-30T10:32:29.616Z"
   },
   {
    "duration": -106,
    "start_time": "2021-11-30T10:32:29.618Z"
   },
   {
    "duration": -108,
    "start_time": "2021-11-30T10:32:29.622Z"
   },
   {
    "duration": -108,
    "start_time": "2021-11-30T10:32:29.624Z"
   },
   {
    "duration": -107,
    "start_time": "2021-11-30T10:32:29.625Z"
   },
   {
    "duration": 13,
    "start_time": "2021-11-30T10:33:08.909Z"
   },
   {
    "duration": 14,
    "start_time": "2021-11-30T10:33:21.487Z"
   },
   {
    "duration": 13,
    "start_time": "2021-11-30T10:33:55.935Z"
   },
   {
    "duration": 114,
    "start_time": "2021-11-30T10:34:29.681Z"
   },
   {
    "duration": 31,
    "start_time": "2021-11-30T10:34:29.798Z"
   },
   {
    "duration": 7,
    "start_time": "2021-11-30T10:34:29.832Z"
   },
   {
    "duration": 16,
    "start_time": "2021-11-30T10:34:29.842Z"
   },
   {
    "duration": 18,
    "start_time": "2021-11-30T10:34:29.861Z"
   },
   {
    "duration": 58,
    "start_time": "2021-11-30T10:34:29.881Z"
   },
   {
    "duration": 15,
    "start_time": "2021-11-30T10:34:29.941Z"
   },
   {
    "duration": 14,
    "start_time": "2021-11-30T10:34:29.959Z"
   },
   {
    "duration": 53,
    "start_time": "2021-11-30T10:34:29.978Z"
   },
   {
    "duration": 17,
    "start_time": "2021-11-30T10:34:30.034Z"
   },
   {
    "duration": 26,
    "start_time": "2021-11-30T10:34:30.053Z"
   },
   {
    "duration": 25,
    "start_time": "2021-11-30T10:34:30.081Z"
   },
   {
    "duration": 24,
    "start_time": "2021-11-30T10:34:30.108Z"
   },
   {
    "duration": 25,
    "start_time": "2021-11-30T10:34:30.135Z"
   },
   {
    "duration": 14,
    "start_time": "2021-11-30T10:34:30.162Z"
   },
   {
    "duration": 55,
    "start_time": "2021-11-30T10:34:30.179Z"
   },
   {
    "duration": 12,
    "start_time": "2021-11-30T10:34:30.236Z"
   },
   {
    "duration": 14,
    "start_time": "2021-11-30T10:34:30.250Z"
   },
   {
    "duration": 19,
    "start_time": "2021-11-30T10:34:30.266Z"
   },
   {
    "duration": 50,
    "start_time": "2021-11-30T10:34:30.287Z"
   },
   {
    "duration": 21,
    "start_time": "2021-11-30T10:34:30.340Z"
   },
   {
    "duration": 67,
    "start_time": "2021-11-30T10:34:30.363Z"
   },
   {
    "duration": 48,
    "start_time": "2021-11-30T10:34:30.433Z"
   },
   {
    "duration": 58,
    "start_time": "2021-11-30T10:34:30.483Z"
   },
   {
    "duration": 5,
    "start_time": "2021-11-30T10:34:30.544Z"
   },
   {
    "duration": 5300,
    "start_time": "2021-11-30T10:34:30.552Z"
   },
   {
    "duration": 26,
    "start_time": "2021-11-30T10:34:35.860Z"
   },
   {
    "duration": 63,
    "start_time": "2021-11-30T10:34:35.888Z"
   },
   {
    "duration": 33,
    "start_time": "2021-11-30T10:34:35.954Z"
   },
   {
    "duration": 49,
    "start_time": "2021-11-30T10:34:35.990Z"
   },
   {
    "duration": 20,
    "start_time": "2021-11-30T10:34:36.041Z"
   },
   {
    "duration": 20,
    "start_time": "2021-11-30T10:34:36.063Z"
   },
   {
    "duration": 52,
    "start_time": "2021-11-30T10:34:36.086Z"
   },
   {
    "duration": 24,
    "start_time": "2021-11-30T10:34:36.141Z"
   },
   {
    "duration": 12,
    "start_time": "2021-11-30T10:35:42.165Z"
   },
   {
    "duration": 1111,
    "start_time": "2021-11-30T10:35:45.034Z"
   },
   {
    "duration": 134,
    "start_time": "2021-11-30T10:35:52.825Z"
   },
   {
    "duration": 12,
    "start_time": "2021-11-30T10:35:52.962Z"
   },
   {
    "duration": 24,
    "start_time": "2021-11-30T10:35:52.978Z"
   },
   {
    "duration": 35,
    "start_time": "2021-11-30T10:35:53.005Z"
   },
   {
    "duration": 42,
    "start_time": "2021-11-30T10:35:53.042Z"
   },
   {
    "duration": 25,
    "start_time": "2021-11-30T10:35:53.086Z"
   },
   {
    "duration": 17,
    "start_time": "2021-11-30T10:35:53.113Z"
   },
   {
    "duration": 55,
    "start_time": "2021-11-30T10:35:53.133Z"
   },
   {
    "duration": 36,
    "start_time": "2021-11-30T10:35:53.192Z"
   },
   {
    "duration": 31,
    "start_time": "2021-11-30T10:35:53.231Z"
   },
   {
    "duration": 45,
    "start_time": "2021-11-30T10:35:53.265Z"
   },
   {
    "duration": 29,
    "start_time": "2021-11-30T10:35:53.312Z"
   },
   {
    "duration": 40,
    "start_time": "2021-11-30T10:35:53.344Z"
   },
   {
    "duration": 36,
    "start_time": "2021-11-30T10:35:53.387Z"
   },
   {
    "duration": 16,
    "start_time": "2021-11-30T10:35:53.425Z"
   },
   {
    "duration": 44,
    "start_time": "2021-11-30T10:35:53.443Z"
   },
   {
    "duration": 15,
    "start_time": "2021-11-30T10:35:53.495Z"
   },
   {
    "duration": 13,
    "start_time": "2021-11-30T10:35:53.512Z"
   },
   {
    "duration": 18,
    "start_time": "2021-11-30T10:35:53.528Z"
   },
   {
    "duration": 23,
    "start_time": "2021-11-30T10:35:53.549Z"
   },
   {
    "duration": 22,
    "start_time": "2021-11-30T10:35:53.575Z"
   },
   {
    "duration": 72,
    "start_time": "2021-11-30T10:35:53.599Z"
   },
   {
    "duration": 66,
    "start_time": "2021-11-30T10:35:53.673Z"
   },
   {
    "duration": 41,
    "start_time": "2021-11-30T10:35:53.742Z"
   },
   {
    "duration": 17,
    "start_time": "2021-11-30T10:35:53.786Z"
   },
   {
    "duration": 4694,
    "start_time": "2021-11-30T10:35:53.805Z"
   },
   {
    "duration": 40,
    "start_time": "2021-11-30T10:35:58.504Z"
   },
   {
    "duration": 42,
    "start_time": "2021-11-30T10:35:58.548Z"
   },
   {
    "duration": 63,
    "start_time": "2021-11-30T10:35:58.592Z"
   },
   {
    "duration": 26,
    "start_time": "2021-11-30T10:35:58.658Z"
   },
   {
    "duration": 49,
    "start_time": "2021-11-30T10:35:58.687Z"
   },
   {
    "duration": 19,
    "start_time": "2021-11-30T10:35:58.739Z"
   },
   {
    "duration": 19,
    "start_time": "2021-11-30T10:35:58.761Z"
   },
   {
    "duration": 54,
    "start_time": "2021-11-30T10:35:58.782Z"
   },
   {
    "duration": 1283,
    "start_time": "2021-11-30T10:36:14.517Z"
   },
   {
    "duration": 134,
    "start_time": "2021-11-30T10:36:22.826Z"
   },
   {
    "duration": 13,
    "start_time": "2021-11-30T10:36:22.963Z"
   },
   {
    "duration": 22,
    "start_time": "2021-11-30T10:36:22.979Z"
   },
   {
    "duration": 34,
    "start_time": "2021-11-30T10:36:23.004Z"
   },
   {
    "duration": 17,
    "start_time": "2021-11-30T10:36:23.040Z"
   },
   {
    "duration": 20,
    "start_time": "2021-11-30T10:36:23.060Z"
   },
   {
    "duration": 15,
    "start_time": "2021-11-30T10:36:23.082Z"
   },
   {
    "duration": 15,
    "start_time": "2021-11-30T10:36:23.128Z"
   },
   {
    "duration": 39,
    "start_time": "2021-11-30T10:36:23.148Z"
   },
   {
    "duration": 27,
    "start_time": "2021-11-30T10:36:23.190Z"
   },
   {
    "duration": 25,
    "start_time": "2021-11-30T10:36:23.220Z"
   },
   {
    "duration": 22,
    "start_time": "2021-11-30T10:36:23.247Z"
   },
   {
    "duration": 10,
    "start_time": "2021-11-30T10:36:23.272Z"
   },
   {
    "duration": 45,
    "start_time": "2021-11-30T10:36:23.285Z"
   },
   {
    "duration": 13,
    "start_time": "2021-11-30T10:36:23.333Z"
   },
   {
    "duration": 21,
    "start_time": "2021-11-30T10:36:23.349Z"
   },
   {
    "duration": 25,
    "start_time": "2021-11-30T10:36:23.374Z"
   },
   {
    "duration": 35,
    "start_time": "2021-11-30T10:36:23.402Z"
   },
   {
    "duration": 33,
    "start_time": "2021-11-30T10:36:23.440Z"
   },
   {
    "duration": 41,
    "start_time": "2021-11-30T10:36:23.476Z"
   },
   {
    "duration": 45,
    "start_time": "2021-11-30T10:36:23.520Z"
   },
   {
    "duration": 71,
    "start_time": "2021-11-30T10:36:23.569Z"
   },
   {
    "duration": 51,
    "start_time": "2021-11-30T10:36:23.645Z"
   },
   {
    "duration": 64,
    "start_time": "2021-11-30T10:36:23.699Z"
   },
   {
    "duration": 5,
    "start_time": "2021-11-30T10:36:23.765Z"
   },
   {
    "duration": 4592,
    "start_time": "2021-11-30T10:36:23.772Z"
   },
   {
    "duration": 26,
    "start_time": "2021-11-30T10:36:28.369Z"
   },
   {
    "duration": 61,
    "start_time": "2021-11-30T10:36:28.398Z"
   },
   {
    "duration": 34,
    "start_time": "2021-11-30T10:36:28.461Z"
   },
   {
    "duration": 49,
    "start_time": "2021-11-30T10:36:28.498Z"
   },
   {
    "duration": 20,
    "start_time": "2021-11-30T10:36:28.550Z"
   },
   {
    "duration": 19,
    "start_time": "2021-11-30T10:36:28.573Z"
   },
   {
    "duration": 50,
    "start_time": "2021-11-30T10:36:28.595Z"
   },
   {
    "duration": 19,
    "start_time": "2021-11-30T10:36:28.647Z"
   },
   {
    "duration": 40,
    "start_time": "2021-11-30T10:39:54.338Z"
   },
   {
    "duration": 116,
    "start_time": "2021-11-30T10:45:28.070Z"
   },
   {
    "duration": 15,
    "start_time": "2021-11-30T10:45:28.190Z"
   },
   {
    "duration": 8,
    "start_time": "2021-11-30T10:45:28.231Z"
   },
   {
    "duration": 22,
    "start_time": "2021-11-30T10:45:28.242Z"
   },
   {
    "duration": 29,
    "start_time": "2021-11-30T10:45:28.266Z"
   },
   {
    "duration": 38,
    "start_time": "2021-11-30T10:45:28.298Z"
   },
   {
    "duration": 17,
    "start_time": "2021-11-30T10:45:28.338Z"
   },
   {
    "duration": 27,
    "start_time": "2021-11-30T10:45:28.357Z"
   },
   {
    "duration": 26,
    "start_time": "2021-11-30T10:45:28.389Z"
   },
   {
    "duration": 21,
    "start_time": "2021-11-30T10:45:28.419Z"
   },
   {
    "duration": 32,
    "start_time": "2021-11-30T10:45:28.442Z"
   },
   {
    "duration": 37,
    "start_time": "2021-11-30T10:45:28.476Z"
   },
   {
    "duration": 11,
    "start_time": "2021-11-30T10:45:28.516Z"
   },
   {
    "duration": 39,
    "start_time": "2021-11-30T10:45:28.530Z"
   },
   {
    "duration": 16,
    "start_time": "2021-11-30T10:45:28.571Z"
   },
   {
    "duration": 21,
    "start_time": "2021-11-30T10:45:28.590Z"
   },
   {
    "duration": 26,
    "start_time": "2021-11-30T10:45:28.614Z"
   },
   {
    "duration": 12,
    "start_time": "2021-11-30T10:45:28.642Z"
   },
   {
    "duration": 20,
    "start_time": "2021-11-30T10:45:28.657Z"
   },
   {
    "duration": 29,
    "start_time": "2021-11-30T10:45:28.680Z"
   },
   {
    "duration": 22,
    "start_time": "2021-11-30T10:45:28.728Z"
   },
   {
    "duration": 38,
    "start_time": "2021-11-30T10:45:28.752Z"
   },
   {
    "duration": 78,
    "start_time": "2021-11-30T10:45:28.792Z"
   },
   {
    "duration": 57,
    "start_time": "2021-11-30T10:45:28.872Z"
   },
   {
    "duration": 5,
    "start_time": "2021-11-30T10:45:28.932Z"
   },
   {
    "duration": 4816,
    "start_time": "2021-11-30T10:45:28.939Z"
   },
   {
    "duration": 26,
    "start_time": "2021-11-30T10:45:33.760Z"
   },
   {
    "duration": 68,
    "start_time": "2021-11-30T10:45:33.789Z"
   },
   {
    "duration": 24,
    "start_time": "2021-11-30T10:45:33.860Z"
   },
   {
    "duration": 55,
    "start_time": "2021-11-30T10:45:33.887Z"
   },
   {
    "duration": 27,
    "start_time": "2021-11-30T10:45:33.945Z"
   },
   {
    "duration": 21,
    "start_time": "2021-11-30T10:45:33.975Z"
   },
   {
    "duration": 22,
    "start_time": "2021-11-30T10:45:34.029Z"
   },
   {
    "duration": 10,
    "start_time": "2021-11-30T10:45:54.382Z"
   },
   {
    "duration": 73,
    "start_time": "2021-11-30T10:49:40.485Z"
   },
   {
    "duration": 6,
    "start_time": "2021-11-30T10:50:27.927Z"
   },
   {
    "duration": 301,
    "start_time": "2021-11-30T10:51:29.895Z"
   },
   {
    "duration": 404,
    "start_time": "2021-11-30T10:51:43.141Z"
   },
   {
    "duration": 15,
    "start_time": "2021-11-30T10:51:50.703Z"
   },
   {
    "duration": 18,
    "start_time": "2021-11-30T10:52:06.565Z"
   },
   {
    "duration": 13,
    "start_time": "2021-11-30T10:52:19.295Z"
   },
   {
    "duration": 11,
    "start_time": "2021-11-30T10:53:12.412Z"
   },
   {
    "duration": 18,
    "start_time": "2021-11-30T10:53:23.659Z"
   },
   {
    "duration": 56,
    "start_time": "2021-11-30T10:53:34.408Z"
   },
   {
    "duration": 123,
    "start_time": "2021-11-30T10:53:40.462Z"
   },
   {
    "duration": 74,
    "start_time": "2021-11-30T10:53:40.589Z"
   },
   {
    "duration": 6,
    "start_time": "2021-11-30T10:53:40.667Z"
   },
   {
    "duration": 90,
    "start_time": "2021-11-30T10:53:40.676Z"
   },
   {
    "duration": 13,
    "start_time": "2021-11-30T10:53:40.769Z"
   },
   {
    "duration": 7,
    "start_time": "2021-11-30T10:53:40.784Z"
   },
   {
    "duration": 47,
    "start_time": "2021-11-30T10:53:40.793Z"
   },
   {
    "duration": 18,
    "start_time": "2021-11-30T10:53:40.842Z"
   },
   {
    "duration": 17,
    "start_time": "2021-11-30T10:53:40.864Z"
   },
   {
    "duration": 54,
    "start_time": "2021-11-30T10:53:40.884Z"
   },
   {
    "duration": 13,
    "start_time": "2021-11-30T10:53:40.941Z"
   },
   {
    "duration": 14,
    "start_time": "2021-11-30T10:53:40.957Z"
   },
   {
    "duration": 17,
    "start_time": "2021-11-30T10:53:40.974Z"
   },
   {
    "duration": 14,
    "start_time": "2021-11-30T10:53:41.029Z"
   },
   {
    "duration": 22,
    "start_time": "2021-11-30T10:53:41.046Z"
   },
   {
    "duration": 12,
    "start_time": "2021-11-30T10:53:41.070Z"
   },
   {
    "duration": 65,
    "start_time": "2021-11-30T10:53:41.084Z"
   },
   {
    "duration": 13,
    "start_time": "2021-11-30T10:53:41.151Z"
   },
   {
    "duration": 13,
    "start_time": "2021-11-30T10:53:41.167Z"
   },
   {
    "duration": 12,
    "start_time": "2021-11-30T10:53:41.182Z"
   },
   {
    "duration": 42,
    "start_time": "2021-11-30T10:53:41.196Z"
   },
   {
    "duration": 14,
    "start_time": "2021-11-30T10:53:41.240Z"
   },
   {
    "duration": 21,
    "start_time": "2021-11-30T10:53:41.256Z"
   },
   {
    "duration": 52,
    "start_time": "2021-11-30T10:53:41.279Z"
   },
   {
    "duration": 37,
    "start_time": "2021-11-30T10:53:41.334Z"
   },
   {
    "duration": 80,
    "start_time": "2021-11-30T10:53:41.373Z"
   },
   {
    "duration": 39,
    "start_time": "2021-11-30T10:53:41.458Z"
   },
   {
    "duration": 5,
    "start_time": "2021-11-30T10:53:41.500Z"
   },
   {
    "duration": 4583,
    "start_time": "2021-11-30T10:53:41.507Z"
   },
   {
    "duration": 38,
    "start_time": "2021-11-30T10:53:46.093Z"
   },
   {
    "duration": 43,
    "start_time": "2021-11-30T10:53:46.134Z"
   },
   {
    "duration": 51,
    "start_time": "2021-11-30T10:53:46.179Z"
   },
   {
    "duration": 21,
    "start_time": "2021-11-30T10:53:46.233Z"
   },
   {
    "duration": 44,
    "start_time": "2021-11-30T10:53:46.256Z"
   },
   {
    "duration": 40,
    "start_time": "2021-11-30T10:53:46.302Z"
   },
   {
    "duration": 32,
    "start_time": "2021-11-30T10:53:46.345Z"
   },
   {
    "duration": 20,
    "start_time": "2021-11-30T10:56:06.202Z"
   },
   {
    "duration": 286,
    "start_time": "2021-11-30T10:57:41.471Z"
   },
   {
    "duration": 24,
    "start_time": "2021-11-30T10:59:56.192Z"
   },
   {
    "duration": 353,
    "start_time": "2021-11-30T11:00:29.127Z"
   },
   {
    "duration": 26,
    "start_time": "2021-11-30T11:00:34.958Z"
   },
   {
    "duration": 28,
    "start_time": "2021-11-30T11:00:48.947Z"
   },
   {
    "duration": 26,
    "start_time": "2021-11-30T11:01:04.910Z"
   },
   {
    "duration": 121,
    "start_time": "2021-11-30T11:01:20.261Z"
   },
   {
    "duration": 67,
    "start_time": "2021-11-30T11:01:20.385Z"
   },
   {
    "duration": 6,
    "start_time": "2021-11-30T11:01:20.455Z"
   },
   {
    "duration": 77,
    "start_time": "2021-11-30T11:01:20.464Z"
   },
   {
    "duration": 13,
    "start_time": "2021-11-30T11:01:20.544Z"
   },
   {
    "duration": 6,
    "start_time": "2021-11-30T11:01:20.560Z"
   },
   {
    "duration": 18,
    "start_time": "2021-11-30T11:01:20.568Z"
   },
   {
    "duration": 45,
    "start_time": "2021-11-30T11:01:20.588Z"
   },
   {
    "duration": 17,
    "start_time": "2021-11-30T11:01:20.637Z"
   },
   {
    "duration": 16,
    "start_time": "2021-11-30T11:01:20.657Z"
   },
   {
    "duration": 15,
    "start_time": "2021-11-30T11:01:20.676Z"
   },
   {
    "duration": 55,
    "start_time": "2021-11-30T11:01:20.693Z"
   },
   {
    "duration": 19,
    "start_time": "2021-11-30T11:01:20.750Z"
   },
   {
    "duration": 16,
    "start_time": "2021-11-30T11:01:20.771Z"
   },
   {
    "duration": 22,
    "start_time": "2021-11-30T11:01:20.790Z"
   },
   {
    "duration": 18,
    "start_time": "2021-11-30T11:01:20.815Z"
   },
   {
    "duration": 30,
    "start_time": "2021-11-30T11:01:20.836Z"
   },
   {
    "duration": 12,
    "start_time": "2021-11-30T11:01:20.868Z"
   },
   {
    "duration": 47,
    "start_time": "2021-11-30T11:01:20.882Z"
   },
   {
    "duration": 13,
    "start_time": "2021-11-30T11:01:20.931Z"
   },
   {
    "duration": 15,
    "start_time": "2021-11-30T11:01:20.947Z"
   },
   {
    "duration": 12,
    "start_time": "2021-11-30T11:01:20.965Z"
   },
   {
    "duration": 49,
    "start_time": "2021-11-30T11:01:20.980Z"
   },
   {
    "duration": 20,
    "start_time": "2021-11-30T11:01:21.031Z"
   },
   {
    "duration": 36,
    "start_time": "2021-11-30T11:01:21.053Z"
   },
   {
    "duration": 69,
    "start_time": "2021-11-30T11:01:21.091Z"
   },
   {
    "duration": 40,
    "start_time": "2021-11-30T11:01:21.164Z"
   },
   {
    "duration": 25,
    "start_time": "2021-11-30T11:01:21.207Z"
   },
   {
    "duration": 4503,
    "start_time": "2021-11-30T11:01:21.235Z"
   },
   {
    "duration": 29,
    "start_time": "2021-11-30T11:01:25.741Z"
   },
   {
    "duration": 64,
    "start_time": "2021-11-30T11:01:25.773Z"
   },
   {
    "duration": 36,
    "start_time": "2021-11-30T11:01:25.841Z"
   },
   {
    "duration": 25,
    "start_time": "2021-11-30T11:01:25.879Z"
   },
   {
    "duration": 44,
    "start_time": "2021-11-30T11:01:25.907Z"
   },
   {
    "duration": 67,
    "start_time": "2021-11-30T11:01:25.954Z"
   },
   {
    "duration": 25,
    "start_time": "2021-11-30T11:01:26.023Z"
   },
   {
    "duration": 88,
    "start_time": "2021-11-30T11:02:56.595Z"
   },
   {
    "duration": 118,
    "start_time": "2021-11-30T11:06:17.452Z"
   },
   {
    "duration": 61,
    "start_time": "2021-11-30T11:06:17.573Z"
   },
   {
    "duration": 5,
    "start_time": "2021-11-30T11:06:17.637Z"
   },
   {
    "duration": 69,
    "start_time": "2021-11-30T11:06:17.645Z"
   },
   {
    "duration": 23,
    "start_time": "2021-11-30T11:06:17.716Z"
   },
   {
    "duration": 17,
    "start_time": "2021-11-30T11:06:17.741Z"
   },
   {
    "duration": 20,
    "start_time": "2021-11-30T11:06:17.760Z"
   },
   {
    "duration": 17,
    "start_time": "2021-11-30T11:06:17.782Z"
   },
   {
    "duration": 37,
    "start_time": "2021-11-30T11:06:17.803Z"
   },
   {
    "duration": 15,
    "start_time": "2021-11-30T11:06:17.843Z"
   },
   {
    "duration": 13,
    "start_time": "2021-11-30T11:06:17.860Z"
   },
   {
    "duration": 30,
    "start_time": "2021-11-30T11:06:17.876Z"
   },
   {
    "duration": 28,
    "start_time": "2021-11-30T11:06:17.908Z"
   },
   {
    "duration": 31,
    "start_time": "2021-11-30T11:06:17.938Z"
   },
   {
    "duration": 31,
    "start_time": "2021-11-30T11:06:17.971Z"
   },
   {
    "duration": 22,
    "start_time": "2021-11-30T11:06:18.005Z"
   },
   {
    "duration": 37,
    "start_time": "2021-11-30T11:06:18.030Z"
   },
   {
    "duration": 17,
    "start_time": "2021-11-30T11:06:18.069Z"
   },
   {
    "duration": 43,
    "start_time": "2021-11-30T11:06:18.088Z"
   },
   {
    "duration": 17,
    "start_time": "2021-11-30T11:06:18.133Z"
   },
   {
    "duration": 23,
    "start_time": "2021-11-30T11:06:18.153Z"
   },
   {
    "duration": 64,
    "start_time": "2021-11-30T11:06:18.178Z"
   },
   {
    "duration": 37,
    "start_time": "2021-11-30T11:06:18.245Z"
   },
   {
    "duration": 50,
    "start_time": "2021-11-30T11:06:18.285Z"
   },
   {
    "duration": 48,
    "start_time": "2021-11-30T11:06:18.339Z"
   },
   {
    "duration": 54,
    "start_time": "2021-11-30T11:06:18.389Z"
   },
   {
    "duration": 41,
    "start_time": "2021-11-30T11:06:18.448Z"
   },
   {
    "duration": 5,
    "start_time": "2021-11-30T11:06:18.492Z"
   },
   {
    "duration": 4639,
    "start_time": "2021-11-30T11:06:18.499Z"
   },
   {
    "duration": 26,
    "start_time": "2021-11-30T11:06:23.140Z"
   },
   {
    "duration": 45,
    "start_time": "2021-11-30T11:06:23.168Z"
   },
   {
    "duration": 23,
    "start_time": "2021-11-30T11:06:23.228Z"
   },
   {
    "duration": 27,
    "start_time": "2021-11-30T11:06:23.253Z"
   },
   {
    "duration": 60,
    "start_time": "2021-11-30T11:06:23.282Z"
   },
   {
    "duration": 25,
    "start_time": "2021-11-30T11:06:23.345Z"
   },
   {
    "duration": 61,
    "start_time": "2021-11-30T11:06:23.373Z"
   },
   {
    "duration": 951,
    "start_time": "2021-11-30T15:36:49.544Z"
   },
   {
    "duration": 66,
    "start_time": "2021-11-30T15:36:50.497Z"
   },
   {
    "duration": 7,
    "start_time": "2021-11-30T15:36:50.567Z"
   },
   {
    "duration": 55,
    "start_time": "2021-11-30T15:36:50.577Z"
   },
   {
    "duration": 12,
    "start_time": "2021-11-30T15:36:50.659Z"
   },
   {
    "duration": 14,
    "start_time": "2021-11-30T15:36:50.673Z"
   },
   {
    "duration": 16,
    "start_time": "2021-11-30T15:36:50.689Z"
   },
   {
    "duration": 18,
    "start_time": "2021-11-30T15:36:50.708Z"
   },
   {
    "duration": 16,
    "start_time": "2021-11-30T15:36:50.760Z"
   },
   {
    "duration": 15,
    "start_time": "2021-11-30T15:36:50.779Z"
   },
   {
    "duration": 19,
    "start_time": "2021-11-30T15:36:50.797Z"
   },
   {
    "duration": 42,
    "start_time": "2021-11-30T15:36:50.818Z"
   },
   {
    "duration": 13,
    "start_time": "2021-11-30T15:36:50.863Z"
   },
   {
    "duration": 19,
    "start_time": "2021-11-30T15:36:50.879Z"
   },
   {
    "duration": 15,
    "start_time": "2021-11-30T15:36:50.900Z"
   },
   {
    "duration": 44,
    "start_time": "2021-11-30T15:36:50.917Z"
   },
   {
    "duration": 29,
    "start_time": "2021-11-30T15:36:50.963Z"
   },
   {
    "duration": 11,
    "start_time": "2021-11-30T15:36:50.995Z"
   },
   {
    "duration": 12,
    "start_time": "2021-11-30T15:36:51.008Z"
   },
   {
    "duration": 49,
    "start_time": "2021-11-30T15:36:51.023Z"
   },
   {
    "duration": 17,
    "start_time": "2021-11-30T15:36:51.075Z"
   },
   {
    "duration": 16,
    "start_time": "2021-11-30T15:36:51.094Z"
   },
   {
    "duration": 60,
    "start_time": "2021-11-30T15:36:51.117Z"
   },
   {
    "duration": 21,
    "start_time": "2021-11-30T15:36:51.181Z"
   },
   {
    "duration": 70,
    "start_time": "2021-11-30T15:36:51.205Z"
   },
   {
    "duration": 45,
    "start_time": "2021-11-30T15:36:51.278Z"
   },
   {
    "duration": 43,
    "start_time": "2021-11-30T15:36:51.326Z"
   },
   {
    "duration": 5,
    "start_time": "2021-11-30T15:36:51.371Z"
   },
   {
    "duration": 4994,
    "start_time": "2021-11-30T15:36:51.379Z"
   },
   {
    "duration": 27,
    "start_time": "2021-11-30T15:36:56.376Z"
   },
   {
    "duration": 69,
    "start_time": "2021-11-30T15:36:56.406Z"
   },
   {
    "duration": 31,
    "start_time": "2021-11-30T15:36:56.478Z"
   },
   {
    "duration": 52,
    "start_time": "2021-11-30T15:36:56.512Z"
   },
   {
    "duration": 30,
    "start_time": "2021-11-30T15:36:56.567Z"
   },
   {
    "duration": 62,
    "start_time": "2021-11-30T15:36:56.600Z"
   },
   {
    "duration": 28,
    "start_time": "2021-11-30T15:36:56.665Z"
   },
   {
    "duration": 288,
    "start_time": "2021-12-01T10:32:18.336Z"
   },
   {
    "duration": 773,
    "start_time": "2021-12-01T10:32:30.232Z"
   },
   {
    "duration": 34,
    "start_time": "2021-12-01T10:32:31.008Z"
   },
   {
    "duration": 22,
    "start_time": "2021-12-01T10:32:31.044Z"
   },
   {
    "duration": 54,
    "start_time": "2021-12-01T10:32:31.068Z"
   },
   {
    "duration": 40,
    "start_time": "2021-12-01T10:32:31.125Z"
   },
   {
    "duration": 6,
    "start_time": "2021-12-01T10:32:31.167Z"
   },
   {
    "duration": 19,
    "start_time": "2021-12-01T10:32:31.175Z"
   },
   {
    "duration": 19,
    "start_time": "2021-12-01T10:32:31.198Z"
   },
   {
    "duration": 47,
    "start_time": "2021-12-01T10:32:31.220Z"
   },
   {
    "duration": 32,
    "start_time": "2021-12-01T10:32:31.270Z"
   },
   {
    "duration": 27,
    "start_time": "2021-12-01T10:32:31.304Z"
   },
   {
    "duration": 30,
    "start_time": "2021-12-01T10:32:31.334Z"
   },
   {
    "duration": 35,
    "start_time": "2021-12-01T10:32:31.366Z"
   },
   {
    "duration": 23,
    "start_time": "2021-12-01T10:32:31.404Z"
   },
   {
    "duration": 29,
    "start_time": "2021-12-01T10:32:31.430Z"
   },
   {
    "duration": 9,
    "start_time": "2021-12-01T10:32:31.461Z"
   },
   {
    "duration": 21,
    "start_time": "2021-12-01T10:32:31.472Z"
   },
   {
    "duration": 10,
    "start_time": "2021-12-01T10:32:31.495Z"
   },
   {
    "duration": 23,
    "start_time": "2021-12-01T10:32:31.507Z"
   },
   {
    "duration": 11,
    "start_time": "2021-12-01T10:32:31.531Z"
   },
   {
    "duration": 26,
    "start_time": "2021-12-01T10:32:31.544Z"
   },
   {
    "duration": 10,
    "start_time": "2021-12-01T10:32:31.572Z"
   },
   {
    "duration": 14,
    "start_time": "2021-12-01T10:32:31.586Z"
   },
   {
    "duration": 16,
    "start_time": "2021-12-01T10:32:31.602Z"
   },
   {
    "duration": 59,
    "start_time": "2021-12-01T10:32:31.620Z"
   },
   {
    "duration": 30,
    "start_time": "2021-12-01T10:32:31.681Z"
   },
   {
    "duration": 29,
    "start_time": "2021-12-01T10:32:31.713Z"
   },
   {
    "duration": 4,
    "start_time": "2021-12-01T10:32:31.744Z"
   },
   {
    "duration": 4139,
    "start_time": "2021-12-01T10:32:31.750Z"
   },
   {
    "duration": 20,
    "start_time": "2021-12-01T10:32:35.892Z"
   },
   {
    "duration": 33,
    "start_time": "2021-12-01T10:32:35.915Z"
   },
   {
    "duration": 1704,
    "start_time": "2021-12-01T10:32:35.964Z"
   },
   {
    "duration": -423,
    "start_time": "2021-12-01T10:32:38.093Z"
   },
   {
    "duration": -423,
    "start_time": "2021-12-01T10:32:38.095Z"
   },
   {
    "duration": -426,
    "start_time": "2021-12-01T10:32:38.099Z"
   },
   {
    "duration": -426,
    "start_time": "2021-12-01T10:32:38.101Z"
   },
   {
    "duration": -427,
    "start_time": "2021-12-01T10:32:38.103Z"
   },
   {
    "duration": 13,
    "start_time": "2021-12-01T10:33:11.916Z"
   },
   {
    "duration": 12,
    "start_time": "2021-12-01T10:35:16.004Z"
   },
   {
    "duration": 18,
    "start_time": "2021-12-01T10:35:53.370Z"
   },
   {
    "duration": 20,
    "start_time": "2021-12-01T10:36:07.671Z"
   },
   {
    "duration": 248,
    "start_time": "2021-12-01T10:37:27.117Z"
   },
   {
    "duration": 273,
    "start_time": "2021-12-01T10:37:48.292Z"
   },
   {
    "duration": 90,
    "start_time": "2021-12-01T10:37:53.410Z"
   },
   {
    "duration": 34,
    "start_time": "2021-12-01T10:37:53.502Z"
   },
   {
    "duration": 25,
    "start_time": "2021-12-01T10:37:53.538Z"
   },
   {
    "duration": 40,
    "start_time": "2021-12-01T10:37:53.566Z"
   },
   {
    "duration": 10,
    "start_time": "2021-12-01T10:37:53.608Z"
   },
   {
    "duration": 25,
    "start_time": "2021-12-01T10:37:53.620Z"
   },
   {
    "duration": 41,
    "start_time": "2021-12-01T10:37:53.647Z"
   },
   {
    "duration": 25,
    "start_time": "2021-12-01T10:37:53.690Z"
   },
   {
    "duration": 35,
    "start_time": "2021-12-01T10:37:53.718Z"
   },
   {
    "duration": 15,
    "start_time": "2021-12-01T10:37:53.755Z"
   },
   {
    "duration": 38,
    "start_time": "2021-12-01T10:37:53.772Z"
   },
   {
    "duration": 37,
    "start_time": "2021-12-01T10:37:53.812Z"
   },
   {
    "duration": 25,
    "start_time": "2021-12-01T10:37:53.851Z"
   },
   {
    "duration": 48,
    "start_time": "2021-12-01T10:37:53.878Z"
   },
   {
    "duration": 28,
    "start_time": "2021-12-01T10:37:53.928Z"
   },
   {
    "duration": 11,
    "start_time": "2021-12-01T10:37:53.957Z"
   },
   {
    "duration": 32,
    "start_time": "2021-12-01T10:37:53.969Z"
   },
   {
    "duration": 10,
    "start_time": "2021-12-01T10:37:54.003Z"
   },
   {
    "duration": 18,
    "start_time": "2021-12-01T10:37:54.016Z"
   },
   {
    "duration": 11,
    "start_time": "2021-12-01T10:37:54.036Z"
   },
   {
    "duration": 15,
    "start_time": "2021-12-01T10:37:54.048Z"
   },
   {
    "duration": 18,
    "start_time": "2021-12-01T10:37:54.064Z"
   },
   {
    "duration": 21,
    "start_time": "2021-12-01T10:37:54.085Z"
   },
   {
    "duration": 13,
    "start_time": "2021-12-01T10:37:54.108Z"
   },
   {
    "duration": 32,
    "start_time": "2021-12-01T10:37:54.122Z"
   },
   {
    "duration": 36,
    "start_time": "2021-12-01T10:37:54.155Z"
   },
   {
    "duration": 40,
    "start_time": "2021-12-01T10:37:54.193Z"
   },
   {
    "duration": 5,
    "start_time": "2021-12-01T10:37:54.235Z"
   },
   {
    "duration": 3948,
    "start_time": "2021-12-01T10:37:54.263Z"
   },
   {
    "duration": 18,
    "start_time": "2021-12-01T10:37:58.214Z"
   },
   {
    "duration": 47,
    "start_time": "2021-12-01T10:37:58.234Z"
   },
   {
    "duration": 292,
    "start_time": "2021-12-01T10:37:58.283Z"
   },
   {
    "duration": -422,
    "start_time": "2021-12-01T10:37:58.999Z"
   },
   {
    "duration": -423,
    "start_time": "2021-12-01T10:37:59.001Z"
   },
   {
    "duration": -424,
    "start_time": "2021-12-01T10:37:59.003Z"
   },
   {
    "duration": -424,
    "start_time": "2021-12-01T10:37:59.004Z"
   },
   {
    "duration": -425,
    "start_time": "2021-12-01T10:37:59.006Z"
   },
   {
    "duration": 15,
    "start_time": "2021-12-01T10:39:18.820Z"
   },
   {
    "duration": 16,
    "start_time": "2021-12-01T10:39:27.431Z"
   },
   {
    "duration": 258,
    "start_time": "2021-12-01T10:39:46.578Z"
   },
   {
    "duration": 23,
    "start_time": "2021-12-01T10:40:23.205Z"
   },
   {
    "duration": 502,
    "start_time": "2021-12-01T10:42:57.609Z"
   },
   {
    "duration": 69,
    "start_time": "2021-12-01T10:44:07.402Z"
   },
   {
    "duration": 30,
    "start_time": "2021-12-01T10:44:29.436Z"
   },
   {
    "duration": 18,
    "start_time": "2021-12-01T10:45:44.895Z"
   },
   {
    "duration": 23,
    "start_time": "2021-12-01T10:46:25.478Z"
   },
   {
    "duration": 1046,
    "start_time": "2021-12-01T12:08:30.164Z"
   },
   {
    "duration": 49,
    "start_time": "2021-12-01T12:08:31.213Z"
   },
   {
    "duration": 7,
    "start_time": "2021-12-01T12:08:31.282Z"
   },
   {
    "duration": 69,
    "start_time": "2021-12-01T12:08:31.291Z"
   },
   {
    "duration": 25,
    "start_time": "2021-12-01T12:08:31.363Z"
   },
   {
    "duration": 39,
    "start_time": "2021-12-01T12:08:31.390Z"
   },
   {
    "duration": 31,
    "start_time": "2021-12-01T12:08:31.432Z"
   },
   {
    "duration": 26,
    "start_time": "2021-12-01T12:08:31.467Z"
   },
   {
    "duration": 39,
    "start_time": "2021-12-01T12:08:31.497Z"
   },
   {
    "duration": 22,
    "start_time": "2021-12-01T12:08:31.540Z"
   },
   {
    "duration": 31,
    "start_time": "2021-12-01T12:08:31.566Z"
   },
   {
    "duration": 40,
    "start_time": "2021-12-01T12:08:31.600Z"
   },
   {
    "duration": 51,
    "start_time": "2021-12-01T12:08:31.643Z"
   },
   {
    "duration": 41,
    "start_time": "2021-12-01T12:08:31.697Z"
   },
   {
    "duration": 26,
    "start_time": "2021-12-01T12:08:31.740Z"
   },
   {
    "duration": 17,
    "start_time": "2021-12-01T12:08:31.769Z"
   },
   {
    "duration": 43,
    "start_time": "2021-12-01T12:08:31.788Z"
   },
   {
    "duration": 26,
    "start_time": "2021-12-01T12:08:31.834Z"
   },
   {
    "duration": 74,
    "start_time": "2021-12-01T12:08:31.862Z"
   },
   {
    "duration": 36,
    "start_time": "2021-12-01T12:08:31.939Z"
   },
   {
    "duration": 53,
    "start_time": "2021-12-01T12:08:31.977Z"
   },
   {
    "duration": 23,
    "start_time": "2021-12-01T12:08:32.033Z"
   },
   {
    "duration": 39,
    "start_time": "2021-12-01T12:08:32.062Z"
   },
   {
    "duration": 19,
    "start_time": "2021-12-01T12:08:32.105Z"
   },
   {
    "duration": 76,
    "start_time": "2021-12-01T12:08:32.126Z"
   },
   {
    "duration": 48,
    "start_time": "2021-12-01T12:08:32.204Z"
   },
   {
    "duration": 32,
    "start_time": "2021-12-01T12:08:32.254Z"
   },
   {
    "duration": 4,
    "start_time": "2021-12-01T12:08:32.289Z"
   },
   {
    "duration": 4565,
    "start_time": "2021-12-01T12:08:32.296Z"
   },
   {
    "duration": 36,
    "start_time": "2021-12-01T12:08:36.864Z"
   },
   {
    "duration": 43,
    "start_time": "2021-12-01T12:08:36.902Z"
   },
   {
    "duration": 58,
    "start_time": "2021-12-01T12:08:36.948Z"
   },
   {
    "duration": 9,
    "start_time": "2021-12-01T12:08:37.008Z"
   },
   {
    "duration": 62,
    "start_time": "2021-12-01T12:08:37.019Z"
   },
   {
    "duration": 8,
    "start_time": "2021-12-01T12:08:37.083Z"
   },
   {
    "duration": 46,
    "start_time": "2021-12-01T12:08:37.094Z"
   },
   {
    "duration": 28,
    "start_time": "2021-12-01T12:08:37.143Z"
   },
   {
    "duration": 30,
    "start_time": "2021-12-01T12:08:37.181Z"
   },
   {
    "duration": 26,
    "start_time": "2021-12-01T12:08:37.214Z"
   },
   {
    "duration": 58,
    "start_time": "2021-12-01T12:08:37.243Z"
   },
   {
    "duration": 388,
    "start_time": "2021-12-30T12:34:12.300Z"
   },
   {
    "duration": 987,
    "start_time": "2021-12-30T12:34:16.443Z"
   },
   {
    "duration": 72,
    "start_time": "2021-12-30T12:34:17.432Z"
   },
   {
    "duration": 5,
    "start_time": "2021-12-30T12:34:17.508Z"
   },
   {
    "duration": 85,
    "start_time": "2021-12-30T12:34:17.516Z"
   },
   {
    "duration": 14,
    "start_time": "2021-12-30T12:34:17.603Z"
   },
   {
    "duration": 7,
    "start_time": "2021-12-30T12:34:17.620Z"
   },
   {
    "duration": 55,
    "start_time": "2021-12-30T12:34:17.630Z"
   },
   {
    "duration": 17,
    "start_time": "2021-12-30T12:34:17.689Z"
   },
   {
    "duration": 17,
    "start_time": "2021-12-30T12:34:17.709Z"
   },
   {
    "duration": 46,
    "start_time": "2021-12-30T12:34:17.728Z"
   },
   {
    "duration": 20,
    "start_time": "2021-12-30T12:34:17.776Z"
   },
   {
    "duration": 16,
    "start_time": "2021-12-30T12:34:17.799Z"
   },
   {
    "duration": 49,
    "start_time": "2021-12-30T12:34:17.818Z"
   },
   {
    "duration": 20,
    "start_time": "2021-12-30T12:34:17.871Z"
   },
   {
    "duration": 14,
    "start_time": "2021-12-30T12:34:17.893Z"
   },
   {
    "duration": 11,
    "start_time": "2021-12-30T12:34:17.910Z"
   },
   {
    "duration": 74,
    "start_time": "2021-12-30T12:34:17.923Z"
   },
   {
    "duration": 12,
    "start_time": "2021-12-30T12:34:18.000Z"
   },
   {
    "duration": 12,
    "start_time": "2021-12-30T12:34:18.015Z"
   },
   {
    "duration": 43,
    "start_time": "2021-12-30T12:34:18.030Z"
   },
   {
    "duration": 15,
    "start_time": "2021-12-30T12:34:18.077Z"
   },
   {
    "duration": 13,
    "start_time": "2021-12-30T12:34:18.095Z"
   },
   {
    "duration": 62,
    "start_time": "2021-12-30T12:34:18.112Z"
   },
   {
    "duration": 25,
    "start_time": "2021-12-30T12:34:18.177Z"
   },
   {
    "duration": 39,
    "start_time": "2021-12-30T12:34:18.204Z"
   },
   {
    "duration": 54,
    "start_time": "2021-12-30T12:34:18.268Z"
   },
   {
    "duration": 22,
    "start_time": "2021-12-30T12:34:18.325Z"
   },
   {
    "duration": 5,
    "start_time": "2021-12-30T12:34:18.367Z"
   },
   {
    "duration": 4959,
    "start_time": "2021-12-30T12:34:18.375Z"
   },
   {
    "duration": 34,
    "start_time": "2021-12-30T12:34:23.337Z"
   },
   {
    "duration": 50,
    "start_time": "2021-12-30T12:34:23.373Z"
   },
   {
    "duration": 63,
    "start_time": "2021-12-30T12:34:23.426Z"
   },
   {
    "duration": 8,
    "start_time": "2021-12-30T12:34:23.492Z"
   },
   {
    "duration": 32,
    "start_time": "2021-12-30T12:34:23.502Z"
   },
   {
    "duration": 34,
    "start_time": "2021-12-30T12:34:23.536Z"
   },
   {
    "duration": 32,
    "start_time": "2021-12-30T12:34:23.572Z"
   },
   {
    "duration": 29,
    "start_time": "2021-12-30T12:34:23.606Z"
   },
   {
    "duration": 64,
    "start_time": "2021-12-30T12:34:23.637Z"
   },
   {
    "duration": 28,
    "start_time": "2021-12-30T12:34:23.704Z"
   },
   {
    "duration": 52,
    "start_time": "2021-12-30T12:34:23.734Z"
   }
  ],
  "kernelspec": {
   "display_name": "Python 3.10.4 64-bit",
   "language": "python",
   "name": "python3"
  },
  "language_info": {
   "codemirror_mode": {
    "name": "ipython",
    "version": 3
   },
   "file_extension": ".py",
   "mimetype": "text/x-python",
   "name": "python",
   "nbconvert_exporter": "python",
   "pygments_lexer": "ipython3",
   "version": "3.10.4"
  },
  "toc": {
   "base_numbering": 1,
   "nav_menu": {},
   "number_sections": true,
   "sideBar": true,
   "skip_h1_title": true,
   "title_cell": "Table of Contents",
   "title_sidebar": "Contents",
   "toc_cell": false,
   "toc_position": {},
   "toc_section_display": true,
   "toc_window_display": false
  },
  "vscode": {
   "interpreter": {
    "hash": "2469a70536e4d2335a2ea8907942d0699c37342a371ac185bdb5b0aa6f073890"
   }
  }
 },
 "nbformat": 4,
 "nbformat_minor": 2
}
