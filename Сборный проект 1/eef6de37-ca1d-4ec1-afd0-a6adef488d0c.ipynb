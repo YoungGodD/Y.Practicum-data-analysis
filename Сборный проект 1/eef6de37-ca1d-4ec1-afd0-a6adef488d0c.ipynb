{
 "cells": [
  {
   "cell_type": "markdown",
   "metadata": {},
   "source": [
    "# Закономерности успешной видеоигры"
   ]
  },
  {
   "cell_type": "markdown",
   "metadata": {},
   "source": [
    "<b>Описание данных:</b><br>\n",
    "- Name — название игры\n",
    "- Platform — платформа\n",
    "- Year_of_Release — год выпуска\n",
    "- Genre — жанр игры\n",
    "- NA_sales — продажи в Северной Америке (миллионы проданных копий)\n",
    "- EU_sales — продажи в Европе (миллионы проданных копий)\n",
    "- JP_sales — продажи в Японии (миллионы проданных копий)\n",
    "- Other_sales — продажи в других странах (миллионы проданных копий)\n",
    "- Critic_Score — оценка критиков (максимум 100)\n",
    "- User_Score — оценка пользователей (максимум 10)\n",
    "- Rating — рейтинг от организации ESRB (англ. Entertainment Software Rating Board). Эта ассоциация определяет рейтинг компьютерных игр и присваивает им подходящую возрастную категорию."
   ]
  },
  {
   "cell_type": "markdown",
   "metadata": {},
   "source": [
    "## Изучение данных"
   ]
  },
  {
   "cell_type": "code",
   "execution_count": 1,
   "metadata": {},
   "outputs": [],
   "source": [
    "import pandas as pd\n",
    "import matplotlib.pyplot as plt\n",
    "from scipy import stats"
   ]
  },
  {
   "cell_type": "code",
   "execution_count": 2,
   "metadata": {},
   "outputs": [],
   "source": [
    "pd.set_option('display.max_columns', None)\n",
    "pd.set_option('display.max_rows', 20)"
   ]
  },
  {
   "cell_type": "code",
   "execution_count": 3,
   "metadata": {},
   "outputs": [],
   "source": [
    "df = pd.read_csv('/datasets/games.csv')"
   ]
  },
  {
   "cell_type": "code",
   "execution_count": 4,
   "metadata": {},
   "outputs": [
    {
     "data": {
      "text/html": [
       "<div>\n",
       "<style scoped>\n",
       "    .dataframe tbody tr th:only-of-type {\n",
       "        vertical-align: middle;\n",
       "    }\n",
       "\n",
       "    .dataframe tbody tr th {\n",
       "        vertical-align: top;\n",
       "    }\n",
       "\n",
       "    .dataframe thead th {\n",
       "        text-align: right;\n",
       "    }\n",
       "</style>\n",
       "<table border=\"1\" class=\"dataframe\">\n",
       "  <thead>\n",
       "    <tr style=\"text-align: right;\">\n",
       "      <th></th>\n",
       "      <th>Name</th>\n",
       "      <th>Platform</th>\n",
       "      <th>Year_of_Release</th>\n",
       "      <th>Genre</th>\n",
       "      <th>NA_sales</th>\n",
       "      <th>EU_sales</th>\n",
       "      <th>JP_sales</th>\n",
       "      <th>Other_sales</th>\n",
       "      <th>Critic_Score</th>\n",
       "      <th>User_Score</th>\n",
       "      <th>Rating</th>\n",
       "    </tr>\n",
       "  </thead>\n",
       "  <tbody>\n",
       "    <tr>\n",
       "      <td>0</td>\n",
       "      <td>Wii Sports</td>\n",
       "      <td>Wii</td>\n",
       "      <td>2006.0</td>\n",
       "      <td>Sports</td>\n",
       "      <td>41.36</td>\n",
       "      <td>28.96</td>\n",
       "      <td>3.77</td>\n",
       "      <td>8.45</td>\n",
       "      <td>76.0</td>\n",
       "      <td>8</td>\n",
       "      <td>E</td>\n",
       "    </tr>\n",
       "    <tr>\n",
       "      <td>1</td>\n",
       "      <td>Super Mario Bros.</td>\n",
       "      <td>NES</td>\n",
       "      <td>1985.0</td>\n",
       "      <td>Platform</td>\n",
       "      <td>29.08</td>\n",
       "      <td>3.58</td>\n",
       "      <td>6.81</td>\n",
       "      <td>0.77</td>\n",
       "      <td>NaN</td>\n",
       "      <td>NaN</td>\n",
       "      <td>NaN</td>\n",
       "    </tr>\n",
       "    <tr>\n",
       "      <td>2</td>\n",
       "      <td>Mario Kart Wii</td>\n",
       "      <td>Wii</td>\n",
       "      <td>2008.0</td>\n",
       "      <td>Racing</td>\n",
       "      <td>15.68</td>\n",
       "      <td>12.76</td>\n",
       "      <td>3.79</td>\n",
       "      <td>3.29</td>\n",
       "      <td>82.0</td>\n",
       "      <td>8.3</td>\n",
       "      <td>E</td>\n",
       "    </tr>\n",
       "    <tr>\n",
       "      <td>3</td>\n",
       "      <td>Wii Sports Resort</td>\n",
       "      <td>Wii</td>\n",
       "      <td>2009.0</td>\n",
       "      <td>Sports</td>\n",
       "      <td>15.61</td>\n",
       "      <td>10.93</td>\n",
       "      <td>3.28</td>\n",
       "      <td>2.95</td>\n",
       "      <td>80.0</td>\n",
       "      <td>8</td>\n",
       "      <td>E</td>\n",
       "    </tr>\n",
       "    <tr>\n",
       "      <td>4</td>\n",
       "      <td>Pokemon Red/Pokemon Blue</td>\n",
       "      <td>GB</td>\n",
       "      <td>1996.0</td>\n",
       "      <td>Role-Playing</td>\n",
       "      <td>11.27</td>\n",
       "      <td>8.89</td>\n",
       "      <td>10.22</td>\n",
       "      <td>1.00</td>\n",
       "      <td>NaN</td>\n",
       "      <td>NaN</td>\n",
       "      <td>NaN</td>\n",
       "    </tr>\n",
       "    <tr>\n",
       "      <td>...</td>\n",
       "      <td>...</td>\n",
       "      <td>...</td>\n",
       "      <td>...</td>\n",
       "      <td>...</td>\n",
       "      <td>...</td>\n",
       "      <td>...</td>\n",
       "      <td>...</td>\n",
       "      <td>...</td>\n",
       "      <td>...</td>\n",
       "      <td>...</td>\n",
       "      <td>...</td>\n",
       "    </tr>\n",
       "    <tr>\n",
       "      <td>16710</td>\n",
       "      <td>Samurai Warriors: Sanada Maru</td>\n",
       "      <td>PS3</td>\n",
       "      <td>2016.0</td>\n",
       "      <td>Action</td>\n",
       "      <td>0.00</td>\n",
       "      <td>0.00</td>\n",
       "      <td>0.01</td>\n",
       "      <td>0.00</td>\n",
       "      <td>NaN</td>\n",
       "      <td>NaN</td>\n",
       "      <td>NaN</td>\n",
       "    </tr>\n",
       "    <tr>\n",
       "      <td>16711</td>\n",
       "      <td>LMA Manager 2007</td>\n",
       "      <td>X360</td>\n",
       "      <td>2006.0</td>\n",
       "      <td>Sports</td>\n",
       "      <td>0.00</td>\n",
       "      <td>0.01</td>\n",
       "      <td>0.00</td>\n",
       "      <td>0.00</td>\n",
       "      <td>NaN</td>\n",
       "      <td>NaN</td>\n",
       "      <td>NaN</td>\n",
       "    </tr>\n",
       "    <tr>\n",
       "      <td>16712</td>\n",
       "      <td>Haitaka no Psychedelica</td>\n",
       "      <td>PSV</td>\n",
       "      <td>2016.0</td>\n",
       "      <td>Adventure</td>\n",
       "      <td>0.00</td>\n",
       "      <td>0.00</td>\n",
       "      <td>0.01</td>\n",
       "      <td>0.00</td>\n",
       "      <td>NaN</td>\n",
       "      <td>NaN</td>\n",
       "      <td>NaN</td>\n",
       "    </tr>\n",
       "    <tr>\n",
       "      <td>16713</td>\n",
       "      <td>Spirits &amp; Spells</td>\n",
       "      <td>GBA</td>\n",
       "      <td>2003.0</td>\n",
       "      <td>Platform</td>\n",
       "      <td>0.01</td>\n",
       "      <td>0.00</td>\n",
       "      <td>0.00</td>\n",
       "      <td>0.00</td>\n",
       "      <td>NaN</td>\n",
       "      <td>NaN</td>\n",
       "      <td>NaN</td>\n",
       "    </tr>\n",
       "    <tr>\n",
       "      <td>16714</td>\n",
       "      <td>Winning Post 8 2016</td>\n",
       "      <td>PSV</td>\n",
       "      <td>2016.0</td>\n",
       "      <td>Simulation</td>\n",
       "      <td>0.00</td>\n",
       "      <td>0.00</td>\n",
       "      <td>0.01</td>\n",
       "      <td>0.00</td>\n",
       "      <td>NaN</td>\n",
       "      <td>NaN</td>\n",
       "      <td>NaN</td>\n",
       "    </tr>\n",
       "  </tbody>\n",
       "</table>\n",
       "<p>16715 rows × 11 columns</p>\n",
       "</div>"
      ],
      "text/plain": [
       "                                Name Platform  Year_of_Release         Genre  \\\n",
       "0                         Wii Sports      Wii           2006.0        Sports   \n",
       "1                  Super Mario Bros.      NES           1985.0      Platform   \n",
       "2                     Mario Kart Wii      Wii           2008.0        Racing   \n",
       "3                  Wii Sports Resort      Wii           2009.0        Sports   \n",
       "4           Pokemon Red/Pokemon Blue       GB           1996.0  Role-Playing   \n",
       "...                              ...      ...              ...           ...   \n",
       "16710  Samurai Warriors: Sanada Maru      PS3           2016.0        Action   \n",
       "16711               LMA Manager 2007     X360           2006.0        Sports   \n",
       "16712        Haitaka no Psychedelica      PSV           2016.0     Adventure   \n",
       "16713               Spirits & Spells      GBA           2003.0      Platform   \n",
       "16714            Winning Post 8 2016      PSV           2016.0    Simulation   \n",
       "\n",
       "       NA_sales  EU_sales  JP_sales  Other_sales  Critic_Score User_Score  \\\n",
       "0         41.36     28.96      3.77         8.45          76.0          8   \n",
       "1         29.08      3.58      6.81         0.77           NaN        NaN   \n",
       "2         15.68     12.76      3.79         3.29          82.0        8.3   \n",
       "3         15.61     10.93      3.28         2.95          80.0          8   \n",
       "4         11.27      8.89     10.22         1.00           NaN        NaN   \n",
       "...         ...       ...       ...          ...           ...        ...   \n",
       "16710      0.00      0.00      0.01         0.00           NaN        NaN   \n",
       "16711      0.00      0.01      0.00         0.00           NaN        NaN   \n",
       "16712      0.00      0.00      0.01         0.00           NaN        NaN   \n",
       "16713      0.01      0.00      0.00         0.00           NaN        NaN   \n",
       "16714      0.00      0.00      0.01         0.00           NaN        NaN   \n",
       "\n",
       "      Rating  \n",
       "0          E  \n",
       "1        NaN  \n",
       "2          E  \n",
       "3          E  \n",
       "4        NaN  \n",
       "...      ...  \n",
       "16710    NaN  \n",
       "16711    NaN  \n",
       "16712    NaN  \n",
       "16713    NaN  \n",
       "16714    NaN  \n",
       "\n",
       "[16715 rows x 11 columns]"
      ]
     },
     "execution_count": 4,
     "metadata": {},
     "output_type": "execute_result"
    }
   ],
   "source": [
    "df"
   ]
  },
  {
   "cell_type": "code",
   "execution_count": 5,
   "metadata": {},
   "outputs": [
    {
     "name": "stdout",
     "output_type": "stream",
     "text": [
      "<class 'pandas.core.frame.DataFrame'>\n",
      "RangeIndex: 16715 entries, 0 to 16714\n",
      "Data columns (total 11 columns):\n",
      "Name               16713 non-null object\n",
      "Platform           16715 non-null object\n",
      "Year_of_Release    16446 non-null float64\n",
      "Genre              16713 non-null object\n",
      "NA_sales           16715 non-null float64\n",
      "EU_sales           16715 non-null float64\n",
      "JP_sales           16715 non-null float64\n",
      "Other_sales        16715 non-null float64\n",
      "Critic_Score       8137 non-null float64\n",
      "User_Score         10014 non-null object\n",
      "Rating             9949 non-null object\n",
      "dtypes: float64(6), object(5)\n",
      "memory usage: 1.4+ MB\n"
     ]
    }
   ],
   "source": [
    "df.info()"
   ]
  },
  {
   "cell_type": "markdown",
   "metadata": {},
   "source": [
    "<b>Вывод:</b>"
   ]
  },
  {
   "cell_type": "markdown",
   "metadata": {},
   "source": [
    "- В данных присутсвует столбец с годами типа float, который нужно заменить на date.\n",
    "- В названиях столбцов используются символы верхнего регистра, их нужно заменить на нижний.\n",
    "- В некоторых ячейках содержатся пустые значения, их попробуем заполнить."
   ]
  },
  {
   "cell_type": "markdown",
   "metadata": {},
   "source": [
    "## Обработка данных"
   ]
  },
  {
   "cell_type": "markdown",
   "metadata": {},
   "source": [
    "### Наименования столбцов"
   ]
  },
  {
   "cell_type": "code",
   "execution_count": 6,
   "metadata": {},
   "outputs": [],
   "source": [
    "df.columns = map(str.lower, df.columns)"
   ]
  },
  {
   "cell_type": "code",
   "execution_count": 7,
   "metadata": {
    "scrolled": true
   },
   "outputs": [
    {
     "data": {
      "text/html": [
       "<div>\n",
       "<style scoped>\n",
       "    .dataframe tbody tr th:only-of-type {\n",
       "        vertical-align: middle;\n",
       "    }\n",
       "\n",
       "    .dataframe tbody tr th {\n",
       "        vertical-align: top;\n",
       "    }\n",
       "\n",
       "    .dataframe thead th {\n",
       "        text-align: right;\n",
       "    }\n",
       "</style>\n",
       "<table border=\"1\" class=\"dataframe\">\n",
       "  <thead>\n",
       "    <tr style=\"text-align: right;\">\n",
       "      <th></th>\n",
       "      <th>name</th>\n",
       "      <th>platform</th>\n",
       "      <th>year_of_release</th>\n",
       "      <th>genre</th>\n",
       "      <th>na_sales</th>\n",
       "      <th>eu_sales</th>\n",
       "      <th>jp_sales</th>\n",
       "      <th>other_sales</th>\n",
       "      <th>critic_score</th>\n",
       "      <th>user_score</th>\n",
       "      <th>rating</th>\n",
       "    </tr>\n",
       "  </thead>\n",
       "  <tbody>\n",
       "    <tr>\n",
       "      <td>0</td>\n",
       "      <td>Wii Sports</td>\n",
       "      <td>Wii</td>\n",
       "      <td>2006.0</td>\n",
       "      <td>Sports</td>\n",
       "      <td>41.36</td>\n",
       "      <td>28.96</td>\n",
       "      <td>3.77</td>\n",
       "      <td>8.45</td>\n",
       "      <td>76.0</td>\n",
       "      <td>8</td>\n",
       "      <td>E</td>\n",
       "    </tr>\n",
       "    <tr>\n",
       "      <td>1</td>\n",
       "      <td>Super Mario Bros.</td>\n",
       "      <td>NES</td>\n",
       "      <td>1985.0</td>\n",
       "      <td>Platform</td>\n",
       "      <td>29.08</td>\n",
       "      <td>3.58</td>\n",
       "      <td>6.81</td>\n",
       "      <td>0.77</td>\n",
       "      <td>NaN</td>\n",
       "      <td>NaN</td>\n",
       "      <td>NaN</td>\n",
       "    </tr>\n",
       "    <tr>\n",
       "      <td>2</td>\n",
       "      <td>Mario Kart Wii</td>\n",
       "      <td>Wii</td>\n",
       "      <td>2008.0</td>\n",
       "      <td>Racing</td>\n",
       "      <td>15.68</td>\n",
       "      <td>12.76</td>\n",
       "      <td>3.79</td>\n",
       "      <td>3.29</td>\n",
       "      <td>82.0</td>\n",
       "      <td>8.3</td>\n",
       "      <td>E</td>\n",
       "    </tr>\n",
       "    <tr>\n",
       "      <td>3</td>\n",
       "      <td>Wii Sports Resort</td>\n",
       "      <td>Wii</td>\n",
       "      <td>2009.0</td>\n",
       "      <td>Sports</td>\n",
       "      <td>15.61</td>\n",
       "      <td>10.93</td>\n",
       "      <td>3.28</td>\n",
       "      <td>2.95</td>\n",
       "      <td>80.0</td>\n",
       "      <td>8</td>\n",
       "      <td>E</td>\n",
       "    </tr>\n",
       "    <tr>\n",
       "      <td>4</td>\n",
       "      <td>Pokemon Red/Pokemon Blue</td>\n",
       "      <td>GB</td>\n",
       "      <td>1996.0</td>\n",
       "      <td>Role-Playing</td>\n",
       "      <td>11.27</td>\n",
       "      <td>8.89</td>\n",
       "      <td>10.22</td>\n",
       "      <td>1.00</td>\n",
       "      <td>NaN</td>\n",
       "      <td>NaN</td>\n",
       "      <td>NaN</td>\n",
       "    </tr>\n",
       "    <tr>\n",
       "      <td>...</td>\n",
       "      <td>...</td>\n",
       "      <td>...</td>\n",
       "      <td>...</td>\n",
       "      <td>...</td>\n",
       "      <td>...</td>\n",
       "      <td>...</td>\n",
       "      <td>...</td>\n",
       "      <td>...</td>\n",
       "      <td>...</td>\n",
       "      <td>...</td>\n",
       "      <td>...</td>\n",
       "    </tr>\n",
       "    <tr>\n",
       "      <td>16710</td>\n",
       "      <td>Samurai Warriors: Sanada Maru</td>\n",
       "      <td>PS3</td>\n",
       "      <td>2016.0</td>\n",
       "      <td>Action</td>\n",
       "      <td>0.00</td>\n",
       "      <td>0.00</td>\n",
       "      <td>0.01</td>\n",
       "      <td>0.00</td>\n",
       "      <td>NaN</td>\n",
       "      <td>NaN</td>\n",
       "      <td>NaN</td>\n",
       "    </tr>\n",
       "    <tr>\n",
       "      <td>16711</td>\n",
       "      <td>LMA Manager 2007</td>\n",
       "      <td>X360</td>\n",
       "      <td>2006.0</td>\n",
       "      <td>Sports</td>\n",
       "      <td>0.00</td>\n",
       "      <td>0.01</td>\n",
       "      <td>0.00</td>\n",
       "      <td>0.00</td>\n",
       "      <td>NaN</td>\n",
       "      <td>NaN</td>\n",
       "      <td>NaN</td>\n",
       "    </tr>\n",
       "    <tr>\n",
       "      <td>16712</td>\n",
       "      <td>Haitaka no Psychedelica</td>\n",
       "      <td>PSV</td>\n",
       "      <td>2016.0</td>\n",
       "      <td>Adventure</td>\n",
       "      <td>0.00</td>\n",
       "      <td>0.00</td>\n",
       "      <td>0.01</td>\n",
       "      <td>0.00</td>\n",
       "      <td>NaN</td>\n",
       "      <td>NaN</td>\n",
       "      <td>NaN</td>\n",
       "    </tr>\n",
       "    <tr>\n",
       "      <td>16713</td>\n",
       "      <td>Spirits &amp; Spells</td>\n",
       "      <td>GBA</td>\n",
       "      <td>2003.0</td>\n",
       "      <td>Platform</td>\n",
       "      <td>0.01</td>\n",
       "      <td>0.00</td>\n",
       "      <td>0.00</td>\n",
       "      <td>0.00</td>\n",
       "      <td>NaN</td>\n",
       "      <td>NaN</td>\n",
       "      <td>NaN</td>\n",
       "    </tr>\n",
       "    <tr>\n",
       "      <td>16714</td>\n",
       "      <td>Winning Post 8 2016</td>\n",
       "      <td>PSV</td>\n",
       "      <td>2016.0</td>\n",
       "      <td>Simulation</td>\n",
       "      <td>0.00</td>\n",
       "      <td>0.00</td>\n",
       "      <td>0.01</td>\n",
       "      <td>0.00</td>\n",
       "      <td>NaN</td>\n",
       "      <td>NaN</td>\n",
       "      <td>NaN</td>\n",
       "    </tr>\n",
       "  </tbody>\n",
       "</table>\n",
       "<p>16715 rows × 11 columns</p>\n",
       "</div>"
      ],
      "text/plain": [
       "                                name platform  year_of_release         genre  \\\n",
       "0                         Wii Sports      Wii           2006.0        Sports   \n",
       "1                  Super Mario Bros.      NES           1985.0      Platform   \n",
       "2                     Mario Kart Wii      Wii           2008.0        Racing   \n",
       "3                  Wii Sports Resort      Wii           2009.0        Sports   \n",
       "4           Pokemon Red/Pokemon Blue       GB           1996.0  Role-Playing   \n",
       "...                              ...      ...              ...           ...   \n",
       "16710  Samurai Warriors: Sanada Maru      PS3           2016.0        Action   \n",
       "16711               LMA Manager 2007     X360           2006.0        Sports   \n",
       "16712        Haitaka no Psychedelica      PSV           2016.0     Adventure   \n",
       "16713               Spirits & Spells      GBA           2003.0      Platform   \n",
       "16714            Winning Post 8 2016      PSV           2016.0    Simulation   \n",
       "\n",
       "       na_sales  eu_sales  jp_sales  other_sales  critic_score user_score  \\\n",
       "0         41.36     28.96      3.77         8.45          76.0          8   \n",
       "1         29.08      3.58      6.81         0.77           NaN        NaN   \n",
       "2         15.68     12.76      3.79         3.29          82.0        8.3   \n",
       "3         15.61     10.93      3.28         2.95          80.0          8   \n",
       "4         11.27      8.89     10.22         1.00           NaN        NaN   \n",
       "...         ...       ...       ...          ...           ...        ...   \n",
       "16710      0.00      0.00      0.01         0.00           NaN        NaN   \n",
       "16711      0.00      0.01      0.00         0.00           NaN        NaN   \n",
       "16712      0.00      0.00      0.01         0.00           NaN        NaN   \n",
       "16713      0.01      0.00      0.00         0.00           NaN        NaN   \n",
       "16714      0.00      0.00      0.01         0.00           NaN        NaN   \n",
       "\n",
       "      rating  \n",
       "0          E  \n",
       "1        NaN  \n",
       "2          E  \n",
       "3          E  \n",
       "4        NaN  \n",
       "...      ...  \n",
       "16710    NaN  \n",
       "16711    NaN  \n",
       "16712    NaN  \n",
       "16713    NaN  \n",
       "16714    NaN  \n",
       "\n",
       "[16715 rows x 11 columns]"
      ]
     },
     "execution_count": 7,
     "metadata": {},
     "output_type": "execute_result"
    }
   ],
   "source": [
    "df"
   ]
  },
  {
   "cell_type": "markdown",
   "metadata": {},
   "source": [
    "<b>Вывод:</b>"
   ]
  },
  {
   "cell_type": "markdown",
   "metadata": {},
   "source": [
    "Названия столбцов были приведены к нижнему регистру."
   ]
  },
  {
   "cell_type": "markdown",
   "metadata": {},
   "source": [
    "### Изменение типа данных"
   ]
  },
  {
   "cell_type": "code",
   "execution_count": 8,
   "metadata": {},
   "outputs": [
    {
     "data": {
      "text/plain": [
       "269"
      ]
     },
     "execution_count": 8,
     "metadata": {},
     "output_type": "execute_result"
    }
   ],
   "source": [
    "df['year_of_release'].isna().sum()"
   ]
  },
  {
   "cell_type": "code",
   "execution_count": 9,
   "metadata": {},
   "outputs": [],
   "source": [
    "df.dropna(subset=['year_of_release'], inplace=True)\n",
    "df = df.reset_index(drop=True)\n",
    "df['year_of_release'] = df['year_of_release'].astype('int')"
   ]
  },
  {
   "cell_type": "code",
   "execution_count": 10,
   "metadata": {},
   "outputs": [],
   "source": [
    "df.loc[(df.user_score == 'tbd', 'user_score')] = ''\n",
    "df['user_score'] = df['user_score'].apply(pd.to_numeric)"
   ]
  },
  {
   "cell_type": "code",
   "execution_count": 11,
   "metadata": {},
   "outputs": [],
   "source": [
    "df['rating'] = df['rating'].fillna('unknown')"
   ]
  },
  {
   "cell_type": "code",
   "execution_count": 12,
   "metadata": {},
   "outputs": [
    {
     "data": {
      "text/plain": [
       "array(['E', 'unknown', 'M', 'T', 'E10+', 'K-A', 'AO', 'EC', 'RP'],\n",
       "      dtype=object)"
      ]
     },
     "execution_count": 12,
     "metadata": {},
     "output_type": "execute_result"
    }
   ],
   "source": [
    "df['rating'].unique()"
   ]
  },
  {
   "cell_type": "markdown",
   "metadata": {},
   "source": [
    "<b>Вывод:</b>"
   ]
  },
  {
   "cell_type": "markdown",
   "metadata": {},
   "source": [
    "Были изменены типы данных в столбцах 'year_of_release' и 'user_score' на int и float соответсвенно.<br>\n",
    "Так же удалены 269 строк в столбце 'year_of_release', т.к. это не сильно повлияет на конечный результат."
   ]
  },
  {
   "cell_type": "markdown",
   "metadata": {},
   "source": [
    "### Обработка пропусков"
   ]
  },
  {
   "cell_type": "code",
   "execution_count": 13,
   "metadata": {},
   "outputs": [
    {
     "data": {
      "text/plain": [
       "2"
      ]
     },
     "execution_count": 13,
     "metadata": {},
     "output_type": "execute_result"
    }
   ],
   "source": [
    "df['name'].isna().sum()"
   ]
  },
  {
   "cell_type": "code",
   "execution_count": 14,
   "metadata": {},
   "outputs": [],
   "source": [
    "df.dropna(subset=['name'], inplace=True)\n",
    "df = df.reset_index(drop=True)"
   ]
  },
  {
   "cell_type": "markdown",
   "metadata": {},
   "source": [
    "### Суммарные продажи"
   ]
  },
  {
   "cell_type": "code",
   "execution_count": 15,
   "metadata": {},
   "outputs": [],
   "source": [
    "df['all_sales'] = df['na_sales'] + df['eu_sales'] + df['jp_sales']"
   ]
  },
  {
   "cell_type": "markdown",
   "metadata": {},
   "source": [
    "<b>Вывод:</b>"
   ]
  },
  {
   "cell_type": "markdown",
   "metadata": {},
   "source": [
    "Был посчитан дополнительный столбец, который отображает сумму общих продаж."
   ]
  },
  {
   "cell_type": "markdown",
   "metadata": {},
   "source": [
    "## Исследовательский анализ"
   ]
  },
  {
   "cell_type": "markdown",
   "metadata": {},
   "source": [
    "### По годам"
   ]
  },
  {
   "cell_type": "code",
   "execution_count": 16,
   "metadata": {
    "scrolled": true
   },
   "outputs": [
    {
     "data": {
      "text/plain": [
       "year_of_release\n",
       "1980      9\n",
       "1981     46\n",
       "1982     36\n",
       "1983     17\n",
       "1984     14\n",
       "       ... \n",
       "2012    653\n",
       "2013    544\n",
       "2014    581\n",
       "2015    606\n",
       "2016    502\n",
       "Name: year_of_release, Length: 37, dtype: int64"
      ]
     },
     "execution_count": 16,
     "metadata": {},
     "output_type": "execute_result"
    }
   ],
   "source": [
    "df.groupby('year_of_release')['year_of_release'].count()"
   ]
  },
  {
   "cell_type": "markdown",
   "metadata": {},
   "source": [
    "<b>Вывод:</b>"
   ]
  },
  {
   "cell_type": "markdown",
   "metadata": {},
   "source": [
    "Посчитано количество игр за каждый год с 1980 по 2016 включительно."
   ]
  },
  {
   "cell_type": "markdown",
   "metadata": {},
   "source": [
    "### По платформам"
   ]
  },
  {
   "cell_type": "code",
   "execution_count": 17,
   "metadata": {
    "scrolled": true
   },
   "outputs": [
    {
     "data": {
      "text/html": [
       "<div>\n",
       "<style scoped>\n",
       "    .dataframe tbody tr th:only-of-type {\n",
       "        vertical-align: middle;\n",
       "    }\n",
       "\n",
       "    .dataframe tbody tr th {\n",
       "        vertical-align: top;\n",
       "    }\n",
       "\n",
       "    .dataframe thead th {\n",
       "        text-align: right;\n",
       "    }\n",
       "</style>\n",
       "<table border=\"1\" class=\"dataframe\">\n",
       "  <thead>\n",
       "    <tr style=\"text-align: right;\">\n",
       "      <th></th>\n",
       "      <th>all_sales</th>\n",
       "    </tr>\n",
       "    <tr>\n",
       "      <th>platform</th>\n",
       "      <th></th>\n",
       "    </tr>\n",
       "  </thead>\n",
       "  <tbody>\n",
       "    <tr>\n",
       "      <td>PS2</td>\n",
       "      <td>1043.09</td>\n",
       "    </tr>\n",
       "    <tr>\n",
       "      <td>X360</td>\n",
       "      <td>876.36</td>\n",
       "    </tr>\n",
       "    <tr>\n",
       "      <td>Wii</td>\n",
       "      <td>813.47</td>\n",
       "    </tr>\n",
       "    <tr>\n",
       "      <td>PS3</td>\n",
       "      <td>796.75</td>\n",
       "    </tr>\n",
       "    <tr>\n",
       "      <td>DS</td>\n",
       "      <td>743.74</td>\n",
       "    </tr>\n",
       "  </tbody>\n",
       "</table>\n",
       "</div>"
      ],
      "text/plain": [
       "          all_sales\n",
       "platform           \n",
       "PS2         1043.09\n",
       "X360         876.36\n",
       "Wii          813.47\n",
       "PS3          796.75\n",
       "DS           743.74"
      ]
     },
     "execution_count": 17,
     "metadata": {},
     "output_type": "execute_result"
    }
   ],
   "source": [
    "top_5_platform = (pd.pivot_table(df,\n",
    "           index='platform',\n",
    "           values='all_sales',\n",
    "           aggfunc='sum')\n",
    "           .sort_values(by='all_sales', ascending=False)\n",
    "            .head())\n",
    "top_5_platform_list = top_5_platform.index\n",
    "top_5_platform"
   ]
  },
  {
   "cell_type": "markdown",
   "metadata": {},
   "source": [
    "Топ 5 платформ по суммарным продажам."
   ]
  },
  {
   "cell_type": "code",
   "execution_count": 18,
   "metadata": {
    "scrolled": false
   },
   "outputs": [
    {
     "data": {
      "image/png": "[encoded data removed]",
      "text/plain": [
       "<Figure size 720x360 with 1 Axes>"
      ]
     },
     "metadata": {
      "needs_background": "light"
     },
     "output_type": "display_data"
    }
   ],
   "source": [
    "for platform in top_5_platform_list:\n",
    "    (df[df['platform'] == platform]\n",
    "    .groupby('year_of_release')['all_sales'].sum()\n",
    "    .plot(grid=True, figsize=(10, 5))\n",
    "    )\n",
    "\n",
    "plt.title('Зависимость продаж для топ 5 платформ')\n",
    "plt.xlabel('Год выпуска игры')\n",
    "plt.ylabel('Продажи (млн.)')\n",
    "plt.legend(top_5_platform_list)\n",
    "plt.show()"
   ]
  },
  {
   "cell_type": "markdown",
   "metadata": {},
   "source": [
    "<b>Вывод:</b>"
   ]
  },
  {
   "cell_type": "markdown",
   "metadata": {},
   "source": [
    "По графику можно понять, что срок жизни платформы варируется около 10 лет."
   ]
  },
  {
   "cell_type": "markdown",
   "metadata": {},
   "source": [
    "### Данные за актуальный период"
   ]
  },
  {
   "cell_type": "code",
   "execution_count": 19,
   "metadata": {},
   "outputs": [],
   "source": [
    "actual_df = df.query('year_of_release >= 2013')"
   ]
  },
  {
   "cell_type": "code",
   "execution_count": 20,
   "metadata": {
    "scrolled": true
   },
   "outputs": [
    {
     "data": {
      "text/html": [
       "<div>\n",
       "<style scoped>\n",
       "    .dataframe tbody tr th:only-of-type {\n",
       "        vertical-align: middle;\n",
       "    }\n",
       "\n",
       "    .dataframe tbody tr th {\n",
       "        vertical-align: top;\n",
       "    }\n",
       "\n",
       "    .dataframe thead th {\n",
       "        text-align: right;\n",
       "    }\n",
       "</style>\n",
       "<table border=\"1\" class=\"dataframe\">\n",
       "  <thead>\n",
       "    <tr style=\"text-align: right;\">\n",
       "      <th></th>\n",
       "      <th>all_sales</th>\n",
       "      <th>critic_score</th>\n",
       "      <th>eu_sales</th>\n",
       "      <th>jp_sales</th>\n",
       "      <th>na_sales</th>\n",
       "      <th>other_sales</th>\n",
       "      <th>user_score</th>\n",
       "      <th>year_of_release</th>\n",
       "    </tr>\n",
       "    <tr>\n",
       "      <th>platform</th>\n",
       "      <th></th>\n",
       "      <th></th>\n",
       "      <th></th>\n",
       "      <th></th>\n",
       "      <th></th>\n",
       "      <th></th>\n",
       "      <th></th>\n",
       "      <th></th>\n",
       "    </tr>\n",
       "  </thead>\n",
       "  <tbody>\n",
       "    <tr>\n",
       "      <td>3DS</td>\n",
       "      <td>0.452046</td>\n",
       "      <td>68.338028</td>\n",
       "      <td>0.102178</td>\n",
       "      <td>0.223795</td>\n",
       "      <td>0.126073</td>\n",
       "      <td>0.020726</td>\n",
       "      <td>6.976250</td>\n",
       "      <td>2014.287129</td>\n",
       "    </tr>\n",
       "    <tr>\n",
       "      <td>DS</td>\n",
       "      <td>0.177500</td>\n",
       "      <td>NaN</td>\n",
       "      <td>0.106250</td>\n",
       "      <td>0.000000</td>\n",
       "      <td>0.071250</td>\n",
       "      <td>0.015000</td>\n",
       "      <td>4.800000</td>\n",
       "      <td>2013.000000</td>\n",
       "    </tr>\n",
       "    <tr>\n",
       "      <td>PC</td>\n",
       "      <td>0.192963</td>\n",
       "      <td>75.550336</td>\n",
       "      <td>0.134180</td>\n",
       "      <td>0.000000</td>\n",
       "      <td>0.058783</td>\n",
       "      <td>0.015661</td>\n",
       "      <td>6.269677</td>\n",
       "      <td>2014.634921</td>\n",
       "    </tr>\n",
       "    <tr>\n",
       "      <td>PS3</td>\n",
       "      <td>0.448290</td>\n",
       "      <td>70.198347</td>\n",
       "      <td>0.196551</td>\n",
       "      <td>0.067681</td>\n",
       "      <td>0.184058</td>\n",
       "      <td>0.077594</td>\n",
       "      <td>6.348387</td>\n",
       "      <td>2014.066667</td>\n",
       "    </tr>\n",
       "    <tr>\n",
       "      <td>PS4</td>\n",
       "      <td>0.678036</td>\n",
       "      <td>72.091270</td>\n",
       "      <td>0.359923</td>\n",
       "      <td>0.040714</td>\n",
       "      <td>0.277398</td>\n",
       "      <td>0.123342</td>\n",
       "      <td>6.748249</td>\n",
       "      <td>2015.145408</td>\n",
       "    </tr>\n",
       "    <tr>\n",
       "      <td>PSP</td>\n",
       "      <td>0.051642</td>\n",
       "      <td>74.000000</td>\n",
       "      <td>0.002537</td>\n",
       "      <td>0.049104</td>\n",
       "      <td>0.000000</td>\n",
       "      <td>0.000597</td>\n",
       "      <td>5.850000</td>\n",
       "      <td>2013.238806</td>\n",
       "    </tr>\n",
       "    <tr>\n",
       "      <td>PSV</td>\n",
       "      <td>0.083045</td>\n",
       "      <td>71.636364</td>\n",
       "      <td>0.017039</td>\n",
       "      <td>0.051927</td>\n",
       "      <td>0.014078</td>\n",
       "      <td>0.009106</td>\n",
       "      <td>7.527273</td>\n",
       "      <td>2014.606145</td>\n",
       "    </tr>\n",
       "    <tr>\n",
       "      <td>Wii</td>\n",
       "      <td>0.545217</td>\n",
       "      <td>NaN</td>\n",
       "      <td>0.257826</td>\n",
       "      <td>0.002174</td>\n",
       "      <td>0.285217</td>\n",
       "      <td>0.048696</td>\n",
       "      <td>5.257143</td>\n",
       "      <td>2013.739130</td>\n",
       "    </tr>\n",
       "    <tr>\n",
       "      <td>WiiU</td>\n",
       "      <td>0.521217</td>\n",
       "      <td>71.642857</td>\n",
       "      <td>0.172609</td>\n",
       "      <td>0.094609</td>\n",
       "      <td>0.254000</td>\n",
       "      <td>0.040783</td>\n",
       "      <td>7.017500</td>\n",
       "      <td>2014.121739</td>\n",
       "    </tr>\n",
       "    <tr>\n",
       "      <td>X360</td>\n",
       "      <td>0.670376</td>\n",
       "      <td>69.234568</td>\n",
       "      <td>0.228602</td>\n",
       "      <td>0.002742</td>\n",
       "      <td>0.439032</td>\n",
       "      <td>0.065108</td>\n",
       "      <td>5.993007</td>\n",
       "      <td>2013.924731</td>\n",
       "    </tr>\n",
       "    <tr>\n",
       "      <td>XOne</td>\n",
       "      <td>0.587247</td>\n",
       "      <td>73.325444</td>\n",
       "      <td>0.208866</td>\n",
       "      <td>0.001377</td>\n",
       "      <td>0.377004</td>\n",
       "      <td>0.057773</td>\n",
       "      <td>6.521429</td>\n",
       "      <td>2014.951417</td>\n",
       "    </tr>\n",
       "  </tbody>\n",
       "</table>\n",
       "</div>"
      ],
      "text/plain": [
       "          all_sales  critic_score  eu_sales  jp_sales  na_sales  other_sales  \\\n",
       "platform                                                                       \n",
       "3DS        0.452046     68.338028  0.102178  0.223795  0.126073     0.020726   \n",
       "DS         0.177500           NaN  0.106250  0.000000  0.071250     0.015000   \n",
       "PC         0.192963     75.550336  0.134180  0.000000  0.058783     0.015661   \n",
       "PS3        0.448290     70.198347  0.196551  0.067681  0.184058     0.077594   \n",
       "PS4        0.678036     72.091270  0.359923  0.040714  0.277398     0.123342   \n",
       "PSP        0.051642     74.000000  0.002537  0.049104  0.000000     0.000597   \n",
       "PSV        0.083045     71.636364  0.017039  0.051927  0.014078     0.009106   \n",
       "Wii        0.545217           NaN  0.257826  0.002174  0.285217     0.048696   \n",
       "WiiU       0.521217     71.642857  0.172609  0.094609  0.254000     0.040783   \n",
       "X360       0.670376     69.234568  0.228602  0.002742  0.439032     0.065108   \n",
       "XOne       0.587247     73.325444  0.208866  0.001377  0.377004     0.057773   \n",
       "\n",
       "          user_score  year_of_release  \n",
       "platform                               \n",
       "3DS         6.976250      2014.287129  \n",
       "DS          4.800000      2013.000000  \n",
       "PC          6.269677      2014.634921  \n",
       "PS3         6.348387      2014.066667  \n",
       "PS4         6.748249      2015.145408  \n",
       "PSP         5.850000      2013.238806  \n",
       "PSV         7.527273      2014.606145  \n",
       "Wii         5.257143      2013.739130  \n",
       "WiiU        7.017500      2014.121739  \n",
       "X360        5.993007      2013.924731  \n",
       "XOne        6.521429      2014.951417  "
      ]
     },
     "execution_count": 20,
     "metadata": {},
     "output_type": "execute_result"
    }
   ],
   "source": [
    "actual_df_list = actual_df.groupby('platform')['all_sales'].agg('sum').sort_values(ascending=False).index\n",
    "actual_df.pivot_table(index='platform')"
   ]
  },
  {
   "cell_type": "markdown",
   "metadata": {},
   "source": [
    "<b>Вывод:</b>"
   ]
  },
  {
   "cell_type": "markdown",
   "metadata": {},
   "source": [
    "Актуальные для расчетов данные было решено взять от 2013 года."
   ]
  },
  {
   "cell_type": "markdown",
   "metadata": {},
   "source": [
    "### Лидирующие платформы"
   ]
  },
  {
   "cell_type": "code",
   "execution_count": 21,
   "metadata": {},
   "outputs": [
    {
     "data": {
      "image/png": "[encoded data removed]",
      "text/plain": [
       "<Figure size 864x432 with 1 Axes>"
      ]
     },
     "metadata": {
      "needs_background": "light"
     },
     "output_type": "display_data"
    }
   ],
   "source": [
    "for platform in actual_df_list:\n",
    "    (actual_df[actual_df['platform'] == platform]\n",
    "     .groupby('year_of_release')['all_sales'].sum()\n",
    "     .plot(grid=True, figsize=(12, 6)))\n",
    "    \n",
    "plt.title('Зависимость')\n",
    "plt.xticks(range(2010, 2017))\n",
    "plt.xlabel('Год выпуска')\n",
    "plt.ylabel('Количество продаж (млн.)')\n",
    "plt.legend(actual_df_list)\n",
    "plt.show()"
   ]
  },
  {
   "cell_type": "code",
   "execution_count": 22,
   "metadata": {
    "scrolled": false
   },
   "outputs": [
    {
     "data": {
      "image/png": "[encoded data removed]",
      "text/plain": [
       "<Figure size 864x360 with 1 Axes>"
      ]
     },
     "metadata": {
      "needs_background": "light"
     },
     "output_type": "display_data"
    }
   ],
   "source": [
    "(\n",
    " actual_df.pivot_table(index='platform', values='all_sales', aggfunc='sum')\n",
    " .sort_values(by='all_sales', ascending=False)\n",
    " .plot(kind='bar', grid=True, figsize=(12, 5))\n",
    ")\n",
    "\n",
    "plt.title('Платформы по количеству продаж')\n",
    "plt.xlabel('Платформа')\n",
    "plt.ylabel('Количество продаж (млн.)')\n",
    "plt.show()"
   ]
  },
  {
   "cell_type": "markdown",
   "metadata": {},
   "source": [
    "<b>Вывод</b>"
   ]
  },
  {
   "cell_type": "markdown",
   "metadata": {},
   "source": [
    "Исходя из графиков было решено взять 3 платформы, которые предположительно будут существовать еще более 5 лет. Ими стали PS4, XBOX One и NINTENDO 3DS."
   ]
  },
  {
   "cell_type": "markdown",
   "metadata": {},
   "source": [
    "### График boxplot"
   ]
  },
  {
   "cell_type": "code",
   "execution_count": 23,
   "metadata": {},
   "outputs": [],
   "source": [
    "platform = ['PS4', 'XOne', '3DS']\n",
    "profitable_platform = actual_df.query('platform in @platform')"
   ]
  },
  {
   "cell_type": "code",
   "execution_count": 24,
   "metadata": {},
   "outputs": [
    {
     "name": "stderr",
     "output_type": "stream",
     "text": [
      "/opt/conda/lib/python3.7/site-packages/numpy/core/_asarray.py:83: VisibleDeprecationWarning: Creating an ndarray from ragged nested sequences (which is a list-or-tuple of lists-or-tuples-or ndarrays with different lengths or shapes) is deprecated. If you meant to do this, you must specify 'dtype=object' when creating the ndarray\n",
      "  return array(a, dtype, copy=False, order=order)\n"
     ]
    },
    {
     "data": {
      "text/plain": [
       "<matplotlib.axes._subplots.AxesSubplot at 0x7faeef812910>"
      ]
     },
     "execution_count": 24,
     "metadata": {},
     "output_type": "execute_result"
    },
    {
     "data": {
      "image/png": "[encoded data removed]",
      "text/plain": [
       "<Figure size 864x432 with 1 Axes>"
      ]
     },
     "metadata": {
      "needs_background": "light"
     },
     "output_type": "display_data"
    }
   ],
   "source": [
    "profitable_platform.boxplot('all_sales', by='platform', figsize=(12, 6))"
   ]
  },
  {
   "cell_type": "markdown",
   "metadata": {},
   "source": [
    "### Диаграмма рассеяния"
   ]
  },
  {
   "cell_type": "code",
   "execution_count": 25,
   "metadata": {},
   "outputs": [],
   "source": [
    "def diagramm(platform, score, color, ax):\n",
    "    pivot = profitable_platform.query('platform == @platform')\n",
    "    \n",
    "    plot = (pivot.plot(kind='scatter', x=score, y='all_sales', color=color, subplots=True, ax=axes[ax]))"
   ]
  },
  {
   "cell_type": "code",
   "execution_count": 26,
   "metadata": {
    "scrolled": false
   },
   "outputs": [
    {
     "data": {
      "image/png": "[encoded data removed]",
      "text/plain": [
       "<Figure size 1080x576 with 2 Axes>"
      ]
     },
     "metadata": {
      "needs_background": "light"
     },
     "output_type": "display_data"
    }
   ],
   "source": [
    "fig, axes = plt.subplots(1, 2, figsize=(15, 8))\n",
    "\n",
    "diagramm('PS4', 'user_score', 'blue', 0)\n",
    "diagramm('PS4', 'critic_score', 'blue', 1)"
   ]
  },
  {
   "cell_type": "code",
   "execution_count": 27,
   "metadata": {
    "scrolled": false
   },
   "outputs": [
    {
     "data": {
      "image/png": "[encoded data removed]",
      "text/plain": [
       "<Figure size 1080x576 with 2 Axes>"
      ]
     },
     "metadata": {
      "needs_background": "light"
     },
     "output_type": "display_data"
    }
   ],
   "source": [
    "fig, axes = plt.subplots(1, 2, figsize=(15, 8))\n",
    "\n",
    "diagramm('XOne', 'user_score', 'green', 0)\n",
    "diagramm('XOne', 'critic_score', 'green', 1)"
   ]
  },
  {
   "cell_type": "code",
   "execution_count": 28,
   "metadata": {},
   "outputs": [
    {
     "data": {
      "image/png": "[encoded data removed]",
      "text/plain": [
       "<Figure size 1080x576 with 2 Axes>"
      ]
     },
     "metadata": {
      "needs_background": "light"
     },
     "output_type": "display_data"
    }
   ],
   "source": [
    "fig, axes = plt.subplots(1, 2, figsize=(15, 8))\n",
    "\n",
    "diagramm('3DS', 'user_score', 'red', 0)\n",
    "diagramm('3DS', 'critic_score', 'red', 1)"
   ]
  },
  {
   "cell_type": "code",
   "execution_count": 29,
   "metadata": {},
   "outputs": [
    {
     "data": {
      "text/plain": [
       "-0.011599045506063903"
      ]
     },
     "execution_count": 29,
     "metadata": {},
     "output_type": "execute_result"
    }
   ],
   "source": [
    "profitable_platform['all_sales'].corr(profitable_platform['user_score'])"
   ]
  },
  {
   "cell_type": "code",
   "execution_count": 30,
   "metadata": {},
   "outputs": [
    {
     "data": {
      "text/plain": [
       "0.39557148411254645"
      ]
     },
     "execution_count": 30,
     "metadata": {},
     "output_type": "execute_result"
    }
   ],
   "source": [
    "profitable_platform['all_sales'].corr(profitable_platform['critic_score'])"
   ]
  },
  {
   "cell_type": "markdown",
   "metadata": {},
   "source": [
    "<b>Вывод</b>"
   ]
  },
  {
   "cell_type": "markdown",
   "metadata": {},
   "source": [
    "По графикам рассеяния можно сказать, что высокая оценка критиков больше влияет на продажи, чем высокая оценка пользователей. Но очень слабо прослеживается такая зависимость у NINTENDO 3DS. Там графики практически равны.<br><br>\n",
    "Так же по коэффиценту кореляции можно подтвердить, что оценка пользователей не влияет на продажи, а оценка критиков имеет слабый вес."
   ]
  },
  {
   "cell_type": "markdown",
   "metadata": {},
   "source": [
    "### Жанры"
   ]
  },
  {
   "cell_type": "code",
   "execution_count": 31,
   "metadata": {},
   "outputs": [
    {
     "data": {
      "image/png": "[encoded data removed]",
      "text/plain": [
       "<Figure size 432x288 with 1 Axes>"
      ]
     },
     "metadata": {
      "needs_background": "light"
     },
     "output_type": "display_data"
    }
   ],
   "source": [
    "(\n",
    "    profitable_platform.pivot_table(index='genre', values='all_sales', aggfunc='sum')\n",
    "    .sort_values(by='all_sales', ascending=False)\n",
    "    .plot(kind='bar', grid=True)\n",
    ")\n",
    "\n",
    "plt.title('Зависимость продаж от жанра')\n",
    "plt.xlabel('Платформа')\n",
    "plt.ylabel('Продажи (млн.)')\n",
    "plt.show()"
   ]
  },
  {
   "cell_type": "code",
   "execution_count": 32,
   "metadata": {},
   "outputs": [
    {
     "data": {
      "image/png": "[encoded data removed]",
      "text/plain": [
       "<Figure size 432x288 with 1 Axes>"
      ]
     },
     "metadata": {
      "needs_background": "light"
     },
     "output_type": "display_data"
    }
   ],
   "source": [
    "(\n",
    "    profitable_platform.pivot_table(index='genre', values='all_sales', aggfunc='median')\n",
    "    .sort_values(by='all_sales', ascending=False)\n",
    "    .plot(kind='bar', grid=True)\n",
    ")\n",
    "\n",
    "plt.title('Зависимость продаж от жанра')\n",
    "plt.xlabel('Платформа')\n",
    "plt.ylabel('Продажи (млн.)')\n",
    "plt.show()"
   ]
  },
  {
   "cell_type": "markdown",
   "metadata": {},
   "source": [
    "<b>Вывод:</b>"
   ]
  },
  {
   "cell_type": "markdown",
   "metadata": {},
   "source": [
    "Преобладающим жанром во всем мире являются шутеры. Самым же не популярным - приключения."
   ]
  },
  {
   "cell_type": "markdown",
   "metadata": {},
   "source": [
    "## Портрет пользователя каждого региона"
   ]
  },
  {
   "cell_type": "code",
   "execution_count": 33,
   "metadata": {},
   "outputs": [],
   "source": [
    "def top_5_per_region(groupby, region_sales, ax):\n",
    "    pivot = actual_df.groupby(groupby).agg({region_sales: 'sum'}).sort_values(by=region_sales, ascending=False).head()\n",
    "    colors = {'#003f5c', '#58508d', '#bc5090', '#ff6361', '#ffa600'}\n",
    "    plot = pivot.plot(kind='pie', colors=colors, wedgeprops={'edgecolor':\"k\"}, autopct='%.1f%%', subplots=True, ax=axes[ax])"
   ]
  },
  {
   "cell_type": "code",
   "execution_count": 34,
   "metadata": {},
   "outputs": [
    {
     "data": {
      "image/png": "[encoded data removed]",
      "text/plain": [
       "<Figure size 1080x576 with 3 Axes>"
      ]
     },
     "metadata": {},
     "output_type": "display_data"
    }
   ],
   "source": [
    "fig, axes = plt.subplots(1, 3, figsize=(15, 8))\n",
    "\n",
    "top_5_per_region('platform', 'eu_sales', 0)\n",
    "top_5_per_region('platform', 'na_sales', 1)\n",
    "top_5_per_region('platform', 'jp_sales', 2)"
   ]
  },
  {
   "cell_type": "markdown",
   "metadata": {},
   "source": [
    "<b>Вывод:</b>"
   ]
  },
  {
   "cell_type": "markdown",
   "metadata": {},
   "source": [
    "В eu и na регионах преобладают одинаковые платформы лишь с разницей в популярности.В Японии же платформы отличаются и преобладают, зачастую, портативные платформы, такие как DS, 3DS, PSP."
   ]
  },
  {
   "cell_type": "code",
   "execution_count": 35,
   "metadata": {
    "scrolled": true
   },
   "outputs": [
    {
     "data": {
      "image/png": "[encoded data removed]",
      "text/plain": [
       "<Figure size 1080x576 with 3 Axes>"
      ]
     },
     "metadata": {},
     "output_type": "display_data"
    }
   ],
   "source": [
    "fig, axes = plt.subplots(1, 3, figsize=(15, 8))\n",
    "\n",
    "top_5_per_region('genre', 'eu_sales', 0)\n",
    "top_5_per_region('genre', 'na_sales', 1)\n",
    "top_5_per_region('genre', 'jp_sales', 2)"
   ]
  },
  {
   "cell_type": "markdown",
   "metadata": {},
   "source": [
    "<b>Вывод:</b>"
   ]
  },
  {
   "cell_type": "markdown",
   "metadata": {},
   "source": [
    "Как было выявлено выше, самый популярный жанр в мире это экшн. Но в Японии этот жанр стоит на 2 месте сильно отставая от лидера - ролевых игр. В регионах eu и na же жанры практически совпадают даже в процентном соотношении, кроме пятой позиции."
   ]
  },
  {
   "cell_type": "code",
   "execution_count": 36,
   "metadata": {},
   "outputs": [
    {
     "data": {
      "image/png": "[encoded data removed]",
      "text/plain": [
       "<Figure size 1080x576 with 3 Axes>"
      ]
     },
     "metadata": {},
     "output_type": "display_data"
    }
   ],
   "source": [
    "fig, axes = plt.subplots(1, 3, figsize=(15, 8))\n",
    "\n",
    "top_5_per_region('rating', 'eu_sales', 0)\n",
    "top_5_per_region('rating', 'na_sales', 1)\n",
    "top_5_per_region('rating', 'jp_sales', 2)"
   ]
  },
  {
   "cell_type": "markdown",
   "metadata": {},
   "source": [
    "<b>Вывод:</b>"
   ]
  },
  {
   "cell_type": "markdown",
   "metadata": {},
   "source": [
    "Самыми продаваемыми играми в регионах EU и NA являются игры с рейтингом М и составляют больше трети от всех продаж. В регионе JP самыми продаваемыми играми являются игры без рейтинга. Более половины всех продаж. Вторую треть в регионах eu и na забирают игры с рейтингом E и без рейтинга. Остальное уходит на E10+ и T. В регионе JP остальные рейтинги приблизительно равны.<br><br>"
   ]
  },
  {
   "cell_type": "markdown",
   "metadata": {},
   "source": [
    "## Проверка гипотез"
   ]
  },
  {
   "cell_type": "markdown",
   "metadata": {},
   "source": [
    "Т.к. мы уже имеем гипотезы,\n",
    "нам остается определить, к какой гипотезе они подходят. Нулевой или альтернативной.<br>\n",
    "Нулевая гипотеза формируется со знаком равно, альтернативная ему противоречит."
   ]
  },
  {
   "cell_type": "markdown",
   "metadata": {},
   "source": [
    "<b>Нулевая гипотеза:</b> Средние пользовательские рейтинги платформ Xbox One и PC одинаковые.<br>\n",
    "<b>Альтернативная гипотеза:</b> Средние пользовательские рейтинги платформ Xbox One и PC разные."
   ]
  },
  {
   "cell_type": "code",
   "execution_count": 37,
   "metadata": {},
   "outputs": [],
   "source": [
    "alpha = .05"
   ]
  },
  {
   "cell_type": "code",
   "execution_count": 38,
   "metadata": {},
   "outputs": [
    {
     "name": "stdout",
     "output_type": "stream",
     "text": [
      "p-значение:  0.14759594013430463\n",
      "Не получилось отвергнуть нулевую гипотезу\n"
     ]
    }
   ],
   "source": [
    "sample_xbox_one = actual_df.query('platform == \"XOne\"')['user_score']\n",
    "sample_xbox_one = sample_xbox_one.dropna()\n",
    "sample_pc = actual_df.query('platform == \"PC\"')['user_score']\n",
    "sample_pc = sample_pc.dropna()\n",
    " \n",
    "results = stats.ttest_ind(sample_xbox_one, sample_pc, equal_var=False)\n",
    "\n",
    "print('p-значение: ', results.pvalue)\n",
    "\n",
    "if results.pvalue < alpha:\n",
    "    print(\"Отвергаем нулевую гипотезу\")\n",
    "else:\n",
    "    print(\"Не получилось отвергнуть нулевую гипотезу\") "
   ]
  },
  {
   "cell_type": "markdown",
   "metadata": {},
   "source": [
    "<b>Вывод:</b>"
   ]
  },
  {
   "cell_type": "markdown",
   "metadata": {},
   "source": [
    "Результат превышает пороговое значение, значит оставляем нулевую гипотезу. Средние пользовательские рейтинги для XBOX One и PC одинаковые."
   ]
  },
  {
   "cell_type": "markdown",
   "metadata": {},
   "source": [
    "<b>Нулевая гипотеза:</b> Средние пользовательские рейтинги жанров Action (англ. «действие», экшен-игры) и Sports (англ. «спортивные соревнования») одинаковые.<br>\n",
    "<b>Альтернативная гипотеза:</b> Средние пользовательские рейтинги жанров Action (англ. «действие», экшен-игры) и Sports (англ. «спортивные соревнования») разные."
   ]
  },
  {
   "cell_type": "code",
   "execution_count": 39,
   "metadata": {},
   "outputs": [
    {
     "name": "stdout",
     "output_type": "stream",
     "text": [
      "p-значение:  1.4460039700704315e-20\n",
      "Отвергаем нулевую гипотезу\n"
     ]
    }
   ],
   "source": [
    "sample_xbox_one = actual_df.query('genre == \"Action\"')['user_score']\n",
    "sample_xbox_one = sample_xbox_one.dropna()\n",
    "sample_pc = actual_df.query('genre == \"Sports\"')['user_score']\n",
    "sample_pc = sample_pc.dropna()\n",
    " \n",
    "results = stats.ttest_ind(sample_xbox_one, sample_pc, equal_var=False)\n",
    "\n",
    "print('p-значение: ', results.pvalue)\n",
    "\n",
    "if results.pvalue < alpha:\n",
    "    print(\"Отвергаем нулевую гипотезу\")\n",
    "else:\n",
    "    print(\"Не получилось отвергнуть нулевую гипотезу\") "
   ]
  },
  {
   "cell_type": "markdown",
   "metadata": {},
   "source": [
    "<b>Вывод:</b>"
   ]
  },
  {
   "cell_type": "markdown",
   "metadata": {},
   "source": [
    "Результат не превышает пороговое значение, поэтому отметаем нулевую гипотезу и ориентируемся на альтернативную. Средние пользовательские рейтинги жанров Action и Sports различаются."
   ]
  },
  {
   "cell_type": "markdown",
   "metadata": {},
   "source": [
    "<div class=\"alert alert-warning\">\n",
    "<b>Комментарий ревьюера:</b> Неплохо бы вывести сами средние, чтобы выяснить в какую сторону различие\n",
    "</div>"
   ]
  },
  {
   "cell_type": "markdown",
   "metadata": {},
   "source": [
    "## Общий вывод"
   ]
  },
  {
   "cell_type": "markdown",
   "metadata": {},
   "source": [
    "<b>Данные:</b><br>\n",
    "В таблице были обработаны данные, а именно:\n",
    "- Названия столбцов были приведены к нижнему регистру\n",
    "- Изменен тип данных в стобцах 'year_of_release' и 'user_score'\n",
    "- Удалены некоторые данные в столбцах name(2 строки) и year_of_release(269 строк)\n",
    "- Добавлен столбец с суммарными продажами\n",
    "\n",
    "<b>Исследовательский анализ:</b><br>\n",
    "\n",
    "   Был проведен анализ данных по популярности платформ. Были выявлены лидирующие платформы и ими стали PS4, XBOX One и NINTENDO 3DS. Подобран актуальный период с 2007 по примерному сроку жизни платформы. Были построены графики отношения отзывов к продажам. Отзывы критиков имеют больший вес, нежели оценки пользователей. Так же выявлены самые популярные жанры.\n",
    "\n",
    "<b>Портрет пользователя по регионам:</b><br>\n",
    "\n",
    "   Был построен портрет пользователя каждого региона. Для EU и NA эти портреты схожи, за малыми исключениями, а в Японии он сильно отличается. В JP регионе преобладают портативные платформы, когда как в других регионах стационарные. Популярный жанр это ролевой, когда как во всем мире - экшен. Так же треть продаж занимают игры с рейтингом для подростков, когда в других регионах менее 20%.\n",
    "\n",
    "<b>Гипотезы:</b><br>\n",
    "По имеющимся данным составили гипотезы, получилось что:\n",
    "\n",
    "- Средние пользовательские рейтинги платформ Xbox One и PC одинаковые.\n",
    "- Средние пользовательские рейтинги жанров Action (англ. «действие», экшен-игры) и Sports (англ. «спортивные соревнования») разные.\n",
    "\n",
    "<b>Вывод:</b><br>\n",
    "\n",
    "По изученным данным были выявлены критерии успешной видеоигры на 2017 год в мире:\n",
    "- Лидирующие платформы PlayStation 4, XBox One, Nintendo 3DS\n",
    "- Топ 3 самых прибыльных жанров по миру: Экшен, шутер, ролевые игры\n",
    "\n",
    "Для региона EU:\n",
    "- PS3, Xbox 360\n",
    "- Action, Shooter\n",
    "- Рейтинг Е, М\n",
    "\n",
    "Для региона NA:\n",
    "- Xbox 360, Wii\n",
    "- Action, Shooter\n",
    "- Рейтинг Е, М\n",
    "\n",
    "Для региона JP:\n",
    "- DS, 3DS\n",
    "- Role-Playing, Action\n",
    "- Рейтинг Е, Т"
   ]
  }
 ],
 "metadata": {
  "ExecuteTimeLog": [
   {
    "duration": 362,
    "start_time": "2022-01-22T11:31:10.370Z"
   },
   {
    "duration": 661,
    "start_time": "2022-01-22T11:31:24.755Z"
   },
   {
    "duration": 3108,
    "start_time": "2022-01-22T11:31:25.418Z"
   },
   {
    "duration": 40,
    "start_time": "2022-01-22T11:31:49.852Z"
   },
   {
    "duration": 34,
    "start_time": "2022-01-22T11:31:54.466Z"
   },
   {
    "duration": 3,
    "start_time": "2022-01-22T11:36:12.918Z"
   },
   {
    "duration": 41,
    "start_time": "2022-01-22T11:36:13.914Z"
   },
   {
    "duration": 29,
    "start_time": "2022-01-22T11:36:14.458Z"
   },
   {
    "duration": 14,
    "start_time": "2022-01-22T11:37:42.924Z"
   },
   {
    "duration": 121,
    "start_time": "2022-01-22T12:06:47.939Z"
   },
   {
    "duration": 335,
    "start_time": "2022-01-22T12:06:53.009Z"
   },
   {
    "duration": 472,
    "start_time": "2022-01-22T12:08:28.897Z"
   },
   {
    "duration": 10,
    "start_time": "2022-01-22T12:08:38.860Z"
   },
   {
    "duration": 26,
    "start_time": "2022-01-22T12:08:44.859Z"
   },
   {
    "duration": 416,
    "start_time": "2022-01-22T12:11:43.083Z"
   },
   {
    "duration": 333,
    "start_time": "2022-01-22T12:11:48.279Z"
   },
   {
    "duration": 307,
    "start_time": "2022-01-22T12:11:59.555Z"
   },
   {
    "duration": 322,
    "start_time": "2022-01-22T12:12:44.548Z"
   },
   {
    "duration": 692,
    "start_time": "2022-01-22T12:13:29.342Z"
   },
   {
    "duration": 4,
    "start_time": "2022-01-22T12:13:30.036Z"
   },
   {
    "duration": 50,
    "start_time": "2022-01-22T12:13:30.043Z"
   },
   {
    "duration": 45,
    "start_time": "2022-01-22T12:13:30.095Z"
   },
   {
    "duration": 14,
    "start_time": "2022-01-22T12:13:30.142Z"
   },
   {
    "duration": 3,
    "start_time": "2022-01-22T12:13:30.158Z"
   },
   {
    "duration": 60,
    "start_time": "2022-01-22T12:13:30.163Z"
   },
   {
    "duration": 10,
    "start_time": "2022-01-22T12:16:28.318Z"
   },
   {
    "duration": 39,
    "start_time": "2022-01-22T12:16:31.336Z"
   },
   {
    "duration": 418,
    "start_time": "2022-01-22T12:16:43.416Z"
   },
   {
    "duration": 8,
    "start_time": "2022-01-22T12:16:51.528Z"
   },
   {
    "duration": 29,
    "start_time": "2022-01-22T12:16:52.822Z"
   },
   {
    "duration": 11,
    "start_time": "2022-01-22T12:17:13.050Z"
   },
   {
    "duration": 13,
    "start_time": "2022-01-22T12:17:18.856Z"
   },
   {
    "duration": 12,
    "start_time": "2022-01-22T12:18:09.496Z"
   },
   {
    "duration": 9,
    "start_time": "2022-01-22T12:18:53.316Z"
   },
   {
    "duration": 6,
    "start_time": "2022-01-22T12:19:23.508Z"
   },
   {
    "duration": 726,
    "start_time": "2022-01-22T12:19:31.681Z"
   },
   {
    "duration": 4,
    "start_time": "2022-01-22T12:19:32.409Z"
   },
   {
    "duration": 48,
    "start_time": "2022-01-22T12:19:32.415Z"
   },
   {
    "duration": 34,
    "start_time": "2022-01-22T12:19:32.465Z"
   },
   {
    "duration": 26,
    "start_time": "2022-01-22T12:19:32.502Z"
   },
   {
    "duration": 3,
    "start_time": "2022-01-22T12:19:32.530Z"
   },
   {
    "duration": 29,
    "start_time": "2022-01-22T12:19:32.536Z"
   },
   {
    "duration": 6,
    "start_time": "2022-01-22T12:19:32.568Z"
   },
   {
    "duration": 63,
    "start_time": "2022-01-22T12:19:32.577Z"
   },
   {
    "duration": 486,
    "start_time": "2022-01-22T12:23:00.100Z"
   },
   {
    "duration": 307,
    "start_time": "2022-01-22T12:23:09.981Z"
   },
   {
    "duration": 13,
    "start_time": "2022-01-22T12:23:28.900Z"
   },
   {
    "duration": 13,
    "start_time": "2022-01-22T12:24:06.268Z"
   },
   {
    "duration": 7,
    "start_time": "2022-01-22T12:24:18.260Z"
   },
   {
    "duration": 740,
    "start_time": "2022-01-22T12:24:29.759Z"
   },
   {
    "duration": 3,
    "start_time": "2022-01-22T12:24:30.501Z"
   },
   {
    "duration": 55,
    "start_time": "2022-01-22T12:24:30.507Z"
   },
   {
    "duration": 36,
    "start_time": "2022-01-22T12:24:30.564Z"
   },
   {
    "duration": 27,
    "start_time": "2022-01-22T12:24:30.603Z"
   },
   {
    "duration": 29,
    "start_time": "2022-01-22T12:24:30.632Z"
   },
   {
    "duration": 42,
    "start_time": "2022-01-22T12:24:30.663Z"
   },
   {
    "duration": 11,
    "start_time": "2022-01-22T12:24:30.708Z"
   },
   {
    "duration": 43,
    "start_time": "2022-01-22T12:24:30.721Z"
   },
   {
    "duration": 418,
    "start_time": "2022-01-22T12:24:52.858Z"
   },
   {
    "duration": 7,
    "start_time": "2022-01-22T12:25:20.594Z"
   },
   {
    "duration": 6,
    "start_time": "2022-01-22T12:27:01.929Z"
   },
   {
    "duration": 8,
    "start_time": "2022-01-22T12:27:07.644Z"
   },
   {
    "duration": 7,
    "start_time": "2022-01-22T12:27:56.134Z"
   },
   {
    "duration": 702,
    "start_time": "2022-01-22T12:28:02.774Z"
   },
   {
    "duration": 4,
    "start_time": "2022-01-22T12:28:03.479Z"
   },
   {
    "duration": 148,
    "start_time": "2022-01-22T12:28:03.485Z"
   },
   {
    "duration": 38,
    "start_time": "2022-01-22T12:28:03.636Z"
   },
   {
    "duration": 14,
    "start_time": "2022-01-22T12:28:03.676Z"
   },
   {
    "duration": 31,
    "start_time": "2022-01-22T12:28:03.692Z"
   },
   {
    "duration": 28,
    "start_time": "2022-01-22T12:28:03.726Z"
   },
   {
    "duration": 7,
    "start_time": "2022-01-22T12:28:03.757Z"
   },
   {
    "duration": 8,
    "start_time": "2022-01-22T12:28:03.766Z"
   },
   {
    "duration": 47,
    "start_time": "2022-01-22T12:28:03.776Z"
   },
   {
    "duration": 27,
    "start_time": "2022-01-22T12:28:03.825Z"
   },
   {
    "duration": 7,
    "start_time": "2022-01-22T12:28:20.714Z"
   },
   {
    "duration": 700,
    "start_time": "2022-01-22T12:33:53.539Z"
   },
   {
    "duration": 4,
    "start_time": "2022-01-22T12:33:54.241Z"
   },
   {
    "duration": 49,
    "start_time": "2022-01-22T12:33:54.248Z"
   },
   {
    "duration": 43,
    "start_time": "2022-01-22T12:33:54.300Z"
   },
   {
    "duration": 14,
    "start_time": "2022-01-22T12:33:54.345Z"
   },
   {
    "duration": 4,
    "start_time": "2022-01-22T12:33:54.361Z"
   },
   {
    "duration": 61,
    "start_time": "2022-01-22T12:33:54.368Z"
   },
   {
    "duration": 6,
    "start_time": "2022-01-22T12:33:54.432Z"
   },
   {
    "duration": 6,
    "start_time": "2022-01-22T12:33:54.440Z"
   },
   {
    "duration": 5,
    "start_time": "2022-01-22T12:33:54.448Z"
   },
   {
    "duration": 26,
    "start_time": "2022-01-22T12:33:54.456Z"
   },
   {
    "duration": 729,
    "start_time": "2022-01-22T12:35:19.721Z"
   },
   {
    "duration": 4,
    "start_time": "2022-01-22T12:35:20.453Z"
   },
   {
    "duration": 49,
    "start_time": "2022-01-22T12:35:20.459Z"
   },
   {
    "duration": 50,
    "start_time": "2022-01-22T12:35:20.511Z"
   },
   {
    "duration": 15,
    "start_time": "2022-01-22T12:35:20.563Z"
   },
   {
    "duration": 4,
    "start_time": "2022-01-22T12:35:20.581Z"
   },
   {
    "duration": 62,
    "start_time": "2022-01-22T12:35:20.587Z"
   },
   {
    "duration": 6,
    "start_time": "2022-01-22T12:35:20.653Z"
   },
   {
    "duration": 12,
    "start_time": "2022-01-22T12:35:20.661Z"
   },
   {
    "duration": 13,
    "start_time": "2022-01-22T12:35:20.675Z"
   },
   {
    "duration": 56,
    "start_time": "2022-01-22T12:35:20.690Z"
   },
   {
    "duration": 413,
    "start_time": "2022-01-22T12:35:30.337Z"
   },
   {
    "duration": 7,
    "start_time": "2022-01-22T12:35:41.452Z"
   },
   {
    "duration": 4,
    "start_time": "2022-01-22T12:35:58.712Z"
   },
   {
    "duration": 806,
    "start_time": "2022-01-22T12:36:05.457Z"
   },
   {
    "duration": 4,
    "start_time": "2022-01-22T12:36:06.266Z"
   },
   {
    "duration": 63,
    "start_time": "2022-01-22T12:36:06.273Z"
   },
   {
    "duration": 36,
    "start_time": "2022-01-22T12:36:06.339Z"
   },
   {
    "duration": 14,
    "start_time": "2022-01-22T12:36:06.377Z"
   },
   {
    "duration": 3,
    "start_time": "2022-01-22T12:36:06.393Z"
   },
   {
    "duration": 51,
    "start_time": "2022-01-22T12:36:06.398Z"
   },
   {
    "duration": 8,
    "start_time": "2022-01-22T12:36:06.453Z"
   },
   {
    "duration": 7,
    "start_time": "2022-01-22T12:36:06.463Z"
   },
   {
    "duration": 5,
    "start_time": "2022-01-22T12:36:06.472Z"
   },
   {
    "duration": 47,
    "start_time": "2022-01-22T12:36:06.479Z"
   },
   {
    "duration": 6,
    "start_time": "2022-01-22T12:36:24.972Z"
   },
   {
    "duration": 701,
    "start_time": "2022-01-22T12:36:31.876Z"
   },
   {
    "duration": 3,
    "start_time": "2022-01-22T12:36:32.580Z"
   },
   {
    "duration": 49,
    "start_time": "2022-01-22T12:36:32.586Z"
   },
   {
    "duration": 37,
    "start_time": "2022-01-22T12:36:32.638Z"
   },
   {
    "duration": 15,
    "start_time": "2022-01-22T12:36:32.678Z"
   },
   {
    "duration": 4,
    "start_time": "2022-01-22T12:36:32.725Z"
   },
   {
    "duration": 29,
    "start_time": "2022-01-22T12:36:32.731Z"
   },
   {
    "duration": 16,
    "start_time": "2022-01-22T12:36:32.762Z"
   },
   {
    "duration": 6,
    "start_time": "2022-01-22T12:36:32.780Z"
   },
   {
    "duration": 8,
    "start_time": "2022-01-22T12:36:32.788Z"
   },
   {
    "duration": 6,
    "start_time": "2022-01-22T12:36:32.824Z"
   },
   {
    "duration": 7,
    "start_time": "2022-01-22T12:37:05.573Z"
   },
   {
    "duration": 4,
    "start_time": "2022-01-22T12:39:29.058Z"
   },
   {
    "duration": 7,
    "start_time": "2022-01-22T12:39:30.206Z"
   },
   {
    "duration": 3598,
    "start_time": "2022-01-22T12:41:28.597Z"
   },
   {
    "duration": 7,
    "start_time": "2022-01-22T12:41:34.478Z"
   },
   {
    "duration": 6,
    "start_time": "2022-01-22T12:41:44.835Z"
   },
   {
    "duration": 5,
    "start_time": "2022-01-22T12:42:25.417Z"
   },
   {
    "duration": 693,
    "start_time": "2022-01-22T12:42:27.373Z"
   },
   {
    "duration": 751,
    "start_time": "2022-01-22T12:42:35.108Z"
   },
   {
    "duration": 3,
    "start_time": "2022-01-22T12:42:35.862Z"
   },
   {
    "duration": 43,
    "start_time": "2022-01-22T12:42:35.869Z"
   },
   {
    "duration": 37,
    "start_time": "2022-01-22T12:42:35.924Z"
   },
   {
    "duration": 15,
    "start_time": "2022-01-22T12:42:35.964Z"
   },
   {
    "duration": 5,
    "start_time": "2022-01-22T12:42:35.982Z"
   },
   {
    "duration": 29,
    "start_time": "2022-01-22T12:42:36.024Z"
   },
   {
    "duration": 6,
    "start_time": "2022-01-22T12:42:36.059Z"
   },
   {
    "duration": 8,
    "start_time": "2022-01-22T12:42:36.068Z"
   },
   {
    "duration": 47,
    "start_time": "2022-01-22T12:42:36.079Z"
   },
   {
    "duration": 814,
    "start_time": "2022-01-22T12:42:36.129Z"
   },
   {
    "duration": -683,
    "start_time": "2022-01-22T12:42:37.628Z"
   },
   {
    "duration": -717,
    "start_time": "2022-01-22T12:42:37.664Z"
   },
   {
    "duration": 732,
    "start_time": "2022-01-22T12:45:43.728Z"
   },
   {
    "duration": 3,
    "start_time": "2022-01-22T12:45:44.463Z"
   },
   {
    "duration": 55,
    "start_time": "2022-01-22T12:45:44.469Z"
   },
   {
    "duration": 39,
    "start_time": "2022-01-22T12:45:44.526Z"
   },
   {
    "duration": 13,
    "start_time": "2022-01-22T12:45:44.568Z"
   },
   {
    "duration": 39,
    "start_time": "2022-01-22T12:45:44.584Z"
   },
   {
    "duration": 30,
    "start_time": "2022-01-22T12:45:44.625Z"
   },
   {
    "duration": 6,
    "start_time": "2022-01-22T12:45:44.658Z"
   },
   {
    "duration": 6,
    "start_time": "2022-01-22T12:45:44.667Z"
   },
   {
    "duration": 6,
    "start_time": "2022-01-22T12:45:44.676Z"
   },
   {
    "duration": 9,
    "start_time": "2022-01-22T12:49:08.698Z"
   },
   {
    "duration": 6,
    "start_time": "2022-01-22T12:49:09.576Z"
   },
   {
    "duration": 7,
    "start_time": "2022-01-22T12:49:22.781Z"
   },
   {
    "duration": 5,
    "start_time": "2022-01-22T12:49:48.460Z"
   },
   {
    "duration": 5,
    "start_time": "2022-01-22T12:49:49.351Z"
   },
   {
    "duration": 758,
    "start_time": "2022-01-22T12:50:50.509Z"
   },
   {
    "duration": 4,
    "start_time": "2022-01-22T12:50:51.269Z"
   },
   {
    "duration": 47,
    "start_time": "2022-01-22T12:50:51.276Z"
   },
   {
    "duration": 37,
    "start_time": "2022-01-22T12:50:51.326Z"
   },
   {
    "duration": 15,
    "start_time": "2022-01-22T12:50:51.365Z"
   },
   {
    "duration": 4,
    "start_time": "2022-01-22T12:50:51.383Z"
   },
   {
    "duration": 61,
    "start_time": "2022-01-22T12:50:51.390Z"
   },
   {
    "duration": 8,
    "start_time": "2022-01-22T12:50:51.456Z"
   },
   {
    "duration": 12,
    "start_time": "2022-01-22T12:50:51.467Z"
   },
   {
    "duration": 8,
    "start_time": "2022-01-22T12:52:08.538Z"
   },
   {
    "duration": 12,
    "start_time": "2022-01-22T12:52:35.219Z"
   },
   {
    "duration": 14,
    "start_time": "2022-01-22T12:53:02.632Z"
   },
   {
    "duration": 387,
    "start_time": "2022-01-22T12:56:17.168Z"
   },
   {
    "duration": 334,
    "start_time": "2022-01-22T12:56:30.281Z"
   },
   {
    "duration": 25,
    "start_time": "2022-01-22T12:57:47.251Z"
   },
   {
    "duration": 18,
    "start_time": "2022-01-22T12:59:05.649Z"
   },
   {
    "duration": 31,
    "start_time": "2022-01-22T12:59:21.925Z"
   },
   {
    "duration": 13,
    "start_time": "2022-01-22T12:59:32.019Z"
   },
   {
    "duration": 13,
    "start_time": "2022-01-22T13:02:23.188Z"
   },
   {
    "duration": 12,
    "start_time": "2022-01-22T13:02:34.734Z"
   },
   {
    "duration": 832,
    "start_time": "2022-01-22T13:05:29.970Z"
   },
   {
    "duration": 318,
    "start_time": "2022-01-22T13:05:53.477Z"
   },
   {
    "duration": 303,
    "start_time": "2022-01-22T13:06:15.293Z"
   },
   {
    "duration": 23,
    "start_time": "2022-01-22T13:06:37.976Z"
   },
   {
    "duration": 8,
    "start_time": "2022-01-22T13:11:27.120Z"
   },
   {
    "duration": 298,
    "start_time": "2022-01-22T13:11:49.702Z"
   },
   {
    "duration": 20284,
    "start_time": "2022-01-22T13:20:00.970Z"
   },
   {
    "duration": 27,
    "start_time": "2022-01-22T13:20:32.995Z"
   },
   {
    "duration": 4999,
    "start_time": "2022-01-22T13:21:18.508Z"
   },
   {
    "duration": 27,
    "start_time": "2022-01-22T13:21:28.292Z"
   },
   {
    "duration": 802,
    "start_time": "2022-01-22T13:21:41.666Z"
   },
   {
    "duration": 3,
    "start_time": "2022-01-22T13:21:42.471Z"
   },
   {
    "duration": 47,
    "start_time": "2022-01-22T13:21:42.477Z"
   },
   {
    "duration": 40,
    "start_time": "2022-01-22T13:21:42.527Z"
   },
   {
    "duration": 13,
    "start_time": "2022-01-22T13:21:42.570Z"
   },
   {
    "duration": 4,
    "start_time": "2022-01-22T13:21:42.586Z"
   },
   {
    "duration": 53,
    "start_time": "2022-01-22T13:21:42.592Z"
   },
   {
    "duration": 12,
    "start_time": "2022-01-22T13:21:42.648Z"
   },
   {
    "duration": 14,
    "start_time": "2022-01-22T13:21:42.663Z"
   },
   {
    "duration": 5220,
    "start_time": "2022-01-22T13:21:42.680Z"
   },
   {
    "duration": 35,
    "start_time": "2022-01-22T13:21:47.903Z"
   },
   {
    "duration": 13,
    "start_time": "2022-01-22T13:21:47.940Z"
   },
   {
    "duration": 22,
    "start_time": "2022-01-22T13:21:47.956Z"
   },
   {
    "duration": 13,
    "start_time": "2022-01-22T13:21:47.980Z"
   },
   {
    "duration": 403,
    "start_time": "2022-01-22T13:21:47.995Z"
   },
   {
    "duration": 5,
    "start_time": "2022-01-22T13:22:25.013Z"
   },
   {
    "duration": 3364,
    "start_time": "2022-01-22T13:22:56.401Z"
   },
   {
    "duration": 28,
    "start_time": "2022-01-22T13:23:09.991Z"
   },
   {
    "duration": 753,
    "start_time": "2022-01-22T13:23:16.820Z"
   },
   {
    "duration": 4,
    "start_time": "2022-01-22T13:23:17.576Z"
   },
   {
    "duration": 55,
    "start_time": "2022-01-22T13:23:17.584Z"
   },
   {
    "duration": 38,
    "start_time": "2022-01-22T13:23:17.641Z"
   },
   {
    "duration": 14,
    "start_time": "2022-01-22T13:23:17.681Z"
   },
   {
    "duration": 4,
    "start_time": "2022-01-22T13:23:17.724Z"
   },
   {
    "duration": 27,
    "start_time": "2022-01-22T13:23:17.731Z"
   },
   {
    "duration": 6,
    "start_time": "2022-01-22T13:23:17.762Z"
   },
   {
    "duration": 13,
    "start_time": "2022-01-22T13:23:17.771Z"
   },
   {
    "duration": 3044,
    "start_time": "2022-01-22T13:23:17.787Z"
   },
   {
    "duration": 26,
    "start_time": "2022-01-22T13:23:20.834Z"
   },
   {
    "duration": 7,
    "start_time": "2022-01-22T13:23:20.863Z"
   },
   {
    "duration": 15,
    "start_time": "2022-01-22T13:23:20.872Z"
   },
   {
    "duration": 41,
    "start_time": "2022-01-22T13:23:20.889Z"
   },
   {
    "duration": 393,
    "start_time": "2022-01-22T13:23:20.933Z"
   },
   {
    "duration": 304,
    "start_time": "2022-01-22T13:37:12.591Z"
   },
   {
    "duration": 26,
    "start_time": "2022-01-22T13:37:14.144Z"
   },
   {
    "duration": 464,
    "start_time": "2022-01-22T13:37:38.220Z"
   },
   {
    "duration": 24,
    "start_time": "2022-01-22T13:37:39.569Z"
   },
   {
    "duration": 2758,
    "start_time": "2022-01-22T13:37:46.451Z"
   },
   {
    "duration": 420,
    "start_time": "2022-01-22T13:37:56.395Z"
   },
   {
    "duration": 25,
    "start_time": "2022-01-22T13:38:00.364Z"
   },
   {
    "duration": 25,
    "start_time": "2022-01-22T13:38:55.927Z"
   },
   {
    "duration": 445,
    "start_time": "2022-01-22T13:38:58.123Z"
   },
   {
    "duration": 25,
    "start_time": "2022-01-22T13:39:00.876Z"
   },
   {
    "duration": 615,
    "start_time": "2022-01-23T14:45:00.986Z"
   },
   {
    "duration": 3,
    "start_time": "2022-01-23T14:45:01.603Z"
   },
   {
    "duration": 45,
    "start_time": "2022-01-23T14:45:01.609Z"
   },
   {
    "duration": 29,
    "start_time": "2022-01-23T14:45:01.657Z"
   },
   {
    "duration": 13,
    "start_time": "2022-01-23T14:45:01.698Z"
   },
   {
    "duration": 5,
    "start_time": "2022-01-23T14:45:01.713Z"
   },
   {
    "duration": 31,
    "start_time": "2022-01-23T14:45:01.720Z"
   },
   {
    "duration": 4,
    "start_time": "2022-01-23T14:45:01.754Z"
   },
   {
    "duration": 34,
    "start_time": "2022-01-23T14:45:01.760Z"
   },
   {
    "duration": 301,
    "start_time": "2022-01-23T14:45:01.795Z"
   },
   {
    "duration": 20,
    "start_time": "2022-01-23T14:45:02.098Z"
   },
   {
    "duration": 8,
    "start_time": "2022-01-23T14:45:02.121Z"
   },
   {
    "duration": 15,
    "start_time": "2022-01-23T14:45:02.131Z"
   },
   {
    "duration": 12,
    "start_time": "2022-01-23T14:45:02.148Z"
   },
   {
    "duration": 336,
    "start_time": "2022-01-23T14:45:02.163Z"
   },
   {
    "duration": 19,
    "start_time": "2022-01-23T14:46:00.604Z"
   },
   {
    "duration": 277,
    "start_time": "2022-01-23T14:46:03.729Z"
   },
   {
    "duration": 17,
    "start_time": "2022-01-23T14:46:04.285Z"
   },
   {
    "duration": 177,
    "start_time": "2022-01-23T14:54:12.161Z"
   },
   {
    "duration": 19,
    "start_time": "2022-01-23T14:54:14.896Z"
   },
   {
    "duration": 11,
    "start_time": "2022-01-23T14:55:28.367Z"
   },
   {
    "duration": 20,
    "start_time": "2022-01-23T14:55:46.830Z"
   },
   {
    "duration": 3,
    "start_time": "2022-01-23T14:58:21.015Z"
   },
   {
    "duration": 18,
    "start_time": "2022-01-23T14:58:22.301Z"
   },
   {
    "duration": 10,
    "start_time": "2022-01-23T14:58:31.786Z"
   },
   {
    "duration": 2096,
    "start_time": "2022-01-23T15:05:42.787Z"
   },
   {
    "duration": 5,
    "start_time": "2022-01-23T15:12:38.106Z"
   },
   {
    "duration": 17,
    "start_time": "2022-01-23T15:12:39.684Z"
   },
   {
    "duration": 10,
    "start_time": "2022-01-23T15:12:45.380Z"
   },
   {
    "duration": 73,
    "start_time": "2022-01-23T15:13:39.350Z"
   },
   {
    "duration": 485,
    "start_time": "2022-01-23T15:14:26.018Z"
   },
   {
    "duration": 224,
    "start_time": "2022-01-23T15:14:55.047Z"
   },
   {
    "duration": 759,
    "start_time": "2022-01-23T15:16:45.011Z"
   },
   {
    "duration": 79,
    "start_time": "2022-01-23T15:16:57.311Z"
   },
   {
    "duration": 224,
    "start_time": "2022-01-23T15:17:36.735Z"
   },
   {
    "duration": 2647,
    "start_time": "2022-01-23T15:17:46.366Z"
   },
   {
    "duration": 5,
    "start_time": "2022-01-23T15:18:09.191Z"
   },
   {
    "duration": 9,
    "start_time": "2022-01-23T15:18:37.130Z"
   },
   {
    "duration": 21,
    "start_time": "2022-01-23T15:18:52.256Z"
   },
   {
    "duration": 226,
    "start_time": "2022-01-23T15:19:28.470Z"
   },
   {
    "duration": 228,
    "start_time": "2022-01-23T15:19:32.072Z"
   },
   {
    "duration": 225,
    "start_time": "2022-01-23T15:19:37.145Z"
   },
   {
    "duration": 212,
    "start_time": "2022-01-23T15:19:48.096Z"
   },
   {
    "duration": 25,
    "start_time": "2022-01-23T15:19:57.411Z"
   },
   {
    "duration": 10,
    "start_time": "2022-01-23T15:20:07.489Z"
   },
   {
    "duration": 10,
    "start_time": "2022-01-23T15:20:27.965Z"
   },
   {
    "duration": 9,
    "start_time": "2022-01-23T15:20:32.961Z"
   },
   {
    "duration": 9,
    "start_time": "2022-01-23T15:20:46.448Z"
   },
   {
    "duration": 21,
    "start_time": "2022-01-23T15:20:51.018Z"
   },
   {
    "duration": 11,
    "start_time": "2022-01-23T15:21:12.521Z"
   },
   {
    "duration": 9,
    "start_time": "2022-01-23T15:21:21.745Z"
   },
   {
    "duration": 219,
    "start_time": "2022-01-23T15:21:38.338Z"
   },
   {
    "duration": 9,
    "start_time": "2022-01-23T15:23:22.899Z"
   },
   {
    "duration": 21,
    "start_time": "2022-01-23T15:23:27.607Z"
   },
   {
    "duration": 7,
    "start_time": "2022-01-23T15:27:32.765Z"
   },
   {
    "duration": 13,
    "start_time": "2022-01-23T15:27:46.651Z"
   },
   {
    "duration": 169,
    "start_time": "2022-01-23T15:28:22.415Z"
   },
   {
    "duration": 12,
    "start_time": "2022-01-23T15:28:28.821Z"
   },
   {
    "duration": 559,
    "start_time": "2022-01-23T15:28:51.168Z"
   },
   {
    "duration": 3,
    "start_time": "2022-01-23T15:28:51.729Z"
   },
   {
    "duration": 42,
    "start_time": "2022-01-23T15:28:51.733Z"
   },
   {
    "duration": 25,
    "start_time": "2022-01-23T15:28:51.777Z"
   },
   {
    "duration": 12,
    "start_time": "2022-01-23T15:28:51.804Z"
   },
   {
    "duration": 3,
    "start_time": "2022-01-23T15:28:51.818Z"
   },
   {
    "duration": 19,
    "start_time": "2022-01-23T15:28:51.823Z"
   },
   {
    "duration": 4,
    "start_time": "2022-01-23T15:28:51.846Z"
   },
   {
    "duration": 47,
    "start_time": "2022-01-23T15:28:51.853Z"
   },
   {
    "duration": 178,
    "start_time": "2022-01-23T15:28:51.902Z"
   },
   {
    "duration": 7,
    "start_time": "2022-01-23T15:28:52.081Z"
   },
   {
    "duration": 9,
    "start_time": "2022-01-23T15:28:52.097Z"
   },
   {
    "duration": 9,
    "start_time": "2022-01-23T15:28:52.107Z"
   },
   {
    "duration": 7,
    "start_time": "2022-01-23T15:28:52.117Z"
   },
   {
    "duration": 8,
    "start_time": "2022-01-23T15:30:53.656Z"
   },
   {
    "duration": 9,
    "start_time": "2022-01-23T15:31:02.456Z"
   },
   {
    "duration": 8,
    "start_time": "2022-01-23T15:38:32.702Z"
   },
   {
    "duration": 7,
    "start_time": "2022-01-23T15:39:13.008Z"
   },
   {
    "duration": 10,
    "start_time": "2022-01-23T15:39:14.554Z"
   },
   {
    "duration": 320,
    "start_time": "2022-01-23T15:39:22.143Z"
   },
   {
    "duration": 8,
    "start_time": "2022-01-23T15:40:25.289Z"
   },
   {
    "duration": 563,
    "start_time": "2022-01-23T15:40:44.629Z"
   },
   {
    "duration": 2,
    "start_time": "2022-01-23T15:40:45.194Z"
   },
   {
    "duration": 42,
    "start_time": "2022-01-23T15:40:45.198Z"
   },
   {
    "duration": 26,
    "start_time": "2022-01-23T15:40:45.242Z"
   },
   {
    "duration": 12,
    "start_time": "2022-01-23T15:40:45.269Z"
   },
   {
    "duration": 2,
    "start_time": "2022-01-23T15:40:45.283Z"
   },
   {
    "duration": 18,
    "start_time": "2022-01-23T15:40:45.299Z"
   },
   {
    "duration": 5,
    "start_time": "2022-01-23T15:40:45.320Z"
   },
   {
    "duration": 10,
    "start_time": "2022-01-23T15:40:45.327Z"
   },
   {
    "duration": 200,
    "start_time": "2022-01-23T15:40:45.339Z"
   },
   {
    "duration": 5,
    "start_time": "2022-01-23T15:40:45.540Z"
   },
   {
    "duration": 13,
    "start_time": "2022-01-23T15:40:45.547Z"
   },
   {
    "duration": 9,
    "start_time": "2022-01-23T15:40:45.561Z"
   },
   {
    "duration": 25,
    "start_time": "2022-01-23T15:40:45.572Z"
   },
   {
    "duration": 2,
    "start_time": "2022-01-23T15:40:45.599Z"
   },
   {
    "duration": 359,
    "start_time": "2022-01-23T15:40:45.603Z"
   },
   {
    "duration": -3529,
    "start_time": "2022-01-23T15:40:49.493Z"
   },
   {
    "duration": 10,
    "start_time": "2022-01-23T15:53:14.813Z"
   },
   {
    "duration": 367,
    "start_time": "2022-01-23T15:53:20.808Z"
   },
   {
    "duration": 382,
    "start_time": "2022-01-23T15:54:07.214Z"
   },
   {
    "duration": 220,
    "start_time": "2022-01-23T16:02:36.842Z"
   },
   {
    "duration": 219,
    "start_time": "2022-01-23T16:02:50.417Z"
   },
   {
    "duration": 2326,
    "start_time": "2022-01-23T16:10:24.966Z"
   },
   {
    "duration": 4,
    "start_time": "2022-01-23T16:11:16.545Z"
   },
   {
    "duration": 9,
    "start_time": "2022-01-23T16:11:18.659Z"
   },
   {
    "duration": 4,
    "start_time": "2022-01-23T16:11:51.375Z"
   },
   {
    "duration": 9,
    "start_time": "2022-01-23T16:11:52.120Z"
   },
   {
    "duration": 7,
    "start_time": "2022-01-23T16:14:08.548Z"
   },
   {
    "duration": 23,
    "start_time": "2022-01-23T16:14:10.304Z"
   },
   {
    "duration": 9,
    "start_time": "2022-01-23T16:17:12.688Z"
   },
   {
    "duration": 8,
    "start_time": "2022-01-23T16:19:34.927Z"
   },
   {
    "duration": 262,
    "start_time": "2022-01-23T16:20:00.473Z"
   },
   {
    "duration": 8,
    "start_time": "2022-01-23T16:20:07.494Z"
   },
   {
    "duration": 213,
    "start_time": "2022-01-23T16:22:53.698Z"
   },
   {
    "duration": 241,
    "start_time": "2022-01-23T16:23:09.136Z"
   },
   {
    "duration": 224,
    "start_time": "2022-01-23T16:23:12.224Z"
   },
   {
    "duration": 16,
    "start_time": "2022-01-23T16:23:18.557Z"
   },
   {
    "duration": 15,
    "start_time": "2022-01-23T16:23:35.362Z"
   },
   {
    "duration": 16,
    "start_time": "2022-01-23T16:23:46.621Z"
   },
   {
    "duration": 14,
    "start_time": "2022-01-23T16:27:37.598Z"
   },
   {
    "duration": 16,
    "start_time": "2022-01-23T16:27:52.271Z"
   },
   {
    "duration": 16,
    "start_time": "2022-01-23T16:27:59.051Z"
   },
   {
    "duration": 15,
    "start_time": "2022-01-23T16:28:11.925Z"
   },
   {
    "duration": 12,
    "start_time": "2022-01-23T16:28:39.446Z"
   },
   {
    "duration": 14,
    "start_time": "2022-01-23T16:28:46.362Z"
   },
   {
    "duration": 10,
    "start_time": "2022-01-23T16:29:16.643Z"
   },
   {
    "duration": 7,
    "start_time": "2022-01-23T16:29:21.272Z"
   },
   {
    "duration": 241,
    "start_time": "2022-01-23T16:29:50.810Z"
   },
   {
    "duration": 10,
    "start_time": "2022-01-23T16:30:34.165Z"
   },
   {
    "duration": 4,
    "start_time": "2022-01-23T16:30:35.437Z"
   },
   {
    "duration": 15,
    "start_time": "2022-01-23T16:30:41.527Z"
   },
   {
    "duration": 650,
    "start_time": "2022-01-23T16:34:29.481Z"
   },
   {
    "duration": 1904,
    "start_time": "2022-01-23T16:35:12.973Z"
   },
   {
    "duration": 2,
    "start_time": "2022-01-23T16:35:14.879Z"
   },
   {
    "duration": 41,
    "start_time": "2022-01-23T16:35:14.883Z"
   },
   {
    "duration": 21,
    "start_time": "2022-01-23T16:35:14.925Z"
   },
   {
    "duration": 10,
    "start_time": "2022-01-23T16:35:14.947Z"
   },
   {
    "duration": 3,
    "start_time": "2022-01-23T16:35:14.958Z"
   },
   {
    "duration": 42,
    "start_time": "2022-01-23T16:35:14.963Z"
   },
   {
    "duration": 7,
    "start_time": "2022-01-23T16:35:15.009Z"
   },
   {
    "duration": 19,
    "start_time": "2022-01-23T16:35:15.019Z"
   },
   {
    "duration": 191,
    "start_time": "2022-01-23T16:35:15.040Z"
   },
   {
    "duration": 5,
    "start_time": "2022-01-23T16:35:15.233Z"
   },
   {
    "duration": 10,
    "start_time": "2022-01-23T16:35:15.240Z"
   },
   {
    "duration": 4,
    "start_time": "2022-01-23T16:35:15.251Z"
   },
   {
    "duration": 4,
    "start_time": "2022-01-23T16:35:15.257Z"
   },
   {
    "duration": 5,
    "start_time": "2022-01-23T16:35:15.263Z"
   },
   {
    "duration": 34,
    "start_time": "2022-01-23T16:35:15.270Z"
   },
   {
    "duration": 13,
    "start_time": "2022-01-23T16:35:15.305Z"
   },
   {
    "duration": 304,
    "start_time": "2022-01-23T16:35:15.319Z"
   },
   {
    "duration": 306,
    "start_time": "2022-01-23T16:39:06.078Z"
   },
   {
    "duration": 310,
    "start_time": "2022-01-23T16:41:07.820Z"
   },
   {
    "duration": 21,
    "start_time": "2022-01-23T17:36:33.369Z"
   },
   {
    "duration": 7,
    "start_time": "2022-01-23T17:38:42.461Z"
   },
   {
    "duration": 6,
    "start_time": "2022-01-23T17:39:01.949Z"
   },
   {
    "duration": 11,
    "start_time": "2022-01-23T17:39:18.039Z"
   },
   {
    "duration": 330,
    "start_time": "2022-01-23T17:58:26.571Z"
   },
   {
    "duration": 14,
    "start_time": "2022-01-23T17:58:44.109Z"
   },
   {
    "duration": 14,
    "start_time": "2022-01-23T17:58:55.166Z"
   },
   {
    "duration": 79,
    "start_time": "2022-01-23T18:02:49.220Z"
   },
   {
    "duration": 297,
    "start_time": "2022-01-23T18:03:44.811Z"
   },
   {
    "duration": 267,
    "start_time": "2022-01-23T18:05:04.214Z"
   },
   {
    "duration": 5,
    "start_time": "2022-01-23T18:05:30.958Z"
   },
   {
    "duration": 227,
    "start_time": "2022-01-23T18:05:38.172Z"
   },
   {
    "duration": 219,
    "start_time": "2022-01-23T18:06:43.350Z"
   },
   {
    "duration": 7,
    "start_time": "2022-01-23T18:07:11.248Z"
   },
   {
    "duration": 6,
    "start_time": "2022-01-23T18:07:31.652Z"
   },
   {
    "duration": 5,
    "start_time": "2022-01-23T18:07:56.031Z"
   },
   {
    "duration": 7,
    "start_time": "2022-01-23T18:08:00.058Z"
   },
   {
    "duration": 445,
    "start_time": "2022-01-23T18:08:05.118Z"
   },
   {
    "duration": 451,
    "start_time": "2022-01-23T18:08:52.024Z"
   },
   {
    "duration": 440,
    "start_time": "2022-01-23T18:12:40.209Z"
   },
   {
    "duration": 547,
    "start_time": "2022-01-23T18:16:07.317Z"
   },
   {
    "duration": 495,
    "start_time": "2022-01-23T18:16:24.036Z"
   },
   {
    "duration": 227,
    "start_time": "2022-01-23T18:19:43.259Z"
   },
   {
    "duration": 222,
    "start_time": "2022-01-23T18:20:29.310Z"
   },
   {
    "duration": 182,
    "start_time": "2022-01-23T18:21:00.049Z"
   },
   {
    "duration": 200,
    "start_time": "2022-01-23T18:21:22.593Z"
   },
   {
    "duration": 199,
    "start_time": "2022-01-23T18:23:34.292Z"
   },
   {
    "duration": 221,
    "start_time": "2022-01-23T18:24:08.840Z"
   },
   {
    "duration": 183,
    "start_time": "2022-01-23T18:24:24.501Z"
   },
   {
    "duration": 629,
    "start_time": "2022-01-23T18:26:40.870Z"
   },
   {
    "duration": 4,
    "start_time": "2022-01-23T18:26:41.505Z"
   },
   {
    "duration": 43,
    "start_time": "2022-01-23T18:26:41.514Z"
   },
   {
    "duration": 21,
    "start_time": "2022-01-23T18:26:41.559Z"
   },
   {
    "duration": 10,
    "start_time": "2022-01-23T18:26:41.582Z"
   },
   {
    "duration": 4,
    "start_time": "2022-01-23T18:26:41.598Z"
   },
   {
    "duration": 40,
    "start_time": "2022-01-23T18:26:41.604Z"
   },
   {
    "duration": 4,
    "start_time": "2022-01-23T18:26:41.647Z"
   },
   {
    "duration": 10,
    "start_time": "2022-01-23T18:26:41.653Z"
   },
   {
    "duration": 187,
    "start_time": "2022-01-23T18:26:41.664Z"
   },
   {
    "duration": 5,
    "start_time": "2022-01-23T18:26:41.853Z"
   },
   {
    "duration": 12,
    "start_time": "2022-01-23T18:26:41.859Z"
   },
   {
    "duration": 4,
    "start_time": "2022-01-23T18:26:41.872Z"
   },
   {
    "duration": 20,
    "start_time": "2022-01-23T18:26:41.878Z"
   },
   {
    "duration": 7,
    "start_time": "2022-01-23T18:26:41.909Z"
   },
   {
    "duration": 9,
    "start_time": "2022-01-23T18:26:41.918Z"
   },
   {
    "duration": 15,
    "start_time": "2022-01-23T18:26:41.928Z"
   },
   {
    "duration": 349,
    "start_time": "2022-01-23T18:26:41.944Z"
   },
   {
    "duration": 13,
    "start_time": "2022-01-23T18:26:42.295Z"
   },
   {
    "duration": 14,
    "start_time": "2022-01-23T18:26:42.311Z"
   },
   {
    "duration": 434,
    "start_time": "2022-01-23T18:26:42.327Z"
   },
   {
    "duration": 210,
    "start_time": "2022-01-23T18:26:42.762Z"
   },
   {
    "duration": 301,
    "start_time": "2022-01-24T14:31:05.680Z"
   },
   {
    "duration": 811,
    "start_time": "2022-01-24T14:31:16.605Z"
   },
   {
    "duration": 4,
    "start_time": "2022-01-24T14:31:17.418Z"
   },
   {
    "duration": 56,
    "start_time": "2022-01-24T14:31:17.425Z"
   },
   {
    "duration": 34,
    "start_time": "2022-01-24T14:31:17.484Z"
   },
   {
    "duration": 14,
    "start_time": "2022-01-24T14:31:17.521Z"
   },
   {
    "duration": 28,
    "start_time": "2022-01-24T14:31:17.538Z"
   },
   {
    "duration": 33,
    "start_time": "2022-01-24T14:31:17.569Z"
   },
   {
    "duration": 9,
    "start_time": "2022-01-24T14:31:17.606Z"
   },
   {
    "duration": 14,
    "start_time": "2022-01-24T14:31:17.618Z"
   },
   {
    "duration": 290,
    "start_time": "2022-01-24T14:31:17.635Z"
   },
   {
    "duration": 6,
    "start_time": "2022-01-24T14:31:17.928Z"
   },
   {
    "duration": 32,
    "start_time": "2022-01-24T14:31:17.937Z"
   },
   {
    "duration": 6,
    "start_time": "2022-01-24T14:31:17.971Z"
   },
   {
    "duration": 6,
    "start_time": "2022-01-24T14:31:17.979Z"
   },
   {
    "duration": 13,
    "start_time": "2022-01-24T14:31:17.987Z"
   },
   {
    "duration": 9,
    "start_time": "2022-01-24T14:31:18.003Z"
   },
   {
    "duration": 52,
    "start_time": "2022-01-24T14:31:18.014Z"
   },
   {
    "duration": 448,
    "start_time": "2022-01-24T14:31:18.068Z"
   },
   {
    "duration": 9,
    "start_time": "2022-01-24T14:31:18.518Z"
   },
   {
    "duration": 33,
    "start_time": "2022-01-24T14:31:18.529Z"
   },
   {
    "duration": 629,
    "start_time": "2022-01-24T14:31:18.566Z"
   },
   {
    "duration": 11,
    "start_time": "2022-01-24T14:31:19.198Z"
   },
   {
    "duration": 24,
    "start_time": "2022-01-24T14:31:53.169Z"
   },
   {
    "duration": 12,
    "start_time": "2022-01-24T14:33:28.808Z"
   },
   {
    "duration": 23,
    "start_time": "2022-01-24T14:33:57.671Z"
   },
   {
    "duration": 23,
    "start_time": "2022-01-24T14:34:09.763Z"
   },
   {
    "duration": 317,
    "start_time": "2022-01-24T14:35:25.133Z"
   },
   {
    "duration": 594,
    "start_time": "2022-01-24T14:35:45.166Z"
   },
   {
    "duration": 1108,
    "start_time": "2022-01-24T14:36:01.318Z"
   },
   {
    "duration": 806,
    "start_time": "2022-01-24T14:36:08.504Z"
   },
   {
    "duration": 552,
    "start_time": "2022-01-24T14:36:32.261Z"
   },
   {
    "duration": 447,
    "start_time": "2022-01-24T14:36:55.352Z"
   },
   {
    "duration": 550,
    "start_time": "2022-01-24T14:37:01.842Z"
   },
   {
    "duration": 563,
    "start_time": "2022-01-24T14:37:29.952Z"
   },
   {
    "duration": 634,
    "start_time": "2022-01-24T14:37:53.644Z"
   },
   {
    "duration": 570,
    "start_time": "2022-01-24T14:38:09.811Z"
   },
   {
    "duration": 653,
    "start_time": "2022-01-24T14:38:51.921Z"
   },
   {
    "duration": 573,
    "start_time": "2022-01-24T14:39:01.174Z"
   },
   {
    "duration": 132,
    "start_time": "2022-01-24T14:40:59.868Z"
   },
   {
    "duration": 23,
    "start_time": "2022-01-24T14:41:11.081Z"
   },
   {
    "duration": 31,
    "start_time": "2022-01-24T14:41:42.454Z"
   },
   {
    "duration": 778,
    "start_time": "2022-01-24T15:06:03.156Z"
   },
   {
    "duration": 595,
    "start_time": "2022-01-24T15:06:14.487Z"
   },
   {
    "duration": 501,
    "start_time": "2022-01-24T15:07:17.703Z"
   },
   {
    "duration": 494,
    "start_time": "2022-01-24T15:07:23.574Z"
   },
   {
    "duration": 563,
    "start_time": "2022-01-24T15:12:25.186Z"
   },
   {
    "duration": 564,
    "start_time": "2022-01-24T15:12:39.658Z"
   },
   {
    "duration": 482,
    "start_time": "2022-01-24T15:12:47.624Z"
   },
   {
    "duration": 489,
    "start_time": "2022-01-24T15:13:16.970Z"
   },
   {
    "duration": 1040,
    "start_time": "2022-01-24T15:15:07.082Z"
   },
   {
    "duration": 729,
    "start_time": "2022-01-24T15:15:14.248Z"
   },
   {
    "duration": 670,
    "start_time": "2022-01-24T15:16:28.384Z"
   },
   {
    "duration": 925,
    "start_time": "2022-01-24T15:16:40.193Z"
   },
   {
    "duration": 12,
    "start_time": "2022-01-24T15:22:42.608Z"
   },
   {
    "duration": 433,
    "start_time": "2022-01-24T15:23:06.841Z"
   },
   {
    "duration": 509,
    "start_time": "2022-01-24T15:23:20.980Z"
   },
   {
    "duration": 316,
    "start_time": "2022-01-24T15:23:29.670Z"
   },
   {
    "duration": 347,
    "start_time": "2022-01-24T15:24:24.528Z"
   },
   {
    "duration": 458,
    "start_time": "2022-01-24T15:24:31.973Z"
   },
   {
    "duration": 247,
    "start_time": "2022-01-24T15:33:08.018Z"
   },
   {
    "duration": 420,
    "start_time": "2022-01-24T15:33:27.751Z"
   },
   {
    "duration": 585,
    "start_time": "2022-01-24T15:36:02.282Z"
   },
   {
    "duration": 544,
    "start_time": "2022-01-24T15:36:08.023Z"
   },
   {
    "duration": 439,
    "start_time": "2022-01-24T15:36:19.143Z"
   },
   {
    "duration": 429,
    "start_time": "2022-01-24T15:36:52.165Z"
   },
   {
    "duration": 1111,
    "start_time": "2022-01-24T15:39:54.818Z"
   },
   {
    "duration": 884,
    "start_time": "2022-01-24T15:40:34.359Z"
   },
   {
    "duration": 861,
    "start_time": "2022-01-24T15:41:17.052Z"
   },
   {
    "duration": 901,
    "start_time": "2022-01-24T15:41:39.216Z"
   },
   {
    "duration": 964,
    "start_time": "2022-01-24T15:41:55.958Z"
   },
   {
    "duration": 959,
    "start_time": "2022-01-24T15:42:14.885Z"
   },
   {
    "duration": 886,
    "start_time": "2022-01-24T15:46:22.600Z"
   },
   {
    "duration": 916,
    "start_time": "2022-01-24T15:47:03.470Z"
   },
   {
    "duration": 896,
    "start_time": "2022-01-24T15:47:09.237Z"
   },
   {
    "duration": 1580,
    "start_time": "2022-01-24T15:54:31.225Z"
   },
   {
    "duration": 815,
    "start_time": "2022-01-24T15:54:47.101Z"
   },
   {
    "duration": 746,
    "start_time": "2022-01-24T15:54:51.344Z"
   },
   {
    "duration": 718,
    "start_time": "2022-01-24T15:56:21.631Z"
   },
   {
    "duration": 7,
    "start_time": "2022-01-24T15:56:57.964Z"
   },
   {
    "duration": 7,
    "start_time": "2022-01-24T15:57:22.980Z"
   },
   {
    "duration": 8,
    "start_time": "2022-01-24T15:57:40.667Z"
   },
   {
    "duration": 7,
    "start_time": "2022-01-24T15:58:47.879Z"
   },
   {
    "duration": 8,
    "start_time": "2022-01-24T15:58:51.716Z"
   },
   {
    "duration": 7,
    "start_time": "2022-01-24T16:02:47.036Z"
   },
   {
    "duration": 35,
    "start_time": "2022-01-24T16:03:05.047Z"
   },
   {
    "duration": 29,
    "start_time": "2022-01-24T16:03:19.019Z"
   },
   {
    "duration": 30,
    "start_time": "2022-01-24T16:04:47.130Z"
   },
   {
    "duration": 19,
    "start_time": "2022-01-24T16:05:06.610Z"
   },
   {
    "duration": 251,
    "start_time": "2022-01-24T16:05:21.084Z"
   },
   {
    "duration": 22,
    "start_time": "2022-01-24T16:05:33.315Z"
   },
   {
    "duration": 25,
    "start_time": "2022-01-24T16:06:57.995Z"
   },
   {
    "duration": 258,
    "start_time": "2022-01-24T16:07:21.548Z"
   },
   {
    "duration": 285,
    "start_time": "2022-01-24T16:07:27.177Z"
   },
   {
    "duration": 275,
    "start_time": "2022-01-24T16:07:49.000Z"
   },
   {
    "duration": 36,
    "start_time": "2022-01-24T16:07:59.594Z"
   },
   {
    "duration": 24,
    "start_time": "2022-01-24T16:10:06.946Z"
   },
   {
    "duration": 21,
    "start_time": "2022-01-24T16:10:21.070Z"
   },
   {
    "duration": 23,
    "start_time": "2022-01-24T16:11:07.090Z"
   },
   {
    "duration": 23,
    "start_time": "2022-01-24T16:11:20.307Z"
   },
   {
    "duration": 23,
    "start_time": "2022-01-24T16:11:31.099Z"
   },
   {
    "duration": 30,
    "start_time": "2022-01-24T16:11:48.034Z"
   },
   {
    "duration": 643,
    "start_time": "2022-01-24T16:24:21.208Z"
   },
   {
    "duration": 85,
    "start_time": "2022-01-24T16:24:35.084Z"
   },
   {
    "duration": 102532,
    "start_time": "2022-01-24T16:24:41.486Z"
   },
   {
    "duration": 479,
    "start_time": "2022-01-24T16:27:10.195Z"
   },
   {
    "duration": -3798,
    "start_time": "2022-01-24T16:29:00.599Z"
   },
   {
    "duration": 303,
    "start_time": "2022-01-24T16:30:45.282Z"
   },
   {
    "duration": 328,
    "start_time": "2022-01-24T16:31:05.664Z"
   },
   {
    "duration": 20,
    "start_time": "2022-01-24T16:32:04.660Z"
   },
   {
    "duration": 19,
    "start_time": "2022-01-24T16:32:13.596Z"
   },
   {
    "duration": 339,
    "start_time": "2022-01-24T16:32:38.438Z"
   },
   {
    "duration": 379,
    "start_time": "2022-01-24T16:33:07.648Z"
   },
   {
    "duration": 589,
    "start_time": "2022-01-24T16:33:38.036Z"
   },
   {
    "duration": 603,
    "start_time": "2022-01-24T16:34:25.406Z"
   },
   {
    "duration": 360,
    "start_time": "2022-01-24T16:35:34.341Z"
   },
   {
    "duration": 31,
    "start_time": "2022-01-24T16:37:30.211Z"
   },
   {
    "duration": 33,
    "start_time": "2022-01-24T16:37:40.529Z"
   },
   {
    "duration": 25,
    "start_time": "2022-01-24T16:37:48.913Z"
   },
   {
    "duration": 21,
    "start_time": "2022-01-24T16:38:02.794Z"
   },
   {
    "duration": 21,
    "start_time": "2022-01-24T16:38:33.083Z"
   },
   {
    "duration": 21,
    "start_time": "2022-01-24T16:39:08.110Z"
   },
   {
    "duration": 269,
    "start_time": "2022-01-24T16:42:05.513Z"
   },
   {
    "duration": 23,
    "start_time": "2022-01-24T16:45:22.432Z"
   },
   {
    "duration": 23,
    "start_time": "2022-01-24T16:45:38.558Z"
   },
   {
    "duration": 5,
    "start_time": "2022-01-24T16:50:20.590Z"
   },
   {
    "duration": 1232,
    "start_time": "2022-01-24T16:52:03.190Z"
   },
   {
    "duration": 4,
    "start_time": "2022-01-24T17:20:08.462Z"
   },
   {
    "duration": 1372,
    "start_time": "2022-01-24T17:20:10.693Z"
   },
   {
    "duration": 5,
    "start_time": "2022-01-24T17:20:48.258Z"
   },
   {
    "duration": 1225,
    "start_time": "2022-01-24T17:20:48.942Z"
   },
   {
    "duration": 1465,
    "start_time": "2022-01-24T17:22:44.114Z"
   },
   {
    "duration": 4,
    "start_time": "2022-01-24T17:22:45.582Z"
   },
   {
    "duration": 55,
    "start_time": "2022-01-24T17:22:45.589Z"
   },
   {
    "duration": 43,
    "start_time": "2022-01-24T17:22:45.646Z"
   },
   {
    "duration": 19,
    "start_time": "2022-01-24T17:22:45.692Z"
   },
   {
    "duration": 4,
    "start_time": "2022-01-24T17:22:45.713Z"
   },
   {
    "duration": 60,
    "start_time": "2022-01-24T17:22:45.719Z"
   },
   {
    "duration": 10,
    "start_time": "2022-01-24T17:22:45.783Z"
   },
   {
    "duration": 20,
    "start_time": "2022-01-24T17:22:45.796Z"
   },
   {
    "duration": 325,
    "start_time": "2022-01-24T17:22:45.819Z"
   },
   {
    "duration": 7,
    "start_time": "2022-01-24T17:22:46.146Z"
   },
   {
    "duration": 15,
    "start_time": "2022-01-24T17:22:46.165Z"
   },
   {
    "duration": 6,
    "start_time": "2022-01-24T17:22:46.182Z"
   },
   {
    "duration": 7,
    "start_time": "2022-01-24T17:22:46.191Z"
   },
   {
    "duration": 14,
    "start_time": "2022-01-24T17:22:46.201Z"
   },
   {
    "duration": 11,
    "start_time": "2022-01-24T17:22:46.217Z"
   },
   {
    "duration": 54,
    "start_time": "2022-01-24T17:22:46.231Z"
   },
   {
    "duration": 464,
    "start_time": "2022-01-24T17:22:46.288Z"
   },
   {
    "duration": 14,
    "start_time": "2022-01-24T17:22:46.754Z"
   },
   {
    "duration": 14,
    "start_time": "2022-01-24T17:22:46.770Z"
   },
   {
    "duration": 625,
    "start_time": "2022-01-24T17:22:46.787Z"
   },
   {
    "duration": 402,
    "start_time": "2022-01-24T17:22:47.415Z"
   },
   {
    "duration": 8,
    "start_time": "2022-01-24T17:22:47.822Z"
   },
   {
    "duration": 391,
    "start_time": "2022-01-24T17:22:47.834Z"
   },
   {
    "duration": 898,
    "start_time": "2022-01-24T17:22:48.228Z"
   },
   {
    "duration": 859,
    "start_time": "2022-01-24T17:22:49.128Z"
   },
   {
    "duration": 918,
    "start_time": "2022-01-24T17:22:49.990Z"
   },
   {
    "duration": 9,
    "start_time": "2022-01-24T17:22:50.911Z"
   },
   {
    "duration": 9,
    "start_time": "2022-01-24T17:22:50.922Z"
   },
   {
    "duration": 401,
    "start_time": "2022-01-24T17:22:50.934Z"
   },
   {
    "duration": 39,
    "start_time": "2022-01-24T17:22:51.338Z"
   },
   {
    "duration": 4,
    "start_time": "2022-01-24T17:22:51.380Z"
   },
   {
    "duration": 1179,
    "start_time": "2022-01-24T17:22:51.387Z"
   },
   {
    "duration": 5,
    "start_time": "2022-01-24T17:22:57.533Z"
   },
   {
    "duration": 1570,
    "start_time": "2022-01-24T17:22:58.288Z"
   },
   {
    "duration": 733,
    "start_time": "2022-01-24T17:23:16.945Z"
   },
   {
    "duration": 896,
    "start_time": "2022-01-24T17:23:40.005Z"
   },
   {
    "duration": 770,
    "start_time": "2022-01-24T17:24:48.275Z"
   },
   {
    "duration": 5,
    "start_time": "2022-01-24T17:28:42.516Z"
   },
   {
    "duration": 1329,
    "start_time": "2022-01-24T17:28:43.630Z"
   },
   {
    "duration": 5,
    "start_time": "2022-01-24T17:28:59.744Z"
   },
   {
    "duration": 1191,
    "start_time": "2022-01-24T17:29:00.982Z"
   },
   {
    "duration": 4,
    "start_time": "2022-01-24T17:29:09.588Z"
   },
   {
    "duration": 1218,
    "start_time": "2022-01-24T17:29:10.648Z"
   },
   {
    "duration": 4,
    "start_time": "2022-01-24T17:29:27.130Z"
   },
   {
    "duration": 1470,
    "start_time": "2022-01-24T17:29:28.510Z"
   },
   {
    "duration": 1386,
    "start_time": "2022-01-24T17:29:48.826Z"
   },
   {
    "duration": 1714,
    "start_time": "2022-01-24T17:29:59.260Z"
   },
   {
    "duration": 5,
    "start_time": "2022-01-24T17:30:56.516Z"
   },
   {
    "duration": 1258,
    "start_time": "2022-01-24T17:30:58.087Z"
   },
   {
    "duration": 5,
    "start_time": "2022-01-24T17:31:38.501Z"
   },
   {
    "duration": 496,
    "start_time": "2022-01-24T17:31:39.609Z"
   },
   {
    "duration": 5,
    "start_time": "2022-01-24T17:31:49.811Z"
   },
   {
    "duration": 814,
    "start_time": "2022-01-24T17:31:50.553Z"
   },
   {
    "duration": 972,
    "start_time": "2022-01-24T17:32:35.951Z"
   },
   {
    "duration": 27,
    "start_time": "2022-01-24T17:33:46.204Z"
   },
   {
    "duration": 59,
    "start_time": "2022-01-24T17:34:23.722Z"
   },
   {
    "duration": 14,
    "start_time": "2022-01-24T17:35:30.231Z"
   },
   {
    "duration": 60,
    "start_time": "2022-01-24T17:35:48.349Z"
   },
   {
    "duration": 5,
    "start_time": "2022-01-24T17:35:59.343Z"
   },
   {
    "duration": 563,
    "start_time": "2022-01-24T17:36:00.101Z"
   },
   {
    "duration": 574,
    "start_time": "2022-01-24T17:36:02.271Z"
   },
   {
    "duration": 70,
    "start_time": "2022-01-24T17:36:04.042Z"
   },
   {
    "duration": 5,
    "start_time": "2022-01-24T17:39:54.523Z"
   },
   {
    "duration": 5,
    "start_time": "2022-01-24T17:40:07.800Z"
   },
   {
    "duration": 510,
    "start_time": "2022-01-24T17:40:08.269Z"
   },
   {
    "duration": 5,
    "start_time": "2022-01-24T17:41:12.744Z"
   },
   {
    "duration": 490,
    "start_time": "2022-01-24T17:41:13.349Z"
   },
   {
    "duration": 5,
    "start_time": "2022-01-24T17:43:14.399Z"
   },
   {
    "duration": 673,
    "start_time": "2022-01-24T17:43:14.880Z"
   },
   {
    "duration": 588,
    "start_time": "2022-01-24T17:48:21.368Z"
   },
   {
    "duration": 75,
    "start_time": "2022-01-24T17:48:41.001Z"
   },
   {
    "duration": 254,
    "start_time": "2022-01-24T17:49:41.143Z"
   },
   {
    "duration": 326,
    "start_time": "2022-01-24T17:50:04.535Z"
   },
   {
    "duration": 275,
    "start_time": "2022-01-24T17:50:13.617Z"
   },
   {
    "duration": 180,
    "start_time": "2022-01-24T17:50:52.940Z"
   },
   {
    "duration": 204,
    "start_time": "2022-01-24T17:51:12.829Z"
   },
   {
    "duration": 80,
    "start_time": "2022-01-24T17:51:20.371Z"
   },
   {
    "duration": 515,
    "start_time": "2022-01-24T17:52:07.013Z"
   },
   {
    "duration": 7,
    "start_time": "2022-01-24T17:53:30.722Z"
   },
   {
    "duration": 538,
    "start_time": "2022-01-24T17:53:36.929Z"
   },
   {
    "duration": 608,
    "start_time": "2022-01-24T17:53:58.995Z"
   },
   {
    "duration": 369,
    "start_time": "2022-01-24T18:06:40.291Z"
   },
   {
    "duration": 4,
    "start_time": "2022-01-24T18:06:59.481Z"
   },
   {
    "duration": 14,
    "start_time": "2022-01-24T18:06:59.913Z"
   },
   {
    "duration": 15,
    "start_time": "2022-01-24T18:07:35.037Z"
   },
   {
    "duration": 16,
    "start_time": "2022-01-24T18:08:03.003Z"
   },
   {
    "duration": 14,
    "start_time": "2022-01-24T18:08:11.009Z"
   },
   {
    "duration": 1388,
    "start_time": "2022-01-24T18:21:52.930Z"
   },
   {
    "duration": 5,
    "start_time": "2022-01-24T18:21:54.321Z"
   },
   {
    "duration": 59,
    "start_time": "2022-01-24T18:21:54.330Z"
   },
   {
    "duration": 35,
    "start_time": "2022-01-24T18:21:54.392Z"
   },
   {
    "duration": 42,
    "start_time": "2022-01-24T18:21:54.430Z"
   },
   {
    "duration": 4,
    "start_time": "2022-01-24T18:21:54.474Z"
   },
   {
    "duration": 32,
    "start_time": "2022-01-24T18:21:54.480Z"
   },
   {
    "duration": 7,
    "start_time": "2022-01-24T18:21:54.516Z"
   },
   {
    "duration": 45,
    "start_time": "2022-01-24T18:21:54.526Z"
   },
   {
    "duration": 291,
    "start_time": "2022-01-24T18:21:54.574Z"
   },
   {
    "duration": 7,
    "start_time": "2022-01-24T18:21:54.868Z"
   },
   {
    "duration": 18,
    "start_time": "2022-01-24T18:21:54.878Z"
   },
   {
    "duration": 6,
    "start_time": "2022-01-24T18:21:54.898Z"
   },
   {
    "duration": 5,
    "start_time": "2022-01-24T18:21:54.906Z"
   },
   {
    "duration": 12,
    "start_time": "2022-01-24T18:21:54.913Z"
   },
   {
    "duration": 12,
    "start_time": "2022-01-24T18:21:54.965Z"
   },
   {
    "duration": 22,
    "start_time": "2022-01-24T18:21:54.979Z"
   },
   {
    "duration": 527,
    "start_time": "2022-01-24T18:21:55.004Z"
   },
   {
    "duration": 10,
    "start_time": "2022-01-24T18:21:55.534Z"
   },
   {
    "duration": 28,
    "start_time": "2022-01-24T18:21:55.546Z"
   },
   {
    "duration": 1008,
    "start_time": "2022-01-24T18:21:55.577Z"
   },
   {
    "duration": 657,
    "start_time": "2022-01-24T18:21:56.588Z"
   },
   {
    "duration": 16,
    "start_time": "2022-01-24T18:21:57.253Z"
   },
   {
    "duration": 624,
    "start_time": "2022-01-24T18:21:57.272Z"
   },
   {
    "duration": 1258,
    "start_time": "2022-01-24T18:21:57.900Z"
   },
   {
    "duration": 1219,
    "start_time": "2022-01-24T18:21:59.161Z"
   },
   {
    "duration": 908,
    "start_time": "2022-01-24T18:22:00.383Z"
   },
   {
    "duration": 7,
    "start_time": "2022-01-24T18:22:01.293Z"
   },
   {
    "duration": 14,
    "start_time": "2022-01-24T18:22:01.303Z"
   },
   {
    "duration": 396,
    "start_time": "2022-01-24T18:22:01.320Z"
   },
   {
    "duration": 6,
    "start_time": "2022-01-24T18:22:01.719Z"
   },
   {
    "duration": 613,
    "start_time": "2022-01-24T18:22:01.728Z"
   },
   {
    "duration": 598,
    "start_time": "2022-01-24T18:22:02.345Z"
   },
   {
    "duration": 604,
    "start_time": "2022-01-24T18:22:02.946Z"
   },
   {
    "duration": 13,
    "start_time": "2022-01-24T18:22:03.552Z"
   },
   {
    "duration": 18,
    "start_time": "2022-01-24T18:22:03.567Z"
   },
   {
    "duration": 16,
    "start_time": "2022-01-24T18:22:03.588Z"
   },
   {
    "duration": 1132,
    "start_time": "2022-01-24T18:22:23.603Z"
   },
   {
    "duration": 5,
    "start_time": "2022-01-24T18:22:24.738Z"
   },
   {
    "duration": 72,
    "start_time": "2022-01-24T18:22:24.747Z"
   },
   {
    "duration": 35,
    "start_time": "2022-01-24T18:22:24.822Z"
   },
   {
    "duration": 19,
    "start_time": "2022-01-24T18:22:24.859Z"
   },
   {
    "duration": 19,
    "start_time": "2022-01-24T18:22:24.880Z"
   },
   {
    "duration": 38,
    "start_time": "2022-01-24T18:22:24.902Z"
   },
   {
    "duration": 21,
    "start_time": "2022-01-24T18:22:24.944Z"
   },
   {
    "duration": 34,
    "start_time": "2022-01-24T18:22:24.968Z"
   },
   {
    "duration": 304,
    "start_time": "2022-01-24T18:22:25.004Z"
   },
   {
    "duration": 7,
    "start_time": "2022-01-24T18:22:25.310Z"
   },
   {
    "duration": 26,
    "start_time": "2022-01-24T18:22:25.320Z"
   },
   {
    "duration": 27,
    "start_time": "2022-01-24T18:22:25.350Z"
   },
   {
    "duration": 17,
    "start_time": "2022-01-24T18:22:25.381Z"
   },
   {
    "duration": 16,
    "start_time": "2022-01-24T18:22:25.400Z"
   },
   {
    "duration": 14,
    "start_time": "2022-01-24T18:22:25.419Z"
   },
   {
    "duration": 42,
    "start_time": "2022-01-24T18:22:25.436Z"
   },
   {
    "duration": 500,
    "start_time": "2022-01-24T18:22:25.480Z"
   },
   {
    "duration": 11,
    "start_time": "2022-01-24T18:22:25.982Z"
   },
   {
    "duration": 13,
    "start_time": "2022-01-24T18:22:25.996Z"
   },
   {
    "duration": 691,
    "start_time": "2022-01-24T18:22:26.012Z"
   },
   {
    "duration": 450,
    "start_time": "2022-01-24T18:22:26.706Z"
   },
   {
    "duration": 8,
    "start_time": "2022-01-24T18:22:27.166Z"
   },
   {
    "duration": 476,
    "start_time": "2022-01-24T18:22:27.177Z"
   },
   {
    "duration": 885,
    "start_time": "2022-01-24T18:22:27.656Z"
   },
   {
    "duration": 858,
    "start_time": "2022-01-24T18:22:28.543Z"
   },
   {
    "duration": 904,
    "start_time": "2022-01-24T18:22:29.404Z"
   },
   {
    "duration": 7,
    "start_time": "2022-01-24T18:22:30.311Z"
   },
   {
    "duration": 20,
    "start_time": "2022-01-24T18:22:30.321Z"
   },
   {
    "duration": 625,
    "start_time": "2022-01-24T18:22:30.344Z"
   },
   {
    "duration": 8,
    "start_time": "2022-01-24T18:22:30.972Z"
   },
   {
    "duration": 622,
    "start_time": "2022-01-24T18:22:30.983Z"
   },
   {
    "duration": 1072,
    "start_time": "2022-01-24T18:22:31.608Z"
   },
   {
    "duration": 608,
    "start_time": "2022-01-24T18:22:32.684Z"
   },
   {
    "duration": 3,
    "start_time": "2022-01-24T18:22:33.295Z"
   },
   {
    "duration": 618,
    "start_time": "2022-01-24T18:22:33.301Z"
   },
   {
    "duration": -3447,
    "start_time": "2022-01-24T18:22:37.370Z"
   },
   {
    "duration": 30,
    "start_time": "2022-01-24T18:35:50.349Z"
   },
   {
    "duration": 1032,
    "start_time": "2022-01-24T18:37:13.440Z"
   },
   {
    "duration": 3,
    "start_time": "2022-01-24T18:37:14.475Z"
   },
   {
    "duration": 57,
    "start_time": "2022-01-24T18:37:14.481Z"
   },
   {
    "duration": 31,
    "start_time": "2022-01-24T18:37:14.541Z"
   },
   {
    "duration": 17,
    "start_time": "2022-01-24T18:37:14.575Z"
   },
   {
    "duration": 6,
    "start_time": "2022-01-24T18:37:14.595Z"
   },
   {
    "duration": 42,
    "start_time": "2022-01-24T18:37:14.604Z"
   },
   {
    "duration": 19,
    "start_time": "2022-01-24T18:37:14.649Z"
   },
   {
    "duration": 17,
    "start_time": "2022-01-24T18:37:14.671Z"
   },
   {
    "duration": 291,
    "start_time": "2022-01-24T18:37:14.691Z"
   },
   {
    "duration": 8,
    "start_time": "2022-01-24T18:37:14.984Z"
   },
   {
    "duration": 14,
    "start_time": "2022-01-24T18:37:14.996Z"
   },
   {
    "duration": 26,
    "start_time": "2022-01-24T18:37:15.013Z"
   },
   {
    "duration": 25,
    "start_time": "2022-01-24T18:37:15.042Z"
   },
   {
    "duration": 15,
    "start_time": "2022-01-24T18:37:15.070Z"
   },
   {
    "duration": 10,
    "start_time": "2022-01-24T18:37:15.087Z"
   },
   {
    "duration": 21,
    "start_time": "2022-01-24T18:37:15.099Z"
   },
   {
    "duration": 496,
    "start_time": "2022-01-24T18:37:15.123Z"
   },
   {
    "duration": 8,
    "start_time": "2022-01-24T18:37:15.622Z"
   },
   {
    "duration": 53,
    "start_time": "2022-01-24T18:37:15.633Z"
   },
   {
    "duration": 814,
    "start_time": "2022-01-24T18:37:15.689Z"
   },
   {
    "duration": 504,
    "start_time": "2022-01-24T18:37:16.506Z"
   },
   {
    "duration": 9,
    "start_time": "2022-01-24T18:37:17.014Z"
   },
   {
    "duration": 401,
    "start_time": "2022-01-24T18:37:17.026Z"
   },
   {
    "duration": 866,
    "start_time": "2022-01-24T18:37:17.430Z"
   },
   {
    "duration": 854,
    "start_time": "2022-01-24T18:37:18.298Z"
   },
   {
    "duration": 837,
    "start_time": "2022-01-24T18:37:19.155Z"
   },
   {
    "duration": 8,
    "start_time": "2022-01-24T18:37:19.995Z"
   },
   {
    "duration": 20,
    "start_time": "2022-01-24T18:37:20.006Z"
   },
   {
    "duration": 390,
    "start_time": "2022-01-24T18:37:20.029Z"
   },
   {
    "duration": 6,
    "start_time": "2022-01-24T18:37:20.423Z"
   },
   {
    "duration": 558,
    "start_time": "2022-01-24T18:37:20.432Z"
   },
   {
    "duration": 675,
    "start_time": "2022-01-24T18:37:20.992Z"
   },
   {
    "duration": 543,
    "start_time": "2022-01-24T18:37:21.670Z"
   },
   {
    "duration": 3,
    "start_time": "2022-01-24T18:37:22.216Z"
   },
   {
    "duration": 485,
    "start_time": "2022-01-24T18:37:22.222Z"
   },
   {
    "duration": -3457,
    "start_time": "2022-01-24T18:37:26.167Z"
   },
   {
    "duration": 400,
    "start_time": "2022-01-24T18:37:57.872Z"
   },
   {
    "duration": 1322,
    "start_time": "2022-01-24T18:38:04.396Z"
   },
   {
    "duration": 4,
    "start_time": "2022-01-24T18:38:05.720Z"
   },
   {
    "duration": 56,
    "start_time": "2022-01-24T18:38:05.726Z"
   },
   {
    "duration": 33,
    "start_time": "2022-01-24T18:38:05.784Z"
   },
   {
    "duration": 18,
    "start_time": "2022-01-24T18:38:05.819Z"
   },
   {
    "duration": 4,
    "start_time": "2022-01-24T18:38:05.839Z"
   },
   {
    "duration": 29,
    "start_time": "2022-01-24T18:38:05.866Z"
   },
   {
    "duration": 8,
    "start_time": "2022-01-24T18:38:05.900Z"
   },
   {
    "duration": 25,
    "start_time": "2022-01-24T18:38:05.912Z"
   },
   {
    "duration": 299,
    "start_time": "2022-01-24T18:38:05.940Z"
   },
   {
    "duration": 7,
    "start_time": "2022-01-24T18:38:06.241Z"
   },
   {
    "duration": 12,
    "start_time": "2022-01-24T18:38:06.265Z"
   },
   {
    "duration": 6,
    "start_time": "2022-01-24T18:38:06.279Z"
   },
   {
    "duration": 6,
    "start_time": "2022-01-24T18:38:06.287Z"
   },
   {
    "duration": 13,
    "start_time": "2022-01-24T18:38:06.295Z"
   },
   {
    "duration": 11,
    "start_time": "2022-01-24T18:38:06.311Z"
   },
   {
    "duration": 54,
    "start_time": "2022-01-24T18:38:06.324Z"
   },
   {
    "duration": 462,
    "start_time": "2022-01-24T18:38:06.381Z"
   },
   {
    "duration": 25,
    "start_time": "2022-01-24T18:38:06.846Z"
   },
   {
    "duration": 34,
    "start_time": "2022-01-24T18:38:06.873Z"
   },
   {
    "duration": 725,
    "start_time": "2022-01-24T18:38:06.910Z"
   },
   {
    "duration": 452,
    "start_time": "2022-01-24T18:38:07.638Z"
   },
   {
    "duration": 9,
    "start_time": "2022-01-24T18:38:08.095Z"
   },
   {
    "duration": 400,
    "start_time": "2022-01-24T18:38:08.106Z"
   },
   {
    "duration": 884,
    "start_time": "2022-01-24T18:38:08.509Z"
   },
   {
    "duration": 931,
    "start_time": "2022-01-24T18:38:09.395Z"
   },
   {
    "duration": 952,
    "start_time": "2022-01-24T18:38:10.329Z"
   },
   {
    "duration": 6,
    "start_time": "2022-01-24T18:38:11.284Z"
   },
   {
    "duration": 12,
    "start_time": "2022-01-24T18:38:11.293Z"
   },
   {
    "duration": 423,
    "start_time": "2022-01-24T18:38:11.307Z"
   },
   {
    "duration": 5,
    "start_time": "2022-01-24T18:38:11.732Z"
   },
   {
    "duration": 768,
    "start_time": "2022-01-24T18:38:11.740Z"
   },
   {
    "duration": 611,
    "start_time": "2022-01-24T18:38:12.511Z"
   },
   {
    "duration": 557,
    "start_time": "2022-01-24T18:38:13.124Z"
   },
   {
    "duration": 4,
    "start_time": "2022-01-24T18:38:13.684Z"
   },
   {
    "duration": 20,
    "start_time": "2022-01-24T18:38:13.690Z"
   },
   {
    "duration": 15,
    "start_time": "2022-01-24T18:38:13.713Z"
   },
   {
    "duration": 6,
    "start_time": "2022-01-24T18:45:59.958Z"
   },
   {
    "duration": 858,
    "start_time": "2022-01-24T18:46:00.528Z"
   },
   {
    "duration": 7,
    "start_time": "2022-01-24T18:46:59.387Z"
   },
   {
    "duration": 136,
    "start_time": "2022-01-24T18:53:46.157Z"
   },
   {
    "duration": 4,
    "start_time": "2022-01-24T18:53:54.058Z"
   },
   {
    "duration": 2759,
    "start_time": "2022-01-24T18:53:55.825Z"
   },
   {
    "duration": 1174,
    "start_time": "2022-01-24T18:54:43.686Z"
   },
   {
    "duration": 1156,
    "start_time": "2022-01-24T18:55:31.602Z"
   },
   {
    "duration": 4,
    "start_time": "2022-01-24T18:55:35.648Z"
   },
   {
    "duration": 1125,
    "start_time": "2022-01-24T18:55:37.656Z"
   },
   {
    "duration": 1047,
    "start_time": "2022-01-24T18:57:10.631Z"
   },
   {
    "duration": 4,
    "start_time": "2022-01-24T18:57:14.409Z"
   },
   {
    "duration": 1209,
    "start_time": "2022-01-24T18:57:15.215Z"
   },
   {
    "duration": 965,
    "start_time": "2022-01-24T18:58:02.666Z"
   },
   {
    "duration": 5,
    "start_time": "2022-01-24T18:58:06.283Z"
   },
   {
    "duration": 1131,
    "start_time": "2022-01-24T18:58:07.051Z"
   },
   {
    "duration": 991,
    "start_time": "2022-01-24T18:58:28.013Z"
   },
   {
    "duration": 893,
    "start_time": "2022-01-24T18:59:34.736Z"
   },
   {
    "duration": 900,
    "start_time": "2022-01-24T19:00:15.764Z"
   },
   {
    "duration": 1054,
    "start_time": "2022-01-24T19:00:41.148Z"
   },
   {
    "duration": 1433,
    "start_time": "2022-01-24T20:15:19.434Z"
   },
   {
    "duration": 4,
    "start_time": "2022-01-24T20:15:20.870Z"
   },
   {
    "duration": 56,
    "start_time": "2022-01-24T20:15:20.877Z"
   },
   {
    "duration": 38,
    "start_time": "2022-01-24T20:15:20.936Z"
   },
   {
    "duration": 14,
    "start_time": "2022-01-24T20:15:20.976Z"
   },
   {
    "duration": 12,
    "start_time": "2022-01-24T20:15:20.993Z"
   },
   {
    "duration": 32,
    "start_time": "2022-01-24T20:15:21.008Z"
   },
   {
    "duration": 7,
    "start_time": "2022-01-24T20:15:21.068Z"
   },
   {
    "duration": 16,
    "start_time": "2022-01-24T20:15:21.079Z"
   },
   {
    "duration": 311,
    "start_time": "2022-01-24T20:15:21.097Z"
   },
   {
    "duration": 9,
    "start_time": "2022-01-24T20:15:21.411Z"
   },
   {
    "duration": 17,
    "start_time": "2022-01-24T20:15:21.422Z"
   },
   {
    "duration": 22,
    "start_time": "2022-01-24T20:15:21.442Z"
   },
   {
    "duration": 5,
    "start_time": "2022-01-24T20:15:21.467Z"
   },
   {
    "duration": 17,
    "start_time": "2022-01-24T20:15:21.474Z"
   },
   {
    "duration": 11,
    "start_time": "2022-01-24T20:15:21.493Z"
   },
   {
    "duration": 24,
    "start_time": "2022-01-24T20:15:21.507Z"
   },
   {
    "duration": 492,
    "start_time": "2022-01-24T20:15:21.533Z"
   },
   {
    "duration": 10,
    "start_time": "2022-01-24T20:15:22.029Z"
   },
   {
    "duration": 52,
    "start_time": "2022-01-24T20:15:22.042Z"
   },
   {
    "duration": 746,
    "start_time": "2022-01-24T20:15:22.097Z"
   },
   {
    "duration": 459,
    "start_time": "2022-01-24T20:15:22.846Z"
   },
   {
    "duration": 9,
    "start_time": "2022-01-24T20:15:23.310Z"
   },
   {
    "duration": 412,
    "start_time": "2022-01-24T20:15:23.321Z"
   },
   {
    "duration": 5,
    "start_time": "2022-01-24T20:15:23.735Z"
   },
   {
    "duration": 86,
    "start_time": "2022-01-24T20:15:23.742Z"
   },
   {
    "duration": -1568,
    "start_time": "2022-01-24T20:15:25.399Z"
   },
   {
    "duration": -1581,
    "start_time": "2022-01-24T20:15:25.413Z"
   },
   {
    "duration": -1594,
    "start_time": "2022-01-24T20:15:25.428Z"
   },
   {
    "duration": -1606,
    "start_time": "2022-01-24T20:15:25.441Z"
   },
   {
    "duration": -1618,
    "start_time": "2022-01-24T20:15:25.454Z"
   },
   {
    "duration": -1628,
    "start_time": "2022-01-24T20:15:25.466Z"
   },
   {
    "duration": -1640,
    "start_time": "2022-01-24T20:15:25.479Z"
   },
   {
    "duration": -1653,
    "start_time": "2022-01-24T20:15:25.493Z"
   },
   {
    "duration": -1669,
    "start_time": "2022-01-24T20:15:25.511Z"
   },
   {
    "duration": -1683,
    "start_time": "2022-01-24T20:15:25.526Z"
   },
   {
    "duration": -1696,
    "start_time": "2022-01-24T20:15:25.540Z"
   },
   {
    "duration": -1710,
    "start_time": "2022-01-24T20:15:25.556Z"
   },
   {
    "duration": 1015,
    "start_time": "2022-02-01T13:06:58.304Z"
   },
   {
    "duration": 2,
    "start_time": "2022-02-01T13:06:59.321Z"
   },
   {
    "duration": 41,
    "start_time": "2022-02-01T13:06:59.325Z"
   },
   {
    "duration": 21,
    "start_time": "2022-02-01T13:06:59.368Z"
   },
   {
    "duration": 10,
    "start_time": "2022-02-01T13:06:59.390Z"
   },
   {
    "duration": 6,
    "start_time": "2022-02-01T13:06:59.402Z"
   },
   {
    "duration": 24,
    "start_time": "2022-02-01T13:06:59.410Z"
   },
   {
    "duration": 25,
    "start_time": "2022-02-01T13:06:59.437Z"
   },
   {
    "duration": 11,
    "start_time": "2022-02-01T13:06:59.464Z"
   },
   {
    "duration": 173,
    "start_time": "2022-02-01T13:06:59.476Z"
   },
   {
    "duration": 10,
    "start_time": "2022-02-01T13:06:59.650Z"
   },
   {
    "duration": 13,
    "start_time": "2022-02-01T13:06:59.661Z"
   },
   {
    "duration": 4,
    "start_time": "2022-02-01T13:06:59.676Z"
   },
   {
    "duration": 5,
    "start_time": "2022-02-01T13:06:59.682Z"
   },
   {
    "duration": 8,
    "start_time": "2022-02-01T13:06:59.689Z"
   },
   {
    "duration": 10,
    "start_time": "2022-02-01T13:06:59.699Z"
   },
   {
    "duration": 13,
    "start_time": "2022-02-01T13:06:59.711Z"
   },
   {
    "duration": 329,
    "start_time": "2022-02-01T13:06:59.726Z"
   },
   {
    "duration": 7,
    "start_time": "2022-02-01T13:07:00.059Z"
   },
   {
    "duration": 32,
    "start_time": "2022-02-01T13:07:00.068Z"
   },
   {
    "duration": 466,
    "start_time": "2022-02-01T13:07:00.101Z"
   },
   {
    "duration": 282,
    "start_time": "2022-02-01T13:07:00.569Z"
   },
   {
    "duration": 9,
    "start_time": "2022-02-01T13:07:00.854Z"
   },
   {
    "duration": 243,
    "start_time": "2022-02-01T13:07:00.865Z"
   },
   {
    "duration": 3,
    "start_time": "2022-02-01T13:07:01.109Z"
   },
   {
    "duration": 71,
    "start_time": "2022-02-01T13:07:01.114Z"
   },
   {
    "duration": -90175,
    "start_time": "2022-02-01T13:08:31.362Z"
   },
   {
    "duration": -90177,
    "start_time": "2022-02-01T13:08:31.365Z"
   },
   {
    "duration": -90180,
    "start_time": "2022-02-01T13:08:31.368Z"
   },
   {
    "duration": -90183,
    "start_time": "2022-02-01T13:08:31.372Z"
   },
   {
    "duration": -90184,
    "start_time": "2022-02-01T13:08:31.374Z"
   },
   {
    "duration": -90185,
    "start_time": "2022-02-01T13:08:31.376Z"
   },
   {
    "duration": -90187,
    "start_time": "2022-02-01T13:08:31.379Z"
   },
   {
    "duration": -90189,
    "start_time": "2022-02-01T13:08:31.382Z"
   },
   {
    "duration": -90191,
    "start_time": "2022-02-01T13:08:31.385Z"
   },
   {
    "duration": -90194,
    "start_time": "2022-02-01T13:08:31.389Z"
   },
   {
    "duration": -90196,
    "start_time": "2022-02-01T13:08:31.391Z"
   },
   {
    "duration": -90197,
    "start_time": "2022-02-01T13:08:31.393Z"
   },
   {
    "duration": 7,
    "start_time": "2022-02-01T14:00:21.056Z"
   },
   {
    "duration": 7,
    "start_time": "2022-02-01T14:00:55.463Z"
   },
   {
    "duration": 3,
    "start_time": "2022-02-01T14:01:42.443Z"
   },
   {
    "duration": 6,
    "start_time": "2022-02-01T14:01:42.448Z"
   },
   {
    "duration": 39,
    "start_time": "2022-02-01T14:01:42.456Z"
   },
   {
    "duration": 17,
    "start_time": "2022-02-01T14:01:42.497Z"
   },
   {
    "duration": 13,
    "start_time": "2022-02-01T14:01:42.516Z"
   },
   {
    "duration": 3,
    "start_time": "2022-02-01T14:01:42.531Z"
   },
   {
    "duration": 32,
    "start_time": "2022-02-01T14:01:42.537Z"
   },
   {
    "duration": 9,
    "start_time": "2022-02-01T14:01:42.571Z"
   },
   {
    "duration": 13,
    "start_time": "2022-02-01T14:01:42.582Z"
   },
   {
    "duration": 529,
    "start_time": "2022-02-01T14:01:48.280Z"
   },
   {
    "duration": 6,
    "start_time": "2022-02-01T14:01:59.795Z"
   },
   {
    "duration": 5,
    "start_time": "2022-02-01T14:02:18.490Z"
   },
   {
    "duration": 1020,
    "start_time": "2022-02-01T14:02:46.712Z"
   },
   {
    "duration": 3,
    "start_time": "2022-02-01T14:02:47.734Z"
   },
   {
    "duration": 41,
    "start_time": "2022-02-01T14:02:47.739Z"
   },
   {
    "duration": 23,
    "start_time": "2022-02-01T14:02:47.782Z"
   },
   {
    "duration": 12,
    "start_time": "2022-02-01T14:02:47.807Z"
   },
   {
    "duration": 5,
    "start_time": "2022-02-01T14:02:47.821Z"
   },
   {
    "duration": 44,
    "start_time": "2022-02-01T14:02:47.828Z"
   },
   {
    "duration": 4,
    "start_time": "2022-02-01T14:02:47.875Z"
   },
   {
    "duration": 12,
    "start_time": "2022-02-01T14:02:47.880Z"
   },
   {
    "duration": 171,
    "start_time": "2022-02-01T14:02:47.894Z"
   },
   {
    "duration": 5,
    "start_time": "2022-02-01T14:02:48.067Z"
   },
   {
    "duration": 16,
    "start_time": "2022-02-01T14:02:48.073Z"
   },
   {
    "duration": 6,
    "start_time": "2022-02-01T14:02:48.091Z"
   },
   {
    "duration": 5,
    "start_time": "2022-02-01T14:02:48.099Z"
   },
   {
    "duration": 8,
    "start_time": "2022-02-01T14:02:48.106Z"
   },
   {
    "duration": 9,
    "start_time": "2022-02-01T14:02:48.115Z"
   },
   {
    "duration": 41,
    "start_time": "2022-02-01T14:02:48.125Z"
   },
   {
    "duration": 289,
    "start_time": "2022-02-01T14:02:48.167Z"
   },
   {
    "duration": 6,
    "start_time": "2022-02-01T14:02:48.459Z"
   },
   {
    "duration": 28,
    "start_time": "2022-02-01T14:02:48.466Z"
   },
   {
    "duration": 451,
    "start_time": "2022-02-01T14:02:48.496Z"
   },
   {
    "duration": 297,
    "start_time": "2022-02-01T14:02:48.949Z"
   },
   {
    "duration": 12,
    "start_time": "2022-02-01T14:02:49.249Z"
   },
   {
    "duration": 247,
    "start_time": "2022-02-01T14:02:49.263Z"
   },
   {
    "duration": 3,
    "start_time": "2022-02-01T14:02:49.512Z"
   },
   {
    "duration": 59,
    "start_time": "2022-02-01T14:02:49.517Z"
   },
   {
    "duration": -90188,
    "start_time": "2022-02-01T14:04:19.766Z"
   },
   {
    "duration": -90197,
    "start_time": "2022-02-01T14:04:19.776Z"
   },
   {
    "duration": -90200,
    "start_time": "2022-02-01T14:04:19.780Z"
   },
   {
    "duration": -90202,
    "start_time": "2022-02-01T14:04:19.783Z"
   },
   {
    "duration": -90203,
    "start_time": "2022-02-01T14:04:19.785Z"
   },
   {
    "duration": -90205,
    "start_time": "2022-02-01T14:04:19.788Z"
   },
   {
    "duration": -90205,
    "start_time": "2022-02-01T14:04:19.789Z"
   },
   {
    "duration": -90206,
    "start_time": "2022-02-01T14:04:19.791Z"
   },
   {
    "duration": -90207,
    "start_time": "2022-02-01T14:04:19.793Z"
   },
   {
    "duration": -90208,
    "start_time": "2022-02-01T14:04:19.795Z"
   },
   {
    "duration": -90208,
    "start_time": "2022-02-01T14:04:19.796Z"
   },
   {
    "duration": -90210,
    "start_time": "2022-02-01T14:04:19.799Z"
   },
   {
    "duration": 542,
    "start_time": "2022-02-01T14:06:08.745Z"
   },
   {
    "duration": 598,
    "start_time": "2022-02-01T14:06:09.289Z"
   },
   {
    "duration": 686,
    "start_time": "2022-02-01T14:06:09.890Z"
   },
   {
    "duration": 5,
    "start_time": "2022-02-01T14:06:10.579Z"
   },
   {
    "duration": 10,
    "start_time": "2022-02-01T14:06:10.586Z"
   },
   {
    "duration": 242,
    "start_time": "2022-02-01T14:06:10.597Z"
   },
   {
    "duration": 3,
    "start_time": "2022-02-01T14:06:10.841Z"
   },
   {
    "duration": 338,
    "start_time": "2022-02-01T14:06:10.847Z"
   },
   {
    "duration": 355,
    "start_time": "2022-02-01T14:06:11.187Z"
   },
   {
    "duration": 338,
    "start_time": "2022-02-01T14:06:11.544Z"
   },
   {
    "duration": 3,
    "start_time": "2022-02-01T14:06:11.883Z"
   },
   {
    "duration": 14,
    "start_time": "2022-02-01T14:06:11.888Z"
   },
   {
    "duration": 10,
    "start_time": "2022-02-01T14:06:11.904Z"
   },
   {
    "duration": 1611,
    "start_time": "2022-02-19T14:52:04.275Z"
   },
   {
    "duration": 1264,
    "start_time": "2022-02-24T11:40:40.481Z"
   },
   {
    "duration": 1206,
    "start_time": "2022-02-24T11:40:45.597Z"
   },
   {
    "duration": 3,
    "start_time": "2022-02-24T11:40:46.804Z"
   },
   {
    "duration": 61,
    "start_time": "2022-02-24T11:40:46.808Z"
   },
   {
    "duration": 19,
    "start_time": "2022-02-24T11:40:46.871Z"
   },
   {
    "duration": 13,
    "start_time": "2022-02-24T11:40:46.892Z"
   },
   {
    "duration": 4,
    "start_time": "2022-02-24T11:40:46.907Z"
   },
   {
    "duration": 35,
    "start_time": "2022-02-24T11:40:46.912Z"
   },
   {
    "duration": 4,
    "start_time": "2022-02-24T11:40:46.949Z"
   },
   {
    "duration": 10,
    "start_time": "2022-02-24T11:40:46.956Z"
   },
   {
    "duration": 178,
    "start_time": "2022-02-24T11:40:46.968Z"
   },
   {
    "duration": 5,
    "start_time": "2022-02-24T11:40:47.147Z"
   },
   {
    "duration": 13,
    "start_time": "2022-02-24T11:40:47.154Z"
   },
   {
    "duration": 4,
    "start_time": "2022-02-24T11:40:47.169Z"
   },
   {
    "duration": 11,
    "start_time": "2022-02-24T11:40:47.175Z"
   },
   {
    "duration": 7,
    "start_time": "2022-02-24T11:40:47.187Z"
   },
   {
    "duration": 7,
    "start_time": "2022-02-24T11:40:47.195Z"
   },
   {
    "duration": 14,
    "start_time": "2022-02-24T11:40:47.204Z"
   },
   {
    "duration": 290,
    "start_time": "2022-02-24T11:40:47.220Z"
   },
   {
    "duration": 5,
    "start_time": "2022-02-24T11:40:47.512Z"
   },
   {
    "duration": 33,
    "start_time": "2022-02-24T11:40:47.518Z"
   },
   {
    "duration": 317,
    "start_time": "2022-02-24T11:40:47.552Z"
   },
   {
    "duration": 334,
    "start_time": "2022-02-24T11:40:47.871Z"
   },
   {
    "duration": 5,
    "start_time": "2022-02-24T11:40:48.207Z"
   },
   {
    "duration": 234,
    "start_time": "2022-02-24T11:40:48.214Z"
   },
   {
    "duration": 4,
    "start_time": "2022-02-24T11:40:48.450Z"
   },
   {
    "duration": 548,
    "start_time": "2022-02-24T11:40:48.456Z"
   },
   {
    "duration": 522,
    "start_time": "2022-02-24T11:40:49.006Z"
   },
   {
    "duration": 494,
    "start_time": "2022-02-24T11:40:49.529Z"
   },
   {
    "duration": 4,
    "start_time": "2022-02-24T11:40:50.024Z"
   },
   {
    "duration": 16,
    "start_time": "2022-02-24T11:40:50.030Z"
   },
   {
    "duration": 248,
    "start_time": "2022-02-24T11:40:50.047Z"
   },
   {
    "duration": 3,
    "start_time": "2022-02-24T11:40:50.297Z"
   },
   {
    "duration": 308,
    "start_time": "2022-02-24T11:40:50.301Z"
   },
   {
    "duration": 312,
    "start_time": "2022-02-24T11:40:50.611Z"
   },
   {
    "duration": 282,
    "start_time": "2022-02-24T11:40:50.925Z"
   },
   {
    "duration": 2,
    "start_time": "2022-02-24T11:40:51.209Z"
   },
   {
    "duration": 18,
    "start_time": "2022-02-24T11:40:51.212Z"
   },
   {
    "duration": 18,
    "start_time": "2022-02-24T11:40:51.231Z"
   },
   {
    "duration": 299,
    "start_time": "2022-02-24T11:48:55.897Z"
   },
   {
    "duration": 36,
    "start_time": "2022-02-24T11:52:52.066Z"
   },
   {
    "duration": 4,
    "start_time": "2022-02-24T11:53:05.308Z"
   },
   {
    "duration": 5,
    "start_time": "2022-02-24T11:53:05.314Z"
   },
   {
    "duration": 43,
    "start_time": "2022-02-24T11:53:05.321Z"
   },
   {
    "duration": 16,
    "start_time": "2022-02-24T11:53:05.365Z"
   },
   {
    "duration": 16,
    "start_time": "2022-02-24T11:53:05.383Z"
   },
   {
    "duration": 6,
    "start_time": "2022-02-24T11:53:05.401Z"
   },
   {
    "duration": 29,
    "start_time": "2022-02-24T11:53:05.408Z"
   },
   {
    "duration": 15,
    "start_time": "2022-02-24T11:53:05.438Z"
   },
   {
    "duration": 12,
    "start_time": "2022-02-24T11:53:05.456Z"
   },
   {
    "duration": 169,
    "start_time": "2022-02-24T11:53:05.470Z"
   },
   {
    "duration": 51,
    "start_time": "2022-02-24T11:53:05.641Z"
   },
   {
    "duration": 7,
    "start_time": "2022-02-24T11:53:05.694Z"
   },
   {
    "duration": 18,
    "start_time": "2022-02-24T11:53:05.703Z"
   },
   {
    "duration": 3,
    "start_time": "2022-02-24T11:53:05.723Z"
   },
   {
    "duration": 18,
    "start_time": "2022-02-24T11:53:05.728Z"
   },
   {
    "duration": 3,
    "start_time": "2022-02-24T11:53:05.747Z"
   },
   {
    "duration": 9,
    "start_time": "2022-02-24T11:53:05.752Z"
   },
   {
    "duration": 17,
    "start_time": "2022-02-24T11:53:05.762Z"
   },
   {
    "duration": 275,
    "start_time": "2022-02-24T11:53:05.781Z"
   },
   {
    "duration": 6,
    "start_time": "2022-02-24T11:53:06.057Z"
   },
   {
    "duration": 25,
    "start_time": "2022-02-24T11:53:06.064Z"
   },
   {
    "duration": 319,
    "start_time": "2022-02-24T11:53:06.091Z"
   },
   {
    "duration": 218,
    "start_time": "2022-02-24T11:53:06.411Z"
   },
   {
    "duration": 5,
    "start_time": "2022-02-24T11:53:06.631Z"
   },
   {
    "duration": 276,
    "start_time": "2022-02-24T11:53:06.645Z"
   },
   {
    "duration": 3,
    "start_time": "2022-02-24T11:53:06.923Z"
   },
   {
    "duration": 513,
    "start_time": "2022-02-24T11:53:06.929Z"
   },
   {
    "duration": 491,
    "start_time": "2022-02-24T11:53:07.444Z"
   },
   {
    "duration": 519,
    "start_time": "2022-02-24T11:53:07.936Z"
   },
   {
    "duration": 6,
    "start_time": "2022-02-24T11:53:08.457Z"
   },
   {
    "duration": 7,
    "start_time": "2022-02-24T11:53:08.465Z"
   },
   {
    "duration": 458,
    "start_time": "2022-02-24T11:53:08.474Z"
   },
   {
    "duration": 200,
    "start_time": "2022-02-24T11:53:08.934Z"
   },
   {
    "duration": 10,
    "start_time": "2022-02-24T11:53:09.136Z"
   },
   {
    "duration": 312,
    "start_time": "2022-02-24T11:53:09.147Z"
   },
   {
    "duration": 480,
    "start_time": "2022-02-24T11:53:09.460Z"
   },
   {
    "duration": 281,
    "start_time": "2022-02-24T11:53:09.942Z"
   },
   {
    "duration": 3,
    "start_time": "2022-02-24T11:53:10.225Z"
   },
   {
    "duration": 19,
    "start_time": "2022-02-24T11:53:10.229Z"
   },
   {
    "duration": 7,
    "start_time": "2022-02-24T11:53:10.250Z"
   },
   {
    "duration": -530,
    "start_time": "2022-02-24T11:54:02.305Z"
   },
   {
    "duration": 36,
    "start_time": "2022-02-24T11:54:17.018Z"
   },
   {
    "duration": 94,
    "start_time": "2022-02-24T11:54:57.702Z"
   },
   {
    "duration": 43,
    "start_time": "2022-02-24T11:55:01.199Z"
   },
   {
    "duration": 2882,
    "start_time": "2022-02-24T11:55:38.673Z"
   },
   {
    "duration": 3687,
    "start_time": "2022-02-24T12:03:14.917Z"
   },
   {
    "duration": 6,
    "start_time": "2022-02-24T12:03:21.013Z"
   },
   {
    "duration": 2896,
    "start_time": "2022-02-24T12:03:28.165Z"
   },
   {
    "duration": 3207,
    "start_time": "2022-02-24T12:04:00.331Z"
   },
   {
    "duration": 39,
    "start_time": "2022-02-24T14:13:34.729Z"
   },
   {
    "duration": 5,
    "start_time": "2022-02-24T14:13:44.306Z"
   },
   {
    "duration": 37,
    "start_time": "2022-02-24T14:13:52.333Z"
   },
   {
    "duration": 37,
    "start_time": "2022-02-24T14:13:59.912Z"
   },
   {
    "duration": 8,
    "start_time": "2022-02-24T14:14:20.577Z"
   },
   {
    "duration": 5,
    "start_time": "2022-02-24T14:14:23.206Z"
   },
   {
    "duration": 3,
    "start_time": "2022-02-24T14:14:30.840Z"
   },
   {
    "duration": 12,
    "start_time": "2022-02-24T14:14:30.844Z"
   },
   {
    "duration": 52,
    "start_time": "2022-02-24T14:14:30.858Z"
   },
   {
    "duration": 16,
    "start_time": "2022-02-24T14:14:30.912Z"
   },
   {
    "duration": 17,
    "start_time": "2022-02-24T14:14:30.929Z"
   },
   {
    "duration": 26,
    "start_time": "2022-02-24T14:14:30.947Z"
   },
   {
    "duration": 40,
    "start_time": "2022-02-24T14:14:30.974Z"
   },
   {
    "duration": 13,
    "start_time": "2022-02-24T14:14:31.016Z"
   },
   {
    "duration": 17,
    "start_time": "2022-02-24T14:14:31.031Z"
   },
   {
    "duration": 160,
    "start_time": "2022-02-24T14:14:31.050Z"
   },
   {
    "duration": 17,
    "start_time": "2022-02-24T14:14:31.211Z"
   },
   {
    "duration": 5,
    "start_time": "2022-02-24T14:14:31.229Z"
   },
   {
    "duration": 5,
    "start_time": "2022-02-24T14:14:31.246Z"
   },
   {
    "duration": 14,
    "start_time": "2022-02-24T14:14:31.252Z"
   },
   {
    "duration": 430,
    "start_time": "2022-02-24T14:14:31.268Z"
   },
   {
    "duration": -259,
    "start_time": "2022-02-24T14:14:31.959Z"
   },
   {
    "duration": -260,
    "start_time": "2022-02-24T14:14:31.961Z"
   },
   {
    "duration": -259,
    "start_time": "2022-02-24T14:14:31.962Z"
   },
   {
    "duration": -260,
    "start_time": "2022-02-24T14:14:31.964Z"
   },
   {
    "duration": -261,
    "start_time": "2022-02-24T14:14:31.966Z"
   },
   {
    "duration": -260,
    "start_time": "2022-02-24T14:14:31.967Z"
   },
   {
    "duration": -261,
    "start_time": "2022-02-24T14:14:31.969Z"
   },
   {
    "duration": -261,
    "start_time": "2022-02-24T14:14:31.970Z"
   },
   {
    "duration": -265,
    "start_time": "2022-02-24T14:14:31.975Z"
   },
   {
    "duration": -266,
    "start_time": "2022-02-24T14:14:31.977Z"
   },
   {
    "duration": -266,
    "start_time": "2022-02-24T14:14:31.978Z"
   },
   {
    "duration": -267,
    "start_time": "2022-02-24T14:14:31.980Z"
   },
   {
    "duration": -267,
    "start_time": "2022-02-24T14:14:31.981Z"
   },
   {
    "duration": -268,
    "start_time": "2022-02-24T14:14:31.983Z"
   },
   {
    "duration": -269,
    "start_time": "2022-02-24T14:14:31.985Z"
   },
   {
    "duration": -269,
    "start_time": "2022-02-24T14:14:31.986Z"
   },
   {
    "duration": -270,
    "start_time": "2022-02-24T14:14:31.988Z"
   },
   {
    "duration": -270,
    "start_time": "2022-02-24T14:14:31.989Z"
   },
   {
    "duration": -272,
    "start_time": "2022-02-24T14:14:31.991Z"
   },
   {
    "duration": -272,
    "start_time": "2022-02-24T14:14:31.992Z"
   },
   {
    "duration": -272,
    "start_time": "2022-02-24T14:14:31.994Z"
   },
   {
    "duration": -272,
    "start_time": "2022-02-24T14:14:31.995Z"
   },
   {
    "duration": -272,
    "start_time": "2022-02-24T14:14:31.997Z"
   },
   {
    "duration": -272,
    "start_time": "2022-02-24T14:14:31.998Z"
   },
   {
    "duration": -273,
    "start_time": "2022-02-24T14:14:32.000Z"
   },
   {
    "duration": -273,
    "start_time": "2022-02-24T14:14:32.002Z"
   },
   {
    "duration": 3,
    "start_time": "2022-02-24T14:14:58.401Z"
   },
   {
    "duration": 4,
    "start_time": "2022-02-24T14:14:58.406Z"
   },
   {
    "duration": 46,
    "start_time": "2022-02-24T14:14:58.413Z"
   },
   {
    "duration": 23,
    "start_time": "2022-02-24T14:14:58.461Z"
   },
   {
    "duration": 14,
    "start_time": "2022-02-24T14:14:58.485Z"
   },
   {
    "duration": 3,
    "start_time": "2022-02-24T14:14:58.501Z"
   },
   {
    "duration": 44,
    "start_time": "2022-02-24T14:14:58.505Z"
   },
   {
    "duration": 5,
    "start_time": "2022-02-24T14:14:58.552Z"
   },
   {
    "duration": 12,
    "start_time": "2022-02-24T14:14:58.558Z"
   },
   {
    "duration": 182,
    "start_time": "2022-02-24T14:14:58.571Z"
   },
   {
    "duration": 17,
    "start_time": "2022-02-24T14:14:58.755Z"
   },
   {
    "duration": 4,
    "start_time": "2022-02-24T14:14:58.774Z"
   },
   {
    "duration": 10,
    "start_time": "2022-02-24T14:14:58.780Z"
   },
   {
    "duration": 8,
    "start_time": "2022-02-24T14:14:58.792Z"
   },
   {
    "duration": 287,
    "start_time": "2022-02-24T14:14:58.802Z"
   },
   {
    "duration": -259,
    "start_time": "2022-02-24T14:14:59.350Z"
   },
   {
    "duration": -260,
    "start_time": "2022-02-24T14:14:59.352Z"
   },
   {
    "duration": -262,
    "start_time": "2022-02-24T14:14:59.354Z"
   },
   {
    "duration": -263,
    "start_time": "2022-02-24T14:14:59.356Z"
   },
   {
    "duration": -264,
    "start_time": "2022-02-24T14:14:59.358Z"
   },
   {
    "duration": -265,
    "start_time": "2022-02-24T14:14:59.360Z"
   },
   {
    "duration": -266,
    "start_time": "2022-02-24T14:14:59.362Z"
   },
   {
    "duration": -266,
    "start_time": "2022-02-24T14:14:59.363Z"
   },
   {
    "duration": -267,
    "start_time": "2022-02-24T14:14:59.365Z"
   },
   {
    "duration": -267,
    "start_time": "2022-02-24T14:14:59.366Z"
   },
   {
    "duration": -269,
    "start_time": "2022-02-24T14:14:59.368Z"
   },
   {
    "duration": -270,
    "start_time": "2022-02-24T14:14:59.370Z"
   },
   {
    "duration": -269,
    "start_time": "2022-02-24T14:14:59.371Z"
   },
   {
    "duration": -270,
    "start_time": "2022-02-24T14:14:59.373Z"
   },
   {
    "duration": -271,
    "start_time": "2022-02-24T14:14:59.375Z"
   },
   {
    "duration": -275,
    "start_time": "2022-02-24T14:14:59.380Z"
   },
   {
    "duration": -276,
    "start_time": "2022-02-24T14:14:59.382Z"
   },
   {
    "duration": -276,
    "start_time": "2022-02-24T14:14:59.383Z"
   },
   {
    "duration": -277,
    "start_time": "2022-02-24T14:14:59.385Z"
   },
   {
    "duration": -278,
    "start_time": "2022-02-24T14:14:59.387Z"
   },
   {
    "duration": -279,
    "start_time": "2022-02-24T14:14:59.388Z"
   },
   {
    "duration": -280,
    "start_time": "2022-02-24T14:14:59.390Z"
   },
   {
    "duration": -280,
    "start_time": "2022-02-24T14:14:59.392Z"
   },
   {
    "duration": -280,
    "start_time": "2022-02-24T14:14:59.393Z"
   },
   {
    "duration": -281,
    "start_time": "2022-02-24T14:14:59.395Z"
   },
   {
    "duration": -282,
    "start_time": "2022-02-24T14:14:59.396Z"
   },
   {
    "duration": 988,
    "start_time": "2022-02-24T14:15:34.420Z"
   },
   {
    "duration": 3,
    "start_time": "2022-02-24T14:15:35.409Z"
   },
   {
    "duration": 40,
    "start_time": "2022-02-24T14:15:35.417Z"
   },
   {
    "duration": 20,
    "start_time": "2022-02-24T14:15:35.459Z"
   },
   {
    "duration": 11,
    "start_time": "2022-02-24T14:15:35.480Z"
   },
   {
    "duration": 3,
    "start_time": "2022-02-24T14:15:35.493Z"
   },
   {
    "duration": 39,
    "start_time": "2022-02-24T14:15:35.498Z"
   },
   {
    "duration": 5,
    "start_time": "2022-02-24T14:15:35.538Z"
   },
   {
    "duration": 23,
    "start_time": "2022-02-24T14:15:35.545Z"
   },
   {
    "duration": 181,
    "start_time": "2022-02-24T14:15:35.570Z"
   },
   {
    "duration": 18,
    "start_time": "2022-02-24T14:15:35.753Z"
   },
   {
    "duration": 4,
    "start_time": "2022-02-24T14:15:35.773Z"
   },
   {
    "duration": 16,
    "start_time": "2022-02-24T14:15:35.779Z"
   },
   {
    "duration": 34,
    "start_time": "2022-02-24T14:15:35.797Z"
   },
   {
    "duration": 470,
    "start_time": "2022-02-24T14:15:35.832Z"
   },
   {
    "duration": -256,
    "start_time": "2022-02-24T14:15:36.561Z"
   },
   {
    "duration": -261,
    "start_time": "2022-02-24T14:15:36.566Z"
   },
   {
    "duration": -262,
    "start_time": "2022-02-24T14:15:36.568Z"
   },
   {
    "duration": -263,
    "start_time": "2022-02-24T14:15:36.570Z"
   },
   {
    "duration": -263,
    "start_time": "2022-02-24T14:15:36.571Z"
   },
   {
    "duration": -265,
    "start_time": "2022-02-24T14:15:36.573Z"
   },
   {
    "duration": -265,
    "start_time": "2022-02-24T14:15:36.574Z"
   },
   {
    "duration": -268,
    "start_time": "2022-02-24T14:15:36.579Z"
   },
   {
    "duration": -269,
    "start_time": "2022-02-24T14:15:36.580Z"
   },
   {
    "duration": -270,
    "start_time": "2022-02-24T14:15:36.582Z"
   },
   {
    "duration": -270,
    "start_time": "2022-02-24T14:15:36.583Z"
   },
   {
    "duration": -271,
    "start_time": "2022-02-24T14:15:36.585Z"
   },
   {
    "duration": -272,
    "start_time": "2022-02-24T14:15:36.587Z"
   },
   {
    "duration": -274,
    "start_time": "2022-02-24T14:15:36.589Z"
   },
   {
    "duration": -274,
    "start_time": "2022-02-24T14:15:36.590Z"
   },
   {
    "duration": -275,
    "start_time": "2022-02-24T14:15:36.592Z"
   },
   {
    "duration": -275,
    "start_time": "2022-02-24T14:15:36.593Z"
   },
   {
    "duration": -276,
    "start_time": "2022-02-24T14:15:36.595Z"
   },
   {
    "duration": -277,
    "start_time": "2022-02-24T14:15:36.596Z"
   },
   {
    "duration": -278,
    "start_time": "2022-02-24T14:15:36.598Z"
   },
   {
    "duration": -282,
    "start_time": "2022-02-24T14:15:36.603Z"
   },
   {
    "duration": -282,
    "start_time": "2022-02-24T14:15:36.604Z"
   },
   {
    "duration": -283,
    "start_time": "2022-02-24T14:15:36.606Z"
   },
   {
    "duration": -283,
    "start_time": "2022-02-24T14:15:36.607Z"
   },
   {
    "duration": -284,
    "start_time": "2022-02-24T14:15:36.609Z"
   },
   {
    "duration": -285,
    "start_time": "2022-02-24T14:15:36.610Z"
   },
   {
    "duration": 1052,
    "start_time": "2022-02-24T14:16:08.318Z"
   },
   {
    "duration": 2,
    "start_time": "2022-02-24T14:16:09.372Z"
   },
   {
    "duration": 36,
    "start_time": "2022-02-24T14:16:09.378Z"
   },
   {
    "duration": 18,
    "start_time": "2022-02-24T14:16:09.415Z"
   },
   {
    "duration": 17,
    "start_time": "2022-02-24T14:16:09.434Z"
   },
   {
    "duration": 3,
    "start_time": "2022-02-24T14:16:09.452Z"
   },
   {
    "duration": 18,
    "start_time": "2022-02-24T14:16:09.457Z"
   },
   {
    "duration": 5,
    "start_time": "2022-02-24T14:16:09.477Z"
   },
   {
    "duration": 9,
    "start_time": "2022-02-24T14:16:09.483Z"
   },
   {
    "duration": 178,
    "start_time": "2022-02-24T14:16:09.494Z"
   },
   {
    "duration": 4,
    "start_time": "2022-02-24T14:16:09.673Z"
   },
   {
    "duration": 3734,
    "start_time": "2022-02-24T14:16:09.679Z"
   },
   {
    "duration": -254,
    "start_time": "2022-02-24T14:16:13.669Z"
   },
   {
    "duration": -254,
    "start_time": "2022-02-24T14:16:13.670Z"
   },
   {
    "duration": -254,
    "start_time": "2022-02-24T14:16:13.672Z"
   },
   {
    "duration": -255,
    "start_time": "2022-02-24T14:16:13.674Z"
   },
   {
    "duration": -255,
    "start_time": "2022-02-24T14:16:13.675Z"
   },
   {
    "duration": -256,
    "start_time": "2022-02-24T14:16:13.677Z"
   },
   {
    "duration": -257,
    "start_time": "2022-02-24T14:16:13.679Z"
   },
   {
    "duration": -256,
    "start_time": "2022-02-24T14:16:13.680Z"
   },
   {
    "duration": -257,
    "start_time": "2022-02-24T14:16:13.682Z"
   },
   {
    "duration": -261,
    "start_time": "2022-02-24T14:16:13.687Z"
   },
   {
    "duration": -263,
    "start_time": "2022-02-24T14:16:13.690Z"
   },
   {
    "duration": -263,
    "start_time": "2022-02-24T14:16:13.691Z"
   },
   {
    "duration": -264,
    "start_time": "2022-02-24T14:16:13.693Z"
   },
   {
    "duration": -265,
    "start_time": "2022-02-24T14:16:13.695Z"
   },
   {
    "duration": -266,
    "start_time": "2022-02-24T14:16:13.697Z"
   },
   {
    "duration": -266,
    "start_time": "2022-02-24T14:16:13.698Z"
   },
   {
    "duration": -267,
    "start_time": "2022-02-24T14:16:13.700Z"
   },
   {
    "duration": -270,
    "start_time": "2022-02-24T14:16:13.705Z"
   },
   {
    "duration": -271,
    "start_time": "2022-02-24T14:16:13.706Z"
   },
   {
    "duration": -272,
    "start_time": "2022-02-24T14:16:13.708Z"
   },
   {
    "duration": -272,
    "start_time": "2022-02-24T14:16:13.709Z"
   },
   {
    "duration": -273,
    "start_time": "2022-02-24T14:16:13.711Z"
   },
   {
    "duration": -274,
    "start_time": "2022-02-24T14:16:13.713Z"
   },
   {
    "duration": -274,
    "start_time": "2022-02-24T14:16:13.714Z"
   },
   {
    "duration": -275,
    "start_time": "2022-02-24T14:16:13.716Z"
   },
   {
    "duration": -275,
    "start_time": "2022-02-24T14:16:13.717Z"
   },
   {
    "duration": -276,
    "start_time": "2022-02-24T14:16:13.719Z"
   },
   {
    "duration": -276,
    "start_time": "2022-02-24T14:16:13.720Z"
   },
   {
    "duration": -277,
    "start_time": "2022-02-24T14:16:13.722Z"
   },
   {
    "duration": 1017,
    "start_time": "2022-02-24T14:16:30.793Z"
   },
   {
    "duration": 3,
    "start_time": "2022-02-24T14:16:31.811Z"
   },
   {
    "duration": 41,
    "start_time": "2022-02-24T14:16:31.816Z"
   },
   {
    "duration": 20,
    "start_time": "2022-02-24T14:16:31.859Z"
   },
   {
    "duration": 9,
    "start_time": "2022-02-24T14:16:31.880Z"
   },
   {
    "duration": 3,
    "start_time": "2022-02-24T14:16:31.890Z"
   },
   {
    "duration": 18,
    "start_time": "2022-02-24T14:16:31.894Z"
   },
   {
    "duration": 6,
    "start_time": "2022-02-24T14:16:31.914Z"
   },
   {
    "duration": 30,
    "start_time": "2022-02-24T14:16:31.922Z"
   },
   {
    "duration": 166,
    "start_time": "2022-02-24T14:16:31.954Z"
   },
   {
    "duration": 4,
    "start_time": "2022-02-24T14:16:32.121Z"
   },
   {
    "duration": 9,
    "start_time": "2022-02-24T14:16:32.127Z"
   },
   {
    "duration": 11,
    "start_time": "2022-02-24T14:16:32.138Z"
   },
   {
    "duration": 9,
    "start_time": "2022-02-24T14:16:32.151Z"
   },
   {
    "duration": 4,
    "start_time": "2022-02-24T14:16:32.161Z"
   },
   {
    "duration": 6,
    "start_time": "2022-02-24T14:16:32.167Z"
   },
   {
    "duration": 16,
    "start_time": "2022-02-24T14:16:32.174Z"
   },
   {
    "duration": 9,
    "start_time": "2022-02-24T14:16:32.191Z"
   },
   {
    "duration": 14,
    "start_time": "2022-02-24T14:16:32.202Z"
   },
   {
    "duration": 287,
    "start_time": "2022-02-24T14:16:32.217Z"
   },
   {
    "duration": 7,
    "start_time": "2022-02-24T14:16:32.506Z"
   },
   {
    "duration": 32,
    "start_time": "2022-02-24T14:16:32.514Z"
   },
   {
    "duration": 321,
    "start_time": "2022-02-24T14:16:32.547Z"
   },
   {
    "duration": 224,
    "start_time": "2022-02-24T14:16:32.869Z"
   },
   {
    "duration": 5,
    "start_time": "2022-02-24T14:16:33.094Z"
   },
   {
    "duration": 217,
    "start_time": "2022-02-24T14:16:33.100Z"
   },
   {
    "duration": 2,
    "start_time": "2022-02-24T14:16:33.321Z"
   },
   {
    "duration": 504,
    "start_time": "2022-02-24T14:16:33.325Z"
   },
   {
    "duration": 502,
    "start_time": "2022-02-24T14:16:33.831Z"
   },
   {
    "duration": 702,
    "start_time": "2022-02-24T14:16:34.335Z"
   },
   {
    "duration": 8,
    "start_time": "2022-02-24T14:16:35.039Z"
   },
   {
    "duration": 6,
    "start_time": "2022-02-24T14:16:35.049Z"
   },
   {
    "duration": 286,
    "start_time": "2022-02-24T14:16:35.057Z"
   },
   {
    "duration": 206,
    "start_time": "2022-02-24T14:16:35.345Z"
   },
   {
    "duration": 4,
    "start_time": "2022-02-24T14:16:35.552Z"
   },
   {
    "duration": 315,
    "start_time": "2022-02-24T14:16:35.557Z"
   },
   {
    "duration": 326,
    "start_time": "2022-02-24T14:16:35.873Z"
   },
   {
    "duration": 312,
    "start_time": "2022-02-24T14:16:36.201Z"
   },
   {
    "duration": 2,
    "start_time": "2022-02-24T14:16:36.515Z"
   },
   {
    "duration": 10,
    "start_time": "2022-02-24T14:16:36.519Z"
   },
   {
    "duration": 20,
    "start_time": "2022-02-24T14:16:36.531Z"
   },
   {
    "duration": 519,
    "start_time": "2022-02-24T14:36:14.223Z"
   },
   {
    "duration": 7,
    "start_time": "2022-02-24T14:36:47.993Z"
   },
   {
    "duration": 5,
    "start_time": "2022-02-24T14:37:22.092Z"
   },
   {
    "duration": 6,
    "start_time": "2022-02-24T14:40:23.093Z"
   },
   {
    "duration": 6,
    "start_time": "2022-02-24T14:45:12.335Z"
   },
   {
    "duration": 7,
    "start_time": "2022-02-24T14:45:17.054Z"
   },
   {
    "duration": 7,
    "start_time": "2022-02-24T14:45:26.832Z"
   },
   {
    "duration": 1129,
    "start_time": "2022-02-24T14:45:34.416Z"
   },
   {
    "duration": 3,
    "start_time": "2022-02-24T14:45:35.547Z"
   },
   {
    "duration": 38,
    "start_time": "2022-02-24T14:45:35.552Z"
   },
   {
    "duration": 20,
    "start_time": "2022-02-24T14:45:35.592Z"
   },
   {
    "duration": 10,
    "start_time": "2022-02-24T14:45:35.614Z"
   },
   {
    "duration": 2,
    "start_time": "2022-02-24T14:45:35.626Z"
   },
   {
    "duration": 27,
    "start_time": "2022-02-24T14:45:35.629Z"
   },
   {
    "duration": 4,
    "start_time": "2022-02-24T14:45:35.658Z"
   },
   {
    "duration": 11,
    "start_time": "2022-02-24T14:45:35.664Z"
   },
   {
    "duration": 279,
    "start_time": "2022-02-24T14:45:35.676Z"
   },
   {
    "duration": 3,
    "start_time": "2022-02-24T14:45:35.957Z"
   },
   {
    "duration": 14,
    "start_time": "2022-02-24T14:45:35.962Z"
   },
   {
    "duration": 11,
    "start_time": "2022-02-24T14:45:35.978Z"
   },
   {
    "duration": 10,
    "start_time": "2022-02-24T14:45:35.990Z"
   },
   {
    "duration": 3,
    "start_time": "2022-02-24T14:45:36.002Z"
   },
   {
    "duration": 4,
    "start_time": "2022-02-24T14:45:36.007Z"
   },
   {
    "duration": 12,
    "start_time": "2022-02-24T14:45:36.013Z"
   },
   {
    "duration": 21,
    "start_time": "2022-02-24T14:45:36.027Z"
   },
   {
    "duration": 7,
    "start_time": "2022-02-24T14:45:36.049Z"
   },
   {
    "duration": 5,
    "start_time": "2022-02-24T14:45:36.058Z"
   },
   {
    "duration": 11,
    "start_time": "2022-02-24T14:45:36.065Z"
   },
   {
    "duration": 284,
    "start_time": "2022-02-24T14:45:36.078Z"
   },
   {
    "duration": 6,
    "start_time": "2022-02-24T14:45:36.365Z"
   },
   {
    "duration": 27,
    "start_time": "2022-02-24T14:45:36.373Z"
   },
   {
    "duration": 327,
    "start_time": "2022-02-24T14:45:36.402Z"
   },
   {
    "duration": 226,
    "start_time": "2022-02-24T14:45:36.731Z"
   },
   {
    "duration": 4,
    "start_time": "2022-02-24T14:45:36.959Z"
   },
   {
    "duration": 403,
    "start_time": "2022-02-24T14:45:36.965Z"
   },
   {
    "duration": 3,
    "start_time": "2022-02-24T14:45:37.370Z"
   },
   {
    "duration": 666,
    "start_time": "2022-02-24T14:45:37.374Z"
   },
   {
    "duration": 621,
    "start_time": "2022-02-24T14:45:38.046Z"
   },
   {
    "duration": 573,
    "start_time": "2022-02-24T14:45:38.669Z"
   },
   {
    "duration": 5,
    "start_time": "2022-02-24T14:45:39.246Z"
   },
   {
    "duration": 30,
    "start_time": "2022-02-24T14:45:39.252Z"
   },
   {
    "duration": 272,
    "start_time": "2022-02-24T14:45:39.284Z"
   },
   {
    "duration": 207,
    "start_time": "2022-02-24T14:45:39.558Z"
   },
   {
    "duration": 6,
    "start_time": "2022-02-24T14:45:39.768Z"
   },
   {
    "duration": 542,
    "start_time": "2022-02-24T14:45:39.776Z"
   },
   {
    "duration": 393,
    "start_time": "2022-02-24T14:45:40.320Z"
   },
   {
    "duration": 376,
    "start_time": "2022-02-24T14:45:40.715Z"
   },
   {
    "duration": 2,
    "start_time": "2022-02-24T14:45:41.094Z"
   },
   {
    "duration": 16,
    "start_time": "2022-02-24T14:45:41.098Z"
   },
   {
    "duration": 55,
    "start_time": "2022-02-24T14:45:41.116Z"
   },
   {
    "duration": 7,
    "start_time": "2022-02-24T14:45:48.257Z"
   },
   {
    "duration": 8,
    "start_time": "2022-02-24T14:46:22.288Z"
   },
   {
    "duration": 7,
    "start_time": "2022-02-24T14:46:26.334Z"
   },
   {
    "duration": 8,
    "start_time": "2022-02-24T14:46:30.744Z"
   },
   {
    "duration": 11,
    "start_time": "2022-02-24T14:47:51.860Z"
   },
   {
    "duration": 8,
    "start_time": "2022-02-24T14:48:34.869Z"
   },
   {
    "duration": 11,
    "start_time": "2022-02-24T14:48:43.332Z"
   },
   {
    "duration": 10,
    "start_time": "2022-02-24T14:48:49.118Z"
   },
   {
    "duration": 10,
    "start_time": "2022-02-24T14:49:08.787Z"
   },
   {
    "duration": 11,
    "start_time": "2022-02-24T14:49:11.277Z"
   },
   {
    "duration": 10,
    "start_time": "2022-02-24T14:49:43.137Z"
   },
   {
    "duration": 10,
    "start_time": "2022-02-24T14:49:49.256Z"
   },
   {
    "duration": 10,
    "start_time": "2022-02-24T14:49:52.281Z"
   },
   {
    "duration": 17,
    "start_time": "2022-02-24T14:50:18.515Z"
   },
   {
    "duration": 10,
    "start_time": "2022-02-24T14:50:28.507Z"
   },
   {
    "duration": 11,
    "start_time": "2022-02-24T14:50:33.493Z"
   },
   {
    "duration": 933,
    "start_time": "2022-02-24T14:50:51.386Z"
   },
   {
    "duration": 3,
    "start_time": "2022-02-24T14:50:52.320Z"
   },
   {
    "duration": 43,
    "start_time": "2022-02-24T14:50:52.324Z"
   },
   {
    "duration": 21,
    "start_time": "2022-02-24T14:50:52.369Z"
   },
   {
    "duration": 9,
    "start_time": "2022-02-24T14:50:52.392Z"
   },
   {
    "duration": 3,
    "start_time": "2022-02-24T14:50:52.402Z"
   },
   {
    "duration": 18,
    "start_time": "2022-02-24T14:50:52.406Z"
   },
   {
    "duration": 20,
    "start_time": "2022-02-24T14:50:52.427Z"
   },
   {
    "duration": 9,
    "start_time": "2022-02-24T14:50:52.449Z"
   },
   {
    "duration": 162,
    "start_time": "2022-02-24T14:50:52.459Z"
   },
   {
    "duration": 4,
    "start_time": "2022-02-24T14:50:52.623Z"
   },
   {
    "duration": 7,
    "start_time": "2022-02-24T14:50:52.628Z"
   },
   {
    "duration": 5,
    "start_time": "2022-02-24T14:50:52.645Z"
   },
   {
    "duration": 8,
    "start_time": "2022-02-24T14:50:52.651Z"
   },
   {
    "duration": 3,
    "start_time": "2022-02-24T14:50:52.661Z"
   },
   {
    "duration": 11,
    "start_time": "2022-02-24T14:50:52.666Z"
   },
   {
    "duration": 3,
    "start_time": "2022-02-24T14:50:52.679Z"
   },
   {
    "duration": 8,
    "start_time": "2022-02-24T14:50:52.683Z"
   },
   {
    "duration": 11,
    "start_time": "2022-02-24T14:50:52.692Z"
   },
   {
    "duration": 9,
    "start_time": "2022-02-24T14:50:52.705Z"
   },
   {
    "duration": 7,
    "start_time": "2022-02-24T14:50:52.746Z"
   },
   {
    "duration": 6,
    "start_time": "2022-02-24T14:50:52.754Z"
   },
   {
    "duration": 12,
    "start_time": "2022-02-24T14:50:52.764Z"
   },
   {
    "duration": 271,
    "start_time": "2022-02-24T14:50:52.778Z"
   },
   {
    "duration": 6,
    "start_time": "2022-02-24T14:50:53.050Z"
   },
   {
    "duration": 20,
    "start_time": "2022-02-24T14:50:53.057Z"
   },
   {
    "duration": 387,
    "start_time": "2022-02-24T14:50:53.079Z"
   },
   {
    "duration": 229,
    "start_time": "2022-02-24T14:50:53.467Z"
   },
   {
    "duration": 5,
    "start_time": "2022-02-24T14:50:53.697Z"
   },
   {
    "duration": 221,
    "start_time": "2022-02-24T14:50:53.704Z"
   },
   {
    "duration": 4,
    "start_time": "2022-02-24T14:50:53.927Z"
   },
   {
    "duration": 593,
    "start_time": "2022-02-24T14:50:53.932Z"
   },
   {
    "duration": 704,
    "start_time": "2022-02-24T14:50:54.526Z"
   },
   {
    "duration": 514,
    "start_time": "2022-02-24T14:50:55.232Z"
   },
   {
    "duration": 5,
    "start_time": "2022-02-24T14:50:55.747Z"
   },
   {
    "duration": 8,
    "start_time": "2022-02-24T14:50:55.753Z"
   },
   {
    "duration": 272,
    "start_time": "2022-02-24T14:50:55.763Z"
   },
   {
    "duration": 210,
    "start_time": "2022-02-24T14:50:56.036Z"
   },
   {
    "duration": 4,
    "start_time": "2022-02-24T14:50:56.248Z"
   },
   {
    "duration": 329,
    "start_time": "2022-02-24T14:50:56.254Z"
   },
   {
    "duration": 333,
    "start_time": "2022-02-24T14:50:56.585Z"
   },
   {
    "duration": 314,
    "start_time": "2022-02-24T14:50:56.919Z"
   },
   {
    "duration": 2,
    "start_time": "2022-02-24T14:50:57.235Z"
   },
   {
    "duration": 21,
    "start_time": "2022-02-24T14:50:57.238Z"
   },
   {
    "duration": 15,
    "start_time": "2022-02-24T14:50:57.260Z"
   },
   {
    "duration": 12,
    "start_time": "2022-02-24T14:51:04.950Z"
   },
   {
    "duration": 11,
    "start_time": "2022-02-24T14:51:12.109Z"
   },
   {
    "duration": 10,
    "start_time": "2022-02-24T14:51:34.827Z"
   },
   {
    "duration": 1070,
    "start_time": "2022-02-24T14:51:52.039Z"
   },
   {
    "duration": 3,
    "start_time": "2022-02-24T14:51:53.111Z"
   },
   {
    "duration": 38,
    "start_time": "2022-02-24T14:51:53.115Z"
   },
   {
    "duration": 19,
    "start_time": "2022-02-24T14:51:53.155Z"
   },
   {
    "duration": 9,
    "start_time": "2022-02-24T14:51:53.175Z"
   },
   {
    "duration": 5,
    "start_time": "2022-02-24T14:51:53.185Z"
   },
   {
    "duration": 19,
    "start_time": "2022-02-24T14:51:53.192Z"
   },
   {
    "duration": 5,
    "start_time": "2022-02-24T14:51:53.213Z"
   },
   {
    "duration": 32,
    "start_time": "2022-02-24T14:51:53.219Z"
   },
   {
    "duration": 154,
    "start_time": "2022-02-24T14:51:53.253Z"
   },
   {
    "duration": 4,
    "start_time": "2022-02-24T14:51:53.409Z"
   },
   {
    "duration": 12,
    "start_time": "2022-02-24T14:51:53.414Z"
   },
   {
    "duration": 14,
    "start_time": "2022-02-24T14:51:53.427Z"
   },
   {
    "duration": 26,
    "start_time": "2022-02-24T14:51:53.443Z"
   },
   {
    "duration": 7,
    "start_time": "2022-02-24T14:51:53.471Z"
   },
   {
    "duration": 7,
    "start_time": "2022-02-24T14:51:53.480Z"
   },
   {
    "duration": 17,
    "start_time": "2022-02-24T14:51:53.488Z"
   },
   {
    "duration": 11,
    "start_time": "2022-02-24T14:51:53.507Z"
   },
   {
    "duration": 27,
    "start_time": "2022-02-24T14:51:53.519Z"
   },
   {
    "duration": 8,
    "start_time": "2022-02-24T14:51:53.548Z"
   },
   {
    "duration": 14,
    "start_time": "2022-02-24T14:51:53.557Z"
   },
   {
    "duration": 293,
    "start_time": "2022-02-24T14:51:53.572Z"
   },
   {
    "duration": 6,
    "start_time": "2022-02-24T14:51:53.868Z"
   },
   {
    "duration": 22,
    "start_time": "2022-02-24T14:51:53.875Z"
   },
   {
    "duration": 336,
    "start_time": "2022-02-24T14:51:53.898Z"
   },
   {
    "duration": 221,
    "start_time": "2022-02-24T14:51:54.235Z"
   },
   {
    "duration": 5,
    "start_time": "2022-02-24T14:51:54.458Z"
   },
   {
    "duration": 316,
    "start_time": "2022-02-24T14:51:54.465Z"
   },
   {
    "duration": 3,
    "start_time": "2022-02-24T14:51:54.782Z"
   },
   {
    "duration": 646,
    "start_time": "2022-02-24T14:51:54.786Z"
   },
   {
    "duration": 508,
    "start_time": "2022-02-24T14:51:55.434Z"
   },
   {
    "duration": 562,
    "start_time": "2022-02-24T14:51:55.946Z"
   },
   {
    "duration": 6,
    "start_time": "2022-02-24T14:51:56.510Z"
   },
   {
    "duration": 11,
    "start_time": "2022-02-24T14:51:56.517Z"
   },
   {
    "duration": 205,
    "start_time": "2022-02-24T14:51:56.529Z"
   },
   {
    "duration": 256,
    "start_time": "2022-02-24T14:51:56.735Z"
   },
   {
    "duration": 3,
    "start_time": "2022-02-24T14:51:56.993Z"
   },
   {
    "duration": 311,
    "start_time": "2022-02-24T14:51:56.997Z"
   },
   {
    "duration": 318,
    "start_time": "2022-02-24T14:51:57.310Z"
   },
   {
    "duration": 306,
    "start_time": "2022-02-24T14:51:57.630Z"
   },
   {
    "duration": 9,
    "start_time": "2022-02-24T14:51:57.937Z"
   },
   {
    "duration": 24,
    "start_time": "2022-02-24T14:51:57.948Z"
   },
   {
    "duration": 18,
    "start_time": "2022-02-24T14:51:57.973Z"
   },
   {
    "duration": 7,
    "start_time": "2022-02-24T14:52:16.855Z"
   },
   {
    "duration": 6,
    "start_time": "2022-02-24T14:52:19.766Z"
   },
   {
    "duration": 11,
    "start_time": "2022-02-24T14:53:00.349Z"
   },
   {
    "duration": 12,
    "start_time": "2022-02-24T14:53:08.193Z"
   },
   {
    "duration": 11,
    "start_time": "2022-02-24T15:00:40.822Z"
   },
   {
    "duration": 390,
    "start_time": "2022-02-24T15:03:08.739Z"
   },
   {
    "duration": 6,
    "start_time": "2022-02-24T15:03:16.795Z"
   },
   {
    "duration": 9,
    "start_time": "2022-02-24T15:03:23.903Z"
   },
   {
    "duration": 7,
    "start_time": "2022-02-24T15:03:36.202Z"
   },
   {
    "duration": 6,
    "start_time": "2022-02-24T15:04:06.230Z"
   },
   {
    "duration": 9,
    "start_time": "2022-02-24T15:04:11.422Z"
   },
   {
    "duration": 7,
    "start_time": "2022-02-24T15:04:41.006Z"
   },
   {
    "duration": 9,
    "start_time": "2022-02-24T15:04:47.110Z"
   },
   {
    "duration": 985,
    "start_time": "2022-02-24T15:04:56.030Z"
   },
   {
    "duration": 2,
    "start_time": "2022-02-24T15:04:57.017Z"
   },
   {
    "duration": 41,
    "start_time": "2022-02-24T15:04:57.021Z"
   },
   {
    "duration": 20,
    "start_time": "2022-02-24T15:04:57.063Z"
   },
   {
    "duration": 10,
    "start_time": "2022-02-24T15:04:57.084Z"
   },
   {
    "duration": 4,
    "start_time": "2022-02-24T15:04:57.095Z"
   },
   {
    "duration": 17,
    "start_time": "2022-02-24T15:04:57.100Z"
   },
   {
    "duration": 28,
    "start_time": "2022-02-24T15:04:57.119Z"
   },
   {
    "duration": 8,
    "start_time": "2022-02-24T15:04:57.148Z"
   },
   {
    "duration": 162,
    "start_time": "2022-02-24T15:04:57.157Z"
   },
   {
    "duration": 4,
    "start_time": "2022-02-24T15:04:57.321Z"
   },
   {
    "duration": 8,
    "start_time": "2022-02-24T15:04:57.326Z"
   },
   {
    "duration": 12,
    "start_time": "2022-02-24T15:04:57.335Z"
   },
   {
    "duration": 9,
    "start_time": "2022-02-24T15:04:57.348Z"
   },
   {
    "duration": 5,
    "start_time": "2022-02-24T15:04:57.358Z"
   },
   {
    "duration": 5,
    "start_time": "2022-02-24T15:04:57.365Z"
   },
   {
    "duration": 8,
    "start_time": "2022-02-24T15:04:57.371Z"
   },
   {
    "duration": 6,
    "start_time": "2022-02-24T15:04:57.380Z"
   },
   {
    "duration": 13,
    "start_time": "2022-02-24T15:04:57.388Z"
   },
   {
    "duration": 290,
    "start_time": "2022-02-24T15:04:57.402Z"
   },
   {
    "duration": 7,
    "start_time": "2022-02-24T15:04:57.694Z"
   },
   {
    "duration": 22,
    "start_time": "2022-02-24T15:04:57.702Z"
   },
   {
    "duration": 328,
    "start_time": "2022-02-24T15:04:57.728Z"
   },
   {
    "duration": 224,
    "start_time": "2022-02-24T15:04:58.058Z"
   },
   {
    "duration": 5,
    "start_time": "2022-02-24T15:04:58.283Z"
   },
   {
    "duration": 229,
    "start_time": "2022-02-24T15:04:58.290Z"
   },
   {
    "duration": 3,
    "start_time": "2022-02-24T15:04:58.521Z"
   },
   {
    "duration": 510,
    "start_time": "2022-02-24T15:04:58.526Z"
   },
   {
    "duration": 511,
    "start_time": "2022-02-24T15:04:59.038Z"
   },
   {
    "duration": 474,
    "start_time": "2022-02-24T15:04:59.551Z"
   },
   {
    "duration": 4,
    "start_time": "2022-02-24T15:05:00.026Z"
   },
   {
    "duration": 16,
    "start_time": "2022-02-24T15:05:00.032Z"
   },
   {
    "duration": 280,
    "start_time": "2022-02-24T15:05:00.050Z"
   },
   {
    "duration": 208,
    "start_time": "2022-02-24T15:05:00.331Z"
   },
   {
    "duration": 8,
    "start_time": "2022-02-24T15:05:00.540Z"
   },
   {
    "duration": 328,
    "start_time": "2022-02-24T15:05:00.549Z"
   },
   {
    "duration": 328,
    "start_time": "2022-02-24T15:05:00.879Z"
   },
   {
    "duration": 351,
    "start_time": "2022-02-24T15:05:01.208Z"
   },
   {
    "duration": 3,
    "start_time": "2022-02-24T15:05:01.561Z"
   },
   {
    "duration": 25,
    "start_time": "2022-02-24T15:05:01.566Z"
   },
   {
    "duration": 12,
    "start_time": "2022-02-24T15:05:01.593Z"
   },
   {
    "duration": 569,
    "start_time": "2022-02-25T13:42:03.517Z"
   },
   {
    "duration": 1469,
    "start_time": "2022-02-25T13:42:07.543Z"
   },
   {
    "duration": 4,
    "start_time": "2022-02-25T13:42:09.015Z"
   },
   {
    "duration": 53,
    "start_time": "2022-02-25T13:42:09.022Z"
   },
   {
    "duration": 42,
    "start_time": "2022-02-25T13:42:09.078Z"
   },
   {
    "duration": 14,
    "start_time": "2022-02-25T13:42:09.122Z"
   },
   {
    "duration": 3,
    "start_time": "2022-02-25T13:42:09.139Z"
   },
   {
    "duration": 35,
    "start_time": "2022-02-25T13:42:09.145Z"
   },
   {
    "duration": 6,
    "start_time": "2022-02-25T13:42:09.210Z"
   },
   {
    "duration": 24,
    "start_time": "2022-02-25T13:42:09.220Z"
   },
   {
    "duration": 299,
    "start_time": "2022-02-25T13:42:09.247Z"
   },
   {
    "duration": 6,
    "start_time": "2022-02-25T13:42:09.549Z"
   },
   {
    "duration": 14,
    "start_time": "2022-02-25T13:42:09.557Z"
   },
   {
    "duration": 6,
    "start_time": "2022-02-25T13:42:09.574Z"
   },
   {
    "duration": 34,
    "start_time": "2022-02-25T13:42:09.583Z"
   },
   {
    "duration": 9,
    "start_time": "2022-02-25T13:42:09.619Z"
   },
   {
    "duration": 10,
    "start_time": "2022-02-25T13:42:09.630Z"
   },
   {
    "duration": 10116,
    "start_time": "2022-02-25T13:42:09.643Z"
   },
   {
    "duration": -1425,
    "start_time": "2022-02-25T13:42:21.188Z"
   },
   {
    "duration": -1426,
    "start_time": "2022-02-25T13:42:21.190Z"
   },
   {
    "duration": -1425,
    "start_time": "2022-02-25T13:42:21.192Z"
   },
   {
    "duration": -1425,
    "start_time": "2022-02-25T13:42:21.194Z"
   },
   {
    "duration": -1425,
    "start_time": "2022-02-25T13:42:21.196Z"
   },
   {
    "duration": -1427,
    "start_time": "2022-02-25T13:42:21.201Z"
   },
   {
    "duration": -1426,
    "start_time": "2022-02-25T13:42:21.202Z"
   },
   {
    "duration": -1428,
    "start_time": "2022-02-25T13:42:21.206Z"
   },
   {
    "duration": -1428,
    "start_time": "2022-02-25T13:42:21.208Z"
   },
   {
    "duration": -1430,
    "start_time": "2022-02-25T13:42:21.212Z"
   },
   {
    "duration": -1430,
    "start_time": "2022-02-25T13:42:21.214Z"
   },
   {
    "duration": -1430,
    "start_time": "2022-02-25T13:42:21.216Z"
   },
   {
    "duration": -1432,
    "start_time": "2022-02-25T13:42:21.220Z"
   },
   {
    "duration": -1432,
    "start_time": "2022-02-25T13:42:21.222Z"
   },
   {
    "duration": -1434,
    "start_time": "2022-02-25T13:42:21.227Z"
   },
   {
    "duration": -1433,
    "start_time": "2022-02-25T13:42:21.228Z"
   },
   {
    "duration": -1433,
    "start_time": "2022-02-25T13:42:21.230Z"
   },
   {
    "duration": -1435,
    "start_time": "2022-02-25T13:42:21.234Z"
   },
   {
    "duration": -1436,
    "start_time": "2022-02-25T13:42:21.236Z"
   },
   {
    "duration": -1430,
    "start_time": "2022-02-25T13:42:21.240Z"
   },
   {
    "duration": -1430,
    "start_time": "2022-02-25T13:42:21.242Z"
   },
   {
    "duration": -1431,
    "start_time": "2022-02-25T13:42:21.244Z"
   },
   {
    "duration": -1432,
    "start_time": "2022-02-25T13:42:21.246Z"
   },
   {
    "duration": -1431,
    "start_time": "2022-02-25T13:42:21.247Z"
   },
   {
    "duration": -1432,
    "start_time": "2022-02-25T13:42:21.249Z"
   },
   {
    "duration": 6,
    "start_time": "2022-02-25T13:42:28.054Z"
   },
   {
    "duration": 8,
    "start_time": "2022-02-25T13:42:47.919Z"
   },
   {
    "duration": 1472,
    "start_time": "2022-02-25T13:43:22.880Z"
   },
   {
    "duration": 4,
    "start_time": "2022-02-25T13:43:24.355Z"
   },
   {
    "duration": 61,
    "start_time": "2022-02-25T13:43:24.362Z"
   },
   {
    "duration": 35,
    "start_time": "2022-02-25T13:43:24.426Z"
   },
   {
    "duration": 14,
    "start_time": "2022-02-25T13:43:24.464Z"
   },
   {
    "duration": 4,
    "start_time": "2022-02-25T13:43:24.480Z"
   },
   {
    "duration": 55,
    "start_time": "2022-02-25T13:43:24.486Z"
   },
   {
    "duration": 7,
    "start_time": "2022-02-25T13:43:24.543Z"
   },
   {
    "duration": 13,
    "start_time": "2022-02-25T13:43:24.554Z"
   },
   {
    "duration": 347,
    "start_time": "2022-02-25T13:43:24.570Z"
   },
   {
    "duration": 7,
    "start_time": "2022-02-25T13:43:24.920Z"
   },
   {
    "duration": 7,
    "start_time": "2022-02-25T13:43:24.930Z"
   },
   {
    "duration": 7,
    "start_time": "2022-02-25T13:43:24.940Z"
   },
   {
    "duration": 14,
    "start_time": "2022-02-25T13:43:24.949Z"
   },
   {
    "duration": 48,
    "start_time": "2022-02-25T13:43:24.966Z"
   },
   {
    "duration": 13,
    "start_time": "2022-02-25T13:43:25.017Z"
   },
   {
    "duration": 24,
    "start_time": "2022-02-25T13:43:25.034Z"
   },
   {
    "duration": 514,
    "start_time": "2022-02-25T13:43:25.061Z"
   },
   {
    "duration": 11,
    "start_time": "2022-02-25T13:43:25.578Z"
   },
   {
    "duration": 34,
    "start_time": "2022-02-25T13:43:25.611Z"
   },
   {
    "duration": 599,
    "start_time": "2022-02-25T13:43:25.648Z"
   },
   {
    "duration": 407,
    "start_time": "2022-02-25T13:43:26.249Z"
   },
   {
    "duration": 7,
    "start_time": "2022-02-25T13:43:26.659Z"
   },
   {
    "duration": 415,
    "start_time": "2022-02-25T13:43:26.668Z"
   },
   {
    "duration": 4,
    "start_time": "2022-02-25T13:43:27.085Z"
   },
   {
    "duration": 893,
    "start_time": "2022-02-25T13:43:27.091Z"
   },
   {
    "duration": 1293,
    "start_time": "2022-02-25T13:43:27.989Z"
   },
   {
    "duration": 876,
    "start_time": "2022-02-25T13:43:29.285Z"
   },
   {
    "duration": 7,
    "start_time": "2022-02-25T13:43:30.164Z"
   },
   {
    "duration": 10,
    "start_time": "2022-02-25T13:43:30.173Z"
   },
   {
    "duration": 407,
    "start_time": "2022-02-25T13:43:30.186Z"
   },
   {
    "duration": 459,
    "start_time": "2022-02-25T13:43:30.596Z"
   },
   {
    "duration": 6,
    "start_time": "2022-02-25T13:43:31.058Z"
   },
   {
    "duration": 691,
    "start_time": "2022-02-25T13:43:31.067Z"
   },
   {
    "duration": 621,
    "start_time": "2022-02-25T13:43:31.762Z"
   },
   {
    "duration": 582,
    "start_time": "2022-02-25T13:43:32.386Z"
   },
   {
    "duration": 4,
    "start_time": "2022-02-25T13:43:32.970Z"
   },
   {
    "duration": 17,
    "start_time": "2022-02-25T13:43:32.976Z"
   },
   {
    "duration": 33,
    "start_time": "2022-02-25T13:43:32.995Z"
   },
   {
    "duration": 11,
    "start_time": "2022-02-25T13:44:57.358Z"
   },
   {
    "duration": 1342,
    "start_time": "2022-02-25T13:45:05.936Z"
   },
   {
    "duration": 4,
    "start_time": "2022-02-25T13:45:07.281Z"
   },
   {
    "duration": 67,
    "start_time": "2022-02-25T13:45:07.288Z"
   },
   {
    "duration": 36,
    "start_time": "2022-02-25T13:45:07.358Z"
   },
   {
    "duration": 24,
    "start_time": "2022-02-25T13:45:07.396Z"
   },
   {
    "duration": 4,
    "start_time": "2022-02-25T13:45:07.422Z"
   },
   {
    "duration": 37,
    "start_time": "2022-02-25T13:45:07.429Z"
   },
   {
    "duration": 11,
    "start_time": "2022-02-25T13:45:07.468Z"
   },
   {
    "duration": 49,
    "start_time": "2022-02-25T13:45:07.483Z"
   },
   {
    "duration": 326,
    "start_time": "2022-02-25T13:45:07.535Z"
   },
   {
    "duration": 6,
    "start_time": "2022-02-25T13:45:07.863Z"
   },
   {
    "duration": 9,
    "start_time": "2022-02-25T13:45:07.872Z"
   },
   {
    "duration": 32,
    "start_time": "2022-02-25T13:45:07.884Z"
   },
   {
    "duration": 25,
    "start_time": "2022-02-25T13:45:07.918Z"
   },
   {
    "duration": 12,
    "start_time": "2022-02-25T13:45:07.945Z"
   },
   {
    "duration": 13,
    "start_time": "2022-02-25T13:45:07.959Z"
   },
   {
    "duration": 51,
    "start_time": "2022-02-25T13:45:07.974Z"
   },
   {
    "duration": 506,
    "start_time": "2022-02-25T13:45:08.027Z"
   },
   {
    "duration": 10,
    "start_time": "2022-02-25T13:45:08.536Z"
   },
   {
    "duration": 62,
    "start_time": "2022-02-25T13:45:08.548Z"
   },
   {
    "duration": 609,
    "start_time": "2022-02-25T13:45:08.613Z"
   },
   {
    "duration": 422,
    "start_time": "2022-02-25T13:45:09.224Z"
   },
   {
    "duration": 7,
    "start_time": "2022-02-25T13:45:09.648Z"
   },
   {
    "duration": 419,
    "start_time": "2022-02-25T13:45:09.658Z"
   },
   {
    "duration": 4,
    "start_time": "2022-02-25T13:45:10.080Z"
   },
   {
    "duration": 887,
    "start_time": "2022-02-25T13:45:10.087Z"
   },
   {
    "duration": 904,
    "start_time": "2022-02-25T13:45:10.979Z"
   },
   {
    "duration": 880,
    "start_time": "2022-02-25T13:45:11.888Z"
   },
   {
    "duration": 16,
    "start_time": "2022-02-25T13:45:12.771Z"
   },
   {
    "duration": 153,
    "start_time": "2022-02-25T13:45:12.794Z"
   },
   {
    "duration": 792,
    "start_time": "2022-02-25T13:45:12.950Z"
   },
   {
    "duration": 669,
    "start_time": "2022-02-25T13:45:13.745Z"
   },
   {
    "duration": 9,
    "start_time": "2022-02-25T13:45:14.420Z"
   },
   {
    "duration": 601,
    "start_time": "2022-02-25T13:45:14.432Z"
   },
   {
    "duration": 711,
    "start_time": "2022-02-25T13:45:15.036Z"
   },
   {
    "duration": 571,
    "start_time": "2022-02-25T13:45:15.750Z"
   },
   {
    "duration": 6,
    "start_time": "2022-02-25T13:45:16.326Z"
   },
   {
    "duration": 17,
    "start_time": "2022-02-25T13:45:16.334Z"
   },
   {
    "duration": 20,
    "start_time": "2022-02-25T13:45:16.354Z"
   },
   {
    "duration": 16,
    "start_time": "2022-02-25T18:27:07.235Z"
   },
   {
    "duration": 9,
    "start_time": "2022-02-25T18:27:15.521Z"
   },
   {
    "duration": 15,
    "start_time": "2022-02-25T18:27:46.914Z"
   },
   {
    "duration": 8,
    "start_time": "2022-02-25T18:27:47.743Z"
   },
   {
    "duration": 20,
    "start_time": "2022-02-25T18:27:53.206Z"
   },
   {
    "duration": 15,
    "start_time": "2022-02-25T18:28:07.589Z"
   },
   {
    "duration": 18,
    "start_time": "2022-02-25T18:28:26.115Z"
   },
   {
    "duration": 1464,
    "start_time": "2022-02-25T18:29:04.897Z"
   },
   {
    "duration": 4,
    "start_time": "2022-02-25T18:29:06.363Z"
   },
   {
    "duration": 57,
    "start_time": "2022-02-25T18:29:06.370Z"
   },
   {
    "duration": 32,
    "start_time": "2022-02-25T18:29:06.429Z"
   },
   {
    "duration": 15,
    "start_time": "2022-02-25T18:29:06.464Z"
   },
   {
    "duration": 30,
    "start_time": "2022-02-25T18:29:06.482Z"
   },
   {
    "duration": 33,
    "start_time": "2022-02-25T18:29:06.514Z"
   },
   {
    "duration": 6,
    "start_time": "2022-02-25T18:29:06.551Z"
   },
   {
    "duration": 13,
    "start_time": "2022-02-25T18:29:06.560Z"
   },
   {
    "duration": 323,
    "start_time": "2022-02-25T18:29:06.576Z"
   },
   {
    "duration": 11,
    "start_time": "2022-02-25T18:29:06.901Z"
   },
   {
    "duration": 9,
    "start_time": "2022-02-25T18:29:06.914Z"
   },
   {
    "duration": 8,
    "start_time": "2022-02-25T18:29:06.925Z"
   },
   {
    "duration": 15,
    "start_time": "2022-02-25T18:29:06.935Z"
   },
   {
    "duration": 11,
    "start_time": "2022-02-25T18:29:06.952Z"
   },
   {
    "duration": 47,
    "start_time": "2022-02-25T18:29:06.966Z"
   },
   {
    "duration": 24,
    "start_time": "2022-02-25T18:29:07.016Z"
   },
   {
    "duration": 498,
    "start_time": "2022-02-25T18:29:07.043Z"
   },
   {
    "duration": 11,
    "start_time": "2022-02-25T18:29:07.544Z"
   },
   {
    "duration": 57,
    "start_time": "2022-02-25T18:29:07.557Z"
   },
   {
    "duration": 698,
    "start_time": "2022-02-25T18:29:07.617Z"
   },
   {
    "duration": 417,
    "start_time": "2022-02-25T18:29:08.319Z"
   },
   {
    "duration": 7,
    "start_time": "2022-02-25T18:29:08.741Z"
   },
   {
    "duration": 423,
    "start_time": "2022-02-25T18:29:08.751Z"
   },
   {
    "duration": 4,
    "start_time": "2022-02-25T18:29:09.177Z"
   },
   {
    "duration": 892,
    "start_time": "2022-02-25T18:29:09.184Z"
   },
   {
    "duration": 958,
    "start_time": "2022-02-25T18:29:10.078Z"
   },
   {
    "duration": 793,
    "start_time": "2022-02-25T18:29:11.038Z"
   },
   {
    "duration": 7,
    "start_time": "2022-02-25T18:29:11.833Z"
   },
   {
    "duration": 5,
    "start_time": "2022-02-25T18:29:11.842Z"
   },
   {
    "duration": 380,
    "start_time": "2022-02-25T18:29:11.850Z"
   },
   {
    "duration": 533,
    "start_time": "2022-02-25T18:29:12.232Z"
   },
   {
    "duration": 5,
    "start_time": "2022-02-25T18:29:12.767Z"
   },
   {
    "duration": 579,
    "start_time": "2022-02-25T18:29:12.774Z"
   },
   {
    "duration": 690,
    "start_time": "2022-02-25T18:29:13.356Z"
   },
   {
    "duration": 581,
    "start_time": "2022-02-25T18:29:14.049Z"
   },
   {
    "duration": 3,
    "start_time": "2022-02-25T18:29:14.632Z"
   },
   {
    "duration": 19,
    "start_time": "2022-02-25T18:29:14.637Z"
   },
   {
    "duration": 51,
    "start_time": "2022-02-25T18:29:14.659Z"
   }
  ],
  "kernelspec": {
   "display_name": "Python 3 (ipykernel)",
   "language": "python",
   "name": "python3"
  },
  "language_info": {
   "codemirror_mode": {
    "name": "ipython",
    "version": 3
   },
   "file_extension": ".py",
   "mimetype": "text/x-python",
   "name": "python",
   "nbconvert_exporter": "python",
   "pygments_lexer": "ipython3",
   "version": "3.9.5"
  },
  "toc": {
   "base_numbering": 1,
   "nav_menu": {},
   "number_sections": true,
   "sideBar": true,
   "skip_h1_title": true,
   "title_cell": "Table of Contents",
   "title_sidebar": "Contents",
   "toc_cell": false,
   "toc_position": {
    "height": "calc(100% - 180px)",
    "left": "10px",
    "top": "150px",
    "width": "255.594px"
   },
   "toc_section_display": true,
   "toc_window_display": false
  }
 },
 "nbformat": 4,
 "nbformat_minor": 2
}
